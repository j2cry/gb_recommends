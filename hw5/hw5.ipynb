{
 "cells": [
  {
   "cell_type": "markdown",
   "metadata": {
    "collapsed": false,
    "pycharm": {
     "name": "#%% md\n"
    }
   },
   "source": [
    "Q: В чем принципиальное отличие гибридных рекомендательных систем от коллаборативной филтьтрации? Приведите 2-3 примера задач, в которых необходимо использовать гибридные системы.\n",
    "\n",
    "A: Поскольку коллаборативная фильтрация основана на матричной факторизации, она учитывает только реальные user-item взаимодействия (купил/не купил), игнорируя остальные доступные параметры (бренды товаров, время совершения покупки, частота покупок, возраст пользователей, их социальный статус, etc). В связи с этим возникает проблема \"холодного старта\": выдачи рекомендаций новым или мало активным пользователям, а также рекомендация новых товаров. И в предыдущих работах этого курса можно заметить, что некоторые алгоритмы выдают меньше предсказаний, чем необходимо. Гибридная рекомендательная система решает эти проблемы."
   ]
  },
  {
   "cell_type": "markdown",
   "metadata": {
    "collapsed": false,
    "pycharm": {
     "name": "#%% md\n"
    }
   },
   "source": [
    "Q: Прочитайте статью про поиск на hh.ru https://habr.com/ru/company/hh/blog/347276/ Нам интересна именно рекомендательная система, раздел “Производительность системы” можно пропустить Какие основные отличия предложенной системы от тех подходов, которые мы разбирали на семинарах? Какие проблемы могут возникнуть при выводе такой модели в продакшен?\n",
    "\n",
    "A: Описанная рекомендательная система HH состоит (в общем виде) из 4-х элементов (см. рис. Схема работы рекомендательной системы). На вебинарах мы рассматривали состоящие только из 2-х (ALS similar-user + item-item). К сожалению, в статье нет подробного описания работы каждого этапа моделирования, но в качестве примера сложностей в продакшене предположу следующее: эвристический фильтр на 2-х признаках и фльтрующая модель 1 - на 4-х - работают, скорее всего быстро, но насколько качественно - вопрос. Также не очень понятно, как решается проблема индексации и генерации признаков для неполных или некорректно заполненных вакансий/резюме."
   ]
  },
  {
   "cell_type": "markdown",
   "metadata": {
    "collapsed": false,
    "pycharm": {
     "name": "#%% md\n"
    }
   },
   "source": [
    "Q: На вебинаре мы рассматривали модель LightFM (https://making.lyst.com/lightfm/docs/lightfm.html). В работе Data Scientist’а важную часть занимает research - исследование существующих архитектур и разбор научных статей, в которых они описываются. Вам предлагается изчуть оригинальную статью про LightFM https://arxiv.org/pdf/1507.08439.pdf и ответить на следующие вопросы:\n",
    "1) Какой датасет используют авторы?\n",
    "2) Что используют в качестве признаков?\n",
    "3) С какими моделями сравнивают LightFM? Опишите их основные идеи кратко\n",
    "\n",
    "A: \n",
    "1) Автор использует два датасета:\n",
    "\tMovieLens: ~10млн оценок фильмов выставленных 71,5к пользователями по 10,6к фильмам\n",
    "\tCrossValidated: Q&A датасет из 44,2к вопросов, 1032 уникальных тегов, 188,8к ответов и комментариев, оставленных 5,9к пользователями.\n",
    "\n",
    "2) Эксперимент с LightFM в статье разделен на три сегмента по набору обрабатываемых фичей:\n",
    "\tВ первом в качестве фичей используются только теги фильмов для 1го датасетя, вопросов - для 2го.\n",
    "\tВо втором - теги и данные по взаимодействияс с товарами.\n",
    "\tВ третьем используются теги и информация о пользователях.\n",
    "    В первых двух вариантах информация о пользователях представлена только матрицей взаимодействий.\n",
    "\n",
    "3) Автор сравнивает LightFM с обычной матричной факторизацией (MF) и двумя усложненными моделями: LSI-LR, LSI-UP\n",
    "LSI-LR: модель на основе контента, с помощью латентно-семантического анализа сегментирует items, выделяя тематики; объекты представляет как линейные комбинации тематик. Затем для каждого пользователя строится логистическая регрессия, определяющаяя для него пространство тематик.\n",
    "\n",
    "LSI-UP: гибридная модель, представляющая профили пользователей в виде линейных комбинаций векторов товаров. Для получения представлений пользователей и товаров использует матричную факторизацию. Насколько понимаю, это сингулярное разложение с добавленной user-сегментацией.\n",
    "\n",
    "LightFM включает в себя преимущества как MF, так и CB моделей. В частности когда обучающие данные не содержат фичей товаров/пользователей, LightFM работает как обычная матричная факторизация. Если же имеются пересекающиеся метаданные (т.е. относящиеся к более чем одному пользователю/товару), LightFM на их основе пересчитывает эмбеддинги, что позволяет обеспечить предсказания на холодном старте.\n",
    "Также, в большинстве случаев, количество метаданных значительно ниже, чем кол-во пользователей/товаров, что снижает риск переобучения.\n"
   ]
  },
  {
   "cell_type": "markdown",
   "metadata": {
    "collapsed": false,
    "pycharm": {
     "name": "#%% md\n"
    }
   },
   "source": [
    "# practice"
   ]
  },
  {
   "cell_type": "code",
   "execution_count": 1,
   "metadata": {
    "collapsed": false,
    "pycharm": {
     "name": "#%%\n"
    }
   },
   "outputs": [],
   "source": [
    "import pandas as pd\n",
    "import numpy as np\n",
    "import matplotlib.pyplot as plt\n",
    "\n",
    "from scipy.sparse import csr_matrix, coo_matrix\n",
    "from implicit.nearest_neighbours import bm25_weight\n",
    "\n",
    "from lightfm import LightFM\n",
    "from lightfm.evaluation import precision_at_k, recall_at_k\n",
    "\n",
    "from additional import DataProcessor\n",
    "from functools import partial\n",
    "from sklearn.preprocessing import StandardScaler, normalize\n",
    "\n",
    "from hyperopt import hp, fmin, tpe\n",
    "import json"
   ]
  },
  {
   "cell_type": "markdown",
   "metadata": {
    "collapsed": false,
    "pycharm": {
     "name": "#%% md\n"
    }
   },
   "source": [
    "## load & split"
   ]
  },
  {
   "cell_type": "code",
   "execution_count": 2,
   "metadata": {
    "collapsed": false,
    "pycharm": {
     "name": "#%%\n"
    }
   },
   "outputs": [],
   "source": [
    "# load purchases\n",
    "purchases = pd.read_csv('retail_train.csv')\n",
    "\n",
    "# train/test split\n",
    "test_size_weeks = 3\n",
    "train = purchases[purchases['week_no'] < purchases['week_no'].max() - test_size_weeks].copy()\n",
    "test = purchases[purchases['week_no'] >= purchases['week_no'].max() - test_size_weeks].copy()"
   ]
  },
  {
   "cell_type": "markdown",
   "metadata": {},
   "source": [
    "EDA в отдельном блокноте"
   ]
  },
  {
   "cell_type": "markdown",
   "metadata": {
    "collapsed": false,
    "pycharm": {
     "name": "#%% md\n"
    }
   },
   "source": [
    "## prepare dataset"
   ]
  },
  {
   "cell_type": "markdown",
   "metadata": {
    "collapsed": false,
    "pycharm": {
     "name": "#%% md\n"
    }
   },
   "source": [
    "подготовим параметры обработки датасета:\n",
    "* defaults: на основе кол-ва проданных товаров\n",
    "* mix_feat: на комбинации стоимости и кол-ва проданных товаров"
   ]
  },
  {
   "cell_type": "code",
   "execution_count": 3,
   "metadata": {
    "collapsed": false,
    "pycharm": {
     "name": "#%%\n"
    }
   },
   "outputs": [],
   "source": [
    "mix_feat_params = {\n",
    "    'top_config': {'fields': ['quantity', 'sales_value'],\n",
    "                   'beta': [1., 1.],\n",
    "                   'k': 5000,\n",
    "                   'scaler': StandardScaler},\n",
    "    'uim_config': {'aggfunc': 'sum',\n",
    "                #    'weights': bm25_weight\n",
    "                   },\n",
    "}\n",
    "\n",
    "defaults_params = {\n",
    "    'top_config': {'fields': ['quantity'],\n",
    "                   'k': 5000},\n",
    "    'uim_config': {'aggfunc': 'count',\n",
    "    #             #    'weights': bm25_weight\n",
    "                   },\n",
    "}"
   ]
  },
  {
   "cell_type": "code",
   "execution_count": 4,
   "metadata": {
    "collapsed": false,
    "pycharm": {
     "name": "#%%\n"
    }
   },
   "outputs": [],
   "source": [
    "# создаем хранилище обучающих и валидационных данных\n",
    "preparer = DataProcessor(train, test, **mix_feat_params)\n",
    "preparer.fit()"
   ]
  },
  {
   "cell_type": "markdown",
   "metadata": {
    "collapsed": false,
    "pycharm": {
     "name": "#%% md\n"
    }
   },
   "source": [
    "## Item featuring"
   ]
  },
  {
   "cell_type": "code",
   "execution_count": 72,
   "metadata": {
    "collapsed": false,
    "pycharm": {
     "name": "#%%\n"
    }
   },
   "outputs": [],
   "source": [
    "# load items data\n",
    "item_data = pd.read_csv('product.csv')\n",
    "item_data.columns = item_data.columns.str.lower()\n",
    "item_data.rename(columns={'product_id': 'item_id'}, inplace=True)\n",
    "\n",
    "# drop columns\n",
    "# много информации - тоже плохо\n",
    "# уберем инфу о весе - она интуитивно неинформативна и commodity_desc как промежуточную категорию - в датасете есть department и sub_commodity_desc\n",
    "keep_cols = ['item_id', 'manufacturer', 'sub_commodity_desc', 'department', 'brand']\n",
    "# keep_cols = ['item_id', 'manufacturer', 'sub_commodity_desc']\n",
    "item_data = item_data[keep_cols]"
   ]
  },
  {
   "cell_type": "code",
   "execution_count": 73,
   "metadata": {},
   "outputs": [],
   "source": [
    "# day rate\n",
    "day_rate = (purchases.groupby('item_id')['day'].nunique() / purchases['day'].max()).rename('day_rate')\n",
    "everyday = day_rate > 0.7\n",
    "everyweek = ~everyday & (day_rate > 0.4)\n",
    "day_rate[everyday] = 'everyday'\n",
    "day_rate[everyweek] = 'everyweek'\n",
    "day_rate[~everyday & ~everyweek] = 'episodic'\n",
    "item_data = item_data.merge(day_rate, on='item_id', how='left').fillna('unknown')"
   ]
  },
  {
   "cell_type": "code",
   "execution_count": 74,
   "metadata": {},
   "outputs": [],
   "source": [
    "# dummy\n",
    "item_features = pd.DataFrame(preparer.train_uim.columns)\n",
    "item_features = item_features.merge(item_data, on='item_id', how='left')\n",
    "item_features.set_index('item_id', inplace=True)\n",
    "item_features = pd.get_dummies(item_features, columns=item_features.columns.tolist())\n",
    "# del item_data"
   ]
  },
  {
   "cell_type": "code",
   "execution_count": 71,
   "metadata": {},
   "outputs": [],
   "source": [
    "# item_features"
   ]
  },
  {
   "cell_type": "markdown",
   "metadata": {
    "collapsed": false,
    "pycharm": {
     "name": "#%% md\n"
    }
   },
   "source": [
    "## User featuring"
   ]
  },
  {
   "cell_type": "code",
   "execution_count": 78,
   "metadata": {},
   "outputs": [],
   "source": [
    "# Загружаем user features, их подготовка - в одноименном блокноте\n",
    "user_data = pd.read_csv('user_features_corrected.csv')\n",
    "user_features = pd.DataFrame(preparer.train_uim.index)\n",
    "user_features = user_features.merge(user_data, on='user_id', how='left').fillna(0)\n",
    "user_features.set_index('user_id', inplace=True)\n",
    "\n",
    "# get features' columns\n",
    "# age = user_data.columns[user_data.columns.str.match('age')].to_list()\n",
    "# marital = user_data.columns[user_data.columns.str.match('marital')].to_list()\n",
    "# income = user_data.columns[user_data.columns.str.match('income')].to_list()\n",
    "# homeowner = user_data.columns[user_data.columns.str.match('homeowner')].to_list()\n",
    "# single = user_data.columns[user_data.columns.str.match('single')].to_list()\n",
    "# size = user_data.columns[user_data.columns.str.match('hh_size')].to_list()\n",
    "# kids = user_data.columns[user_data.columns.str.match('kids')].to_list()\n",
    "\n",
    "# drop/reorder features\n",
    "# user_features.drop(columns=[*homeowner], inplace=True)\n",
    "# user_features = user_features[[*income, *marital, *size, *single, *kids]]\n",
    "# user_features = user_features[[*single,]]\n",
    "\n",
    "# del user_data"
   ]
  },
  {
   "cell_type": "code",
   "execution_count": 75,
   "metadata": {},
   "outputs": [],
   "source": [
    "# user_features"
   ]
  },
  {
   "cell_type": "markdown",
   "metadata": {
    "collapsed": false,
    "pycharm": {
     "name": "#%% md\n"
    }
   },
   "source": [
    "## LightFM"
   ]
  },
  {
   "cell_type": "code",
   "execution_count": 79,
   "metadata": {
    "collapsed": false,
    "pycharm": {
     "name": "#%%\n"
    }
   },
   "outputs": [
    {
     "name": "stdout",
     "output_type": "stream",
     "text": [
      "Train pr@5: 0.4638844430446625\n",
      "Test pr@5: 0.005668016616255045\n"
     ]
    }
   ],
   "source": [
    "# baseline params\n",
    "model_params = {\n",
    "    'no_components': 10,\n",
    "    'learning_rate': 0.1,\n",
    "    'item_alpha': 0.1,\n",
    "    'user_alpha': 0.1,\n",
    "}\n",
    "\n",
    "# model_params = {'item_alpha': 0.3287994931319685,\n",
    "#   'learning_rate': 0.3363875657163716,\n",
    "#   'no_components': 17,\n",
    "#   'user_alpha': 0.3221301625247978}\n",
    "\n",
    "model = LightFM(loss='warp', # 'bpr'\n",
    "                random_state=42,\n",
    "                **model_params)\n",
    "\n",
    "model.fit((preparer.train_uim_sparse > 0) * 1,  # user-item matrix из 0 и 1\n",
    "          sample_weight=coo_matrix(preparer.train_uim_weighted),\n",
    "          user_features=csr_matrix(user_features.values).tocsr(),\n",
    "          item_features=csr_matrix(item_features.values).tocsr(),\n",
    "          epochs=10)\n",
    "\n",
    "train_pr = precision_at_k(model, preparer.train_uim_weighted, k=5,\n",
    "                          user_features=csr_matrix(user_features.values),\n",
    "                          item_features=csr_matrix(item_features.values)\n",
    "                          ).mean()\n",
    "\n",
    "test_pr = precision_at_k(model, preparer.test_uim_weighted, k=5,\n",
    "                         user_features=csr_matrix(user_features.values).tocsr(),\n",
    "                         item_features=csr_matrix(item_features.values).tocsr()\n",
    "                         ).mean()\n",
    "\n",
    "print(f'Train pr@5: {train_pr}', f'Test pr@5: {test_pr}', sep='\\n')"
   ]
  },
  {
   "cell_type": "code",
   "execution_count": 8,
   "metadata": {
    "collapsed": false,
    "pycharm": {
     "name": "#%%\n"
    }
   },
   "outputs": [],
   "source": [
    "# item_index = np.arange(preparer.train_uim.columns.size)\n",
    "# predictions = model.predict(user_ids=6, item_ids=item_index,\n",
    "#                             user_features=csr_matrix(user_features.values).tocsr(),\n",
    "#                             item_features=csr_matrix(item_features.values).tocsr(),\n",
    "#                             num_threads=4)"
   ]
  },
  {
   "cell_type": "markdown",
   "metadata": {},
   "source": [
    "## hyperopt"
   ]
  },
  {
   "cell_type": "code",
   "execution_count": 81,
   "metadata": {},
   "outputs": [],
   "source": [
    "hopt_history = [{},]\n",
    "hopt_metrics = [0,]\n",
    "\n",
    "# define objective function\n",
    "def objective(params):\n",
    "    model = LightFM(**params, loss='warp', random_state=42)\n",
    "\n",
    "    model.fit((preparer.train_uim_sparse > 0) * 1,  # user-item matrix из 0 и 1\n",
    "            sample_weight=coo_matrix(preparer.train_uim_weighted),\n",
    "            user_features=csr_matrix(user_features.values).tocsr(),\n",
    "            item_features=csr_matrix(item_features.values).tocsr(),\n",
    "            epochs=10)\n",
    "\n",
    "    _pr = precision_at_k(model, preparer.test_uim_sparse, k=5,\n",
    "                         user_features=csr_matrix(user_features.values).tocsr(),\n",
    "                         item_features=csr_matrix(item_features.values).tocsr()).mean()\n",
    "    hopt_history.append(params)\n",
    "    hopt_metrics.append(_pr)    \n",
    "    return 1 / _pr if _pr else np.inf"
   ]
  },
  {
   "cell_type": "code",
   "execution_count": 83,
   "metadata": {},
   "outputs": [],
   "source": [
    "# define a search space\n",
    "search_space = {'no_components': 5 + hp.randint('no_components', 95),\n",
    "                'learning_rate': hp.uniform('learning_rate', 1e-5, 0.4),\n",
    "                'item_alpha': hp.uniform('item_alpha', 0, 0.4),\n",
    "                'user_alpha': hp.uniform('user_alpha', 0, 0.4),\n",
    "                }\n",
    "\n",
    "static_params = {'loss': 'warp',\n",
    "                 'random_state': 42,\n",
    "                 }"
   ]
  },
  {
   "cell_type": "code",
   "execution_count": 11,
   "metadata": {},
   "outputs": [],
   "source": [
    "# %%time\n",
    "# # manual searching\n",
    "# best = fmin(objective, search_space, algo=tpe.suggest, max_evals=5)\n",
    "# best.update(static_params)\n",
    "# hopt_history[np.array(hopt_metrics).argmax()], max(hopt_metrics)\n",
    "# best"
   ]
  },
  {
   "cell_type": "code",
   "execution_count": 12,
   "metadata": {},
   "outputs": [],
   "source": [
    "# # manual save\n",
    "# saved_best = json.load(open('hypopt.json'))\n",
    "# params, metric = hopt_history[np.array(hopt_metrics).argmax()], max(hopt_metrics)\n",
    "# if metric > saved_best['metric']:\n",
    "#     saved_best = {'metric': float(metric), 'params': {k: float(v) for k, v in params.items()}}\n",
    "#     json.dump(saved_best, open('hypopt.json', 'w'))"
   ]
  },
  {
   "cell_type": "code",
   "execution_count": 84,
   "metadata": {},
   "outputs": [
    {
     "name": "stdout",
     "output_type": "stream",
     "text": [
      "100%|██████████| 5/5 [08:40<00:00, 104.12s/trial, best loss: 116.23529905905794]\n",
      "100%|██████████| 5/5 [15:29<00:00, 185.84s/trial, best loss: 167.45762747813833]\n",
      "100%|██████████| 5/5 [12:45<00:00, 153.13s/trial, best loss: 164.6666625260066]\n",
      "CPU times: user 35min 10s, sys: 8.8 s, total: 35min 19s\n",
      "Wall time: 36min 55s\n"
     ]
    },
    {
     "data": {
      "text/plain": [
       "{'metric': 0.01781376637518406,\n",
       " 'params': {'item_alpha': 0.240654265350158,\n",
       "  'learning_rate': 0.39007483696146655,\n",
       "  'no_components': 77.0,\n",
       "  'user_alpha': 0.22396680261691937}}"
      ]
     },
     "execution_count": 84,
     "metadata": {},
     "output_type": "execute_result"
    }
   ],
   "source": [
    "%%time\n",
    "# поиск в несколько подходов\n",
    "n_cycles = 3\n",
    "best_arr = []       # набор параметров, которые алгоритм счел лучшими\n",
    "\n",
    "saved_best = json.load(open('hypopt.json'))\n",
    "for _ in range(n_cycles):\n",
    "    try:\n",
    "        best = fmin(objective, search_space, algo=tpe.suggest, max_evals=5)\n",
    "    except ValueError:\n",
    "        pass\n",
    "    else:\n",
    "        best.update(static_params)\n",
    "        best_arr.append(best)\n",
    "\n",
    "    params, metric = hopt_history[np.array(hopt_metrics).argmax()], max(hopt_metrics)\n",
    "    if metric > saved_best['metric']:\n",
    "        saved_best = {'metric': float(metric), 'params': {k: float(v) for k, v in params.items()}}\n",
    "        json.dump(saved_best, open('hypopt.json', 'w'))\n",
    "\n",
    "saved_best"
   ]
  },
  {
   "cell_type": "markdown",
   "metadata": {},
   "source": [
    "baseline: 0.4366 / 0.0026\n",
    "\n",
    "warp baseline: 0.390 / 0.00587\n",
    "\n",
    "brp featured: 0.15 / 0.009"
   ]
  },
  {
   "cell_type": "markdown",
   "metadata": {},
   "source": []
  },
  {
   "cell_type": "code",
   "execution_count": null,
   "metadata": {
    "collapsed": false,
    "pycharm": {
     "name": "#%%\n"
    }
   },
   "outputs": [],
   "source": [
    "# "
   ]
  }
 ],
 "metadata": {
  "kernelspec": {
   "display_name": "Python 3",
   "language": "python",
   "name": "python3"
  },
  "language_info": {
   "codemirror_mode": {
    "name": "ipython",
    "version": 3
   },
   "file_extension": ".py",
   "mimetype": "text/x-python",
   "name": "python",
   "nbconvert_exporter": "python",
   "pygments_lexer": "ipython3",
   "version": "3.9.5"
  }
 },
 "nbformat": 4,
 "nbformat_minor": 0
}
