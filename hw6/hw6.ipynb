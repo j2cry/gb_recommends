{
 "cells": [
  {
   "cell_type": "code",
   "execution_count": 294,
   "outputs": [],
   "source": [
    "import numpy as np\n",
    "import pandas as pd\n",
    "import matplotlib.pyplot as plt\n",
    "\n",
    "from functools import partial\n",
    "from sklearn.preprocessing import StandardScaler\n",
    "from sklearn.metrics import precision_score\n",
    "from sklearn.pipeline import Pipeline\n",
    "from lightgbm import LGBMClassifier\n",
    "from xgboost import XGBClassifier\n",
    "\n",
    "from collections import Counter\n",
    "from datasplit import DataSplit\n",
    "from preprocess import DataPreprocessor\n",
    "from candidate_model import CandidateModel\n",
    "from metrics import precision_at_k, recall_at_k, ap_k, calc_mean_metric"
   ],
   "metadata": {
    "collapsed": false,
    "pycharm": {
     "name": "#%%\n"
    }
   }
  },
  {
   "cell_type": "markdown",
   "source": [
    "## load & split"
   ],
   "metadata": {
    "collapsed": false,
    "pycharm": {
     "name": "#%% md\n"
    }
   }
  },
  {
   "cell_type": "code",
   "execution_count": 181,
   "outputs": [],
   "source": [
    "purchases = pd.read_csv('retail_train.csv')\n",
    "\n",
    "# train/valid split\n",
    "splitter = DataSplit(purchases, 'week_no', [6, 4])\n",
    "\n",
    "train_lv1 = purchases[splitter.part0].copy()\n",
    "valid_lv1 = purchases[splitter.part1].copy()\n",
    "\n",
    "# leave only warm users\n",
    "train_users = train_lv1['user_id'].unique()\n",
    "warm_users = valid_lv1['user_id'].isin(train_users)\n",
    "train_lv2_base = valid_lv1.loc[warm_users, ['user_id', 'item_id']].copy()\n",
    "# train_lv2_base = valid_lv1.copy()       # warm & cold\n",
    "valid_lv2 = purchases[splitter.part2].copy()\n",
    "\n",
    "# prepare lv1 validation true values\n",
    "true_train_lv1 = train_lv1.groupby('user_id')['item_id'].unique().reset_index()\n",
    "true_train_lv1.columns=['user_id', 'actual']\n",
    "true_valid_lv1 = valid_lv1.groupby('user_id')['item_id'].unique().reset_index()\n",
    "true_valid_lv1.columns=['user_id', 'actual']"
   ],
   "metadata": {
    "collapsed": false,
    "pycharm": {
     "name": "#%%\n"
    }
   }
  },
  {
   "cell_type": "markdown",
   "source": [
    "## prepare data & fit candidate model"
   ],
   "metadata": {
    "collapsed": false,
    "pycharm": {
     "name": "#%% md\n"
    }
   }
  },
  {
   "cell_type": "code",
   "execution_count": 182,
   "outputs": [],
   "source": [
    "mix_feat_params = {\n",
    "    'top_config': {'fields': ['quantity', 'sales_value'],\n",
    "                   'beta': [1., 1.],\n",
    "                   'k': 5000,\n",
    "                   'scaler': StandardScaler\n",
    "                    },\n",
    "    'uim_config': {'aggfunc': 'sum',\n",
    "                   # 'weights': tfidf_weight\n",
    "                   },\n",
    "}\n",
    "\n",
    "pre = DataPreprocessor(train_lv1, valid_lv1, **mix_feat_params)\n",
    "pre.fit()"
   ],
   "metadata": {
    "collapsed": false,
    "pycharm": {
     "name": "#%%\n"
    }
   }
  },
  {
   "cell_type": "code",
   "execution_count": 183,
   "outputs": [
    {
     "data": {
      "text/plain": "(0.24309811427640554, 0.18430627660815352)"
     },
     "execution_count": 183,
     "metadata": {},
     "output_type": "execute_result"
    }
   ],
   "source": [
    "candidate_params = {\n",
    "    'train': pre.train_uim_sparse,\n",
    "    'weighted': pre.train_uim_weighted,\n",
    "    'top_items': pre.top_k_items,\n",
    "    'placeholder_id': pre.placeholder_id,\n",
    "    'idx_to_item': pre.idx_to_item,\n",
    "    'item_to_idx': pre.item_to_idx,\n",
    "    'user_to_idx': pre.user_to_idx\n",
    "}\n",
    "n_candidates = 70\n",
    "cm = CandidateModel('BM25', **candidate_params)\n",
    "cm.fit(K=1)\n",
    "train_candidates = cm.predict(true_train_lv1['user_id'], N=n_candidates)\n",
    "valid_candidates = cm.predict(true_valid_lv1['user_id'], N=n_candidates)\n",
    "recall_lv1_train = calc_mean_metric(recall_at_k, true_train_lv1['actual'], train_candidates, k=n_candidates)\n",
    "recall_lv1_valid = calc_mean_metric(recall_at_k, true_valid_lv1['actual'], valid_candidates, k=n_candidates)\n",
    "recall_lv1_train, recall_lv1_valid"
   ],
   "metadata": {
    "collapsed": false,
    "pycharm": {
     "name": "#%%\n"
    }
   }
  },
  {
   "cell_type": "markdown",
   "source": [
    "## prepare data for lv2 model"
   ],
   "metadata": {
    "collapsed": false,
    "pycharm": {
     "name": "#%% md\n"
    }
   }
  },
  {
   "cell_type": "code",
   "execution_count": 184,
   "outputs": [],
   "source": [
    "# markup candidates\n",
    "candidates = pd.DataFrame.from_dict(valid_candidates.to_dict(), orient='index').set_index(true_valid_lv1['user_id'])\n",
    "candidates = candidates.stack().reset_index(level=1, drop=True).rename('item_id').reset_index()\n",
    "\n",
    "# merge candidates with real items\n",
    "target_lv2 = train_lv2_base[['user_id', 'item_id']].copy()\n",
    "target_lv2['target'] = 1      # flag means this item was really bought\n",
    "data_lv2 = candidates.merge(target_lv2, on=['user_id', 'item_id'], how='left').fillna(0)\n",
    "train_lv2_empty = data_lv2.drop(columns='target')"
   ],
   "metadata": {
    "collapsed": false,
    "pycharm": {
     "name": "#%%\n"
    }
   }
  },
  {
   "cell_type": "code",
   "execution_count": 185,
   "outputs": [
    {
     "data": {
      "text/plain": "0.21866998361749893"
     },
     "execution_count": 185,
     "metadata": {},
     "output_type": "execute_result"
    }
   ],
   "source": [
    "# доля релевантных товаров среди кандидатов\n",
    "zeros, ones = data_lv2['target'].value_counts()\n",
    "ones / (ones + zeros)"
   ],
   "metadata": {
    "collapsed": false,
    "pycharm": {
     "name": "#%%\n"
    }
   }
  },
  {
   "cell_type": "markdown",
   "source": [
    "### feature engineering"
   ],
   "metadata": {
    "collapsed": false,
    "pycharm": {
     "name": "#%% md\n"
    }
   }
  },
  {
   "cell_type": "code",
   "execution_count": 186,
   "outputs": [],
   "source": [
    "# add some features\n",
    "# ...\n",
    "# make pipeline for valid lv2 preparation"
   ],
   "metadata": {
    "collapsed": false,
    "pycharm": {
     "name": "#%%\n"
    }
   }
  },
  {
   "cell_type": "code",
   "execution_count": 187,
   "outputs": [],
   "source": [
    "# load items data\n",
    "item_data = pd.read_csv('product.csv')\n",
    "item_data.columns = item_data.columns.str.lower()\n",
    "item_data.rename(columns={'product_id': 'item_id'}, inplace=True)\n",
    "item_data.drop(columns=['curr_size_of_product'], inplace=True)"
   ],
   "metadata": {
    "collapsed": false,
    "pycharm": {
     "name": "#%%\n"
    }
   }
  },
  {
   "cell_type": "code",
   "execution_count": 188,
   "outputs": [],
   "source": [
    "# load users data\n",
    "user_data = pd.read_csv('hh_demographic.csv')\n",
    "user_data.columns = user_data.columns.str.lower()\n",
    "user_data.rename(columns={'household_key': 'user_id'}, inplace=True)\n",
    "# item_data.drop(columns=[], inplace=True)"
   ],
   "metadata": {
    "collapsed": false,
    "pycharm": {
     "name": "#%%\n"
    }
   }
  },
  {
   "cell_type": "code",
   "execution_count": 190,
   "outputs": [
    {
     "data": {
      "text/plain": "(164810, 14)"
     },
     "execution_count": 190,
     "metadata": {},
     "output_type": "execute_result"
    }
   ],
   "source": [
    "# featuring train dataset\n",
    "train_lv2 = train_lv2_empty.merge(item_data, on='item_id', how='left').fillna(0)\n",
    "train_lv2 = train_lv2.merge(user_data, on='user_id', how='left').fillna(0)\n",
    "categorical_feats = train_lv2.columns[2:]\n",
    "train_lv2[categorical_feats] = train_lv2[categorical_feats].astype('category')\n",
    "train_lv2.shape"
   ],
   "metadata": {
    "collapsed": false,
    "pycharm": {
     "name": "#%%\n"
    }
   }
  },
  {
   "cell_type": "code",
   "execution_count": 200,
   "outputs": [],
   "source": [
    "# user dummies - for XGBoost\n",
    "user_features = pd.read_csv('../hw5/user_features_corrected.csv')\n",
    "train_lv2 = train_lv2_empty.merge(user_features, on='user_id', how='left').fillna(0)"
   ],
   "metadata": {
    "collapsed": false,
    "pycharm": {
     "name": "#%%\n"
    }
   }
  },
  {
   "cell_type": "code",
   "execution_count": 201,
   "outputs": [
    {
     "data": {
      "text/plain": "((2154, 2), (2042, 2))"
     },
     "execution_count": 201,
     "metadata": {},
     "output_type": "execute_result"
    }
   ],
   "source": [
    "# prepare lv2 validation true values\n",
    "true_train_lv2 = train_lv2.groupby('user_id')['item_id'].unique().reset_index()\n",
    "true_train_lv2.columns=['user_id', 'actual']\n",
    "true_valid_lv2 = valid_lv2.groupby('user_id')['item_id'].unique().reset_index()\n",
    "true_valid_lv2.columns=['user_id', 'actual']\n",
    "true_train_lv2.shape, true_valid_lv2.shape"
   ],
   "metadata": {
    "collapsed": false,
    "pycharm": {
     "name": "#%%\n"
    }
   }
  },
  {
   "cell_type": "markdown",
   "source": [
    "## fit lv2 LGBM"
   ],
   "metadata": {
    "collapsed": false,
    "pycharm": {
     "name": "#%% md\n"
    }
   }
  },
  {
   "cell_type": "code",
   "execution_count": 292,
   "outputs": [
    {
     "data": {
      "text/plain": "(Counter({0.0: 163725, 1.0: 1085}),)"
     },
     "execution_count": 292,
     "metadata": {},
     "output_type": "execute_result"
    }
   ],
   "source": [
    "# model = LGBMClassifier(objective='binary', max_depth=6, categorical_column=categorical_feats)\n",
    "model = LGBMClassifier(max_depth=5, learning_rate=0.01,)\n",
    "model.fit(train_lv2, data_lv2['target'])\n",
    "\n",
    "train_preds = model.predict(train_lv2)\n",
    "# valid_preds = model.predict(valid_lv2)\n",
    "lgb_pr_train = precision_score(data_lv2['target'], train_preds)\n",
    "# lgb_pr_valid = precision_score(data_lv2['target'], valid_preds)\n",
    "\n",
    "Counter(train_preds), # Counter(valid_preds)"
   ],
   "metadata": {
    "collapsed": false,
    "pycharm": {
     "name": "#%%\n"
    }
   }
  },
  {
   "cell_type": "code",
   "execution_count": 293,
   "outputs": [
    {
     "data": {
      "text/plain": "(0.8327762302692666,)"
     },
     "execution_count": 293,
     "metadata": {},
     "output_type": "execute_result"
    }
   ],
   "source": [
    "# train proba\n",
    "proba = pd.Series(model.predict_proba(train_lv2).T[1], name='proba')\n",
    "ranked_predicts = pd.concat([train_lv2[['user_id', 'item_id']], proba], axis=1)\n",
    "ranked_candidates = candidates.merge(ranked_predicts, on=['user_id', 'item_id'], how='left')\n",
    "\n",
    "# collect recommends\n",
    "k = 5\n",
    "sorted_candidates = ranked_candidates.sort_values(by=['user_id', 'proba'], ascending=[True, False]).groupby('user_id').head(k)\n",
    "\n",
    "# this is for train\n",
    "recommends = sorted_candidates.groupby('user_id')['item_id'].unique()\n",
    "precision_train_lv2 = calc_mean_metric(precision_at_k, true_train_lv2['actual'], recommends.reset_index(drop=True), k=k)\n",
    "# precision_valid_lv2 = calc_mean_metric(precision_at_k, true_valid_lv2['actual'], recommends.reset_index(drop=True), k=k)\n",
    "\n",
    "precision_train_lv2,"
   ],
   "metadata": {
    "collapsed": false,
    "pycharm": {
     "name": "#%%\n"
    }
   }
  },
  {
   "cell_type": "code",
   "execution_count": null,
   "outputs": [],
   "source": [
    "# теперь валидация..."
   ],
   "metadata": {
    "collapsed": false,
    "pycharm": {
     "name": "#%%\n"
    }
   }
  },
  {
   "cell_type": "markdown",
   "source": [
    "## fit lv2 XGBoost"
   ],
   "metadata": {
    "collapsed": false,
    "pycharm": {
     "name": "#%% md\n"
    }
   }
  },
  {
   "cell_type": "code",
   "execution_count": 235,
   "outputs": [
    {
     "data": {
      "text/plain": "0.8071644568504304"
     },
     "execution_count": 235,
     "metadata": {},
     "output_type": "execute_result"
    }
   ],
   "source": [
    "model = XGBClassifier(max_depth=4, subsample=0.5, eta=0.1)\n",
    "model.fit(train_lv2, data_lv2['target'])\n",
    "\n",
    "precision_score(data_lv2['target'], model.predict(train_lv2))"
   ],
   "metadata": {
    "collapsed": false,
    "pycharm": {
     "name": "#%%\n"
    }
   }
  },
  {
   "cell_type": "code",
   "execution_count": 236,
   "outputs": [
    {
     "data": {
      "text/plain": "(0.8124419684308264,)"
     },
     "execution_count": 236,
     "metadata": {},
     "output_type": "execute_result"
    }
   ],
   "source": [
    "# train proba\n",
    "proba = pd.Series(model.predict_proba(train_lv2).T[1], name='proba')\n",
    "ranked_predicts = pd.concat([train_lv2[['user_id', 'item_id']], proba], axis=1)\n",
    "ranked_candidates = candidates.merge(ranked_predicts, on=['user_id', 'item_id'], how='left')\n",
    "\n",
    "# collect recommends\n",
    "k = 5\n",
    "sorted_candidates = ranked_candidates.sort_values(by=['user_id', 'proba'], ascending=[True, False]).groupby('user_id').head(k)\n",
    "\n",
    "# this is for train\n",
    "recommends = sorted_candidates.groupby('user_id')['item_id'].unique()\n",
    "precision_train_lv2 = calc_mean_metric(precision_at_k, true_train_lv2['actual'], recommends.reset_index(drop=True), k=k)\n",
    "# precision_valid_lv2 = calc_mean_metric(precision_at_k, true_valid_lv2['actual'], recommends.reset_index(drop=True), k=k)\n",
    "\n",
    "precision_train_lv2,"
   ],
   "metadata": {
    "collapsed": false,
    "pycharm": {
     "name": "#%%\n"
    }
   }
  },
  {
   "cell_type": "code",
   "execution_count": 237,
   "outputs": [],
   "source": [
    "#"
   ],
   "metadata": {
    "collapsed": false,
    "pycharm": {
     "name": "#%%\n"
    }
   }
  }
 ],
 "metadata": {
  "kernelspec": {
   "display_name": "Python 3",
   "language": "python",
   "name": "python3"
  },
  "language_info": {
   "codemirror_mode": {
    "name": "ipython",
    "version": 2
   },
   "file_extension": ".py",
   "mimetype": "text/x-python",
   "name": "python",
   "nbconvert_exporter": "python",
   "pygments_lexer": "ipython2",
   "version": "2.7.6"
  }
 },
 "nbformat": 4,
 "nbformat_minor": 0
}