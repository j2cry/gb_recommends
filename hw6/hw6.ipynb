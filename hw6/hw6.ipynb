{
 "cells": [
  {
   "cell_type": "code",
   "execution_count": 1,
   "outputs": [],
   "source": [
    "import numpy as np\n",
    "import pandas as pd\n",
    "import matplotlib.pyplot as plt\n",
    "\n",
    "from functools import partial\n",
    "from sklearn.preprocessing import StandardScaler\n",
    "\n",
    "from datasplit import DataSplit\n",
    "from preprocess import DataPreprocessor\n",
    "from candidate_model import CandidateModel\n",
    "from metrics import precision_at_k, recall_at_k, ap_k, calc_mean_metric"
   ],
   "metadata": {
    "collapsed": false,
    "pycharm": {
     "name": "#%%\n"
    }
   }
  },
  {
   "cell_type": "markdown",
   "source": [
    "## load & split"
   ],
   "metadata": {
    "collapsed": false,
    "pycharm": {
     "name": "#%% md\n"
    }
   }
  },
  {
   "cell_type": "code",
   "execution_count": 2,
   "outputs": [],
   "source": [
    "purchases = pd.read_csv('retail_train.csv')\n",
    "\n",
    "# train/valid split\n",
    "splitter = DataSplit(purchases, 'week_no', [6, 3])\n",
    "\n",
    "train_lv1 = purchases[splitter.part0].copy()\n",
    "valid_lv1 = purchases[splitter.part1].copy()\n",
    "train_lv2 = purchases[splitter.part1].copy()\n",
    "valid_lv2 = purchases[splitter.part2].copy()\n",
    "\n",
    "# prepare result DataFrame\n",
    "true_lv1 = valid_lv1.groupby('user_id')['item_id'].unique().reset_index()\n",
    "true_lv1.columns=['user_id', 'actual']\n",
    "# true_values.head(3)"
   ],
   "metadata": {
    "collapsed": false,
    "pycharm": {
     "name": "#%%\n"
    }
   }
  },
  {
   "cell_type": "code",
   "execution_count": 2,
   "outputs": [],
   "source": [],
   "metadata": {
    "collapsed": false,
    "pycharm": {
     "name": "#%%\n"
    }
   }
  },
  {
   "cell_type": "markdown",
   "source": [
    "## prepare data & fit candidate model"
   ],
   "metadata": {
    "collapsed": false,
    "pycharm": {
     "name": "#%% md\n"
    }
   }
  },
  {
   "cell_type": "code",
   "execution_count": 3,
   "outputs": [],
   "source": [
    "mix_feat_params = {\n",
    "    'top_config': {'fields': ['quantity', 'sales_value'],\n",
    "                   'beta': [1., 1.],\n",
    "                   'k': 5000,\n",
    "                   'scaler': StandardScaler\n",
    "                    },\n",
    "    'uim_config': {'aggfunc': 'sum',\n",
    "                   # 'weights': tfidf_weight\n",
    "                   },\n",
    "}\n",
    "\n",
    "pre = DataPreprocessor(train_lv1, valid_lv1, **mix_feat_params)\n",
    "pre.fit()"
   ],
   "metadata": {
    "collapsed": false,
    "pycharm": {
     "name": "#%%\n"
    }
   }
  },
  {
   "cell_type": "code",
   "execution_count": 10,
   "outputs": [
    {
     "data": {
      "text/plain": "0.11519221861973136"
     },
     "execution_count": 10,
     "metadata": {},
     "output_type": "execute_result"
    }
   ],
   "source": [
    "candidate_params = {\n",
    "    'train': pre.train_uim_sparse,\n",
    "    'weighted': pre.train_uim_weighted,\n",
    "    'top_items': pre.top_k_items,\n",
    "    'placeholder_id': pre.placeholder_id,\n",
    "    'idx_to_item': pre.idx_to_item,\n",
    "    'item_to_idx': pre.item_to_idx,\n",
    "    'user_to_idx': pre.user_to_idx\n",
    "}\n",
    "n_candidates = 60\n",
    "cm = CandidateModel('TFIDF', **candidate_params)\n",
    "cm.fit(K=1)     # TFIDF own recommender\n",
    "predicts = cm.predict(true_lv1['user_id'], N=n_candidates)\n",
    "calc_mean_metric(recall_at_k, true_lv1['actual'], predicts, k=n_candidates)"
   ],
   "metadata": {
    "collapsed": false,
    "pycharm": {
     "name": "#%%\n"
    }
   }
  },
  {
   "cell_type": "code",
   "execution_count": null,
   "outputs": [],
   "source": [],
   "metadata": {
    "collapsed": false,
    "pycharm": {
     "name": "#%%\n"
    }
   }
  }
 ],
 "metadata": {
  "kernelspec": {
   "display_name": "Python 3",
   "language": "python",
   "name": "python3"
  },
  "language_info": {
   "codemirror_mode": {
    "name": "ipython",
    "version": 2
   },
   "file_extension": ".py",
   "mimetype": "text/x-python",
   "name": "python",
   "nbconvert_exporter": "python",
   "pygments_lexer": "ipython2",
   "version": "2.7.6"
  }
 },
 "nbformat": 4,
 "nbformat_minor": 0
}