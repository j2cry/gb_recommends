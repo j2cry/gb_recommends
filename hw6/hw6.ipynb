{
 "cells": [
  {
   "cell_type": "code",
   "execution_count": 111,
   "outputs": [],
   "source": [
    "import numpy as np\n",
    "import pandas as pd\n",
    "import matplotlib.pyplot as plt\n",
    "\n",
    "from functools import partial\n",
    "from sklearn.preprocessing import StandardScaler\n",
    "from sklearn.metrics import precision_score\n",
    "from lightgbm import LGBMClassifier\n",
    "\n",
    "from datasplit import DataSplit\n",
    "from preprocess import DataPreprocessor\n",
    "from candidate_model import CandidateModel\n",
    "from metrics import precision_at_k, recall_at_k, ap_k, calc_mean_metric"
   ],
   "metadata": {
    "collapsed": false,
    "pycharm": {
     "name": "#%%\n"
    }
   }
  },
  {
   "cell_type": "markdown",
   "source": [
    "## load & split"
   ],
   "metadata": {
    "collapsed": false,
    "pycharm": {
     "name": "#%% md\n"
    }
   }
  },
  {
   "cell_type": "code",
   "execution_count": 186,
   "outputs": [],
   "source": [
    "purchases = pd.read_csv('retail_train.csv')\n",
    "\n",
    "# train/valid split\n",
    "splitter = DataSplit(purchases, 'week_no', [6, 3])\n",
    "\n",
    "train_lv1 = purchases[splitter.part0].copy()\n",
    "valid_lv1 = purchases[splitter.part1].copy()\n",
    "\n",
    "# leave only warm users\n",
    "# train_users = train_lv1['user_id'].unique()\n",
    "# warm_users = valid_lv1['user_id'].isin(train_users)\n",
    "# train_lv2_base = valid_lv1.loc[warm_users, ['user_id', 'item_id']].copy()\n",
    "train_lv2_base = valid_lv1.copy()       # warm & cold\n",
    "valid_lv2 = purchases[splitter.part2].copy()\n",
    "\n",
    "# prepare true values\n",
    "true_lv1 = valid_lv1.groupby('user_id')['item_id'].unique().reset_index()\n",
    "true_lv1.columns=['user_id', 'actual']"
   ],
   "metadata": {
    "collapsed": false,
    "pycharm": {
     "name": "#%%\n"
    }
   }
  },
  {
   "cell_type": "code",
   "execution_count": 187,
   "outputs": [],
   "source": [
    "# load & prepare products info\n",
    "item_features = pd.read_csv('product.csv')\n",
    "item_features.columns = item_features.columns.str.lower()\n",
    "item_features.rename(columns={'product_id': 'item_id'}, inplace=True)\n",
    "\n",
    "# # load & prepare users info\n",
    "# user_features = pd.read_csv('hh_demographic.csv')\n",
    "# user_features.columns = user_features.columns.str.lower()\n",
    "# user_features.rename(columns={'household_key': 'user_id'}, inplace=True)"
   ],
   "metadata": {
    "collapsed": false,
    "pycharm": {
     "name": "#%%\n"
    }
   }
  },
  {
   "cell_type": "markdown",
   "source": [
    "## prepare data & fit candidate model"
   ],
   "metadata": {
    "collapsed": false,
    "pycharm": {
     "name": "#%% md\n"
    }
   }
  },
  {
   "cell_type": "code",
   "execution_count": 737,
   "outputs": [],
   "source": [
    "mix_feat_params = {\n",
    "    'top_config': {# 'fields': ['quantity', 'sales_value'],\n",
    "                   # 'beta': [1., 1.],\n",
    "                   'k': 5000,\n",
    "                   # 'scaler': StandardScaler\n",
    "                    },\n",
    "    'uim_config': {# 'aggfunc': 'sum',\n",
    "                   # 'weights': tfidf_weight\n",
    "                   },\n",
    "}   # отказался от собственного решенения в этом моменте, чтобы не перегружать модель на ранних этапах\n",
    "\n",
    "pre = DataPreprocessor(train_lv1, valid_lv1, **mix_feat_params)\n",
    "pre.fit()"
   ],
   "metadata": {
    "collapsed": false,
    "pycharm": {
     "name": "#%%\n"
    }
   }
  },
  {
   "cell_type": "code",
   "execution_count": 773,
   "outputs": [
    {
     "data": {
      "text/plain": "0.1654474764453391"
     },
     "execution_count": 773,
     "metadata": {},
     "output_type": "execute_result"
    }
   ],
   "source": [
    "candidate_params = {\n",
    "    'train': pre.train_uim_sparse,\n",
    "    'weighted': pre.train_uim_weighted,\n",
    "    'top_items': pre.top_k_items,\n",
    "    'placeholder_id': pre.placeholder_id,\n",
    "    'idx_to_item': pre.idx_to_item,\n",
    "    'item_to_idx': pre.item_to_idx,\n",
    "    'user_to_idx': pre.user_to_idx\n",
    "}\n",
    "n_candidates = 50\n",
    "cm = CandidateModel('TFIDF', **candidate_params)\n",
    "cm.fit(K=1)\n",
    "cand_predicts = cm.predict(true_lv1['user_id'], N=n_candidates)\n",
    "calc_mean_metric(recall_at_k, true_lv1['actual'], cand_predicts, k=n_candidates)"
   ],
   "metadata": {
    "collapsed": false,
    "pycharm": {
     "name": "#%%\n"
    }
   }
  },
  {
   "cell_type": "markdown",
   "source": [
    "## prepare data for lv2 model"
   ],
   "metadata": {
    "collapsed": false,
    "pycharm": {
     "name": "#%% md\n"
    }
   }
  },
  {
   "cell_type": "code",
   "execution_count": 774,
   "outputs": [],
   "source": [
    "# make pipeline"
   ],
   "metadata": {
    "collapsed": false,
    "pycharm": {
     "name": "#%%\n"
    }
   }
  },
  {
   "cell_type": "code",
   "execution_count": 775,
   "outputs": [],
   "source": [
    "# markup candidates\n",
    "candidates = pd.DataFrame.from_dict(cand_predicts.to_dict(), orient='index').set_index(true_lv1['user_id'])\n",
    "candidates = candidates.stack().reset_index(level=1, drop=True).rename('item_id').reset_index()\n",
    "\n",
    "# merge candidates with real items\n",
    "target_lv2 = train_lv2_base[['user_id', 'item_id']].drop_duplicates().copy()\n",
    "target_lv2['target'] = 1      # set flag means this item was really bought\n",
    "data_lv2 = candidates.merge(target_lv2, on=['user_id', 'item_id'], how='left').fillna(0)\n",
    "train_lv2_empty = data_lv2.drop(columns='target')\n",
    "true_lv2 = data_lv2['target']"
   ],
   "metadata": {
    "collapsed": false,
    "pycharm": {
     "name": "#%%\n"
    }
   }
  },
  {
   "cell_type": "code",
   "execution_count": 776,
   "outputs": [
    {
     "data": {
      "text/plain": "0.19384900416859657"
     },
     "execution_count": 776,
     "metadata": {},
     "output_type": "execute_result"
    }
   ],
   "source": [
    "# доля релевантных товаров среди кандидатов\n",
    "zeros, ones = data_lv2['target'].value_counts()\n",
    "ones / (ones + zeros)"
   ],
   "metadata": {
    "collapsed": false,
    "pycharm": {
     "name": "#%%\n"
    }
   }
  },
  {
   "cell_type": "code",
   "execution_count": 777,
   "outputs": [],
   "source": [
    "# add some features\n",
    "# ..."
   ],
   "metadata": {
    "collapsed": false,
    "pycharm": {
     "name": "#%%\n"
    }
   }
  },
  {
   "cell_type": "code",
   "execution_count": 792,
   "outputs": [],
   "source": [
    "# load items data\n",
    "item_data = pd.read_csv('product.csv')\n",
    "item_data.columns = item_data.columns.str.lower()\n",
    "item_data.rename(columns={'product_id': 'item_id'}, inplace=True)\n",
    "\n",
    "# keep_cols = ['item_id', 'manufacturer', 'sub_commodity_desc']\n",
    "keep_cols = ['item_id', 'department', 'manufacturer', 'brand']\n",
    "item_data = item_data[keep_cols]\n",
    "\n",
    "item_features = pd.DataFrame(pre.train_uim.columns)\n",
    "item_features = item_features.merge(item_data, on='item_id', how='left')\n",
    "item_features.set_index('item_id', inplace=True)\n",
    "item_features = pd.get_dummies(item_features, columns=item_features.columns.tolist())\n",
    "# del item_data"
   ],
   "metadata": {
    "collapsed": false,
    "pycharm": {
     "name": "#%%\n"
    }
   }
  },
  {
   "cell_type": "code",
   "execution_count": 792,
   "outputs": [],
   "source": [],
   "metadata": {
    "collapsed": false,
    "pycharm": {
     "name": "#%%\n"
    }
   }
  },
  {
   "cell_type": "code",
   "execution_count": 793,
   "outputs": [],
   "source": [
    "user_features = pd.read_csv('../hw5/user_features_corrected.csv')\n",
    "train_lv2 = train_lv2_empty.merge(user_features, on='user_id', how='left').fillna(0)\n",
    "train_lv2 = train_lv2.merge(item_features, on='item_id', how='left').fillna(0)"
   ],
   "metadata": {
    "collapsed": false,
    "pycharm": {
     "name": "#%%\n"
    }
   }
  },
  {
   "cell_type": "code",
   "execution_count": 794,
   "outputs": [
    {
     "data": {
      "text/plain": "   user_id  item_id  hh_comp  hh_size  kids  single_female  single_male  \\\n0        1   856942      2.0      2.0   0.0            0.0          0.0   \n1        1  1082185      2.0      2.0   0.0            0.0          0.0   \n2        1   995242      2.0      2.0   0.0            0.0          0.0   \n3        1  9527290      2.0      2.0   0.0            0.0          0.0   \n4        1   940947      2.0      2.0   0.0            0.0          0.0   \n\n   age_19-24  age_25-34  age_35-44  ...  manufacturer_5942.0  \\\n0        0.0        0.0        0.0  ...                    0   \n1        0.0        0.0        0.0  ...                    0   \n2        0.0        0.0        0.0  ...                    0   \n3        0.0        0.0        0.0  ...                    0   \n4        0.0        0.0        0.0  ...                    0   \n\n   manufacturer_5972.0  manufacturer_6009.0  manufacturer_6032.0  \\\n0                    0                    0                    0   \n1                    0                    0                    0   \n2                    0                    0                    0   \n3                    0                    0                    0   \n4                    0                    0                    0   \n\n   manufacturer_6046.0  manufacturer_6047.0  manufacturer_6082.0  \\\n0                    0                    0                    0   \n1                    0                    0                    0   \n2                    0                    0                    0   \n3                    0                    0                    0   \n4                    0                    0                    0   \n\n   manufacturer_6331.0  brand_National  brand_Private  \n0                    0               1              0  \n1                    0               1              0  \n2                    0               0              1  \n3                    0               1              0  \n4                    0               1              0  \n\n[5 rows x 661 columns]",
      "text/html": "<div>\n<style scoped>\n    .dataframe tbody tr th:only-of-type {\n        vertical-align: middle;\n    }\n\n    .dataframe tbody tr th {\n        vertical-align: top;\n    }\n\n    .dataframe thead th {\n        text-align: right;\n    }\n</style>\n<table border=\"1\" class=\"dataframe\">\n  <thead>\n    <tr style=\"text-align: right;\">\n      <th></th>\n      <th>user_id</th>\n      <th>item_id</th>\n      <th>hh_comp</th>\n      <th>hh_size</th>\n      <th>kids</th>\n      <th>single_female</th>\n      <th>single_male</th>\n      <th>age_19-24</th>\n      <th>age_25-34</th>\n      <th>age_35-44</th>\n      <th>...</th>\n      <th>manufacturer_5942.0</th>\n      <th>manufacturer_5972.0</th>\n      <th>manufacturer_6009.0</th>\n      <th>manufacturer_6032.0</th>\n      <th>manufacturer_6046.0</th>\n      <th>manufacturer_6047.0</th>\n      <th>manufacturer_6082.0</th>\n      <th>manufacturer_6331.0</th>\n      <th>brand_National</th>\n      <th>brand_Private</th>\n    </tr>\n  </thead>\n  <tbody>\n    <tr>\n      <th>0</th>\n      <td>1</td>\n      <td>856942</td>\n      <td>2.0</td>\n      <td>2.0</td>\n      <td>0.0</td>\n      <td>0.0</td>\n      <td>0.0</td>\n      <td>0.0</td>\n      <td>0.0</td>\n      <td>0.0</td>\n      <td>...</td>\n      <td>0</td>\n      <td>0</td>\n      <td>0</td>\n      <td>0</td>\n      <td>0</td>\n      <td>0</td>\n      <td>0</td>\n      <td>0</td>\n      <td>1</td>\n      <td>0</td>\n    </tr>\n    <tr>\n      <th>1</th>\n      <td>1</td>\n      <td>1082185</td>\n      <td>2.0</td>\n      <td>2.0</td>\n      <td>0.0</td>\n      <td>0.0</td>\n      <td>0.0</td>\n      <td>0.0</td>\n      <td>0.0</td>\n      <td>0.0</td>\n      <td>...</td>\n      <td>0</td>\n      <td>0</td>\n      <td>0</td>\n      <td>0</td>\n      <td>0</td>\n      <td>0</td>\n      <td>0</td>\n      <td>0</td>\n      <td>1</td>\n      <td>0</td>\n    </tr>\n    <tr>\n      <th>2</th>\n      <td>1</td>\n      <td>995242</td>\n      <td>2.0</td>\n      <td>2.0</td>\n      <td>0.0</td>\n      <td>0.0</td>\n      <td>0.0</td>\n      <td>0.0</td>\n      <td>0.0</td>\n      <td>0.0</td>\n      <td>...</td>\n      <td>0</td>\n      <td>0</td>\n      <td>0</td>\n      <td>0</td>\n      <td>0</td>\n      <td>0</td>\n      <td>0</td>\n      <td>0</td>\n      <td>0</td>\n      <td>1</td>\n    </tr>\n    <tr>\n      <th>3</th>\n      <td>1</td>\n      <td>9527290</td>\n      <td>2.0</td>\n      <td>2.0</td>\n      <td>0.0</td>\n      <td>0.0</td>\n      <td>0.0</td>\n      <td>0.0</td>\n      <td>0.0</td>\n      <td>0.0</td>\n      <td>...</td>\n      <td>0</td>\n      <td>0</td>\n      <td>0</td>\n      <td>0</td>\n      <td>0</td>\n      <td>0</td>\n      <td>0</td>\n      <td>0</td>\n      <td>1</td>\n      <td>0</td>\n    </tr>\n    <tr>\n      <th>4</th>\n      <td>1</td>\n      <td>940947</td>\n      <td>2.0</td>\n      <td>2.0</td>\n      <td>0.0</td>\n      <td>0.0</td>\n      <td>0.0</td>\n      <td>0.0</td>\n      <td>0.0</td>\n      <td>0.0</td>\n      <td>...</td>\n      <td>0</td>\n      <td>0</td>\n      <td>0</td>\n      <td>0</td>\n      <td>0</td>\n      <td>0</td>\n      <td>0</td>\n      <td>0</td>\n      <td>1</td>\n      <td>0</td>\n    </tr>\n  </tbody>\n</table>\n<p>5 rows × 661 columns</p>\n</div>"
     },
     "execution_count": 794,
     "metadata": {},
     "output_type": "execute_result"
    }
   ],
   "source": [
    "train_lv2.head()"
   ],
   "metadata": {
    "collapsed": false,
    "pycharm": {
     "name": "#%%\n"
    }
   }
  },
  {
   "cell_type": "markdown",
   "source": [
    "## fit lv2 model"
   ],
   "metadata": {
    "collapsed": false,
    "pycharm": {
     "name": "#%% md\n"
    }
   }
  },
  {
   "cell_type": "code",
   "execution_count": 795,
   "outputs": [
    {
     "data": {
      "text/plain": "0.7385534173855341"
     },
     "execution_count": 795,
     "metadata": {},
     "output_type": "execute_result"
    }
   ],
   "source": [
    "model = LGBMClassifier()\n",
    "model.fit(train_lv2, true_lv2)\n",
    "\n",
    "precision_score(true_lv2, model.predict(train_lv2))"
   ],
   "metadata": {
    "collapsed": false,
    "pycharm": {
     "name": "#%%\n"
    }
   }
  },
  {
   "cell_type": "code",
   "execution_count": 796,
   "outputs": [],
   "source": [
    "# train proba\n",
    "proba = pd.Series(model.predict_proba(train_lv2).T[1], name='proba')\n",
    "ranked_predicts = pd.concat([train_lv2[['user_id', 'item_id']], proba], axis=1)\n",
    "ranked_candidates = candidates.merge(ranked_predicts, on=['user_id', 'item_id'], how='left')\n",
    "\n",
    "# collect recommends\n",
    "k = 10\n",
    "sorted_candidates = ranked_candidates.sort_values(by=['user_id', 'proba'], ascending=[True, False]).groupby('user_id').head(k)\n",
    "recommends = sorted_candidates.groupby('user_id')['item_id'].unique()"
   ],
   "metadata": {
    "collapsed": false,
    "pycharm": {
     "name": "#%%\n"
    }
   }
  },
  {
   "cell_type": "code",
   "execution_count": 797,
   "outputs": [
    {
     "data": {
      "text/plain": "0.33376563223714684"
     },
     "execution_count": 797,
     "metadata": {},
     "output_type": "execute_result"
    }
   ],
   "source": [
    "calc_mean_metric(precision_at_k, true_lv1['actual'], recommends.reset_index(drop=True), k=k)"
   ],
   "metadata": {
    "collapsed": false,
    "pycharm": {
     "name": "#%%\n"
    }
   }
  },
  {
   "cell_type": "code",
   "execution_count": 798,
   "outputs": [],
   "source": [
    "#"
   ],
   "metadata": {
    "collapsed": false,
    "pycharm": {
     "name": "#%%\n"
    }
   }
  }
 ],
 "metadata": {
  "kernelspec": {
   "display_name": "Python 3",
   "language": "python",
   "name": "python3"
  },
  "language_info": {
   "codemirror_mode": {
    "name": "ipython",
    "version": 2
   },
   "file_extension": ".py",
   "mimetype": "text/x-python",
   "name": "python",
   "nbconvert_exporter": "python",
   "pygments_lexer": "ipython2",
   "version": "2.7.6"
  }
 },
 "nbformat": 4,
 "nbformat_minor": 0
}