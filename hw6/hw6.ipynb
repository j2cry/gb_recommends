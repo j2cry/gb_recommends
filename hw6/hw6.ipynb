{
 "cells": [
  {
   "cell_type": "code",
   "execution_count": 19,
   "outputs": [],
   "source": [
    "import numpy as np\n",
    "import pandas as pd\n",
    "import matplotlib.pyplot as plt\n",
    "\n",
    "from functools import partial\n",
    "from sklearn.preprocessing import StandardScaler\n",
    "from sklearn.metrics import precision_score\n",
    "from sklearn.pipeline import Pipeline\n",
    "from lightgbm import LGBMClassifier\n",
    "from featuring import ColumnsCorrector, LastDaysRate, BasketRate\n",
    "\n",
    "from collections import Counter\n",
    "from datasplit import DataSplit\n",
    "from preprocess import DataPreprocessor\n",
    "from candidate_model import CandidateModel\n",
    "from metrics import precision_at_k, recall_at_k, calc_mean_metric"
   ],
   "metadata": {
    "collapsed": false,
    "pycharm": {
     "name": "#%%\n"
    }
   }
  },
  {
   "cell_type": "markdown",
   "source": [
    "## prepare data & fit candidate model"
   ],
   "metadata": {
    "collapsed": false,
    "pycharm": {
     "name": "#%% md\n"
    }
   }
  },
  {
   "cell_type": "code",
   "execution_count": 20,
   "outputs": [],
   "source": [
    "def prepare_true_values(df):\n",
    "    true_values =  df.groupby('user_id')['item_id'].unique().reset_index()\n",
    "    true_values.columns = ['user_id', 'actual']\n",
    "    return true_values"
   ],
   "metadata": {
    "collapsed": false,
    "pycharm": {
     "name": "#%%\n"
    }
   }
  },
  {
   "cell_type": "code",
   "execution_count": 21,
   "outputs": [],
   "source": [
    "purchases = pd.read_csv('retail_train.csv')\n",
    "\n",
    "# train/valid split\n",
    "splitter = DataSplit(purchases, 'week_no', [6, 4])\n",
    "\n",
    "train_lv1 = purchases[splitter.part0].copy()\n",
    "valid_lv1 = purchases[splitter.part1].copy()\n",
    "valid_lv2 = purchases[splitter.part2].copy()\n",
    "\n",
    "# prepare lv1 validation true values\n",
    "true_train_lv1 = prepare_true_values(train_lv1)\n",
    "true_valid_lv1 = prepare_true_values(valid_lv1)"
   ],
   "metadata": {
    "collapsed": false,
    "pycharm": {
     "name": "#%%\n"
    }
   }
  },
  {
   "cell_type": "code",
   "execution_count": 22,
   "outputs": [],
   "source": [
    "mix_feat_params = {\n",
    "    'top_config': {'fields': ['quantity', 'sales_value'],\n",
    "                   'beta': [1., 1.],\n",
    "                   'k': 5000,\n",
    "                   'scaler': StandardScaler\n",
    "                    },\n",
    "    'uim_config': {'aggfunc': 'sum',\n",
    "                   # 'weights': tfidf_weight\n",
    "                   },\n",
    "}\n",
    "\n",
    "pre = DataPreprocessor(train_lv1, valid_lv1, **mix_feat_params)\n",
    "pre.fit()"
   ],
   "metadata": {
    "collapsed": false,
    "pycharm": {
     "name": "#%%\n"
    }
   }
  },
  {
   "cell_type": "code",
   "execution_count": 23,
   "outputs": [
    {
     "data": {
      "text/plain": "(0.30147727453621564, 0.2123693837009425)"
     },
     "execution_count": 23,
     "metadata": {},
     "output_type": "execute_result"
    }
   ],
   "source": [
    "candidate_params = {\n",
    "    'train': pre.train_uim_sparse,\n",
    "    'weighted': pre.train_uim_weighted,\n",
    "    'top_items': pre.top_k_items,\n",
    "    'placeholder_id': pre.placeholder_id,\n",
    "    'idx_to_item': pre.idx_to_item,\n",
    "    'item_to_idx': pre.item_to_idx,\n",
    "    'user_to_idx': pre.user_to_idx\n",
    "}\n",
    "n_candidates = 100\n",
    "cm = CandidateModel('BM25', **candidate_params)\n",
    "cm.fit(K=1)\n",
    "train_candidates = cm.predict(true_train_lv1['user_id'], N=n_candidates)\n",
    "valid_candidates = cm.predict(true_valid_lv1['user_id'], N=n_candidates)\n",
    "\n",
    "recall_lv1_train = calc_mean_metric(recall_at_k, true_train_lv1['actual'], train_candidates, k=n_candidates)\n",
    "recall_lv1_valid = calc_mean_metric(recall_at_k, true_valid_lv1['actual'], valid_candidates, k=n_candidates)\n",
    "recall_lv1_train, recall_lv1_valid"
   ],
   "metadata": {
    "collapsed": false,
    "pycharm": {
     "name": "#%%\n"
    }
   }
  },
  {
   "cell_type": "code",
   "execution_count": 24,
   "outputs": [
    {
     "data": {
      "text/plain": "(215400, 2)"
     },
     "execution_count": 24,
     "metadata": {},
     "output_type": "execute_result"
    }
   ],
   "source": [
    "# stack candidates\n",
    "candidates = pd.DataFrame.from_dict(valid_candidates.to_dict(), orient='index').set_index(true_valid_lv1['user_id'])\n",
    "candidates = candidates.stack().reset_index(level=1, drop=True).rename('item_id').reset_index()\n",
    "candidates.shape"
   ],
   "metadata": {
    "collapsed": false,
    "pycharm": {
     "name": "#%%\n"
    }
   }
  },
  {
   "cell_type": "code",
   "execution_count": 25,
   "outputs": [
    {
     "data": {
      "text/plain": "0.18031961964914717"
     },
     "execution_count": 25,
     "metadata": {},
     "output_type": "execute_result"
    }
   ],
   "source": [
    "# общая доля релевантных товаров в подборке кандидатов\n",
    "relevant = valid_lv1[['user_id', 'item_id']].copy()\n",
    "relevant['target'] = 1\n",
    "zeros, ones = candidates.merge(relevant, on=['user_id', 'item_id'], how='left').fillna(0)['target'].value_counts()\n",
    "ones / (zeros + ones)"
   ],
   "metadata": {
    "collapsed": false,
    "pycharm": {
     "name": "#%%\n"
    }
   }
  },
  {
   "cell_type": "markdown",
   "source": [
    "## prepare data for lv2 model"
   ],
   "metadata": {
    "collapsed": false,
    "pycharm": {
     "name": "#%% md\n"
    }
   }
  },
  {
   "cell_type": "code",
   "execution_count": 26,
   "outputs": [],
   "source": [
    "def merge_candidates(df, cand, warm_users=None):\n",
    "    \"\"\" Prepare dataset lv2 for featuring\n",
    "    :param df: required data to be prepared\n",
    "    :param cand: dataset with stacked candidates\n",
    "    :param warm_users: leave only given users (array-like)\n",
    "    \"\"\"\n",
    "    if warm_users is not None:\n",
    "        warm = df['user_id'].isin(warm_users)\n",
    "        target = df[warm].copy()\n",
    "    else:\n",
    "        target = df.copy()\n",
    "    target['target'] = 1      # flag means this item was really bought\n",
    "    target = cand.merge(target, on=['user_id', 'item_id'], how='left').fillna(0)\n",
    "    return target.drop(columns='target'), target['target']"
   ],
   "metadata": {
    "collapsed": false,
    "pycharm": {
     "name": "#%%\n"
    }
   }
  },
  {
   "cell_type": "code",
   "execution_count": 27,
   "outputs": [
    {
     "data": {
      "text/plain": "((230524, 12), (222826, 12))"
     },
     "execution_count": 27,
     "metadata": {},
     "output_type": "execute_result"
    }
   ],
   "source": [
    "# train lv2: prepare for featuring (markup & merge candidates)\n",
    "train_lv2, train_lv2_target = merge_candidates(valid_lv1, candidates, warm_users=train_lv1['user_id'].unique())\n",
    "# train_lv2_empty = merge_candidates(valid_lv1, candidates)     # both warn & cold\n",
    "\n",
    "# valid lv2: prepare for featuring (markup & merge candidates)\n",
    "valid_lv2, valid_lv2_target = merge_candidates(valid_lv2, candidates)\n",
    "train_lv2.shape, valid_lv2.shape"
   ],
   "metadata": {
    "collapsed": false,
    "pycharm": {
     "name": "#%%\n"
    }
   }
  },
  {
   "cell_type": "markdown",
   "source": [
    "### feature engineering"
   ],
   "metadata": {
    "collapsed": false,
    "pycharm": {
     "name": "#%% md\n"
    }
   }
  },
  {
   "cell_type": "code",
   "execution_count": 263,
   "outputs": [],
   "source": [
    "# # baseline item features\n",
    "# drop_columns = ['basket_id', 'day', 'quantity', 'sales_value', 'store_id', 'retail_disc', 'trans_time', 'week_no', 'coupon_disc', 'coupon_match_disc']\n",
    "# item_data = pd.read_csv('product.csv')\n",
    "# item_data.columns = item_data.columns.str.lower()\n",
    "# item_data.rename(columns={'product_id': 'item_id'}, inplace=True)\n",
    "# # item_data.drop(columns=['curr_size_of_product'], inplace=True)\n",
    "# keep_cols = ['item_id', 'department',]\n",
    "# item_data = item_data[keep_cols]\n",
    "#\n",
    "# # baseline user features\n",
    "# user_data = pd.read_csv('../hw5/user_features_corrected.csv')\n",
    "#\n",
    "# # merge dummies\n",
    "# featured_train_lv2 = train_lv2.copy()\n",
    "# featured_train_lv2 = featured_train_lv2.merge(pd.get_dummies(item_data), on='item_id', how='left').fillna(0)\n",
    "# featured_train_lv2 = featured_train_lv2.merge(user_data, on='user_id', how='left').fillna(0)\n",
    "# featured_train_lv2.drop(columns=drop_columns, inplace=True)\n",
    "#\n",
    "# featured_valid_lv2 = valid_lv2.copy()\n",
    "# featured_valid_lv2 = featured_valid_lv2.merge(pd.get_dummies(item_data), on='item_id', how='left').fillna(0)\n",
    "# featured_valid_lv2 = featured_valid_lv2.merge(user_data, on='user_id', how='left').fillna(0)\n",
    "# featured_valid_lv2.drop(columns=drop_columns, inplace=True)"
   ],
   "metadata": {
    "collapsed": false,
    "pycharm": {
     "name": "#%%\n"
    }
   }
  },
  {
   "cell_type": "code",
   "execution_count": 296,
   "outputs": [],
   "source": [
    "drop_columns = ['basket_id', 'day', 'quantity', 'sales_value', 'store_id', 'retail_disc', 'trans_time', 'week_no', 'coupon_disc', 'coupon_match_disc']\n",
    "# drop_columns = ['basket_id', 'day', 'quantity', 'sales_value', 'store_id', 'trans_time', 'week_no']\n",
    "featuring = Pipeline([#('LastDaysRate', LastDaysRate(n_days=17)),\n",
    "                      #('BasketRate', BasketRate(n_days=15)),\n",
    "                      # ('', ),\n",
    "                      # ('', ),\n",
    "                      ('drop', ColumnsCorrector(drop_columns, mode='drop')),\n",
    "                      ])\n",
    "\n",
    "featuring.fit(train_lv2)\n",
    "featured_train_lv2 = featuring.transform(train_lv2)\n",
    "featured_valid_lv2 = featuring.transform(valid_lv2)"
   ],
   "metadata": {
    "collapsed": false,
    "pycharm": {
     "name": "#%%\n"
    }
   }
  },
  {
   "cell_type": "code",
   "execution_count": 297,
   "outputs": [],
   "source": [
    "from sklearn.base import BaseEstimator, TransformerMixin\n",
    "\n",
    "class Feature(BaseEstimator, TransformerMixin):\n",
    "    def __init__(self):\n",
    "        pass\n",
    "\n",
    "    def fit(self, X, y=None):\n",
    "        return self\n",
    "\n",
    "    def transform(self, X):\n",
    "        df = X.copy()\n",
    "        return df"
   ],
   "metadata": {
    "collapsed": false,
    "pycharm": {
     "name": "#%%\n"
    }
   }
  },
  {
   "cell_type": "markdown",
   "source": [
    "Фичи user_id:\n",
    "    - Средний чек\n",
    "    - Средняя сумма покупки 1 товара в каждой категории\n",
    "    - Кол-во покупок в каждой категории\n",
    "    - Частотность покупок раз/месяц\n",
    "    - Долю покупок в выходные\n",
    "    - Долю покупок утром/днем/вечером\n",
    "\n",
    "Фичи item_id:\n",
    "    - Кол-во покупок в неделю\n",
    "    - Среднее ол-во покупок 1 товара в категории в неделю\n",
    "    - (Кол-во покупок в неделю) / (Среднее кол-во покупок 1 товара в категории в неделю)\n",
    "    - Цена (Можно посчитать из retil_train.csv)\n",
    "    - Цена / Средняя цена товара в категории\n",
    "\n",
    "Фичи пары user_id - item_id\n",
    "    - (Средняя сумма покупки 1 товара в каждой категории (берем категорию item_id)) - (Цена item_id)\n",
    "    - (Кол-во покупок юзером конкретной категории в неделю) - (Среднее кол-во покупок всеми юзерами конкретной категории в неделю)\n",
    "    - (Кол-во покупок юзером конкретной категории в неделю) / (Среднее кол-во покупок всеми юзерами конкретной категории в неделю)"
   ],
   "metadata": {
    "collapsed": false,
    "pycharm": {
     "name": "#%% md\n"
    }
   }
  },
  {
   "cell_type": "code",
   "execution_count": 299,
   "outputs": [],
   "source": [
    "# # load items data\n",
    "# item_data = pd.read_csv('product.csv')\n",
    "# item_data.columns = item_data.columns.str.lower()\n",
    "# item_data.rename(columns={'product_id': 'item_id'}, inplace=True)"
   ],
   "metadata": {
    "collapsed": false,
    "pycharm": {
     "name": "#%%\n"
    }
   }
  },
  {
   "cell_type": "code",
   "execution_count": 300,
   "outputs": [],
   "source": [
    "# # load users data\n",
    "# user_data = pd.read_csv('hh_demographic.csv')\n",
    "# user_data.columns = user_data.columns.str.lower()\n",
    "# user_data.rename(columns={'household_key': 'user_id'}, inplace=True)"
   ],
   "metadata": {
    "collapsed": false,
    "pycharm": {
     "name": "#%%\n"
    }
   }
  },
  {
   "cell_type": "markdown",
   "source": [
    "## fit lv2 LGBM"
   ],
   "metadata": {
    "collapsed": false,
    "pycharm": {
     "name": "#%% md\n"
    }
   }
  },
  {
   "cell_type": "code",
   "execution_count": 301,
   "outputs": [
    {
     "data": {
      "text/plain": "(0.8571428571428571, 0.6779661016949152)"
     },
     "execution_count": 301,
     "metadata": {},
     "output_type": "execute_result"
    }
   ],
   "source": [
    "# model = LGBMClassifier(objective='binary', max_depth=6, categorical_column=categorical_feats)\n",
    "# model = LGBMClassifier(max_depth=5, learning_rate=0.01, categorical_column=cat_items)\n",
    "model = LGBMClassifier(max_depth=5, learning_rate=0.01,)\n",
    "model.fit(featured_train_lv2, train_lv2_target)\n",
    "\n",
    "train_preds = model.predict(featured_train_lv2)\n",
    "valid_preds = model.predict(featured_valid_lv2)\n",
    "lgb_pr_train = precision_score(train_lv2_target, train_preds)\n",
    "lgb_pr_valid = precision_score(valid_lv2_target, valid_preds)\n",
    "\n",
    "lgb_pr_train, lgb_pr_valid\n",
    "# Counter(train_preds), Counter(valid_preds)"
   ],
   "metadata": {
    "collapsed": false,
    "pycharm": {
     "name": "#%%\n"
    }
   }
  },
  {
   "cell_type": "code",
   "execution_count": 302,
   "outputs": [],
   "source": [
    "def predict_recommends(data, *, k):\n",
    "    \"\"\" Get k recommends based on given data \"\"\"\n",
    "    proba = pd.Series(model.predict_proba(data).T[1], name='proba')\n",
    "    ranked_pred = pd.concat([data[['user_id', 'item_id']], proba], axis=1)\n",
    "    ranked_cand = candidates.merge(ranked_pred, on=['user_id', 'item_id'], how='left')\n",
    "    # collect recommends\n",
    "    sorted_cand = ranked_cand.sort_values(by=['user_id', 'proba'], ascending=[True, False]).groupby('user_id').head(k)\n",
    "    return sorted_cand.groupby('user_id')['item_id'].unique()"
   ],
   "metadata": {
    "collapsed": false,
    "pycharm": {
     "name": "#%%\n"
    }
   }
  },
  {
   "cell_type": "code",
   "execution_count": 303,
   "outputs": [
    {
     "data": {
      "text/plain": "((2154, 2), (2154, 2))"
     },
     "execution_count": 303,
     "metadata": {},
     "output_type": "execute_result"
    }
   ],
   "source": [
    "# prepare lv2 validation true values\n",
    "true_train_lv2 = prepare_true_values(train_lv2)\n",
    "true_valid_lv2 = prepare_true_values(valid_lv2)\n",
    "true_train_lv2.shape, true_valid_lv2.shape"
   ],
   "metadata": {
    "collapsed": false,
    "pycharm": {
     "name": "#%%\n"
    }
   }
  },
  {
   "cell_type": "code",
   "execution_count": 304,
   "outputs": [
    {
     "data": {
      "text/plain": "(0.8294336118848653, 0.8950789229340761)"
     },
     "execution_count": 304,
     "metadata": {},
     "output_type": "execute_result"
    }
   ],
   "source": [
    "# predictions and metrics\n",
    "k = 5\n",
    "train_rec = predict_recommends(featured_train_lv2, k=k)\n",
    "valid_rec = predict_recommends(featured_valid_lv2, k=k)\n",
    "precision_train_lv2 = calc_mean_metric(precision_at_k, true_train_lv2['actual'], train_rec.reset_index(drop=True), k=k)\n",
    "precision_valid_lv2 = calc_mean_metric(precision_at_k, true_valid_lv2['actual'], valid_rec.reset_index(drop=True), k=k)\n",
    "precision_train_lv2, precision_valid_lv2"
   ],
   "metadata": {
    "collapsed": false,
    "pycharm": {
     "name": "#%%\n"
    }
   }
  }
 ],
 "metadata": {
  "kernelspec": {
   "display_name": "Python 3",
   "language": "python",
   "name": "python3"
  },
  "language_info": {
   "codemirror_mode": {
    "name": "ipython",
    "version": 2
   },
   "file_extension": ".py",
   "mimetype": "text/x-python",
   "name": "python",
   "nbconvert_exporter": "python",
   "pygments_lexer": "ipython2",
   "version": "2.7.6"
  }
 },
 "nbformat": 4,
 "nbformat_minor": 0
}