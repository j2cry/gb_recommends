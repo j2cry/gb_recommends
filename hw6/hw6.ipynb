{
 "cells": [
  {
   "cell_type": "code",
   "execution_count": 35,
   "outputs": [],
   "source": [
    "import numpy as np\n",
    "import pandas as pd\n",
    "import matplotlib.pyplot as plt\n",
    "\n",
    "from functools import partial\n",
    "from sklearn.preprocessing import StandardScaler\n",
    "from sklearn.metrics import precision_score\n",
    "from sklearn.pipeline import Pipeline\n",
    "from lightgbm import LGBMClassifier\n",
    "# from xgboost import XGBClassifier\n",
    "\n",
    "from collections import Counter\n",
    "from datasplit import DataSplit\n",
    "from preprocess import DataPreprocessor\n",
    "from candidate_model import CandidateModel\n",
    "from metrics import precision_at_k, recall_at_k, ap_k, calc_mean_metric"
   ],
   "metadata": {
    "collapsed": false,
    "pycharm": {
     "name": "#%%\n"
    }
   }
  },
  {
   "cell_type": "markdown",
   "source": [
    "## prepare data & fit candidate model"
   ],
   "metadata": {
    "collapsed": false,
    "pycharm": {
     "name": "#%% md\n"
    }
   }
  },
  {
   "cell_type": "code",
   "execution_count": 36,
   "outputs": [],
   "source": [
    "def prepare_true_values(df):\n",
    "    true_values =  df.groupby('user_id')['item_id'].unique().reset_index()\n",
    "    true_values.columns = ['user_id', 'actual']\n",
    "    return true_values"
   ],
   "metadata": {
    "collapsed": false,
    "pycharm": {
     "name": "#%%\n"
    }
   }
  },
  {
   "cell_type": "code",
   "execution_count": 37,
   "outputs": [],
   "source": [
    "purchases = pd.read_csv('retail_train.csv')\n",
    "\n",
    "# train/valid split\n",
    "splitter = DataSplit(purchases, 'week_no', [6, 4])\n",
    "\n",
    "train_lv1 = purchases[splitter.part0].copy()\n",
    "valid_lv1 = purchases[splitter.part1].copy()\n",
    "valid_lv2 = purchases[splitter.part2].copy()\n",
    "\n",
    "# prepare lv1 validation true values\n",
    "true_train_lv1 = prepare_true_values(train_lv1)\n",
    "true_valid_lv1 = prepare_true_values(valid_lv1)"
   ],
   "metadata": {
    "collapsed": false,
    "pycharm": {
     "name": "#%%\n"
    }
   }
  },
  {
   "cell_type": "code",
   "execution_count": 38,
   "outputs": [],
   "source": [
    "mix_feat_params = {\n",
    "    'top_config': {'fields': ['quantity', 'sales_value'],\n",
    "                   'beta': [1., 1.],\n",
    "                   'k': 5000,\n",
    "                   'scaler': StandardScaler\n",
    "                    },\n",
    "    'uim_config': {'aggfunc': 'sum',\n",
    "                   # 'weights': tfidf_weight\n",
    "                   },\n",
    "}\n",
    "\n",
    "pre = DataPreprocessor(train_lv1, valid_lv1, **mix_feat_params)\n",
    "pre.fit()"
   ],
   "metadata": {
    "collapsed": false,
    "pycharm": {
     "name": "#%%\n"
    }
   }
  },
  {
   "cell_type": "code",
   "execution_count": 39,
   "outputs": [
    {
     "data": {
      "text/plain": "(0.30147727453621564, 0.2123693837009425)"
     },
     "execution_count": 39,
     "metadata": {},
     "output_type": "execute_result"
    }
   ],
   "source": [
    "candidate_params = {\n",
    "    'train': pre.train_uim_sparse,\n",
    "    'weighted': pre.train_uim_weighted,\n",
    "    'top_items': pre.top_k_items,\n",
    "    'placeholder_id': pre.placeholder_id,\n",
    "    'idx_to_item': pre.idx_to_item,\n",
    "    'item_to_idx': pre.item_to_idx,\n",
    "    'user_to_idx': pre.user_to_idx\n",
    "}\n",
    "n_candidates = 100\n",
    "cm = CandidateModel('BM25', **candidate_params)\n",
    "cm.fit(K=1)\n",
    "train_candidates = cm.predict(true_train_lv1['user_id'], N=n_candidates)\n",
    "valid_candidates = cm.predict(true_valid_lv1['user_id'], N=n_candidates)\n",
    "\n",
    "recall_lv1_train = calc_mean_metric(recall_at_k, true_train_lv1['actual'], train_candidates, k=n_candidates)\n",
    "recall_lv1_valid = calc_mean_metric(recall_at_k, true_valid_lv1['actual'], valid_candidates, k=n_candidates)\n",
    "recall_lv1_train, recall_lv1_valid"
   ],
   "metadata": {
    "collapsed": false,
    "pycharm": {
     "name": "#%%\n"
    }
   }
  },
  {
   "cell_type": "code",
   "execution_count": 40,
   "outputs": [
    {
     "data": {
      "text/plain": "(215400, 2)"
     },
     "execution_count": 40,
     "metadata": {},
     "output_type": "execute_result"
    }
   ],
   "source": [
    "# stack candidates\n",
    "candidates = pd.DataFrame.from_dict(valid_candidates.to_dict(), orient='index').set_index(true_valid_lv1['user_id'])\n",
    "candidates = candidates.stack().reset_index(level=1, drop=True).rename('item_id').reset_index()\n",
    "candidates.shape"
   ],
   "metadata": {
    "collapsed": false,
    "pycharm": {
     "name": "#%%\n"
    }
   }
  },
  {
   "cell_type": "code",
   "execution_count": 41,
   "outputs": [
    {
     "data": {
      "text/plain": "0.18031961964914717"
     },
     "execution_count": 41,
     "metadata": {},
     "output_type": "execute_result"
    }
   ],
   "source": [
    "# общая доля релевантных товаров в подборке кандидатов\n",
    "relevant = valid_lv1[['user_id', 'item_id']].copy()\n",
    "relevant['target'] = 1\n",
    "zeros, ones = candidates.merge(relevant, on=['user_id', 'item_id'], how='left').fillna(0)['target'].value_counts()\n",
    "ones / (zeros + ones)"
   ],
   "metadata": {
    "collapsed": false,
    "pycharm": {
     "name": "#%%\n"
    }
   }
  },
  {
   "cell_type": "markdown",
   "source": [
    "## prepare data for lv2 model"
   ],
   "metadata": {
    "collapsed": false,
    "pycharm": {
     "name": "#%% md\n"
    }
   }
  },
  {
   "cell_type": "code",
   "execution_count": 42,
   "outputs": [],
   "source": [
    "def merge_candidates(df, cand, warm_users=None):\n",
    "    \"\"\" Prepare dataset lv2 for featuring\n",
    "    :param df: required data to be prepared\n",
    "    :param cand: dataset with stacked candidates\n",
    "    :param warm_users: leave only given users (array-like)\n",
    "    \"\"\"\n",
    "    if warm_users is not None:\n",
    "        warm = df['user_id'].isin(warm_users)\n",
    "        target = df.loc[warm, ['user_id', 'item_id']].copy()\n",
    "    else:\n",
    "        target = df[['user_id', 'item_id']].copy()\n",
    "    target['target'] = 1      # flag means this item was really bought\n",
    "    target = cand.merge(target, on=['user_id', 'item_id'], how='left').fillna(0)\n",
    "    return target.drop(columns='target'), target['target']"
   ],
   "metadata": {
    "collapsed": false,
    "pycharm": {
     "name": "#%%\n"
    }
   }
  },
  {
   "cell_type": "code",
   "execution_count": 43,
   "outputs": [
    {
     "data": {
      "text/plain": "((230524, 2), (222826, 2))"
     },
     "execution_count": 43,
     "metadata": {},
     "output_type": "execute_result"
    }
   ],
   "source": [
    "# train lv2: prepare for featuring (markup & merge candidates)\n",
    "train_lv2_empty, train_lv2_target = merge_candidates(valid_lv1, candidates, warm_users=train_lv1['user_id'].unique())\n",
    "# train_lv2_empty = merge_candidates(valid_lv1, candidates)     # both warn & cold\n",
    "\n",
    "# valid lv2: prepare for featuring (markup & merge candidates)\n",
    "valid_lv2_empty, valid_lv2_target = merge_candidates(valid_lv2, candidates)\n",
    "train_lv2_empty.shape, valid_lv2_empty.shape"
   ],
   "metadata": {
    "collapsed": false,
    "pycharm": {
     "name": "#%%\n"
    }
   }
  },
  {
   "cell_type": "markdown",
   "source": [
    "### feature engineering"
   ],
   "metadata": {
    "collapsed": false,
    "pycharm": {
     "name": "#%% md\n"
    }
   }
  },
  {
   "cell_type": "code",
   "execution_count": 44,
   "outputs": [],
   "source": [
    "# baseline item features\n",
    "cat_items = []\n",
    "item_data = pd.read_csv('product.csv')\n",
    "item_data.columns = item_data.columns.str.lower()\n",
    "item_data.rename(columns={'product_id': 'item_id'}, inplace=True)\n",
    "# item_data.drop(columns=['curr_size_of_product'], inplace=True)\n",
    "keep_cols = ['item_id', 'department',]\n",
    "item_data = item_data[keep_cols]\n",
    "\n",
    "# baseline user features\n",
    "user_data = pd.read_csv('../hw5/user_features_corrected.csv')\n",
    "\n",
    "# merge dummies\n",
    "train_lv2 = train_lv2_empty.copy()\n",
    "train_lv2 = train_lv2.merge(pd.get_dummies(item_data), on='item_id', how='left').fillna(0)\n",
    "train_lv2 = train_lv2.merge(user_data, on='user_id', how='left').fillna(0)\n",
    "\n",
    "valid_lv2 = valid_lv2_empty.copy()\n",
    "valid_lv2 = valid_lv2.merge(pd.get_dummies(item_data), on='item_id', how='left').fillna(0)\n",
    "valid_lv2 = valid_lv2.merge(user_data, on='user_id', how='left').fillna(0)"
   ],
   "metadata": {
    "collapsed": false,
    "pycharm": {
     "name": "#%%\n"
    }
   }
  },
  {
   "cell_type": "code",
   "execution_count": 45,
   "outputs": [],
   "source": [
    "# add some features\n",
    "# ...\n",
    "# make pipeline for valid lv2 preparation"
   ],
   "metadata": {
    "collapsed": false,
    "pycharm": {
     "name": "#%%\n"
    }
   }
  },
  {
   "cell_type": "code",
   "execution_count": 46,
   "outputs": [],
   "source": [
    "# # load items data\n",
    "# item_data = pd.read_csv('product.csv')\n",
    "# item_data.columns = item_data.columns.str.lower()\n",
    "# item_data.rename(columns={'product_id': 'item_id'}, inplace=True)"
   ],
   "metadata": {
    "collapsed": false,
    "pycharm": {
     "name": "#%%\n"
    }
   }
  },
  {
   "cell_type": "code",
   "execution_count": 47,
   "outputs": [],
   "source": [
    "# # day rate: % дней в которые товар был продан\n",
    "# day_rate = (purchases.groupby('item_id')['day'].nunique() / purchases['day'].max()).rename('day_rate')\n",
    "# item_data = item_data.merge(day_rate, on='item_id', how='left').fillna(0)"
   ],
   "metadata": {
    "collapsed": false,
    "pycharm": {
     "name": "#%%\n"
    }
   }
  },
  {
   "cell_type": "code",
   "execution_count": 48,
   "outputs": [],
   "source": [
    "# # basket rate: % уникальных чеков в которых присутствовал товар\n",
    "# basket_rate = (purchases.groupby('item_id')['basket_id'].nunique() / purchases['basket_id'].nunique()).rename('basket_rate')\n",
    "# item_data = item_data.merge(basket_rate, on='item_id', how='left').fillna(0)"
   ],
   "metadata": {
    "collapsed": false,
    "pycharm": {
     "name": "#%%\n"
    }
   }
  },
  {
   "cell_type": "code",
   "execution_count": 48,
   "outputs": [],
   "source": [],
   "metadata": {
    "collapsed": false,
    "pycharm": {
     "name": "#%%\n"
    }
   }
  },
  {
   "cell_type": "code",
   "execution_count": 48,
   "outputs": [],
   "source": [],
   "metadata": {
    "collapsed": false,
    "pycharm": {
     "name": "#%%\n"
    }
   }
  },
  {
   "cell_type": "code",
   "execution_count": 49,
   "outputs": [],
   "source": [
    "# # load users data\n",
    "# user_data = pd.read_csv('hh_demographic.csv')\n",
    "# user_data.columns = user_data.columns.str.lower()\n",
    "# user_data.rename(columns={'household_key': 'user_id'}, inplace=True)"
   ],
   "metadata": {
    "collapsed": false,
    "pycharm": {
     "name": "#%%\n"
    }
   }
  },
  {
   "cell_type": "code",
   "execution_count": 49,
   "outputs": [],
   "source": [],
   "metadata": {
    "collapsed": false,
    "pycharm": {
     "name": "#%%\n"
    }
   }
  },
  {
   "cell_type": "code",
   "execution_count": 50,
   "outputs": [],
   "source": [
    "# # featuring train dataset\n",
    "# train_lv2 = train_lv2_empty.copy()\n",
    "\n",
    "# train_lv2 = train_lv2.merge(day_rate, on='item_id', how='left').fillna(0)\n",
    "# train_lv2 = train_lv2.merge(basket_rate, on='item_id', how='left').fillna(0)\n",
    "# train_lv2 = train_lv2.merge(item_data, on='user_id', how='left').fillna(0)\n",
    "\n",
    "# train_lv2 = train_lv2.merge(user_data, on='user_id', how='left').fillna(0)\n",
    "\n",
    "# categorical_feats = []\n",
    "# train_lv2[categorical_feats] = train_lv2[categorical_feats].astype('category')\n",
    "# train_lv2.shape"
   ],
   "metadata": {
    "collapsed": false,
    "pycharm": {
     "name": "#%%\n"
    }
   }
  },
  {
   "cell_type": "code",
   "execution_count": 51,
   "outputs": [
    {
     "data": {
      "text/plain": "   user_id  item_id  department_   department_AUTOMOTIVE  \\\n0        1  1082185             0                      0   \n1        1  1082185             0                      0   \n\n   department_CHARITABLE CONT  department_CHEF SHOPPE  \\\n0                           0                       0   \n1                           0                       0   \n\n   department_CNTRL/STORE SUP  department_COSMETICS  \\\n0                           0                     0   \n1                           0                     0   \n\n   department_COUP/STR & MFG  department_DAIRY DELI  ...  income_15-24K  \\\n0                          0                      0  ...            0.0   \n1                          0                      0  ...            0.0   \n\n   income_150-174K  income_175-199K  income_200-249K  income_25-34K  \\\n0              0.0              0.0              0.0            0.0   \n1              0.0              0.0              0.0            0.0   \n\n   income_250K+  income_35-49K  income_50-74K  income_75-99K  income_Under 15K  \n0           0.0            1.0            0.0            0.0               0.0  \n1           0.0            1.0            0.0            0.0               0.0  \n\n[2 rows x 72 columns]",
      "text/html": "<div>\n<style scoped>\n    .dataframe tbody tr th:only-of-type {\n        vertical-align: middle;\n    }\n\n    .dataframe tbody tr th {\n        vertical-align: top;\n    }\n\n    .dataframe thead th {\n        text-align: right;\n    }\n</style>\n<table border=\"1\" class=\"dataframe\">\n  <thead>\n    <tr style=\"text-align: right;\">\n      <th></th>\n      <th>user_id</th>\n      <th>item_id</th>\n      <th>department_</th>\n      <th>department_AUTOMOTIVE</th>\n      <th>department_CHARITABLE CONT</th>\n      <th>department_CHEF SHOPPE</th>\n      <th>department_CNTRL/STORE SUP</th>\n      <th>department_COSMETICS</th>\n      <th>department_COUP/STR &amp; MFG</th>\n      <th>department_DAIRY DELI</th>\n      <th>...</th>\n      <th>income_15-24K</th>\n      <th>income_150-174K</th>\n      <th>income_175-199K</th>\n      <th>income_200-249K</th>\n      <th>income_25-34K</th>\n      <th>income_250K+</th>\n      <th>income_35-49K</th>\n      <th>income_50-74K</th>\n      <th>income_75-99K</th>\n      <th>income_Under 15K</th>\n    </tr>\n  </thead>\n  <tbody>\n    <tr>\n      <th>0</th>\n      <td>1</td>\n      <td>1082185</td>\n      <td>0</td>\n      <td>0</td>\n      <td>0</td>\n      <td>0</td>\n      <td>0</td>\n      <td>0</td>\n      <td>0</td>\n      <td>0</td>\n      <td>...</td>\n      <td>0.0</td>\n      <td>0.0</td>\n      <td>0.0</td>\n      <td>0.0</td>\n      <td>0.0</td>\n      <td>0.0</td>\n      <td>1.0</td>\n      <td>0.0</td>\n      <td>0.0</td>\n      <td>0.0</td>\n    </tr>\n    <tr>\n      <th>1</th>\n      <td>1</td>\n      <td>1082185</td>\n      <td>0</td>\n      <td>0</td>\n      <td>0</td>\n      <td>0</td>\n      <td>0</td>\n      <td>0</td>\n      <td>0</td>\n      <td>0</td>\n      <td>...</td>\n      <td>0.0</td>\n      <td>0.0</td>\n      <td>0.0</td>\n      <td>0.0</td>\n      <td>0.0</td>\n      <td>0.0</td>\n      <td>1.0</td>\n      <td>0.0</td>\n      <td>0.0</td>\n      <td>0.0</td>\n    </tr>\n  </tbody>\n</table>\n<p>2 rows × 72 columns</p>\n</div>"
     },
     "execution_count": 51,
     "metadata": {},
     "output_type": "execute_result"
    }
   ],
   "source": [
    "train_lv2.head(2)"
   ],
   "metadata": {
    "collapsed": false,
    "pycharm": {
     "name": "#%%\n"
    }
   }
  },
  {
   "cell_type": "markdown",
   "source": [
    "## fit lv2 LGBM"
   ],
   "metadata": {
    "collapsed": false,
    "pycharm": {
     "name": "#%% md\n"
    }
   }
  },
  {
   "cell_type": "code",
   "execution_count": 52,
   "outputs": [
    {
     "data": {
      "text/plain": "(0.7756286266924565, 0.6438709677419355)"
     },
     "execution_count": 52,
     "metadata": {},
     "output_type": "execute_result"
    }
   ],
   "source": [
    "# model = LGBMClassifier(objective='binary', max_depth=6, categorical_column=categorical_feats)\n",
    "# model = LGBMClassifier(max_depth=5, learning_rate=0.01, categorical_column=cat_items)\n",
    "model = LGBMClassifier(max_depth=5, learning_rate=0.01,)\n",
    "model.fit(train_lv2, train_lv2_target)\n",
    "\n",
    "train_preds = model.predict(train_lv2)\n",
    "valid_preds = model.predict(valid_lv2)\n",
    "lgb_pr_train = precision_score(train_lv2_target, train_preds)\n",
    "lgb_pr_valid = precision_score(valid_lv2_target, valid_preds)\n",
    "\n",
    "lgb_pr_train, lgb_pr_valid\n",
    "# Counter(train_preds), Counter(valid_preds)"
   ],
   "metadata": {
    "collapsed": false,
    "pycharm": {
     "name": "#%%\n"
    }
   }
  },
  {
   "cell_type": "code",
   "execution_count": 53,
   "outputs": [],
   "source": [
    "def predict_recommends(data, *, k):\n",
    "    \"\"\" Get k recommends based on given data \"\"\"\n",
    "    proba = pd.Series(model.predict_proba(data).T[1], name='proba')\n",
    "    ranked_pred = pd.concat([data[['user_id', 'item_id']], proba], axis=1)\n",
    "    ranked_cand = candidates.merge(ranked_pred, on=['user_id', 'item_id'], how='left')\n",
    "    # collect recommends\n",
    "    sorted_cand = ranked_cand.sort_values(by=['user_id', 'proba'], ascending=[True, False]).groupby('user_id').head(k)\n",
    "    return sorted_cand.groupby('user_id')['item_id'].unique()"
   ],
   "metadata": {
    "collapsed": false,
    "pycharm": {
     "name": "#%%\n"
    }
   }
  },
  {
   "cell_type": "code",
   "execution_count": 54,
   "outputs": [
    {
     "data": {
      "text/plain": "((2154, 2), (2154, 2))"
     },
     "execution_count": 54,
     "metadata": {},
     "output_type": "execute_result"
    }
   ],
   "source": [
    "# prepare lv2 validation true values\n",
    "true_train_lv2 = prepare_true_values(train_lv2)\n",
    "true_valid_lv2 = prepare_true_values(valid_lv2)\n",
    "true_train_lv2.shape, true_valid_lv2.shape"
   ],
   "metadata": {
    "collapsed": false,
    "pycharm": {
     "name": "#%%\n"
    }
   }
  },
  {
   "cell_type": "code",
   "execution_count": 55,
   "outputs": [
    {
     "data": {
      "text/plain": "(0.8420612813370474, 0.903899721448468)"
     },
     "execution_count": 55,
     "metadata": {},
     "output_type": "execute_result"
    }
   ],
   "source": [
    "# predictions and metrics\n",
    "k = 5\n",
    "train_rec = predict_recommends(train_lv2, k=k)\n",
    "valid_rec = predict_recommends(valid_lv2, k=k)\n",
    "precision_train_lv2 = calc_mean_metric(precision_at_k, true_train_lv2['actual'], train_rec.reset_index(drop=True), k=k)\n",
    "precision_valid_lv2 = calc_mean_metric(precision_at_k, true_valid_lv2['actual'], valid_rec.reset_index(drop=True), k=k)\n",
    "precision_train_lv2, precision_valid_lv2"
   ],
   "metadata": {
    "collapsed": false,
    "pycharm": {
     "name": "#%%\n"
    }
   }
  },
  {
   "cell_type": "code",
   "execution_count": 56,
   "outputs": [],
   "source": [
    "#"
   ],
   "metadata": {
    "collapsed": false,
    "pycharm": {
     "name": "#%%\n"
    }
   }
  }
 ],
 "metadata": {
  "kernelspec": {
   "display_name": "Python 3",
   "language": "python",
   "name": "python3"
  },
  "language_info": {
   "codemirror_mode": {
    "name": "ipython",
    "version": 2
   },
   "file_extension": ".py",
   "mimetype": "text/x-python",
   "name": "python",
   "nbconvert_exporter": "python",
   "pygments_lexer": "ipython2",
   "version": "2.7.6"
  }
 },
 "nbformat": 4,
 "nbformat_minor": 0
}