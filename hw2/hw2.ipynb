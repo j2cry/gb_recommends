{
 "cells": [
  {
   "cell_type": "code",
   "execution_count": 43,
   "metadata": {
    "colab": {
     "base_uri": "https://localhost:8080/",
     "height": 392
    },
    "executionInfo": {
     "elapsed": 913,
     "status": "error",
     "timestamp": 1644049996964,
     "user": {
      "displayName": "Николай -",
      "photoUrl": "https://lh3.googleusercontent.com/a-/AOh14GiCS90olAsBznR3WLZOaJ5ukcv2LPYBRWvHEQUZ-A=s64",
      "userId": "17372739142422056321"
     },
     "user_tz": -180
    },
    "id": "P4cXa7KC9vZl",
    "outputId": "91a6b4ea-7926-4fe4-9eff-ebceaed655f6"
   },
   "outputs": [],
   "source": [
    "from typing import List\n",
    "from functools import partial\n",
    "\n",
    "import pandas as pd\n",
    "import numpy as np\n",
    "from scipy.sparse import csr_matrix\n",
    "# Детерминированные алгоритмы\n",
    "from implicit.nearest_neighbours import ItemItemRecommender, CosineRecommender, TFIDFRecommender, BM25Recommender\n",
    "\n",
    "# Метрики\n",
    "from hw1.hw1 import precision_at_k, ap_k, ndcg"
   ]
  },
  {
   "cell_type": "markdown",
   "metadata": {
    "pycharm": {
     "name": "#%% md\n"
    }
   },
   "source": [
    "## load&split"
   ]
  },
  {
   "cell_type": "code",
   "execution_count": 2,
   "metadata": {
    "colab": {
     "base_uri": "https://localhost:8080/",
     "height": 111
    },
    "executionInfo": {
     "elapsed": 5314,
     "status": "ok",
     "timestamp": 1639300600839,
     "user": {
      "displayName": "Николай -",
      "photoUrl": "https://lh3.googleusercontent.com/a-/AOh14GiCS90olAsBznR3WLZOaJ5ukcv2LPYBRWvHEQUZ-A=s64",
      "userId": "17372739142422056321"
     },
     "user_tz": -180
    },
    "id": "mwedaTmu9vZm",
    "outputId": "dc1cb9ae-74b6-4434-9aa8-0c299cb5d690"
   },
   "outputs": [
    {
     "data": {
      "text/plain": "   user_id    basket_id  day  item_id  quantity  sales_value  store_id  \\\n0     2375  26984851472    1  1004906         1         1.39       364   \n1     2375  26984851472    1  1033142         1         0.82       364   \n2     2375  26984851472    1  1036325         1         0.99       364   \n\n   retail_disc  trans_time  week_no  coupon_disc  coupon_match_disc  \n0         -0.6        1631        1          0.0                0.0  \n1          0.0        1631        1          0.0                0.0  \n2         -0.3        1631        1          0.0                0.0  ",
      "text/html": "<div>\n<style scoped>\n    .dataframe tbody tr th:only-of-type {\n        vertical-align: middle;\n    }\n\n    .dataframe tbody tr th {\n        vertical-align: top;\n    }\n\n    .dataframe thead th {\n        text-align: right;\n    }\n</style>\n<table border=\"1\" class=\"dataframe\">\n  <thead>\n    <tr style=\"text-align: right;\">\n      <th></th>\n      <th>user_id</th>\n      <th>basket_id</th>\n      <th>day</th>\n      <th>item_id</th>\n      <th>quantity</th>\n      <th>sales_value</th>\n      <th>store_id</th>\n      <th>retail_disc</th>\n      <th>trans_time</th>\n      <th>week_no</th>\n      <th>coupon_disc</th>\n      <th>coupon_match_disc</th>\n    </tr>\n  </thead>\n  <tbody>\n    <tr>\n      <th>0</th>\n      <td>2375</td>\n      <td>26984851472</td>\n      <td>1</td>\n      <td>1004906</td>\n      <td>1</td>\n      <td>1.39</td>\n      <td>364</td>\n      <td>-0.6</td>\n      <td>1631</td>\n      <td>1</td>\n      <td>0.0</td>\n      <td>0.0</td>\n    </tr>\n    <tr>\n      <th>1</th>\n      <td>2375</td>\n      <td>26984851472</td>\n      <td>1</td>\n      <td>1033142</td>\n      <td>1</td>\n      <td>0.82</td>\n      <td>364</td>\n      <td>0.0</td>\n      <td>1631</td>\n      <td>1</td>\n      <td>0.0</td>\n      <td>0.0</td>\n    </tr>\n    <tr>\n      <th>2</th>\n      <td>2375</td>\n      <td>26984851472</td>\n      <td>1</td>\n      <td>1036325</td>\n      <td>1</td>\n      <td>0.99</td>\n      <td>364</td>\n      <td>-0.3</td>\n      <td>1631</td>\n      <td>1</td>\n      <td>0.0</td>\n      <td>0.0</td>\n    </tr>\n  </tbody>\n</table>\n</div>"
     },
     "execution_count": 2,
     "metadata": {},
     "output_type": "execute_result"
    }
   ],
   "source": [
    "data = pd.read_csv('retail_train.csv')\n",
    "data.head(3)"
   ]
  },
  {
   "cell_type": "code",
   "execution_count": 3,
   "metadata": {
    "colab": {
     "base_uri": "https://localhost:8080/"
    },
    "executionInfo": {
     "elapsed": 412,
     "status": "ok",
     "timestamp": 1639300644126,
     "user": {
      "displayName": "Николай -",
      "photoUrl": "https://lh3.googleusercontent.com/a-/AOh14GiCS90olAsBznR3WLZOaJ5ukcv2LPYBRWvHEQUZ-A=s64",
      "userId": "17372739142422056321"
     },
     "user_tz": -180
    },
    "id": "8NafvkC29vZo",
    "outputId": "17deb8a0-bba4-4fc2-8712-dea58e5b7362"
   },
   "outputs": [
    {
     "name": "stdout",
     "output_type": "stream",
     "text": [
      "# users:  2499\n",
      "# items:  89051\n",
      "# interactions:  2396804\n",
      "# max week:  95\n"
     ]
    }
   ],
   "source": [
    "users, items, interactions, max_week = data.user_id.nunique(), data.item_id.nunique(), data.shape[0], data['week_no'].nunique()\n",
    "\n",
    "print('# users: ', users)\n",
    "print('# items: ', items)\n",
    "print('# interactions: ', interactions)\n",
    "print('# max week: ', max_week)"
   ]
  },
  {
   "cell_type": "code",
   "execution_count": 4,
   "metadata": {
    "colab": {
     "base_uri": "https://localhost:8080/",
     "height": 297
    },
    "executionInfo": {
     "elapsed": 339,
     "status": "ok",
     "timestamp": 1639300682460,
     "user": {
      "displayName": "Николай -",
      "photoUrl": "https://lh3.googleusercontent.com/a-/AOh14GiCS90olAsBznR3WLZOaJ5ukcv2LPYBRWvHEQUZ-A=s64",
      "userId": "17372739142422056321"
     },
     "user_tz": -180
    },
    "id": "KoLFB6gX9vZp",
    "outputId": "7d356ce3-9bf7-4a08-f86d-b61f383d04d7"
   },
   "outputs": [
    {
     "data": {
      "text/plain": "            item_id    sales_value\ncount  8.905100e+04   89051.000000\nmean   5.115772e+06      83.458481\nstd    5.178973e+06    1628.715079\nmin    2.567100e+04       0.000000\n25%    9.665830e+05       3.500000\n50%    1.448516e+06      10.780000\n75%    9.553042e+06      46.105000\nmax    1.802456e+07  467993.620000",
      "text/html": "<div>\n<style scoped>\n    .dataframe tbody tr th:only-of-type {\n        vertical-align: middle;\n    }\n\n    .dataframe tbody tr th {\n        vertical-align: top;\n    }\n\n    .dataframe thead th {\n        text-align: right;\n    }\n</style>\n<table border=\"1\" class=\"dataframe\">\n  <thead>\n    <tr style=\"text-align: right;\">\n      <th></th>\n      <th>item_id</th>\n      <th>sales_value</th>\n    </tr>\n  </thead>\n  <tbody>\n    <tr>\n      <th>count</th>\n      <td>8.905100e+04</td>\n      <td>89051.000000</td>\n    </tr>\n    <tr>\n      <th>mean</th>\n      <td>5.115772e+06</td>\n      <td>83.458481</td>\n    </tr>\n    <tr>\n      <th>std</th>\n      <td>5.178973e+06</td>\n      <td>1628.715079</td>\n    </tr>\n    <tr>\n      <th>min</th>\n      <td>2.567100e+04</td>\n      <td>0.000000</td>\n    </tr>\n    <tr>\n      <th>25%</th>\n      <td>9.665830e+05</td>\n      <td>3.500000</td>\n    </tr>\n    <tr>\n      <th>50%</th>\n      <td>1.448516e+06</td>\n      <td>10.780000</td>\n    </tr>\n    <tr>\n      <th>75%</th>\n      <td>9.553042e+06</td>\n      <td>46.105000</td>\n    </tr>\n    <tr>\n      <th>max</th>\n      <td>1.802456e+07</td>\n      <td>467993.620000</td>\n    </tr>\n  </tbody>\n</table>\n</div>"
     },
     "execution_count": 4,
     "metadata": {},
     "output_type": "execute_result"
    }
   ],
   "source": [
    "popularity = data.groupby('item_id')['sales_value'].sum().reset_index()\n",
    "popularity.describe()"
   ]
  },
  {
   "cell_type": "code",
   "execution_count": 5,
   "metadata": {
    "colab": {
     "base_uri": "https://localhost:8080/",
     "height": 297
    },
    "executionInfo": {
     "elapsed": 972,
     "status": "ok",
     "timestamp": 1639300690457,
     "user": {
      "displayName": "Николай -",
      "photoUrl": "https://lh3.googleusercontent.com/a-/AOh14GiCS90olAsBznR3WLZOaJ5ukcv2LPYBRWvHEQUZ-A=s64",
      "userId": "17372739142422056321"
     },
     "user_tz": -180
    },
    "id": "aKMW0bHd9vZq",
    "outputId": "5b9cb8d1-2bf9-4e32-c08a-0004a148aaa6"
   },
   "outputs": [
    {
     "data": {
      "text/plain": "            item_id       user_id\ncount  8.905100e+04  89051.000000\nmean   5.115772e+06     14.759767\nstd    5.178973e+06     45.904111\nmin    2.567100e+04      1.000000\n25%    9.665830e+05      1.000000\n50%    1.448516e+06      2.000000\n75%    9.553042e+06     10.000000\nmax    1.802456e+07   2039.000000",
      "text/html": "<div>\n<style scoped>\n    .dataframe tbody tr th:only-of-type {\n        vertical-align: middle;\n    }\n\n    .dataframe tbody tr th {\n        vertical-align: top;\n    }\n\n    .dataframe thead th {\n        text-align: right;\n    }\n</style>\n<table border=\"1\" class=\"dataframe\">\n  <thead>\n    <tr style=\"text-align: right;\">\n      <th></th>\n      <th>item_id</th>\n      <th>user_id</th>\n    </tr>\n  </thead>\n  <tbody>\n    <tr>\n      <th>count</th>\n      <td>8.905100e+04</td>\n      <td>89051.000000</td>\n    </tr>\n    <tr>\n      <th>mean</th>\n      <td>5.115772e+06</td>\n      <td>14.759767</td>\n    </tr>\n    <tr>\n      <th>std</th>\n      <td>5.178973e+06</td>\n      <td>45.904111</td>\n    </tr>\n    <tr>\n      <th>min</th>\n      <td>2.567100e+04</td>\n      <td>1.000000</td>\n    </tr>\n    <tr>\n      <th>25%</th>\n      <td>9.665830e+05</td>\n      <td>1.000000</td>\n    </tr>\n    <tr>\n      <th>50%</th>\n      <td>1.448516e+06</td>\n      <td>2.000000</td>\n    </tr>\n    <tr>\n      <th>75%</th>\n      <td>9.553042e+06</td>\n      <td>10.000000</td>\n    </tr>\n    <tr>\n      <th>max</th>\n      <td>1.802456e+07</td>\n      <td>2039.000000</td>\n    </tr>\n  </tbody>\n</table>\n</div>"
     },
     "execution_count": 5,
     "metadata": {},
     "output_type": "execute_result"
    }
   ],
   "source": [
    "popularity = data.groupby('item_id')['user_id'].nunique().reset_index()\n",
    "popularity.describe()"
   ]
  },
  {
   "cell_type": "code",
   "execution_count": 6,
   "metadata": {
    "id": "YcsOanje9vZt"
   },
   "outputs": [],
   "source": [
    "# train/test split\n",
    "test_size_weeks = 3\n",
    "\n",
    "data_train = data[data['week_no'] < data['week_no'].max() - test_size_weeks]\n",
    "data_test = data[data['week_no'] >= data['week_no'].max() - test_size_weeks]"
   ]
  },
  {
   "cell_type": "markdown",
   "metadata": {},
   "source": [
    "## prepare result frame"
   ]
  },
  {
   "cell_type": "code",
   "execution_count": 7,
   "metadata": {},
   "outputs": [
    {
     "data": {
      "text/plain": "   user_id                                             actual\n0        1  [821867, 834484, 856942, 865456, 889248, 90795...\n1        3  [835476, 851057, 872021, 878302, 879948, 90963...",
      "text/html": "<div>\n<style scoped>\n    .dataframe tbody tr th:only-of-type {\n        vertical-align: middle;\n    }\n\n    .dataframe tbody tr th {\n        vertical-align: top;\n    }\n\n    .dataframe thead th {\n        text-align: right;\n    }\n</style>\n<table border=\"1\" class=\"dataframe\">\n  <thead>\n    <tr style=\"text-align: right;\">\n      <th></th>\n      <th>user_id</th>\n      <th>actual</th>\n    </tr>\n  </thead>\n  <tbody>\n    <tr>\n      <th>0</th>\n      <td>1</td>\n      <td>[821867, 834484, 856942, 865456, 889248, 90795...</td>\n    </tr>\n    <tr>\n      <th>1</th>\n      <td>3</td>\n      <td>[835476, 851057, 872021, 878302, 879948, 90963...</td>\n    </tr>\n  </tbody>\n</table>\n</div>"
     },
     "execution_count": 7,
     "metadata": {},
     "output_type": "execute_result"
    }
   ],
   "source": [
    "# prepare result DataFrame\n",
    "result = data_test.groupby('user_id')['item_id'].unique().reset_index()\n",
    "result.columns=['user_id', 'actual']\n",
    "result.head(2)"
   ]
  },
  {
   "cell_type": "code",
   "execution_count": 8,
   "outputs": [
    {
     "name": "stdout",
     "output_type": "stream",
     "text": [
      "В тестовом дата сете 2042 юзеров\n",
      "В тестовом дата сете 0 новых юзеров\n"
     ]
    }
   ],
   "source": [
    "test_users = result.shape[0]\n",
    "new_test_users = len(set(data_test['user_id']) - set(data_train['user_id']))\n",
    "\n",
    "print('В тестовом дата сете {} юзеров'.format(test_users))\n",
    "print('В тестовом дата сете {} новых юзеров'.format(new_test_users))"
   ],
   "metadata": {
    "collapsed": false,
    "pycharm": {
     "name": "#%%\n"
    }
   }
  },
  {
   "cell_type": "markdown",
   "source": [
    "### prepare most popular top-K and pivot matrix"
   ],
   "metadata": {
    "collapsed": false
   }
  },
  {
   "cell_type": "code",
   "execution_count": 9,
   "outputs": [],
   "source": [
    "# Топ популярных товаров\n",
    "def k_popular(source, k=5000):\n",
    "    \"\"\" Топ K наиболее продаваемых товаров \"\"\"\n",
    "    popular = source.groupby('item_id')['quantity'].sum().reset_index()\n",
    "    return popular.sort_values('quantity', ascending=False).head(k).item_id.tolist()"
   ],
   "metadata": {
    "collapsed": false,
    "pycharm": {
     "name": "#%%\n"
    }
   }
  },
  {
   "cell_type": "code",
   "execution_count": 10,
   "outputs": [],
   "source": [
    "top_5000 = k_popular(data_train, k=5000)"
   ],
   "metadata": {
    "collapsed": false,
    "pycharm": {
     "name": "#%%\n"
    }
   }
  },
  {
   "cell_type": "code",
   "execution_count": 11,
   "outputs": [
    {
     "data": {
      "text/plain": "   user_id    basket_id  day  item_id  quantity  sales_value  store_id  \\\n0     2375  26984851472    1  1004906         1         1.39       364   \n1     2375  26984851472    1  1033142         1         0.82       364   \n2     2375  26984851472    1  1036325         1         0.99       364   \n3     2375  26984851472    1  1082185         1         1.21       364   \n4     2375  26984851472    1  8160430         1         1.50       364   \n\n   retail_disc  trans_time  week_no  coupon_disc  coupon_match_disc  \n0        -0.60        1631        1          0.0                0.0  \n1         0.00        1631        1          0.0                0.0  \n2        -0.30        1631        1          0.0                0.0  \n3         0.00        1631        1          0.0                0.0  \n4        -0.39        1631        1          0.0                0.0  ",
      "text/html": "<div>\n<style scoped>\n    .dataframe tbody tr th:only-of-type {\n        vertical-align: middle;\n    }\n\n    .dataframe tbody tr th {\n        vertical-align: top;\n    }\n\n    .dataframe thead th {\n        text-align: right;\n    }\n</style>\n<table border=\"1\" class=\"dataframe\">\n  <thead>\n    <tr style=\"text-align: right;\">\n      <th></th>\n      <th>user_id</th>\n      <th>basket_id</th>\n      <th>day</th>\n      <th>item_id</th>\n      <th>quantity</th>\n      <th>sales_value</th>\n      <th>store_id</th>\n      <th>retail_disc</th>\n      <th>trans_time</th>\n      <th>week_no</th>\n      <th>coupon_disc</th>\n      <th>coupon_match_disc</th>\n    </tr>\n  </thead>\n  <tbody>\n    <tr>\n      <th>0</th>\n      <td>2375</td>\n      <td>26984851472</td>\n      <td>1</td>\n      <td>1004906</td>\n      <td>1</td>\n      <td>1.39</td>\n      <td>364</td>\n      <td>-0.60</td>\n      <td>1631</td>\n      <td>1</td>\n      <td>0.0</td>\n      <td>0.0</td>\n    </tr>\n    <tr>\n      <th>1</th>\n      <td>2375</td>\n      <td>26984851472</td>\n      <td>1</td>\n      <td>1033142</td>\n      <td>1</td>\n      <td>0.82</td>\n      <td>364</td>\n      <td>0.00</td>\n      <td>1631</td>\n      <td>1</td>\n      <td>0.0</td>\n      <td>0.0</td>\n    </tr>\n    <tr>\n      <th>2</th>\n      <td>2375</td>\n      <td>26984851472</td>\n      <td>1</td>\n      <td>1036325</td>\n      <td>1</td>\n      <td>0.99</td>\n      <td>364</td>\n      <td>-0.30</td>\n      <td>1631</td>\n      <td>1</td>\n      <td>0.0</td>\n      <td>0.0</td>\n    </tr>\n    <tr>\n      <th>3</th>\n      <td>2375</td>\n      <td>26984851472</td>\n      <td>1</td>\n      <td>1082185</td>\n      <td>1</td>\n      <td>1.21</td>\n      <td>364</td>\n      <td>0.00</td>\n      <td>1631</td>\n      <td>1</td>\n      <td>0.0</td>\n      <td>0.0</td>\n    </tr>\n    <tr>\n      <th>4</th>\n      <td>2375</td>\n      <td>26984851472</td>\n      <td>1</td>\n      <td>8160430</td>\n      <td>1</td>\n      <td>1.50</td>\n      <td>364</td>\n      <td>-0.39</td>\n      <td>1631</td>\n      <td>1</td>\n      <td>0.0</td>\n      <td>0.0</td>\n    </tr>\n  </tbody>\n</table>\n</div>"
     },
     "execution_count": 11,
     "metadata": {},
     "output_type": "execute_result"
    }
   ],
   "source": [
    "# флаг, что товар не из топа\n",
    "top_train = data_train.copy()\n",
    "top_train.loc[~top_train['item_id'].isin(top_5000), 'item_id'] = -1\n",
    "\n",
    "top_train.head()"
   ],
   "metadata": {
    "collapsed": false,
    "pycharm": {
     "name": "#%%\n"
    }
   }
  },
  {
   "cell_type": "code",
   "execution_count": 12,
   "outputs": [],
   "source": [
    "user_item_matrix = pd.pivot_table(top_train,\n",
    "                                  index='user_id',\n",
    "                                  columns='item_id',\n",
    "                                  values='quantity',\n",
    "                                  aggfunc='count',\n",
    "                                  fill_value=0\n",
    "                                 )\n",
    "\n",
    "# user_item_matrix[-1] = 0        # эти товары не в топе. Это выключит фиктивное предсказание\n",
    "user_item_matrix[user_item_matrix > 0] = 1\n",
    "user_item_matrix = user_item_matrix.astype(float)\n",
    "\n",
    "# переведем в формат sparse matrix\n",
    "sparse_user_item = csr_matrix(user_item_matrix).tocsr()"
   ],
   "metadata": {
    "collapsed": false,
    "pycharm": {
     "name": "#%%\n"
    }
   }
  },
  {
   "cell_type": "code",
   "execution_count": 13,
   "outputs": [
    {
     "data": {
      "text/plain": "item_id  -1          202291     397896     420647     480014     545926    \\\nuser_id                                                                     \n1              1.0        0.0        0.0        0.0        0.0        0.0   \n2              1.0        0.0        0.0        0.0        0.0        0.0   \n3              1.0        0.0        0.0        0.0        0.0        0.0   \n4              1.0        0.0        0.0        0.0        0.0        0.0   \n5              1.0        0.0        0.0        0.0        0.0        0.0   \n\nitem_id   707683     731106     818980     819063    ...   15778533  \\\nuser_id                                              ...              \n1              0.0        0.0        0.0        0.0  ...        0.0   \n2              0.0        0.0        0.0        0.0  ...        0.0   \n3              0.0        0.0        0.0        0.0  ...        0.0   \n4              0.0        0.0        0.0        0.0  ...        0.0   \n5              0.0        0.0        0.0        0.0  ...        0.0   \n\nitem_id   15831255   15926712   15926775   15926844   15926886   15927403  \\\nuser_id                                                                     \n1              0.0        0.0        0.0        1.0        0.0        0.0   \n2              0.0        0.0        0.0        0.0        0.0        0.0   \n3              0.0        0.0        0.0        0.0        0.0        0.0   \n4              0.0        0.0        0.0        0.0        0.0        0.0   \n5              0.0        0.0        0.0        0.0        0.0        0.0   \n\nitem_id   15927661   15927850   16809471  \nuser_id                                   \n1              0.0        0.0        0.0  \n2              0.0        0.0        0.0  \n3              0.0        0.0        0.0  \n4              0.0        0.0        0.0  \n5              0.0        0.0        0.0  \n\n[5 rows x 5001 columns]",
      "text/html": "<div>\n<style scoped>\n    .dataframe tbody tr th:only-of-type {\n        vertical-align: middle;\n    }\n\n    .dataframe tbody tr th {\n        vertical-align: top;\n    }\n\n    .dataframe thead th {\n        text-align: right;\n    }\n</style>\n<table border=\"1\" class=\"dataframe\">\n  <thead>\n    <tr style=\"text-align: right;\">\n      <th>item_id</th>\n      <th>-1</th>\n      <th>202291</th>\n      <th>397896</th>\n      <th>420647</th>\n      <th>480014</th>\n      <th>545926</th>\n      <th>707683</th>\n      <th>731106</th>\n      <th>818980</th>\n      <th>819063</th>\n      <th>...</th>\n      <th>15778533</th>\n      <th>15831255</th>\n      <th>15926712</th>\n      <th>15926775</th>\n      <th>15926844</th>\n      <th>15926886</th>\n      <th>15927403</th>\n      <th>15927661</th>\n      <th>15927850</th>\n      <th>16809471</th>\n    </tr>\n    <tr>\n      <th>user_id</th>\n      <th></th>\n      <th></th>\n      <th></th>\n      <th></th>\n      <th></th>\n      <th></th>\n      <th></th>\n      <th></th>\n      <th></th>\n      <th></th>\n      <th></th>\n      <th></th>\n      <th></th>\n      <th></th>\n      <th></th>\n      <th></th>\n      <th></th>\n      <th></th>\n      <th></th>\n      <th></th>\n      <th></th>\n    </tr>\n  </thead>\n  <tbody>\n    <tr>\n      <th>1</th>\n      <td>1.0</td>\n      <td>0.0</td>\n      <td>0.0</td>\n      <td>0.0</td>\n      <td>0.0</td>\n      <td>0.0</td>\n      <td>0.0</td>\n      <td>0.0</td>\n      <td>0.0</td>\n      <td>0.0</td>\n      <td>...</td>\n      <td>0.0</td>\n      <td>0.0</td>\n      <td>0.0</td>\n      <td>0.0</td>\n      <td>1.0</td>\n      <td>0.0</td>\n      <td>0.0</td>\n      <td>0.0</td>\n      <td>0.0</td>\n      <td>0.0</td>\n    </tr>\n    <tr>\n      <th>2</th>\n      <td>1.0</td>\n      <td>0.0</td>\n      <td>0.0</td>\n      <td>0.0</td>\n      <td>0.0</td>\n      <td>0.0</td>\n      <td>0.0</td>\n      <td>0.0</td>\n      <td>0.0</td>\n      <td>0.0</td>\n      <td>...</td>\n      <td>0.0</td>\n      <td>0.0</td>\n      <td>0.0</td>\n      <td>0.0</td>\n      <td>0.0</td>\n      <td>0.0</td>\n      <td>0.0</td>\n      <td>0.0</td>\n      <td>0.0</td>\n      <td>0.0</td>\n    </tr>\n    <tr>\n      <th>3</th>\n      <td>1.0</td>\n      <td>0.0</td>\n      <td>0.0</td>\n      <td>0.0</td>\n      <td>0.0</td>\n      <td>0.0</td>\n      <td>0.0</td>\n      <td>0.0</td>\n      <td>0.0</td>\n      <td>0.0</td>\n      <td>...</td>\n      <td>0.0</td>\n      <td>0.0</td>\n      <td>0.0</td>\n      <td>0.0</td>\n      <td>0.0</td>\n      <td>0.0</td>\n      <td>0.0</td>\n      <td>0.0</td>\n      <td>0.0</td>\n      <td>0.0</td>\n    </tr>\n    <tr>\n      <th>4</th>\n      <td>1.0</td>\n      <td>0.0</td>\n      <td>0.0</td>\n      <td>0.0</td>\n      <td>0.0</td>\n      <td>0.0</td>\n      <td>0.0</td>\n      <td>0.0</td>\n      <td>0.0</td>\n      <td>0.0</td>\n      <td>...</td>\n      <td>0.0</td>\n      <td>0.0</td>\n      <td>0.0</td>\n      <td>0.0</td>\n      <td>0.0</td>\n      <td>0.0</td>\n      <td>0.0</td>\n      <td>0.0</td>\n      <td>0.0</td>\n      <td>0.0</td>\n    </tr>\n    <tr>\n      <th>5</th>\n      <td>1.0</td>\n      <td>0.0</td>\n      <td>0.0</td>\n      <td>0.0</td>\n      <td>0.0</td>\n      <td>0.0</td>\n      <td>0.0</td>\n      <td>0.0</td>\n      <td>0.0</td>\n      <td>0.0</td>\n      <td>...</td>\n      <td>0.0</td>\n      <td>0.0</td>\n      <td>0.0</td>\n      <td>0.0</td>\n      <td>0.0</td>\n      <td>0.0</td>\n      <td>0.0</td>\n      <td>0.0</td>\n      <td>0.0</td>\n      <td>0.0</td>\n    </tr>\n  </tbody>\n</table>\n<p>5 rows × 5001 columns</p>\n</div>"
     },
     "execution_count": 13,
     "metadata": {},
     "output_type": "execute_result"
    }
   ],
   "source": [
    "user_item_matrix.head()"
   ],
   "metadata": {
    "collapsed": false,
    "pycharm": {
     "name": "#%%\n"
    }
   }
  },
  {
   "cell_type": "code",
   "execution_count": 14,
   "outputs": [],
   "source": [
    "# remap dictionaries\n",
    "id_to_itemid = dict(enumerate(user_item_matrix.columns.values))\n",
    "id_to_userid = dict(enumerate(user_item_matrix.index.values))\n",
    "\n",
    "itemid_to_id = {v: k for k, v in id_to_itemid.items()}\n",
    "userid_to_id = {v: k for k, v in id_to_userid.items()}"
   ],
   "metadata": {
    "collapsed": false,
    "pycharm": {
     "name": "#%%\n"
    }
   }
  },
  {
   "cell_type": "markdown",
   "source": [
    "## 1. Baselines"
   ],
   "metadata": {
    "collapsed": false
   }
  },
  {
   "cell_type": "markdown",
   "source": [
    "### 1.1 Random recommendation"
   ],
   "metadata": {
    "collapsed": false
   }
  },
  {
   "cell_type": "code",
   "execution_count": 15,
   "outputs": [],
   "source": [
    "def random_recommendation(_items, n=5):\n",
    "    \"\"\"Случайные рекоммендации\"\"\"\n",
    "    _items = np.array(_items)\n",
    "    _recs = np.random.default_rng().choice(items, size=n, replace=False)\n",
    "    return _recs.tolist()"
   ],
   "metadata": {
    "collapsed": false,
    "pycharm": {
     "name": "#%%\n"
    }
   }
  },
  {
   "cell_type": "code",
   "execution_count": 16,
   "outputs": [
    {
     "name": "stdout",
     "output_type": "stream",
     "text": [
      "CPU times: user 215 ms, sys: 4.44 ms, total: 219 ms\n",
      "Wall time: 218 ms\n"
     ]
    },
    {
     "data": {
      "text/plain": "   user_id                                             actual  \\\n0        1  [821867, 834484, 856942, 865456, 889248, 90795...   \n1        3  [835476, 851057, 872021, 878302, 879948, 90963...   \n2        6  [920308, 926804, 946489, 1006718, 1017061, 107...   \n\n                                          random  \n0   [1035497, 1968985, 1120955, 13210073, 66479]  \n1     [984680, 13382151, 878837, 845090, 957866]  \n2  [5996550, 1333373, 958945, 1960562, 13133787]  ",
      "text/html": "<div>\n<style scoped>\n    .dataframe tbody tr th:only-of-type {\n        vertical-align: middle;\n    }\n\n    .dataframe tbody tr th {\n        vertical-align: top;\n    }\n\n    .dataframe thead th {\n        text-align: right;\n    }\n</style>\n<table border=\"1\" class=\"dataframe\">\n  <thead>\n    <tr style=\"text-align: right;\">\n      <th></th>\n      <th>user_id</th>\n      <th>actual</th>\n      <th>random</th>\n    </tr>\n  </thead>\n  <tbody>\n    <tr>\n      <th>0</th>\n      <td>1</td>\n      <td>[821867, 834484, 856942, 865456, 889248, 90795...</td>\n      <td>[1035497, 1968985, 1120955, 13210073, 66479]</td>\n    </tr>\n    <tr>\n      <th>1</th>\n      <td>3</td>\n      <td>[835476, 851057, 872021, 878302, 879948, 90963...</td>\n      <td>[984680, 13382151, 878837, 845090, 957866]</td>\n    </tr>\n    <tr>\n      <th>2</th>\n      <td>6</td>\n      <td>[920308, 926804, 946489, 1006718, 1017061, 107...</td>\n      <td>[5996550, 1333373, 958945, 1960562, 13133787]</td>\n    </tr>\n  </tbody>\n</table>\n</div>"
     },
     "execution_count": 16,
     "metadata": {},
     "output_type": "execute_result"
    }
   ],
   "source": [
    "%%time\n",
    "items = data_train.item_id.unique()\n",
    "result['random'] = result['user_id'].apply(lambda x: random_recommendation(items, n=5))\n",
    "result.head(3)"
   ],
   "metadata": {
    "collapsed": false,
    "pycharm": {
     "name": "#%%\n"
    }
   }
  },
  {
   "cell_type": "markdown",
   "source": [
    "### 1.2 Popularity-based recommendation"
   ],
   "metadata": {
    "collapsed": false
   }
  },
  {
   "cell_type": "code",
   "execution_count": 17,
   "outputs": [],
   "source": [
    "def popularity_recommendation(_data, n=5):\n",
    "    \"\"\"Топ-n популярных товаров\"\"\"\n",
    "    popular = _data.groupby('item_id')['sales_value'].sum().reset_index()\n",
    "    popular.sort_values('sales_value', ascending=False, inplace=True)\n",
    "    _recs = popular.head(n).item_id\n",
    "    return _recs.tolist()"
   ],
   "metadata": {
    "collapsed": false,
    "pycharm": {
     "name": "#%%\n"
    }
   }
  },
  {
   "cell_type": "code",
   "execution_count": 18,
   "outputs": [
    {
     "name": "stdout",
     "output_type": "stream",
     "text": [
      "CPU times: user 91.9 ms, sys: 0 ns, total: 91.9 ms\n",
      "Wall time: 90.5 ms\n"
     ]
    },
    {
     "data": {
      "text/plain": "   user_id                                             actual  \\\n0        1  [821867, 834484, 856942, 865456, 889248, 90795...   \n1        3  [835476, 851057, 872021, 878302, 879948, 90963...   \n2        6  [920308, 926804, 946489, 1006718, 1017061, 107...   \n\n                                          random  \\\n0   [1035497, 1968985, 1120955, 13210073, 66479]   \n1     [984680, 13382151, 878837, 845090, 957866]   \n2  [5996550, 1333373, 958945, 1960562, 13133787]   \n\n                                    most_popular  \n0  [6534178, 6533889, 1029743, 6534166, 1082185]  \n1  [6534178, 6533889, 1029743, 6534166, 1082185]  \n2  [6534178, 6533889, 1029743, 6534166, 1082185]  ",
      "text/html": "<div>\n<style scoped>\n    .dataframe tbody tr th:only-of-type {\n        vertical-align: middle;\n    }\n\n    .dataframe tbody tr th {\n        vertical-align: top;\n    }\n\n    .dataframe thead th {\n        text-align: right;\n    }\n</style>\n<table border=\"1\" class=\"dataframe\">\n  <thead>\n    <tr style=\"text-align: right;\">\n      <th></th>\n      <th>user_id</th>\n      <th>actual</th>\n      <th>random</th>\n      <th>most_popular</th>\n    </tr>\n  </thead>\n  <tbody>\n    <tr>\n      <th>0</th>\n      <td>1</td>\n      <td>[821867, 834484, 856942, 865456, 889248, 90795...</td>\n      <td>[1035497, 1968985, 1120955, 13210073, 66479]</td>\n      <td>[6534178, 6533889, 1029743, 6534166, 1082185]</td>\n    </tr>\n    <tr>\n      <th>1</th>\n      <td>3</td>\n      <td>[835476, 851057, 872021, 878302, 879948, 90963...</td>\n      <td>[984680, 13382151, 878837, 845090, 957866]</td>\n      <td>[6534178, 6533889, 1029743, 6534166, 1082185]</td>\n    </tr>\n    <tr>\n      <th>2</th>\n      <td>6</td>\n      <td>[920308, 926804, 946489, 1006718, 1017061, 107...</td>\n      <td>[5996550, 1333373, 958945, 1960562, 13133787]</td>\n      <td>[6534178, 6533889, 1029743, 6534166, 1082185]</td>\n    </tr>\n  </tbody>\n</table>\n</div>"
     },
     "execution_count": 18,
     "metadata": {},
     "output_type": "execute_result"
    }
   ],
   "source": [
    "%%time\n",
    "# Можно так делать, так как рекомендация не зависит от юзера\n",
    "popular_recs = popularity_recommendation(data_train, n=5)\n",
    "result['most_popular'] = result['user_id'].apply(lambda x: popular_recs)\n",
    "result.head(3)"
   ],
   "metadata": {
    "collapsed": false,
    "pycharm": {
     "name": "#%%\n"
    }
   }
  },
  {
   "cell_type": "markdown",
   "source": [
    "### 1.3 Weighted random recommender"
   ],
   "metadata": {
    "collapsed": false
   }
  },
  {
   "cell_type": "code",
   "execution_count": 19,
   "outputs": [],
   "source": [
    "def weighted_random_recommendation(items_weights, n=5):\n",
    "    \"\"\"Случайные рекомендации\n",
    "\n",
    "    Input\n",
    "    -----\n",
    "    items_weights: pd.DataFrame\n",
    "        Датафрейм со столбцами item_id, weight. Сумма weight по всем товарам = 1\n",
    "    \"\"\"\n",
    "    _items = items_weights['item_id'].astype(int)\n",
    "    _weights = items_weights['weight'].astype(float)\n",
    "    _recs = np.random.default_rng().choice(_items, size=n, replace=False, p=_weights)\n",
    "    return _recs.tolist()"
   ],
   "metadata": {
    "collapsed": false,
    "pycharm": {
     "name": "#%%\n"
    }
   }
  },
  {
   "cell_type": "code",
   "execution_count": 20,
   "outputs": [],
   "source": [
    "# Товары можно ранжировать не только по суммарной стоимости, но еще и по количеству проданных единиц\n",
    "# т.о. в топ не попадут очень дорогие редко продаваемые товары\n",
    "# с другой стороны, попадут дешевые товары, которые покупаются в больших количествах\n",
    "# чтобы более-менее уравновесить эти параметры, их можно масштабировать\n",
    "\n",
    "def calc_weights(source: pd.DataFrame, vec_fields: List[str], beta: List[float]):\n",
    "    \"\"\" Расчет весов\n",
    "    :param source - исходные данные\n",
    "    :param vec_fields - признаки, используемые в измерении веса\n",
    "    :param beta - множитель для изменения значимости признака в оценке веса\n",
    "    \"\"\"\n",
    "    grouped_goods = source.groupby('item_id')[vec_fields].sum()\n",
    "    beta = np.array(beta)\n",
    "\n",
    "    # mean scale\n",
    "    scaled_grouped_goods = ((grouped_goods - grouped_goods.mean()) / grouped_goods.std()) * beta\n",
    "    # min-max scale\n",
    "    # scaled_grouped_goods = (grouped_goods - grouped_goods.min()) / (grouped_goods.max() - grouped_goods.min())\n",
    "    # sum scale\n",
    "    # scaled_grouped_goods = grouped_goods / grouped_goods.sum()\n",
    "\n",
    "    # в качестве веса товара берем нормализованную норму вектора товара\n",
    "    vec_norma = np.linalg.norm(scaled_grouped_goods, ord=2, axis=1)\n",
    "    grouped_goods['weight'] = vec_norma / vec_norma.sum()\n",
    "\n",
    "    return grouped_goods.sort_values('weight', ascending=False).reset_index()"
   ],
   "metadata": {
    "collapsed": false,
    "pycharm": {
     "name": "#%%\n"
    }
   }
  },
  {
   "cell_type": "code",
   "execution_count": 21,
   "outputs": [
    {
     "name": "stdout",
     "output_type": "stream",
     "text": [
      "CPU times: user 2.85 s, sys: 15.4 ms, total: 2.86 s\n",
      "Wall time: 2.87 s\n"
     ]
    },
    {
     "data": {
      "text/plain": "   user_id                                             actual  \\\n0        1  [821867, 834484, 856942, 865456, 889248, 90795...   \n1        3  [835476, 851057, 872021, 878302, 879948, 90963...   \n2        6  [920308, 926804, 946489, 1006718, 1017061, 107...   \n\n                                          random  \\\n0   [1035497, 1968985, 1120955, 13210073, 66479]   \n1     [984680, 13382151, 878837, 845090, 957866]   \n2  [5996550, 1333373, 958945, 1960562, 13133787]   \n\n                                    most_popular  \\\n0  [6534178, 6533889, 1029743, 6534166, 1082185]   \n1  [6534178, 6533889, 1029743, 6534166, 1082185]   \n2  [6534178, 6533889, 1029743, 6534166, 1082185]   \n\n                                 weighted_random  \n0  [12384897, 66750, 1122350, 15596962, 9193875]  \n1   [1058997, 10182558, 1028094, 821279, 859075]  \n2  [871105, 5584645, 1008288, 12523835, 1136222]  ",
      "text/html": "<div>\n<style scoped>\n    .dataframe tbody tr th:only-of-type {\n        vertical-align: middle;\n    }\n\n    .dataframe tbody tr th {\n        vertical-align: top;\n    }\n\n    .dataframe thead th {\n        text-align: right;\n    }\n</style>\n<table border=\"1\" class=\"dataframe\">\n  <thead>\n    <tr style=\"text-align: right;\">\n      <th></th>\n      <th>user_id</th>\n      <th>actual</th>\n      <th>random</th>\n      <th>most_popular</th>\n      <th>weighted_random</th>\n    </tr>\n  </thead>\n  <tbody>\n    <tr>\n      <th>0</th>\n      <td>1</td>\n      <td>[821867, 834484, 856942, 865456, 889248, 90795...</td>\n      <td>[1035497, 1968985, 1120955, 13210073, 66479]</td>\n      <td>[6534178, 6533889, 1029743, 6534166, 1082185]</td>\n      <td>[12384897, 66750, 1122350, 15596962, 9193875]</td>\n    </tr>\n    <tr>\n      <th>1</th>\n      <td>3</td>\n      <td>[835476, 851057, 872021, 878302, 879948, 90963...</td>\n      <td>[984680, 13382151, 878837, 845090, 957866]</td>\n      <td>[6534178, 6533889, 1029743, 6534166, 1082185]</td>\n      <td>[1058997, 10182558, 1028094, 821279, 859075]</td>\n    </tr>\n    <tr>\n      <th>2</th>\n      <td>6</td>\n      <td>[920308, 926804, 946489, 1006718, 1017061, 107...</td>\n      <td>[5996550, 1333373, 958945, 1960562, 13133787]</td>\n      <td>[6534178, 6533889, 1029743, 6534166, 1082185]</td>\n      <td>[871105, 5584645, 1008288, 12523835, 1136222]</td>\n    </tr>\n  </tbody>\n</table>\n</div>"
     },
     "execution_count": 21,
     "metadata": {},
     "output_type": "execute_result"
    }
   ],
   "source": [
    "%%time\n",
    "weighted_goods = calc_weights(data_train, vec_fields = ['quantity', 'sales_value'], beta=[1., 1.])\n",
    "result['weighted_random'] = result['user_id'].apply(lambda x: weighted_random_recommendation(weighted_goods, n=5))\n",
    "result.head(3)"
   ],
   "metadata": {
    "collapsed": false,
    "pycharm": {
     "name": "#%%\n"
    }
   }
  },
  {
   "cell_type": "markdown",
   "source": [
    "### 1.4 Random from top-K"
   ],
   "metadata": {
    "collapsed": false
   }
  },
  {
   "cell_type": "code",
   "execution_count": 22,
   "outputs": [
    {
     "name": "stdout",
     "output_type": "stream",
     "text": [
      "CPU times: user 693 ms, sys: 7.95 ms, total: 701 ms\n",
      "Wall time: 701 ms\n"
     ]
    },
    {
     "data": {
      "text/plain": "   user_id                                             actual  \\\n0        1  [821867, 834484, 856942, 865456, 889248, 90795...   \n1        3  [835476, 851057, 872021, 878302, 879948, 90963...   \n2        6  [920308, 926804, 946489, 1006718, 1017061, 107...   \n\n                                          random  \\\n0   [1035497, 1968985, 1120955, 13210073, 66479]   \n1     [984680, 13382151, 878837, 845090, 957866]   \n2  [5996550, 1333373, 958945, 1960562, 13133787]   \n\n                                    most_popular  \\\n0  [6534178, 6533889, 1029743, 6534166, 1082185]   \n1  [6534178, 6533889, 1029743, 6534166, 1082185]   \n2  [6534178, 6533889, 1029743, 6534166, 1082185]   \n\n                                 weighted_random  \\\n0  [12384897, 66750, 1122350, 15596962, 9193875]   \n1   [1058997, 10182558, 1028094, 821279, 859075]   \n2  [871105, 5584645, 1008288, 12523835, 1136222]   \n\n                                   random_from_top  \n0  [7442953, 5996611, 10119550, 5996261, 10150076]  \n1      [1079171, 995896, 1962521, 1069614, 392610]  \n2        [981038, 1021546, 908361, 827366, 941396]  ",
      "text/html": "<div>\n<style scoped>\n    .dataframe tbody tr th:only-of-type {\n        vertical-align: middle;\n    }\n\n    .dataframe tbody tr th {\n        vertical-align: top;\n    }\n\n    .dataframe thead th {\n        text-align: right;\n    }\n</style>\n<table border=\"1\" class=\"dataframe\">\n  <thead>\n    <tr style=\"text-align: right;\">\n      <th></th>\n      <th>user_id</th>\n      <th>actual</th>\n      <th>random</th>\n      <th>most_popular</th>\n      <th>weighted_random</th>\n      <th>random_from_top</th>\n    </tr>\n  </thead>\n  <tbody>\n    <tr>\n      <th>0</th>\n      <td>1</td>\n      <td>[821867, 834484, 856942, 865456, 889248, 90795...</td>\n      <td>[1035497, 1968985, 1120955, 13210073, 66479]</td>\n      <td>[6534178, 6533889, 1029743, 6534166, 1082185]</td>\n      <td>[12384897, 66750, 1122350, 15596962, 9193875]</td>\n      <td>[7442953, 5996611, 10119550, 5996261, 10150076]</td>\n    </tr>\n    <tr>\n      <th>1</th>\n      <td>3</td>\n      <td>[835476, 851057, 872021, 878302, 879948, 90963...</td>\n      <td>[984680, 13382151, 878837, 845090, 957866]</td>\n      <td>[6534178, 6533889, 1029743, 6534166, 1082185]</td>\n      <td>[1058997, 10182558, 1028094, 821279, 859075]</td>\n      <td>[1079171, 995896, 1962521, 1069614, 392610]</td>\n    </tr>\n    <tr>\n      <th>2</th>\n      <td>6</td>\n      <td>[920308, 926804, 946489, 1006718, 1017061, 107...</td>\n      <td>[5996550, 1333373, 958945, 1960562, 13133787]</td>\n      <td>[6534178, 6533889, 1029743, 6534166, 1082185]</td>\n      <td>[871105, 5584645, 1008288, 12523835, 1136222]</td>\n      <td>[981038, 1021546, 908361, 827366, 941396]</td>\n    </tr>\n  </tbody>\n</table>\n</div>"
     },
     "execution_count": 22,
     "metadata": {},
     "output_type": "execute_result"
    }
   ],
   "source": [
    "%%time\n",
    "result['random_from_top'] = result['user_id'].apply(lambda x: random_recommendation(top_5000, n=5))\n",
    "result.head(3)"
   ],
   "metadata": {
    "collapsed": false,
    "pycharm": {
     "name": "#%%\n"
    }
   }
  },
  {
   "cell_type": "markdown",
   "source": [
    "### 1.5 Weighted random from top-K"
   ],
   "metadata": {
    "collapsed": false
   }
  },
  {
   "cell_type": "code",
   "execution_count": 23,
   "outputs": [
    {
     "name": "stdout",
     "output_type": "stream",
     "text": [
      "CPU times: user 878 ms, sys: 20 ms, total: 898 ms\n",
      "Wall time: 896 ms\n"
     ]
    },
    {
     "data": {
      "text/plain": "   user_id                                             actual  \\\n0        1  [821867, 834484, 856942, 865456, 889248, 90795...   \n1        3  [835476, 851057, 872021, 878302, 879948, 90963...   \n2        6  [920308, 926804, 946489, 1006718, 1017061, 107...   \n\n                                          random  \\\n0   [1035497, 1968985, 1120955, 13210073, 66479]   \n1     [984680, 13382151, 878837, 845090, 957866]   \n2  [5996550, 1333373, 958945, 1960562, 13133787]   \n\n                                    most_popular  \\\n0  [6534178, 6533889, 1029743, 6534166, 1082185]   \n1  [6534178, 6533889, 1029743, 6534166, 1082185]   \n2  [6534178, 6533889, 1029743, 6534166, 1082185]   \n\n                                 weighted_random  \\\n0  [12384897, 66750, 1122350, 15596962, 9193875]   \n1   [1058997, 10182558, 1028094, 821279, 859075]   \n2  [871105, 5584645, 1008288, 12523835, 1136222]   \n\n                                   random_from_top  \\\n0  [7442953, 5996611, 10119550, 5996261, 10150076]   \n1      [1079171, 995896, 1962521, 1069614, 392610]   \n2        [981038, 1021546, 908361, 827366, 941396]   \n\n                          weighted_random_from_top  \n0      [883003, 995785, 12262830, 1117219, 828331]  \n1        [1004906, 995242, 981760, 970119, 965766]  \n2  [13671759, 1059527, 6533889, 1134210, 13512965]  ",
      "text/html": "<div>\n<style scoped>\n    .dataframe tbody tr th:only-of-type {\n        vertical-align: middle;\n    }\n\n    .dataframe tbody tr th {\n        vertical-align: top;\n    }\n\n    .dataframe thead th {\n        text-align: right;\n    }\n</style>\n<table border=\"1\" class=\"dataframe\">\n  <thead>\n    <tr style=\"text-align: right;\">\n      <th></th>\n      <th>user_id</th>\n      <th>actual</th>\n      <th>random</th>\n      <th>most_popular</th>\n      <th>weighted_random</th>\n      <th>random_from_top</th>\n      <th>weighted_random_from_top</th>\n    </tr>\n  </thead>\n  <tbody>\n    <tr>\n      <th>0</th>\n      <td>1</td>\n      <td>[821867, 834484, 856942, 865456, 889248, 90795...</td>\n      <td>[1035497, 1968985, 1120955, 13210073, 66479]</td>\n      <td>[6534178, 6533889, 1029743, 6534166, 1082185]</td>\n      <td>[12384897, 66750, 1122350, 15596962, 9193875]</td>\n      <td>[7442953, 5996611, 10119550, 5996261, 10150076]</td>\n      <td>[883003, 995785, 12262830, 1117219, 828331]</td>\n    </tr>\n    <tr>\n      <th>1</th>\n      <td>3</td>\n      <td>[835476, 851057, 872021, 878302, 879948, 90963...</td>\n      <td>[984680, 13382151, 878837, 845090, 957866]</td>\n      <td>[6534178, 6533889, 1029743, 6534166, 1082185]</td>\n      <td>[1058997, 10182558, 1028094, 821279, 859075]</td>\n      <td>[1079171, 995896, 1962521, 1069614, 392610]</td>\n      <td>[1004906, 995242, 981760, 970119, 965766]</td>\n    </tr>\n    <tr>\n      <th>2</th>\n      <td>6</td>\n      <td>[920308, 926804, 946489, 1006718, 1017061, 107...</td>\n      <td>[5996550, 1333373, 958945, 1960562, 13133787]</td>\n      <td>[6534178, 6533889, 1029743, 6534166, 1082185]</td>\n      <td>[871105, 5584645, 1008288, 12523835, 1136222]</td>\n      <td>[981038, 1021546, 908361, 827366, 941396]</td>\n      <td>[13671759, 1059527, 6533889, 1134210, 13512965]</td>\n    </tr>\n  </tbody>\n</table>\n</div>"
     },
     "execution_count": 23,
     "metadata": {},
     "output_type": "execute_result"
    }
   ],
   "source": [
    "%%time\n",
    "top_weighted_goods = calc_weights(data_train[data_train['item_id'].isin(top_5000)], vec_fields = ['quantity', 'sales_value'], beta=[1., 1.])\n",
    "result['weighted_random_from_top'] = result['user_id'].apply(lambda x: weighted_random_recommendation(top_weighted_goods, n=5))\n",
    "result.head(3)"
   ],
   "metadata": {
    "collapsed": false,
    "pycharm": {
     "name": "#%%\n"
    }
   }
  },
  {
   "cell_type": "markdown",
   "source": [
    "## 2. Детерминированные алгоритмы item-item"
   ],
   "metadata": {
    "collapsed": false
   }
  },
  {
   "cell_type": "markdown",
   "source": [
    "### подготовка функции-рекомендателя"
   ],
   "metadata": {
    "collapsed": false
   }
  },
  {
   "cell_type": "code",
   "execution_count": 24,
   "metadata": {
    "id": "iLuh78DsEBow"
   },
   "outputs": [],
   "source": [
    "recommender_params = {\n",
    "    'user_items': sparse_user_item,\n",
    "    'N': 5, # кол-во рекомендаций\n",
    "    'filter_already_liked_items': False,\n",
    "    'filter_items': [itemid_to_id[-1]],\n",
    "    # 'recalculate_user': False       # из сорсов имплисита: recalculate_user is ignored because this is not a model based algorithm\n",
    "}\n",
    "\n",
    "def recommender(user_id, mdl, params):\n",
    "    rec_score = mdl.recommend(userid_to_id[user_id], **params)\n",
    "    return [id_to_itemid[rec[0]] for rec in rec_score]\n"
   ]
  },
  {
   "cell_type": "markdown",
   "source": [
    "### 2.1 Item-Item Recommender / ItemKNN"
   ],
   "metadata": {
    "collapsed": false
   }
  },
  {
   "cell_type": "code",
   "execution_count": 25,
   "outputs": [
    {
     "data": {
      "text/plain": "  0%|          | 0/5001 [00:00<?, ?it/s]",
      "application/vnd.jupyter.widget-view+json": {
       "version_major": 2,
       "version_minor": 0,
       "model_id": "dfc3ae9a63ba40f49b09f3fb81d79ec1"
      }
     },
     "metadata": {},
     "output_type": "display_data"
    },
    {
     "name": "stdout",
     "output_type": "stream",
     "text": [
      "CPU times: user 1.8 s, sys: 6.49 ms, total: 1.81 s\n",
      "Wall time: 330 ms\n"
     ]
    }
   ],
   "source": [
    "%%time\n",
    "model = ItemItemRecommender(K=5, num_threads=0) # K - кол-во ближайших соседей\n",
    "model.fit(sparse_user_item.T, show_progress=True)"
   ],
   "metadata": {
    "collapsed": false,
    "pycharm": {
     "name": "#%%\n"
    }
   }
  },
  {
   "cell_type": "code",
   "execution_count": 26,
   "metadata": {
    "colab": {
     "base_uri": "https://localhost:8080/"
    },
    "executionInfo": {
     "elapsed": 285,
     "status": "ok",
     "timestamp": 1639304040608,
     "user": {
      "displayName": "Николай -",
      "photoUrl": "https://lh3.googleusercontent.com/a-/AOh14GiCS90olAsBznR3WLZOaJ5ukcv2LPYBRWvHEQUZ-A=s64",
      "userId": "17372739142422056321"
     },
     "user_tz": -180
    },
    "id": "2x6k4S0b9vZ5",
    "outputId": "6fb0b913-dc51-4b4b-9996-2df5b926fe31"
   },
   "outputs": [
    {
     "name": "stdout",
     "output_type": "stream",
     "text": [
      "CPU times: user 104 ms, sys: 1.43 ms, total: 106 ms\n",
      "Wall time: 77.7 ms\n"
     ]
    },
    {
     "data": {
      "text/plain": "   user_id                                             actual  \\\n0        1  [821867, 834484, 856942, 865456, 889248, 90795...   \n1        3  [835476, 851057, 872021, 878302, 879948, 90963...   \n2        6  [920308, 926804, 946489, 1006718, 1017061, 107...   \n\n                                          random  \\\n0   [1035497, 1968985, 1120955, 13210073, 66479]   \n1     [984680, 13382151, 878837, 845090, 957866]   \n2  [5996550, 1333373, 958945, 1960562, 13133787]   \n\n                                    most_popular  \\\n0  [6534178, 6533889, 1029743, 6534166, 1082185]   \n1  [6534178, 6533889, 1029743, 6534166, 1082185]   \n2  [6534178, 6533889, 1029743, 6534166, 1082185]   \n\n                                 weighted_random  \\\n0  [12384897, 66750, 1122350, 15596962, 9193875]   \n1   [1058997, 10182558, 1028094, 821279, 859075]   \n2  [871105, 5584645, 1008288, 12523835, 1136222]   \n\n                                   random_from_top  \\\n0  [7442953, 5996611, 10119550, 5996261, 10150076]   \n1      [1079171, 995896, 1962521, 1069614, 392610]   \n2        [981038, 1021546, 908361, 827366, 941396]   \n\n                          weighted_random_from_top  \\\n0      [883003, 995785, 12262830, 1117219, 828331]   \n1        [1004906, 995242, 981760, 970119, 965766]   \n2  [13671759, 1059527, 6533889, 1134210, 13512965]   \n\n                                      item_knn  \n0  [1082185, 981760, 1127831, 995242, 1098066]  \n1   [1082185, 981760, 1098066, 995242, 826249]  \n2  [1082185, 981760, 1127831, 995242, 1098066]  ",
      "text/html": "<div>\n<style scoped>\n    .dataframe tbody tr th:only-of-type {\n        vertical-align: middle;\n    }\n\n    .dataframe tbody tr th {\n        vertical-align: top;\n    }\n\n    .dataframe thead th {\n        text-align: right;\n    }\n</style>\n<table border=\"1\" class=\"dataframe\">\n  <thead>\n    <tr style=\"text-align: right;\">\n      <th></th>\n      <th>user_id</th>\n      <th>actual</th>\n      <th>random</th>\n      <th>most_popular</th>\n      <th>weighted_random</th>\n      <th>random_from_top</th>\n      <th>weighted_random_from_top</th>\n      <th>item_knn</th>\n    </tr>\n  </thead>\n  <tbody>\n    <tr>\n      <th>0</th>\n      <td>1</td>\n      <td>[821867, 834484, 856942, 865456, 889248, 90795...</td>\n      <td>[1035497, 1968985, 1120955, 13210073, 66479]</td>\n      <td>[6534178, 6533889, 1029743, 6534166, 1082185]</td>\n      <td>[12384897, 66750, 1122350, 15596962, 9193875]</td>\n      <td>[7442953, 5996611, 10119550, 5996261, 10150076]</td>\n      <td>[883003, 995785, 12262830, 1117219, 828331]</td>\n      <td>[1082185, 981760, 1127831, 995242, 1098066]</td>\n    </tr>\n    <tr>\n      <th>1</th>\n      <td>3</td>\n      <td>[835476, 851057, 872021, 878302, 879948, 90963...</td>\n      <td>[984680, 13382151, 878837, 845090, 957866]</td>\n      <td>[6534178, 6533889, 1029743, 6534166, 1082185]</td>\n      <td>[1058997, 10182558, 1028094, 821279, 859075]</td>\n      <td>[1079171, 995896, 1962521, 1069614, 392610]</td>\n      <td>[1004906, 995242, 981760, 970119, 965766]</td>\n      <td>[1082185, 981760, 1098066, 995242, 826249]</td>\n    </tr>\n    <tr>\n      <th>2</th>\n      <td>6</td>\n      <td>[920308, 926804, 946489, 1006718, 1017061, 107...</td>\n      <td>[5996550, 1333373, 958945, 1960562, 13133787]</td>\n      <td>[6534178, 6533889, 1029743, 6534166, 1082185]</td>\n      <td>[871105, 5584645, 1008288, 12523835, 1136222]</td>\n      <td>[981038, 1021546, 908361, 827366, 941396]</td>\n      <td>[13671759, 1059527, 6533889, 1134210, 13512965]</td>\n      <td>[1082185, 981760, 1127831, 995242, 1098066]</td>\n    </tr>\n  </tbody>\n</table>\n</div>"
     },
     "execution_count": 26,
     "metadata": {},
     "output_type": "execute_result"
    }
   ],
   "source": [
    "%%time\n",
    "result['item_knn'] = result['user_id'].apply(partial(recommender, mdl=model, params=recommender_params))\n",
    "result.head(3)"
   ]
  },
  {
   "cell_type": "markdown",
   "metadata": {
    "id": "mR05hf9n9vZ6"
   },
   "source": [
    "### 2.2 Косинусное сходство и CosineRecommender"
   ]
  },
  {
   "cell_type": "code",
   "execution_count": 27,
   "metadata": {
    "colab": {
     "base_uri": "https://localhost:8080/",
     "height": 83,
     "referenced_widgets": [
      "d53900b28f1a4a2997b8eef5184b7a1d",
      "18b1c5dd9b9c457a813fc62b94014298",
      "f2a07b219cfa49eba992d109e2091445",
      "b11ca4f2601d4f76979d576f5672d6d8",
      "59b2bc20c9524bd89b28c31ceb8b758f",
      "df55c2a2a6f64d89b55fab63b9301949",
      "e53fdcd3aa5b4660aadd6c97373e9b4c",
      "b9946f999c67477f83a09fe351d7e33b",
      "39c1b8c5d7214f4ea8aebbc4e84a3e8b",
      "66749085f4144dad9b4b1b87d396ca88",
      "a0ce05fbf2c14afaace3df10cb13be89"
     ]
    },
    "executionInfo": {
     "elapsed": 2858,
     "status": "ok",
     "timestamp": 1639304409237,
     "user": {
      "displayName": "Николай -",
      "photoUrl": "https://lh3.googleusercontent.com/a-/AOh14GiCS90olAsBznR3WLZOaJ5ukcv2LPYBRWvHEQUZ-A=s64",
      "userId": "17372739142422056321"
     },
     "user_tz": -180
    },
    "id": "fGEj5yjz9vZ6",
    "outputId": "fe54a561-3a0b-40af-ffb4-f01a2b7a5448"
   },
   "outputs": [
    {
     "data": {
      "text/plain": "  0%|          | 0/5001 [00:00<?, ?it/s]",
      "application/vnd.jupyter.widget-view+json": {
       "version_major": 2,
       "version_minor": 0,
       "model_id": "8b65b5e0025d437e8579dd5d6071b1c0"
      }
     },
     "metadata": {},
     "output_type": "display_data"
    },
    {
     "name": "stdout",
     "output_type": "stream",
     "text": [
      "CPU times: user 1.76 s, sys: 13.9 ms, total: 1.77 s\n",
      "Wall time: 344 ms\n"
     ]
    }
   ],
   "source": [
    "%%time\n",
    "model = CosineRecommender(K=5, num_threads=0)\n",
    "model.fit(sparse_user_item.T, show_progress=True)"
   ]
  },
  {
   "cell_type": "code",
   "execution_count": 28,
   "metadata": {
    "colab": {
     "base_uri": "https://localhost:8080/"
    },
    "executionInfo": {
     "elapsed": 1058,
     "status": "ok",
     "timestamp": 1639304417985,
     "user": {
      "displayName": "Николай -",
      "photoUrl": "https://lh3.googleusercontent.com/a-/AOh14GiCS90olAsBznR3WLZOaJ5ukcv2LPYBRWvHEQUZ-A=s64",
      "userId": "17372739142422056321"
     },
     "user_tz": -180
    },
    "id": "Hz-bZN-G9vZ7",
    "outputId": "5864552a-1022-4d9d-b208-8c97cf13c3c9"
   },
   "outputs": [
    {
     "name": "stdout",
     "output_type": "stream",
     "text": [
      "CPU times: user 96 ms, sys: 103 µs, total: 96.1 ms\n",
      "Wall time: 91.1 ms\n"
     ]
    },
    {
     "data": {
      "text/plain": "   user_id                                             actual  \\\n0        1  [821867, 834484, 856942, 865456, 889248, 90795...   \n1        3  [835476, 851057, 872021, 878302, 879948, 90963...   \n2        6  [920308, 926804, 946489, 1006718, 1017061, 107...   \n\n                                          random  \\\n0   [1035497, 1968985, 1120955, 13210073, 66479]   \n1     [984680, 13382151, 878837, 845090, 957866]   \n2  [5996550, 1333373, 958945, 1960562, 13133787]   \n\n                                    most_popular  \\\n0  [6534178, 6533889, 1029743, 6534166, 1082185]   \n1  [6534178, 6533889, 1029743, 6534166, 1082185]   \n2  [6534178, 6533889, 1029743, 6534166, 1082185]   \n\n                                 weighted_random  \\\n0  [12384897, 66750, 1122350, 15596962, 9193875]   \n1   [1058997, 10182558, 1028094, 821279, 859075]   \n2  [871105, 5584645, 1008288, 12523835, 1136222]   \n\n                                   random_from_top  \\\n0  [7442953, 5996611, 10119550, 5996261, 10150076]   \n1      [1079171, 995896, 1962521, 1069614, 392610]   \n2        [981038, 1021546, 908361, 827366, 941396]   \n\n                          weighted_random_from_top  \\\n0      [883003, 995785, 12262830, 1117219, 828331]   \n1        [1004906, 995242, 981760, 970119, 965766]   \n2  [13671759, 1059527, 6533889, 1134210, 13512965]   \n\n                                      item_knn  \\\n0  [1082185, 981760, 1127831, 995242, 1098066]   \n1   [1082185, 981760, 1098066, 995242, 826249]   \n2  [1082185, 981760, 1127831, 995242, 1098066]   \n\n                                        cosine  \n0  [1082185, 981760, 1127831, 1098066, 961554]  \n1   [1082185, 1098066, 981760, 826249, 883404]  \n2  [1082185, 981760, 1127831, 1098066, 961554]  ",
      "text/html": "<div>\n<style scoped>\n    .dataframe tbody tr th:only-of-type {\n        vertical-align: middle;\n    }\n\n    .dataframe tbody tr th {\n        vertical-align: top;\n    }\n\n    .dataframe thead th {\n        text-align: right;\n    }\n</style>\n<table border=\"1\" class=\"dataframe\">\n  <thead>\n    <tr style=\"text-align: right;\">\n      <th></th>\n      <th>user_id</th>\n      <th>actual</th>\n      <th>random</th>\n      <th>most_popular</th>\n      <th>weighted_random</th>\n      <th>random_from_top</th>\n      <th>weighted_random_from_top</th>\n      <th>item_knn</th>\n      <th>cosine</th>\n    </tr>\n  </thead>\n  <tbody>\n    <tr>\n      <th>0</th>\n      <td>1</td>\n      <td>[821867, 834484, 856942, 865456, 889248, 90795...</td>\n      <td>[1035497, 1968985, 1120955, 13210073, 66479]</td>\n      <td>[6534178, 6533889, 1029743, 6534166, 1082185]</td>\n      <td>[12384897, 66750, 1122350, 15596962, 9193875]</td>\n      <td>[7442953, 5996611, 10119550, 5996261, 10150076]</td>\n      <td>[883003, 995785, 12262830, 1117219, 828331]</td>\n      <td>[1082185, 981760, 1127831, 995242, 1098066]</td>\n      <td>[1082185, 981760, 1127831, 1098066, 961554]</td>\n    </tr>\n    <tr>\n      <th>1</th>\n      <td>3</td>\n      <td>[835476, 851057, 872021, 878302, 879948, 90963...</td>\n      <td>[984680, 13382151, 878837, 845090, 957866]</td>\n      <td>[6534178, 6533889, 1029743, 6534166, 1082185]</td>\n      <td>[1058997, 10182558, 1028094, 821279, 859075]</td>\n      <td>[1079171, 995896, 1962521, 1069614, 392610]</td>\n      <td>[1004906, 995242, 981760, 970119, 965766]</td>\n      <td>[1082185, 981760, 1098066, 995242, 826249]</td>\n      <td>[1082185, 1098066, 981760, 826249, 883404]</td>\n    </tr>\n    <tr>\n      <th>2</th>\n      <td>6</td>\n      <td>[920308, 926804, 946489, 1006718, 1017061, 107...</td>\n      <td>[5996550, 1333373, 958945, 1960562, 13133787]</td>\n      <td>[6534178, 6533889, 1029743, 6534166, 1082185]</td>\n      <td>[871105, 5584645, 1008288, 12523835, 1136222]</td>\n      <td>[981038, 1021546, 908361, 827366, 941396]</td>\n      <td>[13671759, 1059527, 6533889, 1134210, 13512965]</td>\n      <td>[1082185, 981760, 1127831, 995242, 1098066]</td>\n      <td>[1082185, 981760, 1127831, 1098066, 961554]</td>\n    </tr>\n  </tbody>\n</table>\n</div>"
     },
     "execution_count": 28,
     "metadata": {},
     "output_type": "execute_result"
    }
   ],
   "source": [
    "%%time\n",
    "result['cosine'] = result['user_id'].apply(partial(recommender, mdl=model, params=recommender_params))\n",
    "result.head(3)"
   ]
  },
  {
   "cell_type": "markdown",
   "metadata": {
    "id": "Vj7U9ZRc9vZ8"
   },
   "source": [
    "### 2.3 TF-IDF взвешивание и TFIDFRecommender"
   ]
  },
  {
   "cell_type": "code",
   "execution_count": 29,
   "metadata": {
    "colab": {
     "base_uri": "https://localhost:8080/",
     "height": 83,
     "referenced_widgets": [
      "cfec0af668844031ae87448b88ad70af",
      "294d039f558846a7a1fccb2b940ad4aa",
      "c7f30dce2f4f492ba382726159859b90",
      "134c5404c529448f842917125a277e0d",
      "64f50a70a9594ce889cc645643063dd3",
      "e9e77d4cef364d38a192c58817577d66",
      "bac0443395d842d89c5cacf38f998c02",
      "7831a21d238a4a1da14d102580ebdf78",
      "abf7361c73a44563bd2e30141668af2e",
      "4fe62e1e21fd4d64b32050632eeb0d59",
      "0993f1cd4f0c4a928b2b8d1a3a160dba"
     ]
    },
    "executionInfo": {
     "elapsed": 2362,
     "status": "ok",
     "timestamp": 1639304680446,
     "user": {
      "displayName": "Николай -",
      "photoUrl": "https://lh3.googleusercontent.com/a-/AOh14GiCS90olAsBznR3WLZOaJ5ukcv2LPYBRWvHEQUZ-A=s64",
      "userId": "17372739142422056321"
     },
     "user_tz": -180
    },
    "id": "aRaqTtIz9vZ8",
    "outputId": "1e6cf249-1225-4bdb-a9b2-a9cf68c2b77b"
   },
   "outputs": [
    {
     "data": {
      "text/plain": "  0%|          | 0/5001 [00:00<?, ?it/s]",
      "application/vnd.jupyter.widget-view+json": {
       "version_major": 2,
       "version_minor": 0,
       "model_id": "dd868d082d3a407cad09bbd2d279de30"
      }
     },
     "metadata": {},
     "output_type": "display_data"
    },
    {
     "name": "stdout",
     "output_type": "stream",
     "text": [
      "CPU times: user 1.83 s, sys: 35.4 ms, total: 1.86 s\n",
      "Wall time: 340 ms\n"
     ]
    }
   ],
   "source": [
    "%%time\n",
    "model = TFIDFRecommender(K=5, num_threads=0)\n",
    "model.fit(sparse_user_item.T, show_progress=True)"
   ]
  },
  {
   "cell_type": "code",
   "execution_count": 30,
   "outputs": [
    {
     "name": "stdout",
     "output_type": "stream",
     "text": [
      "CPU times: user 110 ms, sys: 403 µs, total: 110 ms\n",
      "Wall time: 97.9 ms\n"
     ]
    },
    {
     "data": {
      "text/plain": "   user_id                                             actual  \\\n0        1  [821867, 834484, 856942, 865456, 889248, 90795...   \n1        3  [835476, 851057, 872021, 878302, 879948, 90963...   \n2        6  [920308, 926804, 946489, 1006718, 1017061, 107...   \n\n                                          random  \\\n0   [1035497, 1968985, 1120955, 13210073, 66479]   \n1     [984680, 13382151, 878837, 845090, 957866]   \n2  [5996550, 1333373, 958945, 1960562, 13133787]   \n\n                                    most_popular  \\\n0  [6534178, 6533889, 1029743, 6534166, 1082185]   \n1  [6534178, 6533889, 1029743, 6534166, 1082185]   \n2  [6534178, 6533889, 1029743, 6534166, 1082185]   \n\n                                 weighted_random  \\\n0  [12384897, 66750, 1122350, 15596962, 9193875]   \n1   [1058997, 10182558, 1028094, 821279, 859075]   \n2  [871105, 5584645, 1008288, 12523835, 1136222]   \n\n                                   random_from_top  \\\n0  [7442953, 5996611, 10119550, 5996261, 10150076]   \n1      [1079171, 995896, 1962521, 1069614, 392610]   \n2        [981038, 1021546, 908361, 827366, 941396]   \n\n                          weighted_random_from_top  \\\n0      [883003, 995785, 12262830, 1117219, 828331]   \n1        [1004906, 995242, 981760, 970119, 965766]   \n2  [13671759, 1059527, 6533889, 1134210, 13512965]   \n\n                                      item_knn  \\\n0  [1082185, 981760, 1127831, 995242, 1098066]   \n1   [1082185, 981760, 1098066, 995242, 826249]   \n2  [1082185, 981760, 1127831, 995242, 1098066]   \n\n                                        cosine  \\\n0  [1082185, 981760, 1127831, 1098066, 961554]   \n1   [1082185, 1098066, 981760, 826249, 883404]   \n2  [1082185, 981760, 1127831, 1098066, 961554]   \n\n                                         tfidf  \n0  [1082185, 981760, 1127831, 1098066, 961554]  \n1   [1082185, 981760, 1098066, 826249, 883404]  \n2   [1082185, 981760, 1127831, 878996, 961554]  ",
      "text/html": "<div>\n<style scoped>\n    .dataframe tbody tr th:only-of-type {\n        vertical-align: middle;\n    }\n\n    .dataframe tbody tr th {\n        vertical-align: top;\n    }\n\n    .dataframe thead th {\n        text-align: right;\n    }\n</style>\n<table border=\"1\" class=\"dataframe\">\n  <thead>\n    <tr style=\"text-align: right;\">\n      <th></th>\n      <th>user_id</th>\n      <th>actual</th>\n      <th>random</th>\n      <th>most_popular</th>\n      <th>weighted_random</th>\n      <th>random_from_top</th>\n      <th>weighted_random_from_top</th>\n      <th>item_knn</th>\n      <th>cosine</th>\n      <th>tfidf</th>\n    </tr>\n  </thead>\n  <tbody>\n    <tr>\n      <th>0</th>\n      <td>1</td>\n      <td>[821867, 834484, 856942, 865456, 889248, 90795...</td>\n      <td>[1035497, 1968985, 1120955, 13210073, 66479]</td>\n      <td>[6534178, 6533889, 1029743, 6534166, 1082185]</td>\n      <td>[12384897, 66750, 1122350, 15596962, 9193875]</td>\n      <td>[7442953, 5996611, 10119550, 5996261, 10150076]</td>\n      <td>[883003, 995785, 12262830, 1117219, 828331]</td>\n      <td>[1082185, 981760, 1127831, 995242, 1098066]</td>\n      <td>[1082185, 981760, 1127831, 1098066, 961554]</td>\n      <td>[1082185, 981760, 1127831, 1098066, 961554]</td>\n    </tr>\n    <tr>\n      <th>1</th>\n      <td>3</td>\n      <td>[835476, 851057, 872021, 878302, 879948, 90963...</td>\n      <td>[984680, 13382151, 878837, 845090, 957866]</td>\n      <td>[6534178, 6533889, 1029743, 6534166, 1082185]</td>\n      <td>[1058997, 10182558, 1028094, 821279, 859075]</td>\n      <td>[1079171, 995896, 1962521, 1069614, 392610]</td>\n      <td>[1004906, 995242, 981760, 970119, 965766]</td>\n      <td>[1082185, 981760, 1098066, 995242, 826249]</td>\n      <td>[1082185, 1098066, 981760, 826249, 883404]</td>\n      <td>[1082185, 981760, 1098066, 826249, 883404]</td>\n    </tr>\n    <tr>\n      <th>2</th>\n      <td>6</td>\n      <td>[920308, 926804, 946489, 1006718, 1017061, 107...</td>\n      <td>[5996550, 1333373, 958945, 1960562, 13133787]</td>\n      <td>[6534178, 6533889, 1029743, 6534166, 1082185]</td>\n      <td>[871105, 5584645, 1008288, 12523835, 1136222]</td>\n      <td>[981038, 1021546, 908361, 827366, 941396]</td>\n      <td>[13671759, 1059527, 6533889, 1134210, 13512965]</td>\n      <td>[1082185, 981760, 1127831, 995242, 1098066]</td>\n      <td>[1082185, 981760, 1127831, 1098066, 961554]</td>\n      <td>[1082185, 981760, 1127831, 878996, 961554]</td>\n    </tr>\n  </tbody>\n</table>\n</div>"
     },
     "execution_count": 30,
     "metadata": {},
     "output_type": "execute_result"
    }
   ],
   "source": [
    "%%time\n",
    "result['tfidf'] = result['user_id'].apply(partial(recommender, mdl=model, params=recommender_params))\n",
    "result.head(3)"
   ],
   "metadata": {
    "collapsed": false,
    "pycharm": {
     "name": "#%%\n"
    }
   }
  },
  {
   "cell_type": "markdown",
   "metadata": {
    "id": "zDCrQwaC9vZ-"
   },
   "source": [
    "### 2.4 Трюк - по истории конкретного пользователя (K=1)"
   ]
  },
  {
   "cell_type": "code",
   "execution_count": 31,
   "metadata": {
    "colab": {
     "base_uri": "https://localhost:8080/",
     "height": 83,
     "referenced_widgets": [
      "5407098d4c374521b004ca4102d75b66",
      "558a140c59c449d0abecdb4a5867b11c",
      "843fa3533d444b2c837bf1868a1b9725",
      "594242898371447090d5374bbe1cfeea",
      "f9e7bbfb196a42e9b97626a339cea9e3",
      "ce1ada80ecb6427a857c8f0a1076c029",
      "8040d429311d49b99ba387f22916de18",
      "84a1798b354141ca8ad9c6f08733a686",
      "9a4183ed53364b81a8c7de94bba0c3f2",
      "5ed3fc64abf345a59b8348da0de36fbc",
      "0f0be173e5ad4caba3f5b3e72e994a57"
     ]
    },
    "executionInfo": {
     "elapsed": 2271,
     "status": "ok",
     "timestamp": 1639304753107,
     "user": {
      "displayName": "Николай -",
      "photoUrl": "https://lh3.googleusercontent.com/a-/AOh14GiCS90olAsBznR3WLZOaJ5ukcv2LPYBRWvHEQUZ-A=s64",
      "userId": "17372739142422056321"
     },
     "user_tz": -180
    },
    "id": "xGVGPqPt9vZ-",
    "outputId": "3e17b467-22d9-419d-a983-2d7398f3a727"
   },
   "outputs": [
    {
     "data": {
      "text/plain": "  0%|          | 0/5001 [00:00<?, ?it/s]",
      "application/vnd.jupyter.widget-view+json": {
       "version_major": 2,
       "version_minor": 0,
       "model_id": "772c5abf54e14fada9afb7219910878b"
      }
     },
     "metadata": {},
     "output_type": "display_data"
    },
    {
     "name": "stdout",
     "output_type": "stream",
     "text": [
      "CPU times: user 1.76 s, sys: 6.16 ms, total: 1.76 s\n",
      "Wall time: 298 ms\n"
     ]
    }
   ],
   "source": [
    "%%time\n",
    "model = ItemItemRecommender(K=1, num_threads=0)\n",
    "model.fit(sparse_user_item.T, show_progress=True)"
   ]
  },
  {
   "cell_type": "code",
   "execution_count": 32,
   "metadata": {
    "colab": {
     "base_uri": "https://localhost:8080/"
    },
    "executionInfo": {
     "elapsed": 277,
     "status": "ok",
     "timestamp": 1639304757635,
     "user": {
      "displayName": "Николай -",
      "photoUrl": "https://lh3.googleusercontent.com/a-/AOh14GiCS90olAsBznR3WLZOaJ5ukcv2LPYBRWvHEQUZ-A=s64",
      "userId": "17372739142422056321"
     },
     "user_tz": -180
    },
    "id": "2pfQuXZ99vZ-",
    "outputId": "8577ab20-609a-458f-851c-721f0fcc1780"
   },
   "outputs": [
    {
     "name": "stdout",
     "output_type": "stream",
     "text": [
      "CPU times: user 78.6 ms, sys: 284 µs, total: 78.9 ms\n",
      "Wall time: 65 ms\n"
     ]
    },
    {
     "data": {
      "text/plain": "   user_id                                             actual  \\\n0        1  [821867, 834484, 856942, 865456, 889248, 90795...   \n1        3  [835476, 851057, 872021, 878302, 879948, 90963...   \n2        6  [920308, 926804, 946489, 1006718, 1017061, 107...   \n\n                                          random  \\\n0   [1035497, 1968985, 1120955, 13210073, 66479]   \n1     [984680, 13382151, 878837, 845090, 957866]   \n2  [5996550, 1333373, 958945, 1960562, 13133787]   \n\n                                    most_popular  \\\n0  [6534178, 6533889, 1029743, 6534166, 1082185]   \n1  [6534178, 6533889, 1029743, 6534166, 1082185]   \n2  [6534178, 6533889, 1029743, 6534166, 1082185]   \n\n                                 weighted_random  \\\n0  [12384897, 66750, 1122350, 15596962, 9193875]   \n1   [1058997, 10182558, 1028094, 821279, 859075]   \n2  [871105, 5584645, 1008288, 12523835, 1136222]   \n\n                                   random_from_top  \\\n0  [7442953, 5996611, 10119550, 5996261, 10150076]   \n1      [1079171, 995896, 1962521, 1069614, 392610]   \n2        [981038, 1021546, 908361, 827366, 941396]   \n\n                          weighted_random_from_top  \\\n0      [883003, 995785, 12262830, 1117219, 828331]   \n1        [1004906, 995242, 981760, 970119, 965766]   \n2  [13671759, 1059527, 6533889, 1134210, 13512965]   \n\n                                      item_knn  \\\n0  [1082185, 981760, 1127831, 995242, 1098066]   \n1   [1082185, 981760, 1098066, 995242, 826249]   \n2  [1082185, 981760, 1127831, 995242, 1098066]   \n\n                                        cosine  \\\n0  [1082185, 981760, 1127831, 1098066, 961554]   \n1   [1082185, 1098066, 981760, 826249, 883404]   \n2  [1082185, 981760, 1127831, 1098066, 961554]   \n\n                                         tfidf  \\\n0  [1082185, 981760, 1127831, 1098066, 961554]   \n1   [1082185, 981760, 1098066, 826249, 883404]   \n2   [1082185, 981760, 1127831, 878996, 961554]   \n\n                                  own_purchases  \n0    [1082185, 995242, 1029743, 840361, 904360]  \n1  [1082185, 1098066, 6534178, 826249, 1127831]  \n2    [1082185, 981760, 995242, 1029743, 840361]  ",
      "text/html": "<div>\n<style scoped>\n    .dataframe tbody tr th:only-of-type {\n        vertical-align: middle;\n    }\n\n    .dataframe tbody tr th {\n        vertical-align: top;\n    }\n\n    .dataframe thead th {\n        text-align: right;\n    }\n</style>\n<table border=\"1\" class=\"dataframe\">\n  <thead>\n    <tr style=\"text-align: right;\">\n      <th></th>\n      <th>user_id</th>\n      <th>actual</th>\n      <th>random</th>\n      <th>most_popular</th>\n      <th>weighted_random</th>\n      <th>random_from_top</th>\n      <th>weighted_random_from_top</th>\n      <th>item_knn</th>\n      <th>cosine</th>\n      <th>tfidf</th>\n      <th>own_purchases</th>\n    </tr>\n  </thead>\n  <tbody>\n    <tr>\n      <th>0</th>\n      <td>1</td>\n      <td>[821867, 834484, 856942, 865456, 889248, 90795...</td>\n      <td>[1035497, 1968985, 1120955, 13210073, 66479]</td>\n      <td>[6534178, 6533889, 1029743, 6534166, 1082185]</td>\n      <td>[12384897, 66750, 1122350, 15596962, 9193875]</td>\n      <td>[7442953, 5996611, 10119550, 5996261, 10150076]</td>\n      <td>[883003, 995785, 12262830, 1117219, 828331]</td>\n      <td>[1082185, 981760, 1127831, 995242, 1098066]</td>\n      <td>[1082185, 981760, 1127831, 1098066, 961554]</td>\n      <td>[1082185, 981760, 1127831, 1098066, 961554]</td>\n      <td>[1082185, 995242, 1029743, 840361, 904360]</td>\n    </tr>\n    <tr>\n      <th>1</th>\n      <td>3</td>\n      <td>[835476, 851057, 872021, 878302, 879948, 90963...</td>\n      <td>[984680, 13382151, 878837, 845090, 957866]</td>\n      <td>[6534178, 6533889, 1029743, 6534166, 1082185]</td>\n      <td>[1058997, 10182558, 1028094, 821279, 859075]</td>\n      <td>[1079171, 995896, 1962521, 1069614, 392610]</td>\n      <td>[1004906, 995242, 981760, 970119, 965766]</td>\n      <td>[1082185, 981760, 1098066, 995242, 826249]</td>\n      <td>[1082185, 1098066, 981760, 826249, 883404]</td>\n      <td>[1082185, 981760, 1098066, 826249, 883404]</td>\n      <td>[1082185, 1098066, 6534178, 826249, 1127831]</td>\n    </tr>\n    <tr>\n      <th>2</th>\n      <td>6</td>\n      <td>[920308, 926804, 946489, 1006718, 1017061, 107...</td>\n      <td>[5996550, 1333373, 958945, 1960562, 13133787]</td>\n      <td>[6534178, 6533889, 1029743, 6534166, 1082185]</td>\n      <td>[871105, 5584645, 1008288, 12523835, 1136222]</td>\n      <td>[981038, 1021546, 908361, 827366, 941396]</td>\n      <td>[13671759, 1059527, 6533889, 1134210, 13512965]</td>\n      <td>[1082185, 981760, 1127831, 995242, 1098066]</td>\n      <td>[1082185, 981760, 1127831, 1098066, 961554]</td>\n      <td>[1082185, 981760, 1127831, 878996, 961554]</td>\n      <td>[1082185, 981760, 995242, 1029743, 840361]</td>\n    </tr>\n  </tbody>\n</table>\n</div>"
     },
     "execution_count": 32,
     "metadata": {},
     "output_type": "execute_result"
    }
   ],
   "source": [
    "%%time\n",
    "result['own_purchases'] = result['user_id'].apply(partial(recommender, mdl=model, params=recommender_params))\n",
    "result.head(3)"
   ]
  },
  {
   "cell_type": "markdown",
   "source": [
    "### 2.5 BM25 recommender"
   ],
   "metadata": {
    "collapsed": false
   }
  },
  {
   "cell_type": "code",
   "execution_count": 33,
   "outputs": [
    {
     "data": {
      "text/plain": "  0%|          | 0/5001 [00:00<?, ?it/s]",
      "application/vnd.jupyter.widget-view+json": {
       "version_major": 2,
       "version_minor": 0,
       "model_id": "f9cf34d18b974c83a06cbbf52e8d1928"
      }
     },
     "metadata": {},
     "output_type": "display_data"
    },
    {
     "name": "stdout",
     "output_type": "stream",
     "text": [
      "CPU times: user 1.77 s, sys: 7.87 ms, total: 1.78 s\n",
      "Wall time: 300 ms\n"
     ]
    }
   ],
   "source": [
    "%%time\n",
    "model = BM25Recommender(K=5, num_threads=0)\n",
    "model.fit(sparse_user_item.T, show_progress=True)"
   ],
   "metadata": {
    "collapsed": false,
    "pycharm": {
     "name": "#%%\n"
    }
   }
  },
  {
   "cell_type": "code",
   "execution_count": 34,
   "outputs": [
    {
     "name": "stdout",
     "output_type": "stream",
     "text": [
      "CPU times: user 93.3 ms, sys: 299 µs, total: 93.6 ms\n",
      "Wall time: 89.5 ms\n"
     ]
    },
    {
     "data": {
      "text/plain": "   user_id                                             actual  \\\n0        1  [821867, 834484, 856942, 865456, 889248, 90795...   \n1        3  [835476, 851057, 872021, 878302, 879948, 90963...   \n2        6  [920308, 926804, 946489, 1006718, 1017061, 107...   \n\n                                          random  \\\n0   [1035497, 1968985, 1120955, 13210073, 66479]   \n1     [984680, 13382151, 878837, 845090, 957866]   \n2  [5996550, 1333373, 958945, 1960562, 13133787]   \n\n                                    most_popular  \\\n0  [6534178, 6533889, 1029743, 6534166, 1082185]   \n1  [6534178, 6533889, 1029743, 6534166, 1082185]   \n2  [6534178, 6533889, 1029743, 6534166, 1082185]   \n\n                                 weighted_random  \\\n0  [12384897, 66750, 1122350, 15596962, 9193875]   \n1   [1058997, 10182558, 1028094, 821279, 859075]   \n2  [871105, 5584645, 1008288, 12523835, 1136222]   \n\n                                   random_from_top  \\\n0  [7442953, 5996611, 10119550, 5996261, 10150076]   \n1      [1079171, 995896, 1962521, 1069614, 392610]   \n2        [981038, 1021546, 908361, 827366, 941396]   \n\n                          weighted_random_from_top  \\\n0      [883003, 995785, 12262830, 1117219, 828331]   \n1        [1004906, 995242, 981760, 970119, 965766]   \n2  [13671759, 1059527, 6533889, 1134210, 13512965]   \n\n                                      item_knn  \\\n0  [1082185, 981760, 1127831, 995242, 1098066]   \n1   [1082185, 981760, 1098066, 995242, 826249]   \n2  [1082185, 981760, 1127831, 995242, 1098066]   \n\n                                        cosine  \\\n0  [1082185, 981760, 1127831, 1098066, 961554]   \n1   [1082185, 1098066, 981760, 826249, 883404]   \n2  [1082185, 981760, 1127831, 1098066, 961554]   \n\n                                         tfidf  \\\n0  [1082185, 981760, 1127831, 1098066, 961554]   \n1   [1082185, 981760, 1098066, 826249, 883404]   \n2   [1082185, 981760, 1127831, 878996, 961554]   \n\n                                  own_purchases  \\\n0    [1082185, 995242, 1029743, 840361, 904360]   \n1  [1082185, 1098066, 6534178, 826249, 1127831]   \n2    [1082185, 981760, 995242, 1029743, 840361]   \n\n                                          bm25  \n0    [872137, 901062, 986947, 1098248, 995785]  \n1   [1044078, 883404, 913202, 833723, 9526563]  \n2  [951412, 1041259, 901062, 1082185, 1023720]  ",
      "text/html": "<div>\n<style scoped>\n    .dataframe tbody tr th:only-of-type {\n        vertical-align: middle;\n    }\n\n    .dataframe tbody tr th {\n        vertical-align: top;\n    }\n\n    .dataframe thead th {\n        text-align: right;\n    }\n</style>\n<table border=\"1\" class=\"dataframe\">\n  <thead>\n    <tr style=\"text-align: right;\">\n      <th></th>\n      <th>user_id</th>\n      <th>actual</th>\n      <th>random</th>\n      <th>most_popular</th>\n      <th>weighted_random</th>\n      <th>random_from_top</th>\n      <th>weighted_random_from_top</th>\n      <th>item_knn</th>\n      <th>cosine</th>\n      <th>tfidf</th>\n      <th>own_purchases</th>\n      <th>bm25</th>\n    </tr>\n  </thead>\n  <tbody>\n    <tr>\n      <th>0</th>\n      <td>1</td>\n      <td>[821867, 834484, 856942, 865456, 889248, 90795...</td>\n      <td>[1035497, 1968985, 1120955, 13210073, 66479]</td>\n      <td>[6534178, 6533889, 1029743, 6534166, 1082185]</td>\n      <td>[12384897, 66750, 1122350, 15596962, 9193875]</td>\n      <td>[7442953, 5996611, 10119550, 5996261, 10150076]</td>\n      <td>[883003, 995785, 12262830, 1117219, 828331]</td>\n      <td>[1082185, 981760, 1127831, 995242, 1098066]</td>\n      <td>[1082185, 981760, 1127831, 1098066, 961554]</td>\n      <td>[1082185, 981760, 1127831, 1098066, 961554]</td>\n      <td>[1082185, 995242, 1029743, 840361, 904360]</td>\n      <td>[872137, 901062, 986947, 1098248, 995785]</td>\n    </tr>\n    <tr>\n      <th>1</th>\n      <td>3</td>\n      <td>[835476, 851057, 872021, 878302, 879948, 90963...</td>\n      <td>[984680, 13382151, 878837, 845090, 957866]</td>\n      <td>[6534178, 6533889, 1029743, 6534166, 1082185]</td>\n      <td>[1058997, 10182558, 1028094, 821279, 859075]</td>\n      <td>[1079171, 995896, 1962521, 1069614, 392610]</td>\n      <td>[1004906, 995242, 981760, 970119, 965766]</td>\n      <td>[1082185, 981760, 1098066, 995242, 826249]</td>\n      <td>[1082185, 1098066, 981760, 826249, 883404]</td>\n      <td>[1082185, 981760, 1098066, 826249, 883404]</td>\n      <td>[1082185, 1098066, 6534178, 826249, 1127831]</td>\n      <td>[1044078, 883404, 913202, 833723, 9526563]</td>\n    </tr>\n    <tr>\n      <th>2</th>\n      <td>6</td>\n      <td>[920308, 926804, 946489, 1006718, 1017061, 107...</td>\n      <td>[5996550, 1333373, 958945, 1960562, 13133787]</td>\n      <td>[6534178, 6533889, 1029743, 6534166, 1082185]</td>\n      <td>[871105, 5584645, 1008288, 12523835, 1136222]</td>\n      <td>[981038, 1021546, 908361, 827366, 941396]</td>\n      <td>[13671759, 1059527, 6533889, 1134210, 13512965]</td>\n      <td>[1082185, 981760, 1127831, 995242, 1098066]</td>\n      <td>[1082185, 981760, 1127831, 1098066, 961554]</td>\n      <td>[1082185, 981760, 1127831, 878996, 961554]</td>\n      <td>[1082185, 981760, 995242, 1029743, 840361]</td>\n      <td>[951412, 1041259, 901062, 1082185, 1023720]</td>\n    </tr>\n  </tbody>\n</table>\n</div>"
     },
     "execution_count": 34,
     "metadata": {},
     "output_type": "execute_result"
    }
   ],
   "source": [
    "%%time\n",
    "result['bm25'] = result['user_id'].apply(partial(recommender, mdl=model, params=recommender_params))\n",
    "result.head(3)"
   ],
   "metadata": {
    "collapsed": false,
    "pycharm": {
     "name": "#%%\n"
    }
   }
  },
  {
   "cell_type": "markdown",
   "metadata": {
    "id": "LTQY0VSq9vZ_"
   },
   "source": [
    "## 3. Измерение качества"
   ]
  },
  {
   "cell_type": "code",
   "execution_count": 35,
   "metadata": {
    "colab": {
     "base_uri": "https://localhost:8080/",
     "height": 145
    },
    "executionInfo": {
     "elapsed": 250,
     "status": "ok",
     "timestamp": 1639304782820,
     "user": {
      "displayName": "Николай -",
      "photoUrl": "https://lh3.googleusercontent.com/a-/AOh14GiCS90olAsBznR3WLZOaJ5ukcv2LPYBRWvHEQUZ-A=s64",
      "userId": "17372739142422056321"
     },
     "user_tz": -180
    },
    "id": "nkv9dWQX9vZ_",
    "outputId": "b1dd7b9b-2a98-4b71-cf79-5c972a2db532"
   },
   "outputs": [
    {
     "data": {
      "text/plain": "   user_id                                             actual  \\\n0        1  [821867, 834484, 856942, 865456, 889248, 90795...   \n1        3  [835476, 851057, 872021, 878302, 879948, 90963...   \n2        6  [920308, 926804, 946489, 1006718, 1017061, 107...   \n3        7  [840386, 889774, 898068, 909714, 929067, 95347...   \n4        8  [835098, 872137, 910439, 924610, 992977, 10412...   \n\n                                          random  \\\n0   [1035497, 1968985, 1120955, 13210073, 66479]   \n1     [984680, 13382151, 878837, 845090, 957866]   \n2  [5996550, 1333373, 958945, 1960562, 13133787]   \n3     [5995820, 9884714, 889689, 888104, 977886]   \n4     [13008402, 7166861, 29977, 909695, 916770]   \n\n                                    most_popular  \\\n0  [6534178, 6533889, 1029743, 6534166, 1082185]   \n1  [6534178, 6533889, 1029743, 6534166, 1082185]   \n2  [6534178, 6533889, 1029743, 6534166, 1082185]   \n3  [6534178, 6533889, 1029743, 6534166, 1082185]   \n4  [6534178, 6533889, 1029743, 6534166, 1082185]   \n\n                                  weighted_random  \\\n0   [12384897, 66750, 1122350, 15596962, 9193875]   \n1    [1058997, 10182558, 1028094, 821279, 859075]   \n2   [871105, 5584645, 1008288, 12523835, 1136222]   \n3      [1079913, 1127716, 866063, 928049, 913785]   \n4  [12352145, 6534178, 5707620, 9884698, 1033234]   \n\n                                   random_from_top  \\\n0  [7442953, 5996611, 10119550, 5996261, 10150076]   \n1      [1079171, 995896, 1962521, 1069614, 392610]   \n2        [981038, 1021546, 908361, 827366, 941396]   \n3   [13115812, 1058021, 13213136, 840244, 1745068]   \n4     [13159169, 5570486, 5572213, 833307, 835994]   \n\n                          weighted_random_from_top  \\\n0      [883003, 995785, 12262830, 1117219, 828331]   \n1        [1004906, 995242, 981760, 970119, 965766]   \n2  [13671759, 1059527, 6533889, 1134210, 13512965]   \n3     [9296965, 6534178, 881154, 6534166, 1100728]   \n4       [970747, 6534178, 9878513, 999971, 907631]   \n\n                                      item_knn  \\\n0  [1082185, 981760, 1127831, 995242, 1098066]   \n1   [1082185, 981760, 1098066, 995242, 826249]   \n2  [1082185, 981760, 1127831, 995242, 1098066]   \n3  [1082185, 981760, 1127831, 995242, 1098066]   \n4  [1082185, 981760, 1127831, 1098066, 995242]   \n\n                                        cosine  \\\n0  [1082185, 981760, 1127831, 1098066, 961554]   \n1   [1082185, 1098066, 981760, 826249, 883404]   \n2  [1082185, 981760, 1127831, 1098066, 961554]   \n3  [1082185, 981760, 1127831, 961554, 1098066]   \n4  [1082185, 981760, 1098066, 826249, 1127831]   \n\n                                         tfidf  \\\n0  [1082185, 981760, 1127831, 1098066, 961554]   \n1   [1082185, 981760, 1098066, 826249, 883404]   \n2   [1082185, 981760, 1127831, 878996, 961554]   \n3   [1082185, 981760, 1127831, 961554, 826249]   \n4  [1082185, 981760, 1098066, 826249, 1127831]   \n\n                                  own_purchases  \\\n0    [1082185, 995242, 1029743, 840361, 904360]   \n1  [1082185, 1098066, 6534178, 826249, 1127831]   \n2    [1082185, 981760, 995242, 1029743, 840361]   \n3   [1082185, 995242, 1029743, 826249, 1127831]   \n4    [1082185, 981760, 995242, 1029743, 840361]   \n\n                                          bm25  \n0    [872137, 901062, 986947, 1098248, 995785]  \n1   [1044078, 883404, 913202, 833723, 9526563]  \n2  [951412, 1041259, 901062, 1082185, 1023720]  \n3   [7024990, 968774, 1013321, 987724, 879635]  \n4   [1044078, 870780, 1036432, 883404, 905582]  ",
      "text/html": "<div>\n<style scoped>\n    .dataframe tbody tr th:only-of-type {\n        vertical-align: middle;\n    }\n\n    .dataframe tbody tr th {\n        vertical-align: top;\n    }\n\n    .dataframe thead th {\n        text-align: right;\n    }\n</style>\n<table border=\"1\" class=\"dataframe\">\n  <thead>\n    <tr style=\"text-align: right;\">\n      <th></th>\n      <th>user_id</th>\n      <th>actual</th>\n      <th>random</th>\n      <th>most_popular</th>\n      <th>weighted_random</th>\n      <th>random_from_top</th>\n      <th>weighted_random_from_top</th>\n      <th>item_knn</th>\n      <th>cosine</th>\n      <th>tfidf</th>\n      <th>own_purchases</th>\n      <th>bm25</th>\n    </tr>\n  </thead>\n  <tbody>\n    <tr>\n      <th>0</th>\n      <td>1</td>\n      <td>[821867, 834484, 856942, 865456, 889248, 90795...</td>\n      <td>[1035497, 1968985, 1120955, 13210073, 66479]</td>\n      <td>[6534178, 6533889, 1029743, 6534166, 1082185]</td>\n      <td>[12384897, 66750, 1122350, 15596962, 9193875]</td>\n      <td>[7442953, 5996611, 10119550, 5996261, 10150076]</td>\n      <td>[883003, 995785, 12262830, 1117219, 828331]</td>\n      <td>[1082185, 981760, 1127831, 995242, 1098066]</td>\n      <td>[1082185, 981760, 1127831, 1098066, 961554]</td>\n      <td>[1082185, 981760, 1127831, 1098066, 961554]</td>\n      <td>[1082185, 995242, 1029743, 840361, 904360]</td>\n      <td>[872137, 901062, 986947, 1098248, 995785]</td>\n    </tr>\n    <tr>\n      <th>1</th>\n      <td>3</td>\n      <td>[835476, 851057, 872021, 878302, 879948, 90963...</td>\n      <td>[984680, 13382151, 878837, 845090, 957866]</td>\n      <td>[6534178, 6533889, 1029743, 6534166, 1082185]</td>\n      <td>[1058997, 10182558, 1028094, 821279, 859075]</td>\n      <td>[1079171, 995896, 1962521, 1069614, 392610]</td>\n      <td>[1004906, 995242, 981760, 970119, 965766]</td>\n      <td>[1082185, 981760, 1098066, 995242, 826249]</td>\n      <td>[1082185, 1098066, 981760, 826249, 883404]</td>\n      <td>[1082185, 981760, 1098066, 826249, 883404]</td>\n      <td>[1082185, 1098066, 6534178, 826249, 1127831]</td>\n      <td>[1044078, 883404, 913202, 833723, 9526563]</td>\n    </tr>\n    <tr>\n      <th>2</th>\n      <td>6</td>\n      <td>[920308, 926804, 946489, 1006718, 1017061, 107...</td>\n      <td>[5996550, 1333373, 958945, 1960562, 13133787]</td>\n      <td>[6534178, 6533889, 1029743, 6534166, 1082185]</td>\n      <td>[871105, 5584645, 1008288, 12523835, 1136222]</td>\n      <td>[981038, 1021546, 908361, 827366, 941396]</td>\n      <td>[13671759, 1059527, 6533889, 1134210, 13512965]</td>\n      <td>[1082185, 981760, 1127831, 995242, 1098066]</td>\n      <td>[1082185, 981760, 1127831, 1098066, 961554]</td>\n      <td>[1082185, 981760, 1127831, 878996, 961554]</td>\n      <td>[1082185, 981760, 995242, 1029743, 840361]</td>\n      <td>[951412, 1041259, 901062, 1082185, 1023720]</td>\n    </tr>\n    <tr>\n      <th>3</th>\n      <td>7</td>\n      <td>[840386, 889774, 898068, 909714, 929067, 95347...</td>\n      <td>[5995820, 9884714, 889689, 888104, 977886]</td>\n      <td>[6534178, 6533889, 1029743, 6534166, 1082185]</td>\n      <td>[1079913, 1127716, 866063, 928049, 913785]</td>\n      <td>[13115812, 1058021, 13213136, 840244, 1745068]</td>\n      <td>[9296965, 6534178, 881154, 6534166, 1100728]</td>\n      <td>[1082185, 981760, 1127831, 995242, 1098066]</td>\n      <td>[1082185, 981760, 1127831, 961554, 1098066]</td>\n      <td>[1082185, 981760, 1127831, 961554, 826249]</td>\n      <td>[1082185, 995242, 1029743, 826249, 1127831]</td>\n      <td>[7024990, 968774, 1013321, 987724, 879635]</td>\n    </tr>\n    <tr>\n      <th>4</th>\n      <td>8</td>\n      <td>[835098, 872137, 910439, 924610, 992977, 10412...</td>\n      <td>[13008402, 7166861, 29977, 909695, 916770]</td>\n      <td>[6534178, 6533889, 1029743, 6534166, 1082185]</td>\n      <td>[12352145, 6534178, 5707620, 9884698, 1033234]</td>\n      <td>[13159169, 5570486, 5572213, 833307, 835994]</td>\n      <td>[970747, 6534178, 9878513, 999971, 907631]</td>\n      <td>[1082185, 981760, 1127831, 1098066, 995242]</td>\n      <td>[1082185, 981760, 1098066, 826249, 1127831]</td>\n      <td>[1082185, 981760, 1098066, 826249, 1127831]</td>\n      <td>[1082185, 981760, 995242, 1029743, 840361]</td>\n      <td>[1044078, 870780, 1036432, 883404, 905582]</td>\n    </tr>\n  </tbody>\n</table>\n</div>"
     },
     "execution_count": 35,
     "metadata": {},
     "output_type": "execute_result"
    }
   ],
   "source": [
    "result.to_csv('predictions.csv', index=False)\n",
    "result.head()"
   ]
  },
  {
   "cell_type": "markdown",
   "source": [
    "Для некоторых юзеров нет предсказаний:"
   ],
   "metadata": {
    "collapsed": false
   }
  },
  {
   "cell_type": "code",
   "execution_count": 36,
   "outputs": [
    {
     "data": {
      "text/plain": "      user_id                                             actual  \\\n511       650               [1473658, 1582467, 1499569, 1678776]   \n581       729  [1846901, 1991055, 1997708, 2043643, 9393631, ...   \n770       954  [1469989, 9268840, 12518029, 12670072, 1267064...   \n1625     1987  [1249892, 1404999, 5664526, 6943103, 17109744,...   \n1934     2364  [1762083, 1765104, 1776967, 1784407, 1786062, ...   \n\n                                                random  \\\n511      [9879689, 999801, 2456888, 2384597, 12456325]   \n581     [5581664, 10355470, 9812016, 14112117, 503147]   \n770   [1057283, 5725201, 15632245, 16829385, 12781490]   \n1625        [2328229, 854357, 857574, 1403730, 570861]   \n1934     [7409974, 8090942, 5995704, 1223225, 1128161]   \n\n                                       most_popular  \\\n511   [6534178, 6533889, 1029743, 6534166, 1082185]   \n581   [6534178, 6533889, 1029743, 6534166, 1082185]   \n770   [6534178, 6533889, 1029743, 6534166, 1082185]   \n1625  [6534178, 6533889, 1029743, 6534166, 1082185]   \n1934  [6534178, 6533889, 1029743, 6534166, 1082185]   \n\n                                    weighted_random  \\\n511     [6534178, 826060, 3224992, 6533889, 987218]   \n581     [1098844, 15716041, 958594, 831213, 951590]   \n770   [1213444, 13776458, 1271789, 903479, 1433927]   \n1625   [959926, 12130522, 1062002, 1085604, 844462]   \n1934    [6534178, 972558, 1137867, 951590, 8249327]   \n\n                                     random_from_top  \\\n511       [912463, 2017356, 831519, 5582466, 837523]   \n581   [15483692, 9858918, 5979533, 1373853, 9297199]   \n770      [920667, 16733402, 366802, 259687, 1036642]   \n1625   [1603274, 10182720, 1088433, 1446806, 148378]   \n1934     [80251, 13003226, 130507, 1090432, 1364616]   \n\n                          weighted_random_from_top  \\\n511    [878996, 1042907, 12262978, 901976, 893018]   \n581     [5587656, 825494, 870211, 940726, 1122358]   \n770    [999270, 953134, 1130944, 1005186, 1071939]   \n1625  [850990, 12263035, 6533889, 916122, 6534178]   \n1934  [922651, 1028891, 6534178, 1043751, 9242918]   \n\n                                item_knn                              cosine  \\\n511   [1082185, 981760, 995242, 1029743]  [1082185, 981760, 995242, 1029743]   \n581   [1082185, 981760, 995242, 1029743]  [1082185, 981760, 995242, 1029743]   \n770   [1082185, 981760, 995242, 1029743]  [1082185, 981760, 995242, 1029743]   \n1625  [1082185, 981760, 995242, 1029743]  [1082185, 981760, 995242, 1029743]   \n1934  [1082185, 981760, 995242, 1029743]  [1082185, 981760, 995242, 1029743]   \n\n                                   tfidf own_purchases  \\\n511   [1082185, 981760, 995242, 1029743]            []   \n581   [1082185, 981760, 995242, 1029743]            []   \n770   [1082185, 981760, 995242, 1029743]            []   \n1625  [1082185, 981760, 995242, 1029743]            []   \n1934  [1082185, 981760, 995242, 1029743]            []   \n\n                                     bm25  \n511   [1082185, 1029743, 995242, 6534178]  \n581   [1082185, 1029743, 995242, 6534178]  \n770   [1082185, 1029743, 995242, 6534178]  \n1625  [1082185, 1029743, 995242, 6534178]  \n1934  [1082185, 1029743, 995242, 6534178]  ",
      "text/html": "<div>\n<style scoped>\n    .dataframe tbody tr th:only-of-type {\n        vertical-align: middle;\n    }\n\n    .dataframe tbody tr th {\n        vertical-align: top;\n    }\n\n    .dataframe thead th {\n        text-align: right;\n    }\n</style>\n<table border=\"1\" class=\"dataframe\">\n  <thead>\n    <tr style=\"text-align: right;\">\n      <th></th>\n      <th>user_id</th>\n      <th>actual</th>\n      <th>random</th>\n      <th>most_popular</th>\n      <th>weighted_random</th>\n      <th>random_from_top</th>\n      <th>weighted_random_from_top</th>\n      <th>item_knn</th>\n      <th>cosine</th>\n      <th>tfidf</th>\n      <th>own_purchases</th>\n      <th>bm25</th>\n    </tr>\n  </thead>\n  <tbody>\n    <tr>\n      <th>511</th>\n      <td>650</td>\n      <td>[1473658, 1582467, 1499569, 1678776]</td>\n      <td>[9879689, 999801, 2456888, 2384597, 12456325]</td>\n      <td>[6534178, 6533889, 1029743, 6534166, 1082185]</td>\n      <td>[6534178, 826060, 3224992, 6533889, 987218]</td>\n      <td>[912463, 2017356, 831519, 5582466, 837523]</td>\n      <td>[878996, 1042907, 12262978, 901976, 893018]</td>\n      <td>[1082185, 981760, 995242, 1029743]</td>\n      <td>[1082185, 981760, 995242, 1029743]</td>\n      <td>[1082185, 981760, 995242, 1029743]</td>\n      <td>[]</td>\n      <td>[1082185, 1029743, 995242, 6534178]</td>\n    </tr>\n    <tr>\n      <th>581</th>\n      <td>729</td>\n      <td>[1846901, 1991055, 1997708, 2043643, 9393631, ...</td>\n      <td>[5581664, 10355470, 9812016, 14112117, 503147]</td>\n      <td>[6534178, 6533889, 1029743, 6534166, 1082185]</td>\n      <td>[1098844, 15716041, 958594, 831213, 951590]</td>\n      <td>[15483692, 9858918, 5979533, 1373853, 9297199]</td>\n      <td>[5587656, 825494, 870211, 940726, 1122358]</td>\n      <td>[1082185, 981760, 995242, 1029743]</td>\n      <td>[1082185, 981760, 995242, 1029743]</td>\n      <td>[1082185, 981760, 995242, 1029743]</td>\n      <td>[]</td>\n      <td>[1082185, 1029743, 995242, 6534178]</td>\n    </tr>\n    <tr>\n      <th>770</th>\n      <td>954</td>\n      <td>[1469989, 9268840, 12518029, 12670072, 1267064...</td>\n      <td>[1057283, 5725201, 15632245, 16829385, 12781490]</td>\n      <td>[6534178, 6533889, 1029743, 6534166, 1082185]</td>\n      <td>[1213444, 13776458, 1271789, 903479, 1433927]</td>\n      <td>[920667, 16733402, 366802, 259687, 1036642]</td>\n      <td>[999270, 953134, 1130944, 1005186, 1071939]</td>\n      <td>[1082185, 981760, 995242, 1029743]</td>\n      <td>[1082185, 981760, 995242, 1029743]</td>\n      <td>[1082185, 981760, 995242, 1029743]</td>\n      <td>[]</td>\n      <td>[1082185, 1029743, 995242, 6534178]</td>\n    </tr>\n    <tr>\n      <th>1625</th>\n      <td>1987</td>\n      <td>[1249892, 1404999, 5664526, 6943103, 17109744,...</td>\n      <td>[2328229, 854357, 857574, 1403730, 570861]</td>\n      <td>[6534178, 6533889, 1029743, 6534166, 1082185]</td>\n      <td>[959926, 12130522, 1062002, 1085604, 844462]</td>\n      <td>[1603274, 10182720, 1088433, 1446806, 148378]</td>\n      <td>[850990, 12263035, 6533889, 916122, 6534178]</td>\n      <td>[1082185, 981760, 995242, 1029743]</td>\n      <td>[1082185, 981760, 995242, 1029743]</td>\n      <td>[1082185, 981760, 995242, 1029743]</td>\n      <td>[]</td>\n      <td>[1082185, 1029743, 995242, 6534178]</td>\n    </tr>\n    <tr>\n      <th>1934</th>\n      <td>2364</td>\n      <td>[1762083, 1765104, 1776967, 1784407, 1786062, ...</td>\n      <td>[7409974, 8090942, 5995704, 1223225, 1128161]</td>\n      <td>[6534178, 6533889, 1029743, 6534166, 1082185]</td>\n      <td>[6534178, 972558, 1137867, 951590, 8249327]</td>\n      <td>[80251, 13003226, 130507, 1090432, 1364616]</td>\n      <td>[922651, 1028891, 6534178, 1043751, 9242918]</td>\n      <td>[1082185, 981760, 995242, 1029743]</td>\n      <td>[1082185, 981760, 995242, 1029743]</td>\n      <td>[1082185, 981760, 995242, 1029743]</td>\n      <td>[]</td>\n      <td>[1082185, 1029743, 995242, 6534178]</td>\n    </tr>\n  </tbody>\n</table>\n</div>"
     },
     "execution_count": 36,
     "metadata": {},
     "output_type": "execute_result"
    }
   ],
   "source": [
    "zero_pred = [item.user_id for _, item in result.iterrows() if (item.str.len() == 0).any()]\n",
    "result[result['user_id'].isin(zero_pred)]"
   ],
   "metadata": {
    "collapsed": false,
    "pycharm": {
     "name": "#%%\n"
    }
   }
  },
  {
   "cell_type": "markdown",
   "source": [
    "Возможно, это из-за того, что их покупки не попали в топ5000:"
   ],
   "metadata": {
    "collapsed": false
   }
  },
  {
   "cell_type": "code",
   "execution_count": 37,
   "outputs": [
    {
     "data": {
      "text/plain": "False"
     },
     "execution_count": 37,
     "metadata": {},
     "output_type": "execute_result"
    }
   ],
   "source": [
    "# проверка, есть ли у юзеров из zero_pred покупки из топ5000:\n",
    "data_train.loc[data_train['user_id'].isin(zero_pred), 'item_id'].isin(top_5000).any()"
   ],
   "metadata": {
    "collapsed": false,
    "pycharm": {
     "name": "#%%\n"
    }
   }
  },
  {
   "cell_type": "markdown",
   "source": [
    "Метрику для них будем считать равной нулю"
   ],
   "metadata": {
    "collapsed": false
   }
  },
  {
   "cell_type": "code",
   "execution_count": 38,
   "outputs": [],
   "source": [
    "def calc_metric(metric_func, source: pd.DataFrame):\n",
    "    \"\"\" Подсчет метрики\n",
    "    :param metric_func - функция измерения метрики. Первый аргумент - рекомендации, второй - актуальные значения\n",
    "    :param source - данные для подсчета метрики\n",
    "    \"\"\"\n",
    "    def metric_wrapper(pred, act):\n",
    "        return metric_func(pred, act) if len(pred) != 0 else 0\n",
    "\n",
    "    metric = pd.DataFrame()\n",
    "    for col in source.columns:\n",
    "        if col == 'user_id':\n",
    "            metric[col] = source[col]\n",
    "        elif col == 'actual':\n",
    "            continue\n",
    "        else:\n",
    "            metric[col] = source[[col, 'actual']].apply(lambda row: metric_wrapper(*row.values), axis=1)\n",
    "    return metric"
   ],
   "metadata": {
    "collapsed": false,
    "pycharm": {
     "name": "#%%\n"
    }
   }
  },
  {
   "cell_type": "markdown",
   "source": [
    "Также, поскольку мы фильтруем предсказания, возможна ситуация, когда количество предсказанных элементов меньше, чем @K в метрике. В таком случае можно пойти двумя путями:\n",
    "1) недостающие предсказания заполнить фиктивным значением, которое интерпретировалось бы метрикой как неверное предсказание\n",
    "2) изменять @K метрики для конкретного объекта по количеству имеющихся предсказаний, но не более, чем изначально требуемое значение\n",
    "\n",
    "В первом случае метрика будет чуть ниже, а во втором - чуть выше."
   ],
   "metadata": {
    "collapsed": false
   }
  },
  {
   "cell_type": "code",
   "execution_count": 41,
   "outputs": [
    {
     "name": "stdout",
     "output_type": "stream",
     "text": [
      "CPU times: user 3.27 s, sys: 0 ns, total: 3.27 s\n",
      "Wall time: 3.27 s\n"
     ]
    }
   ],
   "source": [
    "%%time\n",
    "pr_at_k = calc_metric(partial(precision_at_k, k=5), result)\n",
    "ap_at_k = calc_metric(lambda pred, act: ap_k(pred, act, k=min(5, len(pred))), result)\n",
    "ndcg_at_k = calc_metric(lambda pred, act: ndcg(pred, act, k=min(5, len(pred), len(act))), result)"
   ],
   "metadata": {
    "collapsed": false,
    "pycharm": {
     "name": "#%%\n"
    }
   }
  },
  {
   "cell_type": "code",
   "metadata": {
    "id": "OOF_PWnk9vaA",
    "pycharm": {
     "name": "#%%\n"
    }
   },
   "source": [
    "summary = pd.DataFrame([pr_at_k.mean(), ap_at_k.mean(), ndcg_at_k.mean()], index=['precision@k', 'map@k', 'NDCG@k'])\n",
    "summary.drop(columns='user_id')"
   ],
   "execution_count": 44,
   "outputs": [
    {
     "data": {
      "text/plain": "               random  most_popular  weighted_random  random_from_top  \\\nprecision@k  0.000294      0.155240         0.023996         0.000196   \nmap@k        0.000653      0.256811         0.054187         0.000735   \nNDCG@k       0.244739      0.235391         0.244054         0.244460   \n\n             weighted_random_from_top  item_knn    cosine     tfidf  \\\nprecision@k                  0.041920  0.151028  0.155142  0.160921   \nmap@k                        0.098351  0.388256  0.384458  0.385391   \nNDCG@k                       0.243665  0.244741  0.242937  0.243238   \n\n             own_purchases      bm25  \nprecision@k       0.219001  0.125857  \nmap@k             0.418063  0.224648  \nNDCG@k            0.241492  0.245113  ",
      "text/html": "<div>\n<style scoped>\n    .dataframe tbody tr th:only-of-type {\n        vertical-align: middle;\n    }\n\n    .dataframe tbody tr th {\n        vertical-align: top;\n    }\n\n    .dataframe thead th {\n        text-align: right;\n    }\n</style>\n<table border=\"1\" class=\"dataframe\">\n  <thead>\n    <tr style=\"text-align: right;\">\n      <th></th>\n      <th>random</th>\n      <th>most_popular</th>\n      <th>weighted_random</th>\n      <th>random_from_top</th>\n      <th>weighted_random_from_top</th>\n      <th>item_knn</th>\n      <th>cosine</th>\n      <th>tfidf</th>\n      <th>own_purchases</th>\n      <th>bm25</th>\n    </tr>\n  </thead>\n  <tbody>\n    <tr>\n      <th>precision@k</th>\n      <td>0.000294</td>\n      <td>0.155240</td>\n      <td>0.023996</td>\n      <td>0.000196</td>\n      <td>0.041920</td>\n      <td>0.151028</td>\n      <td>0.155142</td>\n      <td>0.160921</td>\n      <td>0.219001</td>\n      <td>0.125857</td>\n    </tr>\n    <tr>\n      <th>map@k</th>\n      <td>0.000653</td>\n      <td>0.256811</td>\n      <td>0.054187</td>\n      <td>0.000735</td>\n      <td>0.098351</td>\n      <td>0.388256</td>\n      <td>0.384458</td>\n      <td>0.385391</td>\n      <td>0.418063</td>\n      <td>0.224648</td>\n    </tr>\n    <tr>\n      <th>NDCG@k</th>\n      <td>0.244739</td>\n      <td>0.235391</td>\n      <td>0.244054</td>\n      <td>0.244460</td>\n      <td>0.243665</td>\n      <td>0.244741</td>\n      <td>0.242937</td>\n      <td>0.243238</td>\n      <td>0.241492</td>\n      <td>0.245113</td>\n    </tr>\n  </tbody>\n</table>\n</div>"
     },
     "execution_count": 44,
     "metadata": {},
     "output_type": "execute_result"
    }
   ]
  },
  {
   "cell_type": "markdown",
   "source": [
    "Предсказание на топ5000 получается качественнее.\n",
    "Наиболее качественное предсказание в данном случае дает модель на основе индивидуальной истории покупок."
   ],
   "metadata": {
    "collapsed": false
   }
  }
 ],
 "metadata": {
  "accelerator": "GPU",
  "colab": {
   "collapsed_sections": [
    "aLDGc1Nn9vZ0"
   ],
   "name": "webinar_2_new.ipynb",
   "provenance": [
    {
     "file_id": "16Ow5QdtueS-lH2MAj7d8AXVJIMofWEfF",
     "timestamp": 1633278282973
    }
   ]
  },
  "kernelspec": {
   "display_name": "Python 3",
   "language": "python",
   "name": "python3"
  },
  "language_info": {
   "codemirror_mode": {
    "name": "ipython",
    "version": 3
   },
   "file_extension": ".py",
   "mimetype": "text/x-python",
   "name": "python",
   "nbconvert_exporter": "python",
   "pygments_lexer": "ipython3",
   "version": "3.9.5"
  },
  "widgets": {
   "application/vnd.jupyter.widget-state+json": {
    "083fdc34807a499f8cad4ba4e195a479": {
     "model_module": "@jupyter-widgets/controls",
     "model_module_version": "1.5.0",
     "model_name": "DescriptionStyleModel",
     "state": {
      "_model_module": "@jupyter-widgets/controls",
      "_model_module_version": "1.5.0",
      "_model_name": "DescriptionStyleModel",
      "_view_count": null,
      "_view_module": "@jupyter-widgets/base",
      "_view_module_version": "1.2.0",
      "_view_name": "StyleView",
      "description_width": ""
     }
    },
    "0993f1cd4f0c4a928b2b8d1a3a160dba": {
     "model_module": "@jupyter-widgets/base",
     "model_module_version": "1.2.0",
     "model_name": "LayoutModel",
     "state": {
      "_model_module": "@jupyter-widgets/base",
      "_model_module_version": "1.2.0",
      "_model_name": "LayoutModel",
      "_view_count": null,
      "_view_module": "@jupyter-widgets/base",
      "_view_module_version": "1.2.0",
      "_view_name": "LayoutView",
      "align_content": null,
      "align_items": null,
      "align_self": null,
      "border": null,
      "bottom": null,
      "display": null,
      "flex": null,
      "flex_flow": null,
      "grid_area": null,
      "grid_auto_columns": null,
      "grid_auto_flow": null,
      "grid_auto_rows": null,
      "grid_column": null,
      "grid_gap": null,
      "grid_row": null,
      "grid_template_areas": null,
      "grid_template_columns": null,
      "grid_template_rows": null,
      "height": null,
      "justify_content": null,
      "justify_items": null,
      "left": null,
      "margin": null,
      "max_height": null,
      "max_width": null,
      "min_height": null,
      "min_width": null,
      "object_fit": null,
      "object_position": null,
      "order": null,
      "overflow": null,
      "overflow_x": null,
      "overflow_y": null,
      "padding": null,
      "right": null,
      "top": null,
      "visibility": null,
      "width": null
     }
    },
    "0f0be173e5ad4caba3f5b3e72e994a57": {
     "model_module": "@jupyter-widgets/base",
     "model_module_version": "1.2.0",
     "model_name": "LayoutModel",
     "state": {
      "_model_module": "@jupyter-widgets/base",
      "_model_module_version": "1.2.0",
      "_model_name": "LayoutModel",
      "_view_count": null,
      "_view_module": "@jupyter-widgets/base",
      "_view_module_version": "1.2.0",
      "_view_name": "LayoutView",
      "align_content": null,
      "align_items": null,
      "align_self": null,
      "border": null,
      "bottom": null,
      "display": null,
      "flex": null,
      "flex_flow": null,
      "grid_area": null,
      "grid_auto_columns": null,
      "grid_auto_flow": null,
      "grid_auto_rows": null,
      "grid_column": null,
      "grid_gap": null,
      "grid_row": null,
      "grid_template_areas": null,
      "grid_template_columns": null,
      "grid_template_rows": null,
      "height": null,
      "justify_content": null,
      "justify_items": null,
      "left": null,
      "margin": null,
      "max_height": null,
      "max_width": null,
      "min_height": null,
      "min_width": null,
      "object_fit": null,
      "object_position": null,
      "order": null,
      "overflow": null,
      "overflow_x": null,
      "overflow_y": null,
      "padding": null,
      "right": null,
      "top": null,
      "visibility": null,
      "width": null
     }
    },
    "134c5404c529448f842917125a277e0d": {
     "model_module": "@jupyter-widgets/controls",
     "model_module_version": "1.5.0",
     "model_name": "FloatProgressModel",
     "state": {
      "_dom_classes": [],
      "_model_module": "@jupyter-widgets/controls",
      "_model_module_version": "1.5.0",
      "_model_name": "FloatProgressModel",
      "_view_count": null,
      "_view_module": "@jupyter-widgets/controls",
      "_view_module_version": "1.5.0",
      "_view_name": "ProgressView",
      "bar_style": "success",
      "description": "",
      "description_tooltip": null,
      "layout": "IPY_MODEL_abf7361c73a44563bd2e30141668af2e",
      "max": 5001,
      "min": 0,
      "orientation": "horizontal",
      "style": "IPY_MODEL_7831a21d238a4a1da14d102580ebdf78",
      "value": 5001
     }
    },
    "18b1c5dd9b9c457a813fc62b94014298": {
     "model_module": "@jupyter-widgets/base",
     "model_module_version": "1.2.0",
     "model_name": "LayoutModel",
     "state": {
      "_model_module": "@jupyter-widgets/base",
      "_model_module_version": "1.2.0",
      "_model_name": "LayoutModel",
      "_view_count": null,
      "_view_module": "@jupyter-widgets/base",
      "_view_module_version": "1.2.0",
      "_view_name": "LayoutView",
      "align_content": null,
      "align_items": null,
      "align_self": null,
      "border": null,
      "bottom": null,
      "display": null,
      "flex": null,
      "flex_flow": null,
      "grid_area": null,
      "grid_auto_columns": null,
      "grid_auto_flow": null,
      "grid_auto_rows": null,
      "grid_column": null,
      "grid_gap": null,
      "grid_row": null,
      "grid_template_areas": null,
      "grid_template_columns": null,
      "grid_template_rows": null,
      "height": null,
      "justify_content": null,
      "justify_items": null,
      "left": null,
      "margin": null,
      "max_height": null,
      "max_width": null,
      "min_height": null,
      "min_width": null,
      "object_fit": null,
      "object_position": null,
      "order": null,
      "overflow": null,
      "overflow_x": null,
      "overflow_y": null,
      "padding": null,
      "right": null,
      "top": null,
      "visibility": null,
      "width": null
     }
    },
    "294d039f558846a7a1fccb2b940ad4aa": {
     "model_module": "@jupyter-widgets/base",
     "model_module_version": "1.2.0",
     "model_name": "LayoutModel",
     "state": {
      "_model_module": "@jupyter-widgets/base",
      "_model_module_version": "1.2.0",
      "_model_name": "LayoutModel",
      "_view_count": null,
      "_view_module": "@jupyter-widgets/base",
      "_view_module_version": "1.2.0",
      "_view_name": "LayoutView",
      "align_content": null,
      "align_items": null,
      "align_self": null,
      "border": null,
      "bottom": null,
      "display": null,
      "flex": null,
      "flex_flow": null,
      "grid_area": null,
      "grid_auto_columns": null,
      "grid_auto_flow": null,
      "grid_auto_rows": null,
      "grid_column": null,
      "grid_gap": null,
      "grid_row": null,
      "grid_template_areas": null,
      "grid_template_columns": null,
      "grid_template_rows": null,
      "height": null,
      "justify_content": null,
      "justify_items": null,
      "left": null,
      "margin": null,
      "max_height": null,
      "max_width": null,
      "min_height": null,
      "min_width": null,
      "object_fit": null,
      "object_position": null,
      "order": null,
      "overflow": null,
      "overflow_x": null,
      "overflow_y": null,
      "padding": null,
      "right": null,
      "top": null,
      "visibility": null,
      "width": null
     }
    },
    "29e272438def4be49be8607110d4c302": {
     "model_module": "@jupyter-widgets/controls",
     "model_module_version": "1.5.0",
     "model_name": "FloatProgressModel",
     "state": {
      "_dom_classes": [],
      "_model_module": "@jupyter-widgets/controls",
      "_model_module_version": "1.5.0",
      "_model_name": "FloatProgressModel",
      "_view_count": null,
      "_view_module": "@jupyter-widgets/controls",
      "_view_module_version": "1.5.0",
      "_view_name": "ProgressView",
      "bar_style": "success",
      "description": "",
      "description_tooltip": null,
      "layout": "IPY_MODEL_3030024ab2ff42e2bd89420b1b72ae6f",
      "max": 5001,
      "min": 0,
      "orientation": "horizontal",
      "style": "IPY_MODEL_b978246119e942c7818b126e9b902b3a",
      "value": 5001
     }
    },
    "3030024ab2ff42e2bd89420b1b72ae6f": {
     "model_module": "@jupyter-widgets/base",
     "model_module_version": "1.2.0",
     "model_name": "LayoutModel",
     "state": {
      "_model_module": "@jupyter-widgets/base",
      "_model_module_version": "1.2.0",
      "_model_name": "LayoutModel",
      "_view_count": null,
      "_view_module": "@jupyter-widgets/base",
      "_view_module_version": "1.2.0",
      "_view_name": "LayoutView",
      "align_content": null,
      "align_items": null,
      "align_self": null,
      "border": null,
      "bottom": null,
      "display": null,
      "flex": null,
      "flex_flow": null,
      "grid_area": null,
      "grid_auto_columns": null,
      "grid_auto_flow": null,
      "grid_auto_rows": null,
      "grid_column": null,
      "grid_gap": null,
      "grid_row": null,
      "grid_template_areas": null,
      "grid_template_columns": null,
      "grid_template_rows": null,
      "height": null,
      "justify_content": null,
      "justify_items": null,
      "left": null,
      "margin": null,
      "max_height": null,
      "max_width": null,
      "min_height": null,
      "min_width": null,
      "object_fit": null,
      "object_position": null,
      "order": null,
      "overflow": null,
      "overflow_x": null,
      "overflow_y": null,
      "padding": null,
      "right": null,
      "top": null,
      "visibility": null,
      "width": null
     }
    },
    "345b6b3525274c62bde7964180349268": {
     "model_module": "@jupyter-widgets/base",
     "model_module_version": "1.2.0",
     "model_name": "LayoutModel",
     "state": {
      "_model_module": "@jupyter-widgets/base",
      "_model_module_version": "1.2.0",
      "_model_name": "LayoutModel",
      "_view_count": null,
      "_view_module": "@jupyter-widgets/base",
      "_view_module_version": "1.2.0",
      "_view_name": "LayoutView",
      "align_content": null,
      "align_items": null,
      "align_self": null,
      "border": null,
      "bottom": null,
      "display": null,
      "flex": null,
      "flex_flow": null,
      "grid_area": null,
      "grid_auto_columns": null,
      "grid_auto_flow": null,
      "grid_auto_rows": null,
      "grid_column": null,
      "grid_gap": null,
      "grid_row": null,
      "grid_template_areas": null,
      "grid_template_columns": null,
      "grid_template_rows": null,
      "height": null,
      "justify_content": null,
      "justify_items": null,
      "left": null,
      "margin": null,
      "max_height": null,
      "max_width": null,
      "min_height": null,
      "min_width": null,
      "object_fit": null,
      "object_position": null,
      "order": null,
      "overflow": null,
      "overflow_x": null,
      "overflow_y": null,
      "padding": null,
      "right": null,
      "top": null,
      "visibility": null,
      "width": null
     }
    },
    "39c1b8c5d7214f4ea8aebbc4e84a3e8b": {
     "model_module": "@jupyter-widgets/base",
     "model_module_version": "1.2.0",
     "model_name": "LayoutModel",
     "state": {
      "_model_module": "@jupyter-widgets/base",
      "_model_module_version": "1.2.0",
      "_model_name": "LayoutModel",
      "_view_count": null,
      "_view_module": "@jupyter-widgets/base",
      "_view_module_version": "1.2.0",
      "_view_name": "LayoutView",
      "align_content": null,
      "align_items": null,
      "align_self": null,
      "border": null,
      "bottom": null,
      "display": null,
      "flex": null,
      "flex_flow": null,
      "grid_area": null,
      "grid_auto_columns": null,
      "grid_auto_flow": null,
      "grid_auto_rows": null,
      "grid_column": null,
      "grid_gap": null,
      "grid_row": null,
      "grid_template_areas": null,
      "grid_template_columns": null,
      "grid_template_rows": null,
      "height": null,
      "justify_content": null,
      "justify_items": null,
      "left": null,
      "margin": null,
      "max_height": null,
      "max_width": null,
      "min_height": null,
      "min_width": null,
      "object_fit": null,
      "object_position": null,
      "order": null,
      "overflow": null,
      "overflow_x": null,
      "overflow_y": null,
      "padding": null,
      "right": null,
      "top": null,
      "visibility": null,
      "width": null
     }
    },
    "43aa43b8855b46e59a849c3e0173bf50": {
     "model_module": "@jupyter-widgets/controls",
     "model_module_version": "1.5.0",
     "model_name": "HTMLModel",
     "state": {
      "_dom_classes": [],
      "_model_module": "@jupyter-widgets/controls",
      "_model_module_version": "1.5.0",
      "_model_name": "HTMLModel",
      "_view_count": null,
      "_view_module": "@jupyter-widgets/controls",
      "_view_module_version": "1.5.0",
      "_view_name": "HTMLView",
      "description": "",
      "description_tooltip": null,
      "layout": "IPY_MODEL_c8efb5bfcee14732bdaeed7c430c235e",
      "placeholder": "​",
      "style": "IPY_MODEL_083fdc34807a499f8cad4ba4e195a479",
      "value": " 5001/5001 [00:01&lt;00:00, 3312.49it/s]"
     }
    },
    "4fe62e1e21fd4d64b32050632eeb0d59": {
     "model_module": "@jupyter-widgets/controls",
     "model_module_version": "1.5.0",
     "model_name": "DescriptionStyleModel",
     "state": {
      "_model_module": "@jupyter-widgets/controls",
      "_model_module_version": "1.5.0",
      "_model_name": "DescriptionStyleModel",
      "_view_count": null,
      "_view_module": "@jupyter-widgets/base",
      "_view_module_version": "1.2.0",
      "_view_name": "StyleView",
      "description_width": ""
     }
    },
    "5407098d4c374521b004ca4102d75b66": {
     "model_module": "@jupyter-widgets/controls",
     "model_module_version": "1.5.0",
     "model_name": "HBoxModel",
     "state": {
      "_dom_classes": [],
      "_model_module": "@jupyter-widgets/controls",
      "_model_module_version": "1.5.0",
      "_model_name": "HBoxModel",
      "_view_count": null,
      "_view_module": "@jupyter-widgets/controls",
      "_view_module_version": "1.5.0",
      "_view_name": "HBoxView",
      "box_style": "",
      "children": [
       "IPY_MODEL_843fa3533d444b2c837bf1868a1b9725",
       "IPY_MODEL_594242898371447090d5374bbe1cfeea",
       "IPY_MODEL_f9e7bbfb196a42e9b97626a339cea9e3"
      ],
      "layout": "IPY_MODEL_558a140c59c449d0abecdb4a5867b11c"
     }
    },
    "558a140c59c449d0abecdb4a5867b11c": {
     "model_module": "@jupyter-widgets/base",
     "model_module_version": "1.2.0",
     "model_name": "LayoutModel",
     "state": {
      "_model_module": "@jupyter-widgets/base",
      "_model_module_version": "1.2.0",
      "_model_name": "LayoutModel",
      "_view_count": null,
      "_view_module": "@jupyter-widgets/base",
      "_view_module_version": "1.2.0",
      "_view_name": "LayoutView",
      "align_content": null,
      "align_items": null,
      "align_self": null,
      "border": null,
      "bottom": null,
      "display": null,
      "flex": null,
      "flex_flow": null,
      "grid_area": null,
      "grid_auto_columns": null,
      "grid_auto_flow": null,
      "grid_auto_rows": null,
      "grid_column": null,
      "grid_gap": null,
      "grid_row": null,
      "grid_template_areas": null,
      "grid_template_columns": null,
      "grid_template_rows": null,
      "height": null,
      "justify_content": null,
      "justify_items": null,
      "left": null,
      "margin": null,
      "max_height": null,
      "max_width": null,
      "min_height": null,
      "min_width": null,
      "object_fit": null,
      "object_position": null,
      "order": null,
      "overflow": null,
      "overflow_x": null,
      "overflow_y": null,
      "padding": null,
      "right": null,
      "top": null,
      "visibility": null,
      "width": null
     }
    },
    "594242898371447090d5374bbe1cfeea": {
     "model_module": "@jupyter-widgets/controls",
     "model_module_version": "1.5.0",
     "model_name": "FloatProgressModel",
     "state": {
      "_dom_classes": [],
      "_model_module": "@jupyter-widgets/controls",
      "_model_module_version": "1.5.0",
      "_model_name": "FloatProgressModel",
      "_view_count": null,
      "_view_module": "@jupyter-widgets/controls",
      "_view_module_version": "1.5.0",
      "_view_name": "ProgressView",
      "bar_style": "success",
      "description": "",
      "description_tooltip": null,
      "layout": "IPY_MODEL_9a4183ed53364b81a8c7de94bba0c3f2",
      "max": 5001,
      "min": 0,
      "orientation": "horizontal",
      "style": "IPY_MODEL_84a1798b354141ca8ad9c6f08733a686",
      "value": 5001
     }
    },
    "59b2bc20c9524bd89b28c31ceb8b758f": {
     "model_module": "@jupyter-widgets/controls",
     "model_module_version": "1.5.0",
     "model_name": "HTMLModel",
     "state": {
      "_dom_classes": [],
      "_model_module": "@jupyter-widgets/controls",
      "_model_module_version": "1.5.0",
      "_model_name": "HTMLModel",
      "_view_count": null,
      "_view_module": "@jupyter-widgets/controls",
      "_view_module_version": "1.5.0",
      "_view_name": "HTMLView",
      "description": "",
      "description_tooltip": null,
      "layout": "IPY_MODEL_a0ce05fbf2c14afaace3df10cb13be89",
      "placeholder": "​",
      "style": "IPY_MODEL_66749085f4144dad9b4b1b87d396ca88",
      "value": " 5001/5001 [00:01&lt;00:00, 2887.74it/s]"
     }
    },
    "5ed3fc64abf345a59b8348da0de36fbc": {
     "model_module": "@jupyter-widgets/controls",
     "model_module_version": "1.5.0",
     "model_name": "DescriptionStyleModel",
     "state": {
      "_model_module": "@jupyter-widgets/controls",
      "_model_module_version": "1.5.0",
      "_model_name": "DescriptionStyleModel",
      "_view_count": null,
      "_view_module": "@jupyter-widgets/base",
      "_view_module_version": "1.2.0",
      "_view_name": "StyleView",
      "description_width": ""
     }
    },
    "64f50a70a9594ce889cc645643063dd3": {
     "model_module": "@jupyter-widgets/controls",
     "model_module_version": "1.5.0",
     "model_name": "HTMLModel",
     "state": {
      "_dom_classes": [],
      "_model_module": "@jupyter-widgets/controls",
      "_model_module_version": "1.5.0",
      "_model_name": "HTMLModel",
      "_view_count": null,
      "_view_module": "@jupyter-widgets/controls",
      "_view_module_version": "1.5.0",
      "_view_name": "HTMLView",
      "description": "",
      "description_tooltip": null,
      "layout": "IPY_MODEL_0993f1cd4f0c4a928b2b8d1a3a160dba",
      "placeholder": "​",
      "style": "IPY_MODEL_4fe62e1e21fd4d64b32050632eeb0d59",
      "value": " 5001/5001 [00:01&lt;00:00, 3589.33it/s]"
     }
    },
    "66749085f4144dad9b4b1b87d396ca88": {
     "model_module": "@jupyter-widgets/controls",
     "model_module_version": "1.5.0",
     "model_name": "DescriptionStyleModel",
     "state": {
      "_model_module": "@jupyter-widgets/controls",
      "_model_module_version": "1.5.0",
      "_model_name": "DescriptionStyleModel",
      "_view_count": null,
      "_view_module": "@jupyter-widgets/base",
      "_view_module_version": "1.2.0",
      "_view_name": "StyleView",
      "description_width": ""
     }
    },
    "7831a21d238a4a1da14d102580ebdf78": {
     "model_module": "@jupyter-widgets/controls",
     "model_module_version": "1.5.0",
     "model_name": "ProgressStyleModel",
     "state": {
      "_model_module": "@jupyter-widgets/controls",
      "_model_module_version": "1.5.0",
      "_model_name": "ProgressStyleModel",
      "_view_count": null,
      "_view_module": "@jupyter-widgets/base",
      "_view_module_version": "1.2.0",
      "_view_name": "StyleView",
      "bar_color": null,
      "description_width": ""
     }
    },
    "8040d429311d49b99ba387f22916de18": {
     "model_module": "@jupyter-widgets/base",
     "model_module_version": "1.2.0",
     "model_name": "LayoutModel",
     "state": {
      "_model_module": "@jupyter-widgets/base",
      "_model_module_version": "1.2.0",
      "_model_name": "LayoutModel",
      "_view_count": null,
      "_view_module": "@jupyter-widgets/base",
      "_view_module_version": "1.2.0",
      "_view_name": "LayoutView",
      "align_content": null,
      "align_items": null,
      "align_self": null,
      "border": null,
      "bottom": null,
      "display": null,
      "flex": null,
      "flex_flow": null,
      "grid_area": null,
      "grid_auto_columns": null,
      "grid_auto_flow": null,
      "grid_auto_rows": null,
      "grid_column": null,
      "grid_gap": null,
      "grid_row": null,
      "grid_template_areas": null,
      "grid_template_columns": null,
      "grid_template_rows": null,
      "height": null,
      "justify_content": null,
      "justify_items": null,
      "left": null,
      "margin": null,
      "max_height": null,
      "max_width": null,
      "min_height": null,
      "min_width": null,
      "object_fit": null,
      "object_position": null,
      "order": null,
      "overflow": null,
      "overflow_x": null,
      "overflow_y": null,
      "padding": null,
      "right": null,
      "top": null,
      "visibility": null,
      "width": null
     }
    },
    "843fa3533d444b2c837bf1868a1b9725": {
     "model_module": "@jupyter-widgets/controls",
     "model_module_version": "1.5.0",
     "model_name": "HTMLModel",
     "state": {
      "_dom_classes": [],
      "_model_module": "@jupyter-widgets/controls",
      "_model_module_version": "1.5.0",
      "_model_name": "HTMLModel",
      "_view_count": null,
      "_view_module": "@jupyter-widgets/controls",
      "_view_module_version": "1.5.0",
      "_view_name": "HTMLView",
      "description": "",
      "description_tooltip": null,
      "layout": "IPY_MODEL_8040d429311d49b99ba387f22916de18",
      "placeholder": "​",
      "style": "IPY_MODEL_ce1ada80ecb6427a857c8f0a1076c029",
      "value": "100%"
     }
    },
    "84a1798b354141ca8ad9c6f08733a686": {
     "model_module": "@jupyter-widgets/controls",
     "model_module_version": "1.5.0",
     "model_name": "ProgressStyleModel",
     "state": {
      "_model_module": "@jupyter-widgets/controls",
      "_model_module_version": "1.5.0",
      "_model_name": "ProgressStyleModel",
      "_view_count": null,
      "_view_module": "@jupyter-widgets/base",
      "_view_module_version": "1.2.0",
      "_view_name": "StyleView",
      "bar_color": null,
      "description_width": ""
     }
    },
    "9a4183ed53364b81a8c7de94bba0c3f2": {
     "model_module": "@jupyter-widgets/base",
     "model_module_version": "1.2.0",
     "model_name": "LayoutModel",
     "state": {
      "_model_module": "@jupyter-widgets/base",
      "_model_module_version": "1.2.0",
      "_model_name": "LayoutModel",
      "_view_count": null,
      "_view_module": "@jupyter-widgets/base",
      "_view_module_version": "1.2.0",
      "_view_name": "LayoutView",
      "align_content": null,
      "align_items": null,
      "align_self": null,
      "border": null,
      "bottom": null,
      "display": null,
      "flex": null,
      "flex_flow": null,
      "grid_area": null,
      "grid_auto_columns": null,
      "grid_auto_flow": null,
      "grid_auto_rows": null,
      "grid_column": null,
      "grid_gap": null,
      "grid_row": null,
      "grid_template_areas": null,
      "grid_template_columns": null,
      "grid_template_rows": null,
      "height": null,
      "justify_content": null,
      "justify_items": null,
      "left": null,
      "margin": null,
      "max_height": null,
      "max_width": null,
      "min_height": null,
      "min_width": null,
      "object_fit": null,
      "object_position": null,
      "order": null,
      "overflow": null,
      "overflow_x": null,
      "overflow_y": null,
      "padding": null,
      "right": null,
      "top": null,
      "visibility": null,
      "width": null
     }
    },
    "9e54299536b941398446e57f99e04292": {
     "model_module": "@jupyter-widgets/base",
     "model_module_version": "1.2.0",
     "model_name": "LayoutModel",
     "state": {
      "_model_module": "@jupyter-widgets/base",
      "_model_module_version": "1.2.0",
      "_model_name": "LayoutModel",
      "_view_count": null,
      "_view_module": "@jupyter-widgets/base",
      "_view_module_version": "1.2.0",
      "_view_name": "LayoutView",
      "align_content": null,
      "align_items": null,
      "align_self": null,
      "border": null,
      "bottom": null,
      "display": null,
      "flex": null,
      "flex_flow": null,
      "grid_area": null,
      "grid_auto_columns": null,
      "grid_auto_flow": null,
      "grid_auto_rows": null,
      "grid_column": null,
      "grid_gap": null,
      "grid_row": null,
      "grid_template_areas": null,
      "grid_template_columns": null,
      "grid_template_rows": null,
      "height": null,
      "justify_content": null,
      "justify_items": null,
      "left": null,
      "margin": null,
      "max_height": null,
      "max_width": null,
      "min_height": null,
      "min_width": null,
      "object_fit": null,
      "object_position": null,
      "order": null,
      "overflow": null,
      "overflow_x": null,
      "overflow_y": null,
      "padding": null,
      "right": null,
      "top": null,
      "visibility": null,
      "width": null
     }
    },
    "a0ce05fbf2c14afaace3df10cb13be89": {
     "model_module": "@jupyter-widgets/base",
     "model_module_version": "1.2.0",
     "model_name": "LayoutModel",
     "state": {
      "_model_module": "@jupyter-widgets/base",
      "_model_module_version": "1.2.0",
      "_model_name": "LayoutModel",
      "_view_count": null,
      "_view_module": "@jupyter-widgets/base",
      "_view_module_version": "1.2.0",
      "_view_name": "LayoutView",
      "align_content": null,
      "align_items": null,
      "align_self": null,
      "border": null,
      "bottom": null,
      "display": null,
      "flex": null,
      "flex_flow": null,
      "grid_area": null,
      "grid_auto_columns": null,
      "grid_auto_flow": null,
      "grid_auto_rows": null,
      "grid_column": null,
      "grid_gap": null,
      "grid_row": null,
      "grid_template_areas": null,
      "grid_template_columns": null,
      "grid_template_rows": null,
      "height": null,
      "justify_content": null,
      "justify_items": null,
      "left": null,
      "margin": null,
      "max_height": null,
      "max_width": null,
      "min_height": null,
      "min_width": null,
      "object_fit": null,
      "object_position": null,
      "order": null,
      "overflow": null,
      "overflow_x": null,
      "overflow_y": null,
      "padding": null,
      "right": null,
      "top": null,
      "visibility": null,
      "width": null
     }
    },
    "abf7361c73a44563bd2e30141668af2e": {
     "model_module": "@jupyter-widgets/base",
     "model_module_version": "1.2.0",
     "model_name": "LayoutModel",
     "state": {
      "_model_module": "@jupyter-widgets/base",
      "_model_module_version": "1.2.0",
      "_model_name": "LayoutModel",
      "_view_count": null,
      "_view_module": "@jupyter-widgets/base",
      "_view_module_version": "1.2.0",
      "_view_name": "LayoutView",
      "align_content": null,
      "align_items": null,
      "align_self": null,
      "border": null,
      "bottom": null,
      "display": null,
      "flex": null,
      "flex_flow": null,
      "grid_area": null,
      "grid_auto_columns": null,
      "grid_auto_flow": null,
      "grid_auto_rows": null,
      "grid_column": null,
      "grid_gap": null,
      "grid_row": null,
      "grid_template_areas": null,
      "grid_template_columns": null,
      "grid_template_rows": null,
      "height": null,
      "justify_content": null,
      "justify_items": null,
      "left": null,
      "margin": null,
      "max_height": null,
      "max_width": null,
      "min_height": null,
      "min_width": null,
      "object_fit": null,
      "object_position": null,
      "order": null,
      "overflow": null,
      "overflow_x": null,
      "overflow_y": null,
      "padding": null,
      "right": null,
      "top": null,
      "visibility": null,
      "width": null
     }
    },
    "b11ca4f2601d4f76979d576f5672d6d8": {
     "model_module": "@jupyter-widgets/controls",
     "model_module_version": "1.5.0",
     "model_name": "FloatProgressModel",
     "state": {
      "_dom_classes": [],
      "_model_module": "@jupyter-widgets/controls",
      "_model_module_version": "1.5.0",
      "_model_name": "FloatProgressModel",
      "_view_count": null,
      "_view_module": "@jupyter-widgets/controls",
      "_view_module_version": "1.5.0",
      "_view_name": "ProgressView",
      "bar_style": "success",
      "description": "",
      "description_tooltip": null,
      "layout": "IPY_MODEL_39c1b8c5d7214f4ea8aebbc4e84a3e8b",
      "max": 5001,
      "min": 0,
      "orientation": "horizontal",
      "style": "IPY_MODEL_b9946f999c67477f83a09fe351d7e33b",
      "value": 5001
     }
    },
    "b4ab621b993f4a879c627d4c22447ead": {
     "model_module": "@jupyter-widgets/controls",
     "model_module_version": "1.5.0",
     "model_name": "HBoxModel",
     "state": {
      "_dom_classes": [],
      "_model_module": "@jupyter-widgets/controls",
      "_model_module_version": "1.5.0",
      "_model_name": "HBoxModel",
      "_view_count": null,
      "_view_module": "@jupyter-widgets/controls",
      "_view_module_version": "1.5.0",
      "_view_name": "HBoxView",
      "box_style": "",
      "children": [
       "IPY_MODEL_e7bd2cb80d2b4379abe45543120cae29",
       "IPY_MODEL_29e272438def4be49be8607110d4c302",
       "IPY_MODEL_43aa43b8855b46e59a849c3e0173bf50"
      ],
      "layout": "IPY_MODEL_345b6b3525274c62bde7964180349268"
     }
    },
    "b978246119e942c7818b126e9b902b3a": {
     "model_module": "@jupyter-widgets/controls",
     "model_module_version": "1.5.0",
     "model_name": "ProgressStyleModel",
     "state": {
      "_model_module": "@jupyter-widgets/controls",
      "_model_module_version": "1.5.0",
      "_model_name": "ProgressStyleModel",
      "_view_count": null,
      "_view_module": "@jupyter-widgets/base",
      "_view_module_version": "1.2.0",
      "_view_name": "StyleView",
      "bar_color": null,
      "description_width": ""
     }
    },
    "b9946f999c67477f83a09fe351d7e33b": {
     "model_module": "@jupyter-widgets/controls",
     "model_module_version": "1.5.0",
     "model_name": "ProgressStyleModel",
     "state": {
      "_model_module": "@jupyter-widgets/controls",
      "_model_module_version": "1.5.0",
      "_model_name": "ProgressStyleModel",
      "_view_count": null,
      "_view_module": "@jupyter-widgets/base",
      "_view_module_version": "1.2.0",
      "_view_name": "StyleView",
      "bar_color": null,
      "description_width": ""
     }
    },
    "bac0443395d842d89c5cacf38f998c02": {
     "model_module": "@jupyter-widgets/base",
     "model_module_version": "1.2.0",
     "model_name": "LayoutModel",
     "state": {
      "_model_module": "@jupyter-widgets/base",
      "_model_module_version": "1.2.0",
      "_model_name": "LayoutModel",
      "_view_count": null,
      "_view_module": "@jupyter-widgets/base",
      "_view_module_version": "1.2.0",
      "_view_name": "LayoutView",
      "align_content": null,
      "align_items": null,
      "align_self": null,
      "border": null,
      "bottom": null,
      "display": null,
      "flex": null,
      "flex_flow": null,
      "grid_area": null,
      "grid_auto_columns": null,
      "grid_auto_flow": null,
      "grid_auto_rows": null,
      "grid_column": null,
      "grid_gap": null,
      "grid_row": null,
      "grid_template_areas": null,
      "grid_template_columns": null,
      "grid_template_rows": null,
      "height": null,
      "justify_content": null,
      "justify_items": null,
      "left": null,
      "margin": null,
      "max_height": null,
      "max_width": null,
      "min_height": null,
      "min_width": null,
      "object_fit": null,
      "object_position": null,
      "order": null,
      "overflow": null,
      "overflow_x": null,
      "overflow_y": null,
      "padding": null,
      "right": null,
      "top": null,
      "visibility": null,
      "width": null
     }
    },
    "be01f0ee5ed8442a9da833c6e3a609b5": {
     "model_module": "@jupyter-widgets/controls",
     "model_module_version": "1.5.0",
     "model_name": "DescriptionStyleModel",
     "state": {
      "_model_module": "@jupyter-widgets/controls",
      "_model_module_version": "1.5.0",
      "_model_name": "DescriptionStyleModel",
      "_view_count": null,
      "_view_module": "@jupyter-widgets/base",
      "_view_module_version": "1.2.0",
      "_view_name": "StyleView",
      "description_width": ""
     }
    },
    "c7f30dce2f4f492ba382726159859b90": {
     "model_module": "@jupyter-widgets/controls",
     "model_module_version": "1.5.0",
     "model_name": "HTMLModel",
     "state": {
      "_dom_classes": [],
      "_model_module": "@jupyter-widgets/controls",
      "_model_module_version": "1.5.0",
      "_model_name": "HTMLModel",
      "_view_count": null,
      "_view_module": "@jupyter-widgets/controls",
      "_view_module_version": "1.5.0",
      "_view_name": "HTMLView",
      "description": "",
      "description_tooltip": null,
      "layout": "IPY_MODEL_bac0443395d842d89c5cacf38f998c02",
      "placeholder": "​",
      "style": "IPY_MODEL_e9e77d4cef364d38a192c58817577d66",
      "value": "100%"
     }
    },
    "c8efb5bfcee14732bdaeed7c430c235e": {
     "model_module": "@jupyter-widgets/base",
     "model_module_version": "1.2.0",
     "model_name": "LayoutModel",
     "state": {
      "_model_module": "@jupyter-widgets/base",
      "_model_module_version": "1.2.0",
      "_model_name": "LayoutModel",
      "_view_count": null,
      "_view_module": "@jupyter-widgets/base",
      "_view_module_version": "1.2.0",
      "_view_name": "LayoutView",
      "align_content": null,
      "align_items": null,
      "align_self": null,
      "border": null,
      "bottom": null,
      "display": null,
      "flex": null,
      "flex_flow": null,
      "grid_area": null,
      "grid_auto_columns": null,
      "grid_auto_flow": null,
      "grid_auto_rows": null,
      "grid_column": null,
      "grid_gap": null,
      "grid_row": null,
      "grid_template_areas": null,
      "grid_template_columns": null,
      "grid_template_rows": null,
      "height": null,
      "justify_content": null,
      "justify_items": null,
      "left": null,
      "margin": null,
      "max_height": null,
      "max_width": null,
      "min_height": null,
      "min_width": null,
      "object_fit": null,
      "object_position": null,
      "order": null,
      "overflow": null,
      "overflow_x": null,
      "overflow_y": null,
      "padding": null,
      "right": null,
      "top": null,
      "visibility": null,
      "width": null
     }
    },
    "ce1ada80ecb6427a857c8f0a1076c029": {
     "model_module": "@jupyter-widgets/controls",
     "model_module_version": "1.5.0",
     "model_name": "DescriptionStyleModel",
     "state": {
      "_model_module": "@jupyter-widgets/controls",
      "_model_module_version": "1.5.0",
      "_model_name": "DescriptionStyleModel",
      "_view_count": null,
      "_view_module": "@jupyter-widgets/base",
      "_view_module_version": "1.2.0",
      "_view_name": "StyleView",
      "description_width": ""
     }
    },
    "cfec0af668844031ae87448b88ad70af": {
     "model_module": "@jupyter-widgets/controls",
     "model_module_version": "1.5.0",
     "model_name": "HBoxModel",
     "state": {
      "_dom_classes": [],
      "_model_module": "@jupyter-widgets/controls",
      "_model_module_version": "1.5.0",
      "_model_name": "HBoxModel",
      "_view_count": null,
      "_view_module": "@jupyter-widgets/controls",
      "_view_module_version": "1.5.0",
      "_view_name": "HBoxView",
      "box_style": "",
      "children": [
       "IPY_MODEL_c7f30dce2f4f492ba382726159859b90",
       "IPY_MODEL_134c5404c529448f842917125a277e0d",
       "IPY_MODEL_64f50a70a9594ce889cc645643063dd3"
      ],
      "layout": "IPY_MODEL_294d039f558846a7a1fccb2b940ad4aa"
     }
    },
    "d53900b28f1a4a2997b8eef5184b7a1d": {
     "model_module": "@jupyter-widgets/controls",
     "model_module_version": "1.5.0",
     "model_name": "HBoxModel",
     "state": {
      "_dom_classes": [],
      "_model_module": "@jupyter-widgets/controls",
      "_model_module_version": "1.5.0",
      "_model_name": "HBoxModel",
      "_view_count": null,
      "_view_module": "@jupyter-widgets/controls",
      "_view_module_version": "1.5.0",
      "_view_name": "HBoxView",
      "box_style": "",
      "children": [
       "IPY_MODEL_f2a07b219cfa49eba992d109e2091445",
       "IPY_MODEL_b11ca4f2601d4f76979d576f5672d6d8",
       "IPY_MODEL_59b2bc20c9524bd89b28c31ceb8b758f"
      ],
      "layout": "IPY_MODEL_18b1c5dd9b9c457a813fc62b94014298"
     }
    },
    "df55c2a2a6f64d89b55fab63b9301949": {
     "model_module": "@jupyter-widgets/controls",
     "model_module_version": "1.5.0",
     "model_name": "DescriptionStyleModel",
     "state": {
      "_model_module": "@jupyter-widgets/controls",
      "_model_module_version": "1.5.0",
      "_model_name": "DescriptionStyleModel",
      "_view_count": null,
      "_view_module": "@jupyter-widgets/base",
      "_view_module_version": "1.2.0",
      "_view_name": "StyleView",
      "description_width": ""
     }
    },
    "e53fdcd3aa5b4660aadd6c97373e9b4c": {
     "model_module": "@jupyter-widgets/base",
     "model_module_version": "1.2.0",
     "model_name": "LayoutModel",
     "state": {
      "_model_module": "@jupyter-widgets/base",
      "_model_module_version": "1.2.0",
      "_model_name": "LayoutModel",
      "_view_count": null,
      "_view_module": "@jupyter-widgets/base",
      "_view_module_version": "1.2.0",
      "_view_name": "LayoutView",
      "align_content": null,
      "align_items": null,
      "align_self": null,
      "border": null,
      "bottom": null,
      "display": null,
      "flex": null,
      "flex_flow": null,
      "grid_area": null,
      "grid_auto_columns": null,
      "grid_auto_flow": null,
      "grid_auto_rows": null,
      "grid_column": null,
      "grid_gap": null,
      "grid_row": null,
      "grid_template_areas": null,
      "grid_template_columns": null,
      "grid_template_rows": null,
      "height": null,
      "justify_content": null,
      "justify_items": null,
      "left": null,
      "margin": null,
      "max_height": null,
      "max_width": null,
      "min_height": null,
      "min_width": null,
      "object_fit": null,
      "object_position": null,
      "order": null,
      "overflow": null,
      "overflow_x": null,
      "overflow_y": null,
      "padding": null,
      "right": null,
      "top": null,
      "visibility": null,
      "width": null
     }
    },
    "e7bd2cb80d2b4379abe45543120cae29": {
     "model_module": "@jupyter-widgets/controls",
     "model_module_version": "1.5.0",
     "model_name": "HTMLModel",
     "state": {
      "_dom_classes": [],
      "_model_module": "@jupyter-widgets/controls",
      "_model_module_version": "1.5.0",
      "_model_name": "HTMLModel",
      "_view_count": null,
      "_view_module": "@jupyter-widgets/controls",
      "_view_module_version": "1.5.0",
      "_view_name": "HTMLView",
      "description": "",
      "description_tooltip": null,
      "layout": "IPY_MODEL_9e54299536b941398446e57f99e04292",
      "placeholder": "​",
      "style": "IPY_MODEL_be01f0ee5ed8442a9da833c6e3a609b5",
      "value": "100%"
     }
    },
    "e9e77d4cef364d38a192c58817577d66": {
     "model_module": "@jupyter-widgets/controls",
     "model_module_version": "1.5.0",
     "model_name": "DescriptionStyleModel",
     "state": {
      "_model_module": "@jupyter-widgets/controls",
      "_model_module_version": "1.5.0",
      "_model_name": "DescriptionStyleModel",
      "_view_count": null,
      "_view_module": "@jupyter-widgets/base",
      "_view_module_version": "1.2.0",
      "_view_name": "StyleView",
      "description_width": ""
     }
    },
    "f2a07b219cfa49eba992d109e2091445": {
     "model_module": "@jupyter-widgets/controls",
     "model_module_version": "1.5.0",
     "model_name": "HTMLModel",
     "state": {
      "_dom_classes": [],
      "_model_module": "@jupyter-widgets/controls",
      "_model_module_version": "1.5.0",
      "_model_name": "HTMLModel",
      "_view_count": null,
      "_view_module": "@jupyter-widgets/controls",
      "_view_module_version": "1.5.0",
      "_view_name": "HTMLView",
      "description": "",
      "description_tooltip": null,
      "layout": "IPY_MODEL_e53fdcd3aa5b4660aadd6c97373e9b4c",
      "placeholder": "​",
      "style": "IPY_MODEL_df55c2a2a6f64d89b55fab63b9301949",
      "value": "100%"
     }
    },
    "f9e7bbfb196a42e9b97626a339cea9e3": {
     "model_module": "@jupyter-widgets/controls",
     "model_module_version": "1.5.0",
     "model_name": "HTMLModel",
     "state": {
      "_dom_classes": [],
      "_model_module": "@jupyter-widgets/controls",
      "_model_module_version": "1.5.0",
      "_model_name": "HTMLModel",
      "_view_count": null,
      "_view_module": "@jupyter-widgets/controls",
      "_view_module_version": "1.5.0",
      "_view_name": "HTMLView",
      "description": "",
      "description_tooltip": null,
      "layout": "IPY_MODEL_0f0be173e5ad4caba3f5b3e72e994a57",
      "placeholder": "​",
      "style": "IPY_MODEL_5ed3fc64abf345a59b8348da0de36fbc",
      "value": " 5001/5001 [00:01&lt;00:00, 3487.63it/s]"
     }
    }
   }
  }
 },
 "nbformat": 4,
 "nbformat_minor": 0
}