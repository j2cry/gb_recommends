{
 "cells": [
  {
   "cell_type": "code",
   "execution_count": 214,
   "metadata": {
    "colab": {
     "base_uri": "https://localhost:8080/",
     "height": 392
    },
    "executionInfo": {
     "elapsed": 913,
     "status": "error",
     "timestamp": 1644049996964,
     "user": {
      "displayName": "Николай -",
      "photoUrl": "https://lh3.googleusercontent.com/a-/AOh14GiCS90olAsBznR3WLZOaJ5ukcv2LPYBRWvHEQUZ-A=s64",
      "userId": "17372739142422056321"
     },
     "user_tz": -180
    },
    "id": "P4cXa7KC9vZl",
    "outputId": "91a6b4ea-7926-4fe4-9eff-ebceaed655f6"
   },
   "outputs": [],
   "source": [
    "from typing import List\n",
    "from functools import partial, wraps\n",
    "\n",
    "import pandas as pd\n",
    "import numpy as np\n",
    "# import matplotlib.pyplot as plt\n",
    "\n",
    "# Для работы с матрицами\n",
    "from scipy.sparse import csr_matrix, coo_matrix\n",
    "\n",
    "# Детерминированные алгоритмы\n",
    "from implicit.nearest_neighbours import ItemItemRecommender, CosineRecommender, TFIDFRecommender, BM25Recommender\n",
    "\n",
    "# Метрики\n",
    "from implicit.evaluation import train_test_split\n",
    "from implicit.evaluation import precision_at_k, mean_average_precision_at_k, AUC_at_k, ndcg_at_k"
   ]
  },
  {
   "cell_type": "markdown",
   "metadata": {
    "pycharm": {
     "name": "#%% md\n"
    }
   },
   "source": [
    "## load&split"
   ]
  },
  {
   "cell_type": "code",
   "execution_count": 215,
   "metadata": {
    "colab": {
     "base_uri": "https://localhost:8080/",
     "height": 111
    },
    "executionInfo": {
     "elapsed": 5314,
     "status": "ok",
     "timestamp": 1639300600839,
     "user": {
      "displayName": "Николай -",
      "photoUrl": "https://lh3.googleusercontent.com/a-/AOh14GiCS90olAsBznR3WLZOaJ5ukcv2LPYBRWvHEQUZ-A=s64",
      "userId": "17372739142422056321"
     },
     "user_tz": -180
    },
    "id": "mwedaTmu9vZm",
    "outputId": "dc1cb9ae-74b6-4434-9aa8-0c299cb5d690"
   },
   "outputs": [
    {
     "data": {
      "text/plain": "   user_id    basket_id  day  item_id  quantity  sales_value  store_id  \\\n0     2375  26984851472    1  1004906         1         1.39       364   \n1     2375  26984851472    1  1033142         1         0.82       364   \n2     2375  26984851472    1  1036325         1         0.99       364   \n\n   retail_disc  trans_time  week_no  coupon_disc  coupon_match_disc  \n0         -0.6        1631        1          0.0                0.0  \n1          0.0        1631        1          0.0                0.0  \n2         -0.3        1631        1          0.0                0.0  ",
      "text/html": "<div>\n<style scoped>\n    .dataframe tbody tr th:only-of-type {\n        vertical-align: middle;\n    }\n\n    .dataframe tbody tr th {\n        vertical-align: top;\n    }\n\n    .dataframe thead th {\n        text-align: right;\n    }\n</style>\n<table border=\"1\" class=\"dataframe\">\n  <thead>\n    <tr style=\"text-align: right;\">\n      <th></th>\n      <th>user_id</th>\n      <th>basket_id</th>\n      <th>day</th>\n      <th>item_id</th>\n      <th>quantity</th>\n      <th>sales_value</th>\n      <th>store_id</th>\n      <th>retail_disc</th>\n      <th>trans_time</th>\n      <th>week_no</th>\n      <th>coupon_disc</th>\n      <th>coupon_match_disc</th>\n    </tr>\n  </thead>\n  <tbody>\n    <tr>\n      <th>0</th>\n      <td>2375</td>\n      <td>26984851472</td>\n      <td>1</td>\n      <td>1004906</td>\n      <td>1</td>\n      <td>1.39</td>\n      <td>364</td>\n      <td>-0.6</td>\n      <td>1631</td>\n      <td>1</td>\n      <td>0.0</td>\n      <td>0.0</td>\n    </tr>\n    <tr>\n      <th>1</th>\n      <td>2375</td>\n      <td>26984851472</td>\n      <td>1</td>\n      <td>1033142</td>\n      <td>1</td>\n      <td>0.82</td>\n      <td>364</td>\n      <td>0.0</td>\n      <td>1631</td>\n      <td>1</td>\n      <td>0.0</td>\n      <td>0.0</td>\n    </tr>\n    <tr>\n      <th>2</th>\n      <td>2375</td>\n      <td>26984851472</td>\n      <td>1</td>\n      <td>1036325</td>\n      <td>1</td>\n      <td>0.99</td>\n      <td>364</td>\n      <td>-0.3</td>\n      <td>1631</td>\n      <td>1</td>\n      <td>0.0</td>\n      <td>0.0</td>\n    </tr>\n  </tbody>\n</table>\n</div>"
     },
     "execution_count": 215,
     "metadata": {},
     "output_type": "execute_result"
    }
   ],
   "source": [
    "data = pd.read_csv('retail_train.csv')\n",
    "data.head(3)"
   ]
  },
  {
   "cell_type": "code",
   "execution_count": 216,
   "metadata": {
    "colab": {
     "base_uri": "https://localhost:8080/"
    },
    "executionInfo": {
     "elapsed": 412,
     "status": "ok",
     "timestamp": 1639300644126,
     "user": {
      "displayName": "Николай -",
      "photoUrl": "https://lh3.googleusercontent.com/a-/AOh14GiCS90olAsBznR3WLZOaJ5ukcv2LPYBRWvHEQUZ-A=s64",
      "userId": "17372739142422056321"
     },
     "user_tz": -180
    },
    "id": "8NafvkC29vZo",
    "outputId": "17deb8a0-bba4-4fc2-8712-dea58e5b7362"
   },
   "outputs": [
    {
     "name": "stdout",
     "output_type": "stream",
     "text": [
      "# users:  2499\n",
      "# items:  89051\n",
      "# interactions:  2396804\n",
      "# max week:  95\n"
     ]
    }
   ],
   "source": [
    "users, items, interactions, max_week = data.user_id.nunique(), data.item_id.nunique(), data.shape[0], data['week_no'].nunique()\n",
    "\n",
    "print('# users: ', users)\n",
    "print('# items: ', items)\n",
    "print('# interactions: ', interactions)\n",
    "print('# max week: ', max_week)"
   ]
  },
  {
   "cell_type": "code",
   "execution_count": 217,
   "metadata": {
    "colab": {
     "base_uri": "https://localhost:8080/",
     "height": 297
    },
    "executionInfo": {
     "elapsed": 339,
     "status": "ok",
     "timestamp": 1639300682460,
     "user": {
      "displayName": "Николай -",
      "photoUrl": "https://lh3.googleusercontent.com/a-/AOh14GiCS90olAsBznR3WLZOaJ5ukcv2LPYBRWvHEQUZ-A=s64",
      "userId": "17372739142422056321"
     },
     "user_tz": -180
    },
    "id": "KoLFB6gX9vZp",
    "outputId": "7d356ce3-9bf7-4a08-f86d-b61f383d04d7"
   },
   "outputs": [
    {
     "data": {
      "text/plain": "            item_id    sales_value\ncount  8.905100e+04   89051.000000\nmean   5.115772e+06      83.458481\nstd    5.178973e+06    1628.715079\nmin    2.567100e+04       0.000000\n25%    9.665830e+05       3.500000\n50%    1.448516e+06      10.780000\n75%    9.553042e+06      46.105000\nmax    1.802456e+07  467993.620000",
      "text/html": "<div>\n<style scoped>\n    .dataframe tbody tr th:only-of-type {\n        vertical-align: middle;\n    }\n\n    .dataframe tbody tr th {\n        vertical-align: top;\n    }\n\n    .dataframe thead th {\n        text-align: right;\n    }\n</style>\n<table border=\"1\" class=\"dataframe\">\n  <thead>\n    <tr style=\"text-align: right;\">\n      <th></th>\n      <th>item_id</th>\n      <th>sales_value</th>\n    </tr>\n  </thead>\n  <tbody>\n    <tr>\n      <th>count</th>\n      <td>8.905100e+04</td>\n      <td>89051.000000</td>\n    </tr>\n    <tr>\n      <th>mean</th>\n      <td>5.115772e+06</td>\n      <td>83.458481</td>\n    </tr>\n    <tr>\n      <th>std</th>\n      <td>5.178973e+06</td>\n      <td>1628.715079</td>\n    </tr>\n    <tr>\n      <th>min</th>\n      <td>2.567100e+04</td>\n      <td>0.000000</td>\n    </tr>\n    <tr>\n      <th>25%</th>\n      <td>9.665830e+05</td>\n      <td>3.500000</td>\n    </tr>\n    <tr>\n      <th>50%</th>\n      <td>1.448516e+06</td>\n      <td>10.780000</td>\n    </tr>\n    <tr>\n      <th>75%</th>\n      <td>9.553042e+06</td>\n      <td>46.105000</td>\n    </tr>\n    <tr>\n      <th>max</th>\n      <td>1.802456e+07</td>\n      <td>467993.620000</td>\n    </tr>\n  </tbody>\n</table>\n</div>"
     },
     "execution_count": 217,
     "metadata": {},
     "output_type": "execute_result"
    }
   ],
   "source": [
    "popularity = data.groupby('item_id')['sales_value'].sum().reset_index()\n",
    "popularity.describe()"
   ]
  },
  {
   "cell_type": "code",
   "execution_count": 218,
   "metadata": {
    "colab": {
     "base_uri": "https://localhost:8080/",
     "height": 297
    },
    "executionInfo": {
     "elapsed": 972,
     "status": "ok",
     "timestamp": 1639300690457,
     "user": {
      "displayName": "Николай -",
      "photoUrl": "https://lh3.googleusercontent.com/a-/AOh14GiCS90olAsBznR3WLZOaJ5ukcv2LPYBRWvHEQUZ-A=s64",
      "userId": "17372739142422056321"
     },
     "user_tz": -180
    },
    "id": "aKMW0bHd9vZq",
    "outputId": "5b9cb8d1-2bf9-4e32-c08a-0004a148aaa6"
   },
   "outputs": [
    {
     "data": {
      "text/plain": "            item_id       user_id\ncount  8.905100e+04  89051.000000\nmean   5.115772e+06     14.759767\nstd    5.178973e+06     45.904111\nmin    2.567100e+04      1.000000\n25%    9.665830e+05      1.000000\n50%    1.448516e+06      2.000000\n75%    9.553042e+06     10.000000\nmax    1.802456e+07   2039.000000",
      "text/html": "<div>\n<style scoped>\n    .dataframe tbody tr th:only-of-type {\n        vertical-align: middle;\n    }\n\n    .dataframe tbody tr th {\n        vertical-align: top;\n    }\n\n    .dataframe thead th {\n        text-align: right;\n    }\n</style>\n<table border=\"1\" class=\"dataframe\">\n  <thead>\n    <tr style=\"text-align: right;\">\n      <th></th>\n      <th>item_id</th>\n      <th>user_id</th>\n    </tr>\n  </thead>\n  <tbody>\n    <tr>\n      <th>count</th>\n      <td>8.905100e+04</td>\n      <td>89051.000000</td>\n    </tr>\n    <tr>\n      <th>mean</th>\n      <td>5.115772e+06</td>\n      <td>14.759767</td>\n    </tr>\n    <tr>\n      <th>std</th>\n      <td>5.178973e+06</td>\n      <td>45.904111</td>\n    </tr>\n    <tr>\n      <th>min</th>\n      <td>2.567100e+04</td>\n      <td>1.000000</td>\n    </tr>\n    <tr>\n      <th>25%</th>\n      <td>9.665830e+05</td>\n      <td>1.000000</td>\n    </tr>\n    <tr>\n      <th>50%</th>\n      <td>1.448516e+06</td>\n      <td>2.000000</td>\n    </tr>\n    <tr>\n      <th>75%</th>\n      <td>9.553042e+06</td>\n      <td>10.000000</td>\n    </tr>\n    <tr>\n      <th>max</th>\n      <td>1.802456e+07</td>\n      <td>2039.000000</td>\n    </tr>\n  </tbody>\n</table>\n</div>"
     },
     "execution_count": 218,
     "metadata": {},
     "output_type": "execute_result"
    }
   ],
   "source": [
    "popularity = data.groupby('item_id')['user_id'].nunique().reset_index()\n",
    "popularity.describe()"
   ]
  },
  {
   "cell_type": "code",
   "execution_count": 219,
   "metadata": {
    "id": "YcsOanje9vZt"
   },
   "outputs": [],
   "source": [
    "# train/test split\n",
    "test_size_weeks = 3\n",
    "\n",
    "data_train = data[data['week_no'] < data['week_no'].max() - test_size_weeks]\n",
    "data_test = data[data['week_no'] >= data['week_no'].max() - test_size_weeks]"
   ]
  },
  {
   "cell_type": "markdown",
   "metadata": {},
   "source": [
    "## prepare result frame"
   ]
  },
  {
   "cell_type": "code",
   "execution_count": 220,
   "metadata": {},
   "outputs": [
    {
     "data": {
      "text/plain": "   user_id                                             actual\n0        1  [821867, 834484, 856942, 865456, 889248, 90795...\n1        3  [835476, 851057, 872021, 878302, 879948, 90963...",
      "text/html": "<div>\n<style scoped>\n    .dataframe tbody tr th:only-of-type {\n        vertical-align: middle;\n    }\n\n    .dataframe tbody tr th {\n        vertical-align: top;\n    }\n\n    .dataframe thead th {\n        text-align: right;\n    }\n</style>\n<table border=\"1\" class=\"dataframe\">\n  <thead>\n    <tr style=\"text-align: right;\">\n      <th></th>\n      <th>user_id</th>\n      <th>actual</th>\n    </tr>\n  </thead>\n  <tbody>\n    <tr>\n      <th>0</th>\n      <td>1</td>\n      <td>[821867, 834484, 856942, 865456, 889248, 90795...</td>\n    </tr>\n    <tr>\n      <th>1</th>\n      <td>3</td>\n      <td>[835476, 851057, 872021, 878302, 879948, 90963...</td>\n    </tr>\n  </tbody>\n</table>\n</div>"
     },
     "execution_count": 220,
     "metadata": {},
     "output_type": "execute_result"
    }
   ],
   "source": [
    "# prepare result DataFrame\n",
    "result = data_test.groupby('user_id')['item_id'].unique().reset_index()\n",
    "result.columns=['user_id', 'actual']\n",
    "result.head(2)"
   ]
  },
  {
   "cell_type": "code",
   "execution_count": 221,
   "outputs": [
    {
     "name": "stdout",
     "output_type": "stream",
     "text": [
      "В тестовом дата сете 2042 юзеров\n",
      "В тестовом дата сете 0 новых юзеров\n"
     ]
    }
   ],
   "source": [
    "test_users = result.shape[0]\n",
    "new_test_users = len(set(data_test['user_id']) - set(data_train['user_id']))\n",
    "\n",
    "print('В тестовом дата сете {} юзеров'.format(test_users))\n",
    "print('В тестовом дата сете {} новых юзеров'.format(new_test_users))"
   ],
   "metadata": {
    "collapsed": false,
    "pycharm": {
     "name": "#%%\n"
    }
   }
  },
  {
   "cell_type": "markdown",
   "source": [
    "### prepare most popular top-K and pivot matrix"
   ],
   "metadata": {
    "collapsed": false
   }
  },
  {
   "cell_type": "code",
   "execution_count": 222,
   "outputs": [],
   "source": [
    "# Топ популярных товаров\n",
    "def k_popular(source, k=5000):\n",
    "    \"\"\" Топ K наиболее продаваемых товаров \"\"\"\n",
    "    popular = source.groupby('item_id')['quantity'].sum().reset_index()\n",
    "    return popular.sort_values('quantity', ascending=False).head(k).item_id.tolist()"
   ],
   "metadata": {
    "collapsed": false,
    "pycharm": {
     "name": "#%%\n"
    }
   }
  },
  {
   "cell_type": "code",
   "execution_count": 223,
   "outputs": [],
   "source": [
    "top_5000 = k_popular(data_train, k=5000)"
   ],
   "metadata": {
    "collapsed": false,
    "pycharm": {
     "name": "#%%\n"
    }
   }
  },
  {
   "cell_type": "code",
   "execution_count": 224,
   "outputs": [
    {
     "data": {
      "text/plain": "   user_id    basket_id  day  item_id  quantity  sales_value  store_id  \\\n0     2375  26984851472    1  1004906         1         1.39       364   \n1     2375  26984851472    1  1033142         1         0.82       364   \n2     2375  26984851472    1  1036325         1         0.99       364   \n3     2375  26984851472    1  1082185         1         1.21       364   \n4     2375  26984851472    1  8160430         1         1.50       364   \n\n   retail_disc  trans_time  week_no  coupon_disc  coupon_match_disc  \n0        -0.60        1631        1          0.0                0.0  \n1         0.00        1631        1          0.0                0.0  \n2        -0.30        1631        1          0.0                0.0  \n3         0.00        1631        1          0.0                0.0  \n4        -0.39        1631        1          0.0                0.0  ",
      "text/html": "<div>\n<style scoped>\n    .dataframe tbody tr th:only-of-type {\n        vertical-align: middle;\n    }\n\n    .dataframe tbody tr th {\n        vertical-align: top;\n    }\n\n    .dataframe thead th {\n        text-align: right;\n    }\n</style>\n<table border=\"1\" class=\"dataframe\">\n  <thead>\n    <tr style=\"text-align: right;\">\n      <th></th>\n      <th>user_id</th>\n      <th>basket_id</th>\n      <th>day</th>\n      <th>item_id</th>\n      <th>quantity</th>\n      <th>sales_value</th>\n      <th>store_id</th>\n      <th>retail_disc</th>\n      <th>trans_time</th>\n      <th>week_no</th>\n      <th>coupon_disc</th>\n      <th>coupon_match_disc</th>\n    </tr>\n  </thead>\n  <tbody>\n    <tr>\n      <th>0</th>\n      <td>2375</td>\n      <td>26984851472</td>\n      <td>1</td>\n      <td>1004906</td>\n      <td>1</td>\n      <td>1.39</td>\n      <td>364</td>\n      <td>-0.60</td>\n      <td>1631</td>\n      <td>1</td>\n      <td>0.0</td>\n      <td>0.0</td>\n    </tr>\n    <tr>\n      <th>1</th>\n      <td>2375</td>\n      <td>26984851472</td>\n      <td>1</td>\n      <td>1033142</td>\n      <td>1</td>\n      <td>0.82</td>\n      <td>364</td>\n      <td>0.00</td>\n      <td>1631</td>\n      <td>1</td>\n      <td>0.0</td>\n      <td>0.0</td>\n    </tr>\n    <tr>\n      <th>2</th>\n      <td>2375</td>\n      <td>26984851472</td>\n      <td>1</td>\n      <td>1036325</td>\n      <td>1</td>\n      <td>0.99</td>\n      <td>364</td>\n      <td>-0.30</td>\n      <td>1631</td>\n      <td>1</td>\n      <td>0.0</td>\n      <td>0.0</td>\n    </tr>\n    <tr>\n      <th>3</th>\n      <td>2375</td>\n      <td>26984851472</td>\n      <td>1</td>\n      <td>1082185</td>\n      <td>1</td>\n      <td>1.21</td>\n      <td>364</td>\n      <td>0.00</td>\n      <td>1631</td>\n      <td>1</td>\n      <td>0.0</td>\n      <td>0.0</td>\n    </tr>\n    <tr>\n      <th>4</th>\n      <td>2375</td>\n      <td>26984851472</td>\n      <td>1</td>\n      <td>8160430</td>\n      <td>1</td>\n      <td>1.50</td>\n      <td>364</td>\n      <td>-0.39</td>\n      <td>1631</td>\n      <td>1</td>\n      <td>0.0</td>\n      <td>0.0</td>\n    </tr>\n  </tbody>\n</table>\n</div>"
     },
     "execution_count": 224,
     "metadata": {},
     "output_type": "execute_result"
    }
   ],
   "source": [
    "# флаг, что товар не из топа\n",
    "top_train = data_train.copy()\n",
    "top_train.loc[~top_train['item_id'].isin(top_5000), 'item_id'] = -1\n",
    "\n",
    "top_train.head()"
   ],
   "metadata": {
    "collapsed": false,
    "pycharm": {
     "name": "#%%\n"
    }
   }
  },
  {
   "cell_type": "code",
   "execution_count": 225,
   "outputs": [],
   "source": [
    "user_item_matrix = pd.pivot_table(top_train,\n",
    "                                  index='user_id',\n",
    "                                  columns='item_id',\n",
    "                                  values='quantity',\n",
    "                                  aggfunc='count',\n",
    "                                  fill_value=0\n",
    "                                 )\n",
    "\n",
    "user_item_matrix[-1] = 0        # эти товары не в топе, поэтому зануляем\n",
    "user_item_matrix[user_item_matrix > 0] = 1\n",
    "user_item_matrix = user_item_matrix.astype(float) # необходимый тип матрицы для implicit\n",
    "\n",
    "# переведем в формат sparse matrix\n",
    "sparse_user_item = csr_matrix(user_item_matrix).tocsr()"
   ],
   "metadata": {
    "collapsed": false,
    "pycharm": {
     "name": "#%%\n"
    }
   }
  },
  {
   "cell_type": "code",
   "execution_count": 226,
   "outputs": [
    {
     "data": {
      "text/plain": "item_id  -1          202291     397896     420647     480014     545926    \\\nuser_id                                                                     \n1              0.0        0.0        0.0        0.0        0.0        0.0   \n2              0.0        0.0        0.0        0.0        0.0        0.0   \n3              0.0        0.0        0.0        0.0        0.0        0.0   \n4              0.0        0.0        0.0        0.0        0.0        0.0   \n5              0.0        0.0        0.0        0.0        0.0        0.0   \n\nitem_id   707683     731106     818980     819063    ...   15778533  \\\nuser_id                                              ...              \n1              0.0        0.0        0.0        0.0  ...        0.0   \n2              0.0        0.0        0.0        0.0  ...        0.0   \n3              0.0        0.0        0.0        0.0  ...        0.0   \n4              0.0        0.0        0.0        0.0  ...        0.0   \n5              0.0        0.0        0.0        0.0  ...        0.0   \n\nitem_id   15831255   15926712   15926775   15926844   15926886   15927403  \\\nuser_id                                                                     \n1              0.0        0.0        0.0        1.0        0.0        0.0   \n2              0.0        0.0        0.0        0.0        0.0        0.0   \n3              0.0        0.0        0.0        0.0        0.0        0.0   \n4              0.0        0.0        0.0        0.0        0.0        0.0   \n5              0.0        0.0        0.0        0.0        0.0        0.0   \n\nitem_id   15927661   15927850   16809471  \nuser_id                                   \n1              0.0        0.0        0.0  \n2              0.0        0.0        0.0  \n3              0.0        0.0        0.0  \n4              0.0        0.0        0.0  \n5              0.0        0.0        0.0  \n\n[5 rows x 5001 columns]",
      "text/html": "<div>\n<style scoped>\n    .dataframe tbody tr th:only-of-type {\n        vertical-align: middle;\n    }\n\n    .dataframe tbody tr th {\n        vertical-align: top;\n    }\n\n    .dataframe thead th {\n        text-align: right;\n    }\n</style>\n<table border=\"1\" class=\"dataframe\">\n  <thead>\n    <tr style=\"text-align: right;\">\n      <th>item_id</th>\n      <th>-1</th>\n      <th>202291</th>\n      <th>397896</th>\n      <th>420647</th>\n      <th>480014</th>\n      <th>545926</th>\n      <th>707683</th>\n      <th>731106</th>\n      <th>818980</th>\n      <th>819063</th>\n      <th>...</th>\n      <th>15778533</th>\n      <th>15831255</th>\n      <th>15926712</th>\n      <th>15926775</th>\n      <th>15926844</th>\n      <th>15926886</th>\n      <th>15927403</th>\n      <th>15927661</th>\n      <th>15927850</th>\n      <th>16809471</th>\n    </tr>\n    <tr>\n      <th>user_id</th>\n      <th></th>\n      <th></th>\n      <th></th>\n      <th></th>\n      <th></th>\n      <th></th>\n      <th></th>\n      <th></th>\n      <th></th>\n      <th></th>\n      <th></th>\n      <th></th>\n      <th></th>\n      <th></th>\n      <th></th>\n      <th></th>\n      <th></th>\n      <th></th>\n      <th></th>\n      <th></th>\n      <th></th>\n    </tr>\n  </thead>\n  <tbody>\n    <tr>\n      <th>1</th>\n      <td>0.0</td>\n      <td>0.0</td>\n      <td>0.0</td>\n      <td>0.0</td>\n      <td>0.0</td>\n      <td>0.0</td>\n      <td>0.0</td>\n      <td>0.0</td>\n      <td>0.0</td>\n      <td>0.0</td>\n      <td>...</td>\n      <td>0.0</td>\n      <td>0.0</td>\n      <td>0.0</td>\n      <td>0.0</td>\n      <td>1.0</td>\n      <td>0.0</td>\n      <td>0.0</td>\n      <td>0.0</td>\n      <td>0.0</td>\n      <td>0.0</td>\n    </tr>\n    <tr>\n      <th>2</th>\n      <td>0.0</td>\n      <td>0.0</td>\n      <td>0.0</td>\n      <td>0.0</td>\n      <td>0.0</td>\n      <td>0.0</td>\n      <td>0.0</td>\n      <td>0.0</td>\n      <td>0.0</td>\n      <td>0.0</td>\n      <td>...</td>\n      <td>0.0</td>\n      <td>0.0</td>\n      <td>0.0</td>\n      <td>0.0</td>\n      <td>0.0</td>\n      <td>0.0</td>\n      <td>0.0</td>\n      <td>0.0</td>\n      <td>0.0</td>\n      <td>0.0</td>\n    </tr>\n    <tr>\n      <th>3</th>\n      <td>0.0</td>\n      <td>0.0</td>\n      <td>0.0</td>\n      <td>0.0</td>\n      <td>0.0</td>\n      <td>0.0</td>\n      <td>0.0</td>\n      <td>0.0</td>\n      <td>0.0</td>\n      <td>0.0</td>\n      <td>...</td>\n      <td>0.0</td>\n      <td>0.0</td>\n      <td>0.0</td>\n      <td>0.0</td>\n      <td>0.0</td>\n      <td>0.0</td>\n      <td>0.0</td>\n      <td>0.0</td>\n      <td>0.0</td>\n      <td>0.0</td>\n    </tr>\n    <tr>\n      <th>4</th>\n      <td>0.0</td>\n      <td>0.0</td>\n      <td>0.0</td>\n      <td>0.0</td>\n      <td>0.0</td>\n      <td>0.0</td>\n      <td>0.0</td>\n      <td>0.0</td>\n      <td>0.0</td>\n      <td>0.0</td>\n      <td>...</td>\n      <td>0.0</td>\n      <td>0.0</td>\n      <td>0.0</td>\n      <td>0.0</td>\n      <td>0.0</td>\n      <td>0.0</td>\n      <td>0.0</td>\n      <td>0.0</td>\n      <td>0.0</td>\n      <td>0.0</td>\n    </tr>\n    <tr>\n      <th>5</th>\n      <td>0.0</td>\n      <td>0.0</td>\n      <td>0.0</td>\n      <td>0.0</td>\n      <td>0.0</td>\n      <td>0.0</td>\n      <td>0.0</td>\n      <td>0.0</td>\n      <td>0.0</td>\n      <td>0.0</td>\n      <td>...</td>\n      <td>0.0</td>\n      <td>0.0</td>\n      <td>0.0</td>\n      <td>0.0</td>\n      <td>0.0</td>\n      <td>0.0</td>\n      <td>0.0</td>\n      <td>0.0</td>\n      <td>0.0</td>\n      <td>0.0</td>\n    </tr>\n  </tbody>\n</table>\n<p>5 rows × 5001 columns</p>\n</div>"
     },
     "execution_count": 226,
     "metadata": {},
     "output_type": "execute_result"
    }
   ],
   "source": [
    "user_item_matrix.head()"
   ],
   "metadata": {
    "collapsed": false,
    "pycharm": {
     "name": "#%%\n"
    }
   }
  },
  {
   "cell_type": "code",
   "execution_count": 227,
   "outputs": [],
   "source": [
    "# remap dictionaries\n",
    "id_to_itemid = dict(enumerate(user_item_matrix.columns.values))\n",
    "id_to_userid = dict(enumerate(user_item_matrix.index.values))\n",
    "\n",
    "itemid_to_id = {v: k for k, v in id_to_itemid.items()}\n",
    "userid_to_id = {v: k for k, v in id_to_userid.items()}"
   ],
   "metadata": {
    "collapsed": false,
    "pycharm": {
     "name": "#%%\n"
    }
   }
  },
  {
   "cell_type": "markdown",
   "source": [
    "## 1. Baselines"
   ],
   "metadata": {
    "collapsed": false
   }
  },
  {
   "cell_type": "markdown",
   "source": [
    "### 1.1 Random recommendation"
   ],
   "metadata": {
    "collapsed": false
   }
  },
  {
   "cell_type": "code",
   "execution_count": 228,
   "outputs": [],
   "source": [
    "def random_recommendation(_items, n=5):\n",
    "    \"\"\"Случайные рекоммендации\"\"\"\n",
    "    _items = np.array(_items)\n",
    "    _recs = np.random.default_rng().choice(items, size=n, replace=False)\n",
    "    return _recs.tolist()"
   ],
   "metadata": {
    "collapsed": false,
    "pycharm": {
     "name": "#%%\n"
    }
   }
  },
  {
   "cell_type": "code",
   "execution_count": 229,
   "outputs": [
    {
     "name": "stdout",
     "output_type": "stream",
     "text": [
      "CPU times: user 226 ms, sys: 20.1 ms, total: 246 ms\n",
      "Wall time: 246 ms\n"
     ]
    },
    {
     "data": {
      "text/plain": "   user_id                                             actual  \\\n0        1  [821867, 834484, 856942, 865456, 889248, 90795...   \n1        3  [835476, 851057, 872021, 878302, 879948, 90963...   \n2        6  [920308, 926804, 946489, 1006718, 1017061, 107...   \n\n                                          random  \n0  [989919, 5567649, 13007818, 6704232, 7167370]  \n1    [981135, 13039154, 73681, 974561, 10355962]  \n2   [2407467, 13510775, 1134901, 6391210, 45372]  ",
      "text/html": "<div>\n<style scoped>\n    .dataframe tbody tr th:only-of-type {\n        vertical-align: middle;\n    }\n\n    .dataframe tbody tr th {\n        vertical-align: top;\n    }\n\n    .dataframe thead th {\n        text-align: right;\n    }\n</style>\n<table border=\"1\" class=\"dataframe\">\n  <thead>\n    <tr style=\"text-align: right;\">\n      <th></th>\n      <th>user_id</th>\n      <th>actual</th>\n      <th>random</th>\n    </tr>\n  </thead>\n  <tbody>\n    <tr>\n      <th>0</th>\n      <td>1</td>\n      <td>[821867, 834484, 856942, 865456, 889248, 90795...</td>\n      <td>[989919, 5567649, 13007818, 6704232, 7167370]</td>\n    </tr>\n    <tr>\n      <th>1</th>\n      <td>3</td>\n      <td>[835476, 851057, 872021, 878302, 879948, 90963...</td>\n      <td>[981135, 13039154, 73681, 974561, 10355962]</td>\n    </tr>\n    <tr>\n      <th>2</th>\n      <td>6</td>\n      <td>[920308, 926804, 946489, 1006718, 1017061, 107...</td>\n      <td>[2407467, 13510775, 1134901, 6391210, 45372]</td>\n    </tr>\n  </tbody>\n</table>\n</div>"
     },
     "execution_count": 229,
     "metadata": {},
     "output_type": "execute_result"
    }
   ],
   "source": [
    "%%time\n",
    "items = data_train.item_id.unique()\n",
    "result['random'] = result['user_id'].apply(lambda x: random_recommendation(items, n=5))\n",
    "result.head(3)"
   ],
   "metadata": {
    "collapsed": false,
    "pycharm": {
     "name": "#%%\n"
    }
   }
  },
  {
   "cell_type": "markdown",
   "source": [
    "### 1.2 Popularity-based recommendation"
   ],
   "metadata": {
    "collapsed": false
   }
  },
  {
   "cell_type": "code",
   "execution_count": 230,
   "outputs": [],
   "source": [
    "def popularity_recommendation(_data, n=5):\n",
    "    \"\"\"Топ-n популярных товаров\"\"\"\n",
    "    popular = _data.groupby('item_id')['sales_value'].sum().reset_index()\n",
    "    popular.sort_values('sales_value', ascending=False, inplace=True)\n",
    "    _recs = popular.head(n).item_id\n",
    "    return _recs.tolist()"
   ],
   "metadata": {
    "collapsed": false,
    "pycharm": {
     "name": "#%%\n"
    }
   }
  },
  {
   "cell_type": "code",
   "execution_count": 231,
   "outputs": [
    {
     "name": "stdout",
     "output_type": "stream",
     "text": [
      "CPU times: user 105 ms, sys: 4.04 ms, total: 110 ms\n",
      "Wall time: 109 ms\n"
     ]
    },
    {
     "data": {
      "text/plain": "   user_id                                             actual  \\\n0        1  [821867, 834484, 856942, 865456, 889248, 90795...   \n1        3  [835476, 851057, 872021, 878302, 879948, 90963...   \n2        6  [920308, 926804, 946489, 1006718, 1017061, 107...   \n\n                                          random  \\\n0  [989919, 5567649, 13007818, 6704232, 7167370]   \n1    [981135, 13039154, 73681, 974561, 10355962]   \n2   [2407467, 13510775, 1134901, 6391210, 45372]   \n\n                                    most_popular  \n0  [6534178, 6533889, 1029743, 6534166, 1082185]  \n1  [6534178, 6533889, 1029743, 6534166, 1082185]  \n2  [6534178, 6533889, 1029743, 6534166, 1082185]  ",
      "text/html": "<div>\n<style scoped>\n    .dataframe tbody tr th:only-of-type {\n        vertical-align: middle;\n    }\n\n    .dataframe tbody tr th {\n        vertical-align: top;\n    }\n\n    .dataframe thead th {\n        text-align: right;\n    }\n</style>\n<table border=\"1\" class=\"dataframe\">\n  <thead>\n    <tr style=\"text-align: right;\">\n      <th></th>\n      <th>user_id</th>\n      <th>actual</th>\n      <th>random</th>\n      <th>most_popular</th>\n    </tr>\n  </thead>\n  <tbody>\n    <tr>\n      <th>0</th>\n      <td>1</td>\n      <td>[821867, 834484, 856942, 865456, 889248, 90795...</td>\n      <td>[989919, 5567649, 13007818, 6704232, 7167370]</td>\n      <td>[6534178, 6533889, 1029743, 6534166, 1082185]</td>\n    </tr>\n    <tr>\n      <th>1</th>\n      <td>3</td>\n      <td>[835476, 851057, 872021, 878302, 879948, 90963...</td>\n      <td>[981135, 13039154, 73681, 974561, 10355962]</td>\n      <td>[6534178, 6533889, 1029743, 6534166, 1082185]</td>\n    </tr>\n    <tr>\n      <th>2</th>\n      <td>6</td>\n      <td>[920308, 926804, 946489, 1006718, 1017061, 107...</td>\n      <td>[2407467, 13510775, 1134901, 6391210, 45372]</td>\n      <td>[6534178, 6533889, 1029743, 6534166, 1082185]</td>\n    </tr>\n  </tbody>\n</table>\n</div>"
     },
     "execution_count": 231,
     "metadata": {},
     "output_type": "execute_result"
    }
   ],
   "source": [
    "%%time\n",
    "# Можно так делать, так как рекомендация не зависит от юзера\n",
    "popular_recs = popularity_recommendation(data_train, n=5)\n",
    "result['most_popular'] = result['user_id'].apply(lambda x: popular_recs)\n",
    "result.head(3)"
   ],
   "metadata": {
    "collapsed": false,
    "pycharm": {
     "name": "#%%\n"
    }
   }
  },
  {
   "cell_type": "markdown",
   "source": [
    "### 1.3 Weighted random recommender"
   ],
   "metadata": {
    "collapsed": false
   }
  },
  {
   "cell_type": "code",
   "execution_count": 232,
   "outputs": [],
   "source": [
    "def weighted_random_recommendation(items_weights, n=5):\n",
    "    \"\"\"Случайные рекомендации\n",
    "\n",
    "    Input\n",
    "    -----\n",
    "    items_weights: pd.DataFrame\n",
    "        Датафрейм со столбцами item_id, weight. Сумма weight по всем товарам = 1\n",
    "    \"\"\"\n",
    "    _items = items_weights['item_id'].astype(int)\n",
    "    _weights = items_weights['weight'].astype(float)\n",
    "    _recs = np.random.default_rng().choice(_items, size=n, replace=False, p=_weights)\n",
    "    return _recs.tolist()"
   ],
   "metadata": {
    "collapsed": false,
    "pycharm": {
     "name": "#%%\n"
    }
   }
  },
  {
   "cell_type": "code",
   "execution_count": 233,
   "outputs": [],
   "source": [
    "# Товары можно ранжировать не только по суммарной стоимости, но еще и по количеству проданных единиц\n",
    "# т.о. в топ не попадут очень дорогие редко продаваемые товары\n",
    "# с другой стороны, попадут дешевые товары, которые покупаются в больших количествах\n",
    "# чтобы более-менее уравновесить эти параметры, их можно масштабировать\n",
    "\n",
    "def calc_weights(source: pd.DataFrame, vec_fields: List[str], beta: List[float]):\n",
    "    \"\"\" Расчет весов\n",
    "    :param source - исходные данные\n",
    "    :param vec_fields - признаки, используемые в измерении веса\n",
    "    :param beta - множитель для изменения значимости признака в оценке веса\n",
    "    \"\"\"\n",
    "    grouped_goods = source.groupby('item_id')[vec_fields].sum()\n",
    "    beta = np.array(beta)\n",
    "\n",
    "    # mean scale\n",
    "    scaled_grouped_goods = ((grouped_goods - grouped_goods.mean()) / grouped_goods.std()) * beta\n",
    "    # min-max scale\n",
    "    # scaled_grouped_goods = (grouped_goods - grouped_goods.min()) / (grouped_goods.max() - grouped_goods.min())\n",
    "    # sum scale\n",
    "    # scaled_grouped_goods = grouped_goods / grouped_goods.sum()\n",
    "\n",
    "    # в качестве веса товара берем нормализованную норму вектора товара\n",
    "    vec_norma = np.linalg.norm(scaled_grouped_goods, ord=2, axis=1)\n",
    "    grouped_goods['weight'] = vec_norma / vec_norma.sum()\n",
    "\n",
    "    return grouped_goods.sort_values('weight', ascending=False).reset_index()"
   ],
   "metadata": {
    "collapsed": false,
    "pycharm": {
     "name": "#%%\n"
    }
   }
  },
  {
   "cell_type": "code",
   "execution_count": 234,
   "outputs": [
    {
     "name": "stdout",
     "output_type": "stream",
     "text": [
      "CPU times: user 2.79 s, sys: 19.8 ms, total: 2.81 s\n",
      "Wall time: 2.8 s\n"
     ]
    },
    {
     "data": {
      "text/plain": "   user_id                                             actual  \\\n0        1  [821867, 834484, 856942, 865456, 889248, 90795...   \n1        3  [835476, 851057, 872021, 878302, 879948, 90963...   \n2        6  [920308, 926804, 946489, 1006718, 1017061, 107...   \n\n                                          random  \\\n0  [989919, 5567649, 13007818, 6704232, 7167370]   \n1    [981135, 13039154, 73681, 974561, 10355962]   \n2   [2407467, 13510775, 1134901, 6391210, 45372]   \n\n                                    most_popular  \\\n0  [6534178, 6533889, 1029743, 6534166, 1082185]   \n1  [6534178, 6533889, 1029743, 6534166, 1082185]   \n2  [6534178, 6533889, 1029743, 6534166, 1082185]   \n\n                                  weighted_random  \n0     [1280948, 958729, 885939, 891077, 10311479]  \n1  [3025516, 6464109, 8321674, 12984700, 1114610]  \n2   [6534178, 1060386, 13038750, 892573, 1856989]  ",
      "text/html": "<div>\n<style scoped>\n    .dataframe tbody tr th:only-of-type {\n        vertical-align: middle;\n    }\n\n    .dataframe tbody tr th {\n        vertical-align: top;\n    }\n\n    .dataframe thead th {\n        text-align: right;\n    }\n</style>\n<table border=\"1\" class=\"dataframe\">\n  <thead>\n    <tr style=\"text-align: right;\">\n      <th></th>\n      <th>user_id</th>\n      <th>actual</th>\n      <th>random</th>\n      <th>most_popular</th>\n      <th>weighted_random</th>\n    </tr>\n  </thead>\n  <tbody>\n    <tr>\n      <th>0</th>\n      <td>1</td>\n      <td>[821867, 834484, 856942, 865456, 889248, 90795...</td>\n      <td>[989919, 5567649, 13007818, 6704232, 7167370]</td>\n      <td>[6534178, 6533889, 1029743, 6534166, 1082185]</td>\n      <td>[1280948, 958729, 885939, 891077, 10311479]</td>\n    </tr>\n    <tr>\n      <th>1</th>\n      <td>3</td>\n      <td>[835476, 851057, 872021, 878302, 879948, 90963...</td>\n      <td>[981135, 13039154, 73681, 974561, 10355962]</td>\n      <td>[6534178, 6533889, 1029743, 6534166, 1082185]</td>\n      <td>[3025516, 6464109, 8321674, 12984700, 1114610]</td>\n    </tr>\n    <tr>\n      <th>2</th>\n      <td>6</td>\n      <td>[920308, 926804, 946489, 1006718, 1017061, 107...</td>\n      <td>[2407467, 13510775, 1134901, 6391210, 45372]</td>\n      <td>[6534178, 6533889, 1029743, 6534166, 1082185]</td>\n      <td>[6534178, 1060386, 13038750, 892573, 1856989]</td>\n    </tr>\n  </tbody>\n</table>\n</div>"
     },
     "execution_count": 234,
     "metadata": {},
     "output_type": "execute_result"
    }
   ],
   "source": [
    "%%time\n",
    "weighted_goods = calc_weights(data_train, vec_fields = ['quantity', 'sales_value'], beta=[1., 1.])\n",
    "result['weighted_random'] = result['user_id'].apply(lambda x: weighted_random_recommendation(weighted_goods, n=5))\n",
    "result.head(3)"
   ],
   "metadata": {
    "collapsed": false,
    "pycharm": {
     "name": "#%%\n"
    }
   }
  },
  {
   "cell_type": "markdown",
   "source": [
    "### 1.4 Random from top-K"
   ],
   "metadata": {
    "collapsed": false
   }
  },
  {
   "cell_type": "code",
   "execution_count": 235,
   "outputs": [
    {
     "name": "stdout",
     "output_type": "stream",
     "text": [
      "CPU times: user 617 ms, sys: 0 ns, total: 617 ms\n",
      "Wall time: 613 ms\n"
     ]
    },
    {
     "data": {
      "text/plain": "   user_id                                             actual  \\\n0        1  [821867, 834484, 856942, 865456, 889248, 90795...   \n1        3  [835476, 851057, 872021, 878302, 879948, 90963...   \n2        6  [920308, 926804, 946489, 1006718, 1017061, 107...   \n\n                                          random  \\\n0  [989919, 5567649, 13007818, 6704232, 7167370]   \n1    [981135, 13039154, 73681, 974561, 10355962]   \n2   [2407467, 13510775, 1134901, 6391210, 45372]   \n\n                                    most_popular  \\\n0  [6534178, 6533889, 1029743, 6534166, 1082185]   \n1  [6534178, 6533889, 1029743, 6534166, 1082185]   \n2  [6534178, 6533889, 1029743, 6534166, 1082185]   \n\n                                  weighted_random  \\\n0     [1280948, 958729, 885939, 891077, 10311479]   \n1  [3025516, 6464109, 8321674, 12984700, 1114610]   \n2   [6534178, 1060386, 13038750, 892573, 1856989]   \n\n                                    random_from_top  \n0  [6034673, 13039895, 10369057, 13007123, 6772643]  \n1    [1106125, 126696, 13098159, 8358002, 10456050]  \n2      [902806, 852514, 2845047, 15686490, 1037541]  ",
      "text/html": "<div>\n<style scoped>\n    .dataframe tbody tr th:only-of-type {\n        vertical-align: middle;\n    }\n\n    .dataframe tbody tr th {\n        vertical-align: top;\n    }\n\n    .dataframe thead th {\n        text-align: right;\n    }\n</style>\n<table border=\"1\" class=\"dataframe\">\n  <thead>\n    <tr style=\"text-align: right;\">\n      <th></th>\n      <th>user_id</th>\n      <th>actual</th>\n      <th>random</th>\n      <th>most_popular</th>\n      <th>weighted_random</th>\n      <th>random_from_top</th>\n    </tr>\n  </thead>\n  <tbody>\n    <tr>\n      <th>0</th>\n      <td>1</td>\n      <td>[821867, 834484, 856942, 865456, 889248, 90795...</td>\n      <td>[989919, 5567649, 13007818, 6704232, 7167370]</td>\n      <td>[6534178, 6533889, 1029743, 6534166, 1082185]</td>\n      <td>[1280948, 958729, 885939, 891077, 10311479]</td>\n      <td>[6034673, 13039895, 10369057, 13007123, 6772643]</td>\n    </tr>\n    <tr>\n      <th>1</th>\n      <td>3</td>\n      <td>[835476, 851057, 872021, 878302, 879948, 90963...</td>\n      <td>[981135, 13039154, 73681, 974561, 10355962]</td>\n      <td>[6534178, 6533889, 1029743, 6534166, 1082185]</td>\n      <td>[3025516, 6464109, 8321674, 12984700, 1114610]</td>\n      <td>[1106125, 126696, 13098159, 8358002, 10456050]</td>\n    </tr>\n    <tr>\n      <th>2</th>\n      <td>6</td>\n      <td>[920308, 926804, 946489, 1006718, 1017061, 107...</td>\n      <td>[2407467, 13510775, 1134901, 6391210, 45372]</td>\n      <td>[6534178, 6533889, 1029743, 6534166, 1082185]</td>\n      <td>[6534178, 1060386, 13038750, 892573, 1856989]</td>\n      <td>[902806, 852514, 2845047, 15686490, 1037541]</td>\n    </tr>\n  </tbody>\n</table>\n</div>"
     },
     "execution_count": 235,
     "metadata": {},
     "output_type": "execute_result"
    }
   ],
   "source": [
    "%%time\n",
    "result['random_from_top'] = result['user_id'].apply(lambda x: random_recommendation(top_5000, n=5))\n",
    "result.head(3)"
   ],
   "metadata": {
    "collapsed": false,
    "pycharm": {
     "name": "#%%\n"
    }
   }
  },
  {
   "cell_type": "markdown",
   "source": [
    "### 1.5 Weighted random from top-K"
   ],
   "metadata": {
    "collapsed": false
   }
  },
  {
   "cell_type": "code",
   "execution_count": 236,
   "outputs": [
    {
     "name": "stdout",
     "output_type": "stream",
     "text": [
      "CPU times: user 749 ms, sys: 44.1 ms, total: 793 ms\n",
      "Wall time: 792 ms\n"
     ]
    },
    {
     "data": {
      "text/plain": "   user_id                                             actual  \\\n0        1  [821867, 834484, 856942, 865456, 889248, 90795...   \n1        3  [835476, 851057, 872021, 878302, 879948, 90963...   \n2        6  [920308, 926804, 946489, 1006718, 1017061, 107...   \n\n                                          random  \\\n0  [989919, 5567649, 13007818, 6704232, 7167370]   \n1    [981135, 13039154, 73681, 974561, 10355962]   \n2   [2407467, 13510775, 1134901, 6391210, 45372]   \n\n                                    most_popular  \\\n0  [6534178, 6533889, 1029743, 6534166, 1082185]   \n1  [6534178, 6533889, 1029743, 6534166, 1082185]   \n2  [6534178, 6533889, 1029743, 6534166, 1082185]   \n\n                                  weighted_random  \\\n0     [1280948, 958729, 885939, 891077, 10311479]   \n1  [3025516, 6464109, 8321674, 12984700, 1114610]   \n2   [6534178, 1060386, 13038750, 892573, 1856989]   \n\n                                    random_from_top  \\\n0  [6034673, 13039895, 10369057, 13007123, 6772643]   \n1    [1106125, 126696, 13098159, 8358002, 10456050]   \n2      [902806, 852514, 2845047, 15686490, 1037541]   \n\n                        weighted_random_from_top  \n0  [6534178, 900842, 15778533, 1027447, 1011572]  \n1      [868764, 872137, 1065122, 825994, 819227]  \n2   [1108094, 975155, 6533889, 1129321, 6534178]  ",
      "text/html": "<div>\n<style scoped>\n    .dataframe tbody tr th:only-of-type {\n        vertical-align: middle;\n    }\n\n    .dataframe tbody tr th {\n        vertical-align: top;\n    }\n\n    .dataframe thead th {\n        text-align: right;\n    }\n</style>\n<table border=\"1\" class=\"dataframe\">\n  <thead>\n    <tr style=\"text-align: right;\">\n      <th></th>\n      <th>user_id</th>\n      <th>actual</th>\n      <th>random</th>\n      <th>most_popular</th>\n      <th>weighted_random</th>\n      <th>random_from_top</th>\n      <th>weighted_random_from_top</th>\n    </tr>\n  </thead>\n  <tbody>\n    <tr>\n      <th>0</th>\n      <td>1</td>\n      <td>[821867, 834484, 856942, 865456, 889248, 90795...</td>\n      <td>[989919, 5567649, 13007818, 6704232, 7167370]</td>\n      <td>[6534178, 6533889, 1029743, 6534166, 1082185]</td>\n      <td>[1280948, 958729, 885939, 891077, 10311479]</td>\n      <td>[6034673, 13039895, 10369057, 13007123, 6772643]</td>\n      <td>[6534178, 900842, 15778533, 1027447, 1011572]</td>\n    </tr>\n    <tr>\n      <th>1</th>\n      <td>3</td>\n      <td>[835476, 851057, 872021, 878302, 879948, 90963...</td>\n      <td>[981135, 13039154, 73681, 974561, 10355962]</td>\n      <td>[6534178, 6533889, 1029743, 6534166, 1082185]</td>\n      <td>[3025516, 6464109, 8321674, 12984700, 1114610]</td>\n      <td>[1106125, 126696, 13098159, 8358002, 10456050]</td>\n      <td>[868764, 872137, 1065122, 825994, 819227]</td>\n    </tr>\n    <tr>\n      <th>2</th>\n      <td>6</td>\n      <td>[920308, 926804, 946489, 1006718, 1017061, 107...</td>\n      <td>[2407467, 13510775, 1134901, 6391210, 45372]</td>\n      <td>[6534178, 6533889, 1029743, 6534166, 1082185]</td>\n      <td>[6534178, 1060386, 13038750, 892573, 1856989]</td>\n      <td>[902806, 852514, 2845047, 15686490, 1037541]</td>\n      <td>[1108094, 975155, 6533889, 1129321, 6534178]</td>\n    </tr>\n  </tbody>\n</table>\n</div>"
     },
     "execution_count": 236,
     "metadata": {},
     "output_type": "execute_result"
    }
   ],
   "source": [
    "%%time\n",
    "top_weighted_goods = calc_weights(data_train[data_train['item_id'].isin(top_5000)], vec_fields = ['quantity', 'sales_value'], beta=[1., 1.])\n",
    "result['weighted_random_from_top'] = result['user_id'].apply(lambda x: weighted_random_recommendation(top_weighted_goods, n=5))\n",
    "result.head(3)"
   ],
   "metadata": {
    "collapsed": false,
    "pycharm": {
     "name": "#%%\n"
    }
   }
  },
  {
   "cell_type": "markdown",
   "source": [
    "## 2. Детерминированные алгоритмы item-item"
   ],
   "metadata": {
    "collapsed": false
   }
  },
  {
   "cell_type": "markdown",
   "source": [
    "### подготовка функции-рекомендателя"
   ],
   "metadata": {
    "collapsed": false
   }
  },
  {
   "cell_type": "code",
   "execution_count": 237,
   "metadata": {
    "id": "iLuh78DsEBow"
   },
   "outputs": [],
   "source": [
    "recommender_params = {\n",
    "    'user_items': sparse_user_item,\n",
    "    'N': 5, # кол-во рекомендаций\n",
    "    'filter_already_liked_items': False,\n",
    "    'filter_items': None,\n",
    "    'recalculate_user': True\n",
    "}\n",
    "\n",
    "def recommender(user_id, mdl, params):\n",
    "    rec_score = mdl.recommend(userid_to_id[user_id], **params)\n",
    "    return [id_to_itemid[rec[0]] for rec in rec_score]\n"
   ]
  },
  {
   "cell_type": "markdown",
   "source": [
    "### 2.1 Item-Item Recommender / ItemKNN"
   ],
   "metadata": {
    "collapsed": false
   }
  },
  {
   "cell_type": "code",
   "execution_count": 238,
   "outputs": [
    {
     "data": {
      "text/plain": "  0%|          | 0/5001 [00:00<?, ?it/s]",
      "application/vnd.jupyter.widget-view+json": {
       "version_major": 2,
       "version_minor": 0,
       "model_id": "c167a29b96c641be9b7e539b5ebd5ca7"
      }
     },
     "metadata": {},
     "output_type": "display_data"
    },
    {
     "name": "stdout",
     "output_type": "stream",
     "text": [
      "CPU times: user 1.75 s, sys: 20.2 ms, total: 1.77 s\n",
      "Wall time: 315 ms\n"
     ]
    }
   ],
   "source": [
    "%%time\n",
    "model = ItemItemRecommender(K=5, num_threads=0) # K - кол-во ближайших соседей\n",
    "model.fit(sparse_user_item.T, show_progress=True)"
   ],
   "metadata": {
    "collapsed": false,
    "pycharm": {
     "name": "#%%\n"
    }
   }
  },
  {
   "cell_type": "code",
   "execution_count": 239,
   "metadata": {
    "colab": {
     "base_uri": "https://localhost:8080/"
    },
    "executionInfo": {
     "elapsed": 285,
     "status": "ok",
     "timestamp": 1639304040608,
     "user": {
      "displayName": "Николай -",
      "photoUrl": "https://lh3.googleusercontent.com/a-/AOh14GiCS90olAsBznR3WLZOaJ5ukcv2LPYBRWvHEQUZ-A=s64",
      "userId": "17372739142422056321"
     },
     "user_tz": -180
    },
    "id": "2x6k4S0b9vZ5",
    "outputId": "6fb0b913-dc51-4b4b-9996-2df5b926fe31"
   },
   "outputs": [
    {
     "name": "stdout",
     "output_type": "stream",
     "text": [
      "CPU times: user 119 ms, sys: 136 µs, total: 119 ms\n",
      "Wall time: 74.4 ms\n"
     ]
    },
    {
     "data": {
      "text/plain": "   user_id                                             actual  \\\n0        1  [821867, 834484, 856942, 865456, 889248, 90795...   \n1        3  [835476, 851057, 872021, 878302, 879948, 90963...   \n2        6  [920308, 926804, 946489, 1006718, 1017061, 107...   \n\n                                          random  \\\n0  [989919, 5567649, 13007818, 6704232, 7167370]   \n1    [981135, 13039154, 73681, 974561, 10355962]   \n2   [2407467, 13510775, 1134901, 6391210, 45372]   \n\n                                    most_popular  \\\n0  [6534178, 6533889, 1029743, 6534166, 1082185]   \n1  [6534178, 6533889, 1029743, 6534166, 1082185]   \n2  [6534178, 6533889, 1029743, 6534166, 1082185]   \n\n                                  weighted_random  \\\n0     [1280948, 958729, 885939, 891077, 10311479]   \n1  [3025516, 6464109, 8321674, 12984700, 1114610]   \n2   [6534178, 1060386, 13038750, 892573, 1856989]   \n\n                                    random_from_top  \\\n0  [6034673, 13039895, 10369057, 13007123, 6772643]   \n1    [1106125, 126696, 13098159, 8358002, 10456050]   \n2      [902806, 852514, 2845047, 15686490, 1037541]   \n\n                        weighted_random_from_top  \\\n0  [6534178, 900842, 15778533, 1027447, 1011572]   \n1      [868764, 872137, 1065122, 825994, 819227]   \n2   [1108094, 975155, 6533889, 1129321, 6534178]   \n\n                                      item_knn  \n0   [1082185, 981760, 1127831, 995242, 840361]  \n1   [1082185, 981760, 1098066, 826249, 995242]  \n2  [1082185, 981760, 1127831, 995242, 1098066]  ",
      "text/html": "<div>\n<style scoped>\n    .dataframe tbody tr th:only-of-type {\n        vertical-align: middle;\n    }\n\n    .dataframe tbody tr th {\n        vertical-align: top;\n    }\n\n    .dataframe thead th {\n        text-align: right;\n    }\n</style>\n<table border=\"1\" class=\"dataframe\">\n  <thead>\n    <tr style=\"text-align: right;\">\n      <th></th>\n      <th>user_id</th>\n      <th>actual</th>\n      <th>random</th>\n      <th>most_popular</th>\n      <th>weighted_random</th>\n      <th>random_from_top</th>\n      <th>weighted_random_from_top</th>\n      <th>item_knn</th>\n    </tr>\n  </thead>\n  <tbody>\n    <tr>\n      <th>0</th>\n      <td>1</td>\n      <td>[821867, 834484, 856942, 865456, 889248, 90795...</td>\n      <td>[989919, 5567649, 13007818, 6704232, 7167370]</td>\n      <td>[6534178, 6533889, 1029743, 6534166, 1082185]</td>\n      <td>[1280948, 958729, 885939, 891077, 10311479]</td>\n      <td>[6034673, 13039895, 10369057, 13007123, 6772643]</td>\n      <td>[6534178, 900842, 15778533, 1027447, 1011572]</td>\n      <td>[1082185, 981760, 1127831, 995242, 840361]</td>\n    </tr>\n    <tr>\n      <th>1</th>\n      <td>3</td>\n      <td>[835476, 851057, 872021, 878302, 879948, 90963...</td>\n      <td>[981135, 13039154, 73681, 974561, 10355962]</td>\n      <td>[6534178, 6533889, 1029743, 6534166, 1082185]</td>\n      <td>[3025516, 6464109, 8321674, 12984700, 1114610]</td>\n      <td>[1106125, 126696, 13098159, 8358002, 10456050]</td>\n      <td>[868764, 872137, 1065122, 825994, 819227]</td>\n      <td>[1082185, 981760, 1098066, 826249, 995242]</td>\n    </tr>\n    <tr>\n      <th>2</th>\n      <td>6</td>\n      <td>[920308, 926804, 946489, 1006718, 1017061, 107...</td>\n      <td>[2407467, 13510775, 1134901, 6391210, 45372]</td>\n      <td>[6534178, 6533889, 1029743, 6534166, 1082185]</td>\n      <td>[6534178, 1060386, 13038750, 892573, 1856989]</td>\n      <td>[902806, 852514, 2845047, 15686490, 1037541]</td>\n      <td>[1108094, 975155, 6533889, 1129321, 6534178]</td>\n      <td>[1082185, 981760, 1127831, 995242, 1098066]</td>\n    </tr>\n  </tbody>\n</table>\n</div>"
     },
     "execution_count": 239,
     "metadata": {},
     "output_type": "execute_result"
    }
   ],
   "source": [
    "%%time\n",
    "result['item_knn'] = result['user_id'].apply(partial(recommender, mdl=model, params=recommender_params))\n",
    "result.head(3)"
   ]
  },
  {
   "cell_type": "markdown",
   "metadata": {
    "id": "mR05hf9n9vZ6"
   },
   "source": [
    "### 2.2 Косинусное сходство и CosineRecommender"
   ]
  },
  {
   "cell_type": "code",
   "execution_count": 240,
   "metadata": {
    "colab": {
     "base_uri": "https://localhost:8080/",
     "height": 83,
     "referenced_widgets": [
      "d53900b28f1a4a2997b8eef5184b7a1d",
      "18b1c5dd9b9c457a813fc62b94014298",
      "f2a07b219cfa49eba992d109e2091445",
      "b11ca4f2601d4f76979d576f5672d6d8",
      "59b2bc20c9524bd89b28c31ceb8b758f",
      "df55c2a2a6f64d89b55fab63b9301949",
      "e53fdcd3aa5b4660aadd6c97373e9b4c",
      "b9946f999c67477f83a09fe351d7e33b",
      "39c1b8c5d7214f4ea8aebbc4e84a3e8b",
      "66749085f4144dad9b4b1b87d396ca88",
      "a0ce05fbf2c14afaace3df10cb13be89"
     ]
    },
    "executionInfo": {
     "elapsed": 2858,
     "status": "ok",
     "timestamp": 1639304409237,
     "user": {
      "displayName": "Николай -",
      "photoUrl": "https://lh3.googleusercontent.com/a-/AOh14GiCS90olAsBznR3WLZOaJ5ukcv2LPYBRWvHEQUZ-A=s64",
      "userId": "17372739142422056321"
     },
     "user_tz": -180
    },
    "id": "fGEj5yjz9vZ6",
    "outputId": "fe54a561-3a0b-40af-ffb4-f01a2b7a5448"
   },
   "outputs": [
    {
     "data": {
      "text/plain": "  0%|          | 0/5001 [00:00<?, ?it/s]",
      "application/vnd.jupyter.widget-view+json": {
       "version_major": 2,
       "version_minor": 0,
       "model_id": "99b9fa51588b4e86b9ac9b1b6e313afd"
      }
     },
     "metadata": {},
     "output_type": "display_data"
    },
    {
     "name": "stdout",
     "output_type": "stream",
     "text": [
      "CPU times: user 1.79 s, sys: 15.7 ms, total: 1.8 s\n",
      "Wall time: 367 ms\n"
     ]
    }
   ],
   "source": [
    "%%time\n",
    "model = CosineRecommender(K=5, num_threads=0)\n",
    "model.fit(sparse_user_item.T, show_progress=True)"
   ]
  },
  {
   "cell_type": "code",
   "execution_count": 241,
   "metadata": {
    "colab": {
     "base_uri": "https://localhost:8080/"
    },
    "executionInfo": {
     "elapsed": 1058,
     "status": "ok",
     "timestamp": 1639304417985,
     "user": {
      "displayName": "Николай -",
      "photoUrl": "https://lh3.googleusercontent.com/a-/AOh14GiCS90olAsBznR3WLZOaJ5ukcv2LPYBRWvHEQUZ-A=s64",
      "userId": "17372739142422056321"
     },
     "user_tz": -180
    },
    "id": "Hz-bZN-G9vZ7",
    "outputId": "5864552a-1022-4d9d-b208-8c97cf13c3c9"
   },
   "outputs": [
    {
     "name": "stdout",
     "output_type": "stream",
     "text": [
      "CPU times: user 158 ms, sys: 3.87 ms, total: 162 ms\n",
      "Wall time: 91.5 ms\n"
     ]
    },
    {
     "data": {
      "text/plain": "   user_id                                             actual  \\\n0        1  [821867, 834484, 856942, 865456, 889248, 90795...   \n1        3  [835476, 851057, 872021, 878302, 879948, 90963...   \n2        6  [920308, 926804, 946489, 1006718, 1017061, 107...   \n\n                                          random  \\\n0  [989919, 5567649, 13007818, 6704232, 7167370]   \n1    [981135, 13039154, 73681, 974561, 10355962]   \n2   [2407467, 13510775, 1134901, 6391210, 45372]   \n\n                                    most_popular  \\\n0  [6534178, 6533889, 1029743, 6534166, 1082185]   \n1  [6534178, 6533889, 1029743, 6534166, 1082185]   \n2  [6534178, 6533889, 1029743, 6534166, 1082185]   \n\n                                  weighted_random  \\\n0     [1280948, 958729, 885939, 891077, 10311479]   \n1  [3025516, 6464109, 8321674, 12984700, 1114610]   \n2   [6534178, 1060386, 13038750, 892573, 1856989]   \n\n                                    random_from_top  \\\n0  [6034673, 13039895, 10369057, 13007123, 6772643]   \n1    [1106125, 126696, 13098159, 8358002, 10456050]   \n2      [902806, 852514, 2845047, 15686490, 1037541]   \n\n                        weighted_random_from_top  \\\n0  [6534178, 900842, 15778533, 1027447, 1011572]   \n1      [868764, 872137, 1065122, 825994, 819227]   \n2   [1108094, 975155, 6533889, 1129321, 6534178]   \n\n                                      item_knn  \\\n0   [1082185, 981760, 1127831, 995242, 840361]   \n1   [1082185, 981760, 1098066, 826249, 995242]   \n2  [1082185, 981760, 1127831, 995242, 1098066]   \n\n                                        cosine  \n0  [1082185, 981760, 1127831, 1098066, 961554]  \n1   [1082185, 1098066, 981760, 826249, 883404]  \n2  [1082185, 981760, 1127831, 1098066, 961554]  ",
      "text/html": "<div>\n<style scoped>\n    .dataframe tbody tr th:only-of-type {\n        vertical-align: middle;\n    }\n\n    .dataframe tbody tr th {\n        vertical-align: top;\n    }\n\n    .dataframe thead th {\n        text-align: right;\n    }\n</style>\n<table border=\"1\" class=\"dataframe\">\n  <thead>\n    <tr style=\"text-align: right;\">\n      <th></th>\n      <th>user_id</th>\n      <th>actual</th>\n      <th>random</th>\n      <th>most_popular</th>\n      <th>weighted_random</th>\n      <th>random_from_top</th>\n      <th>weighted_random_from_top</th>\n      <th>item_knn</th>\n      <th>cosine</th>\n    </tr>\n  </thead>\n  <tbody>\n    <tr>\n      <th>0</th>\n      <td>1</td>\n      <td>[821867, 834484, 856942, 865456, 889248, 90795...</td>\n      <td>[989919, 5567649, 13007818, 6704232, 7167370]</td>\n      <td>[6534178, 6533889, 1029743, 6534166, 1082185]</td>\n      <td>[1280948, 958729, 885939, 891077, 10311479]</td>\n      <td>[6034673, 13039895, 10369057, 13007123, 6772643]</td>\n      <td>[6534178, 900842, 15778533, 1027447, 1011572]</td>\n      <td>[1082185, 981760, 1127831, 995242, 840361]</td>\n      <td>[1082185, 981760, 1127831, 1098066, 961554]</td>\n    </tr>\n    <tr>\n      <th>1</th>\n      <td>3</td>\n      <td>[835476, 851057, 872021, 878302, 879948, 90963...</td>\n      <td>[981135, 13039154, 73681, 974561, 10355962]</td>\n      <td>[6534178, 6533889, 1029743, 6534166, 1082185]</td>\n      <td>[3025516, 6464109, 8321674, 12984700, 1114610]</td>\n      <td>[1106125, 126696, 13098159, 8358002, 10456050]</td>\n      <td>[868764, 872137, 1065122, 825994, 819227]</td>\n      <td>[1082185, 981760, 1098066, 826249, 995242]</td>\n      <td>[1082185, 1098066, 981760, 826249, 883404]</td>\n    </tr>\n    <tr>\n      <th>2</th>\n      <td>6</td>\n      <td>[920308, 926804, 946489, 1006718, 1017061, 107...</td>\n      <td>[2407467, 13510775, 1134901, 6391210, 45372]</td>\n      <td>[6534178, 6533889, 1029743, 6534166, 1082185]</td>\n      <td>[6534178, 1060386, 13038750, 892573, 1856989]</td>\n      <td>[902806, 852514, 2845047, 15686490, 1037541]</td>\n      <td>[1108094, 975155, 6533889, 1129321, 6534178]</td>\n      <td>[1082185, 981760, 1127831, 995242, 1098066]</td>\n      <td>[1082185, 981760, 1127831, 1098066, 961554]</td>\n    </tr>\n  </tbody>\n</table>\n</div>"
     },
     "execution_count": 241,
     "metadata": {},
     "output_type": "execute_result"
    }
   ],
   "source": [
    "%%time\n",
    "result['cosine'] = result['user_id'].apply(partial(recommender, mdl=model, params=recommender_params))\n",
    "result.head(3)"
   ]
  },
  {
   "cell_type": "markdown",
   "metadata": {
    "id": "Vj7U9ZRc9vZ8"
   },
   "source": [
    "### 2.3 TF-IDF взвешивание и TFIDFRecommender"
   ]
  },
  {
   "cell_type": "code",
   "execution_count": 242,
   "metadata": {
    "colab": {
     "base_uri": "https://localhost:8080/",
     "height": 83,
     "referenced_widgets": [
      "cfec0af668844031ae87448b88ad70af",
      "294d039f558846a7a1fccb2b940ad4aa",
      "c7f30dce2f4f492ba382726159859b90",
      "134c5404c529448f842917125a277e0d",
      "64f50a70a9594ce889cc645643063dd3",
      "e9e77d4cef364d38a192c58817577d66",
      "bac0443395d842d89c5cacf38f998c02",
      "7831a21d238a4a1da14d102580ebdf78",
      "abf7361c73a44563bd2e30141668af2e",
      "4fe62e1e21fd4d64b32050632eeb0d59",
      "0993f1cd4f0c4a928b2b8d1a3a160dba"
     ]
    },
    "executionInfo": {
     "elapsed": 2362,
     "status": "ok",
     "timestamp": 1639304680446,
     "user": {
      "displayName": "Николай -",
      "photoUrl": "https://lh3.googleusercontent.com/a-/AOh14GiCS90olAsBznR3WLZOaJ5ukcv2LPYBRWvHEQUZ-A=s64",
      "userId": "17372739142422056321"
     },
     "user_tz": -180
    },
    "id": "aRaqTtIz9vZ8",
    "outputId": "1e6cf249-1225-4bdb-a9b2-a9cf68c2b77b"
   },
   "outputs": [
    {
     "data": {
      "text/plain": "  0%|          | 0/5001 [00:00<?, ?it/s]",
      "application/vnd.jupyter.widget-view+json": {
       "version_major": 2,
       "version_minor": 0,
       "model_id": "64f79f7e57ed4090aaaa9703ed8c9a86"
      }
     },
     "metadata": {},
     "output_type": "display_data"
    },
    {
     "name": "stdout",
     "output_type": "stream",
     "text": [
      "CPU times: user 1.77 s, sys: 3.08 ms, total: 1.77 s\n",
      "Wall time: 323 ms\n"
     ]
    }
   ],
   "source": [
    "%%time\n",
    "model = TFIDFRecommender(K=5, num_threads=0)\n",
    "model.fit(sparse_user_item.T, show_progress=True)"
   ]
  },
  {
   "cell_type": "code",
   "execution_count": 243,
   "outputs": [
    {
     "name": "stdout",
     "output_type": "stream",
     "text": [
      "CPU times: user 88.9 ms, sys: 14 µs, total: 88.9 ms\n",
      "Wall time: 88.1 ms\n"
     ]
    },
    {
     "data": {
      "text/plain": "   user_id                                             actual  \\\n0        1  [821867, 834484, 856942, 865456, 889248, 90795...   \n1        3  [835476, 851057, 872021, 878302, 879948, 90963...   \n2        6  [920308, 926804, 946489, 1006718, 1017061, 107...   \n\n                                          random  \\\n0  [989919, 5567649, 13007818, 6704232, 7167370]   \n1    [981135, 13039154, 73681, 974561, 10355962]   \n2   [2407467, 13510775, 1134901, 6391210, 45372]   \n\n                                    most_popular  \\\n0  [6534178, 6533889, 1029743, 6534166, 1082185]   \n1  [6534178, 6533889, 1029743, 6534166, 1082185]   \n2  [6534178, 6533889, 1029743, 6534166, 1082185]   \n\n                                  weighted_random  \\\n0     [1280948, 958729, 885939, 891077, 10311479]   \n1  [3025516, 6464109, 8321674, 12984700, 1114610]   \n2   [6534178, 1060386, 13038750, 892573, 1856989]   \n\n                                    random_from_top  \\\n0  [6034673, 13039895, 10369057, 13007123, 6772643]   \n1    [1106125, 126696, 13098159, 8358002, 10456050]   \n2      [902806, 852514, 2845047, 15686490, 1037541]   \n\n                        weighted_random_from_top  \\\n0  [6534178, 900842, 15778533, 1027447, 1011572]   \n1      [868764, 872137, 1065122, 825994, 819227]   \n2   [1108094, 975155, 6533889, 1129321, 6534178]   \n\n                                      item_knn  \\\n0   [1082185, 981760, 1127831, 995242, 840361]   \n1   [1082185, 981760, 1098066, 826249, 995242]   \n2  [1082185, 981760, 1127831, 995242, 1098066]   \n\n                                        cosine  \\\n0  [1082185, 981760, 1127831, 1098066, 961554]   \n1   [1082185, 1098066, 981760, 826249, 883404]   \n2  [1082185, 981760, 1127831, 1098066, 961554]   \n\n                                         tfidf  \n0  [1082185, 981760, 1127831, 1098066, 961554]  \n1   [1082185, 1098066, 981760, 826249, 883404]  \n2  [1082185, 981760, 1127831, 878996, 1098066]  ",
      "text/html": "<div>\n<style scoped>\n    .dataframe tbody tr th:only-of-type {\n        vertical-align: middle;\n    }\n\n    .dataframe tbody tr th {\n        vertical-align: top;\n    }\n\n    .dataframe thead th {\n        text-align: right;\n    }\n</style>\n<table border=\"1\" class=\"dataframe\">\n  <thead>\n    <tr style=\"text-align: right;\">\n      <th></th>\n      <th>user_id</th>\n      <th>actual</th>\n      <th>random</th>\n      <th>most_popular</th>\n      <th>weighted_random</th>\n      <th>random_from_top</th>\n      <th>weighted_random_from_top</th>\n      <th>item_knn</th>\n      <th>cosine</th>\n      <th>tfidf</th>\n    </tr>\n  </thead>\n  <tbody>\n    <tr>\n      <th>0</th>\n      <td>1</td>\n      <td>[821867, 834484, 856942, 865456, 889248, 90795...</td>\n      <td>[989919, 5567649, 13007818, 6704232, 7167370]</td>\n      <td>[6534178, 6533889, 1029743, 6534166, 1082185]</td>\n      <td>[1280948, 958729, 885939, 891077, 10311479]</td>\n      <td>[6034673, 13039895, 10369057, 13007123, 6772643]</td>\n      <td>[6534178, 900842, 15778533, 1027447, 1011572]</td>\n      <td>[1082185, 981760, 1127831, 995242, 840361]</td>\n      <td>[1082185, 981760, 1127831, 1098066, 961554]</td>\n      <td>[1082185, 981760, 1127831, 1098066, 961554]</td>\n    </tr>\n    <tr>\n      <th>1</th>\n      <td>3</td>\n      <td>[835476, 851057, 872021, 878302, 879948, 90963...</td>\n      <td>[981135, 13039154, 73681, 974561, 10355962]</td>\n      <td>[6534178, 6533889, 1029743, 6534166, 1082185]</td>\n      <td>[3025516, 6464109, 8321674, 12984700, 1114610]</td>\n      <td>[1106125, 126696, 13098159, 8358002, 10456050]</td>\n      <td>[868764, 872137, 1065122, 825994, 819227]</td>\n      <td>[1082185, 981760, 1098066, 826249, 995242]</td>\n      <td>[1082185, 1098066, 981760, 826249, 883404]</td>\n      <td>[1082185, 1098066, 981760, 826249, 883404]</td>\n    </tr>\n    <tr>\n      <th>2</th>\n      <td>6</td>\n      <td>[920308, 926804, 946489, 1006718, 1017061, 107...</td>\n      <td>[2407467, 13510775, 1134901, 6391210, 45372]</td>\n      <td>[6534178, 6533889, 1029743, 6534166, 1082185]</td>\n      <td>[6534178, 1060386, 13038750, 892573, 1856989]</td>\n      <td>[902806, 852514, 2845047, 15686490, 1037541]</td>\n      <td>[1108094, 975155, 6533889, 1129321, 6534178]</td>\n      <td>[1082185, 981760, 1127831, 995242, 1098066]</td>\n      <td>[1082185, 981760, 1127831, 1098066, 961554]</td>\n      <td>[1082185, 981760, 1127831, 878996, 1098066]</td>\n    </tr>\n  </tbody>\n</table>\n</div>"
     },
     "execution_count": 243,
     "metadata": {},
     "output_type": "execute_result"
    }
   ],
   "source": [
    "%%time\n",
    "result['tfidf'] = result['user_id'].apply(partial(recommender, mdl=model, params=recommender_params))\n",
    "result.head(3)"
   ],
   "metadata": {
    "collapsed": false,
    "pycharm": {
     "name": "#%%\n"
    }
   }
  },
  {
   "cell_type": "markdown",
   "metadata": {
    "id": "zDCrQwaC9vZ-"
   },
   "source": [
    "### 2.4 Трюк - по истории конкретного пользователя (K=1)"
   ]
  },
  {
   "cell_type": "code",
   "execution_count": 244,
   "metadata": {
    "colab": {
     "base_uri": "https://localhost:8080/",
     "height": 83,
     "referenced_widgets": [
      "5407098d4c374521b004ca4102d75b66",
      "558a140c59c449d0abecdb4a5867b11c",
      "843fa3533d444b2c837bf1868a1b9725",
      "594242898371447090d5374bbe1cfeea",
      "f9e7bbfb196a42e9b97626a339cea9e3",
      "ce1ada80ecb6427a857c8f0a1076c029",
      "8040d429311d49b99ba387f22916de18",
      "84a1798b354141ca8ad9c6f08733a686",
      "9a4183ed53364b81a8c7de94bba0c3f2",
      "5ed3fc64abf345a59b8348da0de36fbc",
      "0f0be173e5ad4caba3f5b3e72e994a57"
     ]
    },
    "executionInfo": {
     "elapsed": 2271,
     "status": "ok",
     "timestamp": 1639304753107,
     "user": {
      "displayName": "Николай -",
      "photoUrl": "https://lh3.googleusercontent.com/a-/AOh14GiCS90olAsBznR3WLZOaJ5ukcv2LPYBRWvHEQUZ-A=s64",
      "userId": "17372739142422056321"
     },
     "user_tz": -180
    },
    "id": "xGVGPqPt9vZ-",
    "outputId": "3e17b467-22d9-419d-a983-2d7398f3a727"
   },
   "outputs": [
    {
     "data": {
      "text/plain": "  0%|          | 0/5001 [00:00<?, ?it/s]",
      "application/vnd.jupyter.widget-view+json": {
       "version_major": 2,
       "version_minor": 0,
       "model_id": "da99c4138e424445bfc2552f90eee392"
      }
     },
     "metadata": {},
     "output_type": "display_data"
    },
    {
     "name": "stdout",
     "output_type": "stream",
     "text": [
      "CPU times: user 1.72 s, sys: 152 µs, total: 1.72 s\n",
      "Wall time: 304 ms\n"
     ]
    }
   ],
   "source": [
    "%%time\n",
    "model = ItemItemRecommender(K=1, num_threads=0)\n",
    "model.fit(sparse_user_item.T, show_progress=True)"
   ]
  },
  {
   "cell_type": "code",
   "execution_count": 245,
   "metadata": {
    "colab": {
     "base_uri": "https://localhost:8080/"
    },
    "executionInfo": {
     "elapsed": 277,
     "status": "ok",
     "timestamp": 1639304757635,
     "user": {
      "displayName": "Николай -",
      "photoUrl": "https://lh3.googleusercontent.com/a-/AOh14GiCS90olAsBznR3WLZOaJ5ukcv2LPYBRWvHEQUZ-A=s64",
      "userId": "17372739142422056321"
     },
     "user_tz": -180
    },
    "id": "2pfQuXZ99vZ-",
    "outputId": "8577ab20-609a-458f-851c-721f0fcc1780"
   },
   "outputs": [
    {
     "name": "stdout",
     "output_type": "stream",
     "text": [
      "CPU times: user 61.2 ms, sys: 0 ns, total: 61.2 ms\n",
      "Wall time: 60.4 ms\n"
     ]
    },
    {
     "data": {
      "text/plain": "   user_id                                             actual  \\\n0        1  [821867, 834484, 856942, 865456, 889248, 90795...   \n1        3  [835476, 851057, 872021, 878302, 879948, 90963...   \n2        6  [920308, 926804, 946489, 1006718, 1017061, 107...   \n\n                                          random  \\\n0  [989919, 5567649, 13007818, 6704232, 7167370]   \n1    [981135, 13039154, 73681, 974561, 10355962]   \n2   [2407467, 13510775, 1134901, 6391210, 45372]   \n\n                                    most_popular  \\\n0  [6534178, 6533889, 1029743, 6534166, 1082185]   \n1  [6534178, 6533889, 1029743, 6534166, 1082185]   \n2  [6534178, 6533889, 1029743, 6534166, 1082185]   \n\n                                  weighted_random  \\\n0     [1280948, 958729, 885939, 891077, 10311479]   \n1  [3025516, 6464109, 8321674, 12984700, 1114610]   \n2   [6534178, 1060386, 13038750, 892573, 1856989]   \n\n                                    random_from_top  \\\n0  [6034673, 13039895, 10369057, 13007123, 6772643]   \n1    [1106125, 126696, 13098159, 8358002, 10456050]   \n2      [902806, 852514, 2845047, 15686490, 1037541]   \n\n                        weighted_random_from_top  \\\n0  [6534178, 900842, 15778533, 1027447, 1011572]   \n1      [868764, 872137, 1065122, 825994, 819227]   \n2   [1108094, 975155, 6533889, 1129321, 6534178]   \n\n                                      item_knn  \\\n0   [1082185, 981760, 1127831, 995242, 840361]   \n1   [1082185, 981760, 1098066, 826249, 995242]   \n2  [1082185, 981760, 1127831, 995242, 1098066]   \n\n                                        cosine  \\\n0  [1082185, 981760, 1127831, 1098066, 961554]   \n1   [1082185, 1098066, 981760, 826249, 883404]   \n2  [1082185, 981760, 1127831, 1098066, 961554]   \n\n                                         tfidf  \\\n0  [1082185, 981760, 1127831, 1098066, 961554]   \n1   [1082185, 1098066, 981760, 826249, 883404]   \n2  [1082185, 981760, 1127831, 878996, 1098066]   \n\n                                  own_purchases  \n0    [1082185, 995242, 1029743, 840361, 904360]  \n1  [1082185, 1098066, 6534178, 826249, 1127831]  \n2    [1082185, 981760, 995242, 1029743, 840361]  ",
      "text/html": "<div>\n<style scoped>\n    .dataframe tbody tr th:only-of-type {\n        vertical-align: middle;\n    }\n\n    .dataframe tbody tr th {\n        vertical-align: top;\n    }\n\n    .dataframe thead th {\n        text-align: right;\n    }\n</style>\n<table border=\"1\" class=\"dataframe\">\n  <thead>\n    <tr style=\"text-align: right;\">\n      <th></th>\n      <th>user_id</th>\n      <th>actual</th>\n      <th>random</th>\n      <th>most_popular</th>\n      <th>weighted_random</th>\n      <th>random_from_top</th>\n      <th>weighted_random_from_top</th>\n      <th>item_knn</th>\n      <th>cosine</th>\n      <th>tfidf</th>\n      <th>own_purchases</th>\n    </tr>\n  </thead>\n  <tbody>\n    <tr>\n      <th>0</th>\n      <td>1</td>\n      <td>[821867, 834484, 856942, 865456, 889248, 90795...</td>\n      <td>[989919, 5567649, 13007818, 6704232, 7167370]</td>\n      <td>[6534178, 6533889, 1029743, 6534166, 1082185]</td>\n      <td>[1280948, 958729, 885939, 891077, 10311479]</td>\n      <td>[6034673, 13039895, 10369057, 13007123, 6772643]</td>\n      <td>[6534178, 900842, 15778533, 1027447, 1011572]</td>\n      <td>[1082185, 981760, 1127831, 995242, 840361]</td>\n      <td>[1082185, 981760, 1127831, 1098066, 961554]</td>\n      <td>[1082185, 981760, 1127831, 1098066, 961554]</td>\n      <td>[1082185, 995242, 1029743, 840361, 904360]</td>\n    </tr>\n    <tr>\n      <th>1</th>\n      <td>3</td>\n      <td>[835476, 851057, 872021, 878302, 879948, 90963...</td>\n      <td>[981135, 13039154, 73681, 974561, 10355962]</td>\n      <td>[6534178, 6533889, 1029743, 6534166, 1082185]</td>\n      <td>[3025516, 6464109, 8321674, 12984700, 1114610]</td>\n      <td>[1106125, 126696, 13098159, 8358002, 10456050]</td>\n      <td>[868764, 872137, 1065122, 825994, 819227]</td>\n      <td>[1082185, 981760, 1098066, 826249, 995242]</td>\n      <td>[1082185, 1098066, 981760, 826249, 883404]</td>\n      <td>[1082185, 1098066, 981760, 826249, 883404]</td>\n      <td>[1082185, 1098066, 6534178, 826249, 1127831]</td>\n    </tr>\n    <tr>\n      <th>2</th>\n      <td>6</td>\n      <td>[920308, 926804, 946489, 1006718, 1017061, 107...</td>\n      <td>[2407467, 13510775, 1134901, 6391210, 45372]</td>\n      <td>[6534178, 6533889, 1029743, 6534166, 1082185]</td>\n      <td>[6534178, 1060386, 13038750, 892573, 1856989]</td>\n      <td>[902806, 852514, 2845047, 15686490, 1037541]</td>\n      <td>[1108094, 975155, 6533889, 1129321, 6534178]</td>\n      <td>[1082185, 981760, 1127831, 995242, 1098066]</td>\n      <td>[1082185, 981760, 1127831, 1098066, 961554]</td>\n      <td>[1082185, 981760, 1127831, 878996, 1098066]</td>\n      <td>[1082185, 981760, 995242, 1029743, 840361]</td>\n    </tr>\n  </tbody>\n</table>\n</div>"
     },
     "execution_count": 245,
     "metadata": {},
     "output_type": "execute_result"
    }
   ],
   "source": [
    "%%time\n",
    "result['own_purchases'] = result['user_id'].apply(partial(recommender, mdl=model, params=recommender_params))\n",
    "result.head(3)"
   ]
  },
  {
   "cell_type": "markdown",
   "metadata": {
    "id": "LTQY0VSq9vZ_"
   },
   "source": [
    "## 3. Измерение качества"
   ]
  },
  {
   "cell_type": "code",
   "execution_count": 246,
   "metadata": {
    "colab": {
     "base_uri": "https://localhost:8080/",
     "height": 145
    },
    "executionInfo": {
     "elapsed": 250,
     "status": "ok",
     "timestamp": 1639304782820,
     "user": {
      "displayName": "Николай -",
      "photoUrl": "https://lh3.googleusercontent.com/a-/AOh14GiCS90olAsBznR3WLZOaJ5ukcv2LPYBRWvHEQUZ-A=s64",
      "userId": "17372739142422056321"
     },
     "user_tz": -180
    },
    "id": "nkv9dWQX9vZ_",
    "outputId": "b1dd7b9b-2a98-4b71-cf79-5c972a2db532"
   },
   "outputs": [
    {
     "data": {
      "text/plain": "   user_id                                             actual  \\\n0        1  [821867, 834484, 856942, 865456, 889248, 90795...   \n1        3  [835476, 851057, 872021, 878302, 879948, 90963...   \n2        6  [920308, 926804, 946489, 1006718, 1017061, 107...   \n3        7  [840386, 889774, 898068, 909714, 929067, 95347...   \n4        8  [835098, 872137, 910439, 924610, 992977, 10412...   \n\n                                             random  \\\n0     [989919, 5567649, 13007818, 6704232, 7167370]   \n1       [981135, 13039154, 73681, 974561, 10355962]   \n2      [2407467, 13510775, 1134901, 6391210, 45372]   \n3   [15595866, 16058630, 12384469, 1406385, 964135]   \n4  [1094619, 13008083, 10356645, 13095292, 9553080]   \n\n                                    most_popular  \\\n0  [6534178, 6533889, 1029743, 6534166, 1082185]   \n1  [6534178, 6533889, 1029743, 6534166, 1082185]   \n2  [6534178, 6533889, 1029743, 6534166, 1082185]   \n3  [6534178, 6533889, 1029743, 6534166, 1082185]   \n4  [6534178, 6533889, 1029743, 6534166, 1082185]   \n\n                                  weighted_random  \\\n0     [1280948, 958729, 885939, 891077, 10311479]   \n1  [3025516, 6464109, 8321674, 12984700, 1114610]   \n2   [6534178, 1060386, 13038750, 892573, 1856989]   \n3     [992529, 13876586, 936924, 962864, 8019525]   \n4    [9245461, 1118012, 5592193, 921744, 6534178]   \n\n                                    random_from_top  \\\n0  [6034673, 13039895, 10369057, 13007123, 6772643]   \n1    [1106125, 126696, 13098159, 8358002, 10456050]   \n2      [902806, 852514, 2845047, 15686490, 1037541]   \n3      [1058161, 1108357, 1743698, 85636, 13190266]   \n4      [7443138, 5569209, 1002691, 1113438, 827706]   \n\n                        weighted_random_from_top  \\\n0  [6534178, 900842, 15778533, 1027447, 1011572]   \n1      [868764, 872137, 1065122, 825994, 819227]   \n2   [1108094, 975155, 6533889, 1129321, 6534178]   \n3    [839753, 1116741, 1105381, 1066289, 960142]   \n4    [964813, 5568661, 1126420, 824005, 1051810]   \n\n                                      item_knn  \\\n0   [1082185, 981760, 1127831, 995242, 840361]   \n1   [1082185, 981760, 1098066, 826249, 995242]   \n2  [1082185, 981760, 1127831, 995242, 1098066]   \n3  [1082185, 981760, 1127831, 1098066, 995242]   \n4   [1082185, 981760, 1098066, 995242, 826249]   \n\n                                        cosine  \\\n0  [1082185, 981760, 1127831, 1098066, 961554]   \n1   [1082185, 1098066, 981760, 826249, 883404]   \n2  [1082185, 981760, 1127831, 1098066, 961554]   \n3  [1082185, 981760, 1127831, 961554, 1098066]   \n4  [1082185, 981760, 1098066, 826249, 1127831]   \n\n                                         tfidf  \\\n0  [1082185, 981760, 1127831, 1098066, 961554]   \n1   [1082185, 1098066, 981760, 826249, 883404]   \n2  [1082185, 981760, 1127831, 878996, 1098066]   \n3   [1082185, 981760, 1127831, 961554, 826249]   \n4  [1082185, 981760, 1098066, 826249, 1127831]   \n\n                                  own_purchases  \n0    [1082185, 995242, 1029743, 840361, 904360]  \n1  [1082185, 1098066, 6534178, 826249, 1127831]  \n2    [1082185, 981760, 995242, 1029743, 840361]  \n3   [1082185, 995242, 1029743, 826249, 1127831]  \n4    [1082185, 981760, 995242, 1029743, 840361]  ",
      "text/html": "<div>\n<style scoped>\n    .dataframe tbody tr th:only-of-type {\n        vertical-align: middle;\n    }\n\n    .dataframe tbody tr th {\n        vertical-align: top;\n    }\n\n    .dataframe thead th {\n        text-align: right;\n    }\n</style>\n<table border=\"1\" class=\"dataframe\">\n  <thead>\n    <tr style=\"text-align: right;\">\n      <th></th>\n      <th>user_id</th>\n      <th>actual</th>\n      <th>random</th>\n      <th>most_popular</th>\n      <th>weighted_random</th>\n      <th>random_from_top</th>\n      <th>weighted_random_from_top</th>\n      <th>item_knn</th>\n      <th>cosine</th>\n      <th>tfidf</th>\n      <th>own_purchases</th>\n    </tr>\n  </thead>\n  <tbody>\n    <tr>\n      <th>0</th>\n      <td>1</td>\n      <td>[821867, 834484, 856942, 865456, 889248, 90795...</td>\n      <td>[989919, 5567649, 13007818, 6704232, 7167370]</td>\n      <td>[6534178, 6533889, 1029743, 6534166, 1082185]</td>\n      <td>[1280948, 958729, 885939, 891077, 10311479]</td>\n      <td>[6034673, 13039895, 10369057, 13007123, 6772643]</td>\n      <td>[6534178, 900842, 15778533, 1027447, 1011572]</td>\n      <td>[1082185, 981760, 1127831, 995242, 840361]</td>\n      <td>[1082185, 981760, 1127831, 1098066, 961554]</td>\n      <td>[1082185, 981760, 1127831, 1098066, 961554]</td>\n      <td>[1082185, 995242, 1029743, 840361, 904360]</td>\n    </tr>\n    <tr>\n      <th>1</th>\n      <td>3</td>\n      <td>[835476, 851057, 872021, 878302, 879948, 90963...</td>\n      <td>[981135, 13039154, 73681, 974561, 10355962]</td>\n      <td>[6534178, 6533889, 1029743, 6534166, 1082185]</td>\n      <td>[3025516, 6464109, 8321674, 12984700, 1114610]</td>\n      <td>[1106125, 126696, 13098159, 8358002, 10456050]</td>\n      <td>[868764, 872137, 1065122, 825994, 819227]</td>\n      <td>[1082185, 981760, 1098066, 826249, 995242]</td>\n      <td>[1082185, 1098066, 981760, 826249, 883404]</td>\n      <td>[1082185, 1098066, 981760, 826249, 883404]</td>\n      <td>[1082185, 1098066, 6534178, 826249, 1127831]</td>\n    </tr>\n    <tr>\n      <th>2</th>\n      <td>6</td>\n      <td>[920308, 926804, 946489, 1006718, 1017061, 107...</td>\n      <td>[2407467, 13510775, 1134901, 6391210, 45372]</td>\n      <td>[6534178, 6533889, 1029743, 6534166, 1082185]</td>\n      <td>[6534178, 1060386, 13038750, 892573, 1856989]</td>\n      <td>[902806, 852514, 2845047, 15686490, 1037541]</td>\n      <td>[1108094, 975155, 6533889, 1129321, 6534178]</td>\n      <td>[1082185, 981760, 1127831, 995242, 1098066]</td>\n      <td>[1082185, 981760, 1127831, 1098066, 961554]</td>\n      <td>[1082185, 981760, 1127831, 878996, 1098066]</td>\n      <td>[1082185, 981760, 995242, 1029743, 840361]</td>\n    </tr>\n    <tr>\n      <th>3</th>\n      <td>7</td>\n      <td>[840386, 889774, 898068, 909714, 929067, 95347...</td>\n      <td>[15595866, 16058630, 12384469, 1406385, 964135]</td>\n      <td>[6534178, 6533889, 1029743, 6534166, 1082185]</td>\n      <td>[992529, 13876586, 936924, 962864, 8019525]</td>\n      <td>[1058161, 1108357, 1743698, 85636, 13190266]</td>\n      <td>[839753, 1116741, 1105381, 1066289, 960142]</td>\n      <td>[1082185, 981760, 1127831, 1098066, 995242]</td>\n      <td>[1082185, 981760, 1127831, 961554, 1098066]</td>\n      <td>[1082185, 981760, 1127831, 961554, 826249]</td>\n      <td>[1082185, 995242, 1029743, 826249, 1127831]</td>\n    </tr>\n    <tr>\n      <th>4</th>\n      <td>8</td>\n      <td>[835098, 872137, 910439, 924610, 992977, 10412...</td>\n      <td>[1094619, 13008083, 10356645, 13095292, 9553080]</td>\n      <td>[6534178, 6533889, 1029743, 6534166, 1082185]</td>\n      <td>[9245461, 1118012, 5592193, 921744, 6534178]</td>\n      <td>[7443138, 5569209, 1002691, 1113438, 827706]</td>\n      <td>[964813, 5568661, 1126420, 824005, 1051810]</td>\n      <td>[1082185, 981760, 1098066, 995242, 826249]</td>\n      <td>[1082185, 981760, 1098066, 826249, 1127831]</td>\n      <td>[1082185, 981760, 1098066, 826249, 1127831]</td>\n      <td>[1082185, 981760, 995242, 1029743, 840361]</td>\n    </tr>\n  </tbody>\n</table>\n</div>"
     },
     "execution_count": 246,
     "metadata": {},
     "output_type": "execute_result"
    }
   ],
   "source": [
    "result.head()"
   ]
  },
  {
   "cell_type": "code",
   "execution_count": 248,
   "metadata": {
    "id": "_BEMmvlL9vZ_"
   },
   "outputs": [],
   "source": [
    "result.to_csv('predictions.csv', index=False)"
   ]
  },
  {
   "cell_type": "markdown",
   "metadata": {
    "id": "rdLw85cs9vZ_"
   },
   "source": [
    "Можно ли улучшить бейзлайны, если считать их на топ-5000 товарах?"
   ]
  },
  {
   "cell_type": "code",
   "execution_count": 94,
   "metadata": {
    "id": "OOF_PWnk9vaA"
   },
   "outputs": [],
   "source": [
    "# your_code"
   ]
  },
  {
   "cell_type": "code",
   "execution_count": 67,
   "metadata": {
    "id": "0tg9NFc79vaA"
   },
   "outputs": [],
   "source": [
    "# Функции из 1-ого вебинара\n",
    "import os, sys\n",
    "\n",
    "module_path = os.path.abspath(os.path.join(os.pardir))\n",
    "if module_path not in sys.path:\n",
    "    sys.path.append(module_path)\n",
    "    \n",
    "#from src.metrics import precision_at_k, recall_at_k"
   ]
  },
  {
   "cell_type": "code",
   "execution_count": 68,
   "metadata": {
    "id": "HJltW-oPzCwG"
   },
   "outputs": [],
   "source": [
    "def precision_at_k(recommended_list, bought_list, k=5):\n",
    "    \n",
    "    bought_list = np.array(bought_list)\n",
    "    recommended_list = np.array(recommended_list)\n",
    "    \n",
    "    bought_list = bought_list  # Тут нет [:k] !!\n",
    "    recommended_list = recommended_list[:k]\n",
    "    \n",
    "    flags = np.isin(bought_list, recommended_list)\n",
    "    \n",
    "    precision = flags.sum() / len(recommended_list)\n",
    "    \n",
    "    \n",
    "    return precision"
   ]
  },
  {
   "cell_type": "code",
   "execution_count": 69,
   "metadata": {
    "colab": {
     "base_uri": "https://localhost:8080/"
    },
    "executionInfo": {
     "elapsed": 381,
     "status": "ok",
     "timestamp": 1639304824137,
     "user": {
      "displayName": "Николай -",
      "photoUrl": "https://lh3.googleusercontent.com/a-/AOh14GiCS90olAsBznR3WLZOaJ5ukcv2LPYBRWvHEQUZ-A=s64",
      "userId": "17372739142422056321"
     },
     "user_tz": -180
    },
    "id": "dBik--NC9vaA",
    "outputId": "973082aa-e3b9-411b-b49c-5b5ddd264b67"
   },
   "outputs": [
    {
     "data": {
      "text/plain": [
       "0.0004897159647404506"
      ]
     },
     "execution_count": 69,
     "metadata": {},
     "output_type": "execute_result"
    }
   ],
   "source": [
    "result.apply(lambda row: precision_at_k(row['random_recommendation'], row['actual']), axis=1).mean()"
   ]
  },
  {
   "cell_type": "code",
   "execution_count": 70,
   "metadata": {
    "colab": {
     "base_uri": "https://localhost:8080/"
    },
    "executionInfo": {
     "elapsed": 14,
     "status": "ok",
     "timestamp": 1639304824519,
     "user": {
      "displayName": "Николай -",
      "photoUrl": "https://lh3.googleusercontent.com/a-/AOh14GiCS90olAsBznR3WLZOaJ5ukcv2LPYBRWvHEQUZ-A=s64",
      "userId": "17372739142422056321"
     },
     "user_tz": -180
    },
    "id": "dvPItQ0C9vaA",
    "outputId": "0b8f68ed-17a0-4235-893b-8cfcac0e6d6b"
   },
   "outputs": [
    {
     "data": {
      "text/plain": [
       "0.15523996082272282"
      ]
     },
     "execution_count": 70,
     "metadata": {},
     "output_type": "execute_result"
    }
   ],
   "source": [
    "result.apply(lambda row: precision_at_k(row['popular_recommendation'], row['actual']), axis=1).mean()"
   ]
  },
  {
   "cell_type": "code",
   "execution_count": 71,
   "metadata": {
    "colab": {
     "base_uri": "https://localhost:8080/"
    },
    "executionInfo": {
     "elapsed": 468,
     "status": "ok",
     "timestamp": 1639304826006,
     "user": {
      "displayName": "Николай -",
      "photoUrl": "https://lh3.googleusercontent.com/a-/AOh14GiCS90olAsBznR3WLZOaJ5ukcv2LPYBRWvHEQUZ-A=s64",
      "userId": "17372739142422056321"
     },
     "user_tz": -180
    },
    "id": "lLs_cCQq9vaA",
    "outputId": "4d3f8dd0-8cff-42b9-a7e8-55b8d60cec05"
   },
   "outputs": [
    {
     "data": {
      "text/plain": [
       "0.15122428991185113"
      ]
     },
     "execution_count": 71,
     "metadata": {},
     "output_type": "execute_result"
    }
   ],
   "source": [
    "result.apply(lambda row: precision_at_k(row['itemitem'], row['actual']), axis=1).mean()"
   ]
  },
  {
   "cell_type": "code",
   "execution_count": 72,
   "metadata": {
    "colab": {
     "base_uri": "https://localhost:8080/"
    },
    "executionInfo": {
     "elapsed": 357,
     "status": "ok",
     "timestamp": 1639304826359,
     "user": {
      "displayName": "Николай -",
      "photoUrl": "https://lh3.googleusercontent.com/a-/AOh14GiCS90olAsBznR3WLZOaJ5ukcv2LPYBRWvHEQUZ-A=s64",
      "userId": "17372739142422056321"
     },
     "user_tz": -180
    },
    "id": "tbm0Jo2S9vaB",
    "outputId": "533ff857-2f1c-4895-ddfd-ddf90e94f608"
   },
   "outputs": [
    {
     "data": {
      "text/plain": [
       "0.1551420176297747"
      ]
     },
     "execution_count": 72,
     "metadata": {},
     "output_type": "execute_result"
    }
   ],
   "source": [
    "result.apply(lambda row: precision_at_k(row['cosine'], row['actual']), axis=1).mean()"
   ]
  },
  {
   "cell_type": "code",
   "execution_count": 73,
   "metadata": {
    "colab": {
     "base_uri": "https://localhost:8080/"
    },
    "executionInfo": {
     "elapsed": 14,
     "status": "ok",
     "timestamp": 1639304826638,
     "user": {
      "displayName": "Николай -",
      "photoUrl": "https://lh3.googleusercontent.com/a-/AOh14GiCS90olAsBznR3WLZOaJ5ukcv2LPYBRWvHEQUZ-A=s64",
      "userId": "17372739142422056321"
     },
     "user_tz": -180
    },
    "id": "9ZOhF4RH9vaB",
    "outputId": "074f3aed-3036-47e7-8771-9a8dc63e9513"
   },
   "outputs": [
    {
     "data": {
      "text/plain": [
       "0.16092066601371205"
      ]
     },
     "execution_count": 73,
     "metadata": {},
     "output_type": "execute_result"
    }
   ],
   "source": [
    "result.apply(lambda row: precision_at_k(row['tfidf'], row['actual']), axis=1).mean()"
   ]
  },
  {
   "cell_type": "code",
   "execution_count": 74,
   "metadata": {
    "colab": {
     "base_uri": "https://localhost:8080/"
    },
    "executionInfo": {
     "elapsed": 378,
     "status": "ok",
     "timestamp": 1639304837000,
     "user": {
      "displayName": "Николай -",
      "photoUrl": "https://lh3.googleusercontent.com/a-/AOh14GiCS90olAsBznR3WLZOaJ5ukcv2LPYBRWvHEQUZ-A=s64",
      "userId": "17372739142422056321"
     },
     "user_tz": -180
    },
    "id": "oAguFGDfzQYo",
    "outputId": "67ffa80e-cd20-4763-89ce-c58423b2807e"
   },
   "outputs": [
    {
     "name": "stderr",
     "output_type": "stream",
     "text": [
      "/var/folders/qs/6xk5mdt9617cpq2wf0p2xkyc0000gn/T/ipykernel_37361/1284911335.py:11: RuntimeWarning: invalid value encountered in long_scalars\n",
      "  precision = flags.sum() / len(recommended_list)\n"
     ]
    },
    {
     "data": {
      "text/plain": [
       "0.20191740412979353"
      ]
     },
     "execution_count": 74,
     "metadata": {},
     "output_type": "execute_result"
    }
   ],
   "source": [
    "result.apply(lambda row: precision_at_k(row['own_purchases'], row['actual']), axis=1).mean()"
   ]
  },
  {
   "cell_type": "code",
   "execution_count": null,
   "metadata": {
    "id": "YY4AE20SLrQ6"
   },
   "outputs": [],
   "source": []
  }
 ],
 "metadata": {
  "accelerator": "GPU",
  "colab": {
   "collapsed_sections": [
    "aLDGc1Nn9vZ0"
   ],
   "name": "webinar_2_new.ipynb",
   "provenance": [
    {
     "file_id": "16Ow5QdtueS-lH2MAj7d8AXVJIMofWEfF",
     "timestamp": 1633278282973
    }
   ]
  },
  "kernelspec": {
   "display_name": "Python 3",
   "language": "python",
   "name": "python3"
  },
  "language_info": {
   "codemirror_mode": {
    "name": "ipython",
    "version": 3
   },
   "file_extension": ".py",
   "mimetype": "text/x-python",
   "name": "python",
   "nbconvert_exporter": "python",
   "pygments_lexer": "ipython3",
   "version": "3.9.5"
  },
  "widgets": {
   "application/vnd.jupyter.widget-state+json": {
    "083fdc34807a499f8cad4ba4e195a479": {
     "model_module": "@jupyter-widgets/controls",
     "model_module_version": "1.5.0",
     "model_name": "DescriptionStyleModel",
     "state": {
      "_model_module": "@jupyter-widgets/controls",
      "_model_module_version": "1.5.0",
      "_model_name": "DescriptionStyleModel",
      "_view_count": null,
      "_view_module": "@jupyter-widgets/base",
      "_view_module_version": "1.2.0",
      "_view_name": "StyleView",
      "description_width": ""
     }
    },
    "0993f1cd4f0c4a928b2b8d1a3a160dba": {
     "model_module": "@jupyter-widgets/base",
     "model_module_version": "1.2.0",
     "model_name": "LayoutModel",
     "state": {
      "_model_module": "@jupyter-widgets/base",
      "_model_module_version": "1.2.0",
      "_model_name": "LayoutModel",
      "_view_count": null,
      "_view_module": "@jupyter-widgets/base",
      "_view_module_version": "1.2.0",
      "_view_name": "LayoutView",
      "align_content": null,
      "align_items": null,
      "align_self": null,
      "border": null,
      "bottom": null,
      "display": null,
      "flex": null,
      "flex_flow": null,
      "grid_area": null,
      "grid_auto_columns": null,
      "grid_auto_flow": null,
      "grid_auto_rows": null,
      "grid_column": null,
      "grid_gap": null,
      "grid_row": null,
      "grid_template_areas": null,
      "grid_template_columns": null,
      "grid_template_rows": null,
      "height": null,
      "justify_content": null,
      "justify_items": null,
      "left": null,
      "margin": null,
      "max_height": null,
      "max_width": null,
      "min_height": null,
      "min_width": null,
      "object_fit": null,
      "object_position": null,
      "order": null,
      "overflow": null,
      "overflow_x": null,
      "overflow_y": null,
      "padding": null,
      "right": null,
      "top": null,
      "visibility": null,
      "width": null
     }
    },
    "0f0be173e5ad4caba3f5b3e72e994a57": {
     "model_module": "@jupyter-widgets/base",
     "model_module_version": "1.2.0",
     "model_name": "LayoutModel",
     "state": {
      "_model_module": "@jupyter-widgets/base",
      "_model_module_version": "1.2.0",
      "_model_name": "LayoutModel",
      "_view_count": null,
      "_view_module": "@jupyter-widgets/base",
      "_view_module_version": "1.2.0",
      "_view_name": "LayoutView",
      "align_content": null,
      "align_items": null,
      "align_self": null,
      "border": null,
      "bottom": null,
      "display": null,
      "flex": null,
      "flex_flow": null,
      "grid_area": null,
      "grid_auto_columns": null,
      "grid_auto_flow": null,
      "grid_auto_rows": null,
      "grid_column": null,
      "grid_gap": null,
      "grid_row": null,
      "grid_template_areas": null,
      "grid_template_columns": null,
      "grid_template_rows": null,
      "height": null,
      "justify_content": null,
      "justify_items": null,
      "left": null,
      "margin": null,
      "max_height": null,
      "max_width": null,
      "min_height": null,
      "min_width": null,
      "object_fit": null,
      "object_position": null,
      "order": null,
      "overflow": null,
      "overflow_x": null,
      "overflow_y": null,
      "padding": null,
      "right": null,
      "top": null,
      "visibility": null,
      "width": null
     }
    },
    "134c5404c529448f842917125a277e0d": {
     "model_module": "@jupyter-widgets/controls",
     "model_module_version": "1.5.0",
     "model_name": "FloatProgressModel",
     "state": {
      "_dom_classes": [],
      "_model_module": "@jupyter-widgets/controls",
      "_model_module_version": "1.5.0",
      "_model_name": "FloatProgressModel",
      "_view_count": null,
      "_view_module": "@jupyter-widgets/controls",
      "_view_module_version": "1.5.0",
      "_view_name": "ProgressView",
      "bar_style": "success",
      "description": "",
      "description_tooltip": null,
      "layout": "IPY_MODEL_abf7361c73a44563bd2e30141668af2e",
      "max": 5001,
      "min": 0,
      "orientation": "horizontal",
      "style": "IPY_MODEL_7831a21d238a4a1da14d102580ebdf78",
      "value": 5001
     }
    },
    "18b1c5dd9b9c457a813fc62b94014298": {
     "model_module": "@jupyter-widgets/base",
     "model_module_version": "1.2.0",
     "model_name": "LayoutModel",
     "state": {
      "_model_module": "@jupyter-widgets/base",
      "_model_module_version": "1.2.0",
      "_model_name": "LayoutModel",
      "_view_count": null,
      "_view_module": "@jupyter-widgets/base",
      "_view_module_version": "1.2.0",
      "_view_name": "LayoutView",
      "align_content": null,
      "align_items": null,
      "align_self": null,
      "border": null,
      "bottom": null,
      "display": null,
      "flex": null,
      "flex_flow": null,
      "grid_area": null,
      "grid_auto_columns": null,
      "grid_auto_flow": null,
      "grid_auto_rows": null,
      "grid_column": null,
      "grid_gap": null,
      "grid_row": null,
      "grid_template_areas": null,
      "grid_template_columns": null,
      "grid_template_rows": null,
      "height": null,
      "justify_content": null,
      "justify_items": null,
      "left": null,
      "margin": null,
      "max_height": null,
      "max_width": null,
      "min_height": null,
      "min_width": null,
      "object_fit": null,
      "object_position": null,
      "order": null,
      "overflow": null,
      "overflow_x": null,
      "overflow_y": null,
      "padding": null,
      "right": null,
      "top": null,
      "visibility": null,
      "width": null
     }
    },
    "294d039f558846a7a1fccb2b940ad4aa": {
     "model_module": "@jupyter-widgets/base",
     "model_module_version": "1.2.0",
     "model_name": "LayoutModel",
     "state": {
      "_model_module": "@jupyter-widgets/base",
      "_model_module_version": "1.2.0",
      "_model_name": "LayoutModel",
      "_view_count": null,
      "_view_module": "@jupyter-widgets/base",
      "_view_module_version": "1.2.0",
      "_view_name": "LayoutView",
      "align_content": null,
      "align_items": null,
      "align_self": null,
      "border": null,
      "bottom": null,
      "display": null,
      "flex": null,
      "flex_flow": null,
      "grid_area": null,
      "grid_auto_columns": null,
      "grid_auto_flow": null,
      "grid_auto_rows": null,
      "grid_column": null,
      "grid_gap": null,
      "grid_row": null,
      "grid_template_areas": null,
      "grid_template_columns": null,
      "grid_template_rows": null,
      "height": null,
      "justify_content": null,
      "justify_items": null,
      "left": null,
      "margin": null,
      "max_height": null,
      "max_width": null,
      "min_height": null,
      "min_width": null,
      "object_fit": null,
      "object_position": null,
      "order": null,
      "overflow": null,
      "overflow_x": null,
      "overflow_y": null,
      "padding": null,
      "right": null,
      "top": null,
      "visibility": null,
      "width": null
     }
    },
    "29e272438def4be49be8607110d4c302": {
     "model_module": "@jupyter-widgets/controls",
     "model_module_version": "1.5.0",
     "model_name": "FloatProgressModel",
     "state": {
      "_dom_classes": [],
      "_model_module": "@jupyter-widgets/controls",
      "_model_module_version": "1.5.0",
      "_model_name": "FloatProgressModel",
      "_view_count": null,
      "_view_module": "@jupyter-widgets/controls",
      "_view_module_version": "1.5.0",
      "_view_name": "ProgressView",
      "bar_style": "success",
      "description": "",
      "description_tooltip": null,
      "layout": "IPY_MODEL_3030024ab2ff42e2bd89420b1b72ae6f",
      "max": 5001,
      "min": 0,
      "orientation": "horizontal",
      "style": "IPY_MODEL_b978246119e942c7818b126e9b902b3a",
      "value": 5001
     }
    },
    "3030024ab2ff42e2bd89420b1b72ae6f": {
     "model_module": "@jupyter-widgets/base",
     "model_module_version": "1.2.0",
     "model_name": "LayoutModel",
     "state": {
      "_model_module": "@jupyter-widgets/base",
      "_model_module_version": "1.2.0",
      "_model_name": "LayoutModel",
      "_view_count": null,
      "_view_module": "@jupyter-widgets/base",
      "_view_module_version": "1.2.0",
      "_view_name": "LayoutView",
      "align_content": null,
      "align_items": null,
      "align_self": null,
      "border": null,
      "bottom": null,
      "display": null,
      "flex": null,
      "flex_flow": null,
      "grid_area": null,
      "grid_auto_columns": null,
      "grid_auto_flow": null,
      "grid_auto_rows": null,
      "grid_column": null,
      "grid_gap": null,
      "grid_row": null,
      "grid_template_areas": null,
      "grid_template_columns": null,
      "grid_template_rows": null,
      "height": null,
      "justify_content": null,
      "justify_items": null,
      "left": null,
      "margin": null,
      "max_height": null,
      "max_width": null,
      "min_height": null,
      "min_width": null,
      "object_fit": null,
      "object_position": null,
      "order": null,
      "overflow": null,
      "overflow_x": null,
      "overflow_y": null,
      "padding": null,
      "right": null,
      "top": null,
      "visibility": null,
      "width": null
     }
    },
    "345b6b3525274c62bde7964180349268": {
     "model_module": "@jupyter-widgets/base",
     "model_module_version": "1.2.0",
     "model_name": "LayoutModel",
     "state": {
      "_model_module": "@jupyter-widgets/base",
      "_model_module_version": "1.2.0",
      "_model_name": "LayoutModel",
      "_view_count": null,
      "_view_module": "@jupyter-widgets/base",
      "_view_module_version": "1.2.0",
      "_view_name": "LayoutView",
      "align_content": null,
      "align_items": null,
      "align_self": null,
      "border": null,
      "bottom": null,
      "display": null,
      "flex": null,
      "flex_flow": null,
      "grid_area": null,
      "grid_auto_columns": null,
      "grid_auto_flow": null,
      "grid_auto_rows": null,
      "grid_column": null,
      "grid_gap": null,
      "grid_row": null,
      "grid_template_areas": null,
      "grid_template_columns": null,
      "grid_template_rows": null,
      "height": null,
      "justify_content": null,
      "justify_items": null,
      "left": null,
      "margin": null,
      "max_height": null,
      "max_width": null,
      "min_height": null,
      "min_width": null,
      "object_fit": null,
      "object_position": null,
      "order": null,
      "overflow": null,
      "overflow_x": null,
      "overflow_y": null,
      "padding": null,
      "right": null,
      "top": null,
      "visibility": null,
      "width": null
     }
    },
    "39c1b8c5d7214f4ea8aebbc4e84a3e8b": {
     "model_module": "@jupyter-widgets/base",
     "model_module_version": "1.2.0",
     "model_name": "LayoutModel",
     "state": {
      "_model_module": "@jupyter-widgets/base",
      "_model_module_version": "1.2.0",
      "_model_name": "LayoutModel",
      "_view_count": null,
      "_view_module": "@jupyter-widgets/base",
      "_view_module_version": "1.2.0",
      "_view_name": "LayoutView",
      "align_content": null,
      "align_items": null,
      "align_self": null,
      "border": null,
      "bottom": null,
      "display": null,
      "flex": null,
      "flex_flow": null,
      "grid_area": null,
      "grid_auto_columns": null,
      "grid_auto_flow": null,
      "grid_auto_rows": null,
      "grid_column": null,
      "grid_gap": null,
      "grid_row": null,
      "grid_template_areas": null,
      "grid_template_columns": null,
      "grid_template_rows": null,
      "height": null,
      "justify_content": null,
      "justify_items": null,
      "left": null,
      "margin": null,
      "max_height": null,
      "max_width": null,
      "min_height": null,
      "min_width": null,
      "object_fit": null,
      "object_position": null,
      "order": null,
      "overflow": null,
      "overflow_x": null,
      "overflow_y": null,
      "padding": null,
      "right": null,
      "top": null,
      "visibility": null,
      "width": null
     }
    },
    "43aa43b8855b46e59a849c3e0173bf50": {
     "model_module": "@jupyter-widgets/controls",
     "model_module_version": "1.5.0",
     "model_name": "HTMLModel",
     "state": {
      "_dom_classes": [],
      "_model_module": "@jupyter-widgets/controls",
      "_model_module_version": "1.5.0",
      "_model_name": "HTMLModel",
      "_view_count": null,
      "_view_module": "@jupyter-widgets/controls",
      "_view_module_version": "1.5.0",
      "_view_name": "HTMLView",
      "description": "",
      "description_tooltip": null,
      "layout": "IPY_MODEL_c8efb5bfcee14732bdaeed7c430c235e",
      "placeholder": "​",
      "style": "IPY_MODEL_083fdc34807a499f8cad4ba4e195a479",
      "value": " 5001/5001 [00:01&lt;00:00, 3312.49it/s]"
     }
    },
    "4fe62e1e21fd4d64b32050632eeb0d59": {
     "model_module": "@jupyter-widgets/controls",
     "model_module_version": "1.5.0",
     "model_name": "DescriptionStyleModel",
     "state": {
      "_model_module": "@jupyter-widgets/controls",
      "_model_module_version": "1.5.0",
      "_model_name": "DescriptionStyleModel",
      "_view_count": null,
      "_view_module": "@jupyter-widgets/base",
      "_view_module_version": "1.2.0",
      "_view_name": "StyleView",
      "description_width": ""
     }
    },
    "5407098d4c374521b004ca4102d75b66": {
     "model_module": "@jupyter-widgets/controls",
     "model_module_version": "1.5.0",
     "model_name": "HBoxModel",
     "state": {
      "_dom_classes": [],
      "_model_module": "@jupyter-widgets/controls",
      "_model_module_version": "1.5.0",
      "_model_name": "HBoxModel",
      "_view_count": null,
      "_view_module": "@jupyter-widgets/controls",
      "_view_module_version": "1.5.0",
      "_view_name": "HBoxView",
      "box_style": "",
      "children": [
       "IPY_MODEL_843fa3533d444b2c837bf1868a1b9725",
       "IPY_MODEL_594242898371447090d5374bbe1cfeea",
       "IPY_MODEL_f9e7bbfb196a42e9b97626a339cea9e3"
      ],
      "layout": "IPY_MODEL_558a140c59c449d0abecdb4a5867b11c"
     }
    },
    "558a140c59c449d0abecdb4a5867b11c": {
     "model_module": "@jupyter-widgets/base",
     "model_module_version": "1.2.0",
     "model_name": "LayoutModel",
     "state": {
      "_model_module": "@jupyter-widgets/base",
      "_model_module_version": "1.2.0",
      "_model_name": "LayoutModel",
      "_view_count": null,
      "_view_module": "@jupyter-widgets/base",
      "_view_module_version": "1.2.0",
      "_view_name": "LayoutView",
      "align_content": null,
      "align_items": null,
      "align_self": null,
      "border": null,
      "bottom": null,
      "display": null,
      "flex": null,
      "flex_flow": null,
      "grid_area": null,
      "grid_auto_columns": null,
      "grid_auto_flow": null,
      "grid_auto_rows": null,
      "grid_column": null,
      "grid_gap": null,
      "grid_row": null,
      "grid_template_areas": null,
      "grid_template_columns": null,
      "grid_template_rows": null,
      "height": null,
      "justify_content": null,
      "justify_items": null,
      "left": null,
      "margin": null,
      "max_height": null,
      "max_width": null,
      "min_height": null,
      "min_width": null,
      "object_fit": null,
      "object_position": null,
      "order": null,
      "overflow": null,
      "overflow_x": null,
      "overflow_y": null,
      "padding": null,
      "right": null,
      "top": null,
      "visibility": null,
      "width": null
     }
    },
    "594242898371447090d5374bbe1cfeea": {
     "model_module": "@jupyter-widgets/controls",
     "model_module_version": "1.5.0",
     "model_name": "FloatProgressModel",
     "state": {
      "_dom_classes": [],
      "_model_module": "@jupyter-widgets/controls",
      "_model_module_version": "1.5.0",
      "_model_name": "FloatProgressModel",
      "_view_count": null,
      "_view_module": "@jupyter-widgets/controls",
      "_view_module_version": "1.5.0",
      "_view_name": "ProgressView",
      "bar_style": "success",
      "description": "",
      "description_tooltip": null,
      "layout": "IPY_MODEL_9a4183ed53364b81a8c7de94bba0c3f2",
      "max": 5001,
      "min": 0,
      "orientation": "horizontal",
      "style": "IPY_MODEL_84a1798b354141ca8ad9c6f08733a686",
      "value": 5001
     }
    },
    "59b2bc20c9524bd89b28c31ceb8b758f": {
     "model_module": "@jupyter-widgets/controls",
     "model_module_version": "1.5.0",
     "model_name": "HTMLModel",
     "state": {
      "_dom_classes": [],
      "_model_module": "@jupyter-widgets/controls",
      "_model_module_version": "1.5.0",
      "_model_name": "HTMLModel",
      "_view_count": null,
      "_view_module": "@jupyter-widgets/controls",
      "_view_module_version": "1.5.0",
      "_view_name": "HTMLView",
      "description": "",
      "description_tooltip": null,
      "layout": "IPY_MODEL_a0ce05fbf2c14afaace3df10cb13be89",
      "placeholder": "​",
      "style": "IPY_MODEL_66749085f4144dad9b4b1b87d396ca88",
      "value": " 5001/5001 [00:01&lt;00:00, 2887.74it/s]"
     }
    },
    "5ed3fc64abf345a59b8348da0de36fbc": {
     "model_module": "@jupyter-widgets/controls",
     "model_module_version": "1.5.0",
     "model_name": "DescriptionStyleModel",
     "state": {
      "_model_module": "@jupyter-widgets/controls",
      "_model_module_version": "1.5.0",
      "_model_name": "DescriptionStyleModel",
      "_view_count": null,
      "_view_module": "@jupyter-widgets/base",
      "_view_module_version": "1.2.0",
      "_view_name": "StyleView",
      "description_width": ""
     }
    },
    "64f50a70a9594ce889cc645643063dd3": {
     "model_module": "@jupyter-widgets/controls",
     "model_module_version": "1.5.0",
     "model_name": "HTMLModel",
     "state": {
      "_dom_classes": [],
      "_model_module": "@jupyter-widgets/controls",
      "_model_module_version": "1.5.0",
      "_model_name": "HTMLModel",
      "_view_count": null,
      "_view_module": "@jupyter-widgets/controls",
      "_view_module_version": "1.5.0",
      "_view_name": "HTMLView",
      "description": "",
      "description_tooltip": null,
      "layout": "IPY_MODEL_0993f1cd4f0c4a928b2b8d1a3a160dba",
      "placeholder": "​",
      "style": "IPY_MODEL_4fe62e1e21fd4d64b32050632eeb0d59",
      "value": " 5001/5001 [00:01&lt;00:00, 3589.33it/s]"
     }
    },
    "66749085f4144dad9b4b1b87d396ca88": {
     "model_module": "@jupyter-widgets/controls",
     "model_module_version": "1.5.0",
     "model_name": "DescriptionStyleModel",
     "state": {
      "_model_module": "@jupyter-widgets/controls",
      "_model_module_version": "1.5.0",
      "_model_name": "DescriptionStyleModel",
      "_view_count": null,
      "_view_module": "@jupyter-widgets/base",
      "_view_module_version": "1.2.0",
      "_view_name": "StyleView",
      "description_width": ""
     }
    },
    "7831a21d238a4a1da14d102580ebdf78": {
     "model_module": "@jupyter-widgets/controls",
     "model_module_version": "1.5.0",
     "model_name": "ProgressStyleModel",
     "state": {
      "_model_module": "@jupyter-widgets/controls",
      "_model_module_version": "1.5.0",
      "_model_name": "ProgressStyleModel",
      "_view_count": null,
      "_view_module": "@jupyter-widgets/base",
      "_view_module_version": "1.2.0",
      "_view_name": "StyleView",
      "bar_color": null,
      "description_width": ""
     }
    },
    "8040d429311d49b99ba387f22916de18": {
     "model_module": "@jupyter-widgets/base",
     "model_module_version": "1.2.0",
     "model_name": "LayoutModel",
     "state": {
      "_model_module": "@jupyter-widgets/base",
      "_model_module_version": "1.2.0",
      "_model_name": "LayoutModel",
      "_view_count": null,
      "_view_module": "@jupyter-widgets/base",
      "_view_module_version": "1.2.0",
      "_view_name": "LayoutView",
      "align_content": null,
      "align_items": null,
      "align_self": null,
      "border": null,
      "bottom": null,
      "display": null,
      "flex": null,
      "flex_flow": null,
      "grid_area": null,
      "grid_auto_columns": null,
      "grid_auto_flow": null,
      "grid_auto_rows": null,
      "grid_column": null,
      "grid_gap": null,
      "grid_row": null,
      "grid_template_areas": null,
      "grid_template_columns": null,
      "grid_template_rows": null,
      "height": null,
      "justify_content": null,
      "justify_items": null,
      "left": null,
      "margin": null,
      "max_height": null,
      "max_width": null,
      "min_height": null,
      "min_width": null,
      "object_fit": null,
      "object_position": null,
      "order": null,
      "overflow": null,
      "overflow_x": null,
      "overflow_y": null,
      "padding": null,
      "right": null,
      "top": null,
      "visibility": null,
      "width": null
     }
    },
    "843fa3533d444b2c837bf1868a1b9725": {
     "model_module": "@jupyter-widgets/controls",
     "model_module_version": "1.5.0",
     "model_name": "HTMLModel",
     "state": {
      "_dom_classes": [],
      "_model_module": "@jupyter-widgets/controls",
      "_model_module_version": "1.5.0",
      "_model_name": "HTMLModel",
      "_view_count": null,
      "_view_module": "@jupyter-widgets/controls",
      "_view_module_version": "1.5.0",
      "_view_name": "HTMLView",
      "description": "",
      "description_tooltip": null,
      "layout": "IPY_MODEL_8040d429311d49b99ba387f22916de18",
      "placeholder": "​",
      "style": "IPY_MODEL_ce1ada80ecb6427a857c8f0a1076c029",
      "value": "100%"
     }
    },
    "84a1798b354141ca8ad9c6f08733a686": {
     "model_module": "@jupyter-widgets/controls",
     "model_module_version": "1.5.0",
     "model_name": "ProgressStyleModel",
     "state": {
      "_model_module": "@jupyter-widgets/controls",
      "_model_module_version": "1.5.0",
      "_model_name": "ProgressStyleModel",
      "_view_count": null,
      "_view_module": "@jupyter-widgets/base",
      "_view_module_version": "1.2.0",
      "_view_name": "StyleView",
      "bar_color": null,
      "description_width": ""
     }
    },
    "9a4183ed53364b81a8c7de94bba0c3f2": {
     "model_module": "@jupyter-widgets/base",
     "model_module_version": "1.2.0",
     "model_name": "LayoutModel",
     "state": {
      "_model_module": "@jupyter-widgets/base",
      "_model_module_version": "1.2.0",
      "_model_name": "LayoutModel",
      "_view_count": null,
      "_view_module": "@jupyter-widgets/base",
      "_view_module_version": "1.2.0",
      "_view_name": "LayoutView",
      "align_content": null,
      "align_items": null,
      "align_self": null,
      "border": null,
      "bottom": null,
      "display": null,
      "flex": null,
      "flex_flow": null,
      "grid_area": null,
      "grid_auto_columns": null,
      "grid_auto_flow": null,
      "grid_auto_rows": null,
      "grid_column": null,
      "grid_gap": null,
      "grid_row": null,
      "grid_template_areas": null,
      "grid_template_columns": null,
      "grid_template_rows": null,
      "height": null,
      "justify_content": null,
      "justify_items": null,
      "left": null,
      "margin": null,
      "max_height": null,
      "max_width": null,
      "min_height": null,
      "min_width": null,
      "object_fit": null,
      "object_position": null,
      "order": null,
      "overflow": null,
      "overflow_x": null,
      "overflow_y": null,
      "padding": null,
      "right": null,
      "top": null,
      "visibility": null,
      "width": null
     }
    },
    "9e54299536b941398446e57f99e04292": {
     "model_module": "@jupyter-widgets/base",
     "model_module_version": "1.2.0",
     "model_name": "LayoutModel",
     "state": {
      "_model_module": "@jupyter-widgets/base",
      "_model_module_version": "1.2.0",
      "_model_name": "LayoutModel",
      "_view_count": null,
      "_view_module": "@jupyter-widgets/base",
      "_view_module_version": "1.2.0",
      "_view_name": "LayoutView",
      "align_content": null,
      "align_items": null,
      "align_self": null,
      "border": null,
      "bottom": null,
      "display": null,
      "flex": null,
      "flex_flow": null,
      "grid_area": null,
      "grid_auto_columns": null,
      "grid_auto_flow": null,
      "grid_auto_rows": null,
      "grid_column": null,
      "grid_gap": null,
      "grid_row": null,
      "grid_template_areas": null,
      "grid_template_columns": null,
      "grid_template_rows": null,
      "height": null,
      "justify_content": null,
      "justify_items": null,
      "left": null,
      "margin": null,
      "max_height": null,
      "max_width": null,
      "min_height": null,
      "min_width": null,
      "object_fit": null,
      "object_position": null,
      "order": null,
      "overflow": null,
      "overflow_x": null,
      "overflow_y": null,
      "padding": null,
      "right": null,
      "top": null,
      "visibility": null,
      "width": null
     }
    },
    "a0ce05fbf2c14afaace3df10cb13be89": {
     "model_module": "@jupyter-widgets/base",
     "model_module_version": "1.2.0",
     "model_name": "LayoutModel",
     "state": {
      "_model_module": "@jupyter-widgets/base",
      "_model_module_version": "1.2.0",
      "_model_name": "LayoutModel",
      "_view_count": null,
      "_view_module": "@jupyter-widgets/base",
      "_view_module_version": "1.2.0",
      "_view_name": "LayoutView",
      "align_content": null,
      "align_items": null,
      "align_self": null,
      "border": null,
      "bottom": null,
      "display": null,
      "flex": null,
      "flex_flow": null,
      "grid_area": null,
      "grid_auto_columns": null,
      "grid_auto_flow": null,
      "grid_auto_rows": null,
      "grid_column": null,
      "grid_gap": null,
      "grid_row": null,
      "grid_template_areas": null,
      "grid_template_columns": null,
      "grid_template_rows": null,
      "height": null,
      "justify_content": null,
      "justify_items": null,
      "left": null,
      "margin": null,
      "max_height": null,
      "max_width": null,
      "min_height": null,
      "min_width": null,
      "object_fit": null,
      "object_position": null,
      "order": null,
      "overflow": null,
      "overflow_x": null,
      "overflow_y": null,
      "padding": null,
      "right": null,
      "top": null,
      "visibility": null,
      "width": null
     }
    },
    "abf7361c73a44563bd2e30141668af2e": {
     "model_module": "@jupyter-widgets/base",
     "model_module_version": "1.2.0",
     "model_name": "LayoutModel",
     "state": {
      "_model_module": "@jupyter-widgets/base",
      "_model_module_version": "1.2.0",
      "_model_name": "LayoutModel",
      "_view_count": null,
      "_view_module": "@jupyter-widgets/base",
      "_view_module_version": "1.2.0",
      "_view_name": "LayoutView",
      "align_content": null,
      "align_items": null,
      "align_self": null,
      "border": null,
      "bottom": null,
      "display": null,
      "flex": null,
      "flex_flow": null,
      "grid_area": null,
      "grid_auto_columns": null,
      "grid_auto_flow": null,
      "grid_auto_rows": null,
      "grid_column": null,
      "grid_gap": null,
      "grid_row": null,
      "grid_template_areas": null,
      "grid_template_columns": null,
      "grid_template_rows": null,
      "height": null,
      "justify_content": null,
      "justify_items": null,
      "left": null,
      "margin": null,
      "max_height": null,
      "max_width": null,
      "min_height": null,
      "min_width": null,
      "object_fit": null,
      "object_position": null,
      "order": null,
      "overflow": null,
      "overflow_x": null,
      "overflow_y": null,
      "padding": null,
      "right": null,
      "top": null,
      "visibility": null,
      "width": null
     }
    },
    "b11ca4f2601d4f76979d576f5672d6d8": {
     "model_module": "@jupyter-widgets/controls",
     "model_module_version": "1.5.0",
     "model_name": "FloatProgressModel",
     "state": {
      "_dom_classes": [],
      "_model_module": "@jupyter-widgets/controls",
      "_model_module_version": "1.5.0",
      "_model_name": "FloatProgressModel",
      "_view_count": null,
      "_view_module": "@jupyter-widgets/controls",
      "_view_module_version": "1.5.0",
      "_view_name": "ProgressView",
      "bar_style": "success",
      "description": "",
      "description_tooltip": null,
      "layout": "IPY_MODEL_39c1b8c5d7214f4ea8aebbc4e84a3e8b",
      "max": 5001,
      "min": 0,
      "orientation": "horizontal",
      "style": "IPY_MODEL_b9946f999c67477f83a09fe351d7e33b",
      "value": 5001
     }
    },
    "b4ab621b993f4a879c627d4c22447ead": {
     "model_module": "@jupyter-widgets/controls",
     "model_module_version": "1.5.0",
     "model_name": "HBoxModel",
     "state": {
      "_dom_classes": [],
      "_model_module": "@jupyter-widgets/controls",
      "_model_module_version": "1.5.0",
      "_model_name": "HBoxModel",
      "_view_count": null,
      "_view_module": "@jupyter-widgets/controls",
      "_view_module_version": "1.5.0",
      "_view_name": "HBoxView",
      "box_style": "",
      "children": [
       "IPY_MODEL_e7bd2cb80d2b4379abe45543120cae29",
       "IPY_MODEL_29e272438def4be49be8607110d4c302",
       "IPY_MODEL_43aa43b8855b46e59a849c3e0173bf50"
      ],
      "layout": "IPY_MODEL_345b6b3525274c62bde7964180349268"
     }
    },
    "b978246119e942c7818b126e9b902b3a": {
     "model_module": "@jupyter-widgets/controls",
     "model_module_version": "1.5.0",
     "model_name": "ProgressStyleModel",
     "state": {
      "_model_module": "@jupyter-widgets/controls",
      "_model_module_version": "1.5.0",
      "_model_name": "ProgressStyleModel",
      "_view_count": null,
      "_view_module": "@jupyter-widgets/base",
      "_view_module_version": "1.2.0",
      "_view_name": "StyleView",
      "bar_color": null,
      "description_width": ""
     }
    },
    "b9946f999c67477f83a09fe351d7e33b": {
     "model_module": "@jupyter-widgets/controls",
     "model_module_version": "1.5.0",
     "model_name": "ProgressStyleModel",
     "state": {
      "_model_module": "@jupyter-widgets/controls",
      "_model_module_version": "1.5.0",
      "_model_name": "ProgressStyleModel",
      "_view_count": null,
      "_view_module": "@jupyter-widgets/base",
      "_view_module_version": "1.2.0",
      "_view_name": "StyleView",
      "bar_color": null,
      "description_width": ""
     }
    },
    "bac0443395d842d89c5cacf38f998c02": {
     "model_module": "@jupyter-widgets/base",
     "model_module_version": "1.2.0",
     "model_name": "LayoutModel",
     "state": {
      "_model_module": "@jupyter-widgets/base",
      "_model_module_version": "1.2.0",
      "_model_name": "LayoutModel",
      "_view_count": null,
      "_view_module": "@jupyter-widgets/base",
      "_view_module_version": "1.2.0",
      "_view_name": "LayoutView",
      "align_content": null,
      "align_items": null,
      "align_self": null,
      "border": null,
      "bottom": null,
      "display": null,
      "flex": null,
      "flex_flow": null,
      "grid_area": null,
      "grid_auto_columns": null,
      "grid_auto_flow": null,
      "grid_auto_rows": null,
      "grid_column": null,
      "grid_gap": null,
      "grid_row": null,
      "grid_template_areas": null,
      "grid_template_columns": null,
      "grid_template_rows": null,
      "height": null,
      "justify_content": null,
      "justify_items": null,
      "left": null,
      "margin": null,
      "max_height": null,
      "max_width": null,
      "min_height": null,
      "min_width": null,
      "object_fit": null,
      "object_position": null,
      "order": null,
      "overflow": null,
      "overflow_x": null,
      "overflow_y": null,
      "padding": null,
      "right": null,
      "top": null,
      "visibility": null,
      "width": null
     }
    },
    "be01f0ee5ed8442a9da833c6e3a609b5": {
     "model_module": "@jupyter-widgets/controls",
     "model_module_version": "1.5.0",
     "model_name": "DescriptionStyleModel",
     "state": {
      "_model_module": "@jupyter-widgets/controls",
      "_model_module_version": "1.5.0",
      "_model_name": "DescriptionStyleModel",
      "_view_count": null,
      "_view_module": "@jupyter-widgets/base",
      "_view_module_version": "1.2.0",
      "_view_name": "StyleView",
      "description_width": ""
     }
    },
    "c7f30dce2f4f492ba382726159859b90": {
     "model_module": "@jupyter-widgets/controls",
     "model_module_version": "1.5.0",
     "model_name": "HTMLModel",
     "state": {
      "_dom_classes": [],
      "_model_module": "@jupyter-widgets/controls",
      "_model_module_version": "1.5.0",
      "_model_name": "HTMLModel",
      "_view_count": null,
      "_view_module": "@jupyter-widgets/controls",
      "_view_module_version": "1.5.0",
      "_view_name": "HTMLView",
      "description": "",
      "description_tooltip": null,
      "layout": "IPY_MODEL_bac0443395d842d89c5cacf38f998c02",
      "placeholder": "​",
      "style": "IPY_MODEL_e9e77d4cef364d38a192c58817577d66",
      "value": "100%"
     }
    },
    "c8efb5bfcee14732bdaeed7c430c235e": {
     "model_module": "@jupyter-widgets/base",
     "model_module_version": "1.2.0",
     "model_name": "LayoutModel",
     "state": {
      "_model_module": "@jupyter-widgets/base",
      "_model_module_version": "1.2.0",
      "_model_name": "LayoutModel",
      "_view_count": null,
      "_view_module": "@jupyter-widgets/base",
      "_view_module_version": "1.2.0",
      "_view_name": "LayoutView",
      "align_content": null,
      "align_items": null,
      "align_self": null,
      "border": null,
      "bottom": null,
      "display": null,
      "flex": null,
      "flex_flow": null,
      "grid_area": null,
      "grid_auto_columns": null,
      "grid_auto_flow": null,
      "grid_auto_rows": null,
      "grid_column": null,
      "grid_gap": null,
      "grid_row": null,
      "grid_template_areas": null,
      "grid_template_columns": null,
      "grid_template_rows": null,
      "height": null,
      "justify_content": null,
      "justify_items": null,
      "left": null,
      "margin": null,
      "max_height": null,
      "max_width": null,
      "min_height": null,
      "min_width": null,
      "object_fit": null,
      "object_position": null,
      "order": null,
      "overflow": null,
      "overflow_x": null,
      "overflow_y": null,
      "padding": null,
      "right": null,
      "top": null,
      "visibility": null,
      "width": null
     }
    },
    "ce1ada80ecb6427a857c8f0a1076c029": {
     "model_module": "@jupyter-widgets/controls",
     "model_module_version": "1.5.0",
     "model_name": "DescriptionStyleModel",
     "state": {
      "_model_module": "@jupyter-widgets/controls",
      "_model_module_version": "1.5.0",
      "_model_name": "DescriptionStyleModel",
      "_view_count": null,
      "_view_module": "@jupyter-widgets/base",
      "_view_module_version": "1.2.0",
      "_view_name": "StyleView",
      "description_width": ""
     }
    },
    "cfec0af668844031ae87448b88ad70af": {
     "model_module": "@jupyter-widgets/controls",
     "model_module_version": "1.5.0",
     "model_name": "HBoxModel",
     "state": {
      "_dom_classes": [],
      "_model_module": "@jupyter-widgets/controls",
      "_model_module_version": "1.5.0",
      "_model_name": "HBoxModel",
      "_view_count": null,
      "_view_module": "@jupyter-widgets/controls",
      "_view_module_version": "1.5.0",
      "_view_name": "HBoxView",
      "box_style": "",
      "children": [
       "IPY_MODEL_c7f30dce2f4f492ba382726159859b90",
       "IPY_MODEL_134c5404c529448f842917125a277e0d",
       "IPY_MODEL_64f50a70a9594ce889cc645643063dd3"
      ],
      "layout": "IPY_MODEL_294d039f558846a7a1fccb2b940ad4aa"
     }
    },
    "d53900b28f1a4a2997b8eef5184b7a1d": {
     "model_module": "@jupyter-widgets/controls",
     "model_module_version": "1.5.0",
     "model_name": "HBoxModel",
     "state": {
      "_dom_classes": [],
      "_model_module": "@jupyter-widgets/controls",
      "_model_module_version": "1.5.0",
      "_model_name": "HBoxModel",
      "_view_count": null,
      "_view_module": "@jupyter-widgets/controls",
      "_view_module_version": "1.5.0",
      "_view_name": "HBoxView",
      "box_style": "",
      "children": [
       "IPY_MODEL_f2a07b219cfa49eba992d109e2091445",
       "IPY_MODEL_b11ca4f2601d4f76979d576f5672d6d8",
       "IPY_MODEL_59b2bc20c9524bd89b28c31ceb8b758f"
      ],
      "layout": "IPY_MODEL_18b1c5dd9b9c457a813fc62b94014298"
     }
    },
    "df55c2a2a6f64d89b55fab63b9301949": {
     "model_module": "@jupyter-widgets/controls",
     "model_module_version": "1.5.0",
     "model_name": "DescriptionStyleModel",
     "state": {
      "_model_module": "@jupyter-widgets/controls",
      "_model_module_version": "1.5.0",
      "_model_name": "DescriptionStyleModel",
      "_view_count": null,
      "_view_module": "@jupyter-widgets/base",
      "_view_module_version": "1.2.0",
      "_view_name": "StyleView",
      "description_width": ""
     }
    },
    "e53fdcd3aa5b4660aadd6c97373e9b4c": {
     "model_module": "@jupyter-widgets/base",
     "model_module_version": "1.2.0",
     "model_name": "LayoutModel",
     "state": {
      "_model_module": "@jupyter-widgets/base",
      "_model_module_version": "1.2.0",
      "_model_name": "LayoutModel",
      "_view_count": null,
      "_view_module": "@jupyter-widgets/base",
      "_view_module_version": "1.2.0",
      "_view_name": "LayoutView",
      "align_content": null,
      "align_items": null,
      "align_self": null,
      "border": null,
      "bottom": null,
      "display": null,
      "flex": null,
      "flex_flow": null,
      "grid_area": null,
      "grid_auto_columns": null,
      "grid_auto_flow": null,
      "grid_auto_rows": null,
      "grid_column": null,
      "grid_gap": null,
      "grid_row": null,
      "grid_template_areas": null,
      "grid_template_columns": null,
      "grid_template_rows": null,
      "height": null,
      "justify_content": null,
      "justify_items": null,
      "left": null,
      "margin": null,
      "max_height": null,
      "max_width": null,
      "min_height": null,
      "min_width": null,
      "object_fit": null,
      "object_position": null,
      "order": null,
      "overflow": null,
      "overflow_x": null,
      "overflow_y": null,
      "padding": null,
      "right": null,
      "top": null,
      "visibility": null,
      "width": null
     }
    },
    "e7bd2cb80d2b4379abe45543120cae29": {
     "model_module": "@jupyter-widgets/controls",
     "model_module_version": "1.5.0",
     "model_name": "HTMLModel",
     "state": {
      "_dom_classes": [],
      "_model_module": "@jupyter-widgets/controls",
      "_model_module_version": "1.5.0",
      "_model_name": "HTMLModel",
      "_view_count": null,
      "_view_module": "@jupyter-widgets/controls",
      "_view_module_version": "1.5.0",
      "_view_name": "HTMLView",
      "description": "",
      "description_tooltip": null,
      "layout": "IPY_MODEL_9e54299536b941398446e57f99e04292",
      "placeholder": "​",
      "style": "IPY_MODEL_be01f0ee5ed8442a9da833c6e3a609b5",
      "value": "100%"
     }
    },
    "e9e77d4cef364d38a192c58817577d66": {
     "model_module": "@jupyter-widgets/controls",
     "model_module_version": "1.5.0",
     "model_name": "DescriptionStyleModel",
     "state": {
      "_model_module": "@jupyter-widgets/controls",
      "_model_module_version": "1.5.0",
      "_model_name": "DescriptionStyleModel",
      "_view_count": null,
      "_view_module": "@jupyter-widgets/base",
      "_view_module_version": "1.2.0",
      "_view_name": "StyleView",
      "description_width": ""
     }
    },
    "f2a07b219cfa49eba992d109e2091445": {
     "model_module": "@jupyter-widgets/controls",
     "model_module_version": "1.5.0",
     "model_name": "HTMLModel",
     "state": {
      "_dom_classes": [],
      "_model_module": "@jupyter-widgets/controls",
      "_model_module_version": "1.5.0",
      "_model_name": "HTMLModel",
      "_view_count": null,
      "_view_module": "@jupyter-widgets/controls",
      "_view_module_version": "1.5.0",
      "_view_name": "HTMLView",
      "description": "",
      "description_tooltip": null,
      "layout": "IPY_MODEL_e53fdcd3aa5b4660aadd6c97373e9b4c",
      "placeholder": "​",
      "style": "IPY_MODEL_df55c2a2a6f64d89b55fab63b9301949",
      "value": "100%"
     }
    },
    "f9e7bbfb196a42e9b97626a339cea9e3": {
     "model_module": "@jupyter-widgets/controls",
     "model_module_version": "1.5.0",
     "model_name": "HTMLModel",
     "state": {
      "_dom_classes": [],
      "_model_module": "@jupyter-widgets/controls",
      "_model_module_version": "1.5.0",
      "_model_name": "HTMLModel",
      "_view_count": null,
      "_view_module": "@jupyter-widgets/controls",
      "_view_module_version": "1.5.0",
      "_view_name": "HTMLView",
      "description": "",
      "description_tooltip": null,
      "layout": "IPY_MODEL_0f0be173e5ad4caba3f5b3e72e994a57",
      "placeholder": "​",
      "style": "IPY_MODEL_5ed3fc64abf345a59b8348da0de36fbc",
      "value": " 5001/5001 [00:01&lt;00:00, 3487.63it/s]"
     }
    }
   }
  }
 },
 "nbformat": 4,
 "nbformat_minor": 0
}