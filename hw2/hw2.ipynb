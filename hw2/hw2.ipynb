{
 "cells": [
  {
   "cell_type": "code",
   "execution_count": 79,
   "metadata": {
    "colab": {
     "base_uri": "https://localhost:8080/",
     "height": 392
    },
    "executionInfo": {
     "elapsed": 913,
     "status": "error",
     "timestamp": 1644049996964,
     "user": {
      "displayName": "Николай -",
      "photoUrl": "https://lh3.googleusercontent.com/a-/AOh14GiCS90olAsBznR3WLZOaJ5ukcv2LPYBRWvHEQUZ-A=s64",
      "userId": "17372739142422056321"
     },
     "user_tz": -180
    },
    "id": "P4cXa7KC9vZl",
    "outputId": "91a6b4ea-7926-4fe4-9eff-ebceaed655f6"
   },
   "outputs": [],
   "source": [
    "from typing import List\n",
    "from functools import partial\n",
    "from collections import defaultdict\n",
    "\n",
    "import pickle\n",
    "import pandas as pd\n",
    "import numpy as np\n",
    "import matplotlib.pyplot as plt\n",
    "import scipy.stats as st\n",
    "\n",
    "from scipy.sparse import csr_matrix\n",
    "# Детерминированные алгоритмы\n",
    "from implicit.nearest_neighbours import ItemItemRecommender, CosineRecommender, TFIDFRecommender, BM25Recommender\n",
    "\n",
    "# Метрики\n",
    "from hw1.hw1 import precision_at_k, ap_k, ndcg"
   ]
  },
  {
   "cell_type": "markdown",
   "metadata": {
    "pycharm": {
     "name": "#%% md\n"
    }
   },
   "source": [
    "## load&split"
   ]
  },
  {
   "cell_type": "code",
   "execution_count": 3,
   "metadata": {
    "colab": {
     "base_uri": "https://localhost:8080/",
     "height": 111
    },
    "executionInfo": {
     "elapsed": 5314,
     "status": "ok",
     "timestamp": 1639300600839,
     "user": {
      "displayName": "Николай -",
      "photoUrl": "https://lh3.googleusercontent.com/a-/AOh14GiCS90olAsBznR3WLZOaJ5ukcv2LPYBRWvHEQUZ-A=s64",
      "userId": "17372739142422056321"
     },
     "user_tz": -180
    },
    "id": "mwedaTmu9vZm",
    "outputId": "dc1cb9ae-74b6-4434-9aa8-0c299cb5d690"
   },
   "outputs": [
    {
     "data": {
      "text/plain": "   user_id    basket_id  day  item_id  quantity  sales_value  store_id  \\\n0     2375  26984851472    1  1004906         1         1.39       364   \n1     2375  26984851472    1  1033142         1         0.82       364   \n2     2375  26984851472    1  1036325         1         0.99       364   \n\n   retail_disc  trans_time  week_no  coupon_disc  coupon_match_disc  \n0         -0.6        1631        1          0.0                0.0  \n1          0.0        1631        1          0.0                0.0  \n2         -0.3        1631        1          0.0                0.0  ",
      "text/html": "<div>\n<style scoped>\n    .dataframe tbody tr th:only-of-type {\n        vertical-align: middle;\n    }\n\n    .dataframe tbody tr th {\n        vertical-align: top;\n    }\n\n    .dataframe thead th {\n        text-align: right;\n    }\n</style>\n<table border=\"1\" class=\"dataframe\">\n  <thead>\n    <tr style=\"text-align: right;\">\n      <th></th>\n      <th>user_id</th>\n      <th>basket_id</th>\n      <th>day</th>\n      <th>item_id</th>\n      <th>quantity</th>\n      <th>sales_value</th>\n      <th>store_id</th>\n      <th>retail_disc</th>\n      <th>trans_time</th>\n      <th>week_no</th>\n      <th>coupon_disc</th>\n      <th>coupon_match_disc</th>\n    </tr>\n  </thead>\n  <tbody>\n    <tr>\n      <th>0</th>\n      <td>2375</td>\n      <td>26984851472</td>\n      <td>1</td>\n      <td>1004906</td>\n      <td>1</td>\n      <td>1.39</td>\n      <td>364</td>\n      <td>-0.6</td>\n      <td>1631</td>\n      <td>1</td>\n      <td>0.0</td>\n      <td>0.0</td>\n    </tr>\n    <tr>\n      <th>1</th>\n      <td>2375</td>\n      <td>26984851472</td>\n      <td>1</td>\n      <td>1033142</td>\n      <td>1</td>\n      <td>0.82</td>\n      <td>364</td>\n      <td>0.0</td>\n      <td>1631</td>\n      <td>1</td>\n      <td>0.0</td>\n      <td>0.0</td>\n    </tr>\n    <tr>\n      <th>2</th>\n      <td>2375</td>\n      <td>26984851472</td>\n      <td>1</td>\n      <td>1036325</td>\n      <td>1</td>\n      <td>0.99</td>\n      <td>364</td>\n      <td>-0.3</td>\n      <td>1631</td>\n      <td>1</td>\n      <td>0.0</td>\n      <td>0.0</td>\n    </tr>\n  </tbody>\n</table>\n</div>"
     },
     "execution_count": 3,
     "metadata": {},
     "output_type": "execute_result"
    }
   ],
   "source": [
    "data = pd.read_csv('retail_train.csv')\n",
    "data.head(3)"
   ]
  },
  {
   "cell_type": "code",
   "execution_count": 4,
   "metadata": {
    "colab": {
     "base_uri": "https://localhost:8080/"
    },
    "executionInfo": {
     "elapsed": 412,
     "status": "ok",
     "timestamp": 1639300644126,
     "user": {
      "displayName": "Николай -",
      "photoUrl": "https://lh3.googleusercontent.com/a-/AOh14GiCS90olAsBznR3WLZOaJ5ukcv2LPYBRWvHEQUZ-A=s64",
      "userId": "17372739142422056321"
     },
     "user_tz": -180
    },
    "id": "8NafvkC29vZo",
    "outputId": "17deb8a0-bba4-4fc2-8712-dea58e5b7362"
   },
   "outputs": [
    {
     "name": "stdout",
     "output_type": "stream",
     "text": [
      "# users:  2499\n",
      "# items:  89051\n",
      "# interactions:  2396804\n",
      "# max week:  95\n"
     ]
    }
   ],
   "source": [
    "users, items, interactions, max_week = data.user_id.nunique(), data.item_id.nunique(), data.shape[0], data['week_no'].nunique()\n",
    "\n",
    "print('# users: ', users)\n",
    "print('# items: ', items)\n",
    "print('# interactions: ', interactions)\n",
    "print('# max week: ', max_week)"
   ]
  },
  {
   "cell_type": "code",
   "execution_count": 5,
   "metadata": {
    "colab": {
     "base_uri": "https://localhost:8080/",
     "height": 297
    },
    "executionInfo": {
     "elapsed": 339,
     "status": "ok",
     "timestamp": 1639300682460,
     "user": {
      "displayName": "Николай -",
      "photoUrl": "https://lh3.googleusercontent.com/a-/AOh14GiCS90olAsBznR3WLZOaJ5ukcv2LPYBRWvHEQUZ-A=s64",
      "userId": "17372739142422056321"
     },
     "user_tz": -180
    },
    "id": "KoLFB6gX9vZp",
    "outputId": "7d356ce3-9bf7-4a08-f86d-b61f383d04d7"
   },
   "outputs": [
    {
     "data": {
      "text/plain": "            item_id    sales_value\ncount  8.905100e+04   89051.000000\nmean   5.115772e+06      83.458481\nstd    5.178973e+06    1628.715079\nmin    2.567100e+04       0.000000\n25%    9.665830e+05       3.500000\n50%    1.448516e+06      10.780000\n75%    9.553042e+06      46.105000\nmax    1.802456e+07  467993.620000",
      "text/html": "<div>\n<style scoped>\n    .dataframe tbody tr th:only-of-type {\n        vertical-align: middle;\n    }\n\n    .dataframe tbody tr th {\n        vertical-align: top;\n    }\n\n    .dataframe thead th {\n        text-align: right;\n    }\n</style>\n<table border=\"1\" class=\"dataframe\">\n  <thead>\n    <tr style=\"text-align: right;\">\n      <th></th>\n      <th>item_id</th>\n      <th>sales_value</th>\n    </tr>\n  </thead>\n  <tbody>\n    <tr>\n      <th>count</th>\n      <td>8.905100e+04</td>\n      <td>89051.000000</td>\n    </tr>\n    <tr>\n      <th>mean</th>\n      <td>5.115772e+06</td>\n      <td>83.458481</td>\n    </tr>\n    <tr>\n      <th>std</th>\n      <td>5.178973e+06</td>\n      <td>1628.715079</td>\n    </tr>\n    <tr>\n      <th>min</th>\n      <td>2.567100e+04</td>\n      <td>0.000000</td>\n    </tr>\n    <tr>\n      <th>25%</th>\n      <td>9.665830e+05</td>\n      <td>3.500000</td>\n    </tr>\n    <tr>\n      <th>50%</th>\n      <td>1.448516e+06</td>\n      <td>10.780000</td>\n    </tr>\n    <tr>\n      <th>75%</th>\n      <td>9.553042e+06</td>\n      <td>46.105000</td>\n    </tr>\n    <tr>\n      <th>max</th>\n      <td>1.802456e+07</td>\n      <td>467993.620000</td>\n    </tr>\n  </tbody>\n</table>\n</div>"
     },
     "execution_count": 5,
     "metadata": {},
     "output_type": "execute_result"
    }
   ],
   "source": [
    "popularity = data.groupby('item_id')['sales_value'].sum().reset_index()\n",
    "popularity.describe()"
   ]
  },
  {
   "cell_type": "code",
   "execution_count": 6,
   "metadata": {
    "colab": {
     "base_uri": "https://localhost:8080/",
     "height": 297
    },
    "executionInfo": {
     "elapsed": 972,
     "status": "ok",
     "timestamp": 1639300690457,
     "user": {
      "displayName": "Николай -",
      "photoUrl": "https://lh3.googleusercontent.com/a-/AOh14GiCS90olAsBznR3WLZOaJ5ukcv2LPYBRWvHEQUZ-A=s64",
      "userId": "17372739142422056321"
     },
     "user_tz": -180
    },
    "id": "aKMW0bHd9vZq",
    "outputId": "5b9cb8d1-2bf9-4e32-c08a-0004a148aaa6"
   },
   "outputs": [
    {
     "data": {
      "text/plain": "            item_id       user_id\ncount  8.905100e+04  89051.000000\nmean   5.115772e+06     14.759767\nstd    5.178973e+06     45.904111\nmin    2.567100e+04      1.000000\n25%    9.665830e+05      1.000000\n50%    1.448516e+06      2.000000\n75%    9.553042e+06     10.000000\nmax    1.802456e+07   2039.000000",
      "text/html": "<div>\n<style scoped>\n    .dataframe tbody tr th:only-of-type {\n        vertical-align: middle;\n    }\n\n    .dataframe tbody tr th {\n        vertical-align: top;\n    }\n\n    .dataframe thead th {\n        text-align: right;\n    }\n</style>\n<table border=\"1\" class=\"dataframe\">\n  <thead>\n    <tr style=\"text-align: right;\">\n      <th></th>\n      <th>item_id</th>\n      <th>user_id</th>\n    </tr>\n  </thead>\n  <tbody>\n    <tr>\n      <th>count</th>\n      <td>8.905100e+04</td>\n      <td>89051.000000</td>\n    </tr>\n    <tr>\n      <th>mean</th>\n      <td>5.115772e+06</td>\n      <td>14.759767</td>\n    </tr>\n    <tr>\n      <th>std</th>\n      <td>5.178973e+06</td>\n      <td>45.904111</td>\n    </tr>\n    <tr>\n      <th>min</th>\n      <td>2.567100e+04</td>\n      <td>1.000000</td>\n    </tr>\n    <tr>\n      <th>25%</th>\n      <td>9.665830e+05</td>\n      <td>1.000000</td>\n    </tr>\n    <tr>\n      <th>50%</th>\n      <td>1.448516e+06</td>\n      <td>2.000000</td>\n    </tr>\n    <tr>\n      <th>75%</th>\n      <td>9.553042e+06</td>\n      <td>10.000000</td>\n    </tr>\n    <tr>\n      <th>max</th>\n      <td>1.802456e+07</td>\n      <td>2039.000000</td>\n    </tr>\n  </tbody>\n</table>\n</div>"
     },
     "execution_count": 6,
     "metadata": {},
     "output_type": "execute_result"
    }
   ],
   "source": [
    "popularity = data.groupby('item_id')['user_id'].nunique().reset_index()\n",
    "popularity.describe()"
   ]
  },
  {
   "cell_type": "code",
   "execution_count": 7,
   "metadata": {
    "id": "YcsOanje9vZt"
   },
   "outputs": [],
   "source": [
    "# train/test split\n",
    "test_size_weeks = 3\n",
    "\n",
    "data_train = data[data['week_no'] < data['week_no'].max() - test_size_weeks]\n",
    "data_test = data[data['week_no'] >= data['week_no'].max() - test_size_weeks]"
   ]
  },
  {
   "cell_type": "markdown",
   "metadata": {},
   "source": [
    "## prepare result frame"
   ]
  },
  {
   "cell_type": "code",
   "execution_count": 8,
   "metadata": {},
   "outputs": [
    {
     "data": {
      "text/plain": "   user_id                                             actual\n0        1  [821867, 834484, 856942, 865456, 889248, 90795...\n1        3  [835476, 851057, 872021, 878302, 879948, 90963...",
      "text/html": "<div>\n<style scoped>\n    .dataframe tbody tr th:only-of-type {\n        vertical-align: middle;\n    }\n\n    .dataframe tbody tr th {\n        vertical-align: top;\n    }\n\n    .dataframe thead th {\n        text-align: right;\n    }\n</style>\n<table border=\"1\" class=\"dataframe\">\n  <thead>\n    <tr style=\"text-align: right;\">\n      <th></th>\n      <th>user_id</th>\n      <th>actual</th>\n    </tr>\n  </thead>\n  <tbody>\n    <tr>\n      <th>0</th>\n      <td>1</td>\n      <td>[821867, 834484, 856942, 865456, 889248, 90795...</td>\n    </tr>\n    <tr>\n      <th>1</th>\n      <td>3</td>\n      <td>[835476, 851057, 872021, 878302, 879948, 90963...</td>\n    </tr>\n  </tbody>\n</table>\n</div>"
     },
     "execution_count": 8,
     "metadata": {},
     "output_type": "execute_result"
    }
   ],
   "source": [
    "# prepare result DataFrame\n",
    "result = data_test.groupby('user_id')['item_id'].unique().reset_index()\n",
    "result.columns=['user_id', 'actual']\n",
    "result.head(2)"
   ]
  },
  {
   "cell_type": "code",
   "execution_count": 9,
   "outputs": [
    {
     "name": "stdout",
     "output_type": "stream",
     "text": [
      "В тестовом дата сете 2042 юзеров\n",
      "В тестовом дата сете 0 новых юзеров\n"
     ]
    }
   ],
   "source": [
    "test_users = result.shape[0]\n",
    "new_test_users = len(set(data_test['user_id']) - set(data_train['user_id']))\n",
    "\n",
    "print('В тестовом дата сете {} юзеров'.format(test_users))\n",
    "print('В тестовом дата сете {} новых юзеров'.format(new_test_users))"
   ],
   "metadata": {
    "collapsed": false,
    "pycharm": {
     "name": "#%%\n"
    }
   }
  },
  {
   "cell_type": "markdown",
   "source": [
    "### prepare most popular top-K and pivot matrix"
   ],
   "metadata": {
    "collapsed": false
   }
  },
  {
   "cell_type": "code",
   "execution_count": 10,
   "outputs": [],
   "source": [
    "# Топ популярных товаров\n",
    "def k_popular(source, k=5000):\n",
    "    \"\"\" Топ K наиболее продаваемых товаров \"\"\"\n",
    "    popular = source.groupby('item_id')['quantity'].sum().reset_index()\n",
    "    return popular.sort_values('quantity', ascending=False).head(k).item_id.tolist()"
   ],
   "metadata": {
    "collapsed": false,
    "pycharm": {
     "name": "#%%\n"
    }
   }
  },
  {
   "cell_type": "code",
   "execution_count": 11,
   "outputs": [],
   "source": [
    "top_5000 = k_popular(data_train, k=5000)"
   ],
   "metadata": {
    "collapsed": false,
    "pycharm": {
     "name": "#%%\n"
    }
   }
  },
  {
   "cell_type": "code",
   "execution_count": 12,
   "outputs": [
    {
     "data": {
      "text/plain": "   user_id    basket_id  day  item_id  quantity  sales_value  store_id  \\\n0     2375  26984851472    1  1004906         1         1.39       364   \n1     2375  26984851472    1  1033142         1         0.82       364   \n2     2375  26984851472    1  1036325         1         0.99       364   \n3     2375  26984851472    1  1082185         1         1.21       364   \n4     2375  26984851472    1  8160430         1         1.50       364   \n\n   retail_disc  trans_time  week_no  coupon_disc  coupon_match_disc  \n0        -0.60        1631        1          0.0                0.0  \n1         0.00        1631        1          0.0                0.0  \n2        -0.30        1631        1          0.0                0.0  \n3         0.00        1631        1          0.0                0.0  \n4        -0.39        1631        1          0.0                0.0  ",
      "text/html": "<div>\n<style scoped>\n    .dataframe tbody tr th:only-of-type {\n        vertical-align: middle;\n    }\n\n    .dataframe tbody tr th {\n        vertical-align: top;\n    }\n\n    .dataframe thead th {\n        text-align: right;\n    }\n</style>\n<table border=\"1\" class=\"dataframe\">\n  <thead>\n    <tr style=\"text-align: right;\">\n      <th></th>\n      <th>user_id</th>\n      <th>basket_id</th>\n      <th>day</th>\n      <th>item_id</th>\n      <th>quantity</th>\n      <th>sales_value</th>\n      <th>store_id</th>\n      <th>retail_disc</th>\n      <th>trans_time</th>\n      <th>week_no</th>\n      <th>coupon_disc</th>\n      <th>coupon_match_disc</th>\n    </tr>\n  </thead>\n  <tbody>\n    <tr>\n      <th>0</th>\n      <td>2375</td>\n      <td>26984851472</td>\n      <td>1</td>\n      <td>1004906</td>\n      <td>1</td>\n      <td>1.39</td>\n      <td>364</td>\n      <td>-0.60</td>\n      <td>1631</td>\n      <td>1</td>\n      <td>0.0</td>\n      <td>0.0</td>\n    </tr>\n    <tr>\n      <th>1</th>\n      <td>2375</td>\n      <td>26984851472</td>\n      <td>1</td>\n      <td>1033142</td>\n      <td>1</td>\n      <td>0.82</td>\n      <td>364</td>\n      <td>0.00</td>\n      <td>1631</td>\n      <td>1</td>\n      <td>0.0</td>\n      <td>0.0</td>\n    </tr>\n    <tr>\n      <th>2</th>\n      <td>2375</td>\n      <td>26984851472</td>\n      <td>1</td>\n      <td>1036325</td>\n      <td>1</td>\n      <td>0.99</td>\n      <td>364</td>\n      <td>-0.30</td>\n      <td>1631</td>\n      <td>1</td>\n      <td>0.0</td>\n      <td>0.0</td>\n    </tr>\n    <tr>\n      <th>3</th>\n      <td>2375</td>\n      <td>26984851472</td>\n      <td>1</td>\n      <td>1082185</td>\n      <td>1</td>\n      <td>1.21</td>\n      <td>364</td>\n      <td>0.00</td>\n      <td>1631</td>\n      <td>1</td>\n      <td>0.0</td>\n      <td>0.0</td>\n    </tr>\n    <tr>\n      <th>4</th>\n      <td>2375</td>\n      <td>26984851472</td>\n      <td>1</td>\n      <td>8160430</td>\n      <td>1</td>\n      <td>1.50</td>\n      <td>364</td>\n      <td>-0.39</td>\n      <td>1631</td>\n      <td>1</td>\n      <td>0.0</td>\n      <td>0.0</td>\n    </tr>\n  </tbody>\n</table>\n</div>"
     },
     "execution_count": 12,
     "metadata": {},
     "output_type": "execute_result"
    }
   ],
   "source": [
    "# флаг, что товар не из топа\n",
    "top_train = data_train.copy()\n",
    "top_train.loc[~top_train['item_id'].isin(top_5000), 'item_id'] = -1\n",
    "\n",
    "top_train.head()"
   ],
   "metadata": {
    "collapsed": false,
    "pycharm": {
     "name": "#%%\n"
    }
   }
  },
  {
   "cell_type": "code",
   "execution_count": 13,
   "outputs": [],
   "source": [
    "user_item_matrix = pd.pivot_table(top_train,\n",
    "                                  index='user_id',\n",
    "                                  columns='item_id',\n",
    "                                  values='quantity',\n",
    "                                  aggfunc='count',\n",
    "                                  fill_value=0\n",
    "                                 )\n",
    "\n",
    "# user_item_matrix[-1] = 0        # эти товары не в топе. Это выключит фиктивное предсказание\n",
    "user_item_matrix[user_item_matrix > 0] = 1\n",
    "user_item_matrix = user_item_matrix.astype(float)\n",
    "\n",
    "# переведем в формат sparse matrix\n",
    "sparse_user_item = csr_matrix(user_item_matrix).tocsr()"
   ],
   "metadata": {
    "collapsed": false,
    "pycharm": {
     "name": "#%%\n"
    }
   }
  },
  {
   "cell_type": "code",
   "execution_count": 14,
   "outputs": [
    {
     "data": {
      "text/plain": "item_id  -1          202291     397896     420647     480014     545926    \\\nuser_id                                                                     \n1              1.0        0.0        0.0        0.0        0.0        0.0   \n2              1.0        0.0        0.0        0.0        0.0        0.0   \n3              1.0        0.0        0.0        0.0        0.0        0.0   \n4              1.0        0.0        0.0        0.0        0.0        0.0   \n5              1.0        0.0        0.0        0.0        0.0        0.0   \n\nitem_id   707683     731106     818980     819063    ...   15778533  \\\nuser_id                                              ...              \n1              0.0        0.0        0.0        0.0  ...        0.0   \n2              0.0        0.0        0.0        0.0  ...        0.0   \n3              0.0        0.0        0.0        0.0  ...        0.0   \n4              0.0        0.0        0.0        0.0  ...        0.0   \n5              0.0        0.0        0.0        0.0  ...        0.0   \n\nitem_id   15831255   15926712   15926775   15926844   15926886   15927403  \\\nuser_id                                                                     \n1              0.0        0.0        0.0        1.0        0.0        0.0   \n2              0.0        0.0        0.0        0.0        0.0        0.0   \n3              0.0        0.0        0.0        0.0        0.0        0.0   \n4              0.0        0.0        0.0        0.0        0.0        0.0   \n5              0.0        0.0        0.0        0.0        0.0        0.0   \n\nitem_id   15927661   15927850   16809471  \nuser_id                                   \n1              0.0        0.0        0.0  \n2              0.0        0.0        0.0  \n3              0.0        0.0        0.0  \n4              0.0        0.0        0.0  \n5              0.0        0.0        0.0  \n\n[5 rows x 5001 columns]",
      "text/html": "<div>\n<style scoped>\n    .dataframe tbody tr th:only-of-type {\n        vertical-align: middle;\n    }\n\n    .dataframe tbody tr th {\n        vertical-align: top;\n    }\n\n    .dataframe thead th {\n        text-align: right;\n    }\n</style>\n<table border=\"1\" class=\"dataframe\">\n  <thead>\n    <tr style=\"text-align: right;\">\n      <th>item_id</th>\n      <th>-1</th>\n      <th>202291</th>\n      <th>397896</th>\n      <th>420647</th>\n      <th>480014</th>\n      <th>545926</th>\n      <th>707683</th>\n      <th>731106</th>\n      <th>818980</th>\n      <th>819063</th>\n      <th>...</th>\n      <th>15778533</th>\n      <th>15831255</th>\n      <th>15926712</th>\n      <th>15926775</th>\n      <th>15926844</th>\n      <th>15926886</th>\n      <th>15927403</th>\n      <th>15927661</th>\n      <th>15927850</th>\n      <th>16809471</th>\n    </tr>\n    <tr>\n      <th>user_id</th>\n      <th></th>\n      <th></th>\n      <th></th>\n      <th></th>\n      <th></th>\n      <th></th>\n      <th></th>\n      <th></th>\n      <th></th>\n      <th></th>\n      <th></th>\n      <th></th>\n      <th></th>\n      <th></th>\n      <th></th>\n      <th></th>\n      <th></th>\n      <th></th>\n      <th></th>\n      <th></th>\n      <th></th>\n    </tr>\n  </thead>\n  <tbody>\n    <tr>\n      <th>1</th>\n      <td>1.0</td>\n      <td>0.0</td>\n      <td>0.0</td>\n      <td>0.0</td>\n      <td>0.0</td>\n      <td>0.0</td>\n      <td>0.0</td>\n      <td>0.0</td>\n      <td>0.0</td>\n      <td>0.0</td>\n      <td>...</td>\n      <td>0.0</td>\n      <td>0.0</td>\n      <td>0.0</td>\n      <td>0.0</td>\n      <td>1.0</td>\n      <td>0.0</td>\n      <td>0.0</td>\n      <td>0.0</td>\n      <td>0.0</td>\n      <td>0.0</td>\n    </tr>\n    <tr>\n      <th>2</th>\n      <td>1.0</td>\n      <td>0.0</td>\n      <td>0.0</td>\n      <td>0.0</td>\n      <td>0.0</td>\n      <td>0.0</td>\n      <td>0.0</td>\n      <td>0.0</td>\n      <td>0.0</td>\n      <td>0.0</td>\n      <td>...</td>\n      <td>0.0</td>\n      <td>0.0</td>\n      <td>0.0</td>\n      <td>0.0</td>\n      <td>0.0</td>\n      <td>0.0</td>\n      <td>0.0</td>\n      <td>0.0</td>\n      <td>0.0</td>\n      <td>0.0</td>\n    </tr>\n    <tr>\n      <th>3</th>\n      <td>1.0</td>\n      <td>0.0</td>\n      <td>0.0</td>\n      <td>0.0</td>\n      <td>0.0</td>\n      <td>0.0</td>\n      <td>0.0</td>\n      <td>0.0</td>\n      <td>0.0</td>\n      <td>0.0</td>\n      <td>...</td>\n      <td>0.0</td>\n      <td>0.0</td>\n      <td>0.0</td>\n      <td>0.0</td>\n      <td>0.0</td>\n      <td>0.0</td>\n      <td>0.0</td>\n      <td>0.0</td>\n      <td>0.0</td>\n      <td>0.0</td>\n    </tr>\n    <tr>\n      <th>4</th>\n      <td>1.0</td>\n      <td>0.0</td>\n      <td>0.0</td>\n      <td>0.0</td>\n      <td>0.0</td>\n      <td>0.0</td>\n      <td>0.0</td>\n      <td>0.0</td>\n      <td>0.0</td>\n      <td>0.0</td>\n      <td>...</td>\n      <td>0.0</td>\n      <td>0.0</td>\n      <td>0.0</td>\n      <td>0.0</td>\n      <td>0.0</td>\n      <td>0.0</td>\n      <td>0.0</td>\n      <td>0.0</td>\n      <td>0.0</td>\n      <td>0.0</td>\n    </tr>\n    <tr>\n      <th>5</th>\n      <td>1.0</td>\n      <td>0.0</td>\n      <td>0.0</td>\n      <td>0.0</td>\n      <td>0.0</td>\n      <td>0.0</td>\n      <td>0.0</td>\n      <td>0.0</td>\n      <td>0.0</td>\n      <td>0.0</td>\n      <td>...</td>\n      <td>0.0</td>\n      <td>0.0</td>\n      <td>0.0</td>\n      <td>0.0</td>\n      <td>0.0</td>\n      <td>0.0</td>\n      <td>0.0</td>\n      <td>0.0</td>\n      <td>0.0</td>\n      <td>0.0</td>\n    </tr>\n  </tbody>\n</table>\n<p>5 rows × 5001 columns</p>\n</div>"
     },
     "execution_count": 14,
     "metadata": {},
     "output_type": "execute_result"
    }
   ],
   "source": [
    "user_item_matrix.head()"
   ],
   "metadata": {
    "collapsed": false,
    "pycharm": {
     "name": "#%%\n"
    }
   }
  },
  {
   "cell_type": "code",
   "execution_count": 15,
   "outputs": [],
   "source": [
    "# remap dictionaries\n",
    "id_to_itemid = dict(enumerate(user_item_matrix.columns.values))\n",
    "id_to_userid = dict(enumerate(user_item_matrix.index.values))\n",
    "\n",
    "itemid_to_id = {v: k for k, v in id_to_itemid.items()}\n",
    "userid_to_id = {v: k for k, v in id_to_userid.items()}"
   ],
   "metadata": {
    "collapsed": false,
    "pycharm": {
     "name": "#%%\n"
    }
   }
  },
  {
   "cell_type": "markdown",
   "source": [
    "## 1. Baselines"
   ],
   "metadata": {
    "collapsed": false
   }
  },
  {
   "cell_type": "markdown",
   "source": [
    "### 1.1 Random recommendation"
   ],
   "metadata": {
    "collapsed": false
   }
  },
  {
   "cell_type": "code",
   "execution_count": 16,
   "outputs": [],
   "source": [
    "def random_recommendation(_items, n=5):\n",
    "    \"\"\"Случайные рекоммендации\"\"\"\n",
    "    _items = np.array(_items)\n",
    "    _recs = np.random.default_rng().choice(items, size=n, replace=False)\n",
    "    return _recs.tolist()"
   ],
   "metadata": {
    "collapsed": false,
    "pycharm": {
     "name": "#%%\n"
    }
   }
  },
  {
   "cell_type": "code",
   "execution_count": 17,
   "outputs": [
    {
     "name": "stdout",
     "output_type": "stream",
     "text": [
      "CPU times: user 239 ms, sys: 516 µs, total: 240 ms\n",
      "Wall time: 239 ms\n"
     ]
    },
    {
     "data": {
      "text/plain": "   user_id                                             actual  \\\n0        1  [821867, 834484, 856942, 865456, 889248, 90795...   \n1        3  [835476, 851057, 872021, 878302, 879948, 90963...   \n2        6  [920308, 926804, 946489, 1006718, 1017061, 107...   \n\n                                              random  \n0       [6765147, 6919311, 866563, 8157124, 1369788]  \n1  [13509953, 15972928, 9368307, 12351789, 15740820]  \n2     [42762, 14025623, 9420146, 10149761, 13944610]  ",
      "text/html": "<div>\n<style scoped>\n    .dataframe tbody tr th:only-of-type {\n        vertical-align: middle;\n    }\n\n    .dataframe tbody tr th {\n        vertical-align: top;\n    }\n\n    .dataframe thead th {\n        text-align: right;\n    }\n</style>\n<table border=\"1\" class=\"dataframe\">\n  <thead>\n    <tr style=\"text-align: right;\">\n      <th></th>\n      <th>user_id</th>\n      <th>actual</th>\n      <th>random</th>\n    </tr>\n  </thead>\n  <tbody>\n    <tr>\n      <th>0</th>\n      <td>1</td>\n      <td>[821867, 834484, 856942, 865456, 889248, 90795...</td>\n      <td>[6765147, 6919311, 866563, 8157124, 1369788]</td>\n    </tr>\n    <tr>\n      <th>1</th>\n      <td>3</td>\n      <td>[835476, 851057, 872021, 878302, 879948, 90963...</td>\n      <td>[13509953, 15972928, 9368307, 12351789, 15740820]</td>\n    </tr>\n    <tr>\n      <th>2</th>\n      <td>6</td>\n      <td>[920308, 926804, 946489, 1006718, 1017061, 107...</td>\n      <td>[42762, 14025623, 9420146, 10149761, 13944610]</td>\n    </tr>\n  </tbody>\n</table>\n</div>"
     },
     "execution_count": 17,
     "metadata": {},
     "output_type": "execute_result"
    }
   ],
   "source": [
    "%%time\n",
    "items = data_train.item_id.unique()\n",
    "result['random'] = result['user_id'].apply(lambda x: random_recommendation(items, n=5))\n",
    "result.head(3)"
   ],
   "metadata": {
    "collapsed": false,
    "pycharm": {
     "name": "#%%\n"
    }
   }
  },
  {
   "cell_type": "markdown",
   "source": [
    "### 1.2 Popularity-based recommendation"
   ],
   "metadata": {
    "collapsed": false
   }
  },
  {
   "cell_type": "code",
   "execution_count": 18,
   "outputs": [],
   "source": [
    "def popularity_recommendation(_data, n=5):\n",
    "    \"\"\"Топ-n популярных товаров\"\"\"\n",
    "    popular = _data.groupby('item_id')['sales_value'].sum().reset_index()\n",
    "    popular.sort_values('sales_value', ascending=False, inplace=True)\n",
    "    _recs = popular.head(n).item_id\n",
    "    return _recs.tolist()"
   ],
   "metadata": {
    "collapsed": false,
    "pycharm": {
     "name": "#%%\n"
    }
   }
  },
  {
   "cell_type": "code",
   "execution_count": 19,
   "outputs": [
    {
     "name": "stdout",
     "output_type": "stream",
     "text": [
      "CPU times: user 126 ms, sys: 3.69 ms, total: 130 ms\n",
      "Wall time: 128 ms\n"
     ]
    },
    {
     "data": {
      "text/plain": "   user_id                                             actual  \\\n0        1  [821867, 834484, 856942, 865456, 889248, 90795...   \n1        3  [835476, 851057, 872021, 878302, 879948, 90963...   \n2        6  [920308, 926804, 946489, 1006718, 1017061, 107...   \n\n                                              random  \\\n0       [6765147, 6919311, 866563, 8157124, 1369788]   \n1  [13509953, 15972928, 9368307, 12351789, 15740820]   \n2     [42762, 14025623, 9420146, 10149761, 13944610]   \n\n                                    most_popular  \n0  [6534178, 6533889, 1029743, 6534166, 1082185]  \n1  [6534178, 6533889, 1029743, 6534166, 1082185]  \n2  [6534178, 6533889, 1029743, 6534166, 1082185]  ",
      "text/html": "<div>\n<style scoped>\n    .dataframe tbody tr th:only-of-type {\n        vertical-align: middle;\n    }\n\n    .dataframe tbody tr th {\n        vertical-align: top;\n    }\n\n    .dataframe thead th {\n        text-align: right;\n    }\n</style>\n<table border=\"1\" class=\"dataframe\">\n  <thead>\n    <tr style=\"text-align: right;\">\n      <th></th>\n      <th>user_id</th>\n      <th>actual</th>\n      <th>random</th>\n      <th>most_popular</th>\n    </tr>\n  </thead>\n  <tbody>\n    <tr>\n      <th>0</th>\n      <td>1</td>\n      <td>[821867, 834484, 856942, 865456, 889248, 90795...</td>\n      <td>[6765147, 6919311, 866563, 8157124, 1369788]</td>\n      <td>[6534178, 6533889, 1029743, 6534166, 1082185]</td>\n    </tr>\n    <tr>\n      <th>1</th>\n      <td>3</td>\n      <td>[835476, 851057, 872021, 878302, 879948, 90963...</td>\n      <td>[13509953, 15972928, 9368307, 12351789, 15740820]</td>\n      <td>[6534178, 6533889, 1029743, 6534166, 1082185]</td>\n    </tr>\n    <tr>\n      <th>2</th>\n      <td>6</td>\n      <td>[920308, 926804, 946489, 1006718, 1017061, 107...</td>\n      <td>[42762, 14025623, 9420146, 10149761, 13944610]</td>\n      <td>[6534178, 6533889, 1029743, 6534166, 1082185]</td>\n    </tr>\n  </tbody>\n</table>\n</div>"
     },
     "execution_count": 19,
     "metadata": {},
     "output_type": "execute_result"
    }
   ],
   "source": [
    "%%time\n",
    "# Можно так делать, так как рекомендация не зависит от юзера\n",
    "popular_recs = popularity_recommendation(data_train, n=5)\n",
    "result['most_popular'] = result['user_id'].apply(lambda x: popular_recs)\n",
    "result.head(3)"
   ],
   "metadata": {
    "collapsed": false,
    "pycharm": {
     "name": "#%%\n"
    }
   }
  },
  {
   "cell_type": "markdown",
   "source": [
    "### 1.3 Weighted random recommender"
   ],
   "metadata": {
    "collapsed": false
   }
  },
  {
   "cell_type": "code",
   "execution_count": 20,
   "outputs": [],
   "source": [
    "def weighted_random_recommendation(items_weights, n=5):\n",
    "    \"\"\"Случайные рекомендации\n",
    "\n",
    "    Input\n",
    "    -----\n",
    "    items_weights: pd.DataFrame\n",
    "        Датафрейм со столбцами item_id, weight. Сумма weight по всем товарам = 1\n",
    "    \"\"\"\n",
    "    _items = items_weights['item_id'].astype(int)\n",
    "    _weights = items_weights['weight'].astype(float)\n",
    "    _recs = np.random.default_rng().choice(_items, size=n, replace=False, p=_weights)\n",
    "    return _recs.tolist()"
   ],
   "metadata": {
    "collapsed": false,
    "pycharm": {
     "name": "#%%\n"
    }
   }
  },
  {
   "cell_type": "code",
   "execution_count": 21,
   "outputs": [],
   "source": [
    "# Товары можно ранжировать не только по суммарной стоимости, но еще и по количеству проданных единиц\n",
    "# т.о. в топ не попадут очень дорогие редко продаваемые товары\n",
    "# с другой стороны, попадут дешевые товары, которые покупаются в больших количествах\n",
    "# чтобы более-менее уравновесить эти параметры, их можно масштабировать\n",
    "\n",
    "def calc_weights(source: pd.DataFrame, vec_fields: List[str], beta: List[float]):\n",
    "    \"\"\" Расчет весов\n",
    "    :param source - исходные данные\n",
    "    :param vec_fields - признаки, используемые в измерении веса\n",
    "    :param beta - множитель для изменения значимости признака в оценке веса\n",
    "    \"\"\"\n",
    "    grouped_goods = source.groupby('item_id')[vec_fields].sum()\n",
    "    beta = np.array(beta)\n",
    "\n",
    "    # mean scale\n",
    "    scaled_grouped_goods = ((grouped_goods - grouped_goods.mean()) / grouped_goods.std()) * beta\n",
    "    # min-max scale\n",
    "    # scaled_grouped_goods = (grouped_goods - grouped_goods.min()) / (grouped_goods.max() - grouped_goods.min())\n",
    "    # sum scale\n",
    "    # scaled_grouped_goods = grouped_goods / grouped_goods.sum()\n",
    "\n",
    "    # в качестве веса товара берем нормализованную норму вектора товара\n",
    "    vec_norma = np.linalg.norm(scaled_grouped_goods, ord=2, axis=1)\n",
    "    grouped_goods['weight'] = vec_norma / vec_norma.sum()\n",
    "\n",
    "    return grouped_goods.sort_values('weight', ascending=False).reset_index()"
   ],
   "metadata": {
    "collapsed": false,
    "pycharm": {
     "name": "#%%\n"
    }
   }
  },
  {
   "cell_type": "code",
   "execution_count": 22,
   "outputs": [
    {
     "name": "stdout",
     "output_type": "stream",
     "text": [
      "CPU times: user 2.95 s, sys: 0 ns, total: 2.95 s\n",
      "Wall time: 2.95 s\n"
     ]
    },
    {
     "data": {
      "text/plain": "   user_id                                             actual  \\\n0        1  [821867, 834484, 856942, 865456, 889248, 90795...   \n1        3  [835476, 851057, 872021, 878302, 879948, 90963...   \n2        6  [920308, 926804, 946489, 1006718, 1017061, 107...   \n\n                                              random  \\\n0       [6765147, 6919311, 866563, 8157124, 1369788]   \n1  [13509953, 15972928, 9368307, 12351789, 15740820]   \n2     [42762, 14025623, 9420146, 10149761, 13944610]   \n\n                                    most_popular  \\\n0  [6534178, 6533889, 1029743, 6534166, 1082185]   \n1  [6534178, 6533889, 1029743, 6534166, 1082185]   \n2  [6534178, 6533889, 1029743, 6534166, 1082185]   \n\n                               weighted_random  \n0  [8293447, 893479, 1082185, 6906287, 970030]  \n1    [8098348, 951855, 824758, 875342, 846823]  \n2   [866835, 1100444, 972340, 6534178, 903325]  ",
      "text/html": "<div>\n<style scoped>\n    .dataframe tbody tr th:only-of-type {\n        vertical-align: middle;\n    }\n\n    .dataframe tbody tr th {\n        vertical-align: top;\n    }\n\n    .dataframe thead th {\n        text-align: right;\n    }\n</style>\n<table border=\"1\" class=\"dataframe\">\n  <thead>\n    <tr style=\"text-align: right;\">\n      <th></th>\n      <th>user_id</th>\n      <th>actual</th>\n      <th>random</th>\n      <th>most_popular</th>\n      <th>weighted_random</th>\n    </tr>\n  </thead>\n  <tbody>\n    <tr>\n      <th>0</th>\n      <td>1</td>\n      <td>[821867, 834484, 856942, 865456, 889248, 90795...</td>\n      <td>[6765147, 6919311, 866563, 8157124, 1369788]</td>\n      <td>[6534178, 6533889, 1029743, 6534166, 1082185]</td>\n      <td>[8293447, 893479, 1082185, 6906287, 970030]</td>\n    </tr>\n    <tr>\n      <th>1</th>\n      <td>3</td>\n      <td>[835476, 851057, 872021, 878302, 879948, 90963...</td>\n      <td>[13509953, 15972928, 9368307, 12351789, 15740820]</td>\n      <td>[6534178, 6533889, 1029743, 6534166, 1082185]</td>\n      <td>[8098348, 951855, 824758, 875342, 846823]</td>\n    </tr>\n    <tr>\n      <th>2</th>\n      <td>6</td>\n      <td>[920308, 926804, 946489, 1006718, 1017061, 107...</td>\n      <td>[42762, 14025623, 9420146, 10149761, 13944610]</td>\n      <td>[6534178, 6533889, 1029743, 6534166, 1082185]</td>\n      <td>[866835, 1100444, 972340, 6534178, 903325]</td>\n    </tr>\n  </tbody>\n</table>\n</div>"
     },
     "execution_count": 22,
     "metadata": {},
     "output_type": "execute_result"
    }
   ],
   "source": [
    "%%time\n",
    "weighted_goods = calc_weights(data_train, vec_fields = ['quantity', 'sales_value'], beta=[1., 1.])\n",
    "result['weighted_random'] = result['user_id'].apply(lambda x: weighted_random_recommendation(weighted_goods, n=5))\n",
    "result.head(3)"
   ],
   "metadata": {
    "collapsed": false,
    "pycharm": {
     "name": "#%%\n"
    }
   }
  },
  {
   "cell_type": "markdown",
   "source": [
    "### 1.4 Random from top-K"
   ],
   "metadata": {
    "collapsed": false
   }
  },
  {
   "cell_type": "code",
   "execution_count": 23,
   "outputs": [
    {
     "name": "stdout",
     "output_type": "stream",
     "text": [
      "CPU times: user 598 ms, sys: 3.89 ms, total: 602 ms\n",
      "Wall time: 599 ms\n"
     ]
    },
    {
     "data": {
      "text/plain": "   user_id                                             actual  \\\n0        1  [821867, 834484, 856942, 865456, 889248, 90795...   \n1        3  [835476, 851057, 872021, 878302, 879948, 90963...   \n2        6  [920308, 926804, 946489, 1006718, 1017061, 107...   \n\n                                              random  \\\n0       [6765147, 6919311, 866563, 8157124, 1369788]   \n1  [13509953, 15972928, 9368307, 12351789, 15740820]   \n2     [42762, 14025623, 9420146, 10149761, 13944610]   \n\n                                    most_popular  \\\n0  [6534178, 6533889, 1029743, 6534166, 1082185]   \n1  [6534178, 6533889, 1029743, 6534166, 1082185]   \n2  [6534178, 6533889, 1029743, 6534166, 1082185]   \n\n                               weighted_random  \\\n0  [8293447, 893479, 1082185, 6906287, 970030]   \n1    [8098348, 951855, 824758, 875342, 846823]   \n2   [866835, 1100444, 972340, 6534178, 903325]   \n\n                                 random_from_top  \n0  [893077, 902101, 12188666, 1000112, 10356370]  \n1   [7169043, 2025754, 737779, 13070699, 558755]  \n2   [8019082, 899653, 1180210, 1040313, 1999534]  ",
      "text/html": "<div>\n<style scoped>\n    .dataframe tbody tr th:only-of-type {\n        vertical-align: middle;\n    }\n\n    .dataframe tbody tr th {\n        vertical-align: top;\n    }\n\n    .dataframe thead th {\n        text-align: right;\n    }\n</style>\n<table border=\"1\" class=\"dataframe\">\n  <thead>\n    <tr style=\"text-align: right;\">\n      <th></th>\n      <th>user_id</th>\n      <th>actual</th>\n      <th>random</th>\n      <th>most_popular</th>\n      <th>weighted_random</th>\n      <th>random_from_top</th>\n    </tr>\n  </thead>\n  <tbody>\n    <tr>\n      <th>0</th>\n      <td>1</td>\n      <td>[821867, 834484, 856942, 865456, 889248, 90795...</td>\n      <td>[6765147, 6919311, 866563, 8157124, 1369788]</td>\n      <td>[6534178, 6533889, 1029743, 6534166, 1082185]</td>\n      <td>[8293447, 893479, 1082185, 6906287, 970030]</td>\n      <td>[893077, 902101, 12188666, 1000112, 10356370]</td>\n    </tr>\n    <tr>\n      <th>1</th>\n      <td>3</td>\n      <td>[835476, 851057, 872021, 878302, 879948, 90963...</td>\n      <td>[13509953, 15972928, 9368307, 12351789, 15740820]</td>\n      <td>[6534178, 6533889, 1029743, 6534166, 1082185]</td>\n      <td>[8098348, 951855, 824758, 875342, 846823]</td>\n      <td>[7169043, 2025754, 737779, 13070699, 558755]</td>\n    </tr>\n    <tr>\n      <th>2</th>\n      <td>6</td>\n      <td>[920308, 926804, 946489, 1006718, 1017061, 107...</td>\n      <td>[42762, 14025623, 9420146, 10149761, 13944610]</td>\n      <td>[6534178, 6533889, 1029743, 6534166, 1082185]</td>\n      <td>[866835, 1100444, 972340, 6534178, 903325]</td>\n      <td>[8019082, 899653, 1180210, 1040313, 1999534]</td>\n    </tr>\n  </tbody>\n</table>\n</div>"
     },
     "execution_count": 23,
     "metadata": {},
     "output_type": "execute_result"
    }
   ],
   "source": [
    "%%time\n",
    "result['random_from_top'] = result['user_id'].apply(lambda x: random_recommendation(top_5000, n=5))\n",
    "result.head(3)"
   ],
   "metadata": {
    "collapsed": false,
    "pycharm": {
     "name": "#%%\n"
    }
   }
  },
  {
   "cell_type": "markdown",
   "source": [
    "### 1.5 Weighted random from top-K"
   ],
   "metadata": {
    "collapsed": false
   }
  },
  {
   "cell_type": "code",
   "execution_count": 24,
   "outputs": [
    {
     "name": "stdout",
     "output_type": "stream",
     "text": [
      "CPU times: user 718 ms, sys: 15.7 ms, total: 734 ms\n",
      "Wall time: 733 ms\n"
     ]
    },
    {
     "data": {
      "text/plain": "   user_id                                             actual  \\\n0        1  [821867, 834484, 856942, 865456, 889248, 90795...   \n1        3  [835476, 851057, 872021, 878302, 879948, 90963...   \n2        6  [920308, 926804, 946489, 1006718, 1017061, 107...   \n\n                                              random  \\\n0       [6765147, 6919311, 866563, 8157124, 1369788]   \n1  [13509953, 15972928, 9368307, 12351789, 15740820]   \n2     [42762, 14025623, 9420146, 10149761, 13944610]   \n\n                                    most_popular  \\\n0  [6534178, 6533889, 1029743, 6534166, 1082185]   \n1  [6534178, 6533889, 1029743, 6534166, 1082185]   \n2  [6534178, 6533889, 1029743, 6534166, 1082185]   \n\n                               weighted_random  \\\n0  [8293447, 893479, 1082185, 6906287, 970030]   \n1    [8098348, 951855, 824758, 875342, 846823]   \n2   [866835, 1100444, 972340, 6534178, 903325]   \n\n                                 random_from_top  \\\n0  [893077, 902101, 12188666, 1000112, 10356370]   \n1   [7169043, 2025754, 737779, 13070699, 558755]   \n2   [8019082, 899653, 1180210, 1040313, 1999534]   \n\n                       weighted_random_from_top  \n0  [908318, 1116207, 6534178, 1099905, 1018600]  \n1     [971949, 863447, 6534178, 985999, 923746]  \n2    [825882, 898510, 982360, 6034857, 6534178]  ",
      "text/html": "<div>\n<style scoped>\n    .dataframe tbody tr th:only-of-type {\n        vertical-align: middle;\n    }\n\n    .dataframe tbody tr th {\n        vertical-align: top;\n    }\n\n    .dataframe thead th {\n        text-align: right;\n    }\n</style>\n<table border=\"1\" class=\"dataframe\">\n  <thead>\n    <tr style=\"text-align: right;\">\n      <th></th>\n      <th>user_id</th>\n      <th>actual</th>\n      <th>random</th>\n      <th>most_popular</th>\n      <th>weighted_random</th>\n      <th>random_from_top</th>\n      <th>weighted_random_from_top</th>\n    </tr>\n  </thead>\n  <tbody>\n    <tr>\n      <th>0</th>\n      <td>1</td>\n      <td>[821867, 834484, 856942, 865456, 889248, 90795...</td>\n      <td>[6765147, 6919311, 866563, 8157124, 1369788]</td>\n      <td>[6534178, 6533889, 1029743, 6534166, 1082185]</td>\n      <td>[8293447, 893479, 1082185, 6906287, 970030]</td>\n      <td>[893077, 902101, 12188666, 1000112, 10356370]</td>\n      <td>[908318, 1116207, 6534178, 1099905, 1018600]</td>\n    </tr>\n    <tr>\n      <th>1</th>\n      <td>3</td>\n      <td>[835476, 851057, 872021, 878302, 879948, 90963...</td>\n      <td>[13509953, 15972928, 9368307, 12351789, 15740820]</td>\n      <td>[6534178, 6533889, 1029743, 6534166, 1082185]</td>\n      <td>[8098348, 951855, 824758, 875342, 846823]</td>\n      <td>[7169043, 2025754, 737779, 13070699, 558755]</td>\n      <td>[971949, 863447, 6534178, 985999, 923746]</td>\n    </tr>\n    <tr>\n      <th>2</th>\n      <td>6</td>\n      <td>[920308, 926804, 946489, 1006718, 1017061, 107...</td>\n      <td>[42762, 14025623, 9420146, 10149761, 13944610]</td>\n      <td>[6534178, 6533889, 1029743, 6534166, 1082185]</td>\n      <td>[866835, 1100444, 972340, 6534178, 903325]</td>\n      <td>[8019082, 899653, 1180210, 1040313, 1999534]</td>\n      <td>[825882, 898510, 982360, 6034857, 6534178]</td>\n    </tr>\n  </tbody>\n</table>\n</div>"
     },
     "execution_count": 24,
     "metadata": {},
     "output_type": "execute_result"
    }
   ],
   "source": [
    "%%time\n",
    "top_weighted_goods = calc_weights(data_train[data_train['item_id'].isin(top_5000)], vec_fields = ['quantity', 'sales_value'], beta=[1., 1.])\n",
    "result['weighted_random_from_top'] = result['user_id'].apply(lambda x: weighted_random_recommendation(top_weighted_goods, n=5))\n",
    "result.head(3)"
   ],
   "metadata": {
    "collapsed": false,
    "pycharm": {
     "name": "#%%\n"
    }
   }
  },
  {
   "cell_type": "markdown",
   "source": [
    "## 2. Детерминированные алгоритмы item-item"
   ],
   "metadata": {
    "collapsed": false
   }
  },
  {
   "cell_type": "markdown",
   "source": [
    "### подготовка функции-рекомендателя"
   ],
   "metadata": {
    "collapsed": false
   }
  },
  {
   "cell_type": "code",
   "execution_count": 25,
   "metadata": {
    "id": "iLuh78DsEBow"
   },
   "outputs": [],
   "source": [
    "recommender_params = {\n",
    "    'user_items': sparse_user_item,\n",
    "    'N': 5, # кол-во рекомендаций\n",
    "    'filter_already_liked_items': False,\n",
    "    'filter_items': [itemid_to_id[-1]],\n",
    "    # 'recalculate_user': False       # из сорсов имплисита: recalculate_user is ignored because this is not a model based algorithm\n",
    "}\n",
    "\n",
    "def recommender(user_id, mdl, params):\n",
    "    rec_score = mdl.recommend(userid_to_id[user_id], **params)\n",
    "    return [id_to_itemid[rec[0]] for rec in rec_score]\n"
   ]
  },
  {
   "cell_type": "markdown",
   "source": [
    "### 2.1 Item-Item Recommender / ItemKNN"
   ],
   "metadata": {
    "collapsed": false
   }
  },
  {
   "cell_type": "code",
   "execution_count": 26,
   "outputs": [
    {
     "data": {
      "text/plain": "  0%|          | 0/5001 [00:00<?, ?it/s]",
      "application/vnd.jupyter.widget-view+json": {
       "version_major": 2,
       "version_minor": 0,
       "model_id": "6d239e24d24d44508831c63948b1dbcc"
      }
     },
     "metadata": {},
     "output_type": "display_data"
    },
    {
     "name": "stdout",
     "output_type": "stream",
     "text": [
      "CPU times: user 1.74 s, sys: 22.9 ms, total: 1.76 s\n",
      "Wall time: 304 ms\n"
     ]
    }
   ],
   "source": [
    "%%time\n",
    "model = ItemItemRecommender(K=5, num_threads=0) # K - кол-во ближайших соседей\n",
    "model.fit(sparse_user_item.T, show_progress=True)"
   ],
   "metadata": {
    "collapsed": false,
    "pycharm": {
     "name": "#%%\n"
    }
   }
  },
  {
   "cell_type": "code",
   "execution_count": 27,
   "metadata": {
    "colab": {
     "base_uri": "https://localhost:8080/"
    },
    "executionInfo": {
     "elapsed": 285,
     "status": "ok",
     "timestamp": 1639304040608,
     "user": {
      "displayName": "Николай -",
      "photoUrl": "https://lh3.googleusercontent.com/a-/AOh14GiCS90olAsBznR3WLZOaJ5ukcv2LPYBRWvHEQUZ-A=s64",
      "userId": "17372739142422056321"
     },
     "user_tz": -180
    },
    "id": "2x6k4S0b9vZ5",
    "outputId": "6fb0b913-dc51-4b4b-9996-2df5b926fe31"
   },
   "outputs": [
    {
     "name": "stdout",
     "output_type": "stream",
     "text": [
      "CPU times: user 139 ms, sys: 182 µs, total: 139 ms\n",
      "Wall time: 79.8 ms\n"
     ]
    },
    {
     "data": {
      "text/plain": "   user_id                                             actual  \\\n0        1  [821867, 834484, 856942, 865456, 889248, 90795...   \n1        3  [835476, 851057, 872021, 878302, 879948, 90963...   \n2        6  [920308, 926804, 946489, 1006718, 1017061, 107...   \n\n                                              random  \\\n0       [6765147, 6919311, 866563, 8157124, 1369788]   \n1  [13509953, 15972928, 9368307, 12351789, 15740820]   \n2     [42762, 14025623, 9420146, 10149761, 13944610]   \n\n                                    most_popular  \\\n0  [6534178, 6533889, 1029743, 6534166, 1082185]   \n1  [6534178, 6533889, 1029743, 6534166, 1082185]   \n2  [6534178, 6533889, 1029743, 6534166, 1082185]   \n\n                               weighted_random  \\\n0  [8293447, 893479, 1082185, 6906287, 970030]   \n1    [8098348, 951855, 824758, 875342, 846823]   \n2   [866835, 1100444, 972340, 6534178, 903325]   \n\n                                 random_from_top  \\\n0  [893077, 902101, 12188666, 1000112, 10356370]   \n1   [7169043, 2025754, 737779, 13070699, 558755]   \n2   [8019082, 899653, 1180210, 1040313, 1999534]   \n\n                       weighted_random_from_top  \\\n0  [908318, 1116207, 6534178, 1099905, 1018600]   \n1     [971949, 863447, 6534178, 985999, 923746]   \n2    [825882, 898510, 982360, 6034857, 6534178]   \n\n                                      item_knn  \n0  [1082185, 981760, 1127831, 995242, 1098066]  \n1   [1082185, 981760, 1098066, 995242, 826249]  \n2  [1082185, 981760, 1127831, 995242, 1098066]  ",
      "text/html": "<div>\n<style scoped>\n    .dataframe tbody tr th:only-of-type {\n        vertical-align: middle;\n    }\n\n    .dataframe tbody tr th {\n        vertical-align: top;\n    }\n\n    .dataframe thead th {\n        text-align: right;\n    }\n</style>\n<table border=\"1\" class=\"dataframe\">\n  <thead>\n    <tr style=\"text-align: right;\">\n      <th></th>\n      <th>user_id</th>\n      <th>actual</th>\n      <th>random</th>\n      <th>most_popular</th>\n      <th>weighted_random</th>\n      <th>random_from_top</th>\n      <th>weighted_random_from_top</th>\n      <th>item_knn</th>\n    </tr>\n  </thead>\n  <tbody>\n    <tr>\n      <th>0</th>\n      <td>1</td>\n      <td>[821867, 834484, 856942, 865456, 889248, 90795...</td>\n      <td>[6765147, 6919311, 866563, 8157124, 1369788]</td>\n      <td>[6534178, 6533889, 1029743, 6534166, 1082185]</td>\n      <td>[8293447, 893479, 1082185, 6906287, 970030]</td>\n      <td>[893077, 902101, 12188666, 1000112, 10356370]</td>\n      <td>[908318, 1116207, 6534178, 1099905, 1018600]</td>\n      <td>[1082185, 981760, 1127831, 995242, 1098066]</td>\n    </tr>\n    <tr>\n      <th>1</th>\n      <td>3</td>\n      <td>[835476, 851057, 872021, 878302, 879948, 90963...</td>\n      <td>[13509953, 15972928, 9368307, 12351789, 15740820]</td>\n      <td>[6534178, 6533889, 1029743, 6534166, 1082185]</td>\n      <td>[8098348, 951855, 824758, 875342, 846823]</td>\n      <td>[7169043, 2025754, 737779, 13070699, 558755]</td>\n      <td>[971949, 863447, 6534178, 985999, 923746]</td>\n      <td>[1082185, 981760, 1098066, 995242, 826249]</td>\n    </tr>\n    <tr>\n      <th>2</th>\n      <td>6</td>\n      <td>[920308, 926804, 946489, 1006718, 1017061, 107...</td>\n      <td>[42762, 14025623, 9420146, 10149761, 13944610]</td>\n      <td>[6534178, 6533889, 1029743, 6534166, 1082185]</td>\n      <td>[866835, 1100444, 972340, 6534178, 903325]</td>\n      <td>[8019082, 899653, 1180210, 1040313, 1999534]</td>\n      <td>[825882, 898510, 982360, 6034857, 6534178]</td>\n      <td>[1082185, 981760, 1127831, 995242, 1098066]</td>\n    </tr>\n  </tbody>\n</table>\n</div>"
     },
     "execution_count": 27,
     "metadata": {},
     "output_type": "execute_result"
    }
   ],
   "source": [
    "%%time\n",
    "result['item_knn'] = result['user_id'].apply(partial(recommender, mdl=model, params=recommender_params))\n",
    "result.head(3)"
   ]
  },
  {
   "cell_type": "markdown",
   "metadata": {
    "id": "mR05hf9n9vZ6"
   },
   "source": [
    "### 2.2 Косинусное сходство и CosineRecommender"
   ]
  },
  {
   "cell_type": "code",
   "execution_count": 28,
   "metadata": {
    "colab": {
     "base_uri": "https://localhost:8080/",
     "height": 83,
     "referenced_widgets": [
      "d53900b28f1a4a2997b8eef5184b7a1d",
      "18b1c5dd9b9c457a813fc62b94014298",
      "f2a07b219cfa49eba992d109e2091445",
      "b11ca4f2601d4f76979d576f5672d6d8",
      "59b2bc20c9524bd89b28c31ceb8b758f",
      "df55c2a2a6f64d89b55fab63b9301949",
      "e53fdcd3aa5b4660aadd6c97373e9b4c",
      "b9946f999c67477f83a09fe351d7e33b",
      "39c1b8c5d7214f4ea8aebbc4e84a3e8b",
      "66749085f4144dad9b4b1b87d396ca88",
      "a0ce05fbf2c14afaace3df10cb13be89"
     ]
    },
    "executionInfo": {
     "elapsed": 2858,
     "status": "ok",
     "timestamp": 1639304409237,
     "user": {
      "displayName": "Николай -",
      "photoUrl": "https://lh3.googleusercontent.com/a-/AOh14GiCS90olAsBznR3WLZOaJ5ukcv2LPYBRWvHEQUZ-A=s64",
      "userId": "17372739142422056321"
     },
     "user_tz": -180
    },
    "id": "fGEj5yjz9vZ6",
    "outputId": "fe54a561-3a0b-40af-ffb4-f01a2b7a5448"
   },
   "outputs": [
    {
     "data": {
      "text/plain": "  0%|          | 0/5001 [00:00<?, ?it/s]",
      "application/vnd.jupyter.widget-view+json": {
       "version_major": 2,
       "version_minor": 0,
       "model_id": "812f861988154e239f650880529234f4"
      }
     },
     "metadata": {},
     "output_type": "display_data"
    },
    {
     "name": "stdout",
     "output_type": "stream",
     "text": [
      "CPU times: user 1.82 s, sys: 13.8 ms, total: 1.83 s\n",
      "Wall time: 354 ms\n"
     ]
    }
   ],
   "source": [
    "%%time\n",
    "model = CosineRecommender(K=5, num_threads=0)\n",
    "model.fit(sparse_user_item.T, show_progress=True)"
   ]
  },
  {
   "cell_type": "code",
   "execution_count": 29,
   "metadata": {
    "colab": {
     "base_uri": "https://localhost:8080/"
    },
    "executionInfo": {
     "elapsed": 1058,
     "status": "ok",
     "timestamp": 1639304417985,
     "user": {
      "displayName": "Николай -",
      "photoUrl": "https://lh3.googleusercontent.com/a-/AOh14GiCS90olAsBznR3WLZOaJ5ukcv2LPYBRWvHEQUZ-A=s64",
      "userId": "17372739142422056321"
     },
     "user_tz": -180
    },
    "id": "Hz-bZN-G9vZ7",
    "outputId": "5864552a-1022-4d9d-b208-8c97cf13c3c9"
   },
   "outputs": [
    {
     "name": "stdout",
     "output_type": "stream",
     "text": [
      "CPU times: user 144 ms, sys: 4.29 ms, total: 148 ms\n",
      "Wall time: 99.5 ms\n"
     ]
    },
    {
     "data": {
      "text/plain": "   user_id                                             actual  \\\n0        1  [821867, 834484, 856942, 865456, 889248, 90795...   \n1        3  [835476, 851057, 872021, 878302, 879948, 90963...   \n2        6  [920308, 926804, 946489, 1006718, 1017061, 107...   \n\n                                              random  \\\n0       [6765147, 6919311, 866563, 8157124, 1369788]   \n1  [13509953, 15972928, 9368307, 12351789, 15740820]   \n2     [42762, 14025623, 9420146, 10149761, 13944610]   \n\n                                    most_popular  \\\n0  [6534178, 6533889, 1029743, 6534166, 1082185]   \n1  [6534178, 6533889, 1029743, 6534166, 1082185]   \n2  [6534178, 6533889, 1029743, 6534166, 1082185]   \n\n                               weighted_random  \\\n0  [8293447, 893479, 1082185, 6906287, 970030]   \n1    [8098348, 951855, 824758, 875342, 846823]   \n2   [866835, 1100444, 972340, 6534178, 903325]   \n\n                                 random_from_top  \\\n0  [893077, 902101, 12188666, 1000112, 10356370]   \n1   [7169043, 2025754, 737779, 13070699, 558755]   \n2   [8019082, 899653, 1180210, 1040313, 1999534]   \n\n                       weighted_random_from_top  \\\n0  [908318, 1116207, 6534178, 1099905, 1018600]   \n1     [971949, 863447, 6534178, 985999, 923746]   \n2    [825882, 898510, 982360, 6034857, 6534178]   \n\n                                      item_knn  \\\n0  [1082185, 981760, 1127831, 995242, 1098066]   \n1   [1082185, 981760, 1098066, 995242, 826249]   \n2  [1082185, 981760, 1127831, 995242, 1098066]   \n\n                                        cosine  \n0  [1082185, 981760, 1127831, 1098066, 961554]  \n1   [1082185, 1098066, 981760, 826249, 883404]  \n2  [1082185, 981760, 1127831, 1098066, 961554]  ",
      "text/html": "<div>\n<style scoped>\n    .dataframe tbody tr th:only-of-type {\n        vertical-align: middle;\n    }\n\n    .dataframe tbody tr th {\n        vertical-align: top;\n    }\n\n    .dataframe thead th {\n        text-align: right;\n    }\n</style>\n<table border=\"1\" class=\"dataframe\">\n  <thead>\n    <tr style=\"text-align: right;\">\n      <th></th>\n      <th>user_id</th>\n      <th>actual</th>\n      <th>random</th>\n      <th>most_popular</th>\n      <th>weighted_random</th>\n      <th>random_from_top</th>\n      <th>weighted_random_from_top</th>\n      <th>item_knn</th>\n      <th>cosine</th>\n    </tr>\n  </thead>\n  <tbody>\n    <tr>\n      <th>0</th>\n      <td>1</td>\n      <td>[821867, 834484, 856942, 865456, 889248, 90795...</td>\n      <td>[6765147, 6919311, 866563, 8157124, 1369788]</td>\n      <td>[6534178, 6533889, 1029743, 6534166, 1082185]</td>\n      <td>[8293447, 893479, 1082185, 6906287, 970030]</td>\n      <td>[893077, 902101, 12188666, 1000112, 10356370]</td>\n      <td>[908318, 1116207, 6534178, 1099905, 1018600]</td>\n      <td>[1082185, 981760, 1127831, 995242, 1098066]</td>\n      <td>[1082185, 981760, 1127831, 1098066, 961554]</td>\n    </tr>\n    <tr>\n      <th>1</th>\n      <td>3</td>\n      <td>[835476, 851057, 872021, 878302, 879948, 90963...</td>\n      <td>[13509953, 15972928, 9368307, 12351789, 15740820]</td>\n      <td>[6534178, 6533889, 1029743, 6534166, 1082185]</td>\n      <td>[8098348, 951855, 824758, 875342, 846823]</td>\n      <td>[7169043, 2025754, 737779, 13070699, 558755]</td>\n      <td>[971949, 863447, 6534178, 985999, 923746]</td>\n      <td>[1082185, 981760, 1098066, 995242, 826249]</td>\n      <td>[1082185, 1098066, 981760, 826249, 883404]</td>\n    </tr>\n    <tr>\n      <th>2</th>\n      <td>6</td>\n      <td>[920308, 926804, 946489, 1006718, 1017061, 107...</td>\n      <td>[42762, 14025623, 9420146, 10149761, 13944610]</td>\n      <td>[6534178, 6533889, 1029743, 6534166, 1082185]</td>\n      <td>[866835, 1100444, 972340, 6534178, 903325]</td>\n      <td>[8019082, 899653, 1180210, 1040313, 1999534]</td>\n      <td>[825882, 898510, 982360, 6034857, 6534178]</td>\n      <td>[1082185, 981760, 1127831, 995242, 1098066]</td>\n      <td>[1082185, 981760, 1127831, 1098066, 961554]</td>\n    </tr>\n  </tbody>\n</table>\n</div>"
     },
     "execution_count": 29,
     "metadata": {},
     "output_type": "execute_result"
    }
   ],
   "source": [
    "%%time\n",
    "result['cosine'] = result['user_id'].apply(partial(recommender, mdl=model, params=recommender_params))\n",
    "result.head(3)"
   ]
  },
  {
   "cell_type": "markdown",
   "metadata": {
    "id": "Vj7U9ZRc9vZ8"
   },
   "source": [
    "### 2.3 TF-IDF взвешивание и TFIDFRecommender"
   ]
  },
  {
   "cell_type": "code",
   "execution_count": 30,
   "metadata": {
    "colab": {
     "base_uri": "https://localhost:8080/",
     "height": 83,
     "referenced_widgets": [
      "cfec0af668844031ae87448b88ad70af",
      "294d039f558846a7a1fccb2b940ad4aa",
      "c7f30dce2f4f492ba382726159859b90",
      "134c5404c529448f842917125a277e0d",
      "64f50a70a9594ce889cc645643063dd3",
      "e9e77d4cef364d38a192c58817577d66",
      "bac0443395d842d89c5cacf38f998c02",
      "7831a21d238a4a1da14d102580ebdf78",
      "abf7361c73a44563bd2e30141668af2e",
      "4fe62e1e21fd4d64b32050632eeb0d59",
      "0993f1cd4f0c4a928b2b8d1a3a160dba"
     ]
    },
    "executionInfo": {
     "elapsed": 2362,
     "status": "ok",
     "timestamp": 1639304680446,
     "user": {
      "displayName": "Николай -",
      "photoUrl": "https://lh3.googleusercontent.com/a-/AOh14GiCS90olAsBznR3WLZOaJ5ukcv2LPYBRWvHEQUZ-A=s64",
      "userId": "17372739142422056321"
     },
     "user_tz": -180
    },
    "id": "aRaqTtIz9vZ8",
    "outputId": "1e6cf249-1225-4bdb-a9b2-a9cf68c2b77b"
   },
   "outputs": [
    {
     "data": {
      "text/plain": "  0%|          | 0/5001 [00:00<?, ?it/s]",
      "application/vnd.jupyter.widget-view+json": {
       "version_major": 2,
       "version_minor": 0,
       "model_id": "a225b6299fc34ae89132693c6d2043d0"
      }
     },
     "metadata": {},
     "output_type": "display_data"
    },
    {
     "name": "stdout",
     "output_type": "stream",
     "text": [
      "CPU times: user 1.77 s, sys: 7.39 ms, total: 1.77 s\n",
      "Wall time: 326 ms\n"
     ]
    }
   ],
   "source": [
    "%%time\n",
    "model = TFIDFRecommender(K=5, num_threads=0)\n",
    "model.fit(sparse_user_item.T, show_progress=True)"
   ]
  },
  {
   "cell_type": "code",
   "execution_count": 31,
   "outputs": [
    {
     "name": "stdout",
     "output_type": "stream",
     "text": [
      "CPU times: user 128 ms, sys: 3.99 ms, total: 132 ms\n",
      "Wall time: 96.1 ms\n"
     ]
    },
    {
     "data": {
      "text/plain": "   user_id                                             actual  \\\n0        1  [821867, 834484, 856942, 865456, 889248, 90795...   \n1        3  [835476, 851057, 872021, 878302, 879948, 90963...   \n2        6  [920308, 926804, 946489, 1006718, 1017061, 107...   \n\n                                              random  \\\n0       [6765147, 6919311, 866563, 8157124, 1369788]   \n1  [13509953, 15972928, 9368307, 12351789, 15740820]   \n2     [42762, 14025623, 9420146, 10149761, 13944610]   \n\n                                    most_popular  \\\n0  [6534178, 6533889, 1029743, 6534166, 1082185]   \n1  [6534178, 6533889, 1029743, 6534166, 1082185]   \n2  [6534178, 6533889, 1029743, 6534166, 1082185]   \n\n                               weighted_random  \\\n0  [8293447, 893479, 1082185, 6906287, 970030]   \n1    [8098348, 951855, 824758, 875342, 846823]   \n2   [866835, 1100444, 972340, 6534178, 903325]   \n\n                                 random_from_top  \\\n0  [893077, 902101, 12188666, 1000112, 10356370]   \n1   [7169043, 2025754, 737779, 13070699, 558755]   \n2   [8019082, 899653, 1180210, 1040313, 1999534]   \n\n                       weighted_random_from_top  \\\n0  [908318, 1116207, 6534178, 1099905, 1018600]   \n1     [971949, 863447, 6534178, 985999, 923746]   \n2    [825882, 898510, 982360, 6034857, 6534178]   \n\n                                      item_knn  \\\n0  [1082185, 981760, 1127831, 995242, 1098066]   \n1   [1082185, 981760, 1098066, 995242, 826249]   \n2  [1082185, 981760, 1127831, 995242, 1098066]   \n\n                                        cosine  \\\n0  [1082185, 981760, 1127831, 1098066, 961554]   \n1   [1082185, 1098066, 981760, 826249, 883404]   \n2  [1082185, 981760, 1127831, 1098066, 961554]   \n\n                                         tfidf  \n0  [1082185, 981760, 1127831, 1098066, 961554]  \n1   [1082185, 981760, 1098066, 826249, 883404]  \n2   [1082185, 981760, 1127831, 878996, 961554]  ",
      "text/html": "<div>\n<style scoped>\n    .dataframe tbody tr th:only-of-type {\n        vertical-align: middle;\n    }\n\n    .dataframe tbody tr th {\n        vertical-align: top;\n    }\n\n    .dataframe thead th {\n        text-align: right;\n    }\n</style>\n<table border=\"1\" class=\"dataframe\">\n  <thead>\n    <tr style=\"text-align: right;\">\n      <th></th>\n      <th>user_id</th>\n      <th>actual</th>\n      <th>random</th>\n      <th>most_popular</th>\n      <th>weighted_random</th>\n      <th>random_from_top</th>\n      <th>weighted_random_from_top</th>\n      <th>item_knn</th>\n      <th>cosine</th>\n      <th>tfidf</th>\n    </tr>\n  </thead>\n  <tbody>\n    <tr>\n      <th>0</th>\n      <td>1</td>\n      <td>[821867, 834484, 856942, 865456, 889248, 90795...</td>\n      <td>[6765147, 6919311, 866563, 8157124, 1369788]</td>\n      <td>[6534178, 6533889, 1029743, 6534166, 1082185]</td>\n      <td>[8293447, 893479, 1082185, 6906287, 970030]</td>\n      <td>[893077, 902101, 12188666, 1000112, 10356370]</td>\n      <td>[908318, 1116207, 6534178, 1099905, 1018600]</td>\n      <td>[1082185, 981760, 1127831, 995242, 1098066]</td>\n      <td>[1082185, 981760, 1127831, 1098066, 961554]</td>\n      <td>[1082185, 981760, 1127831, 1098066, 961554]</td>\n    </tr>\n    <tr>\n      <th>1</th>\n      <td>3</td>\n      <td>[835476, 851057, 872021, 878302, 879948, 90963...</td>\n      <td>[13509953, 15972928, 9368307, 12351789, 15740820]</td>\n      <td>[6534178, 6533889, 1029743, 6534166, 1082185]</td>\n      <td>[8098348, 951855, 824758, 875342, 846823]</td>\n      <td>[7169043, 2025754, 737779, 13070699, 558755]</td>\n      <td>[971949, 863447, 6534178, 985999, 923746]</td>\n      <td>[1082185, 981760, 1098066, 995242, 826249]</td>\n      <td>[1082185, 1098066, 981760, 826249, 883404]</td>\n      <td>[1082185, 981760, 1098066, 826249, 883404]</td>\n    </tr>\n    <tr>\n      <th>2</th>\n      <td>6</td>\n      <td>[920308, 926804, 946489, 1006718, 1017061, 107...</td>\n      <td>[42762, 14025623, 9420146, 10149761, 13944610]</td>\n      <td>[6534178, 6533889, 1029743, 6534166, 1082185]</td>\n      <td>[866835, 1100444, 972340, 6534178, 903325]</td>\n      <td>[8019082, 899653, 1180210, 1040313, 1999534]</td>\n      <td>[825882, 898510, 982360, 6034857, 6534178]</td>\n      <td>[1082185, 981760, 1127831, 995242, 1098066]</td>\n      <td>[1082185, 981760, 1127831, 1098066, 961554]</td>\n      <td>[1082185, 981760, 1127831, 878996, 961554]</td>\n    </tr>\n  </tbody>\n</table>\n</div>"
     },
     "execution_count": 31,
     "metadata": {},
     "output_type": "execute_result"
    }
   ],
   "source": [
    "%%time\n",
    "result['tfidf'] = result['user_id'].apply(partial(recommender, mdl=model, params=recommender_params))\n",
    "result.head(3)"
   ],
   "metadata": {
    "collapsed": false,
    "pycharm": {
     "name": "#%%\n"
    }
   }
  },
  {
   "cell_type": "markdown",
   "metadata": {
    "id": "zDCrQwaC9vZ-"
   },
   "source": [
    "### 2.4 Трюк - по истории конкретного пользователя (K=1)"
   ]
  },
  {
   "cell_type": "code",
   "execution_count": 32,
   "metadata": {
    "colab": {
     "base_uri": "https://localhost:8080/",
     "height": 83,
     "referenced_widgets": [
      "5407098d4c374521b004ca4102d75b66",
      "558a140c59c449d0abecdb4a5867b11c",
      "843fa3533d444b2c837bf1868a1b9725",
      "594242898371447090d5374bbe1cfeea",
      "f9e7bbfb196a42e9b97626a339cea9e3",
      "ce1ada80ecb6427a857c8f0a1076c029",
      "8040d429311d49b99ba387f22916de18",
      "84a1798b354141ca8ad9c6f08733a686",
      "9a4183ed53364b81a8c7de94bba0c3f2",
      "5ed3fc64abf345a59b8348da0de36fbc",
      "0f0be173e5ad4caba3f5b3e72e994a57"
     ]
    },
    "executionInfo": {
     "elapsed": 2271,
     "status": "ok",
     "timestamp": 1639304753107,
     "user": {
      "displayName": "Николай -",
      "photoUrl": "https://lh3.googleusercontent.com/a-/AOh14GiCS90olAsBznR3WLZOaJ5ukcv2LPYBRWvHEQUZ-A=s64",
      "userId": "17372739142422056321"
     },
     "user_tz": -180
    },
    "id": "xGVGPqPt9vZ-",
    "outputId": "3e17b467-22d9-419d-a983-2d7398f3a727"
   },
   "outputs": [
    {
     "data": {
      "text/plain": "  0%|          | 0/5001 [00:00<?, ?it/s]",
      "application/vnd.jupyter.widget-view+json": {
       "version_major": 2,
       "version_minor": 0,
       "model_id": "c5f3c906fd764a92b97c441b5f4e63d5"
      }
     },
     "metadata": {},
     "output_type": "display_data"
    },
    {
     "name": "stdout",
     "output_type": "stream",
     "text": [
      "CPU times: user 1.64 s, sys: 11.8 ms, total: 1.66 s\n",
      "Wall time: 291 ms\n"
     ]
    }
   ],
   "source": [
    "%%time\n",
    "model = ItemItemRecommender(K=1, num_threads=0)\n",
    "model.fit(sparse_user_item.T, show_progress=True)"
   ]
  },
  {
   "cell_type": "code",
   "execution_count": 33,
   "metadata": {
    "colab": {
     "base_uri": "https://localhost:8080/"
    },
    "executionInfo": {
     "elapsed": 277,
     "status": "ok",
     "timestamp": 1639304757635,
     "user": {
      "displayName": "Николай -",
      "photoUrl": "https://lh3.googleusercontent.com/a-/AOh14GiCS90olAsBznR3WLZOaJ5ukcv2LPYBRWvHEQUZ-A=s64",
      "userId": "17372739142422056321"
     },
     "user_tz": -180
    },
    "id": "2pfQuXZ99vZ-",
    "outputId": "8577ab20-609a-458f-851c-721f0fcc1780"
   },
   "outputs": [
    {
     "name": "stdout",
     "output_type": "stream",
     "text": [
      "CPU times: user 132 ms, sys: 0 ns, total: 132 ms\n",
      "Wall time: 75.1 ms\n"
     ]
    },
    {
     "data": {
      "text/plain": "   user_id                                             actual  \\\n0        1  [821867, 834484, 856942, 865456, 889248, 90795...   \n1        3  [835476, 851057, 872021, 878302, 879948, 90963...   \n2        6  [920308, 926804, 946489, 1006718, 1017061, 107...   \n\n                                              random  \\\n0       [6765147, 6919311, 866563, 8157124, 1369788]   \n1  [13509953, 15972928, 9368307, 12351789, 15740820]   \n2     [42762, 14025623, 9420146, 10149761, 13944610]   \n\n                                    most_popular  \\\n0  [6534178, 6533889, 1029743, 6534166, 1082185]   \n1  [6534178, 6533889, 1029743, 6534166, 1082185]   \n2  [6534178, 6533889, 1029743, 6534166, 1082185]   \n\n                               weighted_random  \\\n0  [8293447, 893479, 1082185, 6906287, 970030]   \n1    [8098348, 951855, 824758, 875342, 846823]   \n2   [866835, 1100444, 972340, 6534178, 903325]   \n\n                                 random_from_top  \\\n0  [893077, 902101, 12188666, 1000112, 10356370]   \n1   [7169043, 2025754, 737779, 13070699, 558755]   \n2   [8019082, 899653, 1180210, 1040313, 1999534]   \n\n                       weighted_random_from_top  \\\n0  [908318, 1116207, 6534178, 1099905, 1018600]   \n1     [971949, 863447, 6534178, 985999, 923746]   \n2    [825882, 898510, 982360, 6034857, 6534178]   \n\n                                      item_knn  \\\n0  [1082185, 981760, 1127831, 995242, 1098066]   \n1   [1082185, 981760, 1098066, 995242, 826249]   \n2  [1082185, 981760, 1127831, 995242, 1098066]   \n\n                                        cosine  \\\n0  [1082185, 981760, 1127831, 1098066, 961554]   \n1   [1082185, 1098066, 981760, 826249, 883404]   \n2  [1082185, 981760, 1127831, 1098066, 961554]   \n\n                                         tfidf  \\\n0  [1082185, 981760, 1127831, 1098066, 961554]   \n1   [1082185, 981760, 1098066, 826249, 883404]   \n2   [1082185, 981760, 1127831, 878996, 961554]   \n\n                                  own_purchases  \n0    [1082185, 995242, 1029743, 840361, 904360]  \n1  [1082185, 1098066, 6534178, 826249, 1127831]  \n2    [1082185, 981760, 995242, 1029743, 840361]  ",
      "text/html": "<div>\n<style scoped>\n    .dataframe tbody tr th:only-of-type {\n        vertical-align: middle;\n    }\n\n    .dataframe tbody tr th {\n        vertical-align: top;\n    }\n\n    .dataframe thead th {\n        text-align: right;\n    }\n</style>\n<table border=\"1\" class=\"dataframe\">\n  <thead>\n    <tr style=\"text-align: right;\">\n      <th></th>\n      <th>user_id</th>\n      <th>actual</th>\n      <th>random</th>\n      <th>most_popular</th>\n      <th>weighted_random</th>\n      <th>random_from_top</th>\n      <th>weighted_random_from_top</th>\n      <th>item_knn</th>\n      <th>cosine</th>\n      <th>tfidf</th>\n      <th>own_purchases</th>\n    </tr>\n  </thead>\n  <tbody>\n    <tr>\n      <th>0</th>\n      <td>1</td>\n      <td>[821867, 834484, 856942, 865456, 889248, 90795...</td>\n      <td>[6765147, 6919311, 866563, 8157124, 1369788]</td>\n      <td>[6534178, 6533889, 1029743, 6534166, 1082185]</td>\n      <td>[8293447, 893479, 1082185, 6906287, 970030]</td>\n      <td>[893077, 902101, 12188666, 1000112, 10356370]</td>\n      <td>[908318, 1116207, 6534178, 1099905, 1018600]</td>\n      <td>[1082185, 981760, 1127831, 995242, 1098066]</td>\n      <td>[1082185, 981760, 1127831, 1098066, 961554]</td>\n      <td>[1082185, 981760, 1127831, 1098066, 961554]</td>\n      <td>[1082185, 995242, 1029743, 840361, 904360]</td>\n    </tr>\n    <tr>\n      <th>1</th>\n      <td>3</td>\n      <td>[835476, 851057, 872021, 878302, 879948, 90963...</td>\n      <td>[13509953, 15972928, 9368307, 12351789, 15740820]</td>\n      <td>[6534178, 6533889, 1029743, 6534166, 1082185]</td>\n      <td>[8098348, 951855, 824758, 875342, 846823]</td>\n      <td>[7169043, 2025754, 737779, 13070699, 558755]</td>\n      <td>[971949, 863447, 6534178, 985999, 923746]</td>\n      <td>[1082185, 981760, 1098066, 995242, 826249]</td>\n      <td>[1082185, 1098066, 981760, 826249, 883404]</td>\n      <td>[1082185, 981760, 1098066, 826249, 883404]</td>\n      <td>[1082185, 1098066, 6534178, 826249, 1127831]</td>\n    </tr>\n    <tr>\n      <th>2</th>\n      <td>6</td>\n      <td>[920308, 926804, 946489, 1006718, 1017061, 107...</td>\n      <td>[42762, 14025623, 9420146, 10149761, 13944610]</td>\n      <td>[6534178, 6533889, 1029743, 6534166, 1082185]</td>\n      <td>[866835, 1100444, 972340, 6534178, 903325]</td>\n      <td>[8019082, 899653, 1180210, 1040313, 1999534]</td>\n      <td>[825882, 898510, 982360, 6034857, 6534178]</td>\n      <td>[1082185, 981760, 1127831, 995242, 1098066]</td>\n      <td>[1082185, 981760, 1127831, 1098066, 961554]</td>\n      <td>[1082185, 981760, 1127831, 878996, 961554]</td>\n      <td>[1082185, 981760, 995242, 1029743, 840361]</td>\n    </tr>\n  </tbody>\n</table>\n</div>"
     },
     "execution_count": 33,
     "metadata": {},
     "output_type": "execute_result"
    }
   ],
   "source": [
    "%%time\n",
    "result['own_purchases'] = result['user_id'].apply(partial(recommender, mdl=model, params=recommender_params))\n",
    "result.head(3)"
   ]
  },
  {
   "cell_type": "markdown",
   "source": [
    "### 2.5 BM25 recommender"
   ],
   "metadata": {
    "collapsed": false
   }
  },
  {
   "cell_type": "code",
   "execution_count": 34,
   "outputs": [
    {
     "data": {
      "text/plain": "  0%|          | 0/5001 [00:00<?, ?it/s]",
      "application/vnd.jupyter.widget-view+json": {
       "version_major": 2,
       "version_minor": 0,
       "model_id": "77711957db354fe7b7faf57c138a29f7"
      }
     },
     "metadata": {},
     "output_type": "display_data"
    },
    {
     "name": "stdout",
     "output_type": "stream",
     "text": [
      "CPU times: user 1.74 s, sys: 6.72 ms, total: 1.75 s\n",
      "Wall time: 300 ms\n"
     ]
    }
   ],
   "source": [
    "%%time\n",
    "model = BM25Recommender(K=5, num_threads=0)\n",
    "model.fit(sparse_user_item.T, show_progress=True)"
   ],
   "metadata": {
    "collapsed": false,
    "pycharm": {
     "name": "#%%\n"
    }
   }
  },
  {
   "cell_type": "code",
   "execution_count": 35,
   "outputs": [
    {
     "name": "stdout",
     "output_type": "stream",
     "text": [
      "CPU times: user 153 ms, sys: 269 µs, total: 153 ms\n",
      "Wall time: 89.8 ms\n"
     ]
    },
    {
     "data": {
      "text/plain": "   user_id                                             actual  \\\n0        1  [821867, 834484, 856942, 865456, 889248, 90795...   \n1        3  [835476, 851057, 872021, 878302, 879948, 90963...   \n2        6  [920308, 926804, 946489, 1006718, 1017061, 107...   \n\n                                              random  \\\n0       [6765147, 6919311, 866563, 8157124, 1369788]   \n1  [13509953, 15972928, 9368307, 12351789, 15740820]   \n2     [42762, 14025623, 9420146, 10149761, 13944610]   \n\n                                    most_popular  \\\n0  [6534178, 6533889, 1029743, 6534166, 1082185]   \n1  [6534178, 6533889, 1029743, 6534166, 1082185]   \n2  [6534178, 6533889, 1029743, 6534166, 1082185]   \n\n                               weighted_random  \\\n0  [8293447, 893479, 1082185, 6906287, 970030]   \n1    [8098348, 951855, 824758, 875342, 846823]   \n2   [866835, 1100444, 972340, 6534178, 903325]   \n\n                                 random_from_top  \\\n0  [893077, 902101, 12188666, 1000112, 10356370]   \n1   [7169043, 2025754, 737779, 13070699, 558755]   \n2   [8019082, 899653, 1180210, 1040313, 1999534]   \n\n                       weighted_random_from_top  \\\n0  [908318, 1116207, 6534178, 1099905, 1018600]   \n1     [971949, 863447, 6534178, 985999, 923746]   \n2    [825882, 898510, 982360, 6034857, 6534178]   \n\n                                      item_knn  \\\n0  [1082185, 981760, 1127831, 995242, 1098066]   \n1   [1082185, 981760, 1098066, 995242, 826249]   \n2  [1082185, 981760, 1127831, 995242, 1098066]   \n\n                                        cosine  \\\n0  [1082185, 981760, 1127831, 1098066, 961554]   \n1   [1082185, 1098066, 981760, 826249, 883404]   \n2  [1082185, 981760, 1127831, 1098066, 961554]   \n\n                                         tfidf  \\\n0  [1082185, 981760, 1127831, 1098066, 961554]   \n1   [1082185, 981760, 1098066, 826249, 883404]   \n2   [1082185, 981760, 1127831, 878996, 961554]   \n\n                                  own_purchases  \\\n0    [1082185, 995242, 1029743, 840361, 904360]   \n1  [1082185, 1098066, 6534178, 826249, 1127831]   \n2    [1082185, 981760, 995242, 1029743, 840361]   \n\n                                          bm25  \n0    [872137, 901062, 986947, 1098248, 995785]  \n1   [1044078, 883404, 913202, 833723, 9526563]  \n2  [951412, 1041259, 901062, 1082185, 1023720]  ",
      "text/html": "<div>\n<style scoped>\n    .dataframe tbody tr th:only-of-type {\n        vertical-align: middle;\n    }\n\n    .dataframe tbody tr th {\n        vertical-align: top;\n    }\n\n    .dataframe thead th {\n        text-align: right;\n    }\n</style>\n<table border=\"1\" class=\"dataframe\">\n  <thead>\n    <tr style=\"text-align: right;\">\n      <th></th>\n      <th>user_id</th>\n      <th>actual</th>\n      <th>random</th>\n      <th>most_popular</th>\n      <th>weighted_random</th>\n      <th>random_from_top</th>\n      <th>weighted_random_from_top</th>\n      <th>item_knn</th>\n      <th>cosine</th>\n      <th>tfidf</th>\n      <th>own_purchases</th>\n      <th>bm25</th>\n    </tr>\n  </thead>\n  <tbody>\n    <tr>\n      <th>0</th>\n      <td>1</td>\n      <td>[821867, 834484, 856942, 865456, 889248, 90795...</td>\n      <td>[6765147, 6919311, 866563, 8157124, 1369788]</td>\n      <td>[6534178, 6533889, 1029743, 6534166, 1082185]</td>\n      <td>[8293447, 893479, 1082185, 6906287, 970030]</td>\n      <td>[893077, 902101, 12188666, 1000112, 10356370]</td>\n      <td>[908318, 1116207, 6534178, 1099905, 1018600]</td>\n      <td>[1082185, 981760, 1127831, 995242, 1098066]</td>\n      <td>[1082185, 981760, 1127831, 1098066, 961554]</td>\n      <td>[1082185, 981760, 1127831, 1098066, 961554]</td>\n      <td>[1082185, 995242, 1029743, 840361, 904360]</td>\n      <td>[872137, 901062, 986947, 1098248, 995785]</td>\n    </tr>\n    <tr>\n      <th>1</th>\n      <td>3</td>\n      <td>[835476, 851057, 872021, 878302, 879948, 90963...</td>\n      <td>[13509953, 15972928, 9368307, 12351789, 15740820]</td>\n      <td>[6534178, 6533889, 1029743, 6534166, 1082185]</td>\n      <td>[8098348, 951855, 824758, 875342, 846823]</td>\n      <td>[7169043, 2025754, 737779, 13070699, 558755]</td>\n      <td>[971949, 863447, 6534178, 985999, 923746]</td>\n      <td>[1082185, 981760, 1098066, 995242, 826249]</td>\n      <td>[1082185, 1098066, 981760, 826249, 883404]</td>\n      <td>[1082185, 981760, 1098066, 826249, 883404]</td>\n      <td>[1082185, 1098066, 6534178, 826249, 1127831]</td>\n      <td>[1044078, 883404, 913202, 833723, 9526563]</td>\n    </tr>\n    <tr>\n      <th>2</th>\n      <td>6</td>\n      <td>[920308, 926804, 946489, 1006718, 1017061, 107...</td>\n      <td>[42762, 14025623, 9420146, 10149761, 13944610]</td>\n      <td>[6534178, 6533889, 1029743, 6534166, 1082185]</td>\n      <td>[866835, 1100444, 972340, 6534178, 903325]</td>\n      <td>[8019082, 899653, 1180210, 1040313, 1999534]</td>\n      <td>[825882, 898510, 982360, 6034857, 6534178]</td>\n      <td>[1082185, 981760, 1127831, 995242, 1098066]</td>\n      <td>[1082185, 981760, 1127831, 1098066, 961554]</td>\n      <td>[1082185, 981760, 1127831, 878996, 961554]</td>\n      <td>[1082185, 981760, 995242, 1029743, 840361]</td>\n      <td>[951412, 1041259, 901062, 1082185, 1023720]</td>\n    </tr>\n  </tbody>\n</table>\n</div>"
     },
     "execution_count": 35,
     "metadata": {},
     "output_type": "execute_result"
    }
   ],
   "source": [
    "%%time\n",
    "result['bm25'] = result['user_id'].apply(partial(recommender, mdl=model, params=recommender_params))\n",
    "result.head(3)"
   ],
   "metadata": {
    "collapsed": false,
    "pycharm": {
     "name": "#%%\n"
    }
   }
  },
  {
   "cell_type": "markdown",
   "metadata": {
    "id": "LTQY0VSq9vZ_"
   },
   "source": [
    "## 3. Измерение качества"
   ]
  },
  {
   "cell_type": "code",
   "execution_count": 36,
   "metadata": {
    "colab": {
     "base_uri": "https://localhost:8080/",
     "height": 145
    },
    "executionInfo": {
     "elapsed": 250,
     "status": "ok",
     "timestamp": 1639304782820,
     "user": {
      "displayName": "Николай -",
      "photoUrl": "https://lh3.googleusercontent.com/a-/AOh14GiCS90olAsBznR3WLZOaJ5ukcv2LPYBRWvHEQUZ-A=s64",
      "userId": "17372739142422056321"
     },
     "user_tz": -180
    },
    "id": "nkv9dWQX9vZ_",
    "outputId": "b1dd7b9b-2a98-4b71-cf79-5c972a2db532"
   },
   "outputs": [
    {
     "data": {
      "text/plain": "   user_id                                             actual  \\\n0        1  [821867, 834484, 856942, 865456, 889248, 90795...   \n1        3  [835476, 851057, 872021, 878302, 879948, 90963...   \n2        6  [920308, 926804, 946489, 1006718, 1017061, 107...   \n3        7  [840386, 889774, 898068, 909714, 929067, 95347...   \n4        8  [835098, 872137, 910439, 924610, 992977, 10412...   \n\n                                              random  \\\n0       [6765147, 6919311, 866563, 8157124, 1369788]   \n1  [13509953, 15972928, 9368307, 12351789, 15740820]   \n2     [42762, 14025623, 9420146, 10149761, 13944610]   \n3       [8119154, 849874, 9526445, 12605249, 989559]   \n4      [1814851, 1429378, 1063359, 9296857, 1064625]   \n\n                                    most_popular  \\\n0  [6534178, 6533889, 1029743, 6534166, 1082185]   \n1  [6534178, 6533889, 1029743, 6534166, 1082185]   \n2  [6534178, 6533889, 1029743, 6534166, 1082185]   \n3  [6534178, 6533889, 1029743, 6534166, 1082185]   \n4  [6534178, 6533889, 1029743, 6534166, 1082185]   \n\n                                weighted_random  \\\n0   [8293447, 893479, 1082185, 6906287, 970030]   \n1     [8098348, 951855, 824758, 875342, 846823]   \n2    [866835, 1100444, 972340, 6534178, 903325]   \n3  [1037840, 1037863, 2325988, 749063, 1055558]   \n4   [6039604, 866548, 873964, 9878585, 1082990]   \n\n                                  random_from_top  \\\n0   [893077, 902101, 12188666, 1000112, 10356370]   \n1    [7169043, 2025754, 737779, 13070699, 558755]   \n2    [8019082, 899653, 1180210, 1040313, 1999534]   \n3    [872499, 1022388, 1005484, 1146034, 1011069]   \n4  [6919248, 13213433, 9676839, 7169063, 9422971]   \n\n                       weighted_random_from_top  \\\n0  [908318, 1116207, 6534178, 1099905, 1018600]   \n1     [971949, 863447, 6534178, 985999, 923746]   \n2    [825882, 898510, 982360, 6034857, 6534178]   \n3   [894439, 951971, 15452812, 6534178, 961554]   \n4  [873044, 12648296, 6534178, 997309, 1047944]   \n\n                                      item_knn  \\\n0  [1082185, 981760, 1127831, 995242, 1098066]   \n1   [1082185, 981760, 1098066, 995242, 826249]   \n2  [1082185, 981760, 1127831, 995242, 1098066]   \n3  [1082185, 981760, 1127831, 995242, 1098066]   \n4  [1082185, 981760, 1127831, 1098066, 995242]   \n\n                                        cosine  \\\n0  [1082185, 981760, 1127831, 1098066, 961554]   \n1   [1082185, 1098066, 981760, 826249, 883404]   \n2  [1082185, 981760, 1127831, 1098066, 961554]   \n3  [1082185, 981760, 1127831, 961554, 1098066]   \n4  [1082185, 981760, 1098066, 826249, 1127831]   \n\n                                         tfidf  \\\n0  [1082185, 981760, 1127831, 1098066, 961554]   \n1   [1082185, 981760, 1098066, 826249, 883404]   \n2   [1082185, 981760, 1127831, 878996, 961554]   \n3   [1082185, 981760, 1127831, 961554, 826249]   \n4  [1082185, 981760, 1098066, 826249, 1127831]   \n\n                                  own_purchases  \\\n0    [1082185, 995242, 1029743, 840361, 904360]   \n1  [1082185, 1098066, 6534178, 826249, 1127831]   \n2    [1082185, 981760, 995242, 1029743, 840361]   \n3   [1082185, 995242, 1029743, 826249, 1127831]   \n4    [1082185, 981760, 995242, 1029743, 840361]   \n\n                                          bm25  \n0    [872137, 901062, 986947, 1098248, 995785]  \n1   [1044078, 883404, 913202, 833723, 9526563]  \n2  [951412, 1041259, 901062, 1082185, 1023720]  \n3   [7024990, 968774, 1013321, 987724, 879635]  \n4   [1044078, 870780, 1036432, 883404, 905582]  ",
      "text/html": "<div>\n<style scoped>\n    .dataframe tbody tr th:only-of-type {\n        vertical-align: middle;\n    }\n\n    .dataframe tbody tr th {\n        vertical-align: top;\n    }\n\n    .dataframe thead th {\n        text-align: right;\n    }\n</style>\n<table border=\"1\" class=\"dataframe\">\n  <thead>\n    <tr style=\"text-align: right;\">\n      <th></th>\n      <th>user_id</th>\n      <th>actual</th>\n      <th>random</th>\n      <th>most_popular</th>\n      <th>weighted_random</th>\n      <th>random_from_top</th>\n      <th>weighted_random_from_top</th>\n      <th>item_knn</th>\n      <th>cosine</th>\n      <th>tfidf</th>\n      <th>own_purchases</th>\n      <th>bm25</th>\n    </tr>\n  </thead>\n  <tbody>\n    <tr>\n      <th>0</th>\n      <td>1</td>\n      <td>[821867, 834484, 856942, 865456, 889248, 90795...</td>\n      <td>[6765147, 6919311, 866563, 8157124, 1369788]</td>\n      <td>[6534178, 6533889, 1029743, 6534166, 1082185]</td>\n      <td>[8293447, 893479, 1082185, 6906287, 970030]</td>\n      <td>[893077, 902101, 12188666, 1000112, 10356370]</td>\n      <td>[908318, 1116207, 6534178, 1099905, 1018600]</td>\n      <td>[1082185, 981760, 1127831, 995242, 1098066]</td>\n      <td>[1082185, 981760, 1127831, 1098066, 961554]</td>\n      <td>[1082185, 981760, 1127831, 1098066, 961554]</td>\n      <td>[1082185, 995242, 1029743, 840361, 904360]</td>\n      <td>[872137, 901062, 986947, 1098248, 995785]</td>\n    </tr>\n    <tr>\n      <th>1</th>\n      <td>3</td>\n      <td>[835476, 851057, 872021, 878302, 879948, 90963...</td>\n      <td>[13509953, 15972928, 9368307, 12351789, 15740820]</td>\n      <td>[6534178, 6533889, 1029743, 6534166, 1082185]</td>\n      <td>[8098348, 951855, 824758, 875342, 846823]</td>\n      <td>[7169043, 2025754, 737779, 13070699, 558755]</td>\n      <td>[971949, 863447, 6534178, 985999, 923746]</td>\n      <td>[1082185, 981760, 1098066, 995242, 826249]</td>\n      <td>[1082185, 1098066, 981760, 826249, 883404]</td>\n      <td>[1082185, 981760, 1098066, 826249, 883404]</td>\n      <td>[1082185, 1098066, 6534178, 826249, 1127831]</td>\n      <td>[1044078, 883404, 913202, 833723, 9526563]</td>\n    </tr>\n    <tr>\n      <th>2</th>\n      <td>6</td>\n      <td>[920308, 926804, 946489, 1006718, 1017061, 107...</td>\n      <td>[42762, 14025623, 9420146, 10149761, 13944610]</td>\n      <td>[6534178, 6533889, 1029743, 6534166, 1082185]</td>\n      <td>[866835, 1100444, 972340, 6534178, 903325]</td>\n      <td>[8019082, 899653, 1180210, 1040313, 1999534]</td>\n      <td>[825882, 898510, 982360, 6034857, 6534178]</td>\n      <td>[1082185, 981760, 1127831, 995242, 1098066]</td>\n      <td>[1082185, 981760, 1127831, 1098066, 961554]</td>\n      <td>[1082185, 981760, 1127831, 878996, 961554]</td>\n      <td>[1082185, 981760, 995242, 1029743, 840361]</td>\n      <td>[951412, 1041259, 901062, 1082185, 1023720]</td>\n    </tr>\n    <tr>\n      <th>3</th>\n      <td>7</td>\n      <td>[840386, 889774, 898068, 909714, 929067, 95347...</td>\n      <td>[8119154, 849874, 9526445, 12605249, 989559]</td>\n      <td>[6534178, 6533889, 1029743, 6534166, 1082185]</td>\n      <td>[1037840, 1037863, 2325988, 749063, 1055558]</td>\n      <td>[872499, 1022388, 1005484, 1146034, 1011069]</td>\n      <td>[894439, 951971, 15452812, 6534178, 961554]</td>\n      <td>[1082185, 981760, 1127831, 995242, 1098066]</td>\n      <td>[1082185, 981760, 1127831, 961554, 1098066]</td>\n      <td>[1082185, 981760, 1127831, 961554, 826249]</td>\n      <td>[1082185, 995242, 1029743, 826249, 1127831]</td>\n      <td>[7024990, 968774, 1013321, 987724, 879635]</td>\n    </tr>\n    <tr>\n      <th>4</th>\n      <td>8</td>\n      <td>[835098, 872137, 910439, 924610, 992977, 10412...</td>\n      <td>[1814851, 1429378, 1063359, 9296857, 1064625]</td>\n      <td>[6534178, 6533889, 1029743, 6534166, 1082185]</td>\n      <td>[6039604, 866548, 873964, 9878585, 1082990]</td>\n      <td>[6919248, 13213433, 9676839, 7169063, 9422971]</td>\n      <td>[873044, 12648296, 6534178, 997309, 1047944]</td>\n      <td>[1082185, 981760, 1127831, 1098066, 995242]</td>\n      <td>[1082185, 981760, 1098066, 826249, 1127831]</td>\n      <td>[1082185, 981760, 1098066, 826249, 1127831]</td>\n      <td>[1082185, 981760, 995242, 1029743, 840361]</td>\n      <td>[1044078, 870780, 1036432, 883404, 905582]</td>\n    </tr>\n  </tbody>\n</table>\n</div>"
     },
     "execution_count": 36,
     "metadata": {},
     "output_type": "execute_result"
    }
   ],
   "source": [
    "result.to_csv('predictions.csv', index=False)\n",
    "result.head()"
   ]
  },
  {
   "cell_type": "markdown",
   "source": [
    "Для некоторых юзеров нет предсказаний:"
   ],
   "metadata": {
    "collapsed": false
   }
  },
  {
   "cell_type": "code",
   "execution_count": 37,
   "outputs": [
    {
     "data": {
      "text/plain": "      user_id                                             actual  \\\n511       650               [1473658, 1582467, 1499569, 1678776]   \n581       729  [1846901, 1991055, 1997708, 2043643, 9393631, ...   \n770       954  [1469989, 9268840, 12518029, 12670072, 1267064...   \n1625     1987  [1249892, 1404999, 5664526, 6943103, 17109744,...   \n1934     2364  [1762083, 1765104, 1776967, 1784407, 1786062, ...   \n\n                                                 random  \\\n511      [12605335, 12385327, 1054159, 523516, 9677424]   \n581   [12811490, 1640034, 15573274, 15775807, 12172314]   \n770       [2696637, 1936789, 5566508, 970747, 13218042]   \n1625       [6443261, 15801076, 8118500, 433499, 901403]   \n1934      [6396404, 10311428, 1937182, 828507, 8249445]   \n\n                                       most_popular  \\\n511   [6534178, 6533889, 1029743, 6534166, 1082185]   \n581   [6534178, 6533889, 1029743, 6534166, 1082185]   \n770   [6534178, 6533889, 1029743, 6534166, 1082185]   \n1625  [6534178, 6533889, 1029743, 6534166, 1082185]   \n1934  [6534178, 6533889, 1029743, 6534166, 1082185]   \n\n                                       weighted_random  \\\n511     [7442338, 12757133, 6396017, 12456344, 969866]   \n581       [12132039, 875089, 2190989, 5565029, 906065]   \n770   [6534178, 15716123, 6034577, 13671775, 10284958]   \n1625      [1299049, 1101477, 1040510, 871611, 6396018]   \n1934        [870547, 963971, 6602620, 828935, 7410251]   \n\n                                     random_from_top  \\\n511      [917485, 741468, 8069311, 9364862, 2145948]   \n581     [1000493, 985272, 2425183, 10455645, 930179]   \n770       [9488057, 104681, 5592161, 49966, 2541567]   \n1625  [1020507, 1019424, 12263017, 9446680, 9803811]   \n1934    [876750, 1005675, 1063700, 935389, 15798067]   \n\n                          weighted_random_from_top  \\\n511   [1012922, 6534178, 907308, 9858810, 6534166]   \n581     [6533889, 930344, 6534178, 965267, 844179]   \n770     [865528, 1016800, 913201, 6534178, 888476]   \n1625  [844165, 13115903, 1082185, 989354, 1035842]   \n1934    [840692, 1134732, 908531, 883218, 9396770]   \n\n                                item_knn                              cosine  \\\n511   [1082185, 981760, 995242, 1029743]  [1082185, 981760, 995242, 1029743]   \n581   [1082185, 981760, 995242, 1029743]  [1082185, 981760, 995242, 1029743]   \n770   [1082185, 981760, 995242, 1029743]  [1082185, 981760, 995242, 1029743]   \n1625  [1082185, 981760, 995242, 1029743]  [1082185, 981760, 995242, 1029743]   \n1934  [1082185, 981760, 995242, 1029743]  [1082185, 981760, 995242, 1029743]   \n\n                                   tfidf own_purchases  \\\n511   [1082185, 981760, 995242, 1029743]            []   \n581   [1082185, 981760, 995242, 1029743]            []   \n770   [1082185, 981760, 995242, 1029743]            []   \n1625  [1082185, 981760, 995242, 1029743]            []   \n1934  [1082185, 981760, 995242, 1029743]            []   \n\n                                     bm25  \n511   [1082185, 1029743, 995242, 6534178]  \n581   [1082185, 1029743, 995242, 6534178]  \n770   [1082185, 1029743, 995242, 6534178]  \n1625  [1082185, 1029743, 995242, 6534178]  \n1934  [1082185, 1029743, 995242, 6534178]  ",
      "text/html": "<div>\n<style scoped>\n    .dataframe tbody tr th:only-of-type {\n        vertical-align: middle;\n    }\n\n    .dataframe tbody tr th {\n        vertical-align: top;\n    }\n\n    .dataframe thead th {\n        text-align: right;\n    }\n</style>\n<table border=\"1\" class=\"dataframe\">\n  <thead>\n    <tr style=\"text-align: right;\">\n      <th></th>\n      <th>user_id</th>\n      <th>actual</th>\n      <th>random</th>\n      <th>most_popular</th>\n      <th>weighted_random</th>\n      <th>random_from_top</th>\n      <th>weighted_random_from_top</th>\n      <th>item_knn</th>\n      <th>cosine</th>\n      <th>tfidf</th>\n      <th>own_purchases</th>\n      <th>bm25</th>\n    </tr>\n  </thead>\n  <tbody>\n    <tr>\n      <th>511</th>\n      <td>650</td>\n      <td>[1473658, 1582467, 1499569, 1678776]</td>\n      <td>[12605335, 12385327, 1054159, 523516, 9677424]</td>\n      <td>[6534178, 6533889, 1029743, 6534166, 1082185]</td>\n      <td>[7442338, 12757133, 6396017, 12456344, 969866]</td>\n      <td>[917485, 741468, 8069311, 9364862, 2145948]</td>\n      <td>[1012922, 6534178, 907308, 9858810, 6534166]</td>\n      <td>[1082185, 981760, 995242, 1029743]</td>\n      <td>[1082185, 981760, 995242, 1029743]</td>\n      <td>[1082185, 981760, 995242, 1029743]</td>\n      <td>[]</td>\n      <td>[1082185, 1029743, 995242, 6534178]</td>\n    </tr>\n    <tr>\n      <th>581</th>\n      <td>729</td>\n      <td>[1846901, 1991055, 1997708, 2043643, 9393631, ...</td>\n      <td>[12811490, 1640034, 15573274, 15775807, 12172314]</td>\n      <td>[6534178, 6533889, 1029743, 6534166, 1082185]</td>\n      <td>[12132039, 875089, 2190989, 5565029, 906065]</td>\n      <td>[1000493, 985272, 2425183, 10455645, 930179]</td>\n      <td>[6533889, 930344, 6534178, 965267, 844179]</td>\n      <td>[1082185, 981760, 995242, 1029743]</td>\n      <td>[1082185, 981760, 995242, 1029743]</td>\n      <td>[1082185, 981760, 995242, 1029743]</td>\n      <td>[]</td>\n      <td>[1082185, 1029743, 995242, 6534178]</td>\n    </tr>\n    <tr>\n      <th>770</th>\n      <td>954</td>\n      <td>[1469989, 9268840, 12518029, 12670072, 1267064...</td>\n      <td>[2696637, 1936789, 5566508, 970747, 13218042]</td>\n      <td>[6534178, 6533889, 1029743, 6534166, 1082185]</td>\n      <td>[6534178, 15716123, 6034577, 13671775, 10284958]</td>\n      <td>[9488057, 104681, 5592161, 49966, 2541567]</td>\n      <td>[865528, 1016800, 913201, 6534178, 888476]</td>\n      <td>[1082185, 981760, 995242, 1029743]</td>\n      <td>[1082185, 981760, 995242, 1029743]</td>\n      <td>[1082185, 981760, 995242, 1029743]</td>\n      <td>[]</td>\n      <td>[1082185, 1029743, 995242, 6534178]</td>\n    </tr>\n    <tr>\n      <th>1625</th>\n      <td>1987</td>\n      <td>[1249892, 1404999, 5664526, 6943103, 17109744,...</td>\n      <td>[6443261, 15801076, 8118500, 433499, 901403]</td>\n      <td>[6534178, 6533889, 1029743, 6534166, 1082185]</td>\n      <td>[1299049, 1101477, 1040510, 871611, 6396018]</td>\n      <td>[1020507, 1019424, 12263017, 9446680, 9803811]</td>\n      <td>[844165, 13115903, 1082185, 989354, 1035842]</td>\n      <td>[1082185, 981760, 995242, 1029743]</td>\n      <td>[1082185, 981760, 995242, 1029743]</td>\n      <td>[1082185, 981760, 995242, 1029743]</td>\n      <td>[]</td>\n      <td>[1082185, 1029743, 995242, 6534178]</td>\n    </tr>\n    <tr>\n      <th>1934</th>\n      <td>2364</td>\n      <td>[1762083, 1765104, 1776967, 1784407, 1786062, ...</td>\n      <td>[6396404, 10311428, 1937182, 828507, 8249445]</td>\n      <td>[6534178, 6533889, 1029743, 6534166, 1082185]</td>\n      <td>[870547, 963971, 6602620, 828935, 7410251]</td>\n      <td>[876750, 1005675, 1063700, 935389, 15798067]</td>\n      <td>[840692, 1134732, 908531, 883218, 9396770]</td>\n      <td>[1082185, 981760, 995242, 1029743]</td>\n      <td>[1082185, 981760, 995242, 1029743]</td>\n      <td>[1082185, 981760, 995242, 1029743]</td>\n      <td>[]</td>\n      <td>[1082185, 1029743, 995242, 6534178]</td>\n    </tr>\n  </tbody>\n</table>\n</div>"
     },
     "execution_count": 37,
     "metadata": {},
     "output_type": "execute_result"
    }
   ],
   "source": [
    "zero_pred = [item.user_id for _, item in result.iterrows() if (item.str.len() == 0).any()]\n",
    "result[result['user_id'].isin(zero_pred)]"
   ],
   "metadata": {
    "collapsed": false,
    "pycharm": {
     "name": "#%%\n"
    }
   }
  },
  {
   "cell_type": "markdown",
   "source": [
    "Возможно, это из-за того, что их покупки не попали в топ5000:"
   ],
   "metadata": {
    "collapsed": false
   }
  },
  {
   "cell_type": "code",
   "execution_count": 38,
   "outputs": [
    {
     "data": {
      "text/plain": "False"
     },
     "execution_count": 38,
     "metadata": {},
     "output_type": "execute_result"
    }
   ],
   "source": [
    "# проверка, есть ли у юзеров из zero_pred покупки из топ5000:\n",
    "data_train.loc[data_train['user_id'].isin(zero_pred), 'item_id'].isin(top_5000).any()"
   ],
   "metadata": {
    "collapsed": false,
    "pycharm": {
     "name": "#%%\n"
    }
   }
  },
  {
   "cell_type": "markdown",
   "source": [
    "Метрику для них будем считать равной нулю"
   ],
   "metadata": {
    "collapsed": false
   }
  },
  {
   "cell_type": "code",
   "execution_count": 39,
   "outputs": [],
   "source": [
    "def calc_metric(metric_func, source: pd.DataFrame):\n",
    "    \"\"\" Подсчет метрики\n",
    "    :param metric_func - функция измерения метрики. Первый аргумент - рекомендации, второй - актуальные значения\n",
    "    :param source - данные для подсчета метрики\n",
    "    \"\"\"\n",
    "    def metric_wrapper(pred, act):\n",
    "        return metric_func(pred, act) if len(pred) != 0 else 0\n",
    "\n",
    "    metric = pd.DataFrame()\n",
    "    for col in source.columns:\n",
    "        if col == 'user_id':\n",
    "            metric[col] = source[col]\n",
    "        elif col == 'actual':\n",
    "            continue\n",
    "        else:\n",
    "            metric[col] = source[[col, 'actual']].apply(lambda row: metric_wrapper(*row.values), axis=1)\n",
    "    return metric"
   ],
   "metadata": {
    "collapsed": false,
    "pycharm": {
     "name": "#%%\n"
    }
   }
  },
  {
   "cell_type": "markdown",
   "source": [
    "Также, поскольку мы фильтруем предсказания, возможна ситуация, когда количество предсказанных элементов меньше, чем @K в метрике. В таком случае можно пойти двумя путями:\n",
    "1) недостающие предсказания заполнить фиктивным значением, которое интерпретировалось бы метрикой как неверное предсказание\n",
    "2) изменять @K метрики для конкретного объекта по количеству имеющихся предсказаний, но не более, чем изначально требуемое значение\n",
    "\n",
    "В первом случае метрика будет чуть ниже, а во втором - чуть выше."
   ],
   "metadata": {
    "collapsed": false
   }
  },
  {
   "cell_type": "code",
   "execution_count": 40,
   "outputs": [
    {
     "name": "stdout",
     "output_type": "stream",
     "text": [
      "CPU times: user 3.22 s, sys: 0 ns, total: 3.22 s\n",
      "Wall time: 3.21 s\n"
     ]
    }
   ],
   "source": [
    "%%time\n",
    "pr_at_k = calc_metric(partial(precision_at_k, k=5), result)\n",
    "ap_at_k = calc_metric(lambda pred, act: ap_k(pred, act, k=min(5, len(pred))), result)\n",
    "ndcg_at_k = calc_metric(lambda pred, act: ndcg(pred, act, k=min(5, len(pred), len(act))), result)"
   ],
   "metadata": {
    "collapsed": false,
    "pycharm": {
     "name": "#%%\n"
    }
   }
  },
  {
   "cell_type": "code",
   "metadata": {
    "id": "OOF_PWnk9vaA",
    "pycharm": {
     "name": "#%%\n"
    }
   },
   "source": [
    "summary = pd.DataFrame([pr_at_k.mean(), ap_at_k.mean(), ndcg_at_k.mean()], index=['precision@k', 'map@k', 'NDCG@k'])\n",
    "summary.drop(columns='user_id')"
   ],
   "execution_count": 41,
   "outputs": [
    {
     "data": {
      "text/plain": "               random  most_popular  weighted_random  random_from_top  \\\nprecision@k  0.000784      0.155240         0.020176         0.000294   \nmap@k        0.002000      0.256811         0.047690         0.001102   \nNDCG@k       0.244242      0.235391         0.243372         0.244656   \n\n             weighted_random_from_top  item_knn    cosine     tfidf  \\\nprecision@k                  0.041920  0.151028  0.155142  0.160921   \nmap@k                        0.095146  0.388256  0.384458  0.385391   \nNDCG@k                       0.243853  0.244741  0.242937  0.243238   \n\n             own_purchases      bm25  \nprecision@k       0.219001  0.125857  \nmap@k             0.418063  0.224648  \nNDCG@k            0.241492  0.245113  ",
      "text/html": "<div>\n<style scoped>\n    .dataframe tbody tr th:only-of-type {\n        vertical-align: middle;\n    }\n\n    .dataframe tbody tr th {\n        vertical-align: top;\n    }\n\n    .dataframe thead th {\n        text-align: right;\n    }\n</style>\n<table border=\"1\" class=\"dataframe\">\n  <thead>\n    <tr style=\"text-align: right;\">\n      <th></th>\n      <th>random</th>\n      <th>most_popular</th>\n      <th>weighted_random</th>\n      <th>random_from_top</th>\n      <th>weighted_random_from_top</th>\n      <th>item_knn</th>\n      <th>cosine</th>\n      <th>tfidf</th>\n      <th>own_purchases</th>\n      <th>bm25</th>\n    </tr>\n  </thead>\n  <tbody>\n    <tr>\n      <th>precision@k</th>\n      <td>0.000784</td>\n      <td>0.155240</td>\n      <td>0.020176</td>\n      <td>0.000294</td>\n      <td>0.041920</td>\n      <td>0.151028</td>\n      <td>0.155142</td>\n      <td>0.160921</td>\n      <td>0.219001</td>\n      <td>0.125857</td>\n    </tr>\n    <tr>\n      <th>map@k</th>\n      <td>0.002000</td>\n      <td>0.256811</td>\n      <td>0.047690</td>\n      <td>0.001102</td>\n      <td>0.095146</td>\n      <td>0.388256</td>\n      <td>0.384458</td>\n      <td>0.385391</td>\n      <td>0.418063</td>\n      <td>0.224648</td>\n    </tr>\n    <tr>\n      <th>NDCG@k</th>\n      <td>0.244242</td>\n      <td>0.235391</td>\n      <td>0.243372</td>\n      <td>0.244656</td>\n      <td>0.243853</td>\n      <td>0.244741</td>\n      <td>0.242937</td>\n      <td>0.243238</td>\n      <td>0.241492</td>\n      <td>0.245113</td>\n    </tr>\n  </tbody>\n</table>\n</div>"
     },
     "execution_count": 41,
     "metadata": {},
     "output_type": "execute_result"
    }
   ]
  },
  {
   "cell_type": "markdown",
   "source": [
    "Предсказание на топ5000 получается качественнее.\n",
    "Наиболее качественное предсказание в данном случае дает модель на основе индивидуальной истории покупок."
   ],
   "metadata": {
    "collapsed": false
   }
  },
  {
   "cell_type": "markdown",
   "source": [
    "## 4. Повысится ли качество, если предсказывать из топ5000"
   ],
   "metadata": {
    "collapsed": false
   }
  },
  {
   "cell_type": "raw",
   "source": [
    "Предполагаем, что метрика предсказаний по топ5000 выше, чем по всем объектам:\n",
    "H0: m0 >= m1\n",
    "H1: m0 < m1"
   ],
   "metadata": {
    "collapsed": false,
    "pycharm": {
     "name": "#%% raw\n"
    }
   }
  },
  {
   "cell_type": "code",
   "execution_count": 266,
   "outputs": [],
   "source": [
    "# base parameters\n",
    "N = 150     # размер выборки средних значений метрики\n",
    "alpha = 0.05"
   ],
   "metadata": {
    "collapsed": false,
    "pycharm": {
     "name": "#%%\n"
    }
   }
  },
  {
   "cell_type": "raw",
   "source": [
    "Соберем данные: по N средних значений метрики для каждого метода предсказания"
   ],
   "metadata": {
    "collapsed": false
   }
  },
  {
   "cell_type": "code",
   "execution_count": 275,
   "outputs": [
    {
     "name": "stdout",
     "output_type": "stream",
     "text": [
      "CPU times: user 12min 16s, sys: 4.16 s, total: 12min 20s\n",
      "Wall time: 12min 20s\n"
     ]
    }
   ],
   "source": [
    "# %%time\n",
    "# # get predicts\n",
    "# predicts = pd.DataFrame()\n",
    "# metrics = defaultdict(list)\n",
    "#\n",
    "# for i in range(N):\n",
    "#     predicts['actual'] = result['actual']\n",
    "#     predicts['random'] = result['user_id'].apply(lambda x: random_recommendation(items, n=5))\n",
    "#     predicts['random_from_top'] = result['user_id'].apply(lambda x: random_recommendation(top_5000, n=5))\n",
    "#     predicts['weighted_random'] = result['user_id'].apply(lambda x: weighted_random_recommendation(weighted_goods, n=5))\n",
    "#     predicts['weighted_random_from_top'] = result['user_id'].apply(lambda x: weighted_random_recommendation(top_weighted_goods, n=5))\n",
    "#\n",
    "#     metrics['pk'].append(calc_metric(partial(precision_at_k, k=5), predicts).mean().values)\n",
    "#     metrics['apk'].append(calc_metric(lambda pred, act: ap_k(pred, act, k=min(5, len(pred))), predicts).mean().values)\n",
    "#\n",
    "# metrics = {k: np.array(v) for k, v in metrics.items()}\n",
    "# pickle.dump(metrics, open('metrics.pkl', 'wb'))\n",
    "# active_columns = predicts.columns[1:]"
   ],
   "metadata": {
    "collapsed": false,
    "pycharm": {
     "name": "#%%\n"
    }
   }
  },
  {
   "cell_type": "code",
   "execution_count": 279,
   "outputs": [],
   "source": [
    "metrics = pickle.load(open('metrics.pkl', 'rb'))\n",
    "active_columns = ['random', 'random_from_top', 'weighted_random', 'weighted_random_from_top']"
   ],
   "metadata": {
    "collapsed": false,
    "pycharm": {
     "name": "#%%\n"
    }
   }
  },
  {
   "cell_type": "raw",
   "source": [
    "Проверим распределение средних на нормальность"
   ],
   "metadata": {
    "collapsed": false
   }
  },
  {
   "cell_type": "code",
   "execution_count": 280,
   "outputs": [
    {
     "data": {
      "text/plain": "<Figure size 1584x288 with 4 Axes>",
      "image/png": "[encoded data removed]"
     },
     "metadata": {
      "needs_background": "light"
     },
     "output_type": "display_data"
    },
    {
     "data": {
      "text/plain": "<Figure size 1584x288 with 4 Axes>",
      "image/png": "[encoded data removed]"
     },
     "metadata": {
      "needs_background": "light"
     },
     "output_type": "display_data"
    }
   ],
   "source": [
    "for key, values in metrics.items():\n",
    "    fig, ax = plt.subplots(1, len(active_columns), figsize=(22, 4))\n",
    "    fig.suptitle(f'Проверка распределения метрики {key}')\n",
    "    for i in range(metrics[key].shape[1]):\n",
    "        st.probplot(metrics[key].T[i], dist='norm', plot=ax[i])\n",
    "        ax[i].set_title(f'{ax[i].get_title()} for `{active_columns[i]}`')"
   ],
   "metadata": {
    "collapsed": false,
    "pycharm": {
     "name": "#%%\n"
    }
   }
  },
  {
   "cell_type": "raw",
   "source": [
    "В общем, можно считать распределения нормальными\n",
    "Рассчитаем t-критерий"
   ],
   "metadata": {
    "collapsed": false
   }
  },
  {
   "cell_type": "code",
   "execution_count": 281,
   "outputs": [
    {
     "data": {
      "text/plain": "array([[ 7.28454308e-02,  2.08274460e+02],\n       [-3.45040411e-01,  1.84978448e+02]])"
     },
     "execution_count": 281,
     "metadata": {},
     "output_type": "execute_result"
    }
   ],
   "source": [
    "criteria = []\n",
    "\n",
    "for key, values in metrics.items():\n",
    "    m_basic = metrics[key].mean(axis=0)[0::2]\n",
    "    m_from_top = metrics[key].mean(axis=0)[1::2]\n",
    "    t = (m_from_top - m_basic) * np.sqrt(N) / metrics[key].std(ddof=1, axis=0)[0::2]\n",
    "    criteria.append(t)\n",
    "\n",
    "criteria = np.array(criteria)\n",
    "criteria"
   ],
   "metadata": {
    "collapsed": false,
    "pycharm": {
     "name": "#%%\n"
    }
   }
  },
  {
   "cell_type": "raw",
   "source": [
    "Поскольку предполагаем, что m1 > m0, то используем односторонний (правый) критерий"
   ],
   "metadata": {
    "collapsed": false,
    "pycharm": {
     "name": "#%% raw\n"
    }
   }
  },
  {
   "cell_type": "code",
   "execution_count": 282,
   "outputs": [
    {
     "data": {
      "text/plain": "      clean  weighted\np@k   False      True\nap@k  False      True",
      "text/html": "<div>\n<style scoped>\n    .dataframe tbody tr th:only-of-type {\n        vertical-align: middle;\n    }\n\n    .dataframe tbody tr th {\n        vertical-align: top;\n    }\n\n    .dataframe thead th {\n        text-align: right;\n    }\n</style>\n<table border=\"1\" class=\"dataframe\">\n  <thead>\n    <tr style=\"text-align: right;\">\n      <th></th>\n      <th>clean</th>\n      <th>weighted</th>\n    </tr>\n  </thead>\n  <tbody>\n    <tr>\n      <th>p@k</th>\n      <td>False</td>\n      <td>True</td>\n    </tr>\n    <tr>\n      <th>ap@k</th>\n      <td>False</td>\n      <td>True</td>\n    </tr>\n  </tbody>\n</table>\n</div>"
     },
     "execution_count": 282,
     "metadata": {},
     "output_type": "execute_result"
    }
   ],
   "source": [
    "t0R = st.t.isf(alpha, N - 1)\n",
    "pd.DataFrame(criteria >= t0R, index=['p@k', 'ap@k'], columns=['clean', 'weighted'])"
   ],
   "metadata": {
    "collapsed": false,
    "pycharm": {
     "name": "#%%\n"
    }
   }
  },
  {
   "cell_type": "markdown",
   "source": [
    "Значение `True` говорит в пользу принятия альтернативной гипотезы: в указанном случае предсказание из топ5000 дает статистически подтвержденный прирост метрики на уровне значимости `0.05`."
   ],
   "metadata": {
    "collapsed": false,
    "pycharm": {
     "name": "#%% md\n"
    }
   }
  }
 ],
 "metadata": {
  "accelerator": "GPU",
  "colab": {
   "collapsed_sections": [
    "aLDGc1Nn9vZ0"
   ],
   "name": "webinar_2_new.ipynb",
   "provenance": [
    {
     "file_id": "16Ow5QdtueS-lH2MAj7d8AXVJIMofWEfF",
     "timestamp": 1633278282973
    }
   ]
  },
  "kernelspec": {
   "display_name": "Python 3",
   "language": "python",
   "name": "python3"
  },
  "language_info": {
   "codemirror_mode": {
    "name": "ipython",
    "version": 3
   },
   "file_extension": ".py",
   "mimetype": "text/x-python",
   "name": "python",
   "nbconvert_exporter": "python",
   "pygments_lexer": "ipython3",
   "version": "3.9.5"
  },
  "widgets": {
   "application/vnd.jupyter.widget-state+json": {
    "083fdc34807a499f8cad4ba4e195a479": {
     "model_module": "@jupyter-widgets/controls",
     "model_module_version": "1.5.0",
     "model_name": "DescriptionStyleModel",
     "state": {
      "_model_module": "@jupyter-widgets/controls",
      "_model_module_version": "1.5.0",
      "_model_name": "DescriptionStyleModel",
      "_view_count": null,
      "_view_module": "@jupyter-widgets/base",
      "_view_module_version": "1.2.0",
      "_view_name": "StyleView",
      "description_width": ""
     }
    },
    "0993f1cd4f0c4a928b2b8d1a3a160dba": {
     "model_module": "@jupyter-widgets/base",
     "model_module_version": "1.2.0",
     "model_name": "LayoutModel",
     "state": {
      "_model_module": "@jupyter-widgets/base",
      "_model_module_version": "1.2.0",
      "_model_name": "LayoutModel",
      "_view_count": null,
      "_view_module": "@jupyter-widgets/base",
      "_view_module_version": "1.2.0",
      "_view_name": "LayoutView",
      "align_content": null,
      "align_items": null,
      "align_self": null,
      "border": null,
      "bottom": null,
      "display": null,
      "flex": null,
      "flex_flow": null,
      "grid_area": null,
      "grid_auto_columns": null,
      "grid_auto_flow": null,
      "grid_auto_rows": null,
      "grid_column": null,
      "grid_gap": null,
      "grid_row": null,
      "grid_template_areas": null,
      "grid_template_columns": null,
      "grid_template_rows": null,
      "height": null,
      "justify_content": null,
      "justify_items": null,
      "left": null,
      "margin": null,
      "max_height": null,
      "max_width": null,
      "min_height": null,
      "min_width": null,
      "object_fit": null,
      "object_position": null,
      "order": null,
      "overflow": null,
      "overflow_x": null,
      "overflow_y": null,
      "padding": null,
      "right": null,
      "top": null,
      "visibility": null,
      "width": null
     }
    },
    "0f0be173e5ad4caba3f5b3e72e994a57": {
     "model_module": "@jupyter-widgets/base",
     "model_module_version": "1.2.0",
     "model_name": "LayoutModel",
     "state": {
      "_model_module": "@jupyter-widgets/base",
      "_model_module_version": "1.2.0",
      "_model_name": "LayoutModel",
      "_view_count": null,
      "_view_module": "@jupyter-widgets/base",
      "_view_module_version": "1.2.0",
      "_view_name": "LayoutView",
      "align_content": null,
      "align_items": null,
      "align_self": null,
      "border": null,
      "bottom": null,
      "display": null,
      "flex": null,
      "flex_flow": null,
      "grid_area": null,
      "grid_auto_columns": null,
      "grid_auto_flow": null,
      "grid_auto_rows": null,
      "grid_column": null,
      "grid_gap": null,
      "grid_row": null,
      "grid_template_areas": null,
      "grid_template_columns": null,
      "grid_template_rows": null,
      "height": null,
      "justify_content": null,
      "justify_items": null,
      "left": null,
      "margin": null,
      "max_height": null,
      "max_width": null,
      "min_height": null,
      "min_width": null,
      "object_fit": null,
      "object_position": null,
      "order": null,
      "overflow": null,
      "overflow_x": null,
      "overflow_y": null,
      "padding": null,
      "right": null,
      "top": null,
      "visibility": null,
      "width": null
     }
    },
    "134c5404c529448f842917125a277e0d": {
     "model_module": "@jupyter-widgets/controls",
     "model_module_version": "1.5.0",
     "model_name": "FloatProgressModel",
     "state": {
      "_dom_classes": [],
      "_model_module": "@jupyter-widgets/controls",
      "_model_module_version": "1.5.0",
      "_model_name": "FloatProgressModel",
      "_view_count": null,
      "_view_module": "@jupyter-widgets/controls",
      "_view_module_version": "1.5.0",
      "_view_name": "ProgressView",
      "bar_style": "success",
      "description": "",
      "description_tooltip": null,
      "layout": "IPY_MODEL_abf7361c73a44563bd2e30141668af2e",
      "max": 5001,
      "min": 0,
      "orientation": "horizontal",
      "style": "IPY_MODEL_7831a21d238a4a1da14d102580ebdf78",
      "value": 5001
     }
    },
    "18b1c5dd9b9c457a813fc62b94014298": {
     "model_module": "@jupyter-widgets/base",
     "model_module_version": "1.2.0",
     "model_name": "LayoutModel",
     "state": {
      "_model_module": "@jupyter-widgets/base",
      "_model_module_version": "1.2.0",
      "_model_name": "LayoutModel",
      "_view_count": null,
      "_view_module": "@jupyter-widgets/base",
      "_view_module_version": "1.2.0",
      "_view_name": "LayoutView",
      "align_content": null,
      "align_items": null,
      "align_self": null,
      "border": null,
      "bottom": null,
      "display": null,
      "flex": null,
      "flex_flow": null,
      "grid_area": null,
      "grid_auto_columns": null,
      "grid_auto_flow": null,
      "grid_auto_rows": null,
      "grid_column": null,
      "grid_gap": null,
      "grid_row": null,
      "grid_template_areas": null,
      "grid_template_columns": null,
      "grid_template_rows": null,
      "height": null,
      "justify_content": null,
      "justify_items": null,
      "left": null,
      "margin": null,
      "max_height": null,
      "max_width": null,
      "min_height": null,
      "min_width": null,
      "object_fit": null,
      "object_position": null,
      "order": null,
      "overflow": null,
      "overflow_x": null,
      "overflow_y": null,
      "padding": null,
      "right": null,
      "top": null,
      "visibility": null,
      "width": null
     }
    },
    "294d039f558846a7a1fccb2b940ad4aa": {
     "model_module": "@jupyter-widgets/base",
     "model_module_version": "1.2.0",
     "model_name": "LayoutModel",
     "state": {
      "_model_module": "@jupyter-widgets/base",
      "_model_module_version": "1.2.0",
      "_model_name": "LayoutModel",
      "_view_count": null,
      "_view_module": "@jupyter-widgets/base",
      "_view_module_version": "1.2.0",
      "_view_name": "LayoutView",
      "align_content": null,
      "align_items": null,
      "align_self": null,
      "border": null,
      "bottom": null,
      "display": null,
      "flex": null,
      "flex_flow": null,
      "grid_area": null,
      "grid_auto_columns": null,
      "grid_auto_flow": null,
      "grid_auto_rows": null,
      "grid_column": null,
      "grid_gap": null,
      "grid_row": null,
      "grid_template_areas": null,
      "grid_template_columns": null,
      "grid_template_rows": null,
      "height": null,
      "justify_content": null,
      "justify_items": null,
      "left": null,
      "margin": null,
      "max_height": null,
      "max_width": null,
      "min_height": null,
      "min_width": null,
      "object_fit": null,
      "object_position": null,
      "order": null,
      "overflow": null,
      "overflow_x": null,
      "overflow_y": null,
      "padding": null,
      "right": null,
      "top": null,
      "visibility": null,
      "width": null
     }
    },
    "29e272438def4be49be8607110d4c302": {
     "model_module": "@jupyter-widgets/controls",
     "model_module_version": "1.5.0",
     "model_name": "FloatProgressModel",
     "state": {
      "_dom_classes": [],
      "_model_module": "@jupyter-widgets/controls",
      "_model_module_version": "1.5.0",
      "_model_name": "FloatProgressModel",
      "_view_count": null,
      "_view_module": "@jupyter-widgets/controls",
      "_view_module_version": "1.5.0",
      "_view_name": "ProgressView",
      "bar_style": "success",
      "description": "",
      "description_tooltip": null,
      "layout": "IPY_MODEL_3030024ab2ff42e2bd89420b1b72ae6f",
      "max": 5001,
      "min": 0,
      "orientation": "horizontal",
      "style": "IPY_MODEL_b978246119e942c7818b126e9b902b3a",
      "value": 5001
     }
    },
    "3030024ab2ff42e2bd89420b1b72ae6f": {
     "model_module": "@jupyter-widgets/base",
     "model_module_version": "1.2.0",
     "model_name": "LayoutModel",
     "state": {
      "_model_module": "@jupyter-widgets/base",
      "_model_module_version": "1.2.0",
      "_model_name": "LayoutModel",
      "_view_count": null,
      "_view_module": "@jupyter-widgets/base",
      "_view_module_version": "1.2.0",
      "_view_name": "LayoutView",
      "align_content": null,
      "align_items": null,
      "align_self": null,
      "border": null,
      "bottom": null,
      "display": null,
      "flex": null,
      "flex_flow": null,
      "grid_area": null,
      "grid_auto_columns": null,
      "grid_auto_flow": null,
      "grid_auto_rows": null,
      "grid_column": null,
      "grid_gap": null,
      "grid_row": null,
      "grid_template_areas": null,
      "grid_template_columns": null,
      "grid_template_rows": null,
      "height": null,
      "justify_content": null,
      "justify_items": null,
      "left": null,
      "margin": null,
      "max_height": null,
      "max_width": null,
      "min_height": null,
      "min_width": null,
      "object_fit": null,
      "object_position": null,
      "order": null,
      "overflow": null,
      "overflow_x": null,
      "overflow_y": null,
      "padding": null,
      "right": null,
      "top": null,
      "visibility": null,
      "width": null
     }
    },
    "345b6b3525274c62bde7964180349268": {
     "model_module": "@jupyter-widgets/base",
     "model_module_version": "1.2.0",
     "model_name": "LayoutModel",
     "state": {
      "_model_module": "@jupyter-widgets/base",
      "_model_module_version": "1.2.0",
      "_model_name": "LayoutModel",
      "_view_count": null,
      "_view_module": "@jupyter-widgets/base",
      "_view_module_version": "1.2.0",
      "_view_name": "LayoutView",
      "align_content": null,
      "align_items": null,
      "align_self": null,
      "border": null,
      "bottom": null,
      "display": null,
      "flex": null,
      "flex_flow": null,
      "grid_area": null,
      "grid_auto_columns": null,
      "grid_auto_flow": null,
      "grid_auto_rows": null,
      "grid_column": null,
      "grid_gap": null,
      "grid_row": null,
      "grid_template_areas": null,
      "grid_template_columns": null,
      "grid_template_rows": null,
      "height": null,
      "justify_content": null,
      "justify_items": null,
      "left": null,
      "margin": null,
      "max_height": null,
      "max_width": null,
      "min_height": null,
      "min_width": null,
      "object_fit": null,
      "object_position": null,
      "order": null,
      "overflow": null,
      "overflow_x": null,
      "overflow_y": null,
      "padding": null,
      "right": null,
      "top": null,
      "visibility": null,
      "width": null
     }
    },
    "39c1b8c5d7214f4ea8aebbc4e84a3e8b": {
     "model_module": "@jupyter-widgets/base",
     "model_module_version": "1.2.0",
     "model_name": "LayoutModel",
     "state": {
      "_model_module": "@jupyter-widgets/base",
      "_model_module_version": "1.2.0",
      "_model_name": "LayoutModel",
      "_view_count": null,
      "_view_module": "@jupyter-widgets/base",
      "_view_module_version": "1.2.0",
      "_view_name": "LayoutView",
      "align_content": null,
      "align_items": null,
      "align_self": null,
      "border": null,
      "bottom": null,
      "display": null,
      "flex": null,
      "flex_flow": null,
      "grid_area": null,
      "grid_auto_columns": null,
      "grid_auto_flow": null,
      "grid_auto_rows": null,
      "grid_column": null,
      "grid_gap": null,
      "grid_row": null,
      "grid_template_areas": null,
      "grid_template_columns": null,
      "grid_template_rows": null,
      "height": null,
      "justify_content": null,
      "justify_items": null,
      "left": null,
      "margin": null,
      "max_height": null,
      "max_width": null,
      "min_height": null,
      "min_width": null,
      "object_fit": null,
      "object_position": null,
      "order": null,
      "overflow": null,
      "overflow_x": null,
      "overflow_y": null,
      "padding": null,
      "right": null,
      "top": null,
      "visibility": null,
      "width": null
     }
    },
    "43aa43b8855b46e59a849c3e0173bf50": {
     "model_module": "@jupyter-widgets/controls",
     "model_module_version": "1.5.0",
     "model_name": "HTMLModel",
     "state": {
      "_dom_classes": [],
      "_model_module": "@jupyter-widgets/controls",
      "_model_module_version": "1.5.0",
      "_model_name": "HTMLModel",
      "_view_count": null,
      "_view_module": "@jupyter-widgets/controls",
      "_view_module_version": "1.5.0",
      "_view_name": "HTMLView",
      "description": "",
      "description_tooltip": null,
      "layout": "IPY_MODEL_c8efb5bfcee14732bdaeed7c430c235e",
      "placeholder": "​",
      "style": "IPY_MODEL_083fdc34807a499f8cad4ba4e195a479",
      "value": " 5001/5001 [00:01&lt;00:00, 3312.49it/s]"
     }
    },
    "4fe62e1e21fd4d64b32050632eeb0d59": {
     "model_module": "@jupyter-widgets/controls",
     "model_module_version": "1.5.0",
     "model_name": "DescriptionStyleModel",
     "state": {
      "_model_module": "@jupyter-widgets/controls",
      "_model_module_version": "1.5.0",
      "_model_name": "DescriptionStyleModel",
      "_view_count": null,
      "_view_module": "@jupyter-widgets/base",
      "_view_module_version": "1.2.0",
      "_view_name": "StyleView",
      "description_width": ""
     }
    },
    "5407098d4c374521b004ca4102d75b66": {
     "model_module": "@jupyter-widgets/controls",
     "model_module_version": "1.5.0",
     "model_name": "HBoxModel",
     "state": {
      "_dom_classes": [],
      "_model_module": "@jupyter-widgets/controls",
      "_model_module_version": "1.5.0",
      "_model_name": "HBoxModel",
      "_view_count": null,
      "_view_module": "@jupyter-widgets/controls",
      "_view_module_version": "1.5.0",
      "_view_name": "HBoxView",
      "box_style": "",
      "children": [
       "IPY_MODEL_843fa3533d444b2c837bf1868a1b9725",
       "IPY_MODEL_594242898371447090d5374bbe1cfeea",
       "IPY_MODEL_f9e7bbfb196a42e9b97626a339cea9e3"
      ],
      "layout": "IPY_MODEL_558a140c59c449d0abecdb4a5867b11c"
     }
    },
    "558a140c59c449d0abecdb4a5867b11c": {
     "model_module": "@jupyter-widgets/base",
     "model_module_version": "1.2.0",
     "model_name": "LayoutModel",
     "state": {
      "_model_module": "@jupyter-widgets/base",
      "_model_module_version": "1.2.0",
      "_model_name": "LayoutModel",
      "_view_count": null,
      "_view_module": "@jupyter-widgets/base",
      "_view_module_version": "1.2.0",
      "_view_name": "LayoutView",
      "align_content": null,
      "align_items": null,
      "align_self": null,
      "border": null,
      "bottom": null,
      "display": null,
      "flex": null,
      "flex_flow": null,
      "grid_area": null,
      "grid_auto_columns": null,
      "grid_auto_flow": null,
      "grid_auto_rows": null,
      "grid_column": null,
      "grid_gap": null,
      "grid_row": null,
      "grid_template_areas": null,
      "grid_template_columns": null,
      "grid_template_rows": null,
      "height": null,
      "justify_content": null,
      "justify_items": null,
      "left": null,
      "margin": null,
      "max_height": null,
      "max_width": null,
      "min_height": null,
      "min_width": null,
      "object_fit": null,
      "object_position": null,
      "order": null,
      "overflow": null,
      "overflow_x": null,
      "overflow_y": null,
      "padding": null,
      "right": null,
      "top": null,
      "visibility": null,
      "width": null
     }
    },
    "594242898371447090d5374bbe1cfeea": {
     "model_module": "@jupyter-widgets/controls",
     "model_module_version": "1.5.0",
     "model_name": "FloatProgressModel",
     "state": {
      "_dom_classes": [],
      "_model_module": "@jupyter-widgets/controls",
      "_model_module_version": "1.5.0",
      "_model_name": "FloatProgressModel",
      "_view_count": null,
      "_view_module": "@jupyter-widgets/controls",
      "_view_module_version": "1.5.0",
      "_view_name": "ProgressView",
      "bar_style": "success",
      "description": "",
      "description_tooltip": null,
      "layout": "IPY_MODEL_9a4183ed53364b81a8c7de94bba0c3f2",
      "max": 5001,
      "min": 0,
      "orientation": "horizontal",
      "style": "IPY_MODEL_84a1798b354141ca8ad9c6f08733a686",
      "value": 5001
     }
    },
    "59b2bc20c9524bd89b28c31ceb8b758f": {
     "model_module": "@jupyter-widgets/controls",
     "model_module_version": "1.5.0",
     "model_name": "HTMLModel",
     "state": {
      "_dom_classes": [],
      "_model_module": "@jupyter-widgets/controls",
      "_model_module_version": "1.5.0",
      "_model_name": "HTMLModel",
      "_view_count": null,
      "_view_module": "@jupyter-widgets/controls",
      "_view_module_version": "1.5.0",
      "_view_name": "HTMLView",
      "description": "",
      "description_tooltip": null,
      "layout": "IPY_MODEL_a0ce05fbf2c14afaace3df10cb13be89",
      "placeholder": "​",
      "style": "IPY_MODEL_66749085f4144dad9b4b1b87d396ca88",
      "value": " 5001/5001 [00:01&lt;00:00, 2887.74it/s]"
     }
    },
    "5ed3fc64abf345a59b8348da0de36fbc": {
     "model_module": "@jupyter-widgets/controls",
     "model_module_version": "1.5.0",
     "model_name": "DescriptionStyleModel",
     "state": {
      "_model_module": "@jupyter-widgets/controls",
      "_model_module_version": "1.5.0",
      "_model_name": "DescriptionStyleModel",
      "_view_count": null,
      "_view_module": "@jupyter-widgets/base",
      "_view_module_version": "1.2.0",
      "_view_name": "StyleView",
      "description_width": ""
     }
    },
    "64f50a70a9594ce889cc645643063dd3": {
     "model_module": "@jupyter-widgets/controls",
     "model_module_version": "1.5.0",
     "model_name": "HTMLModel",
     "state": {
      "_dom_classes": [],
      "_model_module": "@jupyter-widgets/controls",
      "_model_module_version": "1.5.0",
      "_model_name": "HTMLModel",
      "_view_count": null,
      "_view_module": "@jupyter-widgets/controls",
      "_view_module_version": "1.5.0",
      "_view_name": "HTMLView",
      "description": "",
      "description_tooltip": null,
      "layout": "IPY_MODEL_0993f1cd4f0c4a928b2b8d1a3a160dba",
      "placeholder": "​",
      "style": "IPY_MODEL_4fe62e1e21fd4d64b32050632eeb0d59",
      "value": " 5001/5001 [00:01&lt;00:00, 3589.33it/s]"
     }
    },
    "66749085f4144dad9b4b1b87d396ca88": {
     "model_module": "@jupyter-widgets/controls",
     "model_module_version": "1.5.0",
     "model_name": "DescriptionStyleModel",
     "state": {
      "_model_module": "@jupyter-widgets/controls",
      "_model_module_version": "1.5.0",
      "_model_name": "DescriptionStyleModel",
      "_view_count": null,
      "_view_module": "@jupyter-widgets/base",
      "_view_module_version": "1.2.0",
      "_view_name": "StyleView",
      "description_width": ""
     }
    },
    "7831a21d238a4a1da14d102580ebdf78": {
     "model_module": "@jupyter-widgets/controls",
     "model_module_version": "1.5.0",
     "model_name": "ProgressStyleModel",
     "state": {
      "_model_module": "@jupyter-widgets/controls",
      "_model_module_version": "1.5.0",
      "_model_name": "ProgressStyleModel",
      "_view_count": null,
      "_view_module": "@jupyter-widgets/base",
      "_view_module_version": "1.2.0",
      "_view_name": "StyleView",
      "bar_color": null,
      "description_width": ""
     }
    },
    "8040d429311d49b99ba387f22916de18": {
     "model_module": "@jupyter-widgets/base",
     "model_module_version": "1.2.0",
     "model_name": "LayoutModel",
     "state": {
      "_model_module": "@jupyter-widgets/base",
      "_model_module_version": "1.2.0",
      "_model_name": "LayoutModel",
      "_view_count": null,
      "_view_module": "@jupyter-widgets/base",
      "_view_module_version": "1.2.0",
      "_view_name": "LayoutView",
      "align_content": null,
      "align_items": null,
      "align_self": null,
      "border": null,
      "bottom": null,
      "display": null,
      "flex": null,
      "flex_flow": null,
      "grid_area": null,
      "grid_auto_columns": null,
      "grid_auto_flow": null,
      "grid_auto_rows": null,
      "grid_column": null,
      "grid_gap": null,
      "grid_row": null,
      "grid_template_areas": null,
      "grid_template_columns": null,
      "grid_template_rows": null,
      "height": null,
      "justify_content": null,
      "justify_items": null,
      "left": null,
      "margin": null,
      "max_height": null,
      "max_width": null,
      "min_height": null,
      "min_width": null,
      "object_fit": null,
      "object_position": null,
      "order": null,
      "overflow": null,
      "overflow_x": null,
      "overflow_y": null,
      "padding": null,
      "right": null,
      "top": null,
      "visibility": null,
      "width": null
     }
    },
    "843fa3533d444b2c837bf1868a1b9725": {
     "model_module": "@jupyter-widgets/controls",
     "model_module_version": "1.5.0",
     "model_name": "HTMLModel",
     "state": {
      "_dom_classes": [],
      "_model_module": "@jupyter-widgets/controls",
      "_model_module_version": "1.5.0",
      "_model_name": "HTMLModel",
      "_view_count": null,
      "_view_module": "@jupyter-widgets/controls",
      "_view_module_version": "1.5.0",
      "_view_name": "HTMLView",
      "description": "",
      "description_tooltip": null,
      "layout": "IPY_MODEL_8040d429311d49b99ba387f22916de18",
      "placeholder": "​",
      "style": "IPY_MODEL_ce1ada80ecb6427a857c8f0a1076c029",
      "value": "100%"
     }
    },
    "84a1798b354141ca8ad9c6f08733a686": {
     "model_module": "@jupyter-widgets/controls",
     "model_module_version": "1.5.0",
     "model_name": "ProgressStyleModel",
     "state": {
      "_model_module": "@jupyter-widgets/controls",
      "_model_module_version": "1.5.0",
      "_model_name": "ProgressStyleModel",
      "_view_count": null,
      "_view_module": "@jupyter-widgets/base",
      "_view_module_version": "1.2.0",
      "_view_name": "StyleView",
      "bar_color": null,
      "description_width": ""
     }
    },
    "9a4183ed53364b81a8c7de94bba0c3f2": {
     "model_module": "@jupyter-widgets/base",
     "model_module_version": "1.2.0",
     "model_name": "LayoutModel",
     "state": {
      "_model_module": "@jupyter-widgets/base",
      "_model_module_version": "1.2.0",
      "_model_name": "LayoutModel",
      "_view_count": null,
      "_view_module": "@jupyter-widgets/base",
      "_view_module_version": "1.2.0",
      "_view_name": "LayoutView",
      "align_content": null,
      "align_items": null,
      "align_self": null,
      "border": null,
      "bottom": null,
      "display": null,
      "flex": null,
      "flex_flow": null,
      "grid_area": null,
      "grid_auto_columns": null,
      "grid_auto_flow": null,
      "grid_auto_rows": null,
      "grid_column": null,
      "grid_gap": null,
      "grid_row": null,
      "grid_template_areas": null,
      "grid_template_columns": null,
      "grid_template_rows": null,
      "height": null,
      "justify_content": null,
      "justify_items": null,
      "left": null,
      "margin": null,
      "max_height": null,
      "max_width": null,
      "min_height": null,
      "min_width": null,
      "object_fit": null,
      "object_position": null,
      "order": null,
      "overflow": null,
      "overflow_x": null,
      "overflow_y": null,
      "padding": null,
      "right": null,
      "top": null,
      "visibility": null,
      "width": null
     }
    },
    "9e54299536b941398446e57f99e04292": {
     "model_module": "@jupyter-widgets/base",
     "model_module_version": "1.2.0",
     "model_name": "LayoutModel",
     "state": {
      "_model_module": "@jupyter-widgets/base",
      "_model_module_version": "1.2.0",
      "_model_name": "LayoutModel",
      "_view_count": null,
      "_view_module": "@jupyter-widgets/base",
      "_view_module_version": "1.2.0",
      "_view_name": "LayoutView",
      "align_content": null,
      "align_items": null,
      "align_self": null,
      "border": null,
      "bottom": null,
      "display": null,
      "flex": null,
      "flex_flow": null,
      "grid_area": null,
      "grid_auto_columns": null,
      "grid_auto_flow": null,
      "grid_auto_rows": null,
      "grid_column": null,
      "grid_gap": null,
      "grid_row": null,
      "grid_template_areas": null,
      "grid_template_columns": null,
      "grid_template_rows": null,
      "height": null,
      "justify_content": null,
      "justify_items": null,
      "left": null,
      "margin": null,
      "max_height": null,
      "max_width": null,
      "min_height": null,
      "min_width": null,
      "object_fit": null,
      "object_position": null,
      "order": null,
      "overflow": null,
      "overflow_x": null,
      "overflow_y": null,
      "padding": null,
      "right": null,
      "top": null,
      "visibility": null,
      "width": null
     }
    },
    "a0ce05fbf2c14afaace3df10cb13be89": {
     "model_module": "@jupyter-widgets/base",
     "model_module_version": "1.2.0",
     "model_name": "LayoutModel",
     "state": {
      "_model_module": "@jupyter-widgets/base",
      "_model_module_version": "1.2.0",
      "_model_name": "LayoutModel",
      "_view_count": null,
      "_view_module": "@jupyter-widgets/base",
      "_view_module_version": "1.2.0",
      "_view_name": "LayoutView",
      "align_content": null,
      "align_items": null,
      "align_self": null,
      "border": null,
      "bottom": null,
      "display": null,
      "flex": null,
      "flex_flow": null,
      "grid_area": null,
      "grid_auto_columns": null,
      "grid_auto_flow": null,
      "grid_auto_rows": null,
      "grid_column": null,
      "grid_gap": null,
      "grid_row": null,
      "grid_template_areas": null,
      "grid_template_columns": null,
      "grid_template_rows": null,
      "height": null,
      "justify_content": null,
      "justify_items": null,
      "left": null,
      "margin": null,
      "max_height": null,
      "max_width": null,
      "min_height": null,
      "min_width": null,
      "object_fit": null,
      "object_position": null,
      "order": null,
      "overflow": null,
      "overflow_x": null,
      "overflow_y": null,
      "padding": null,
      "right": null,
      "top": null,
      "visibility": null,
      "width": null
     }
    },
    "abf7361c73a44563bd2e30141668af2e": {
     "model_module": "@jupyter-widgets/base",
     "model_module_version": "1.2.0",
     "model_name": "LayoutModel",
     "state": {
      "_model_module": "@jupyter-widgets/base",
      "_model_module_version": "1.2.0",
      "_model_name": "LayoutModel",
      "_view_count": null,
      "_view_module": "@jupyter-widgets/base",
      "_view_module_version": "1.2.0",
      "_view_name": "LayoutView",
      "align_content": null,
      "align_items": null,
      "align_self": null,
      "border": null,
      "bottom": null,
      "display": null,
      "flex": null,
      "flex_flow": null,
      "grid_area": null,
      "grid_auto_columns": null,
      "grid_auto_flow": null,
      "grid_auto_rows": null,
      "grid_column": null,
      "grid_gap": null,
      "grid_row": null,
      "grid_template_areas": null,
      "grid_template_columns": null,
      "grid_template_rows": null,
      "height": null,
      "justify_content": null,
      "justify_items": null,
      "left": null,
      "margin": null,
      "max_height": null,
      "max_width": null,
      "min_height": null,
      "min_width": null,
      "object_fit": null,
      "object_position": null,
      "order": null,
      "overflow": null,
      "overflow_x": null,
      "overflow_y": null,
      "padding": null,
      "right": null,
      "top": null,
      "visibility": null,
      "width": null
     }
    },
    "b11ca4f2601d4f76979d576f5672d6d8": {
     "model_module": "@jupyter-widgets/controls",
     "model_module_version": "1.5.0",
     "model_name": "FloatProgressModel",
     "state": {
      "_dom_classes": [],
      "_model_module": "@jupyter-widgets/controls",
      "_model_module_version": "1.5.0",
      "_model_name": "FloatProgressModel",
      "_view_count": null,
      "_view_module": "@jupyter-widgets/controls",
      "_view_module_version": "1.5.0",
      "_view_name": "ProgressView",
      "bar_style": "success",
      "description": "",
      "description_tooltip": null,
      "layout": "IPY_MODEL_39c1b8c5d7214f4ea8aebbc4e84a3e8b",
      "max": 5001,
      "min": 0,
      "orientation": "horizontal",
      "style": "IPY_MODEL_b9946f999c67477f83a09fe351d7e33b",
      "value": 5001
     }
    },
    "b4ab621b993f4a879c627d4c22447ead": {
     "model_module": "@jupyter-widgets/controls",
     "model_module_version": "1.5.0",
     "model_name": "HBoxModel",
     "state": {
      "_dom_classes": [],
      "_model_module": "@jupyter-widgets/controls",
      "_model_module_version": "1.5.0",
      "_model_name": "HBoxModel",
      "_view_count": null,
      "_view_module": "@jupyter-widgets/controls",
      "_view_module_version": "1.5.0",
      "_view_name": "HBoxView",
      "box_style": "",
      "children": [
       "IPY_MODEL_e7bd2cb80d2b4379abe45543120cae29",
       "IPY_MODEL_29e272438def4be49be8607110d4c302",
       "IPY_MODEL_43aa43b8855b46e59a849c3e0173bf50"
      ],
      "layout": "IPY_MODEL_345b6b3525274c62bde7964180349268"
     }
    },
    "b978246119e942c7818b126e9b902b3a": {
     "model_module": "@jupyter-widgets/controls",
     "model_module_version": "1.5.0",
     "model_name": "ProgressStyleModel",
     "state": {
      "_model_module": "@jupyter-widgets/controls",
      "_model_module_version": "1.5.0",
      "_model_name": "ProgressStyleModel",
      "_view_count": null,
      "_view_module": "@jupyter-widgets/base",
      "_view_module_version": "1.2.0",
      "_view_name": "StyleView",
      "bar_color": null,
      "description_width": ""
     }
    },
    "b9946f999c67477f83a09fe351d7e33b": {
     "model_module": "@jupyter-widgets/controls",
     "model_module_version": "1.5.0",
     "model_name": "ProgressStyleModel",
     "state": {
      "_model_module": "@jupyter-widgets/controls",
      "_model_module_version": "1.5.0",
      "_model_name": "ProgressStyleModel",
      "_view_count": null,
      "_view_module": "@jupyter-widgets/base",
      "_view_module_version": "1.2.0",
      "_view_name": "StyleView",
      "bar_color": null,
      "description_width": ""
     }
    },
    "bac0443395d842d89c5cacf38f998c02": {
     "model_module": "@jupyter-widgets/base",
     "model_module_version": "1.2.0",
     "model_name": "LayoutModel",
     "state": {
      "_model_module": "@jupyter-widgets/base",
      "_model_module_version": "1.2.0",
      "_model_name": "LayoutModel",
      "_view_count": null,
      "_view_module": "@jupyter-widgets/base",
      "_view_module_version": "1.2.0",
      "_view_name": "LayoutView",
      "align_content": null,
      "align_items": null,
      "align_self": null,
      "border": null,
      "bottom": null,
      "display": null,
      "flex": null,
      "flex_flow": null,
      "grid_area": null,
      "grid_auto_columns": null,
      "grid_auto_flow": null,
      "grid_auto_rows": null,
      "grid_column": null,
      "grid_gap": null,
      "grid_row": null,
      "grid_template_areas": null,
      "grid_template_columns": null,
      "grid_template_rows": null,
      "height": null,
      "justify_content": null,
      "justify_items": null,
      "left": null,
      "margin": null,
      "max_height": null,
      "max_width": null,
      "min_height": null,
      "min_width": null,
      "object_fit": null,
      "object_position": null,
      "order": null,
      "overflow": null,
      "overflow_x": null,
      "overflow_y": null,
      "padding": null,
      "right": null,
      "top": null,
      "visibility": null,
      "width": null
     }
    },
    "be01f0ee5ed8442a9da833c6e3a609b5": {
     "model_module": "@jupyter-widgets/controls",
     "model_module_version": "1.5.0",
     "model_name": "DescriptionStyleModel",
     "state": {
      "_model_module": "@jupyter-widgets/controls",
      "_model_module_version": "1.5.0",
      "_model_name": "DescriptionStyleModel",
      "_view_count": null,
      "_view_module": "@jupyter-widgets/base",
      "_view_module_version": "1.2.0",
      "_view_name": "StyleView",
      "description_width": ""
     }
    },
    "c7f30dce2f4f492ba382726159859b90": {
     "model_module": "@jupyter-widgets/controls",
     "model_module_version": "1.5.0",
     "model_name": "HTMLModel",
     "state": {
      "_dom_classes": [],
      "_model_module": "@jupyter-widgets/controls",
      "_model_module_version": "1.5.0",
      "_model_name": "HTMLModel",
      "_view_count": null,
      "_view_module": "@jupyter-widgets/controls",
      "_view_module_version": "1.5.0",
      "_view_name": "HTMLView",
      "description": "",
      "description_tooltip": null,
      "layout": "IPY_MODEL_bac0443395d842d89c5cacf38f998c02",
      "placeholder": "​",
      "style": "IPY_MODEL_e9e77d4cef364d38a192c58817577d66",
      "value": "100%"
     }
    },
    "c8efb5bfcee14732bdaeed7c430c235e": {
     "model_module": "@jupyter-widgets/base",
     "model_module_version": "1.2.0",
     "model_name": "LayoutModel",
     "state": {
      "_model_module": "@jupyter-widgets/base",
      "_model_module_version": "1.2.0",
      "_model_name": "LayoutModel",
      "_view_count": null,
      "_view_module": "@jupyter-widgets/base",
      "_view_module_version": "1.2.0",
      "_view_name": "LayoutView",
      "align_content": null,
      "align_items": null,
      "align_self": null,
      "border": null,
      "bottom": null,
      "display": null,
      "flex": null,
      "flex_flow": null,
      "grid_area": null,
      "grid_auto_columns": null,
      "grid_auto_flow": null,
      "grid_auto_rows": null,
      "grid_column": null,
      "grid_gap": null,
      "grid_row": null,
      "grid_template_areas": null,
      "grid_template_columns": null,
      "grid_template_rows": null,
      "height": null,
      "justify_content": null,
      "justify_items": null,
      "left": null,
      "margin": null,
      "max_height": null,
      "max_width": null,
      "min_height": null,
      "min_width": null,
      "object_fit": null,
      "object_position": null,
      "order": null,
      "overflow": null,
      "overflow_x": null,
      "overflow_y": null,
      "padding": null,
      "right": null,
      "top": null,
      "visibility": null,
      "width": null
     }
    },
    "ce1ada80ecb6427a857c8f0a1076c029": {
     "model_module": "@jupyter-widgets/controls",
     "model_module_version": "1.5.0",
     "model_name": "DescriptionStyleModel",
     "state": {
      "_model_module": "@jupyter-widgets/controls",
      "_model_module_version": "1.5.0",
      "_model_name": "DescriptionStyleModel",
      "_view_count": null,
      "_view_module": "@jupyter-widgets/base",
      "_view_module_version": "1.2.0",
      "_view_name": "StyleView",
      "description_width": ""
     }
    },
    "cfec0af668844031ae87448b88ad70af": {
     "model_module": "@jupyter-widgets/controls",
     "model_module_version": "1.5.0",
     "model_name": "HBoxModel",
     "state": {
      "_dom_classes": [],
      "_model_module": "@jupyter-widgets/controls",
      "_model_module_version": "1.5.0",
      "_model_name": "HBoxModel",
      "_view_count": null,
      "_view_module": "@jupyter-widgets/controls",
      "_view_module_version": "1.5.0",
      "_view_name": "HBoxView",
      "box_style": "",
      "children": [
       "IPY_MODEL_c7f30dce2f4f492ba382726159859b90",
       "IPY_MODEL_134c5404c529448f842917125a277e0d",
       "IPY_MODEL_64f50a70a9594ce889cc645643063dd3"
      ],
      "layout": "IPY_MODEL_294d039f558846a7a1fccb2b940ad4aa"
     }
    },
    "d53900b28f1a4a2997b8eef5184b7a1d": {
     "model_module": "@jupyter-widgets/controls",
     "model_module_version": "1.5.0",
     "model_name": "HBoxModel",
     "state": {
      "_dom_classes": [],
      "_model_module": "@jupyter-widgets/controls",
      "_model_module_version": "1.5.0",
      "_model_name": "HBoxModel",
      "_view_count": null,
      "_view_module": "@jupyter-widgets/controls",
      "_view_module_version": "1.5.0",
      "_view_name": "HBoxView",
      "box_style": "",
      "children": [
       "IPY_MODEL_f2a07b219cfa49eba992d109e2091445",
       "IPY_MODEL_b11ca4f2601d4f76979d576f5672d6d8",
       "IPY_MODEL_59b2bc20c9524bd89b28c31ceb8b758f"
      ],
      "layout": "IPY_MODEL_18b1c5dd9b9c457a813fc62b94014298"
     }
    },
    "df55c2a2a6f64d89b55fab63b9301949": {
     "model_module": "@jupyter-widgets/controls",
     "model_module_version": "1.5.0",
     "model_name": "DescriptionStyleModel",
     "state": {
      "_model_module": "@jupyter-widgets/controls",
      "_model_module_version": "1.5.0",
      "_model_name": "DescriptionStyleModel",
      "_view_count": null,
      "_view_module": "@jupyter-widgets/base",
      "_view_module_version": "1.2.0",
      "_view_name": "StyleView",
      "description_width": ""
     }
    },
    "e53fdcd3aa5b4660aadd6c97373e9b4c": {
     "model_module": "@jupyter-widgets/base",
     "model_module_version": "1.2.0",
     "model_name": "LayoutModel",
     "state": {
      "_model_module": "@jupyter-widgets/base",
      "_model_module_version": "1.2.0",
      "_model_name": "LayoutModel",
      "_view_count": null,
      "_view_module": "@jupyter-widgets/base",
      "_view_module_version": "1.2.0",
      "_view_name": "LayoutView",
      "align_content": null,
      "align_items": null,
      "align_self": null,
      "border": null,
      "bottom": null,
      "display": null,
      "flex": null,
      "flex_flow": null,
      "grid_area": null,
      "grid_auto_columns": null,
      "grid_auto_flow": null,
      "grid_auto_rows": null,
      "grid_column": null,
      "grid_gap": null,
      "grid_row": null,
      "grid_template_areas": null,
      "grid_template_columns": null,
      "grid_template_rows": null,
      "height": null,
      "justify_content": null,
      "justify_items": null,
      "left": null,
      "margin": null,
      "max_height": null,
      "max_width": null,
      "min_height": null,
      "min_width": null,
      "object_fit": null,
      "object_position": null,
      "order": null,
      "overflow": null,
      "overflow_x": null,
      "overflow_y": null,
      "padding": null,
      "right": null,
      "top": null,
      "visibility": null,
      "width": null
     }
    },
    "e7bd2cb80d2b4379abe45543120cae29": {
     "model_module": "@jupyter-widgets/controls",
     "model_module_version": "1.5.0",
     "model_name": "HTMLModel",
     "state": {
      "_dom_classes": [],
      "_model_module": "@jupyter-widgets/controls",
      "_model_module_version": "1.5.0",
      "_model_name": "HTMLModel",
      "_view_count": null,
      "_view_module": "@jupyter-widgets/controls",
      "_view_module_version": "1.5.0",
      "_view_name": "HTMLView",
      "description": "",
      "description_tooltip": null,
      "layout": "IPY_MODEL_9e54299536b941398446e57f99e04292",
      "placeholder": "​",
      "style": "IPY_MODEL_be01f0ee5ed8442a9da833c6e3a609b5",
      "value": "100%"
     }
    },
    "e9e77d4cef364d38a192c58817577d66": {
     "model_module": "@jupyter-widgets/controls",
     "model_module_version": "1.5.0",
     "model_name": "DescriptionStyleModel",
     "state": {
      "_model_module": "@jupyter-widgets/controls",
      "_model_module_version": "1.5.0",
      "_model_name": "DescriptionStyleModel",
      "_view_count": null,
      "_view_module": "@jupyter-widgets/base",
      "_view_module_version": "1.2.0",
      "_view_name": "StyleView",
      "description_width": ""
     }
    },
    "f2a07b219cfa49eba992d109e2091445": {
     "model_module": "@jupyter-widgets/controls",
     "model_module_version": "1.5.0",
     "model_name": "HTMLModel",
     "state": {
      "_dom_classes": [],
      "_model_module": "@jupyter-widgets/controls",
      "_model_module_version": "1.5.0",
      "_model_name": "HTMLModel",
      "_view_count": null,
      "_view_module": "@jupyter-widgets/controls",
      "_view_module_version": "1.5.0",
      "_view_name": "HTMLView",
      "description": "",
      "description_tooltip": null,
      "layout": "IPY_MODEL_e53fdcd3aa5b4660aadd6c97373e9b4c",
      "placeholder": "​",
      "style": "IPY_MODEL_df55c2a2a6f64d89b55fab63b9301949",
      "value": "100%"
     }
    },
    "f9e7bbfb196a42e9b97626a339cea9e3": {
     "model_module": "@jupyter-widgets/controls",
     "model_module_version": "1.5.0",
     "model_name": "HTMLModel",
     "state": {
      "_dom_classes": [],
      "_model_module": "@jupyter-widgets/controls",
      "_model_module_version": "1.5.0",
      "_model_name": "HTMLModel",
      "_view_count": null,
      "_view_module": "@jupyter-widgets/controls",
      "_view_module_version": "1.5.0",
      "_view_name": "HTMLView",
      "description": "",
      "description_tooltip": null,
      "layout": "IPY_MODEL_0f0be173e5ad4caba3f5b3e72e994a57",
      "placeholder": "​",
      "style": "IPY_MODEL_5ed3fc64abf345a59b8348da0de36fbc",
      "value": " 5001/5001 [00:01&lt;00:00, 3487.63it/s]"
     }
    }
   }
  }
 },
 "nbformat": 4,
 "nbformat_minor": 0
}