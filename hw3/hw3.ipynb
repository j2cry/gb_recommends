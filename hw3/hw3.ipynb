{
 "cells": [
  {
   "cell_type": "markdown",
   "source": [
    "Q: Вспомним прошлый вебинар, мы рассматривали User-User рекомендации и Item-Item рекомендации. Чем они отличаются и чем они похожи?\n",
    "A: Оба принципа работают на основе look-alike (косинусное сходство, KNN, etc). User-user рекомендации осложняются тем, что у каждого пользователя свое субъективное отношение к рейтингу. Это осложняет поиск похожих пользователей и ставит задачу объективизации пользовательских оценок.\n",
    "\n",
    "Q: Если есть функция item_item_rec(interaction_matrix). Можно ли использовать эту функцию для user_user_rec?\n",
    "A: В целом, можно, но с поправкой на оси, в которых представлены требуемые данные и учетом особенностей взвешивания предсказаний, о чем написано выше.\n",
    "\n",
    "Q: В чем принципиальные отличия item-item рекомендаций от ALS?\n",
    "A: Алгоритмы item-item рекомендации имеют ряд недостатков, которых лишены рекомендации на основе матричной факторизации:\n",
    "* рекомендации не персонализированы\n",
    "* в случае отсутствия или малого количества откликов на позицию, она имеет мало шансов попасть в рекомендации (может быть чувствительно для недавно появившихся позиций)\n",
    "\n",
    "Q: Приведите 3 примера весов user-item матрицы для задачи рекомендаций товаров\n",
    "A: Ниже в коде реализованы следующие варианты\n",
    "* количество чеков, в которых присутствует товар: больше присутсвия в чеках => больше релевантность\n",
    "* количество дней, в которые товар был куплен: бустит товары ежедневного спроса\n",
    "* количество чеков на покупателя: больше чеков => больше значимость покупок\n",
    "* количество дней, когда покупатель совершал покупки: чем чаще покупает, тем значимее его\n",
    "* средняя сумма чека для каждого покупателя: чем больше сумма, тем весомее его выбор (звучит не совсем логично, но попробовать можно)\n",
    "\n",
    "Это простейшие варианты взвешивания, которые реализованы в коде ниже. Также можно делать различные их комбинации, делать веса на основе продуктовой/пользовательской сегментации, учитывать сезонность или даже время суток и возраст покупателя, если есть соответствующие данные для анализа.\n",
    "\n",
    "Q: Какие ограничения есть у ALS?\n",
    "A: ALS представляет собой двухэтапный итеративный процесс оптимизации: на каждой итерации сначала фиксируется матрица U, оптимизируется V, потом наоборот. Таким образом, задача сводится к методу наименьших квадратов (линейной регрессии). А поскольку каждый ${U_i}$ не зависит от ${U_{j!=i}}$, то и оптимизировать их можно независимо и параллельно. Соответственно, алгоритм может обрабатывать только числовые величины.\n"
   ],
   "metadata": {
    "collapsed": false,
    "pycharm": {
     "name": "#%% md\n"
    }
   }
  },
  {
   "cell_type": "code",
   "execution_count": 20,
   "metadata": {
    "collapsed": true,
    "pycharm": {
     "name": "#%%\n"
    }
   },
   "outputs": [],
   "source": [
    "import numpy as np\n",
    "import pandas as pd\n",
    "import matplotlib.pyplot as plt\n",
    "\n",
    "from scipy.sparse import csr_matrix, save_npz, load_npz\n",
    "from implicit.als import AlternatingLeastSquares\n",
    "from implicit.nearest_neighbours import bm25_weight, tfidf_weight\n",
    "\n",
    "from hyperopt import hp, fmin, tpe\n",
    "from hyperopt.pyll import scope, stochastic\n",
    "\n",
    "from functools import partial\n",
    "from sklearn.preprocessing import StandardScaler\n",
    "from sklearn.base import TransformerMixin\n",
    "\n",
    "from typing import List"
   ]
  },
  {
   "cell_type": "markdown",
   "source": [
    "## load & split"
   ],
   "metadata": {
    "collapsed": false,
    "pycharm": {
     "name": "#%% md\n"
    }
   }
  },
  {
   "cell_type": "code",
   "execution_count": 21,
   "outputs": [
    {
     "data": {
      "text/plain": "   user_id    basket_id  day  item_id  quantity  sales_value  store_id  \\\n0     2375  26984851472    1  1004906         1         1.39       364   \n1     2375  26984851472    1  1033142         1         0.82       364   \n2     2375  26984851472    1  1036325         1         0.99       364   \n\n   retail_disc  trans_time  week_no  coupon_disc  coupon_match_disc  \n0         -0.6        1631        1          0.0                0.0  \n1          0.0        1631        1          0.0                0.0  \n2         -0.3        1631        1          0.0                0.0  ",
      "text/html": "<div>\n<style scoped>\n    .dataframe tbody tr th:only-of-type {\n        vertical-align: middle;\n    }\n\n    .dataframe tbody tr th {\n        vertical-align: top;\n    }\n\n    .dataframe thead th {\n        text-align: right;\n    }\n</style>\n<table border=\"1\" class=\"dataframe\">\n  <thead>\n    <tr style=\"text-align: right;\">\n      <th></th>\n      <th>user_id</th>\n      <th>basket_id</th>\n      <th>day</th>\n      <th>item_id</th>\n      <th>quantity</th>\n      <th>sales_value</th>\n      <th>store_id</th>\n      <th>retail_disc</th>\n      <th>trans_time</th>\n      <th>week_no</th>\n      <th>coupon_disc</th>\n      <th>coupon_match_disc</th>\n    </tr>\n  </thead>\n  <tbody>\n    <tr>\n      <th>0</th>\n      <td>2375</td>\n      <td>26984851472</td>\n      <td>1</td>\n      <td>1004906</td>\n      <td>1</td>\n      <td>1.39</td>\n      <td>364</td>\n      <td>-0.6</td>\n      <td>1631</td>\n      <td>1</td>\n      <td>0.0</td>\n      <td>0.0</td>\n    </tr>\n    <tr>\n      <th>1</th>\n      <td>2375</td>\n      <td>26984851472</td>\n      <td>1</td>\n      <td>1033142</td>\n      <td>1</td>\n      <td>0.82</td>\n      <td>364</td>\n      <td>0.0</td>\n      <td>1631</td>\n      <td>1</td>\n      <td>0.0</td>\n      <td>0.0</td>\n    </tr>\n    <tr>\n      <th>2</th>\n      <td>2375</td>\n      <td>26984851472</td>\n      <td>1</td>\n      <td>1036325</td>\n      <td>1</td>\n      <td>0.99</td>\n      <td>364</td>\n      <td>-0.3</td>\n      <td>1631</td>\n      <td>1</td>\n      <td>0.0</td>\n      <td>0.0</td>\n    </tr>\n  </tbody>\n</table>\n</div>"
     },
     "execution_count": 21,
     "metadata": {},
     "output_type": "execute_result"
    }
   ],
   "source": [
    "purchases = pd.read_csv('retail_train.csv')\n",
    "purchases.head(3)"
   ],
   "metadata": {
    "collapsed": false,
    "pycharm": {
     "name": "#%%\n"
    }
   }
  },
  {
   "cell_type": "code",
   "execution_count": 22,
   "outputs": [],
   "source": [
    "# train/test split\n",
    "test_size_weeks = 3\n",
    "\n",
    "train = purchases[purchases['week_no'] < purchases['week_no'].max() - test_size_weeks].copy()\n",
    "test = purchases[purchases['week_no'] >= purchases['week_no'].max() - test_size_weeks].copy()"
   ],
   "metadata": {
    "collapsed": false,
    "pycharm": {
     "name": "#%%\n"
    }
   }
  },
  {
   "cell_type": "code",
   "execution_count": 23,
   "outputs": [],
   "source": [
    "# products = pd.read_csv('product.csv')\n",
    "# products.head(3)"
   ],
   "metadata": {
    "collapsed": false,
    "pycharm": {
     "name": "#%%\n"
    }
   }
  },
  {
   "cell_type": "code",
   "execution_count": 24,
   "outputs": [
    {
     "data": {
      "text/plain": "   user_id                                             actual\n0        1  [821867, 834484, 856942, 865456, 889248, 90795...\n1        3  [835476, 851057, 872021, 878302, 879948, 90963...\n2        6  [920308, 926804, 946489, 1006718, 1017061, 107...",
      "text/html": "<div>\n<style scoped>\n    .dataframe tbody tr th:only-of-type {\n        vertical-align: middle;\n    }\n\n    .dataframe tbody tr th {\n        vertical-align: top;\n    }\n\n    .dataframe thead th {\n        text-align: right;\n    }\n</style>\n<table border=\"1\" class=\"dataframe\">\n  <thead>\n    <tr style=\"text-align: right;\">\n      <th></th>\n      <th>user_id</th>\n      <th>actual</th>\n    </tr>\n  </thead>\n  <tbody>\n    <tr>\n      <th>0</th>\n      <td>1</td>\n      <td>[821867, 834484, 856942, 865456, 889248, 90795...</td>\n    </tr>\n    <tr>\n      <th>1</th>\n      <td>3</td>\n      <td>[835476, 851057, 872021, 878302, 879948, 90963...</td>\n    </tr>\n    <tr>\n      <th>2</th>\n      <td>6</td>\n      <td>[920308, 926804, 946489, 1006718, 1017061, 107...</td>\n    </tr>\n  </tbody>\n</table>\n</div>"
     },
     "execution_count": 24,
     "metadata": {},
     "output_type": "execute_result"
    }
   ],
   "source": [
    "# prepare result DataFrame\n",
    "true_values = test.groupby('user_id')['item_id'].unique().reset_index()\n",
    "true_values.columns=['user_id', 'actual']\n",
    "true_values.head(3)"
   ],
   "metadata": {
    "collapsed": false,
    "pycharm": {
     "name": "#%%\n"
    }
   }
  },
  {
   "cell_type": "markdown",
   "source": [
    "## Used functions"
   ],
   "metadata": {
    "collapsed": false,
    "pycharm": {
     "name": "#%% md\n"
    }
   }
  },
  {
   "cell_type": "code",
   "execution_count": 25,
   "outputs": [],
   "source": [
    "# Топ популярных товаров\n",
    "def popularity_measure(source, fields: List[str], k=5000, beta: List[float] = None, add_target=None, scaler=None):\n",
    "    \"\"\" Расчет оценки важности товара в покупке и отбор топ K наиболее популярных товаров\n",
    "    :param source - исходные данные\n",
    "    :param fields - признаки, по которым измеряется мера важности товара\n",
    "    :param k - количество товаров, отбираемых в топ\n",
    "    :param beta - множители значимости для каждого признака в оценке\n",
    "    :param add_target - название финального признака. Признак не добавляется, если target = None\n",
    "    :param scaler - класс масштабирования данных\n",
    "    \"\"\"\n",
    "    b = [1.] * len(fields) if beta is None else np.array(beta)\n",
    "    assert len(fields) == len(b), '`fields` and `beta` dimensions must equal'\n",
    "    assert issubclass(StandardScaler, TransformerMixin) or scaler is None, 'scaler must be a subclass of TransformerMixin'\n",
    "    _df = source[['item_id']].copy()\n",
    "    prepared = scaler().fit_transform(source[fields]) * b if scaler else source[fields] * b\n",
    "    values = np.linalg.norm(prepared, ord=2, axis=1)\n",
    "    _df['popularity'] = values\n",
    "    if add_target:\n",
    "        source.loc[:, add_target] = values\n",
    "    popularity = _df.groupby('item_id')['popularity'].sum()\n",
    "    return popularity.sort_values(ascending=False).head(k).index.tolist()"
   ],
   "metadata": {
    "collapsed": false,
    "pycharm": {
     "name": "#%%\n"
    }
   }
  },
  {
   "cell_type": "code",
   "execution_count": 26,
   "outputs": [],
   "source": [
    "def check_model(uim, mdl_params, rec_params, res, ttl='als'):\n",
    "    \"\"\"\n",
    "    :param uim: user-item matrix\n",
    "    :param mdl_params: model init parameters\n",
    "    :param rec_params: recommendation parameters\n",
    "    :param res: true values, including user_id\n",
    "    :param ttl: model title\n",
    "    :return: predicted values (DataFrame)\n",
    "    \"\"\"\n",
    "    mdl = AlternatingLeastSquares(**mdl_params)\n",
    "    mdl.fit(uim.T, show_progress=False)\n",
    "    # rec_params['user_items'] = uim\n",
    "    res[ttl] = res['user_id'].apply(partial(recommender, mdl=mdl, params=rec_params))\n",
    "    return res"
   ],
   "metadata": {
    "collapsed": false,
    "pycharm": {
     "name": "#%%\n"
    }
   }
  },
  {
   "cell_type": "code",
   "execution_count": 27,
   "outputs": [],
   "source": [
    "# предсказатель-интерпретатор\n",
    "def recommender(user_id, mdl, params):\n",
    "    uid = userid_to_id.get(user_id, None)\n",
    "    if uid is None:\n",
    "        return list()\n",
    "    rec_score = mdl.recommend(userid_to_id[user_id], **params)\n",
    "    return [id_to_itemid[rec[0]] for rec in rec_score]"
   ],
   "metadata": {
    "collapsed": false,
    "pycharm": {
     "name": "#%%\n"
    }
   }
  },
  {
   "cell_type": "code",
   "execution_count": 28,
   "outputs": [],
   "source": [
    "# метрики\n",
    "def precision_at_k(recommended_list, bought_list, k=5):\n",
    "    flags = np.isin(bought_list, recommended_list[:k])\n",
    "    return flags.sum() / k\n",
    "\n",
    "def ap_k(recommended_list, bought_list, k=5):\n",
    "    flags = np.isin(recommended_list, bought_list)\n",
    "    if sum(flags) == 0:\n",
    "        return 0\n",
    "\n",
    "    func = partial(precision_at_k, recommended_list, bought_list)\n",
    "    rel_items = np.arange(1, k + 1)[flags[:k]]\n",
    "    return np.sum(list(map(func, rel_items))) / flags.sum()"
   ],
   "metadata": {
    "collapsed": false,
    "pycharm": {
     "name": "#%%\n"
    }
   }
  },
  {
   "cell_type": "code",
   "execution_count": 29,
   "outputs": [],
   "source": [
    "# сериализация расчета метрики\n",
    "def calc_metric(metric_func, source: pd.DataFrame):\n",
    "    \"\"\" Подсчет метрики\n",
    "    :param metric_func - функция измерения метрики. Первый аргумент - рекомендации, второй - актуальные значения\n",
    "    :param source - данные для подсчета метрики\n",
    "    \"\"\"\n",
    "    def metric_wrapper(pred, act):\n",
    "        return metric_func(pred, act) if len(pred) != 0 else 0\n",
    "\n",
    "    metric = pd.DataFrame()\n",
    "    for col in source.columns:\n",
    "        if col == 'user_id':\n",
    "            metric[col] = source[col]\n",
    "        elif col == 'actual':\n",
    "            continue\n",
    "        else:\n",
    "            metric[col] = source[[col, 'actual']].apply(lambda row: metric_wrapper(*row.values), axis=1)\n",
    "    return metric"
   ],
   "metadata": {
    "collapsed": false,
    "pycharm": {
     "name": "#%%\n"
    }
   }
  },
  {
   "cell_type": "code",
   "execution_count": 30,
   "outputs": [],
   "source": [
    "def compare_metrics(res, saveto=None):\n",
    "    pr_at_k = calc_metric(partial(precision_at_k, k=5), res)\n",
    "    ap_at_k = calc_metric(lambda pred, act: ap_k(pred, act, k=min(5, len(pred))), res)\n",
    "    smr = pd.DataFrame([pr_at_k.mean(), ap_at_k.mean()], index=['precision@k', 'map@k']).drop(columns='user_id')\n",
    "    if saveto:\n",
    "        smr.T.to_csv(saveto)\n",
    "    return smr"
   ],
   "metadata": {
    "collapsed": false,
    "pycharm": {
     "name": "#%%\n"
    }
   }
  },
  {
   "cell_type": "code",
   "execution_count": 31,
   "outputs": [],
   "source": [
    "def plot_weight_curve(data: pd.Series, p1=True):\n",
    "    \"\"\" Построение графиков весов \"\"\"\n",
    "    _val = data.sort_values(ascending=False).values\n",
    "    fig, ax = plt.subplots(1, 2, figsize=(12, 3))\n",
    "    fig.suptitle(f'Weights curve for {data.name}')\n",
    "    ax[0].set_title('clean')\n",
    "    ax[0].plot(_val)\n",
    "    ax[1].set_title('log-scaled')\n",
    "    ax[1].plot(np.log1p(_val) if p1 else np.log(_val))\n",
    "    plt.show()"
   ],
   "metadata": {
    "collapsed": false,
    "pycharm": {
     "name": "#%%\n"
    }
   }
  },
  {
   "cell_type": "code",
   "execution_count": 32,
   "outputs": [],
   "source": [
    "def apply_weights(uim, wl, axis, top):\n",
    "    assert len(wl) == len(axis), 'weights and axis lists must be same-dimensional'\n",
    "    res_mat = []\n",
    "    for ax, w in zip(axis, wl):\n",
    "        if ax in [1, 'u', 'user']:\n",
    "            mat = csr_matrix((uim.T * w).T).tocsr()\n",
    "        elif ax in [0, 'i', 'item']:\n",
    "            w = w[w.index.isin(top)]\n",
    "            w[-1] = 1\n",
    "            mat = csr_matrix(uim * w).tocsr()\n",
    "        else:\n",
    "            mat = csr_matrix(uim).tocsr()\n",
    "        res_mat.append(mat)\n",
    "    return res_mat"
   ],
   "metadata": {
    "collapsed": false,
    "pycharm": {
     "name": "#%%\n"
    }
   }
  },
  {
   "cell_type": "markdown",
   "source": [
    "## Мысли вслух"
   ],
   "metadata": {
    "collapsed": false,
    "pycharm": {
     "name": "#%% md\n"
    }
   }
  },
  {
   "cell_type": "raw",
   "source": [
    "Как отбирать товары для топа"
   ],
   "metadata": {
    "collapsed": false,
    "pycharm": {
     "name": "#%% raw\n"
    }
   }
  },
  {
   "cell_type": "raw",
   "source": [
    "Q: Можно ли отбирать только по количеству проданных единиц товара?\n",
    "A: Не желательно, поскольку некоторые товары могут быть популярны, хотя покупаются малыми количествами ввиду, например, крупной фасовки. Также следует внимательно относиться к единицам учета товаров: если картошка измеряется в килограммах, а котлеты - в упаковках, то эти единицы сравнивать между собой некорректно и нужно преобразовать к чему-то единому.\n",
    "\n",
    "Q: Надо ли учитывать стоимость товара?\n",
    "A: Желательно. Иначе в топ могут попасть только дешевые товары, в то время как товары подороже могут оказаться и более релевантны."
   ],
   "metadata": {
    "collapsed": false,
    "pycharm": {
     "name": "#%% raw\n"
    }
   }
  },
  {
   "cell_type": "raw",
   "source": [
    "Рассчитывая топ товаров на train мы упускаем часть товаров, некоторые из которых могли стать мегапопулярными недавно (как было со спиннерами/pop-it/etc.)\n",
    "Таким образом, быстрые тренды поймать не выйдет, но некую оценку товаров, стабильно популярных в прошлом, мы получим."
   ],
   "metadata": {
    "collapsed": false,
    "pycharm": {
     "name": "#%% raw\n"
    }
   }
  },
  {
   "cell_type": "markdown",
   "source": [
    "## Baseline"
   ],
   "metadata": {
    "collapsed": false,
    "pycharm": {
     "name": "#%% md\n"
    }
   }
  },
  {
   "cell_type": "code",
   "execution_count": 33,
   "outputs": [
    {
     "name": "stdout",
     "output_type": "stream",
     "text": [
      "CPU times: user 296 ms, sys: 19.7 ms, total: 316 ms\n",
      "Wall time: 479 ms\n"
     ]
    },
    {
     "data": {
      "text/plain": "[6534178, 6533889, 6534166, 6544236, 1404121, 397896, 1426702]"
     },
     "execution_count": 33,
     "metadata": {},
     "output_type": "execute_result"
    }
   ],
   "source": [
    "# %%time\n",
    "# # стандартный топ5000 по кол-ву проданных единиц\n",
    "# top5k = popularity_measure(train, ['quantity'], k=5000, add_target='popularity')\n",
    "# top5k[:7]"
   ],
   "metadata": {
    "collapsed": false,
    "pycharm": {
     "name": "#%%\n"
    }
   }
  },
  {
   "cell_type": "code",
   "execution_count": 65,
   "outputs": [
    {
     "name": "stdout",
     "output_type": "stream",
     "text": [
      "CPU times: user 735 ms, sys: 704 ms, total: 1.44 s\n",
      "Wall time: 5.4 s\n"
     ]
    },
    {
     "data": {
      "text/plain": "[6534178, 6533889, 1082185, 6534166, 6533765, 995242, 981760]"
     },
     "execution_count": 65,
     "metadata": {},
     "output_type": "execute_result"
    }
   ],
   "source": [
    "%%time\n",
    "# берем топ5000 по оценке популярности товара\n",
    "top5k = popularity_measure(train, ['quantity', 'sales_value'], beta=[1., 1.], k=5000, add_target='popularity', scaler=StandardScaler)\n",
    "top5k[:7]"
   ],
   "metadata": {
    "collapsed": false,
    "pycharm": {
     "name": "#%%\n"
    }
   }
  },
  {
   "cell_type": "code",
   "execution_count": 66,
   "outputs": [
    {
     "data": {
      "text/plain": "   user_id    basket_id  day  item_id  quantity  sales_value  store_id  \\\n0     2375  26984851472    1  1004906         1         1.39       364   \n1     2375  26984851472    1  1033142         1         0.82       364   \n2     2375  26984851472    1  1036325         1         0.99       364   \n3     2375  26984851472    1  1082185         1         1.21       364   \n4     2375  26984851472    1  8160430         1         1.50       364   \n\n   retail_disc  trans_time  week_no  coupon_disc  coupon_match_disc  \\\n0        -0.60        1631        1          0.0                0.0   \n1         0.00        1631        1          0.0                0.0   \n2        -0.30        1631        1          0.0                0.0   \n3         0.00        1631        1          0.0                0.0   \n4        -0.39        1631        1          0.0                0.0   \n\n   popularity  \n0    0.415439  \n1    0.549036  \n2    0.509067  \n3    0.457485  \n4    0.389835  ",
      "text/html": "<div>\n<style scoped>\n    .dataframe tbody tr th:only-of-type {\n        vertical-align: middle;\n    }\n\n    .dataframe tbody tr th {\n        vertical-align: top;\n    }\n\n    .dataframe thead th {\n        text-align: right;\n    }\n</style>\n<table border=\"1\" class=\"dataframe\">\n  <thead>\n    <tr style=\"text-align: right;\">\n      <th></th>\n      <th>user_id</th>\n      <th>basket_id</th>\n      <th>day</th>\n      <th>item_id</th>\n      <th>quantity</th>\n      <th>sales_value</th>\n      <th>store_id</th>\n      <th>retail_disc</th>\n      <th>trans_time</th>\n      <th>week_no</th>\n      <th>coupon_disc</th>\n      <th>coupon_match_disc</th>\n      <th>popularity</th>\n    </tr>\n  </thead>\n  <tbody>\n    <tr>\n      <th>0</th>\n      <td>2375</td>\n      <td>26984851472</td>\n      <td>1</td>\n      <td>1004906</td>\n      <td>1</td>\n      <td>1.39</td>\n      <td>364</td>\n      <td>-0.60</td>\n      <td>1631</td>\n      <td>1</td>\n      <td>0.0</td>\n      <td>0.0</td>\n      <td>0.415439</td>\n    </tr>\n    <tr>\n      <th>1</th>\n      <td>2375</td>\n      <td>26984851472</td>\n      <td>1</td>\n      <td>1033142</td>\n      <td>1</td>\n      <td>0.82</td>\n      <td>364</td>\n      <td>0.00</td>\n      <td>1631</td>\n      <td>1</td>\n      <td>0.0</td>\n      <td>0.0</td>\n      <td>0.549036</td>\n    </tr>\n    <tr>\n      <th>2</th>\n      <td>2375</td>\n      <td>26984851472</td>\n      <td>1</td>\n      <td>1036325</td>\n      <td>1</td>\n      <td>0.99</td>\n      <td>364</td>\n      <td>-0.30</td>\n      <td>1631</td>\n      <td>1</td>\n      <td>0.0</td>\n      <td>0.0</td>\n      <td>0.509067</td>\n    </tr>\n    <tr>\n      <th>3</th>\n      <td>2375</td>\n      <td>26984851472</td>\n      <td>1</td>\n      <td>1082185</td>\n      <td>1</td>\n      <td>1.21</td>\n      <td>364</td>\n      <td>0.00</td>\n      <td>1631</td>\n      <td>1</td>\n      <td>0.0</td>\n      <td>0.0</td>\n      <td>0.457485</td>\n    </tr>\n    <tr>\n      <th>4</th>\n      <td>2375</td>\n      <td>26984851472</td>\n      <td>1</td>\n      <td>8160430</td>\n      <td>1</td>\n      <td>1.50</td>\n      <td>364</td>\n      <td>-0.39</td>\n      <td>1631</td>\n      <td>1</td>\n      <td>0.0</td>\n      <td>0.0</td>\n      <td>0.389835</td>\n    </tr>\n  </tbody>\n</table>\n</div>"
     },
     "execution_count": 66,
     "metadata": {},
     "output_type": "execute_result"
    }
   ],
   "source": [
    "# обработка товаров не из топа\n",
    "top_train = train.copy()\n",
    "top_train.loc[~top_train['item_id'].isin(top5k), 'item_id'] = -1     # товары не из топ5000 превращаем в один товар\n",
    "top_train.head()"
   ],
   "metadata": {
    "collapsed": false,
    "pycharm": {
     "name": "#%%\n"
    }
   }
  },
  {
   "cell_type": "code",
   "execution_count": 67,
   "outputs": [],
   "source": [
    "# подготовка обучающих данных: составление таблицы user-item на основе популярности товара для пользователя\n",
    "user_item_matrix = pd.pivot_table(top_train,\n",
    "                                  index='user_id',\n",
    "                                  columns='item_id',\n",
    "                                  values='popularity',\n",
    "                                  aggfunc='sum',\n",
    "                                  fill_value=0\n",
    "                                 )\n",
    "\n",
    "user_item_matrix = user_item_matrix.astype(float)\n",
    "\n",
    "# переведем в формат sparse matrix\n",
    "sparse_user_item = csr_matrix(user_item_matrix).tocsr()"
   ],
   "metadata": {
    "collapsed": false,
    "pycharm": {
     "name": "#%%\n"
    }
   }
  },
  {
   "cell_type": "code",
   "execution_count": 68,
   "outputs": [
    {
     "data": {
      "text/plain": "item_id   -1          201704     259120     397896     420647     480014    \\\nuser_id                                                                      \n1        223.148156        0.0        0.0        0.0        0.0        0.0   \n2         89.109578        0.0        0.0        0.0        0.0        0.0   \n3         64.136018        0.0        0.0        0.0        0.0        0.0   \n\nitem_id   731106     818980     819063     819255    ...   15927403  \\\nuser_id                                              ...              \n1              0.0        0.0        0.0   0.000000  ...        0.0   \n2              0.0        0.0        0.0   0.000000  ...        0.0   \n3              0.0        0.0        0.0   0.127754  ...        0.0   \n\nitem_id   15927661   15971546   15972074   15972298   16053266   16100266  \\\nuser_id                                                                     \n1              0.0        0.0        0.0        0.0        0.0        0.0   \n2              0.0        0.0        0.0        0.0        0.0        0.0   \n3              0.0        0.0        0.0        0.0        0.0        0.0   \n\nitem_id   16769635   16809471   17242362  \nuser_id                                   \n1              0.0        0.0        0.0  \n2              0.0        0.0        0.0  \n3              0.0        0.0        0.0  \n\n[3 rows x 5001 columns]",
      "text/html": "<div>\n<style scoped>\n    .dataframe tbody tr th:only-of-type {\n        vertical-align: middle;\n    }\n\n    .dataframe tbody tr th {\n        vertical-align: top;\n    }\n\n    .dataframe thead th {\n        text-align: right;\n    }\n</style>\n<table border=\"1\" class=\"dataframe\">\n  <thead>\n    <tr style=\"text-align: right;\">\n      <th>item_id</th>\n      <th>-1</th>\n      <th>201704</th>\n      <th>259120</th>\n      <th>397896</th>\n      <th>420647</th>\n      <th>480014</th>\n      <th>731106</th>\n      <th>818980</th>\n      <th>819063</th>\n      <th>819255</th>\n      <th>...</th>\n      <th>15927403</th>\n      <th>15927661</th>\n      <th>15971546</th>\n      <th>15972074</th>\n      <th>15972298</th>\n      <th>16053266</th>\n      <th>16100266</th>\n      <th>16769635</th>\n      <th>16809471</th>\n      <th>17242362</th>\n    </tr>\n    <tr>\n      <th>user_id</th>\n      <th></th>\n      <th></th>\n      <th></th>\n      <th></th>\n      <th></th>\n      <th></th>\n      <th></th>\n      <th></th>\n      <th></th>\n      <th></th>\n      <th></th>\n      <th></th>\n      <th></th>\n      <th></th>\n      <th></th>\n      <th></th>\n      <th></th>\n      <th></th>\n      <th></th>\n      <th></th>\n      <th></th>\n    </tr>\n  </thead>\n  <tbody>\n    <tr>\n      <th>1</th>\n      <td>223.148156</td>\n      <td>0.0</td>\n      <td>0.0</td>\n      <td>0.0</td>\n      <td>0.0</td>\n      <td>0.0</td>\n      <td>0.0</td>\n      <td>0.0</td>\n      <td>0.0</td>\n      <td>0.000000</td>\n      <td>...</td>\n      <td>0.0</td>\n      <td>0.0</td>\n      <td>0.0</td>\n      <td>0.0</td>\n      <td>0.0</td>\n      <td>0.0</td>\n      <td>0.0</td>\n      <td>0.0</td>\n      <td>0.0</td>\n      <td>0.0</td>\n    </tr>\n    <tr>\n      <th>2</th>\n      <td>89.109578</td>\n      <td>0.0</td>\n      <td>0.0</td>\n      <td>0.0</td>\n      <td>0.0</td>\n      <td>0.0</td>\n      <td>0.0</td>\n      <td>0.0</td>\n      <td>0.0</td>\n      <td>0.000000</td>\n      <td>...</td>\n      <td>0.0</td>\n      <td>0.0</td>\n      <td>0.0</td>\n      <td>0.0</td>\n      <td>0.0</td>\n      <td>0.0</td>\n      <td>0.0</td>\n      <td>0.0</td>\n      <td>0.0</td>\n      <td>0.0</td>\n    </tr>\n    <tr>\n      <th>3</th>\n      <td>64.136018</td>\n      <td>0.0</td>\n      <td>0.0</td>\n      <td>0.0</td>\n      <td>0.0</td>\n      <td>0.0</td>\n      <td>0.0</td>\n      <td>0.0</td>\n      <td>0.0</td>\n      <td>0.127754</td>\n      <td>...</td>\n      <td>0.0</td>\n      <td>0.0</td>\n      <td>0.0</td>\n      <td>0.0</td>\n      <td>0.0</td>\n      <td>0.0</td>\n      <td>0.0</td>\n      <td>0.0</td>\n      <td>0.0</td>\n      <td>0.0</td>\n    </tr>\n  </tbody>\n</table>\n<p>3 rows × 5001 columns</p>\n</div>"
     },
     "execution_count": 68,
     "metadata": {},
     "output_type": "execute_result"
    }
   ],
   "source": [
    "user_item_matrix.head(3)"
   ],
   "metadata": {
    "collapsed": false,
    "pycharm": {
     "name": "#%%\n"
    }
   }
  },
  {
   "cell_type": "code",
   "execution_count": 69,
   "outputs": [],
   "source": [
    "# remap dictionaries\n",
    "id_to_itemid = dict(enumerate(user_item_matrix.columns.values))\n",
    "id_to_userid = dict(enumerate(user_item_matrix.index.values))\n",
    "\n",
    "itemid_to_id = {v: k for k, v in id_to_itemid.items()}\n",
    "userid_to_id = {v: k for k, v in id_to_userid.items()}"
   ],
   "metadata": {
    "collapsed": false,
    "pycharm": {
     "name": "#%%\n"
    }
   }
  },
  {
   "cell_type": "code",
   "execution_count": 71,
   "outputs": [],
   "source": [
    "# подготовка параметров обучения модели и параметров предсказателя\n",
    "model_params = {'factors': 44,\n",
    "                'regularization': 0.001,\n",
    "                'iterations': 15,\n",
    "                'calculate_training_loss': True,\n",
    "                'use_gpu': False,\n",
    "                'random_state': 23}\n",
    "\n",
    "recommender_params = {\n",
    "    'user_items': sparse_user_item,\n",
    "    'N': 5, # кол-во рекомендаций\n",
    "    'filter_already_liked_items': False,\n",
    "    'filter_items': [itemid_to_id[-1]],\n",
    "    'recalculate_user': True\n",
    "}"
   ],
   "metadata": {
    "collapsed": false,
    "pycharm": {
     "name": "#%%\n"
    }
   }
  },
  {
   "cell_type": "code",
   "execution_count": 40,
   "outputs": [
    {
     "name": "stdout",
     "output_type": "stream",
     "text": [
      "CPU times: user 1min 30s, sys: 53.7 s, total: 2min 24s\n",
      "Wall time: 1min 43s\n"
     ]
    }
   ],
   "source": [
    "%%time\n",
    "# обучение\n",
    "result = check_model(sparse_user_item, model_params, recommender_params, true_values.copy(), 'als_baseline')"
   ],
   "metadata": {
    "collapsed": false,
    "pycharm": {
     "name": "#%%\n"
    }
   }
  },
  {
   "cell_type": "code",
   "execution_count": 41,
   "outputs": [
    {
     "data": {
      "text/plain": "             als_baseline\nprecision@k      0.167385\nmap@k            0.293513",
      "text/html": "<div>\n<style scoped>\n    .dataframe tbody tr th:only-of-type {\n        vertical-align: middle;\n    }\n\n    .dataframe tbody tr th {\n        vertical-align: top;\n    }\n\n    .dataframe thead th {\n        text-align: right;\n    }\n</style>\n<table border=\"1\" class=\"dataframe\">\n  <thead>\n    <tr style=\"text-align: right;\">\n      <th></th>\n      <th>als_baseline</th>\n    </tr>\n  </thead>\n  <tbody>\n    <tr>\n      <th>precision@k</th>\n      <td>0.167385</td>\n    </tr>\n    <tr>\n      <th>map@k</th>\n      <td>0.293513</td>\n    </tr>\n  </tbody>\n</table>\n</div>"
     },
     "execution_count": 41,
     "metadata": {},
     "output_type": "execute_result"
    }
   ],
   "source": [
    "compare_metrics(result)"
   ],
   "metadata": {
    "collapsed": false,
    "pycharm": {
     "name": "#%%\n"
    }
   }
  },
  {
   "cell_type": "markdown",
   "source": [
    "## Взвешивание"
   ],
   "metadata": {
    "collapsed": false,
    "pycharm": {
     "name": "#%% md\n"
    }
   }
  },
  {
   "cell_type": "markdown",
   "source": [
    "#### tf-idf / bm25"
   ],
   "metadata": {
    "collapsed": false,
    "pycharm": {
     "name": "#%% md\n"
    }
   }
  },
  {
   "cell_type": "code",
   "execution_count": 42,
   "outputs": [
    {
     "name": "stdout",
     "output_type": "stream",
     "text": [
      "CPU times: user 3min 4s, sys: 1min 52s, total: 4min 57s\n",
      "Wall time: 3min 31s\n"
     ]
    }
   ],
   "source": [
    "%%time\n",
    "result = check_model(csr_matrix(tfidf_weight(user_item_matrix.T).T).tocsr(), model_params, recommender_params, result, 'als_tf-idf')\n",
    "result = check_model(csr_matrix(bm25_weight(user_item_matrix.T).T).tocsr(), model_params, recommender_params, result, 'als_bm25')"
   ],
   "metadata": {
    "collapsed": false,
    "pycharm": {
     "name": "#%%\n"
    }
   }
  },
  {
   "cell_type": "markdown",
   "source": [
    "### оценка весов товаров"
   ],
   "metadata": {
    "collapsed": false,
    "pycharm": {
     "name": "#%% md\n"
    }
   }
  },
  {
   "cell_type": "markdown",
   "source": [
    "#### количество чеков, в которых есть товар"
   ],
   "metadata": {
    "collapsed": false,
    "pycharm": {
     "name": "#%% md\n"
    }
   }
  },
  {
   "cell_type": "code",
   "execution_count": 43,
   "outputs": [
    {
     "data": {
      "text/plain": "item_id\n1082185    26127\n6534178    17545\n1029743    12737\nName: item_basket_count, dtype: int64"
     },
     "execution_count": 43,
     "metadata": {},
     "output_type": "execute_result"
    }
   ],
   "source": [
    "item_basket_count = train.groupby('item_id')['basket_id'].count().rename('item_basket_count')\n",
    "item_basket_count[item_basket_count.index.isin(top5k)].sort_values(ascending=False).head(3)"
   ],
   "metadata": {
    "collapsed": false,
    "pycharm": {
     "name": "#%%\n"
    }
   }
  },
  {
   "cell_type": "code",
   "execution_count": 44,
   "outputs": [
    {
     "data": {
      "text/plain": "<Figure size 864x216 with 2 Axes>",
      "image/png": "[encoded data removed]"
     },
     "metadata": {
      "needs_background": "light"
     },
     "output_type": "display_data"
    }
   ],
   "source": [
    "plot_weight_curve(item_basket_count[item_basket_count.index.isin(top5k)])"
   ],
   "metadata": {
    "collapsed": false,
    "pycharm": {
     "name": "#%%\n"
    }
   }
  },
  {
   "cell_type": "raw",
   "source": [
    "Первые 10 товаров топа будут иметь значительный буст."
   ],
   "metadata": {
    "collapsed": false,
    "pycharm": {
     "name": "#%% raw\n"
    }
   }
  },
  {
   "cell_type": "markdown",
   "source": [
    "#### количество дней, когда товар был куплен"
   ],
   "metadata": {
    "collapsed": false,
    "pycharm": {
     "name": "#%% md\n"
    }
   }
  },
  {
   "cell_type": "code",
   "execution_count": 45,
   "outputs": [
    {
     "data": {
      "text/plain": "item_id\n1029743    633\n1082185    633\n981760     630\nName: sell_days, dtype: int64"
     },
     "execution_count": 45,
     "metadata": {},
     "output_type": "execute_result"
    }
   ],
   "source": [
    "sell_days = train.groupby('item_id')['day'].nunique().rename('sell_days')\n",
    "sell_days[sell_days.index.isin(top5k)].sort_values(ascending=False).head(3)"
   ],
   "metadata": {
    "collapsed": false,
    "pycharm": {
     "name": "#%%\n"
    }
   }
  },
  {
   "cell_type": "code",
   "execution_count": 46,
   "outputs": [
    {
     "data": {
      "text/plain": "<Figure size 864x216 with 2 Axes>",
      "image/png": "[encoded data removed]"
     },
     "metadata": {
      "needs_background": "light"
     },
     "output_type": "display_data"
    }
   ],
   "source": [
    "plot_weight_curve(sell_days[sell_days.index.isin(top5k)])"
   ],
   "metadata": {
    "collapsed": false,
    "pycharm": {
     "name": "#%%\n"
    }
   }
  },
  {
   "cell_type": "raw",
   "source": [
    "Относительно равномерная на протяжении развесовка, очень сильно спадающая к последним товарам"
   ],
   "metadata": {
    "collapsed": false,
    "pycharm": {
     "name": "#%% raw\n"
    }
   }
  },
  {
   "cell_type": "markdown",
   "source": [
    "Заметим, что товар 1029743 по кол-ву проданных единиц можно счесть крайне непопулярным. Однако по встречаемости в чеках он на 3-ем месте, а по дневной продаваемости так вообще на 1ом. А самый популярный по кол-ву товар (6534178) покупали только 643 дня из 663 (15ое место, по данным всего датасета)."
   ],
   "metadata": {
    "collapsed": false,
    "pycharm": {
     "name": "#%% md\n"
    }
   }
  },
  {
   "cell_type": "markdown",
   "source": [
    "### оценка весов покупателей"
   ],
   "metadata": {
    "collapsed": false,
    "pycharm": {
     "name": "#%% md\n"
    }
   }
  },
  {
   "cell_type": "markdown",
   "source": [
    "#### количество чеков каждого покупателя"
   ],
   "metadata": {
    "collapsed": false,
    "pycharm": {
     "name": "#%% md\n"
    }
   }
  },
  {
   "cell_type": "code",
   "execution_count": 47,
   "outputs": [
    {
     "data": {
      "text/plain": "user_id\n2337    1180\n1510    1175\n900     1082\n1795    1009\n2459     949\nName: user_basket_count, dtype: int64"
     },
     "execution_count": 47,
     "metadata": {},
     "output_type": "execute_result"
    }
   ],
   "source": [
    "# кол-во чеков на юзера\n",
    "user_basket_count = train.groupby('user_id')['basket_id'].nunique().rename('user_basket_count')\n",
    "user_basket_count.sort_values(ascending=False).head()"
   ],
   "metadata": {
    "collapsed": false,
    "pycharm": {
     "name": "#%%\n"
    }
   }
  },
  {
   "cell_type": "code",
   "execution_count": 48,
   "outputs": [
    {
     "data": {
      "text/plain": "<Figure size 864x216 with 2 Axes>",
      "image/png": "[encoded data removed]"
     },
     "metadata": {
      "needs_background": "light"
     },
     "output_type": "display_data"
    }
   ],
   "source": [
    "plot_weight_curve(user_basket_count)"
   ],
   "metadata": {
    "collapsed": false,
    "pycharm": {
     "name": "#%%\n"
    }
   }
  },
  {
   "cell_type": "markdown",
   "source": [
    "#### количество дней, когда покупатель совершал покупки"
   ],
   "metadata": {
    "collapsed": false,
    "pycharm": {
     "name": "#%% md\n"
    }
   }
  },
  {
   "cell_type": "code",
   "execution_count": 49,
   "outputs": [
    {
     "data": {
      "text/plain": "user_id\n900     455\n1510    449\n1795    441\n2459    433\n2337    418\nName: buy_days, dtype: int64"
     },
     "execution_count": 49,
     "metadata": {},
     "output_type": "execute_result"
    }
   ],
   "source": [
    "buy_days = train.groupby('user_id')['day'].nunique().rename('buy_days')\n",
    "buy_days.sort_values(ascending=False).head()"
   ],
   "metadata": {
    "collapsed": false,
    "pycharm": {
     "name": "#%%\n"
    }
   }
  },
  {
   "cell_type": "code",
   "execution_count": 50,
   "outputs": [
    {
     "data": {
      "text/plain": "<Figure size 864x216 with 2 Axes>",
      "image/png": "[encoded data removed]"
     },
     "metadata": {
      "needs_background": "light"
     },
     "output_type": "display_data"
    }
   ],
   "source": [
    "plot_weight_curve(buy_days)"
   ],
   "metadata": {
    "collapsed": false,
    "pycharm": {
     "name": "#%%\n"
    }
   }
  },
  {
   "cell_type": "markdown",
   "source": [
    "#### средняя сумма чека каждого покупателя"
   ],
   "metadata": {
    "collapsed": false,
    "pycharm": {
     "name": "#%% md\n"
    }
   }
  },
  {
   "cell_type": "code",
   "execution_count": 51,
   "outputs": [
    {
     "data": {
      "text/plain": "user_id\n1899    164.815968\n2042    160.822222\n973     157.014133\n1900    146.932917\n1574    133.144444\nName: mbv_per_user, dtype: float64"
     },
     "execution_count": 51,
     "metadata": {},
     "output_type": "execute_result"
    }
   ],
   "source": [
    "# mbv = mean basket value\n",
    "feat = train.groupby(['user_id', 'basket_id'])['sales_value'].sum()\n",
    "mbv_per_user = feat.reset_index().groupby('user_id')['sales_value'].mean().rename('mbv_per_user')\n",
    "mbv_per_user.sort_values(ascending=False).head()\n",
    "# то же самое, но по-другому\n",
    "# train.groupby('user_id')['sales_value'].sum() / train.groupby('user_id')['basket_id'].nunique()"
   ],
   "metadata": {
    "collapsed": false,
    "pycharm": {
     "name": "#%%\n"
    }
   }
  },
  {
   "cell_type": "code",
   "execution_count": 52,
   "outputs": [
    {
     "data": {
      "text/plain": "<Figure size 864x216 with 2 Axes>",
      "image/png": "[encoded data removed]"
     },
     "metadata": {
      "needs_background": "light"
     },
     "output_type": "display_data"
    }
   ],
   "source": [
    "plot_weight_curve(mbv_per_user)"
   ],
   "metadata": {
    "collapsed": false,
    "pycharm": {
     "name": "#%%\n"
    }
   }
  },
  {
   "cell_type": "markdown",
   "source": [
    "#### комбинированные веса"
   ],
   "metadata": {
    "collapsed": false,
    "pycharm": {
     "name": "#%% md\n"
    }
   }
  },
  {
   "cell_type": "code",
   "execution_count": 53,
   "outputs": [
    {
     "data": {
      "text/plain": "<Figure size 864x216 with 2 Axes>",
      "image/png": "[encoded data removed]"
     },
     "metadata": {
      "needs_background": "light"
     },
     "output_type": "display_data"
    }
   ],
   "source": [
    "# можно добавить beta-фактор для варьирования степени влияния компонентов\n",
    "norma = np.linalg.norm([np.log1p(item_basket_count), np.log1p(sell_days)], axis=0)\n",
    "comb_item_weight = pd.Series(norma, name='comb_item_weight', index=sell_days.index)\n",
    "plot_weight_curve(comb_item_weight[comb_item_weight.index.isin(top5k)])"
   ],
   "metadata": {
    "collapsed": false,
    "pycharm": {
     "name": "#%%\n"
    }
   }
  },
  {
   "cell_type": "raw",
   "source": [
    "ну и так далее в разных сочетаниях можно пробовать"
   ],
   "metadata": {
    "collapsed": false,
    "pycharm": {
     "name": "#%% raw\n"
    }
   }
  },
  {
   "cell_type": "markdown",
   "source": [
    "#### метрики по весам"
   ],
   "metadata": {
    "collapsed": false,
    "pycharm": {
     "name": "#%% md\n"
    }
   }
  },
  {
   "cell_type": "code",
   "execution_count": 54,
   "outputs": [
    {
     "name": "stdout",
     "output_type": "stream",
     "text": [
      "CPU times: user 5.5 s, sys: 235 ms, total: 5.73 s\n",
      "Wall time: 6.02 s\n"
     ]
    }
   ],
   "source": [
    "# %%time\n",
    "# # собираем списки взвешенных user-item матриц\n",
    "# weights_data = [item_basket_count, np.log1p(item_basket_count),\n",
    "#                 sell_days, np.log1p(sell_days),\n",
    "#                 user_basket_count, np.log1p(user_basket_count),\n",
    "#                 buy_days, np.log1p(buy_days),\n",
    "#                 mbv_per_user, np.log1p(mbv_per_user)]\n",
    "# weights_axis = ['item', 'item',\n",
    "#                 'item', 'item',\n",
    "#                 'user', 'user',\n",
    "#                 'user', 'user',\n",
    "#                 'user', 'user']\n",
    "# weights_title = ['item basket', 'item basket log',\n",
    "#                  'sell days', 'sell days log',\n",
    "#                  'user basket', 'user basket log',\n",
    "#                  'buy days', 'buy days log',\n",
    "#                  'mbv per user', 'mbv per user log']\n",
    "# uim_weighted = apply_weights(user_item_matrix, weights_data, weights_axis, top5k)"
   ],
   "metadata": {
    "collapsed": false,
    "pycharm": {
     "name": "#%%\n"
    }
   }
  },
  {
   "cell_type": "code",
   "execution_count": 55,
   "outputs": [
    {
     "name": "stdout",
     "output_type": "stream",
     "text": [
      "CPU times: user 14min 13s, sys: 8min 38s, total: 22min 52s\n",
      "Wall time: 13min 35s\n"
     ]
    }
   ],
   "source": [
    "# %%time\n",
    "# for matrix, title in zip(uim_weighted, weights_title):\n",
    "#     check_model(matrix, model_params, recommender_params, result, title)"
   ],
   "metadata": {
    "collapsed": false,
    "pycharm": {
     "name": "#%%\n"
    }
   }
  },
  {
   "cell_type": "code",
   "execution_count": 56,
   "outputs": [
    {
     "data": {
      "text/plain": "             als_baseline  als_tf-idf  als_bm25  item basket  item basket log  \\\nprecision@k      0.167385    0.160431  0.028795     0.004114         0.071107   \nmap@k            0.293513    0.286482  0.058546     0.010676         0.141150   \n\n             sell days  sell days log  user basket  user basket log  buy days  \\\nprecision@k   0.007248       0.074731     0.015867         0.087071  0.018217   \nmap@k         0.015687       0.149361     0.034707         0.169245  0.038616   \n\n             buy days log  mbv per user  mbv per user log  \nprecision@k      0.087855      0.025759          0.102351  \nmap@k            0.168885      0.054197          0.194674  ",
      "text/html": "<div>\n<style scoped>\n    .dataframe tbody tr th:only-of-type {\n        vertical-align: middle;\n    }\n\n    .dataframe tbody tr th {\n        vertical-align: top;\n    }\n\n    .dataframe thead th {\n        text-align: right;\n    }\n</style>\n<table border=\"1\" class=\"dataframe\">\n  <thead>\n    <tr style=\"text-align: right;\">\n      <th></th>\n      <th>als_baseline</th>\n      <th>als_tf-idf</th>\n      <th>als_bm25</th>\n      <th>item basket</th>\n      <th>item basket log</th>\n      <th>sell days</th>\n      <th>sell days log</th>\n      <th>user basket</th>\n      <th>user basket log</th>\n      <th>buy days</th>\n      <th>buy days log</th>\n      <th>mbv per user</th>\n      <th>mbv per user log</th>\n    </tr>\n  </thead>\n  <tbody>\n    <tr>\n      <th>precision@k</th>\n      <td>0.167385</td>\n      <td>0.160431</td>\n      <td>0.028795</td>\n      <td>0.004114</td>\n      <td>0.071107</td>\n      <td>0.007248</td>\n      <td>0.074731</td>\n      <td>0.015867</td>\n      <td>0.087071</td>\n      <td>0.018217</td>\n      <td>0.087855</td>\n      <td>0.025759</td>\n      <td>0.102351</td>\n    </tr>\n    <tr>\n      <th>map@k</th>\n      <td>0.293513</td>\n      <td>0.286482</td>\n      <td>0.058546</td>\n      <td>0.010676</td>\n      <td>0.141150</td>\n      <td>0.015687</td>\n      <td>0.149361</td>\n      <td>0.034707</td>\n      <td>0.169245</td>\n      <td>0.038616</td>\n      <td>0.168885</td>\n      <td>0.054197</td>\n      <td>0.194674</td>\n    </tr>\n  </tbody>\n</table>\n</div>"
     },
     "execution_count": 56,
     "metadata": {},
     "output_type": "execute_result"
    }
   ],
   "source": [
    "# compare_metrics(result, 'weighted_metrics_default.csv')\n",
    "# compare_metrics(result, 'weighted_metrics.csv')"
   ],
   "metadata": {
    "collapsed": false,
    "pycharm": {
     "name": "#%%\n"
    }
   }
  },
  {
   "cell_type": "code",
   "execution_count": 57,
   "outputs": [],
   "source": [
    "# сохраняем нужную взвешенную матрицу\n",
    "# save_npz('actual_uim.npz', uim_weighted[1])"
   ],
   "metadata": {
    "collapsed": false,
    "pycharm": {
     "name": "#%%\n"
    }
   }
  },
  {
   "cell_type": "raw",
   "source": [
    "В файле `weighted_metrics_default.csv` представлены метрики взвешивания при бейзлайне на основе `quantity`;\n",
    "В файле `weighted_metrics.csv` представлены метрики взвешивания при бейзлайне на основе `quantity + sales_values`;\n",
    "Метрики комбинированного взвешивания системно не измерялись."
   ],
   "metadata": {
    "collapsed": false,
    "pycharm": {
     "name": "#%% raw\n"
    }
   }
  },
  {
   "cell_type": "code",
   "execution_count": 51,
   "outputs": [
    {
     "data": {
      "text/plain": "             comb_item_weight\nprecision@k          0.217728\nmap@k                0.419930",
      "text/html": "<div>\n<style scoped>\n    .dataframe tbody tr th:only-of-type {\n        vertical-align: middle;\n    }\n\n    .dataframe tbody tr th {\n        vertical-align: top;\n    }\n\n    .dataframe thead th {\n        text-align: right;\n    }\n</style>\n<table border=\"1\" class=\"dataframe\">\n  <thead>\n    <tr style=\"text-align: right;\">\n      <th></th>\n      <th>comb_item_weight</th>\n    </tr>\n  </thead>\n  <tbody>\n    <tr>\n      <th>precision@k</th>\n      <td>0.217728</td>\n    </tr>\n    <tr>\n      <th>map@k</th>\n      <td>0.419930</td>\n    </tr>\n  </tbody>\n</table>\n</div>"
     },
     "execution_count": 51,
     "metadata": {},
     "output_type": "execute_result"
    }
   ],
   "source": [
    "# # метрика для комбинированных весов товаров\n",
    "# compare_metrics(check_model(apply_weights(user_item_matrix, (comb_item_weight,), ('item',), top5k)[0], model_params, recommender_params, true_values.copy(), 'comb_item_weight'))"
   ],
   "metadata": {
    "collapsed": false,
    "pycharm": {
     "name": "#%%\n"
    }
   }
  },
  {
   "cell_type": "markdown",
   "source": [
    "# Зависимость метрик от гиперпараметров"
   ],
   "metadata": {
    "collapsed": false,
    "pycharm": {
     "name": "#%% md\n"
    }
   }
  },
  {
   "cell_type": "raw",
   "source": [
    "Заметил, что в ноутбуке из урока в обучение мы даем взвешенную матрицу, а в функцию предсказатель - оригинальную невзвешенную. Это так и надо?\n",
    "Попробовал в обоих случаях использовать взвешенную, но метрика получается ниже плинтуса."
   ],
   "metadata": {
    "collapsed": false,
    "pycharm": {
     "name": "#%% raw\n"
    }
   }
  },
  {
   "cell_type": "code",
   "execution_count": 72,
   "outputs": [],
   "source": [
    "# load user-item weighted matrix\n",
    "uim_w = load_npz('actual_uim.npz')"
   ],
   "metadata": {
    "collapsed": false,
    "pycharm": {
     "name": "#%%\n"
    }
   }
  },
  {
   "cell_type": "code",
   "execution_count": 81,
   "outputs": [
    {
     "data": {
      "text/plain": "<Figure size 432x288 with 1 Axes>",
      "image/png": "[encoded data removed]"
     },
     "metadata": {
      "needs_background": "light"
     },
     "output_type": "display_data"
    }
   ],
   "source": [
    "# factors-metrics plot\n",
    "factors = [5, 25, 50, 100, 200, 300, 500]\n",
    "predictions = true_values.copy()\n",
    "for fac in factors:\n",
    "    model_params['factors'] = fac\n",
    "    check_model(uim_w, model_params, recommender_params, predictions, f'als_factors_{fac}')\n",
    "\n",
    "metrics = compare_metrics(predictions)\n",
    "\n",
    "plt.plot(factors, metrics.values.T, label=metrics.index)\n",
    "plt.title('metrics-factors dependency')\n",
    "plt.legend();"
   ],
   "metadata": {
    "collapsed": false,
    "pycharm": {
     "name": "#%%\n"
    }
   }
  },
  {
   "cell_type": "markdown",
   "source": [
    "# Оптимизация гиперпараметров"
   ],
   "metadata": {
    "collapsed": false,
    "pycharm": {
     "name": "#%% md\n"
    }
   }
  },
  {
   "cell_type": "code",
   "execution_count": 89,
   "outputs": [],
   "source": [
    "# define objective function\n",
    "def objective(params):\n",
    "    res = check_model(uim_w, params, recommender_params, true_values.copy(), 'als_weighted')\n",
    "    return 1 / compare_metrics(res)['als_weighted']['precision@k']"
   ],
   "metadata": {
    "collapsed": false,
    "pycharm": {
     "name": "#%%\n"
    }
   }
  },
  {
   "cell_type": "code",
   "execution_count": 90,
   "outputs": [],
   "source": [
    "# define a search space\n",
    "search_space = {'factors': 20 + hp.randint('factors', 50),\n",
    "                'regularization': hp.uniform('regularization', 0, 0.05),\n",
    "                'iterations': 5 + hp.randint('iterations', 15),\n",
    "                'use_gpu': False,\n",
    "                'random_state': 23\n",
    "                }"
   ],
   "metadata": {
    "collapsed": false,
    "pycharm": {
     "name": "#%%\n"
    }
   }
  },
  {
   "cell_type": "code",
   "execution_count": 91,
   "outputs": [
    {
     "name": "stdout",
     "output_type": "stream",
     "text": [
      "100%|██████████| 20/20 [10:15<00:00, 30.80s/trial, best loss: 4.5217006200177146]\n"
     ]
    }
   ],
   "source": [
    "# searching\n",
    "best = fmin(objective, search_space, algo=tpe.suggest, max_evals=20)"
   ],
   "metadata": {
    "collapsed": false,
    "pycharm": {
     "name": "#%%\n"
    }
   }
  },
  {
   "cell_type": "code",
   "execution_count": 92,
   "outputs": [
    {
     "data": {
      "text/plain": "             als_weighted\nprecision@k      0.218217\nmap@k            0.415008",
      "text/html": "<div>\n<style scoped>\n    .dataframe tbody tr th:only-of-type {\n        vertical-align: middle;\n    }\n\n    .dataframe tbody tr th {\n        vertical-align: top;\n    }\n\n    .dataframe thead th {\n        text-align: right;\n    }\n</style>\n<table border=\"1\" class=\"dataframe\">\n  <thead>\n    <tr style=\"text-align: right;\">\n      <th></th>\n      <th>als_weighted</th>\n    </tr>\n  </thead>\n  <tbody>\n    <tr>\n      <th>precision@k</th>\n      <td>0.218217</td>\n    </tr>\n    <tr>\n      <th>map@k</th>\n      <td>0.415008</td>\n    </tr>\n  </tbody>\n</table>\n</div>"
     },
     "execution_count": 92,
     "metadata": {},
     "output_type": "execute_result"
    }
   ],
   "source": [
    "# final metric\n",
    "compare_metrics(check_model(uim_w, best, recommender_params, true_values.copy(), 'als_weighted'))"
   ],
   "metadata": {
    "collapsed": false,
    "pycharm": {
     "name": "#%%\n"
    }
   }
  },
  {
   "cell_type": "code",
   "execution_count": null,
   "outputs": [],
   "source": [
    "#"
   ],
   "metadata": {
    "collapsed": false,
    "pycharm": {
     "name": "#%%\n"
    }
   }
  }
 ],
 "metadata": {
  "kernelspec": {
   "display_name": "Python 3",
   "language": "python",
   "name": "python3"
  },
  "language_info": {
   "codemirror_mode": {
    "name": "ipython",
    "version": 2
   },
   "file_extension": ".py",
   "mimetype": "text/x-python",
   "name": "python",
   "nbconvert_exporter": "python",
   "pygments_lexer": "ipython2",
   "version": "2.7.6"
  }
 },
 "nbformat": 4,
 "nbformat_minor": 0
}