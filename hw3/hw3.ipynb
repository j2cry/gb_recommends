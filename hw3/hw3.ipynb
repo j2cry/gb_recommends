{
 "cells": [
  {
   "cell_type": "code",
   "execution_count": 1,
   "metadata": {
    "collapsed": true,
    "pycharm": {
     "name": "#%%\n"
    }
   },
   "outputs": [],
   "source": [
    "import numpy as np\n",
    "import pandas as pd\n",
    "import matplotlib.pyplot as plt\n",
    "\n",
    "from scipy.sparse import csr_matrix\n",
    "from implicit.als import AlternatingLeastSquares\n",
    "from implicit.nearest_neighbours import bm25_weight, tfidf_weight\n",
    "\n",
    "from functools import partial\n",
    "from sklearn.preprocessing import StandardScaler\n",
    "from sklearn.base import TransformerMixin\n",
    "\n",
    "from typing import List"
   ]
  },
  {
   "cell_type": "markdown",
   "source": [
    "## load & split"
   ],
   "metadata": {
    "collapsed": false,
    "pycharm": {
     "name": "#%% md\n"
    }
   }
  },
  {
   "cell_type": "code",
   "execution_count": 2,
   "outputs": [
    {
     "data": {
      "text/plain": "   user_id    basket_id  day  item_id  quantity  sales_value  store_id  \\\n0     2375  26984851472    1  1004906         1         1.39       364   \n1     2375  26984851472    1  1033142         1         0.82       364   \n2     2375  26984851472    1  1036325         1         0.99       364   \n\n   retail_disc  trans_time  week_no  coupon_disc  coupon_match_disc  \n0         -0.6        1631        1          0.0                0.0  \n1          0.0        1631        1          0.0                0.0  \n2         -0.3        1631        1          0.0                0.0  ",
      "text/html": "<div>\n<style scoped>\n    .dataframe tbody tr th:only-of-type {\n        vertical-align: middle;\n    }\n\n    .dataframe tbody tr th {\n        vertical-align: top;\n    }\n\n    .dataframe thead th {\n        text-align: right;\n    }\n</style>\n<table border=\"1\" class=\"dataframe\">\n  <thead>\n    <tr style=\"text-align: right;\">\n      <th></th>\n      <th>user_id</th>\n      <th>basket_id</th>\n      <th>day</th>\n      <th>item_id</th>\n      <th>quantity</th>\n      <th>sales_value</th>\n      <th>store_id</th>\n      <th>retail_disc</th>\n      <th>trans_time</th>\n      <th>week_no</th>\n      <th>coupon_disc</th>\n      <th>coupon_match_disc</th>\n    </tr>\n  </thead>\n  <tbody>\n    <tr>\n      <th>0</th>\n      <td>2375</td>\n      <td>26984851472</td>\n      <td>1</td>\n      <td>1004906</td>\n      <td>1</td>\n      <td>1.39</td>\n      <td>364</td>\n      <td>-0.6</td>\n      <td>1631</td>\n      <td>1</td>\n      <td>0.0</td>\n      <td>0.0</td>\n    </tr>\n    <tr>\n      <th>1</th>\n      <td>2375</td>\n      <td>26984851472</td>\n      <td>1</td>\n      <td>1033142</td>\n      <td>1</td>\n      <td>0.82</td>\n      <td>364</td>\n      <td>0.0</td>\n      <td>1631</td>\n      <td>1</td>\n      <td>0.0</td>\n      <td>0.0</td>\n    </tr>\n    <tr>\n      <th>2</th>\n      <td>2375</td>\n      <td>26984851472</td>\n      <td>1</td>\n      <td>1036325</td>\n      <td>1</td>\n      <td>0.99</td>\n      <td>364</td>\n      <td>-0.3</td>\n      <td>1631</td>\n      <td>1</td>\n      <td>0.0</td>\n      <td>0.0</td>\n    </tr>\n  </tbody>\n</table>\n</div>"
     },
     "execution_count": 2,
     "metadata": {},
     "output_type": "execute_result"
    }
   ],
   "source": [
    "purchases = pd.read_csv('retail_train.csv')\n",
    "purchases.head(3)"
   ],
   "metadata": {
    "collapsed": false,
    "pycharm": {
     "name": "#%%\n"
    }
   }
  },
  {
   "cell_type": "code",
   "execution_count": 3,
   "outputs": [],
   "source": [
    "# train/test split\n",
    "test_size_weeks = 3\n",
    "\n",
    "train = purchases[purchases['week_no'] < purchases['week_no'].max() - test_size_weeks].copy()\n",
    "test = purchases[purchases['week_no'] >= purchases['week_no'].max() - test_size_weeks].copy()"
   ],
   "metadata": {
    "collapsed": false,
    "pycharm": {
     "name": "#%%\n"
    }
   }
  },
  {
   "cell_type": "code",
   "execution_count": 4,
   "outputs": [],
   "source": [
    "# products = pd.read_csv('product.csv')\n",
    "# products.head(3)"
   ],
   "metadata": {
    "collapsed": false,
    "pycharm": {
     "name": "#%%\n"
    }
   }
  },
  {
   "cell_type": "code",
   "execution_count": 5,
   "outputs": [
    {
     "data": {
      "text/plain": "   user_id                                             actual\n0        1  [821867, 834484, 856942, 865456, 889248, 90795...\n1        3  [835476, 851057, 872021, 878302, 879948, 90963...\n2        6  [920308, 926804, 946489, 1006718, 1017061, 107...",
      "text/html": "<div>\n<style scoped>\n    .dataframe tbody tr th:only-of-type {\n        vertical-align: middle;\n    }\n\n    .dataframe tbody tr th {\n        vertical-align: top;\n    }\n\n    .dataframe thead th {\n        text-align: right;\n    }\n</style>\n<table border=\"1\" class=\"dataframe\">\n  <thead>\n    <tr style=\"text-align: right;\">\n      <th></th>\n      <th>user_id</th>\n      <th>actual</th>\n    </tr>\n  </thead>\n  <tbody>\n    <tr>\n      <th>0</th>\n      <td>1</td>\n      <td>[821867, 834484, 856942, 865456, 889248, 90795...</td>\n    </tr>\n    <tr>\n      <th>1</th>\n      <td>3</td>\n      <td>[835476, 851057, 872021, 878302, 879948, 90963...</td>\n    </tr>\n    <tr>\n      <th>2</th>\n      <td>6</td>\n      <td>[920308, 926804, 946489, 1006718, 1017061, 107...</td>\n    </tr>\n  </tbody>\n</table>\n</div>"
     },
     "execution_count": 5,
     "metadata": {},
     "output_type": "execute_result"
    }
   ],
   "source": [
    "# prepare result DataFrame\n",
    "true_values = test.groupby('user_id')['item_id'].unique().reset_index()\n",
    "true_values.columns=['user_id', 'actual']\n",
    "true_values.head(3)"
   ],
   "metadata": {
    "collapsed": false,
    "pycharm": {
     "name": "#%%\n"
    }
   }
  },
  {
   "cell_type": "markdown",
   "source": [
    "## Used functions"
   ],
   "metadata": {
    "collapsed": false,
    "pycharm": {
     "name": "#%% md\n"
    }
   }
  },
  {
   "cell_type": "code",
   "execution_count": 6,
   "outputs": [],
   "source": [
    "# Топ популярных товаров\n",
    "def popularity_measure(source, fields: List[str], k=5000, beta: List[float] = None, add_target=None, scaler=None):\n",
    "    \"\"\" Расчет оценки важности товара в покупке и отбор топ K наиболее популярных товаров\n",
    "    :param source - исходные данные\n",
    "    :param fields - признаки, по которым измеряется мера важности товара\n",
    "    :param k - количество товаров, отбираемых в топ\n",
    "    :param beta - множители значимости для каждого признака в оценке\n",
    "    :param add_target - название финального признака. Признак не добавляется, если target = None\n",
    "    :param scaler - класс масштабирования данных\n",
    "    \"\"\"\n",
    "    b = [1.] * len(fields) if beta is None else np.array(beta)\n",
    "    assert len(fields) == len(b), '`fields` and `beta` dimensions must equal'\n",
    "    assert issubclass(StandardScaler, TransformerMixin) or scaler is None, 'scaler must be a subclass of TransformerMixin'\n",
    "    _df = source[['item_id']].copy()\n",
    "    prepared = scaler().fit_transform(source[fields]) * b if scaler else source[fields] * b\n",
    "    values = np.linalg.norm(prepared, ord=2, axis=1)\n",
    "    _df['popularity'] = values\n",
    "    if add_target:\n",
    "        source.loc[:, add_target] = values\n",
    "    popularity = _df.groupby('item_id')['popularity'].sum()\n",
    "    return popularity.sort_values(ascending=False).head(k).index.tolist()"
   ],
   "metadata": {
    "collapsed": false,
    "pycharm": {
     "name": "#%%\n"
    }
   }
  },
  {
   "cell_type": "code",
   "execution_count": 7,
   "outputs": [],
   "source": [
    "def check_model(uim, mdl_params, rec_params, res, ttl='als'):\n",
    "    \"\"\"\n",
    "    :param uim: user-item matrix\n",
    "    :param mdl_params: model init parameters\n",
    "    :param rec_params: recommendation parameters\n",
    "    :param res: true values, including user_id\n",
    "    :param ttl: model title\n",
    "    :return: predicted values (DataFrame)\n",
    "    \"\"\"\n",
    "    mdl = AlternatingLeastSquares(**mdl_params)\n",
    "    mdl.fit(uim.T, show_progress=False)\n",
    "    res[ttl] = res['user_id'].apply(partial(recommender, mdl=mdl, params=rec_params))\n",
    "    return res"
   ],
   "metadata": {
    "collapsed": false,
    "pycharm": {
     "name": "#%%\n"
    }
   }
  },
  {
   "cell_type": "code",
   "execution_count": 8,
   "outputs": [],
   "source": [
    "# предсказатель-интерпретатор\n",
    "def recommender(user_id, mdl, params):\n",
    "    uid = userid_to_id.get(user_id, None)\n",
    "    if uid is None:\n",
    "        return list()\n",
    "    rec_score = mdl.recommend(userid_to_id[user_id], **params)\n",
    "    return [id_to_itemid[rec[0]] for rec in rec_score]"
   ],
   "metadata": {
    "collapsed": false,
    "pycharm": {
     "name": "#%%\n"
    }
   }
  },
  {
   "cell_type": "code",
   "execution_count": 9,
   "outputs": [],
   "source": [
    "# метрики\n",
    "def precision_at_k(recommended_list, bought_list, k=5):\n",
    "    flags = np.isin(bought_list, recommended_list[:k])\n",
    "    return flags.sum() / k\n",
    "\n",
    "def ap_k(recommended_list, bought_list, k=5):\n",
    "    flags = np.isin(recommended_list, bought_list)\n",
    "    if sum(flags) == 0:\n",
    "        return 0\n",
    "\n",
    "    func = partial(precision_at_k, recommended_list, bought_list)\n",
    "    rel_items = np.arange(1, k + 1)[flags[:k]]\n",
    "    return np.sum(list(map(func, rel_items))) / flags.sum()"
   ],
   "metadata": {
    "collapsed": false,
    "pycharm": {
     "name": "#%%\n"
    }
   }
  },
  {
   "cell_type": "code",
   "execution_count": 10,
   "outputs": [],
   "source": [
    "# сериализация расчета метрики\n",
    "def calc_metric(metric_func, source: pd.DataFrame):\n",
    "    \"\"\" Подсчет метрики\n",
    "    :param metric_func - функция измерения метрики. Первый аргумент - рекомендации, второй - актуальные значения\n",
    "    :param source - данные для подсчета метрики\n",
    "    \"\"\"\n",
    "    def metric_wrapper(pred, act):\n",
    "        return metric_func(pred, act) if len(pred) != 0 else 0\n",
    "\n",
    "    metric = pd.DataFrame()\n",
    "    for col in source.columns:\n",
    "        if col == 'user_id':\n",
    "            metric[col] = source[col]\n",
    "        elif col == 'actual':\n",
    "            continue\n",
    "        else:\n",
    "            metric[col] = source[[col, 'actual']].apply(lambda row: metric_wrapper(*row.values), axis=1)\n",
    "    return metric"
   ],
   "metadata": {
    "collapsed": false,
    "pycharm": {
     "name": "#%%\n"
    }
   }
  },
  {
   "cell_type": "code",
   "execution_count": 45,
   "outputs": [],
   "source": [
    "def compare_metrics(res, saveto=None):\n",
    "    pr_at_k = calc_metric(partial(precision_at_k, k=5), res)\n",
    "    ap_at_k = calc_metric(lambda pred, act: ap_k(pred, act, k=min(5, len(pred))), res)\n",
    "    smr = pd.DataFrame([pr_at_k.mean(), ap_at_k.mean()], index=['precision@k', 'map@k']).drop(columns='user_id')\n",
    "    if saveto:\n",
    "        smr.T.to_csv(saveto)\n",
    "    return smr"
   ],
   "metadata": {
    "collapsed": false,
    "pycharm": {
     "name": "#%%\n"
    }
   }
  },
  {
   "cell_type": "code",
   "execution_count": 12,
   "outputs": [],
   "source": [
    "def plot_weight_curve(data: pd.Series, p1=False):\n",
    "    \"\"\" Построение графиков весов \"\"\"\n",
    "    _val = data.sort_values(ascending=False).values\n",
    "    fig, ax = plt.subplots(1, 2, figsize=(12, 3))\n",
    "    fig.suptitle(f'Weights curve for {data.name}')\n",
    "    ax[0].set_title('clean')\n",
    "    ax[0].plot(_val)\n",
    "    ax[1].set_title('log-scaled')\n",
    "    ax[1].plot(np.log1p(_val) if p1 else np.log(_val))\n",
    "    plt.show()"
   ],
   "metadata": {
    "collapsed": false,
    "pycharm": {
     "name": "#%%\n"
    }
   }
  },
  {
   "cell_type": "code",
   "execution_count": 36,
   "outputs": [],
   "source": [
    "def apply_weights(uim, wl, axis, top):\n",
    "    assert len(wl) == len(axis), 'weights and axis lists must be same-dimensional'\n",
    "    res_mat = []\n",
    "    for ax, w in zip(axis, wl):\n",
    "        if ax in [1, 'u', 'user']:\n",
    "            mat = csr_matrix((uim.T * w).T).tocsr()\n",
    "        elif ax in [0, 'i', 'item']:\n",
    "            w = w[w.index.isin(top)]\n",
    "            w[-1] = 1\n",
    "            mat = csr_matrix(uim * w).tocsr()\n",
    "        else:\n",
    "            mat = csr_matrix(uim).tocsr()\n",
    "        res_mat.append(mat)\n",
    "    return res_mat"
   ],
   "metadata": {
    "collapsed": false,
    "pycharm": {
     "name": "#%%\n"
    }
   }
  },
  {
   "cell_type": "markdown",
   "source": [
    "## Мысли вслух"
   ],
   "metadata": {
    "collapsed": false,
    "pycharm": {
     "name": "#%% md\n"
    }
   }
  },
  {
   "cell_type": "raw",
   "source": [
    "Как отбирать товары для топа"
   ],
   "metadata": {
    "collapsed": false,
    "pycharm": {
     "name": "#%% raw\n"
    }
   }
  },
  {
   "cell_type": "raw",
   "source": [
    "Q: Можно ли отбирать только по количеству проданных единиц товара?\n",
    "A: Не желательно, поскольку некоторые товары могут быть популярны, хотя покупаются малыми количествами ввиду, например, крупной фасовки. Также следует внимательно относиться к единицам учета товаров: если картошка измеряется в килограммах, а котлеты - в упаковках, то эти единицы сравнивать между собой некорректно и нужно преобразовать к чему-то единому.\n",
    "\n",
    "Q: Надо ли учитывать стоимость товара?\n",
    "A: Желательно. Иначе в топ могут попасть только дешевые товары, в то время как товары подороже могут оказаться и более релевантны."
   ],
   "metadata": {
    "collapsed": false,
    "pycharm": {
     "name": "#%% raw\n"
    }
   }
  },
  {
   "cell_type": "raw",
   "source": [
    "Рассчитывая топ товаров на train мы упускаем часть товаров, некоторые из которых могли стать мегапопулярными недавно (как было со спиннерами/pop-it/etc.)\n",
    "Таким образом, быстрые тренды поймать не выйдет, но некую оценку товаров, стабильно популярных в прошлом, мы получим."
   ],
   "metadata": {
    "collapsed": false,
    "pycharm": {
     "name": "#%% raw\n"
    }
   }
  },
  {
   "cell_type": "markdown",
   "source": [
    "## Baseline"
   ],
   "metadata": {
    "collapsed": false,
    "pycharm": {
     "name": "#%% md\n"
    }
   }
  },
  {
   "cell_type": "code",
   "execution_count": 47,
   "outputs": [
    {
     "name": "stdout",
     "output_type": "stream",
     "text": [
      "CPU times: user 239 ms, sys: 196 ms, total: 435 ms\n",
      "Wall time: 1.14 s\n"
     ]
    },
    {
     "data": {
      "text/plain": "[6534178, 6533889, 6534166, 6544236, 1404121, 397896, 1426702]"
     },
     "execution_count": 47,
     "metadata": {},
     "output_type": "execute_result"
    }
   ],
   "source": [
    "%%time\n",
    "# стандартный топ5000 по кол-ву проданных единиц\n",
    "top5k = popularity_measure(train, ['quantity'], k=5000, add_target='popularity')\n",
    "top5k[:7]"
   ],
   "metadata": {
    "collapsed": false,
    "pycharm": {
     "name": "#%%\n"
    }
   }
  },
  {
   "cell_type": "code",
   "execution_count": 48,
   "outputs": [],
   "source": [
    "# %%time\n",
    "# # берем топ5000 по оценке популярности товара\n",
    "# top5k = popularity_measure(train, ['quantity', 'sales_value'], beta=[1., 1.], k=5000, add_target='popularity', scaler=StandardScaler)\n",
    "# top5k[:7]"
   ],
   "metadata": {
    "collapsed": false,
    "pycharm": {
     "name": "#%%\n"
    }
   }
  },
  {
   "cell_type": "code",
   "execution_count": 49,
   "outputs": [
    {
     "data": {
      "text/plain": "   user_id    basket_id  day  item_id  quantity  sales_value  store_id  \\\n0     2375  26984851472    1  1004906         1         1.39       364   \n1     2375  26984851472    1  1033142         1         0.82       364   \n2     2375  26984851472    1  1036325         1         0.99       364   \n3     2375  26984851472    1  1082185         1         1.21       364   \n4     2375  26984851472    1  8160430         1         1.50       364   \n\n   retail_disc  trans_time  week_no  coupon_disc  coupon_match_disc  \\\n0        -0.60        1631        1          0.0                0.0   \n1         0.00        1631        1          0.0                0.0   \n2        -0.30        1631        1          0.0                0.0   \n3         0.00        1631        1          0.0                0.0   \n4        -0.39        1631        1          0.0                0.0   \n\n   popularity  \n0         1.0  \n1         1.0  \n2         1.0  \n3         1.0  \n4         1.0  ",
      "text/html": "<div>\n<style scoped>\n    .dataframe tbody tr th:only-of-type {\n        vertical-align: middle;\n    }\n\n    .dataframe tbody tr th {\n        vertical-align: top;\n    }\n\n    .dataframe thead th {\n        text-align: right;\n    }\n</style>\n<table border=\"1\" class=\"dataframe\">\n  <thead>\n    <tr style=\"text-align: right;\">\n      <th></th>\n      <th>user_id</th>\n      <th>basket_id</th>\n      <th>day</th>\n      <th>item_id</th>\n      <th>quantity</th>\n      <th>sales_value</th>\n      <th>store_id</th>\n      <th>retail_disc</th>\n      <th>trans_time</th>\n      <th>week_no</th>\n      <th>coupon_disc</th>\n      <th>coupon_match_disc</th>\n      <th>popularity</th>\n    </tr>\n  </thead>\n  <tbody>\n    <tr>\n      <th>0</th>\n      <td>2375</td>\n      <td>26984851472</td>\n      <td>1</td>\n      <td>1004906</td>\n      <td>1</td>\n      <td>1.39</td>\n      <td>364</td>\n      <td>-0.60</td>\n      <td>1631</td>\n      <td>1</td>\n      <td>0.0</td>\n      <td>0.0</td>\n      <td>1.0</td>\n    </tr>\n    <tr>\n      <th>1</th>\n      <td>2375</td>\n      <td>26984851472</td>\n      <td>1</td>\n      <td>1033142</td>\n      <td>1</td>\n      <td>0.82</td>\n      <td>364</td>\n      <td>0.00</td>\n      <td>1631</td>\n      <td>1</td>\n      <td>0.0</td>\n      <td>0.0</td>\n      <td>1.0</td>\n    </tr>\n    <tr>\n      <th>2</th>\n      <td>2375</td>\n      <td>26984851472</td>\n      <td>1</td>\n      <td>1036325</td>\n      <td>1</td>\n      <td>0.99</td>\n      <td>364</td>\n      <td>-0.30</td>\n      <td>1631</td>\n      <td>1</td>\n      <td>0.0</td>\n      <td>0.0</td>\n      <td>1.0</td>\n    </tr>\n    <tr>\n      <th>3</th>\n      <td>2375</td>\n      <td>26984851472</td>\n      <td>1</td>\n      <td>1082185</td>\n      <td>1</td>\n      <td>1.21</td>\n      <td>364</td>\n      <td>0.00</td>\n      <td>1631</td>\n      <td>1</td>\n      <td>0.0</td>\n      <td>0.0</td>\n      <td>1.0</td>\n    </tr>\n    <tr>\n      <th>4</th>\n      <td>2375</td>\n      <td>26984851472</td>\n      <td>1</td>\n      <td>8160430</td>\n      <td>1</td>\n      <td>1.50</td>\n      <td>364</td>\n      <td>-0.39</td>\n      <td>1631</td>\n      <td>1</td>\n      <td>0.0</td>\n      <td>0.0</td>\n      <td>1.0</td>\n    </tr>\n  </tbody>\n</table>\n</div>"
     },
     "execution_count": 49,
     "metadata": {},
     "output_type": "execute_result"
    }
   ],
   "source": [
    "# обработка товаров не из топа\n",
    "top_train = train.copy()\n",
    "top_train.loc[~top_train['item_id'].isin(top5k), 'item_id'] = -1     # товары не из топ5000 превращаем в один товар\n",
    "top_train.head()"
   ],
   "metadata": {
    "collapsed": false,
    "pycharm": {
     "name": "#%%\n"
    }
   }
  },
  {
   "cell_type": "code",
   "execution_count": 50,
   "outputs": [],
   "source": [
    "# подготовка обучающих данных: составление таблицы user-item на основе популярности товара для пользователя\n",
    "user_item_matrix = pd.pivot_table(top_train,\n",
    "                                  index='user_id',\n",
    "                                  columns='item_id',\n",
    "                                  values='popularity',\n",
    "                                  aggfunc='sum',\n",
    "                                  fill_value=0\n",
    "                                 )\n",
    "\n",
    "user_item_matrix = user_item_matrix.astype(float)\n",
    "\n",
    "# переведем в формат sparse matrix\n",
    "sparse_user_item = csr_matrix(user_item_matrix).tocsr()"
   ],
   "metadata": {
    "collapsed": false,
    "pycharm": {
     "name": "#%%\n"
    }
   }
  },
  {
   "cell_type": "code",
   "execution_count": 51,
   "outputs": [
    {
     "data": {
      "text/plain": "item_id  -1          202291     397896     420647     480014     545926    \\\nuser_id                                                                     \n1            768.0        0.0        0.0        0.0        0.0        0.0   \n2            268.0        0.0        0.0        0.0        0.0        0.0   \n3            233.0        0.0        0.0        0.0        0.0        0.0   \n\nitem_id   707683     731106     818980     819063    ...   15778533  \\\nuser_id                                              ...              \n1              0.0        0.0        0.0        0.0  ...        0.0   \n2              0.0        0.0        0.0        0.0  ...        0.0   \n3              0.0        0.0        0.0        0.0  ...        0.0   \n\nitem_id   15831255   15926712   15926775   15926844   15926886   15927403  \\\nuser_id                                                                     \n1              0.0        0.0        0.0        1.0        0.0        0.0   \n2              0.0        0.0        0.0        0.0        0.0        0.0   \n3              0.0        0.0        0.0        0.0        0.0        0.0   \n\nitem_id   15927661   15927850   16809471  \nuser_id                                   \n1              0.0        0.0        0.0  \n2              0.0        0.0        0.0  \n3              0.0        0.0        0.0  \n\n[3 rows x 5001 columns]",
      "text/html": "<div>\n<style scoped>\n    .dataframe tbody tr th:only-of-type {\n        vertical-align: middle;\n    }\n\n    .dataframe tbody tr th {\n        vertical-align: top;\n    }\n\n    .dataframe thead th {\n        text-align: right;\n    }\n</style>\n<table border=\"1\" class=\"dataframe\">\n  <thead>\n    <tr style=\"text-align: right;\">\n      <th>item_id</th>\n      <th>-1</th>\n      <th>202291</th>\n      <th>397896</th>\n      <th>420647</th>\n      <th>480014</th>\n      <th>545926</th>\n      <th>707683</th>\n      <th>731106</th>\n      <th>818980</th>\n      <th>819063</th>\n      <th>...</th>\n      <th>15778533</th>\n      <th>15831255</th>\n      <th>15926712</th>\n      <th>15926775</th>\n      <th>15926844</th>\n      <th>15926886</th>\n      <th>15927403</th>\n      <th>15927661</th>\n      <th>15927850</th>\n      <th>16809471</th>\n    </tr>\n    <tr>\n      <th>user_id</th>\n      <th></th>\n      <th></th>\n      <th></th>\n      <th></th>\n      <th></th>\n      <th></th>\n      <th></th>\n      <th></th>\n      <th></th>\n      <th></th>\n      <th></th>\n      <th></th>\n      <th></th>\n      <th></th>\n      <th></th>\n      <th></th>\n      <th></th>\n      <th></th>\n      <th></th>\n      <th></th>\n      <th></th>\n    </tr>\n  </thead>\n  <tbody>\n    <tr>\n      <th>1</th>\n      <td>768.0</td>\n      <td>0.0</td>\n      <td>0.0</td>\n      <td>0.0</td>\n      <td>0.0</td>\n      <td>0.0</td>\n      <td>0.0</td>\n      <td>0.0</td>\n      <td>0.0</td>\n      <td>0.0</td>\n      <td>...</td>\n      <td>0.0</td>\n      <td>0.0</td>\n      <td>0.0</td>\n      <td>0.0</td>\n      <td>1.0</td>\n      <td>0.0</td>\n      <td>0.0</td>\n      <td>0.0</td>\n      <td>0.0</td>\n      <td>0.0</td>\n    </tr>\n    <tr>\n      <th>2</th>\n      <td>268.0</td>\n      <td>0.0</td>\n      <td>0.0</td>\n      <td>0.0</td>\n      <td>0.0</td>\n      <td>0.0</td>\n      <td>0.0</td>\n      <td>0.0</td>\n      <td>0.0</td>\n      <td>0.0</td>\n      <td>...</td>\n      <td>0.0</td>\n      <td>0.0</td>\n      <td>0.0</td>\n      <td>0.0</td>\n      <td>0.0</td>\n      <td>0.0</td>\n      <td>0.0</td>\n      <td>0.0</td>\n      <td>0.0</td>\n      <td>0.0</td>\n    </tr>\n    <tr>\n      <th>3</th>\n      <td>233.0</td>\n      <td>0.0</td>\n      <td>0.0</td>\n      <td>0.0</td>\n      <td>0.0</td>\n      <td>0.0</td>\n      <td>0.0</td>\n      <td>0.0</td>\n      <td>0.0</td>\n      <td>0.0</td>\n      <td>...</td>\n      <td>0.0</td>\n      <td>0.0</td>\n      <td>0.0</td>\n      <td>0.0</td>\n      <td>0.0</td>\n      <td>0.0</td>\n      <td>0.0</td>\n      <td>0.0</td>\n      <td>0.0</td>\n      <td>0.0</td>\n    </tr>\n  </tbody>\n</table>\n<p>3 rows × 5001 columns</p>\n</div>"
     },
     "execution_count": 51,
     "metadata": {},
     "output_type": "execute_result"
    }
   ],
   "source": [
    "user_item_matrix.head(3)"
   ],
   "metadata": {
    "collapsed": false,
    "pycharm": {
     "name": "#%%\n"
    }
   }
  },
  {
   "cell_type": "code",
   "execution_count": 52,
   "outputs": [],
   "source": [
    "# remap dictionaries\n",
    "id_to_itemid = dict(enumerate(user_item_matrix.columns.values))\n",
    "id_to_userid = dict(enumerate(user_item_matrix.index.values))\n",
    "\n",
    "itemid_to_id = {v: k for k, v in id_to_itemid.items()}\n",
    "userid_to_id = {v: k for k, v in id_to_userid.items()}"
   ],
   "metadata": {
    "collapsed": false,
    "pycharm": {
     "name": "#%%\n"
    }
   }
  },
  {
   "cell_type": "code",
   "execution_count": 53,
   "outputs": [],
   "source": [
    "# подготовка параметров обучения модели и параметров предсказателя\n",
    "model_params = {'factors': 44,\n",
    "                'regularization': 0.001,\n",
    "                'iterations': 15,\n",
    "                'calculate_training_loss': True,\n",
    "                'use_gpu': False,\n",
    "                'random_state': 23}\n",
    "\n",
    "recommender_params = {\n",
    "    'user_items': sparse_user_item,\n",
    "    'N': 5, # кол-во рекомендаций\n",
    "    'filter_already_liked_items': False,\n",
    "    'filter_items': [itemid_to_id[-1]],\n",
    "    'recalculate_user': True\n",
    "}"
   ],
   "metadata": {
    "collapsed": false,
    "pycharm": {
     "name": "#%%\n"
    }
   }
  },
  {
   "cell_type": "code",
   "execution_count": 54,
   "outputs": [
    {
     "name": "stdout",
     "output_type": "stream",
     "text": [
      "CPU times: user 2min 26s, sys: 1min 51s, total: 4min 18s\n",
      "Wall time: 35.5 s\n"
     ]
    }
   ],
   "source": [
    "%%time\n",
    "# обучение\n",
    "result = check_model(sparse_user_item, model_params, recommender_params, true_values.copy(), 'als_baseline')"
   ],
   "metadata": {
    "collapsed": false,
    "pycharm": {
     "name": "#%%\n"
    }
   }
  },
  {
   "cell_type": "code",
   "execution_count": 55,
   "outputs": [
    {
     "data": {
      "text/plain": "             als_baseline\nprecision@k      0.167091\nmap@k            0.290147",
      "text/html": "<div>\n<style scoped>\n    .dataframe tbody tr th:only-of-type {\n        vertical-align: middle;\n    }\n\n    .dataframe tbody tr th {\n        vertical-align: top;\n    }\n\n    .dataframe thead th {\n        text-align: right;\n    }\n</style>\n<table border=\"1\" class=\"dataframe\">\n  <thead>\n    <tr style=\"text-align: right;\">\n      <th></th>\n      <th>als_baseline</th>\n    </tr>\n  </thead>\n  <tbody>\n    <tr>\n      <th>precision@k</th>\n      <td>0.167091</td>\n    </tr>\n    <tr>\n      <th>map@k</th>\n      <td>0.290147</td>\n    </tr>\n  </tbody>\n</table>\n</div>"
     },
     "execution_count": 55,
     "metadata": {},
     "output_type": "execute_result"
    }
   ],
   "source": [
    "compare_metrics(result)"
   ],
   "metadata": {
    "collapsed": false,
    "pycharm": {
     "name": "#%%\n"
    }
   }
  },
  {
   "cell_type": "markdown",
   "source": [
    "## Взвешивание"
   ],
   "metadata": {
    "collapsed": false,
    "pycharm": {
     "name": "#%% md\n"
    }
   }
  },
  {
   "cell_type": "markdown",
   "source": [
    "Взвешивание применяется на обучающие данные *до обучения* модели. Таким образом, можно рассматривать его как часть этапа feature engineerin'а.\n",
    "А собственно, вопрос подхода к обработке обучающих данных - это вопрос творческий.\n",
    "В данной задаче ключевых моментов можно выделить три:\n",
    "1) способ отбора топа товаров\n",
    "2) оценка весов товаров\n",
    "3) оценка весов покупателей"
   ],
   "metadata": {
    "collapsed": false,
    "pycharm": {
     "name": "#%% md\n"
    }
   }
  },
  {
   "cell_type": "markdown",
   "source": [
    "Взвешивать можно и пользователей, и товары:\n",
    "- При взвешивании пользователей строки умножаются на вес пользователя\n",
    "- При взвешивании товаров столбцы умножаются на вес товара"
   ],
   "metadata": {
    "collapsed": false,
    "pycharm": {
     "name": "#%% md\n"
    }
   }
  },
  {
   "cell_type": "markdown",
   "source": [
    "#### tf-idf / bm25"
   ],
   "metadata": {
    "collapsed": false,
    "pycharm": {
     "name": "#%% md\n"
    }
   }
  },
  {
   "cell_type": "code",
   "execution_count": 56,
   "outputs": [
    {
     "name": "stdout",
     "output_type": "stream",
     "text": [
      "CPU times: user 5min 56s, sys: 4min 22s, total: 10min 19s\n",
      "Wall time: 1min 34s\n"
     ]
    }
   ],
   "source": [
    "%%time\n",
    "result = check_model(csr_matrix(tfidf_weight(user_item_matrix.T).T).tocsr(), model_params, recommender_params, result, 'als_tf-idf')\n",
    "result = check_model(csr_matrix(bm25_weight(user_item_matrix.T).T).tocsr(), model_params, recommender_params, result, 'als_bm25')"
   ],
   "metadata": {
    "collapsed": false,
    "pycharm": {
     "name": "#%%\n"
    }
   }
  },
  {
   "cell_type": "markdown",
   "source": [
    "### оценка весов товаров"
   ],
   "metadata": {
    "collapsed": false,
    "pycharm": {
     "name": "#%% md\n"
    }
   }
  },
  {
   "cell_type": "markdown",
   "source": [
    "#### количество чеков, в которых есть товар"
   ],
   "metadata": {
    "collapsed": false,
    "pycharm": {
     "name": "#%% md\n"
    }
   }
  },
  {
   "cell_type": "code",
   "execution_count": 57,
   "outputs": [
    {
     "data": {
      "text/plain": "item_id\n1082185    26127\n6534178    17545\n1029743    12737\nName: item_basket_count, dtype: int64"
     },
     "execution_count": 57,
     "metadata": {},
     "output_type": "execute_result"
    }
   ],
   "source": [
    "item_basket_count = train.groupby('item_id')['basket_id'].count().rename('item_basket_count')\n",
    "item_basket_count[item_basket_count.index.isin(top5k)].sort_values(ascending=False).head(3)"
   ],
   "metadata": {
    "collapsed": false,
    "pycharm": {
     "name": "#%%\n"
    }
   }
  },
  {
   "cell_type": "code",
   "execution_count": 58,
   "outputs": [
    {
     "data": {
      "text/plain": "<Figure size 864x216 with 2 Axes>",
      "image/png": "[encoded data removed]"
     },
     "metadata": {
      "needs_background": "light"
     },
     "output_type": "display_data"
    }
   ],
   "source": [
    "plot_weight_curve(item_basket_count[item_basket_count.index.isin(top5k)])"
   ],
   "metadata": {
    "collapsed": false,
    "pycharm": {
     "name": "#%%\n"
    }
   }
  },
  {
   "cell_type": "raw",
   "source": [
    "Первые 10 товаров топа будут иметь значительный буст."
   ],
   "metadata": {
    "collapsed": false,
    "pycharm": {
     "name": "#%% raw\n"
    }
   }
  },
  {
   "cell_type": "markdown",
   "source": [
    "#### количество дней, когда товар был куплен"
   ],
   "metadata": {
    "collapsed": false,
    "pycharm": {
     "name": "#%% md\n"
    }
   }
  },
  {
   "cell_type": "code",
   "execution_count": 59,
   "outputs": [
    {
     "data": {
      "text/plain": "item_id\n1029743    633\n1082185    633\n981760     630\nName: sell_days, dtype: int64"
     },
     "execution_count": 59,
     "metadata": {},
     "output_type": "execute_result"
    }
   ],
   "source": [
    "sell_days = train.groupby('item_id')['day'].nunique().rename('sell_days')\n",
    "sell_days[sell_days.index.isin(top5k)].sort_values(ascending=False).head(3)"
   ],
   "metadata": {
    "collapsed": false,
    "pycharm": {
     "name": "#%%\n"
    }
   }
  },
  {
   "cell_type": "code",
   "execution_count": 60,
   "outputs": [
    {
     "data": {
      "text/plain": "<Figure size 864x216 with 2 Axes>",
      "image/png": "[encoded data removed]"
     },
     "metadata": {
      "needs_background": "light"
     },
     "output_type": "display_data"
    }
   ],
   "source": [
    "plot_weight_curve(sell_days[sell_days.index.isin(top5k)])"
   ],
   "metadata": {
    "collapsed": false,
    "pycharm": {
     "name": "#%%\n"
    }
   }
  },
  {
   "cell_type": "raw",
   "source": [
    "Относительно равномерная на протяжении развесовка, очень сильно спадающая к последним товарам"
   ],
   "metadata": {
    "collapsed": false,
    "pycharm": {
     "name": "#%% raw\n"
    }
   }
  },
  {
   "cell_type": "markdown",
   "source": [
    "Заметим, что товар 1029743 по кол-ву проданных единиц можно счесть крайне непопулярным. Однако по встречаемости в чеках он на 3-ем месте, а по дневной продаваемости так вообще на 1ом. А самый популярный по кол-ву товар (6534178) покупали только 643 дня из 663 (15ое место, по данным всего датасета)."
   ],
   "metadata": {
    "collapsed": false,
    "pycharm": {
     "name": "#%% md\n"
    }
   }
  },
  {
   "cell_type": "markdown",
   "source": [
    "### оценка весов покупателей"
   ],
   "metadata": {
    "collapsed": false,
    "pycharm": {
     "name": "#%% md\n"
    }
   }
  },
  {
   "cell_type": "markdown",
   "source": [
    "* кол-во чеков на юзера (больше чеков => чаще покупает => больше вес)\n",
    "* кол-во дней, когда юзер совершал покупки\n",
    "* средняя сумма чека для каждого юзера (чем больше сумма, тем весомее его выбор - звучит не совсем логично, но попробовать можно)"
   ],
   "metadata": {
    "collapsed": false,
    "pycharm": {
     "name": "#%% md\n"
    }
   }
  },
  {
   "cell_type": "markdown",
   "source": [
    "#### количество чеков каждого покупателя"
   ],
   "metadata": {
    "collapsed": false,
    "pycharm": {
     "name": "#%% md\n"
    }
   }
  },
  {
   "cell_type": "code",
   "execution_count": 61,
   "outputs": [
    {
     "data": {
      "text/plain": "user_id\n2337    1180\n1510    1175\n900     1082\n1795    1009\n2459     949\nName: user_basket_count, dtype: int64"
     },
     "execution_count": 61,
     "metadata": {},
     "output_type": "execute_result"
    }
   ],
   "source": [
    "# кол-во чеков на юзера\n",
    "user_basket_count = train.groupby('user_id')['basket_id'].nunique().rename('user_basket_count')\n",
    "user_basket_count.sort_values(ascending=False).head()"
   ],
   "metadata": {
    "collapsed": false,
    "pycharm": {
     "name": "#%%\n"
    }
   }
  },
  {
   "cell_type": "code",
   "execution_count": 62,
   "outputs": [
    {
     "data": {
      "text/plain": "<Figure size 864x216 with 2 Axes>",
      "image/png": "[encoded data removed]"
     },
     "metadata": {
      "needs_background": "light"
     },
     "output_type": "display_data"
    }
   ],
   "source": [
    "plot_weight_curve(user_basket_count)"
   ],
   "metadata": {
    "collapsed": false,
    "pycharm": {
     "name": "#%%\n"
    }
   }
  },
  {
   "cell_type": "markdown",
   "source": [
    "#### количество дней, когда покупатель совершал покупки"
   ],
   "metadata": {
    "collapsed": false,
    "pycharm": {
     "name": "#%% md\n"
    }
   }
  },
  {
   "cell_type": "code",
   "execution_count": 63,
   "outputs": [
    {
     "data": {
      "text/plain": "user_id\n900     455\n1510    449\n1795    441\n2459    433\n2337    418\nName: buy_days, dtype: int64"
     },
     "execution_count": 63,
     "metadata": {},
     "output_type": "execute_result"
    }
   ],
   "source": [
    "buy_days = train.groupby('user_id')['day'].nunique().rename('buy_days')\n",
    "buy_days.sort_values(ascending=False).head()"
   ],
   "metadata": {
    "collapsed": false,
    "pycharm": {
     "name": "#%%\n"
    }
   }
  },
  {
   "cell_type": "code",
   "execution_count": 64,
   "outputs": [
    {
     "data": {
      "text/plain": "<Figure size 864x216 with 2 Axes>",
      "image/png": "[encoded data removed]"
     },
     "metadata": {
      "needs_background": "light"
     },
     "output_type": "display_data"
    }
   ],
   "source": [
    "plot_weight_curve(buy_days)"
   ],
   "metadata": {
    "collapsed": false,
    "pycharm": {
     "name": "#%%\n"
    }
   }
  },
  {
   "cell_type": "markdown",
   "source": [
    "#### средняя сумма чека каждого покупателя"
   ],
   "metadata": {
    "collapsed": false,
    "pycharm": {
     "name": "#%% md\n"
    }
   }
  },
  {
   "cell_type": "code",
   "execution_count": 65,
   "outputs": [
    {
     "data": {
      "text/plain": "user_id\n1899    164.815968\n2042    160.822222\n973     157.014133\n1900    146.932917\n1574    133.144444\nName: mbv_per_user, dtype: float64"
     },
     "execution_count": 65,
     "metadata": {},
     "output_type": "execute_result"
    }
   ],
   "source": [
    "# mbv = mean basket value\n",
    "feat = train.groupby(['user_id', 'basket_id'])['sales_value'].sum()\n",
    "mbv_per_user = feat.reset_index().groupby('user_id')['sales_value'].mean().rename('mbv_per_user')\n",
    "mbv_per_user.sort_values(ascending=False).head()\n",
    "# то же самое, но по-другому\n",
    "# train.groupby('user_id')['sales_value'].sum() / train.groupby('user_id')['basket_id'].nunique()"
   ],
   "metadata": {
    "collapsed": false,
    "pycharm": {
     "name": "#%%\n"
    }
   }
  },
  {
   "cell_type": "code",
   "execution_count": 66,
   "outputs": [
    {
     "data": {
      "text/plain": "<Figure size 864x216 with 2 Axes>",
      "image/png": "[encoded data removed]"
     },
     "metadata": {
      "needs_background": "light"
     },
     "output_type": "display_data"
    }
   ],
   "source": [
    "plot_weight_curve(mbv_per_user)"
   ],
   "metadata": {
    "collapsed": false,
    "pycharm": {
     "name": "#%%\n"
    }
   }
  },
  {
   "cell_type": "markdown",
   "source": [
    "#### комбинированные веса"
   ],
   "metadata": {
    "collapsed": false,
    "pycharm": {
     "name": "#%% md\n"
    }
   }
  },
  {
   "cell_type": "code",
   "execution_count": 66,
   "outputs": [],
   "source": [],
   "metadata": {
    "collapsed": false,
    "pycharm": {
     "name": "#%%\n"
    }
   }
  },
  {
   "cell_type": "markdown",
   "source": [
    "#### метрики по весам"
   ],
   "metadata": {
    "collapsed": false,
    "pycharm": {
     "name": "#%% md\n"
    }
   }
  },
  {
   "cell_type": "code",
   "execution_count": 67,
   "outputs": [
    {
     "name": "stdout",
     "output_type": "stream",
     "text": [
      "CPU times: user 1.71 s, sys: 160 ms, total: 1.87 s\n",
      "Wall time: 1.87 s\n"
     ]
    }
   ],
   "source": [
    "%%time\n",
    "# собираем списки взвешенных user-item матриц\n",
    "weights_data = [item_basket_count, np.log(item_basket_count),\n",
    "                sell_days, np.log(sell_days),\n",
    "                user_basket_count, np.log(user_basket_count),\n",
    "                buy_days, np.log(buy_days),\n",
    "                mbv_per_user, np.log(mbv_per_user)]\n",
    "weights_axis = ['item', 'item',\n",
    "                'item', 'item',\n",
    "                'user', 'user',\n",
    "                'user', 'user',\n",
    "                'user', 'user']\n",
    "weights_title = ['item basket', 'item basket log',\n",
    "                 'sell days', 'sell days log',\n",
    "                 'user basket', 'user basket log',\n",
    "                 'buy days', 'buy days log',\n",
    "                 'mbv per user', 'mbv per user log']\n",
    "uim_weighted = apply_weights(user_item_matrix, weights_data, weights_axis, top5k)"
   ],
   "metadata": {
    "collapsed": false,
    "pycharm": {
     "name": "#%%\n"
    }
   }
  },
  {
   "cell_type": "code",
   "execution_count": 68,
   "outputs": [
    {
     "name": "stdout",
     "output_type": "stream",
     "text": [
      "CPU times: user 23min 54s, sys: 18min 15s, total: 42min 9s\n",
      "Wall time: 5min 42s\n"
     ]
    }
   ],
   "source": [
    "%%time\n",
    "for matrix, title in zip(uim_weighted, weights_title):\n",
    "    check_model(matrix, model_params, recommender_params, result, title)"
   ],
   "metadata": {
    "collapsed": false,
    "pycharm": {
     "name": "#%%\n"
    }
   }
  },
  {
   "cell_type": "code",
   "execution_count": 69,
   "outputs": [
    {
     "data": {
      "text/plain": "             als_baseline  als_tf-idf  als_bm25  item basket  item basket log  \\\nprecision@k      0.167091    0.180118  0.201469     0.089030         0.184525   \nmap@k            0.290147    0.319193  0.357718     0.228967         0.341344   \n\n             sell days  sell days log  user basket  user basket log  buy days  \\\nprecision@k   0.144368       0.185015     0.204603         0.186876  0.205191   \nmap@k         0.287191       0.340198     0.397343         0.349447  0.398929   \n\n             buy days log  mbv per user  mbv per user log  \nprecision@k      0.185602      0.206268          0.180411  \nmap@k            0.346871      0.391246          0.331683  ",
      "text/html": "<div>\n<style scoped>\n    .dataframe tbody tr th:only-of-type {\n        vertical-align: middle;\n    }\n\n    .dataframe tbody tr th {\n        vertical-align: top;\n    }\n\n    .dataframe thead th {\n        text-align: right;\n    }\n</style>\n<table border=\"1\" class=\"dataframe\">\n  <thead>\n    <tr style=\"text-align: right;\">\n      <th></th>\n      <th>als_baseline</th>\n      <th>als_tf-idf</th>\n      <th>als_bm25</th>\n      <th>item basket</th>\n      <th>item basket log</th>\n      <th>sell days</th>\n      <th>sell days log</th>\n      <th>user basket</th>\n      <th>user basket log</th>\n      <th>buy days</th>\n      <th>buy days log</th>\n      <th>mbv per user</th>\n      <th>mbv per user log</th>\n    </tr>\n  </thead>\n  <tbody>\n    <tr>\n      <th>precision@k</th>\n      <td>0.167091</td>\n      <td>0.180118</td>\n      <td>0.201469</td>\n      <td>0.089030</td>\n      <td>0.184525</td>\n      <td>0.144368</td>\n      <td>0.185015</td>\n      <td>0.204603</td>\n      <td>0.186876</td>\n      <td>0.205191</td>\n      <td>0.185602</td>\n      <td>0.206268</td>\n      <td>0.180411</td>\n    </tr>\n    <tr>\n      <th>map@k</th>\n      <td>0.290147</td>\n      <td>0.319193</td>\n      <td>0.357718</td>\n      <td>0.228967</td>\n      <td>0.341344</td>\n      <td>0.287191</td>\n      <td>0.340198</td>\n      <td>0.397343</td>\n      <td>0.349447</td>\n      <td>0.398929</td>\n      <td>0.346871</td>\n      <td>0.391246</td>\n      <td>0.331683</td>\n    </tr>\n  </tbody>\n</table>\n</div>"
     },
     "execution_count": 69,
     "metadata": {},
     "output_type": "execute_result"
    }
   ],
   "source": [
    "compare_metrics(result, 'weighted_metrics_default.csv')"
   ],
   "metadata": {
    "collapsed": false,
    "pycharm": {
     "name": "#%%\n"
    }
   }
  }
 ],
 "metadata": {
  "kernelspec": {
   "display_name": "Python 3",
   "language": "python",
   "name": "python3"
  },
  "language_info": {
   "codemirror_mode": {
    "name": "ipython",
    "version": 2
   },
   "file_extension": ".py",
   "mimetype": "text/x-python",
   "name": "python",
   "nbconvert_exporter": "python",
   "pygments_lexer": "ipython2",
   "version": "2.7.6"
  }
 },
 "nbformat": 4,
 "nbformat_minor": 0
}