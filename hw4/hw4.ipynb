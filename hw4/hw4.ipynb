{
 "cells": [
  {
   "cell_type": "code",
   "execution_count": 941,
   "metadata": {
    "collapsed": true,
    "pycharm": {
     "name": "#%%\n"
    }
   },
   "outputs": [],
   "source": [
    "import numpy as np\n",
    "import pandas as pd\n",
    "\n",
    "from scipy.sparse import csr_matrix\n",
    "from implicit.als import AlternatingLeastSquares\n",
    "from implicit.nearest_neighbours import bm25_weight\n",
    "\n",
    "from functools import partial\n",
    "from sklearn.preprocessing import StandardScaler\n",
    "from sklearn.base import TransformerMixin\n",
    "\n",
    "from typing import List"
   ]
  },
  {
   "cell_type": "markdown",
   "source": [
    "## load & split"
   ],
   "metadata": {
    "collapsed": false,
    "pycharm": {
     "name": "#%% md\n"
    }
   }
  },
  {
   "cell_type": "code",
   "execution_count": 942,
   "outputs": [
    {
     "data": {
      "text/plain": "   user_id    basket_id  day  item_id  quantity  sales_value  store_id  \\\n0     2375  26984851472    1  1004906         1         1.39       364   \n1     2375  26984851472    1  1033142         1         0.82       364   \n2     2375  26984851472    1  1036325         1         0.99       364   \n\n   retail_disc  trans_time  week_no  coupon_disc  coupon_match_disc  \n0         -0.6        1631        1          0.0                0.0  \n1          0.0        1631        1          0.0                0.0  \n2         -0.3        1631        1          0.0                0.0  ",
      "text/html": "<div>\n<style scoped>\n    .dataframe tbody tr th:only-of-type {\n        vertical-align: middle;\n    }\n\n    .dataframe tbody tr th {\n        vertical-align: top;\n    }\n\n    .dataframe thead th {\n        text-align: right;\n    }\n</style>\n<table border=\"1\" class=\"dataframe\">\n  <thead>\n    <tr style=\"text-align: right;\">\n      <th></th>\n      <th>user_id</th>\n      <th>basket_id</th>\n      <th>day</th>\n      <th>item_id</th>\n      <th>quantity</th>\n      <th>sales_value</th>\n      <th>store_id</th>\n      <th>retail_disc</th>\n      <th>trans_time</th>\n      <th>week_no</th>\n      <th>coupon_disc</th>\n      <th>coupon_match_disc</th>\n    </tr>\n  </thead>\n  <tbody>\n    <tr>\n      <th>0</th>\n      <td>2375</td>\n      <td>26984851472</td>\n      <td>1</td>\n      <td>1004906</td>\n      <td>1</td>\n      <td>1.39</td>\n      <td>364</td>\n      <td>-0.6</td>\n      <td>1631</td>\n      <td>1</td>\n      <td>0.0</td>\n      <td>0.0</td>\n    </tr>\n    <tr>\n      <th>1</th>\n      <td>2375</td>\n      <td>26984851472</td>\n      <td>1</td>\n      <td>1033142</td>\n      <td>1</td>\n      <td>0.82</td>\n      <td>364</td>\n      <td>0.0</td>\n      <td>1631</td>\n      <td>1</td>\n      <td>0.0</td>\n      <td>0.0</td>\n    </tr>\n    <tr>\n      <th>2</th>\n      <td>2375</td>\n      <td>26984851472</td>\n      <td>1</td>\n      <td>1036325</td>\n      <td>1</td>\n      <td>0.99</td>\n      <td>364</td>\n      <td>-0.3</td>\n      <td>1631</td>\n      <td>1</td>\n      <td>0.0</td>\n      <td>0.0</td>\n    </tr>\n  </tbody>\n</table>\n</div>"
     },
     "execution_count": 942,
     "metadata": {},
     "output_type": "execute_result"
    }
   ],
   "source": [
    "purchases = pd.read_csv('retail_train.csv')\n",
    "purchases.head(3)"
   ],
   "metadata": {
    "collapsed": false,
    "pycharm": {
     "name": "#%%\n"
    }
   }
  },
  {
   "cell_type": "code",
   "execution_count": 943,
   "outputs": [],
   "source": [
    "# train/test split\n",
    "test_size_weeks = 3\n",
    "\n",
    "train = purchases[purchases['week_no'] < purchases['week_no'].max() - test_size_weeks].copy()\n",
    "test = purchases[purchases['week_no'] >= purchases['week_no'].max() - test_size_weeks].copy()"
   ],
   "metadata": {
    "collapsed": false,
    "pycharm": {
     "name": "#%%\n"
    }
   }
  },
  {
   "cell_type": "code",
   "execution_count": 944,
   "outputs": [
    {
     "data": {
      "text/plain": "   product_id  manufacturer    department     brand            commodity_desc  \\\n0       25671             2       GROCERY  National                  FRZN ICE   \n1       26081             2  MISC. TRANS.  National  NO COMMODITY DESCRIPTION   \n2       26093            69        PASTRY   Private                     BREAD   \n\n            sub_commodity_desc curr_size_of_product  \n0          ICE - CRUSHED/CUBED                22 LB  \n1  NO SUBCOMMODITY DESCRIPTION                       \n2         BREAD:ITALIAN/FRENCH                       ",
      "text/html": "<div>\n<style scoped>\n    .dataframe tbody tr th:only-of-type {\n        vertical-align: middle;\n    }\n\n    .dataframe tbody tr th {\n        vertical-align: top;\n    }\n\n    .dataframe thead th {\n        text-align: right;\n    }\n</style>\n<table border=\"1\" class=\"dataframe\">\n  <thead>\n    <tr style=\"text-align: right;\">\n      <th></th>\n      <th>product_id</th>\n      <th>manufacturer</th>\n      <th>department</th>\n      <th>brand</th>\n      <th>commodity_desc</th>\n      <th>sub_commodity_desc</th>\n      <th>curr_size_of_product</th>\n    </tr>\n  </thead>\n  <tbody>\n    <tr>\n      <th>0</th>\n      <td>25671</td>\n      <td>2</td>\n      <td>GROCERY</td>\n      <td>National</td>\n      <td>FRZN ICE</td>\n      <td>ICE - CRUSHED/CUBED</td>\n      <td>22 LB</td>\n    </tr>\n    <tr>\n      <th>1</th>\n      <td>26081</td>\n      <td>2</td>\n      <td>MISC. TRANS.</td>\n      <td>National</td>\n      <td>NO COMMODITY DESCRIPTION</td>\n      <td>NO SUBCOMMODITY DESCRIPTION</td>\n      <td></td>\n    </tr>\n    <tr>\n      <th>2</th>\n      <td>26093</td>\n      <td>69</td>\n      <td>PASTRY</td>\n      <td>Private</td>\n      <td>BREAD</td>\n      <td>BREAD:ITALIAN/FRENCH</td>\n      <td></td>\n    </tr>\n  </tbody>\n</table>\n</div>"
     },
     "execution_count": 944,
     "metadata": {},
     "output_type": "execute_result"
    }
   ],
   "source": [
    "products = pd.read_csv('product.csv')\n",
    "products.columns = products.columns.str.lower()\n",
    "products.head(3)"
   ],
   "metadata": {
    "collapsed": false,
    "pycharm": {
     "name": "#%%\n"
    }
   }
  },
  {
   "cell_type": "code",
   "execution_count": 945,
   "outputs": [
    {
     "data": {
      "text/plain": "   user_id                                             actual\n0        1  [821867, 834484, 856942, 865456, 889248, 90795...\n1        3  [835476, 851057, 872021, 878302, 879948, 90963...\n2        6  [920308, 926804, 946489, 1006718, 1017061, 107...",
      "text/html": "<div>\n<style scoped>\n    .dataframe tbody tr th:only-of-type {\n        vertical-align: middle;\n    }\n\n    .dataframe tbody tr th {\n        vertical-align: top;\n    }\n\n    .dataframe thead th {\n        text-align: right;\n    }\n</style>\n<table border=\"1\" class=\"dataframe\">\n  <thead>\n    <tr style=\"text-align: right;\">\n      <th></th>\n      <th>user_id</th>\n      <th>actual</th>\n    </tr>\n  </thead>\n  <tbody>\n    <tr>\n      <th>0</th>\n      <td>1</td>\n      <td>[821867, 834484, 856942, 865456, 889248, 90795...</td>\n    </tr>\n    <tr>\n      <th>1</th>\n      <td>3</td>\n      <td>[835476, 851057, 872021, 878302, 879948, 90963...</td>\n    </tr>\n    <tr>\n      <th>2</th>\n      <td>6</td>\n      <td>[920308, 926804, 946489, 1006718, 1017061, 107...</td>\n    </tr>\n  </tbody>\n</table>\n</div>"
     },
     "execution_count": 945,
     "metadata": {},
     "output_type": "execute_result"
    }
   ],
   "source": [
    "# prepare result DataFrame\n",
    "true_values = test.groupby('user_id')['item_id'].unique().reset_index()\n",
    "true_values.columns=['user_id', 'actual']\n",
    "true_values.head(3)"
   ],
   "metadata": {
    "collapsed": false,
    "pycharm": {
     "name": "#%%\n"
    }
   }
  },
  {
   "cell_type": "markdown",
   "source": [
    "## Used functions"
   ],
   "metadata": {
    "collapsed": false,
    "pycharm": {
     "name": "#%% md\n"
    }
   }
  },
  {
   "cell_type": "code",
   "execution_count": 946,
   "outputs": [],
   "source": [
    "class BColor:\n",
    "    HEADER = '\\033[95m'\n",
    "    OKBLUE = '\\033[94m'\n",
    "    OKCYAN = '\\033[96m'\n",
    "    OKGREEN = '\\033[92m'\n",
    "    WARNING = '\\033[93m'\n",
    "    FAIL = '\\033[91m'\n",
    "    ENDC = '\\033[0m'\n",
    "    BOLD = '\\033[1m'\n",
    "    UNDERLINE = '\\033[4m'\n",
    "\n",
    "def cprint(msg, color: BColor):\n",
    "    print(f'{color}{msg}{BColor.ENDC}')"
   ],
   "metadata": {
    "collapsed": false,
    "pycharm": {
     "name": "#%%\n"
    }
   }
  },
  {
   "cell_type": "code",
   "execution_count": 947,
   "outputs": [],
   "source": [
    "# Топ популярных товаров\n",
    "def popularity_measure(source, fields: List[str], k=5000, beta: List[float] = None, add_target=None, scaler=None):\n",
    "    \"\"\" Расчет оценки важности товара в покупке и отбор топ K наиболее популярных товаров\n",
    "    :param source - исходные данные\n",
    "    :param fields - признаки, по которым измеряется мера важности товара\n",
    "    :param k - количество товаров, отбираемых в топ\n",
    "    :param beta - множители значимости для каждого признака в оценке\n",
    "    :param add_target - название финального признака. Признак не добавляется, если target = None\n",
    "    :param scaler - класс масштабирования данных\n",
    "    \"\"\"\n",
    "    b = [1.] * len(fields) if beta is None else np.array(beta)\n",
    "    assert len(fields) == len(b), '`fields` and `beta` dimensions must equal'\n",
    "    assert issubclass(StandardScaler, TransformerMixin) or scaler is None, 'scaler must be a subclass of TransformerMixin'\n",
    "    _df = source[['item_id']].copy()\n",
    "    prepared = scaler().fit_transform(source[fields]) * b if scaler else source[fields] * b\n",
    "    values = np.linalg.norm(prepared, ord=2, axis=1)\n",
    "    _df['popularity'] = values\n",
    "    if add_target:\n",
    "        source.loc[:, add_target] = values\n",
    "    popularity = _df.groupby('item_id')['popularity'].sum()\n",
    "    return popularity.sort_values(ascending=False).head(k).index.tolist()"
   ],
   "metadata": {
    "collapsed": false,
    "pycharm": {
     "name": "#%%\n"
    }
   }
  },
  {
   "cell_type": "code",
   "execution_count": 948,
   "outputs": [],
   "source": [
    "def check_model(uim, mdl_params, rec_params, res, ttl='als'):\n",
    "    \"\"\"\n",
    "    :param uim: user-item matrix\n",
    "    :param mdl_params: model init parameters\n",
    "    :param rec_params: recommendation parameters\n",
    "    :param res: true values, including user_id\n",
    "    :param ttl: model title\n",
    "    :return: predicted values (DataFrame)\n",
    "    \"\"\"\n",
    "    mdl = AlternatingLeastSquares(**mdl_params)\n",
    "    mdl.fit(uim.T, show_progress=False)\n",
    "    # rec_params['user_items'] = uim\n",
    "    res[ttl] = res['user_id'].apply(partial(recommender, mdl=mdl, params=rec_params))\n",
    "    return mdl"
   ],
   "metadata": {
    "collapsed": false,
    "pycharm": {
     "name": "#%%\n"
    }
   }
  },
  {
   "cell_type": "code",
   "execution_count": 949,
   "outputs": [],
   "source": [
    "# предсказатель-интерпретатор\n",
    "def recommender(user_id, mdl, params):\n",
    "    uid = userid_to_id.get(user_id, None)\n",
    "    if uid is None:\n",
    "        return list()\n",
    "    rec_score = mdl.recommend(userid_to_id[user_id], **params)\n",
    "    return [id_to_itemid[rec[0]] for rec in rec_score]"
   ],
   "metadata": {
    "collapsed": false,
    "pycharm": {
     "name": "#%%\n"
    }
   }
  },
  {
   "cell_type": "code",
   "execution_count": 950,
   "outputs": [],
   "source": [
    "# метрики\n",
    "def precision_at_k(recommended_list, bought_list, k=5):\n",
    "    flags = np.isin(bought_list, recommended_list[:k])\n",
    "    return flags.sum() / k\n",
    "\n",
    "def ap_k(recommended_list, bought_list, k=5):\n",
    "    flags = np.isin(recommended_list, bought_list)\n",
    "    if sum(flags) == 0:\n",
    "        return 0\n",
    "\n",
    "    func = partial(precision_at_k, recommended_list, bought_list)\n",
    "    rel_items = np.arange(1, k + 1)[flags[:k]]\n",
    "    return np.sum(list(map(func, rel_items))) / flags.sum()"
   ],
   "metadata": {
    "collapsed": false,
    "pycharm": {
     "name": "#%%\n"
    }
   }
  },
  {
   "cell_type": "code",
   "execution_count": 951,
   "outputs": [],
   "source": [
    "# сериализация расчета метрики\n",
    "def calc_metric(metric_func, source: pd.DataFrame):\n",
    "    \"\"\" Подсчет метрики\n",
    "    :param metric_func - функция измерения метрики. Первый аргумент - рекомендации, второй - актуальные значения\n",
    "    :param source - данные для подсчета метрики\n",
    "    \"\"\"\n",
    "    def metric_wrapper(pred, act):\n",
    "        return metric_func(pred, act) if len(pred) != 0 else 0\n",
    "\n",
    "    metric = pd.DataFrame()\n",
    "    for col in source.columns:\n",
    "        if col == 'user_id':\n",
    "            metric[col] = source[col]\n",
    "        elif col == 'actual':\n",
    "            continue\n",
    "        else:\n",
    "            metric[col] = source[[col, 'actual']].apply(lambda row: metric_wrapper(*row.values), axis=1)\n",
    "    return metric"
   ],
   "metadata": {
    "collapsed": false,
    "pycharm": {
     "name": "#%%\n"
    }
   }
  },
  {
   "cell_type": "code",
   "execution_count": 952,
   "outputs": [],
   "source": [
    "def compare_metrics(res, saveto=None):\n",
    "    pr_at_k = calc_metric(partial(precision_at_k, k=5), res)\n",
    "    ap_at_k = calc_metric(lambda pred, act: ap_k(pred, act, k=min(5, len(pred))), res)\n",
    "    smr = pd.DataFrame([pr_at_k.mean(), ap_at_k.mean()], index=['precision@k', 'map@k']).drop(columns='user_id')\n",
    "    if saveto:\n",
    "        smr.T.to_csv(saveto)\n",
    "    return smr"
   ],
   "metadata": {
    "collapsed": false,
    "pycharm": {
     "name": "#%%\n"
    }
   }
  },
  {
   "cell_type": "code",
   "execution_count": 953,
   "outputs": [],
   "source": [
    "# def plot_weight_curve(data: pd.Series, p1=True):\n",
    "#     \"\"\" Построение графиков весов \"\"\"\n",
    "#     _val = data.sort_values(ascending=False).values\n",
    "#     fig, ax = plt.subplots(1, 2, figsize=(12, 3))\n",
    "#     fig.suptitle(f'Weights curve for {data.name}')\n",
    "#     ax[0].set_title('clean')\n",
    "#     ax[0].plot(_val)\n",
    "#     ax[1].set_title('log-scaled')\n",
    "#     ax[1].plot(np.log1p(_val) if p1 else np.log(_val))\n",
    "#     plt.show()"
   ],
   "metadata": {
    "collapsed": false,
    "pycharm": {
     "name": "#%%\n"
    }
   }
  },
  {
   "cell_type": "code",
   "execution_count": 954,
   "outputs": [],
   "source": [
    "# def apply_weights(uim, wl, axis, top):\n",
    "#     assert len(wl) == len(axis), 'weights and axis lists must be same-dimensional'\n",
    "#     res_mat = []\n",
    "#     for ax, w in zip(axis, wl):\n",
    "#         if ax in [1, 'u', 'user']:\n",
    "#             mat = csr_matrix((uim.T * w).T).tocsr()\n",
    "#         elif ax in [0, 'i', 'item']:\n",
    "#             w = w[w.index.isin(top)]\n",
    "#             w[-1] = 1\n",
    "#             mat = csr_matrix(uim * w).tocsr()\n",
    "#         else:\n",
    "#             mat = csr_matrix(uim).tocsr()\n",
    "#         res_mat.append(mat)\n",
    "#     return res_mat"
   ],
   "metadata": {
    "collapsed": false,
    "pycharm": {
     "name": "#%%\n"
    }
   }
  },
  {
   "cell_type": "markdown",
   "source": [
    "## Baseline"
   ],
   "metadata": {
    "collapsed": false,
    "pycharm": {
     "name": "#%% md\n"
    }
   }
  },
  {
   "cell_type": "code",
   "execution_count": 955,
   "outputs": [],
   "source": [
    "# %%time\n",
    "# # стандартный топ5000 по кол-ву проданных единиц\n",
    "# top5k = popularity_measure(train, ['quantity'], k=5000, add_target='popularity')\n",
    "# top5k[:7]"
   ],
   "metadata": {
    "collapsed": false,
    "pycharm": {
     "name": "#%%\n"
    }
   }
  },
  {
   "cell_type": "code",
   "execution_count": 956,
   "outputs": [
    {
     "name": "stdout",
     "output_type": "stream",
     "text": [
      "CPU times: user 155 ms, sys: 1.18 ms, total: 157 ms\n",
      "Wall time: 155 ms\n"
     ]
    },
    {
     "data": {
      "text/plain": "[6534178, 6533889, 1082185, 6534166, 6533765, 995242, 981760]"
     },
     "execution_count": 956,
     "metadata": {},
     "output_type": "execute_result"
    }
   ],
   "source": [
    "%%time\n",
    "# берем топ5000 по оценке популярности товара\n",
    "top5k = popularity_measure(train, ['quantity', 'sales_value'], beta=[1., 1.], k=5000, add_target='popularity', scaler=StandardScaler)\n",
    "top5k[:7]"
   ],
   "metadata": {
    "collapsed": false,
    "pycharm": {
     "name": "#%%\n"
    }
   }
  },
  {
   "cell_type": "code",
   "execution_count": 957,
   "outputs": [
    {
     "data": {
      "text/plain": "   user_id    basket_id  day  item_id  quantity  sales_value  store_id  \\\n0     2375  26984851472    1  1004906         1         1.39       364   \n1     2375  26984851472    1  1033142         1         0.82       364   \n2     2375  26984851472    1  1036325         1         0.99       364   \n\n   retail_disc  trans_time  week_no  coupon_disc  coupon_match_disc  \\\n0         -0.6        1631        1          0.0                0.0   \n1          0.0        1631        1          0.0                0.0   \n2         -0.3        1631        1          0.0                0.0   \n\n   popularity  \n0    0.415439  \n1    0.549036  \n2    0.509067  ",
      "text/html": "<div>\n<style scoped>\n    .dataframe tbody tr th:only-of-type {\n        vertical-align: middle;\n    }\n\n    .dataframe tbody tr th {\n        vertical-align: top;\n    }\n\n    .dataframe thead th {\n        text-align: right;\n    }\n</style>\n<table border=\"1\" class=\"dataframe\">\n  <thead>\n    <tr style=\"text-align: right;\">\n      <th></th>\n      <th>user_id</th>\n      <th>basket_id</th>\n      <th>day</th>\n      <th>item_id</th>\n      <th>quantity</th>\n      <th>sales_value</th>\n      <th>store_id</th>\n      <th>retail_disc</th>\n      <th>trans_time</th>\n      <th>week_no</th>\n      <th>coupon_disc</th>\n      <th>coupon_match_disc</th>\n      <th>popularity</th>\n    </tr>\n  </thead>\n  <tbody>\n    <tr>\n      <th>0</th>\n      <td>2375</td>\n      <td>26984851472</td>\n      <td>1</td>\n      <td>1004906</td>\n      <td>1</td>\n      <td>1.39</td>\n      <td>364</td>\n      <td>-0.6</td>\n      <td>1631</td>\n      <td>1</td>\n      <td>0.0</td>\n      <td>0.0</td>\n      <td>0.415439</td>\n    </tr>\n    <tr>\n      <th>1</th>\n      <td>2375</td>\n      <td>26984851472</td>\n      <td>1</td>\n      <td>1033142</td>\n      <td>1</td>\n      <td>0.82</td>\n      <td>364</td>\n      <td>0.0</td>\n      <td>1631</td>\n      <td>1</td>\n      <td>0.0</td>\n      <td>0.0</td>\n      <td>0.549036</td>\n    </tr>\n    <tr>\n      <th>2</th>\n      <td>2375</td>\n      <td>26984851472</td>\n      <td>1</td>\n      <td>1036325</td>\n      <td>1</td>\n      <td>0.99</td>\n      <td>364</td>\n      <td>-0.3</td>\n      <td>1631</td>\n      <td>1</td>\n      <td>0.0</td>\n      <td>0.0</td>\n      <td>0.509067</td>\n    </tr>\n  </tbody>\n</table>\n</div>"
     },
     "execution_count": 957,
     "metadata": {},
     "output_type": "execute_result"
    }
   ],
   "source": [
    "# обработка товаров не из топа\n",
    "top_train = train.copy()\n",
    "top_train.loc[~top_train['item_id'].isin(top5k), 'item_id'] = -1     # товары не из топ5000 превращаем в один товар\n",
    "top_train.head(3)"
   ],
   "metadata": {
    "collapsed": false,
    "pycharm": {
     "name": "#%%\n"
    }
   }
  },
  {
   "cell_type": "code",
   "execution_count": 958,
   "outputs": [],
   "source": [
    "# подготовка обучающих данных: составление таблицы user-item на основе популярности товара для пользователя\n",
    "user_item_matrix = pd.pivot_table(top_train,\n",
    "                                  index='user_id',\n",
    "                                  columns='item_id',\n",
    "                                  values='popularity',\n",
    "                                  aggfunc='sum',\n",
    "                                  fill_value=0\n",
    "                                 )\n",
    "\n",
    "user_item_matrix = user_item_matrix.astype(float)\n",
    "\n",
    "# переведем в формат sparse matrix\n",
    "sparse_user_item = csr_matrix(user_item_matrix).tocsr()"
   ],
   "metadata": {
    "collapsed": false,
    "pycharm": {
     "name": "#%%\n"
    }
   }
  },
  {
   "cell_type": "code",
   "execution_count": 959,
   "outputs": [
    {
     "data": {
      "text/plain": "item_id   -1          201704     259120     397896     420647     480014    \\\nuser_id                                                                      \n1        223.148156        0.0        0.0        0.0        0.0        0.0   \n2         89.109578        0.0        0.0        0.0        0.0        0.0   \n3         64.136018        0.0        0.0        0.0        0.0        0.0   \n\nitem_id   731106     818980     819063     819255    ...   15927403  \\\nuser_id                                              ...              \n1              0.0        0.0        0.0   0.000000  ...        0.0   \n2              0.0        0.0        0.0   0.000000  ...        0.0   \n3              0.0        0.0        0.0   0.127754  ...        0.0   \n\nitem_id   15927661   15971546   15972074   15972298   16053266   16100266  \\\nuser_id                                                                     \n1              0.0        0.0        0.0        0.0        0.0        0.0   \n2              0.0        0.0        0.0        0.0        0.0        0.0   \n3              0.0        0.0        0.0        0.0        0.0        0.0   \n\nitem_id   16769635   16809471   17242362  \nuser_id                                   \n1              0.0        0.0        0.0  \n2              0.0        0.0        0.0  \n3              0.0        0.0        0.0  \n\n[3 rows x 5001 columns]",
      "text/html": "<div>\n<style scoped>\n    .dataframe tbody tr th:only-of-type {\n        vertical-align: middle;\n    }\n\n    .dataframe tbody tr th {\n        vertical-align: top;\n    }\n\n    .dataframe thead th {\n        text-align: right;\n    }\n</style>\n<table border=\"1\" class=\"dataframe\">\n  <thead>\n    <tr style=\"text-align: right;\">\n      <th>item_id</th>\n      <th>-1</th>\n      <th>201704</th>\n      <th>259120</th>\n      <th>397896</th>\n      <th>420647</th>\n      <th>480014</th>\n      <th>731106</th>\n      <th>818980</th>\n      <th>819063</th>\n      <th>819255</th>\n      <th>...</th>\n      <th>15927403</th>\n      <th>15927661</th>\n      <th>15971546</th>\n      <th>15972074</th>\n      <th>15972298</th>\n      <th>16053266</th>\n      <th>16100266</th>\n      <th>16769635</th>\n      <th>16809471</th>\n      <th>17242362</th>\n    </tr>\n    <tr>\n      <th>user_id</th>\n      <th></th>\n      <th></th>\n      <th></th>\n      <th></th>\n      <th></th>\n      <th></th>\n      <th></th>\n      <th></th>\n      <th></th>\n      <th></th>\n      <th></th>\n      <th></th>\n      <th></th>\n      <th></th>\n      <th></th>\n      <th></th>\n      <th></th>\n      <th></th>\n      <th></th>\n      <th></th>\n      <th></th>\n    </tr>\n  </thead>\n  <tbody>\n    <tr>\n      <th>1</th>\n      <td>223.148156</td>\n      <td>0.0</td>\n      <td>0.0</td>\n      <td>0.0</td>\n      <td>0.0</td>\n      <td>0.0</td>\n      <td>0.0</td>\n      <td>0.0</td>\n      <td>0.0</td>\n      <td>0.000000</td>\n      <td>...</td>\n      <td>0.0</td>\n      <td>0.0</td>\n      <td>0.0</td>\n      <td>0.0</td>\n      <td>0.0</td>\n      <td>0.0</td>\n      <td>0.0</td>\n      <td>0.0</td>\n      <td>0.0</td>\n      <td>0.0</td>\n    </tr>\n    <tr>\n      <th>2</th>\n      <td>89.109578</td>\n      <td>0.0</td>\n      <td>0.0</td>\n      <td>0.0</td>\n      <td>0.0</td>\n      <td>0.0</td>\n      <td>0.0</td>\n      <td>0.0</td>\n      <td>0.0</td>\n      <td>0.000000</td>\n      <td>...</td>\n      <td>0.0</td>\n      <td>0.0</td>\n      <td>0.0</td>\n      <td>0.0</td>\n      <td>0.0</td>\n      <td>0.0</td>\n      <td>0.0</td>\n      <td>0.0</td>\n      <td>0.0</td>\n      <td>0.0</td>\n    </tr>\n    <tr>\n      <th>3</th>\n      <td>64.136018</td>\n      <td>0.0</td>\n      <td>0.0</td>\n      <td>0.0</td>\n      <td>0.0</td>\n      <td>0.0</td>\n      <td>0.0</td>\n      <td>0.0</td>\n      <td>0.0</td>\n      <td>0.127754</td>\n      <td>...</td>\n      <td>0.0</td>\n      <td>0.0</td>\n      <td>0.0</td>\n      <td>0.0</td>\n      <td>0.0</td>\n      <td>0.0</td>\n      <td>0.0</td>\n      <td>0.0</td>\n      <td>0.0</td>\n      <td>0.0</td>\n    </tr>\n  </tbody>\n</table>\n<p>3 rows × 5001 columns</p>\n</div>"
     },
     "execution_count": 959,
     "metadata": {},
     "output_type": "execute_result"
    }
   ],
   "source": [
    "user_item_matrix.head(3)"
   ],
   "metadata": {
    "collapsed": false,
    "pycharm": {
     "name": "#%%\n"
    }
   }
  },
  {
   "cell_type": "code",
   "execution_count": 960,
   "outputs": [],
   "source": [
    "# remap dictionaries\n",
    "id_to_itemid = dict(enumerate(user_item_matrix.columns.values))\n",
    "id_to_userid = dict(enumerate(user_item_matrix.index.values))\n",
    "\n",
    "itemid_to_id = {v: k for k, v in id_to_itemid.items()}\n",
    "userid_to_id = {v: k for k, v in id_to_userid.items()}"
   ],
   "metadata": {
    "collapsed": false,
    "pycharm": {
     "name": "#%%\n"
    }
   }
  },
  {
   "cell_type": "code",
   "execution_count": 961,
   "outputs": [],
   "source": [
    "# подготовка параметров обучения модели и параметров предсказателя\n",
    "model_params = {'factors': 44,\n",
    "                'regularization': 0.001,\n",
    "                'iterations': 15,\n",
    "                'calculate_training_loss': True,\n",
    "                'use_gpu': False,\n",
    "                'random_state': 23}\n",
    "\n",
    "recommender_params = {\n",
    "    'user_items': sparse_user_item,\n",
    "    'N': 5, # кол-во рекомендаций\n",
    "    'filter_already_liked_items': False,\n",
    "    'filter_items': [itemid_to_id[-1]],\n",
    "    'recalculate_user': True\n",
    "}\n",
    "\n",
    "# sparse_user_item = csr_matrix(bm25_weight(user_item_matrix.T).T).tocsr()"
   ],
   "metadata": {
    "collapsed": false,
    "pycharm": {
     "name": "#%%\n"
    }
   }
  },
  {
   "cell_type": "code",
   "execution_count": 962,
   "outputs": [
    {
     "name": "stdout",
     "output_type": "stream",
     "text": [
      "CPU times: user 2min 20s, sys: 1min 54s, total: 4min 15s\n",
      "Wall time: 33.2 s\n"
     ]
    }
   ],
   "source": [
    "%%time\n",
    "# обучение\n",
    "baseline = true_values.copy()\n",
    "model = check_model(sparse_user_item, model_params, recommender_params, baseline, 'als_baseline')"
   ],
   "metadata": {
    "collapsed": false,
    "pycharm": {
     "name": "#%%\n"
    }
   }
  },
  {
   "cell_type": "code",
   "execution_count": 963,
   "outputs": [
    {
     "data": {
      "text/plain": "             als_baseline\nprecision@k      0.207444\nmap@k            0.345969",
      "text/html": "<div>\n<style scoped>\n    .dataframe tbody tr th:only-of-type {\n        vertical-align: middle;\n    }\n\n    .dataframe tbody tr th {\n        vertical-align: top;\n    }\n\n    .dataframe thead th {\n        text-align: right;\n    }\n</style>\n<table border=\"1\" class=\"dataframe\">\n  <thead>\n    <tr style=\"text-align: right;\">\n      <th></th>\n      <th>als_baseline</th>\n    </tr>\n  </thead>\n  <tbody>\n    <tr>\n      <th>precision@k</th>\n      <td>0.207444</td>\n    </tr>\n    <tr>\n      <th>map@k</th>\n      <td>0.345969</td>\n    </tr>\n  </tbody>\n</table>\n</div>"
     },
     "execution_count": 963,
     "metadata": {},
     "output_type": "execute_result"
    }
   ],
   "source": [
    "compare_metrics(baseline)"
   ],
   "metadata": {
    "collapsed": false,
    "pycharm": {
     "name": "#%%\n"
    }
   }
  },
  {
   "cell_type": "markdown",
   "source": [
    "## Similar-Item recommender"
   ],
   "metadata": {
    "collapsed": false,
    "pycharm": {
     "name": "#%% md\n"
    }
   }
  },
  {
   "cell_type": "code",
   "execution_count": 964,
   "outputs": [],
   "source": [
    "def get_nearest_items(mdl, itemid, k):\n",
    "    \"\"\" Get top K the nearest items to the given\n",
    "    :param mdl: ALS fitted model\n",
    "    :param itemid: real item id\n",
    "    :param k: number of items to find\n",
    "    :return: list of similar item\n",
    "    \"\"\"\n",
    "    return [id_to_itemid[idx] for idx, _ in mdl.similar_items(itemid=itemid_to_id[itemid], N=k + 1)[1:]]\n",
    "\n",
    "def basic_filter(items, placeholder=-1):\n",
    "    \"\"\" Из списка товаров берем первый, отличный от товара-заглушки, а если таких нет, то возвращаем заглушку \"\"\"\n",
    "    return result[0] if (result := [item for item in items if item != -1]) else placeholder\n",
    "\n",
    "def private_label_filter(items, placeholder=-1):\n",
    "    \"\"\" Из списка товаров берем сука только мыло и веревку \"\"\"\n",
    "    # убираем товары-заглушки\n",
    "    if not len(goods := [idx for idx in items if idx != -1]):\n",
    "        return placeholder\n",
    "    # фильтруем товары private brand\n",
    "    filter_mask = products['product_id'].isin(goods) & (products['brand'] == 'Private')\n",
    "    private_brand = products.loc[filter_mask, 'product_id'].values\n",
    "    # если такие есть - даем ближайший в рекомендацию, иначе даем просто ближайший\n",
    "    return private_brand[0] if private_brand.size else goods[0]"
   ],
   "metadata": {
    "collapsed": false,
    "pycharm": {
     "name": "#%%\n"
    }
   }
  },
  {
   "cell_type": "code",
   "execution_count": 965,
   "outputs": [],
   "source": [
    "def similar_item_recommend(mdl, users, data, popularity='popularity', k=5, filter_func=basic_filter, placeholder=(), title='similar_items'):\n",
    "    \"\"\" Recommend similar items based on top K purchases\n",
    "    :param mdl: ALS fitted model\n",
    "    :param users: user ids to recommend for\n",
    "    :param data: source dataset\n",
    "    :param popularity: target field in the dataset\n",
    "    :param k: number of items to recommend\n",
    "    :param filter_func: additional filters like func(items: list) -> list\n",
    "    :param placeholder: value to use if no predictions available\n",
    "    :param title: name of target column\n",
    "    :return: list of predictions for given user\n",
    "    \"\"\"\n",
    "    # по userid получаем топ покупок пользователя\n",
    "    items = data.groupby(['user_id', 'item_id'])[popularity].sum().reset_index()\n",
    "    filter_mask = (items['user_id'].isin(users)) & (items['item_id'] != -1)\n",
    "    items = items[filter_mask].sort_values(by=['user_id', popularity], ascending=[True, False]).groupby('user_id').head(k)\n",
    "\n",
    "    # для каждого товара из топа пользователя находим ближайшие K товаров из топ5к\n",
    "    sim = items['item_id'].apply(lambda x: get_nearest_items(mdl, x, 5))\n",
    "    # на список похожих товаров применяем нужный фильтр:\n",
    "    #   по умолчанию берем первый товар, который не-заглушка. если таких нет, то берем указанный placeholder\n",
    "    if filter_func and callable(filter_func):\n",
    "        items[title] = sim.apply(filter_func)\n",
    "    # набор почти готовых рекомендаций\n",
    "    sim = items.groupby('user_id')[title].unique().reset_index()\n",
    "\n",
    "    # если пользователь покупал меньше, чем мы хотим порекомендовать, или вообще ничего не покупал\n",
    "    sizes = items.groupby('user_id').size()\n",
    "    user_array = np.array(users)\n",
    "    if (low_pred := user_array[np.isin(users, sizes[sizes < 5].index)]).any():\n",
    "        cprint(f\"Some users have less than 5 predictions!\", BColor.WARNING)\n",
    "        print(low_pred)\n",
    "        # какая-то обработка подобных ситуаций\n",
    "        # как вариант, на 1 купленный товар рекомендовать от 2 до k похожих на него, в зависимости от кол-ва купленных\n",
    "    if (nan_pred := user_array[~np.isin(users, sizes.index)]).any():\n",
    "        cprint(f\"Some users have no predictions at all!\", BColor.FAIL)\n",
    "        print(nan_pred)\n",
    "        # какая-то обработка подобных ситуаций\n",
    "        # но пока просто пишем пустоту\n",
    "        fix_pred = pd.DataFrame({'user_id': nan_pred, title: [np.array(placeholder)] * nan_pred.size})\n",
    "        sim = pd.concat([sim, fix_pred])\n",
    "\n",
    "    return sim"
   ],
   "metadata": {
    "collapsed": false,
    "pycharm": {
     "name": "#%%\n"
    }
   }
  },
  {
   "cell_type": "code",
   "execution_count": 966,
   "outputs": [],
   "source": [
    "# init predictions\n",
    "predictions = baseline.copy()"
   ],
   "metadata": {
    "collapsed": false,
    "pycharm": {
     "name": "#%%\n"
    }
   }
  },
  {
   "cell_type": "code",
   "execution_count": 967,
   "outputs": [
    {
     "name": "stdout",
     "output_type": "stream",
     "text": [
      "\u001B[93mSome users have less than 5 predictions!\u001B[0m\n",
      "[  75  729 1105 1539 1565 1636 1984 2120 2259 2364 2373 2404]\n",
      "\u001B[91mSome users have no predictions at all!\u001B[0m\n",
      "[ 650  954 1987]\n",
      "CPU times: user 7.6 s, sys: 5.73 s, total: 13.3 s\n",
      "Wall time: 2.06 s\n"
     ]
    }
   ],
   "source": [
    "%%time\n",
    "# базовые рекомендации по similar item\n",
    "basic_similar_items = similar_item_recommend(model, baseline['user_id'], top_train,\n",
    "                                             k=5, title='basic_similar_items')\n",
    "predictions = predictions.merge(basic_similar_items, on='user_id', how='left')"
   ],
   "metadata": {
    "collapsed": false,
    "pycharm": {
     "name": "#%%\n"
    }
   }
  },
  {
   "cell_type": "code",
   "execution_count": 968,
   "outputs": [
    {
     "name": "stdout",
     "output_type": "stream",
     "text": [
      "\u001B[93mSome users have less than 5 predictions!\u001B[0m\n",
      "[  75  729 1105 1539 1565 1636 1984 2120 2259 2364 2373 2404]\n",
      "\u001B[91mSome users have no predictions at all!\u001B[0m\n",
      "[ 650  954 1987]\n",
      "CPU times: user 1min 8s, sys: 5.95 s, total: 1min 14s\n",
      "Wall time: 1min 3s\n"
     ]
    }
   ],
   "source": [
    "%%time\n",
    "# рекомендации по similar item предпочтительно private brand\n",
    "brand_similar_items = similar_item_recommend(model, baseline['user_id'], top_train,\n",
    "                                             k=5, title='brand_similar_items', filter_func=private_label_filter)\n",
    "predictions = predictions.merge(brand_similar_items, on='user_id', how='left')"
   ],
   "metadata": {
    "collapsed": false,
    "pycharm": {
     "name": "#%%\n"
    }
   }
  },
  {
   "cell_type": "code",
   "execution_count": 969,
   "outputs": [
    {
     "data": {
      "text/plain": "   user_id                                             actual  \\\n0        1  [821867, 834484, 856942, 865456, 889248, 90795...   \n1        3  [835476, 851057, 872021, 878302, 879948, 90963...   \n2        6  [920308, 926804, 946489, 1006718, 1017061, 107...   \n\n                                    als_baseline  \\\n0   [995242, 1082185, 1005186, 5978656, 6534178]   \n1  [5569230, 6534178, 1133018, 1082185, 1053690]   \n2      [866211, 1127831, 878996, 834484, 854852]   \n\n                              basic_similar_items  \\\n0   [6534178, 880310, 1029743, 10150194, 1022053]   \n1  [1082185, 12810391, 1075979, 12263692, 847573]   \n2     [1082185, 6534178, 948650, 825541, 1135476]   \n\n                            brand_similar_items  \n0   [981760, 880310, 826249, 10150194, 1022053]  \n1  [1062425, 1026586, 896974, 12263692, 847573]  \n2    [1062425, 981760, 948650, 825541, 1135476]  ",
      "text/html": "<div>\n<style scoped>\n    .dataframe tbody tr th:only-of-type {\n        vertical-align: middle;\n    }\n\n    .dataframe tbody tr th {\n        vertical-align: top;\n    }\n\n    .dataframe thead th {\n        text-align: right;\n    }\n</style>\n<table border=\"1\" class=\"dataframe\">\n  <thead>\n    <tr style=\"text-align: right;\">\n      <th></th>\n      <th>user_id</th>\n      <th>actual</th>\n      <th>als_baseline</th>\n      <th>basic_similar_items</th>\n      <th>brand_similar_items</th>\n    </tr>\n  </thead>\n  <tbody>\n    <tr>\n      <th>0</th>\n      <td>1</td>\n      <td>[821867, 834484, 856942, 865456, 889248, 90795...</td>\n      <td>[995242, 1082185, 1005186, 5978656, 6534178]</td>\n      <td>[6534178, 880310, 1029743, 10150194, 1022053]</td>\n      <td>[981760, 880310, 826249, 10150194, 1022053]</td>\n    </tr>\n    <tr>\n      <th>1</th>\n      <td>3</td>\n      <td>[835476, 851057, 872021, 878302, 879948, 90963...</td>\n      <td>[5569230, 6534178, 1133018, 1082185, 1053690]</td>\n      <td>[1082185, 12810391, 1075979, 12263692, 847573]</td>\n      <td>[1062425, 1026586, 896974, 12263692, 847573]</td>\n    </tr>\n    <tr>\n      <th>2</th>\n      <td>6</td>\n      <td>[920308, 926804, 946489, 1006718, 1017061, 107...</td>\n      <td>[866211, 1127831, 878996, 834484, 854852]</td>\n      <td>[1082185, 6534178, 948650, 825541, 1135476]</td>\n      <td>[1062425, 981760, 948650, 825541, 1135476]</td>\n    </tr>\n  </tbody>\n</table>\n</div>"
     },
     "execution_count": 969,
     "metadata": {},
     "output_type": "execute_result"
    }
   ],
   "source": [
    "predictions.head(3)"
   ],
   "metadata": {
    "collapsed": false,
    "pycharm": {
     "name": "#%%\n"
    }
   }
  },
  {
   "cell_type": "code",
   "execution_count": 970,
   "outputs": [
    {
     "data": {
      "text/plain": "             als_baseline  basic_similar_items  brand_similar_items\nprecision@k      0.207444             0.122233             0.062880\nmap@k            0.345969             0.263920             0.112231",
      "text/html": "<div>\n<style scoped>\n    .dataframe tbody tr th:only-of-type {\n        vertical-align: middle;\n    }\n\n    .dataframe tbody tr th {\n        vertical-align: top;\n    }\n\n    .dataframe thead th {\n        text-align: right;\n    }\n</style>\n<table border=\"1\" class=\"dataframe\">\n  <thead>\n    <tr style=\"text-align: right;\">\n      <th></th>\n      <th>als_baseline</th>\n      <th>basic_similar_items</th>\n      <th>brand_similar_items</th>\n    </tr>\n  </thead>\n  <tbody>\n    <tr>\n      <th>precision@k</th>\n      <td>0.207444</td>\n      <td>0.122233</td>\n      <td>0.062880</td>\n    </tr>\n    <tr>\n      <th>map@k</th>\n      <td>0.345969</td>\n      <td>0.263920</td>\n      <td>0.112231</td>\n    </tr>\n  </tbody>\n</table>\n</div>"
     },
     "execution_count": 970,
     "metadata": {},
     "output_type": "execute_result"
    }
   ],
   "source": [
    "# расчет метрик\n",
    "compare_metrics(predictions)"
   ],
   "metadata": {
    "collapsed": false,
    "pycharm": {
     "name": "#%%\n"
    }
   }
  },
  {
   "cell_type": "raw",
   "source": [
    "По метрикам вышло не очень. Shit happens. Но возможно, так мы увеличим продажи private brand."
   ],
   "metadata": {
    "collapsed": false,
    "pycharm": {
     "name": "#%% raw\n"
    }
   }
  },
  {
   "cell_type": "raw",
   "source": [
    "metrics_similar_items.csv\n",
    "    default - топ5к по quantity, без взвешивания\n",
    "    default (bm25) - топ5к по quantity, bm25 взвешивание\n",
    "    mixed top5k - топ5к на синтетическом параметре, без взвешивания\n",
    "    mixed top5k (bm25) - топ5к на синтетическом параметре, bm25 взвешивание"
   ],
   "metadata": {
    "collapsed": false,
    "pycharm": {
     "name": "#%% raw\n"
    }
   }
  },
  {
   "cell_type": "code",
   "execution_count": 971,
   "outputs": [
    {
     "data": {
      "text/plain": "                 mode       metric  als_baseline  basic_similar_items  \\\n0             default  precision@k      0.167091             0.111361   \n2      default (bm25)  precision@k      0.201469             0.130558   \n4         mixed top5k  precision@k      0.207444             0.122233   \n6  mixed top5k (bm25)  precision@k      0.222625             0.101273   \n\n   brand_similar_items  \n0             0.076494  \n2             0.085211  \n4             0.062880  \n6             0.077669  ",
      "text/html": "<div>\n<style scoped>\n    .dataframe tbody tr th:only-of-type {\n        vertical-align: middle;\n    }\n\n    .dataframe tbody tr th {\n        vertical-align: top;\n    }\n\n    .dataframe thead th {\n        text-align: right;\n    }\n</style>\n<table border=\"1\" class=\"dataframe\">\n  <thead>\n    <tr style=\"text-align: right;\">\n      <th></th>\n      <th>mode</th>\n      <th>metric</th>\n      <th>als_baseline</th>\n      <th>basic_similar_items</th>\n      <th>brand_similar_items</th>\n    </tr>\n  </thead>\n  <tbody>\n    <tr>\n      <th>0</th>\n      <td>default</td>\n      <td>precision@k</td>\n      <td>0.167091</td>\n      <td>0.111361</td>\n      <td>0.076494</td>\n    </tr>\n    <tr>\n      <th>2</th>\n      <td>default (bm25)</td>\n      <td>precision@k</td>\n      <td>0.201469</td>\n      <td>0.130558</td>\n      <td>0.085211</td>\n    </tr>\n    <tr>\n      <th>4</th>\n      <td>mixed top5k</td>\n      <td>precision@k</td>\n      <td>0.207444</td>\n      <td>0.122233</td>\n      <td>0.062880</td>\n    </tr>\n    <tr>\n      <th>6</th>\n      <td>mixed top5k (bm25)</td>\n      <td>precision@k</td>\n      <td>0.222625</td>\n      <td>0.101273</td>\n      <td>0.077669</td>\n    </tr>\n  </tbody>\n</table>\n</div>"
     },
     "execution_count": 971,
     "metadata": {},
     "output_type": "execute_result"
    }
   ],
   "source": [
    "metrics = pd.read_csv('metrics_similar_items.csv')\n",
    "metrics[metrics['metric'] == 'precision@k']"
   ],
   "metadata": {
    "collapsed": false,
    "pycharm": {
     "name": "#%%\n"
    }
   }
  },
  {
   "cell_type": "markdown",
   "source": [
    "## Similar-User recommender"
   ],
   "metadata": {
    "collapsed": false,
    "pycharm": {
     "name": "#%% md\n"
    }
   }
  },
  {
   "cell_type": "code",
   "execution_count": 971,
   "outputs": [],
   "source": [],
   "metadata": {
    "collapsed": false,
    "pycharm": {
     "name": "#%%\n"
    }
   }
  }
 ],
 "metadata": {
  "kernelspec": {
   "display_name": "Python 3",
   "language": "python",
   "name": "python3"
  },
  "language_info": {
   "codemirror_mode": {
    "name": "ipython",
    "version": 2
   },
   "file_extension": ".py",
   "mimetype": "text/x-python",
   "name": "python",
   "nbconvert_exporter": "python",
   "pygments_lexer": "ipython2",
   "version": "2.7.6"
  }
 },
 "nbformat": 4,
 "nbformat_minor": 0
}