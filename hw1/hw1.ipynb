{
 "cells": [
  {
   "cell_type": "markdown",
   "metadata": {},
   "source": [
    "### init environment"
   ]
  },
  {
   "cell_type": "code",
   "execution_count": 383,
   "metadata": {},
   "outputs": [],
   "source": [
    "# import torch\n",
    "import numpy as np\n",
    "from functools import partial"
   ]
  },
  {
   "cell_type": "code",
   "execution_count": 384,
   "metadata": {},
   "outputs": [],
   "source": [
    "good_count = 20        # общее кол-во товаров\n",
    "user_count = 100         # кол-во пользователей для которых генерим данные\n",
    "recommend_count = 10    # кол-во генерируемых рекомендаций для каждого пользователя\n",
    "price_range = (199, 2490)\n",
    "\n",
    "# генерируем проверочные данные для заданий\n",
    "rnd = np.random.default_rng(11)\n",
    "goods = np.arange(good_count) + 50      # список id существующих товаров\n",
    "prices = np.round(rnd.random(good_count) * (max(price_range) - min(price_range)) + min(price_range), 2)     # цены товаров\n",
    "\n",
    "recommends = []         # списки рекомендаций для пользователей\n",
    "rec_prices = []         # списки цен рекомендованных товаров\n",
    "boughts = []            # список покупок\n",
    "b_prices = []           # список цен покупок\n",
    "for _ in range(user_count):\n",
    "    indexes = rnd.choice(goods.size, size=recommend_count, replace=False)    # индексы рекомендаций\n",
    "    recommends.append(goods[indexes])\n",
    "    rec_prices.append(prices[indexes])\n",
    "\n",
    "    boughts_count = rnd.integers(good_count) + 1\n",
    "    indexes = rnd.choice(goods.size, size=boughts_count, replace=False)\n",
    "    boughts.append(goods[indexes])\n",
    "    b_prices.append(prices[indexes])"
   ]
  },
  {
   "cell_type": "markdown",
   "metadata": {
    "id": "IZ6mlwcSo1hn"
   },
   "source": [
    "### 1. hit rate at k"
   ]
  },
  {
   "cell_type": "code",
   "execution_count": 385,
   "metadata": {},
   "outputs": [],
   "source": [
    "def hit_rate(recommended_list, bought_list):\n",
    "    bought_list = np.array(bought_list)\n",
    "    recommended_list = np.array(recommended_list)\n",
    "    flags = np.isin(bought_list, recommended_list)\n",
    "    hit_rate = (flags.sum() > 0) * 1\n",
    "    return hit_rate\n",
    "\n",
    "\n",
    "def hit_rate_at_k(recommended_list, bought_list, k=5):\n",
    "    \"\"\" Hit rate@k = (был ли хотя бы 1 релевантный товар среди топ-k рекомендованных) \"\"\"\n",
    "    # с использованием numpy\n",
    "    flags = np.isin(bought_list, recommended_list[:k])\n",
    "    return (flags.sum() > 0) * 1\n",
    "\n",
    "    # без использования numpy\n",
    "    # return (len(set(bought_list) & set(recommended_list[:k])) > 0) * 1"
   ]
  },
  {
   "cell_type": "code",
   "execution_count": 386,
   "metadata": {},
   "outputs": [
    {
     "name": "stdout",
     "output_type": "stream",
     "text": [
      "Hit rate@k value (k=5): 1\n"
     ]
    }
   ],
   "source": [
    "# check\n",
    "user = 0\n",
    "val = hit_rate_at_k(recommends[user], boughts[user], 5)\n",
    "print(f'Hit rate@k value (k=5): {val}')"
   ]
  },
  {
   "cell_type": "code",
   "execution_count": 387,
   "metadata": {},
   "outputs": [
    {
     "name": "stdout",
     "output_type": "stream",
     "text": [
      "Hit rate@k value (k=5): 1\n"
     ]
    }
   ],
   "source": [
    "# также можно в hit_rate() как recommended_list передавать нужный slice:\n",
    "user = 0\n",
    "val = hit_rate(recommends[user][:5], boughts[user])\n",
    "print(f'Hit rate@k value (k=5): {val}')"
   ]
  },
  {
   "cell_type": "markdown",
   "metadata": {},
   "source": [
    "### money precision at k"
   ]
  },
  {
   "cell_type": "code",
   "execution_count": 388,
   "metadata": {},
   "outputs": [],
   "source": [
    "def money_precision_at_k(recommended_list, bought_list, prices_recommended, k=5):\n",
    "    \"\"\" Доля дохода по рекомендованным объектам\n",
    "    :param recommended_list - список id рекомендаций\n",
    "    :param bought_list - список id покупок\n",
    "    :param prices_recommended - список цен для рекомендаций\n",
    "    \"\"\"\n",
    "    flags = np.isin(recommended_list[:k], bought_list)\n",
    "    prices = np.array(prices_recommended[:k])\n",
    "    return flags @ prices / prices.sum()"
   ]
  },
  {
   "cell_type": "code",
   "execution_count": 389,
   "metadata": {},
   "outputs": [
    {
     "data": {
      "text/plain": [
       "0.6854211885678256"
      ]
     },
     "execution_count": 389,
     "metadata": {},
     "output_type": "execute_result"
    }
   ],
   "source": [
    "# check\n",
    "user = 10\n",
    "money_precision_at_k(recommends[user], boughts[user], rec_prices[user], k=5)"
   ]
  },
  {
   "cell_type": "code",
   "execution_count": 390,
   "metadata": {},
   "outputs": [
    {
     "data": {
      "text/plain": [
       "(array([53, 58, 67, 68, 51, 62, 63, 61, 57, 59]),\n",
       " array([58, 66, 63, 50, 57, 51, 61, 55, 56, 67, 59, 62, 52, 64, 65, 54, 60]),\n",
       " array([ 264.73, 2371.62, 1372.87, 2070.14, 1342.85, 1717.57,  829.73,\n",
       "        1370.59,  496.31, 1623.74]))"
      ]
     },
     "execution_count": 390,
     "metadata": {},
     "output_type": "execute_result"
    }
   ],
   "source": [
    "recommends[user], boughts[user], rec_prices[user]"
   ]
  },
  {
   "cell_type": "markdown",
   "metadata": {},
   "source": [
    "### recall at k"
   ]
  },
  {
   "cell_type": "code",
   "execution_count": 391,
   "metadata": {},
   "outputs": [],
   "source": [
    "def recall_at_k(recommended_list, bought_list, k=5):\n",
    "    \"\"\" Recall on top k items \"\"\"\n",
    "    flags = np.isin(bought_list, recommended_list[:k])\n",
    "    return flags.sum() / len(bought_list)"
   ]
  },
  {
   "cell_type": "code",
   "execution_count": 392,
   "metadata": {},
   "outputs": [
    {
     "data": {
      "text/plain": [
       "0.17647058823529413"
      ]
     },
     "execution_count": 392,
     "metadata": {},
     "output_type": "execute_result"
    }
   ],
   "source": [
    "# check\n",
    "user = 10\n",
    "recall_at_k(recommends[user], boughts[user], k=5)"
   ]
  },
  {
   "cell_type": "markdown",
   "metadata": {},
   "source": [
    "### money recall at k"
   ]
  },
  {
   "cell_type": "code",
   "execution_count": 393,
   "metadata": {},
   "outputs": [],
   "source": [
    "def money_recall_at_k(recommended_list, bought_list, prices_recommended, prices_bought, k=5):\n",
    "    \"\"\" Доля дохода по релевантным рекомендованным объектам\n",
    "    :param recommended_list - список id рекомендаций\n",
    "    :param bought_list - список id покупок\n",
    "    :param prices_recommended - список цен для рекомендаций\n",
    "    :param prices_bought - список цен покупок\n",
    "    \"\"\"\n",
    "    flags = np.isin(recommended_list[:k], bought_list)      # get recommend to bought matches\n",
    "    prices = np.array(prices_recommended[:k])               # get prices of recommended items\n",
    "    return flags @ prices / np.sum(prices_bought)"
   ]
  },
  {
   "cell_type": "code",
   "execution_count": 394,
   "metadata": {},
   "outputs": [
    {
     "data": {
      "text/plain": [
       "0.23424252219100425"
      ]
     },
     "execution_count": 394,
     "metadata": {},
     "output_type": "execute_result"
    }
   ],
   "source": [
    "# check\n",
    "user = 10\n",
    "money_recall_at_k(recommends[user], boughts[user], rec_prices[user], b_prices[user], k=5)"
   ]
  },
  {
   "cell_type": "markdown",
   "metadata": {},
   "source": [
    "### map at k"
   ]
  },
  {
   "cell_type": "code",
   "execution_count": 395,
   "metadata": {},
   "outputs": [],
   "source": [
    "def precision_at_k(recommended_list, bought_list, k=5):\n",
    "    flags = np.isin(bought_list, recommended_list[:k])\n",
    "    return flags.sum() / k\n",
    "\n",
    "def ap_k(recommended_list, bought_list, k=5):\n",
    "    # переработано\n",
    "    flags = np.isin(recommended_list, bought_list)\n",
    "    if sum(flags) == 0:\n",
    "        return 0\n",
    "\n",
    "    sum_ = 0\n",
    "    for i in range(0, k-1):\n",
    "        if flags[i]:\n",
    "            sum_ += precision_at_k(recommended_list, bought_list, k=i+1)\n",
    "    result = sum_ / sum(flags)\n",
    "    return result\n",
    "\n",
    "    # func = partial(precision_at_k, recommended_list, bought_list)\n",
    "    # rel_items = np.arange(1, k + 1)[flags[:k]]                  # получаем номера релевантных объектов\n",
    "    # return np.sum(list(map(func, rel_items))) / flags.sum()     # считаем avg precision@k для этих объектов"
   ]
  },
  {
   "cell_type": "code",
   "execution_count": 396,
   "metadata": {},
   "outputs": [],
   "source": [
    "# v1\n",
    "def map_k_v1(recommended_list, bought_list, k=5, u=1):\n",
    "    \"\"\" Среднее AP@k по u пользователям \"\"\"\n",
    "    apk = []\n",
    "    for user in range(u):\n",
    "        apk.append(ap_k(recommended_list[user], bought_list[user]))\n",
    "    \n",
    "    return np.mean(apk)"
   ]
  },
  {
   "cell_type": "code",
   "execution_count": 397,
   "metadata": {},
   "outputs": [],
   "source": [
    "# v2\n",
    "def map_k_v2(recommended_list, bought_list, k=5, u=1):\n",
    "    \"\"\" Среднее AP@k по u пользователям \"\"\"\n",
    "    func = partial(ap_k, k=k)\n",
    "    apk = list(map(func, recommended_list[:u], bought_list[:u]))\n",
    "    return np.mean(apk)"
   ]
  },
  {
   "cell_type": "code",
   "execution_count": 398,
   "metadata": {},
   "outputs": [
    {
     "name": "stdout",
     "output_type": "stream",
     "text": [
      "CPU times: user 20.4 ms, sys: 4.6 ms, total: 25 ms\n",
      "Wall time: 33.2 ms\n"
     ]
    },
    {
     "data": {
      "text/plain": [
       "0.29224801587301585"
      ]
     },
     "execution_count": 398,
     "metadata": {},
     "output_type": "execute_result"
    }
   ],
   "source": [
    "%%time\n",
    "# check\n",
    "map_k_v1(recommends, boughts, u=50)"
   ]
  },
  {
   "cell_type": "code",
   "execution_count": 399,
   "metadata": {},
   "outputs": [
    {
     "name": "stdout",
     "output_type": "stream",
     "text": [
      "CPU times: user 25.4 ms, sys: 0 ns, total: 25.4 ms\n",
      "Wall time: 32 ms\n"
     ]
    },
    {
     "data": {
      "text/plain": [
       "0.29224801587301585"
      ]
     },
     "execution_count": 399,
     "metadata": {},
     "output_type": "execute_result"
    }
   ],
   "source": [
    "%%time\n",
    "# check\n",
    "map_k_v2(recommends, boughts, u=50)"
   ]
  },
  {
   "cell_type": "markdown",
   "metadata": {},
   "source": [
    "### mean reciprocal rank"
   ]
  },
  {
   "cell_type": "markdown",
   "metadata": {},
   "source": [
    "Mean Reciprocal Rank\n",
    "\n",
    "- Считаем для первых k рекоммендаций\n",
    "- Найти ранк первого релевантного предсказания $k_u$\n",
    "- Посчитать reciprocal rank = $\\frac{1}{k_u}$\n",
    "\n",
    "$$MRR = mean(\\frac{1}{k_u})$$"
   ]
  },
  {
   "cell_type": "code",
   "execution_count": 400,
   "metadata": {},
   "outputs": [],
   "source": [
    "def reciprocal_rank(recommended_list, bought_list, n=1, k=5):    \n",
    "    \"\"\" обратный ранг n релевантных рекомендаций среди первых k рекомендаций\n",
    "    (при n=1 оно как раз должно работать как сказано в задании)\n",
    "    :param recommended_list - список рекомендаций\n",
    "    :param bought_list - список покупок\n",
    "    :param n - учитывать первые n релевантных рекомендаций\n",
    "    :param k - искать релевантные среди первых k рекомендаций\n",
    "    \"\"\"\n",
    "    flags = np.isin(recommended_list[:k], bought_list)\n",
    "    ranks = np.arange(1, k + 1)[flags][:n]      # ранги первых n рекомендаций из первых k. равен 0 если рекомендация нерелевантна\n",
    "    ideal_ranks = np.arange(1, n + 1)\n",
    "    return (1 / ranks).sum() / (1 / ideal_ranks).sum() if flags.any() else 0"
   ]
  },
  {
   "cell_type": "code",
   "execution_count": 401,
   "metadata": {},
   "outputs": [
    {
     "data": {
      "text/plain": [
       "0.4525547445255474"
      ]
     },
     "execution_count": 401,
     "metadata": {},
     "output_type": "execute_result"
    }
   ],
   "source": [
    "# check\n",
    "user = 10\n",
    "reciprocal_rank(recommends[user], boughts[user], n=5)"
   ]
  },
  {
   "cell_type": "code",
   "execution_count": 402,
   "metadata": {},
   "outputs": [
    {
     "data": {
      "text/plain": [
       "(array([53, 58, 67, 68, 51, 62, 63, 61, 57, 59]),\n",
       " array([58, 66, 63, 50, 57, 51, 61, 55, 56, 67, 59, 62, 52, 64, 65, 54, 60]))"
      ]
     },
     "execution_count": 402,
     "metadata": {},
     "output_type": "execute_result"
    }
   ],
   "source": [
    "recommends[user], boughts[user]"
   ]
  },
  {
   "cell_type": "code",
   "execution_count": 403,
   "metadata": {},
   "outputs": [],
   "source": [
    "def mean_reciprocal_rank(recommended_list, bought_list, k=5):\n",
    "    \"\"\" Среднеобратный ранг \"\"\"\n",
    "    ranks = []\n",
    "    for data in zip(recommended_list, bought_list):\n",
    "        ranks.append(reciprocal_rank(*data, k))\n",
    "    return np.mean(ranks)"
   ]
  },
  {
   "cell_type": "code",
   "execution_count": 404,
   "metadata": {},
   "outputs": [
    {
     "data": {
      "text/plain": [
       "0.549051094890511"
      ]
     },
     "execution_count": 404,
     "metadata": {},
     "output_type": "execute_result"
    }
   ],
   "source": [
    "# check\n",
    "mean_reciprocal_rank(recommends, boughts, k=5)"
   ]
  },
  {
   "cell_type": "markdown",
   "metadata": {},
   "source": [
    "### NDCG@k"
   ]
  },
  {
   "cell_type": "markdown",
   "metadata": {},
   "source": [
    "Normalized discounted cumulative gain\n",
    "\n",
    "$$DCG = \\frac{1}{|r|} \\sum_u{\\frac{[bought fact]}{discount(i)}}$$  \n",
    "\n",
    "$discount(i) = 1$ if $i <= 2$,   \n",
    "$discount(i) = log_2(i)$ if $i > 2$\n",
    "\n",
    "\n",
    "(!) Считаем для первых k рекоммендаций   \n",
    "(!) - существуют вариации с другими $discount(i)$  \n",
    "i - ранк рекомендованного товара  \n",
    "|r| - кол-во рекомендованных товаров \n",
    "\n",
    "$$NDCG = \\frac{DCG}{ideal DCG}$$"
   ]
  },
  {
   "cell_type": "code",
   "execution_count": 551,
   "metadata": {},
   "outputs": [],
   "source": [
    "N = 5\n",
    "\n",
    "rnd = np.random.default_rng(7)\n",
    "# ys_true = torch.randint(0, 5, (N, ))\n",
    "# ys_pred = torch.rand(N)\n",
    "ys_true = rnd.integers(5, size=N)\n",
    "ys_pred = rnd.random(size=N)\n"
   ]
  },
  {
   "cell_type": "code",
   "execution_count": 552,
   "metadata": {},
   "outputs": [
    {
     "data": {
      "text/plain": [
       "(array([4, 3, 3, 4, 2]),\n",
       " array([0.22520719, 0.30016628, 0.87355345, 0.0052653 , 0.82122842]))"
      ]
     },
     "execution_count": 552,
     "metadata": {},
     "output_type": "execute_result"
    }
   ],
   "source": [
    "ys_true, ys_pred"
   ]
  },
  {
   "cell_type": "code",
   "execution_count": 514,
   "metadata": {},
   "outputs": [],
   "source": [
    "# def compute_gain(y_value: float, gain_scheme: str) -> float:\n",
    "#     \"\"\" Cumulative gain \"\"\"\n",
    "#     if gain_scheme == \"exp2\":\n",
    "#         gain = 2 ** y_value - 1\n",
    "#     elif gain_scheme == \"const\":\n",
    "#         gain = y_value\n",
    "#     else:\n",
    "#         raise ValueError(f\"{gain_scheme} method not supported, only exp2 and const.\")\n",
    "#     return float(gain)"
   ]
  },
  {
   "cell_type": "code",
   "execution_count": 524,
   "metadata": {},
   "outputs": [],
   "source": [
    "def cumulative_gain(y_true, y_pred, gain_scheme: str = 'const', k=3) -> float:\n",
    "    \"\"\" Cumulative gain at k \"\"\"\n",
    "    argsort = np.argsort(y_pred)[:-k - 1:-1]        # @k descending sort indexes    \n",
    "    if gain_scheme == \"exp2\":\n",
    "        gain = 2 ** (y_true[argsort] * y_pred[argsort]) - 1\n",
    "    elif gain_scheme == \"const\":\n",
    "        gain = y_true[argsort] * y_pred[argsort]\n",
    "    else:\n",
    "        raise ValueError(f\"{gain_scheme} method not supported, only exp2 and const.\")\n",
    "    return gain"
   ]
  },
  {
   "cell_type": "code",
   "execution_count": 553,
   "metadata": {},
   "outputs": [
    {
     "data": {
      "text/plain": [
       "array([5.15031514, 2.12197035, 0.86671134])"
      ]
     },
     "execution_count": 553,
     "metadata": {},
     "output_type": "execute_result"
    }
   ],
   "source": [
    "cumulative_gain(ys_true, ys_pred, 'exp2', k=3)"
   ]
  },
  {
   "cell_type": "code",
   "execution_count": 537,
   "metadata": {},
   "outputs": [],
   "source": [
    "def dcg(ys_true, ys_pred, gain_scheme: str = 'const', k=3) -> float:\n",
    "    \"\"\" Discounted cumulative gain at K \"\"\"\n",
    "    cg_pred = cumulative_gain(ys_true, ys_pred, gain_scheme, k)\n",
    "\n",
    "    ret = 0\n",
    "    for idx, cg in enumerate(cg_pred, 1):\n",
    "        ret += cg / np.log2(idx + 1)\n",
    "        \n",
    "    return ret"
   ]
  },
  {
   "cell_type": "code",
   "execution_count": 559,
   "metadata": {},
   "outputs": [],
   "source": [
    "# def dcg(ys_true, ys_pred, gain_scheme: str = 'const', k=3) -> float:\n",
    "#     \"\"\" Discounted cumulative gain at K \"\"\"\n",
    "#     argsort = np.argsort(ys_pred)[:-k - 1:-1]   # sort @k\n",
    "#     ys_true_sorted = ys_true[argsort]\n",
    "#     ret = 0\n",
    "#     for st, sp in zip(ys_true_sorted, ys_pred[argsort]):\n",
    "#         # st - sorted true, sp - sorted pred\n",
    "#         gain = compute_gain(st * sp, gain_scheme)\n",
    "#         ret += gain / np.log2(k + 1)\n",
    "        \n",
    "#     return ret"
   ]
  },
  {
   "cell_type": "code",
   "execution_count": 512,
   "metadata": {},
   "outputs": [],
   "source": [
    "# def dcg(ys_true, ys_pred, gain_scheme: str = 'const', k=3) -> float:\n",
    "#     \"\"\" Discounted cumulative gain at K \"\"\"\n",
    "#     argsort = np.argsort(ys_pred)[:-k - 1:-1]   # sort @k\n",
    "#     ys_true_sorted = ys_true[argsort]\n",
    "#     ret = 0\n",
    "#     for idx, (st, sp) in enumerate(zip(ys_true_sorted, ys_pred[argsort]), 1):\n",
    "#         # st - sorted true, sp - sorted pred\n",
    "#         gain = compute_gain(st * sp, gain_scheme)\n",
    "#         ret += gain / (np.log2(idx + 1))\n",
    "        \n",
    "#     return ret"
   ]
  },
  {
   "cell_type": "code",
   "execution_count": 560,
   "metadata": {},
   "outputs": [
    {
     "ename": "IndexError",
     "evalue": "invalid index to scalar variable.",
     "output_type": "error",
     "traceback": [
      "\u001b[0;31m---------------------------------------------------------------------------\u001b[0m",
      "\u001b[0;31mIndexError\u001b[0m                                Traceback (most recent call last)",
      "\u001b[1;32m/home/avagadro/Projects/gb_recommends/hw1/hw1.ipynb Cell 41'\u001b[0m in \u001b[0;36m<module>\u001b[0;34m\u001b[0m\n\u001b[0;32m----> <a href='vscode-notebook-cell:/home/avagadro/Projects/gb_recommends/hw1/hw1.ipynb#ch0000086?line=0'>1</a>\u001b[0m dcg(ys_true, ys_pred, \u001b[39m'\u001b[39;49m\u001b[39mexp2\u001b[39;49m\u001b[39m'\u001b[39;49m, k\u001b[39m=\u001b[39;49m\u001b[39m3\u001b[39;49m)\n",
      "\u001b[1;32m/home/avagadro/Projects/gb_recommends/hw1/hw1.ipynb Cell 39'\u001b[0m in \u001b[0;36mdcg\u001b[0;34m(ys_true, ys_pred, gain_scheme, k)\u001b[0m\n\u001b[1;32m      <a href='vscode-notebook-cell:/home/avagadro/Projects/gb_recommends/hw1/hw1.ipynb#ch0000064?line=4'>5</a>\u001b[0m ret \u001b[39m=\u001b[39m \u001b[39m0\u001b[39m\n\u001b[1;32m      <a href='vscode-notebook-cell:/home/avagadro/Projects/gb_recommends/hw1/hw1.ipynb#ch0000064?line=5'>6</a>\u001b[0m \u001b[39mfor\u001b[39;00m st, sp \u001b[39min\u001b[39;00m \u001b[39mzip\u001b[39m(ys_true_sorted, ys_pred[argsort]):\n\u001b[1;32m      <a href='vscode-notebook-cell:/home/avagadro/Projects/gb_recommends/hw1/hw1.ipynb#ch0000064?line=6'>7</a>\u001b[0m     \u001b[39m# st - sorted true, sp - sorted pred\u001b[39;00m\n\u001b[0;32m----> <a href='vscode-notebook-cell:/home/avagadro/Projects/gb_recommends/hw1/hw1.ipynb#ch0000064?line=7'>8</a>\u001b[0m     gain \u001b[39m=\u001b[39m compute_gain(st \u001b[39m*\u001b[39;49m sp, gain_scheme)\n\u001b[1;32m      <a href='vscode-notebook-cell:/home/avagadro/Projects/gb_recommends/hw1/hw1.ipynb#ch0000064?line=8'>9</a>\u001b[0m     ret \u001b[39m+\u001b[39m\u001b[39m=\u001b[39m gain \u001b[39m/\u001b[39m np\u001b[39m.\u001b[39mlog2(k \u001b[39m+\u001b[39m \u001b[39m1\u001b[39m)\n\u001b[1;32m     <a href='vscode-notebook-cell:/home/avagadro/Projects/gb_recommends/hw1/hw1.ipynb#ch0000064?line=10'>11</a>\u001b[0m \u001b[39mreturn\u001b[39;00m ret\n",
      "\u001b[1;32m/home/avagadro/Projects/gb_recommends/hw1/hw1.ipynb Cell 36'\u001b[0m in \u001b[0;36mcompute_gain\u001b[0;34m(y_true, y_pred, gain_scheme, k)\u001b[0m\n\u001b[1;32m      <a href='vscode-notebook-cell:/home/avagadro/Projects/gb_recommends/hw1/hw1.ipynb#ch0000082?line=4'>5</a>\u001b[0m     gain \u001b[39m=\u001b[39m \u001b[39m2\u001b[39m \u001b[39m*\u001b[39m\u001b[39m*\u001b[39m (y_true[argsort] \u001b[39m*\u001b[39m y_pred[argsort]) \u001b[39m-\u001b[39m \u001b[39m1\u001b[39m\n\u001b[1;32m      <a href='vscode-notebook-cell:/home/avagadro/Projects/gb_recommends/hw1/hw1.ipynb#ch0000082?line=5'>6</a>\u001b[0m \u001b[39melif\u001b[39;00m gain_scheme \u001b[39m==\u001b[39m \u001b[39m\"\u001b[39m\u001b[39mconst\u001b[39m\u001b[39m\"\u001b[39m:\n\u001b[0;32m----> <a href='vscode-notebook-cell:/home/avagadro/Projects/gb_recommends/hw1/hw1.ipynb#ch0000082?line=6'>7</a>\u001b[0m     gain \u001b[39m=\u001b[39m y_true[argsort] \u001b[39m*\u001b[39m y_pred[argsort]\n\u001b[1;32m      <a href='vscode-notebook-cell:/home/avagadro/Projects/gb_recommends/hw1/hw1.ipynb#ch0000082?line=7'>8</a>\u001b[0m \u001b[39melse\u001b[39;00m:\n\u001b[1;32m      <a href='vscode-notebook-cell:/home/avagadro/Projects/gb_recommends/hw1/hw1.ipynb#ch0000082?line=8'>9</a>\u001b[0m     \u001b[39mraise\u001b[39;00m \u001b[39mValueError\u001b[39;00m(\u001b[39mf\u001b[39m\u001b[39m\"\u001b[39m\u001b[39m{\u001b[39;00mgain_scheme\u001b[39m}\u001b[39;00m\u001b[39m method not supported, only exp2 and const.\u001b[39m\u001b[39m\"\u001b[39m)\n",
      "\u001b[0;31mIndexError\u001b[0m: invalid index to scalar variable."
     ]
    }
   ],
   "source": [
    "dcg(ys_true, ys_pred, 'exp2', k=3)"
   ]
  },
  {
   "cell_type": "code",
   "execution_count": 557,
   "metadata": {},
   "outputs": [
    {
     "data": {
      "text/plain": [
       "4.107184650827857"
      ]
     },
     "execution_count": 557,
     "metadata": {},
     "output_type": "execute_result"
    }
   ],
   "source": [
    "dcg(ys_true, ys_pred, 'const', k=3)"
   ]
  },
  {
   "cell_type": "code",
   "execution_count": 558,
   "metadata": {},
   "outputs": [
    {
     "data": {
      "text/plain": [
       "2.1309297535714578"
      ]
     },
     "execution_count": 558,
     "metadata": {},
     "output_type": "execute_result"
    }
   ],
   "source": [
    "k = 3\n",
    "(1 / np.log2(np.arange(1, k + 1) + 1)).sum()"
   ]
  },
  {
   "cell_type": "code",
   "execution_count": 528,
   "metadata": {},
   "outputs": [
    {
     "data": {
      "text/plain": [
       "2.1309297535714578"
      ]
     },
     "execution_count": 528,
     "metadata": {},
     "output_type": "execute_result"
    }
   ],
   "source": [
    "# ideal dcg ?\n",
    "dcg(np.array([1, 1, 1]), np.array([1, 1, 1]), k=3)"
   ]
  },
  {
   "cell_type": "code",
   "execution_count": null,
   "metadata": {},
   "outputs": [],
   "source": [
    "def ndcg(ys_true, ys_pred, gain_scheme: str = 'const', k=3) -> float:\n",
    "    \"\"\" Normalized Discounted Cumulative Gain at K \"\"\"\n",
    "    pred_dcg = dcg(ys_true, ys_pred, gain_scheme)\n",
    "    ideal_dcg = 1 / np.log2(range(k) + 1)\n",
    "\n",
    "    return pred_dcg / ideal_dcg"
   ]
  },
  {
   "cell_type": "code",
   "execution_count": 414,
   "metadata": {},
   "outputs": [],
   "source": [
    "# def ndcg(ys_true: torch.Tensor, ys_pred: torch.Tensor, gain_scheme: str = 'const') -> float:\n",
    "#     pred_dcg = dcg(ys_true, ys_pred, gain_scheme)\n",
    "#     # your code ideal_dcg = \n",
    "    \n",
    "#     ndcg = pred_dcg / ideal_dcg\n",
    "#     return ndcg"
   ]
  },
  {
   "cell_type": "code",
   "execution_count": null,
   "metadata": {},
   "outputs": [],
   "source": []
  }
 ],
 "metadata": {
  "interpreter": {
   "hash": "40d999a3f5d20664f74b9ce50066441fa615ebe9eef995a653e46af4291d58b2"
  },
  "kernelspec": {
   "display_name": "Python 3.9.5 ('venv': venv)",
   "language": "python",
   "name": "python3"
  },
  "language_info": {
   "codemirror_mode": {
    "name": "ipython",
    "version": 3
   },
   "file_extension": ".py",
   "mimetype": "text/x-python",
   "name": "python",
   "nbconvert_exporter": "python",
   "pygments_lexer": "ipython3",
   "version": "3.9.5"
  },
  "orig_nbformat": 4
 },
 "nbformat": 4,
 "nbformat_minor": 2
}
