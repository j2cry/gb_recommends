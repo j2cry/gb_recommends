{
 "cells": [
  {
   "cell_type": "markdown",
   "metadata": {},
   "source": [
    "### init environment"
   ]
  },
  {
   "cell_type": "code",
   "execution_count": 595,
   "metadata": {},
   "outputs": [],
   "source": [
    "import torch\n",
    "import numpy as np\n",
    "from functools import partial"
   ]
  },
  {
   "cell_type": "code",
   "execution_count": 634,
   "metadata": {},
   "outputs": [],
   "source": [
    "# проверочные данные для заданий 1-4, 6\n",
    "recommended_list = [143, 156, 1134, 991, 27, 1543, 3345, 533, 11, 43]       # id рекомендованных товаров\n",
    "bought_list = [521, 32, 143, 991]                                           # id купленных товаров\n",
    "prices_recommended = [699, 419, 249, 390, 190, 1990, 269, 199, 3990, 299]  # цены рекомендованных товаров\n",
    "prices_bought = np.array(prices_recommended)[np.isin(recommended_list, bought_list)]     # цены купленных товаров"
   ]
  },
  {
   "cell_type": "markdown",
   "metadata": {
    "id": "IZ6mlwcSo1hn"
   },
   "source": [
    "### 1. hit rate at k"
   ]
  },
  {
   "cell_type": "code",
   "execution_count": 597,
   "metadata": {},
   "outputs": [],
   "source": [
    "def hit_rate(recommended_list, bought_list):\n",
    "    bought_list = np.array(bought_list)\n",
    "    recommended_list = np.array(recommended_list)\n",
    "    flags = np.isin(bought_list, recommended_list)\n",
    "    hit_rate = (flags.sum() > 0) * 1\n",
    "    return hit_rate\n",
    "\n",
    "\n",
    "def hit_rate_at_k(recommended_list, bought_list, k=5):\n",
    "    \"\"\" Hit rate@k = (был ли хотя бы 1 релевантный товар среди топ-k рекомендованных) \"\"\"\n",
    "    # с использованием numpy\n",
    "    flags = np.isin(bought_list, recommended_list[:k])\n",
    "    return (flags.sum() > 0) * 1\n",
    "\n",
    "    # без использования numpy\n",
    "    # return (len(set(bought_list) & set(recommended_list[:k])) > 0) * 1"
   ]
  },
  {
   "cell_type": "code",
   "execution_count": 598,
   "metadata": {},
   "outputs": [
    {
     "name": "stdout",
     "output_type": "stream",
     "text": [
      "Hit rate@k value (k=5): 1\n"
     ]
    }
   ],
   "source": [
    "# check\n",
    "val = hit_rate_at_k(recommended_list, bought_list, 5)\n",
    "print(f'Hit rate@k value (k=5): {val}')"
   ]
  },
  {
   "cell_type": "code",
   "execution_count": 599,
   "metadata": {},
   "outputs": [
    {
     "name": "stdout",
     "output_type": "stream",
     "text": [
      "Hit rate@k value (k=5): 1\n"
     ]
    }
   ],
   "source": [
    "# также можно в hit_rate() как recommended_list передавать нужный slice:\n",
    "val = hit_rate(recommended_list[:5], bought_list)\n",
    "print(f'Hit rate@k value (k=5): {val}')"
   ]
  },
  {
   "cell_type": "markdown",
   "metadata": {},
   "source": [
    "### money precision at k"
   ]
  },
  {
   "cell_type": "code",
   "execution_count": 600,
   "metadata": {},
   "outputs": [],
   "source": [
    "def money_precision_at_k(recommended_list, bought_list, prices_recommended, k=5):\n",
    "    \"\"\" Доля дохода по рекомендованным объектам\n",
    "    :param recommended_list - список id рекомендаций\n",
    "    :param bought_list - список id покупок\n",
    "    :param prices_recommended - список цен для рекомендаций\n",
    "    \"\"\"\n",
    "    flags = np.isin(recommended_list[:k], bought_list)\n",
    "    prices = np.array(prices_recommended[:k])\n",
    "    return flags @ prices / prices.sum()"
   ]
  },
  {
   "cell_type": "code",
   "execution_count": 601,
   "metadata": {},
   "outputs": [
    {
     "data": {
      "text/plain": [
       "0.559322033898305"
      ]
     },
     "execution_count": 601,
     "metadata": {},
     "output_type": "execute_result"
    }
   ],
   "source": [
    "# check\n",
    "money_precision_at_k(recommended_list, bought_list, prices_recommended, k=5)"
   ]
  },
  {
   "cell_type": "markdown",
   "metadata": {},
   "source": [
    "### recall at k"
   ]
  },
  {
   "cell_type": "code",
   "execution_count": 602,
   "metadata": {},
   "outputs": [],
   "source": [
    "def recall_at_k(recommended_list, bought_list, k=5):\n",
    "    \"\"\" Recall on top k items \"\"\"\n",
    "    flags = np.isin(bought_list, recommended_list[:k])\n",
    "    return flags.sum() / len(bought_list)"
   ]
  },
  {
   "cell_type": "code",
   "execution_count": 603,
   "metadata": {},
   "outputs": [
    {
     "data": {
      "text/plain": [
       "0.5"
      ]
     },
     "execution_count": 603,
     "metadata": {},
     "output_type": "execute_result"
    }
   ],
   "source": [
    "# check\n",
    "recall_at_k(recommended_list, bought_list, k=5)"
   ]
  },
  {
   "cell_type": "markdown",
   "metadata": {},
   "source": [
    "### money recall at k"
   ]
  },
  {
   "cell_type": "code",
   "execution_count": 604,
   "metadata": {},
   "outputs": [],
   "source": [
    "def money_recall_at_k(recommended_list, bought_list, prices_recommended, prices_bought, k=5):\n",
    "    \"\"\" Доля дохода по релевантным рекомендованным объектам\n",
    "    :param recommended_list - список id рекомендаций\n",
    "    :param bought_list - список id покупок\n",
    "    :param prices_recommended - список цен для рекомендаций\n",
    "    :param prices_bought - список цен покупок\n",
    "    \"\"\"\n",
    "    flags = np.isin(recommended_list[:k], bought_list)      # get recommend to bought matches\n",
    "    prices = np.array(prices_recommended[:k])               # get prices of recommended items\n",
    "    return flags @ prices / np.sum(bought_list)"
   ]
  },
  {
   "cell_type": "code",
   "execution_count": 605,
   "metadata": {},
   "outputs": [
    {
     "data": {
      "text/plain": [
       "0.6455245998814464"
      ]
     },
     "execution_count": 605,
     "metadata": {},
     "output_type": "execute_result"
    }
   ],
   "source": [
    "# check\n",
    "money_recall_at_k(recommended_list, bought_list, prices_recommended, prices_bought, k=5)"
   ]
  },
  {
   "cell_type": "markdown",
   "metadata": {},
   "source": [
    "### map at k"
   ]
  },
  {
   "cell_type": "code",
   "execution_count": 638,
   "metadata": {},
   "outputs": [],
   "source": [
    "def precision_at_k(recommended_list, bought_list, k=5):\n",
    "    flags = np.isin(bought_list, recommended_list[:k])\n",
    "    return flags.sum() / k\n",
    "\n",
    "def ap_k(recommended_list, bought_list, k=5):\n",
    "    # переработано\n",
    "    flags = np.isin(recommended_list, bought_list)\n",
    "    if sum(flags) == 0:\n",
    "        return 0\n",
    "\n",
    "    # sum_ = 0\n",
    "    # for i in range(0, k-1):\n",
    "    #     if flags[i]:\n",
    "    #         sum_ += precision_at_k(recommended_list, bought_list, k=i+1)\n",
    "    # result = sum_ / sum(flags)\n",
    "    # return result\n",
    "\n",
    "    func = partial(precision_at_k, recommended_list, bought_list)\n",
    "    rel_items = np.arange(1, k + 1)[flags[:k]]     # получаем номера релевантных объектов\n",
    "    return np.mean(list(map(func, rel_items)))        # считаем avg precision@k для этих объектов"
   ]
  },
  {
   "cell_type": "code",
   "execution_count": 639,
   "metadata": {},
   "outputs": [],
   "source": [
    "# данные для проверки\n",
    "recommended_lists = [[143, 156, 1134, 991, 27, 1543, 3345, 533, 11, 43],\n",
    "                    [146, 156, 1134, 991, 27, 1543, 3345, 533, 11, 43],] #id товаров\n",
    "bought_lists = [[521, 32, 143, 991], [146, 29]]"
   ]
  },
  {
   "cell_type": "code",
   "execution_count": 640,
   "metadata": {},
   "outputs": [],
   "source": [
    "# v1\n",
    "def map_k(recommended_list, bought_list, k=5, u=1):\n",
    "    \"\"\" Среднее AP@k по u пользователям \"\"\"\n",
    "    apk = []\n",
    "    for user in range(u):\n",
    "        apk.append(ap_k(recommended_list[user], bought_list[user]))\n",
    "    \n",
    "    return np.mean(apk)"
   ]
  },
  {
   "cell_type": "code",
   "execution_count": 642,
   "metadata": {},
   "outputs": [],
   "source": [
    "# v2\n",
    "def map_k(recommended_list, bought_list, k=5, u=1):\n",
    "    \"\"\" Среднее AP@k по u пользователям \"\"\"\n",
    "    func = partial(ap_k, k=k)\n",
    "    apk = list(map(func, recommended_list[:u], bought_list[:u]))\n",
    "    return np.mean(apk)"
   ]
  },
  {
   "cell_type": "code",
   "execution_count": 697,
   "metadata": {},
   "outputs": [
    {
     "data": {
      "text/plain": [
       "0.875"
      ]
     },
     "execution_count": 697,
     "metadata": {},
     "output_type": "execute_result"
    }
   ],
   "source": [
    "#check\n",
    "map_k(recommended_lists, bought_lists, u=2)"
   ]
  },
  {
   "cell_type": "markdown",
   "metadata": {},
   "source": [
    "### mean reciprocal rank"
   ]
  },
  {
   "cell_type": "markdown",
   "metadata": {},
   "source": [
    "Mean Reciprocal Rank\n",
    "\n",
    "- Считаем для первых k рекоммендаций\n",
    "- Найти ранк первого релевантного предсказания $k_u$\n",
    "- Посчитать reciprocal rank = $\\frac{1}{k_u}$\n",
    "\n",
    "$$MRR = mean(\\frac{1}{k_u})$$"
   ]
  },
  {
   "cell_type": "code",
   "execution_count": 790,
   "metadata": {},
   "outputs": [],
   "source": [
    "def reciprocal_rank(recommended_list, bought_list, k=5):\n",
    "    \"\"\" обратный ранг\n",
    "    :param recommended_list - список рекомендаций\n",
    "    :param bought_list - список покупок\n",
    "    \"\"\"\n",
    "    flags = np.isin(recommended_list[:k], bought_list)\n",
    "    rank = flags.argmax() + 1\n",
    "    return 1 / rank if flags.any() else 0"
   ]
  },
  {
   "cell_type": "code",
   "execution_count": 791,
   "metadata": {},
   "outputs": [],
   "source": [
    "def mean_reciprocal_rank(recommended_list, bought_list, k=5):\n",
    "    \"\"\" Среднеобратный ранг \"\"\"\n",
    "    ranks = []\n",
    "    for data in zip(recommended_list, bought_list):\n",
    "        ranks.append(reciprocal_rank(*data, k))\n",
    "    return np.mean(ranks)"
   ]
  },
  {
   "cell_type": "code",
   "execution_count": 802,
   "metadata": {},
   "outputs": [
    {
     "data": {
      "text/plain": [
       "1.0"
      ]
     },
     "execution_count": 802,
     "metadata": {},
     "output_type": "execute_result"
    }
   ],
   "source": [
    "mean_reciprocal_rank(recommended_lists, bought_lists, k=5)"
   ]
  },
  {
   "cell_type": "code",
   "execution_count": 803,
   "metadata": {},
   "outputs": [
    {
     "data": {
      "text/plain": [
       "0.25"
      ]
     },
     "execution_count": 803,
     "metadata": {},
     "output_type": "execute_result"
    }
   ],
   "source": [
    "mean_reciprocal_rank([[1, 2, 3, 4, 5]] * 2, [[2, 3], [7, 5]], k=4)"
   ]
  },
  {
   "cell_type": "markdown",
   "metadata": {},
   "source": [
    "### NDCG@k"
   ]
  },
  {
   "cell_type": "markdown",
   "metadata": {},
   "source": [
    "Normalized discounted cumulative gain\n",
    "\n",
    "$$DCG = \\frac{1}{|r|} \\sum_u{\\frac{[bought fact]}{discount(i)}}$$  \n",
    "\n",
    "$discount(i) = 1$ if $i <= 2$,   \n",
    "$discount(i) = log_2(i)$ if $i > 2$\n",
    "\n",
    "\n",
    "(!) Считаем для первых k рекоммендаций   \n",
    "(!) - существуют вариации с другими $discount(i)$  \n",
    "i - ранк рекомендованного товара  \n",
    "|r| - кол-во рекомендованных товаров \n",
    "\n",
    "$$NDCG = \\frac{DCG}{ideal DCG}$$"
   ]
  },
  {
   "cell_type": "code",
   "execution_count": null,
   "metadata": {},
   "outputs": [],
   "source": [
    "N = 5\n",
    "ys_true = torch.randint(0, 5, (N, ))\n",
    "ys_pred = torch.rand(N)"
   ]
  },
  {
   "cell_type": "code",
   "execution_count": null,
   "metadata": {},
   "outputs": [],
   "source": [
    "def compute_gain(y_value: float, gain_scheme: str) -> float:\n",
    "    if gain_scheme == \"exp2\":\n",
    "        gain = 2 ** y_value - 1\n",
    "    elif gain_scheme == \"const\":\n",
    "        gain = y_value\n",
    "    else:\n",
    "        raise ValueError(f\"{gain_scheme} method not supported, only exp2 and const.\")\n",
    "    return float(gain)"
   ]
  },
  {
   "cell_type": "code",
   "execution_count": null,
   "metadata": {},
   "outputs": [],
   "source": [
    "def dcg(ys_true: torch.Tensor, ys_pred: torch.Tensor, gain_scheme: str) -> float:\n",
    "    _, argsort = torch.sort(ys_pred, descending=True, dim=0)\n",
    "    ys_true_sorted = ys_true[argsort]\n",
    "    ret = 0\n",
    "    for idx, cur_y in enumerate(ys_true_sorted, 1):\n",
    "        gain = compute_gain(cur_y, gain_scheme)\n",
    "        # your code\n",
    "    return ret"
   ]
  },
  {
   "cell_type": "code",
   "execution_count": null,
   "metadata": {},
   "outputs": [],
   "source": [
    "_, argsort = torch.sort(ys_pred, descending=True, dim=0)"
   ]
  },
  {
   "cell_type": "code",
   "execution_count": null,
   "metadata": {},
   "outputs": [],
   "source": [
    "ys_true_sorted = ys_true[argsort]"
   ]
  },
  {
   "cell_type": "code",
   "execution_count": null,
   "metadata": {},
   "outputs": [],
   "source": [
    "for idx, cur_y in enumerate(ys_true_sorted, 1):\n",
    "    print(idx, cur_y)"
   ]
  },
  {
   "cell_type": "code",
   "execution_count": null,
   "metadata": {},
   "outputs": [],
   "source": [
    "def ndcg(ys_true: torch.Tensor, ys_pred: torch.Tensor, gain_scheme: str = 'const') -> float:\n",
    "    pred_dcg = dcg(ys_true, ys_pred, gain_scheme)\n",
    "    # your code ideal_dcg = \n",
    "    \n",
    "    ndcg = pred_dcg / ideal_dcg\n",
    "    return ndcg"
   ]
  },
  {
   "cell_type": "code",
   "execution_count": null,
   "metadata": {},
   "outputs": [],
   "source": []
  }
 ],
 "metadata": {
  "interpreter": {
   "hash": "40d999a3f5d20664f74b9ce50066441fa615ebe9eef995a653e46af4291d58b2"
  },
  "kernelspec": {
   "display_name": "Python 3.9.5 ('venv': venv)",
   "language": "python",
   "name": "python3"
  },
  "language_info": {
   "codemirror_mode": {
    "name": "ipython",
    "version": 3
   },
   "file_extension": ".py",
   "mimetype": "text/x-python",
   "name": "python",
   "nbconvert_exporter": "python",
   "pygments_lexer": "ipython3",
   "version": "3.9.5"
  },
  "orig_nbformat": 4
 },
 "nbformat": 4,
 "nbformat_minor": 2
}
