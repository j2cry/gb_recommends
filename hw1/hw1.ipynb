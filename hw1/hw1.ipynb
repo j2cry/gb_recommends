{
 "cells": [
  {
   "cell_type": "markdown",
   "metadata": {},
   "source": [
    "### init environment"
   ]
  },
  {
   "cell_type": "code",
   "execution_count": 219,
   "metadata": {},
   "outputs": [],
   "source": [
    "# import torch\n",
    "import numpy as np\n",
    "from functools import partial"
   ]
  },
  {
   "cell_type": "code",
   "execution_count": 339,
   "metadata": {},
   "outputs": [],
   "source": [
    "good_count = 20        # общее кол-во товаров\n",
    "user_count = 100         # кол-во пользователей для которых генерим данные\n",
    "recommend_count = 10    # кол-во генерируемых рекомендаций для каждого пользователя\n",
    "price_range = (199, 2490)\n",
    "\n",
    "# генерируем проверочные данные для заданий\n",
    "rnd = np.random.default_rng(11)\n",
    "goods = np.arange(good_count) + 50      # список id существующих товаров\n",
    "prices = np.round(rnd.random(good_count) * (max(price_range) - min(price_range)) + min(price_range), 2)     # цены товаров\n",
    "\n",
    "recommends = []         # списки рекомендаций для пользователей\n",
    "rec_prices = []         # списки цен рекомендованных товаров\n",
    "boughts = []            # список покупок\n",
    "b_prices = []           # список цен покупок\n",
    "for _ in range(user_count):\n",
    "    indexes = rnd.choice(goods.size, size=recommend_count, replace=False)    # индексы рекомендаций\n",
    "    recommends.append(goods[indexes])\n",
    "    rec_prices.append(prices[indexes])\n",
    "\n",
    "    boughts_count = rnd.integers(good_count) + 1\n",
    "    indexes = rnd.choice(goods.size, size=boughts_count, replace=False)\n",
    "    boughts.append(goods[indexes])\n",
    "    b_prices.append(prices[indexes])"
   ]
  },
  {
   "cell_type": "code",
   "execution_count": 338,
   "metadata": {},
   "outputs": [
    {
     "data": {
      "text/plain": [
       "array([[19,  9, 17,  1, 14,  5,  5, 12, 12,  2],\n",
       "       [ 3,  4, 19,  3, 14,  1,  8,  4,  9, 19],\n",
       "       [ 7,  2, 17, 15, 12,  0,  2, 19,  1, 17],\n",
       "       [15,  3,  5, 12,  8, 17, 12,  6,  5,  7],\n",
       "       [15,  9, 14,  7,  1,  1, 11, 18, 18,  7],\n",
       "       [13, 10,  4, 11,  5, 19, 17, 18, 15, 16],\n",
       "       [ 5,  6, 10, 13,  6, 17, 16, 15,  1,  8],\n",
       "       [ 0,  8, 19,  8,  4, 12,  4,  3, 16,  9],\n",
       "       [17, 13, 11, 10,  3,  4,  4,  7,  3, 10],\n",
       "       [ 0,  3,  0,  6,  8,  9, 11,  5,  2,  4],\n",
       "       [ 0,  1,  3, 19,  2,  7,  1, 13,  5, 14],\n",
       "       [ 5, 11,  2,  0,  2,  7,  0,  0,  9, 15],\n",
       "       [ 1, 16, 12, 16, 18,  4,  4,  5,  4,  1],\n",
       "       [14, 11, 10, 17,  1, 14, 18, 11,  0,  1],\n",
       "       [11, 12,  4,  2, 15, 16,  2, 18, 10, 17],\n",
       "       [ 9,  8,  8, 14,  9,  7,  8,  6,  5, 17],\n",
       "       [ 9,  0,  2, 11,  2,  2, 11,  8,  9, 19],\n",
       "       [11,  0, 10, 10, 12,  1,  5, 10, 19, 12],\n",
       "       [ 5, 16,  5,  3,  5, 18,  0, 15, 19, 15],\n",
       "       [16,  4, 19,  1,  9,  9, 16, 17, 15,  4],\n",
       "       [ 4,  4, 10,  9,  1, 10, 16,  8,  7,  1],\n",
       "       [16,  1, 12,  6, 11,  4,  5,  8, 15,  0],\n",
       "       [ 4, 11,  2,  6,  6,  9, 13,  7, 14,  5],\n",
       "       [ 1,  0, 18,  9,  4, 19, 17,  2, 11, 18],\n",
       "       [19, 18,  1, 16, 11, 17,  9, 16,  3, 10],\n",
       "       [14,  7,  9, 11, 17,  0, 16, 19,  4,  4],\n",
       "       [ 6, 15,  5, 13, 14, 11, 16,  4, 15, 16],\n",
       "       [ 0, 14, 12,  1,  0,  6, 19,  9, 17, 19],\n",
       "       [ 7,  0,  6,  5,  2,  7, 10,  4, 12, 16],\n",
       "       [14, 10,  2, 10, 10, 12, 14, 10, 16,  7],\n",
       "       [ 0, 15,  9,  2,  6, 14, 10,  5, 10, 13],\n",
       "       [ 7, 12, 19,  2, 12,  7,  6,  8, 18, 16],\n",
       "       [ 6,  5, 15,  1, 14, 15,  2, 18,  6,  6],\n",
       "       [ 4, 11, 19,  1,  8, 10, 17,  9, 12, 12],\n",
       "       [15,  3,  4,  7,  7, 14, 16,  7, 14, 10],\n",
       "       [18,  9, 15,  2, 13, 19, 13,  8,  5,  8],\n",
       "       [ 2, 19, 11, 18, 11, 11, 17,  0,  5,  2],\n",
       "       [ 4, 13, 18,  2,  9,  1,  9, 19, 12, 14],\n",
       "       [ 0, 17,  3, 10, 18,  1,  2, 18, 18, 19],\n",
       "       [18,  7,  1,  6, 10, 12,  6, 13, 13, 19],\n",
       "       [18, 14,  6,  2,  2, 18, 18,  5, 15, 18],\n",
       "       [ 7,  1, 17,  5, 10, 19,  2, 11,  7, 13],\n",
       "       [14,  2,  6, 17, 12, 14,  3,  4, 15, 18],\n",
       "       [ 4,  1,  6,  4, 15,  7,  3, 12,  9,  3],\n",
       "       [16,  0, 12,  3,  1, 13,  2,  3, 15, 10],\n",
       "       [ 1,  8,  3,  9,  1, 19,  3,  7, 12, 17],\n",
       "       [ 6, 10,  0,  2, 13, 10, 11,  9, 10,  6],\n",
       "       [12,  0, 12, 17,  3, 19,  0, 18,  7,  2],\n",
       "       [ 0, 17,  8, 15, 16,  9,  2, 12, 13,  5],\n",
       "       [12, 14, 16,  6, 10,  7, 13,  5, 15,  2],\n",
       "       [12, 15,  4, 11, 18, 18,  9, 15,  4, 18],\n",
       "       [16,  5, 12,  5,  7,  3, 14,  6,  9, 17],\n",
       "       [13, 17, 17,  6,  0, 17, 15,  2, 18, 16],\n",
       "       [16, 14, 19, 13,  8, 12,  4,  7,  7, 12],\n",
       "       [ 0,  2, 13, 12,  2,  2, 17,  7, 19,  8],\n",
       "       [ 8, 14, 14,  5,  5, 16, 19, 16, 18, 16],\n",
       "       [13,  6, 10,  9,  0,  2, 19,  1,  0, 19],\n",
       "       [18, 18,  9,  5, 19, 13,  7,  1,  6, 15],\n",
       "       [12,  9, 14,  1, 11,  4,  0,  9,  3, 12],\n",
       "       [ 8, 15,  6,  0, 12, 17, 19, 15, 12,  3],\n",
       "       [11,  4,  1,  0,  5, 10, 16, 12, 16,  2],\n",
       "       [ 3, 12, 13, 17, 17,  1, 18, 18,  9, 10],\n",
       "       [ 7,  1,  1,  3,  5,  9,  1,  7, 10,  2],\n",
       "       [ 4, 16, 17, 19,  3,  0,  1, 14, 18,  6],\n",
       "       [12,  2, 12, 13, 13,  2,  1,  5,  1, 18],\n",
       "       [ 6, 15,  8,  8, 10,  4, 14,  4, 11,  2],\n",
       "       [ 9, 14, 15,  3, 11,  2,  1, 19, 10,  9],\n",
       "       [ 7,  8,  7, 19,  4, 19, 14, 19,  4, 19],\n",
       "       [ 2, 19, 13, 19, 16, 11, 18,  2,  4,  1],\n",
       "       [ 0, 18, 10, 12, 19, 15,  4, 10,  7, 13],\n",
       "       [17,  4, 13,  6, 12, 13, 14, 17,  3,  4],\n",
       "       [ 9, 19,  4, 17, 12, 15, 12, 19, 10,  5],\n",
       "       [15, 17,  3, 13,  9, 10,  0, 15,  4,  6],\n",
       "       [ 1,  8,  5,  7, 18,  0, 18,  8,  5, 14],\n",
       "       [11,  3,  5,  7,  4, 14,  9,  1, 18,  0],\n",
       "       [18, 15, 17, 13, 18, 18, 17,  4,  3,  4],\n",
       "       [ 0,  4,  6,  7,  1, 16,  4,  2,  3, 10],\n",
       "       [10,  7, 18,  9, 13,  1, 13, 19,  9,  9],\n",
       "       [17,  2, 13, 13, 19, 13,  1,  2,  6,  9],\n",
       "       [12,  0,  6,  5,  7, 11,  7,  7, 16,  1],\n",
       "       [ 4, 12, 14, 12,  4,  5, 12, 18, 11, 11],\n",
       "       [ 3,  3, 12,  3,  3, 10, 11,  2, 13, 12],\n",
       "       [ 5,  2,  4,  6,  5, 10,  0,  1, 11,  2],\n",
       "       [12, 11, 18,  0,  1, 18,  6,  3, 19, 18],\n",
       "       [10, 12,  9,  0,  8,  3, 10,  9, 15, 17],\n",
       "       [ 1, 14,  9,  0,  1, 15,  2, 14,  7, 16],\n",
       "       [ 3,  0,  4, 17,  8,  0, 17, 13, 18,  2],\n",
       "       [ 9,  1,  4,  2, 10, 10,  6,  2, 16,  7],\n",
       "       [19, 18,  0, 11,  0, 17, 14,  7, 19,  0],\n",
       "       [ 5, 17, 12, 13,  0,  6, 14, 13,  9,  3],\n",
       "       [19,  9, 18, 10,  2, 17,  4, 11, 12,  4],\n",
       "       [ 2,  9, 12, 14, 15, 12, 10, 19,  8,  1],\n",
       "       [19, 18, 17,  3, 14, 19, 12, 14,  3,  5],\n",
       "       [ 4, 11, 12,  0, 14, 15,  6,  6, 10,  8],\n",
       "       [ 6,  2, 17, 15,  9, 14,  5,  1, 16, 18],\n",
       "       [ 8, 14, 14,  9,  4,  0, 11,  0,  7, 17],\n",
       "       [ 3, 10, 13, 14, 15,  5, 12,  7,  9, 16],\n",
       "       [14, 16,  2,  8,  0,  2,  4,  5, 14,  4],\n",
       "       [10, 18,  6,  7, 13, 18,  6, 11,  6, 15],\n",
       "       [15, 18, 19,  0, 19,  0,  5,  2, 11,  9]])"
      ]
     },
     "execution_count": 338,
     "metadata": {},
     "output_type": "execute_result"
    }
   ],
   "source": [
    "rnd.choice(goods.size, size=(user_count, recommend_count), replace=(True, False), axis=0)"
   ]
  },
  {
   "cell_type": "markdown",
   "metadata": {
    "id": "IZ6mlwcSo1hn"
   },
   "source": [
    "### 1. hit rate at k"
   ]
  },
  {
   "cell_type": "code",
   "execution_count": 222,
   "metadata": {},
   "outputs": [],
   "source": [
    "def hit_rate(recommended_list, bought_list):\n",
    "    bought_list = np.array(bought_list)\n",
    "    recommended_list = np.array(recommended_list)\n",
    "    flags = np.isin(bought_list, recommended_list)\n",
    "    hit_rate = (flags.sum() > 0) * 1\n",
    "    return hit_rate\n",
    "\n",
    "\n",
    "def hit_rate_at_k(recommended_list, bought_list, k=5):\n",
    "    \"\"\" Hit rate@k = (был ли хотя бы 1 релевантный товар среди топ-k рекомендованных) \"\"\"\n",
    "    # с использованием numpy\n",
    "    flags = np.isin(bought_list, recommended_list[:k])\n",
    "    return (flags.sum() > 0) * 1\n",
    "\n",
    "    # без использования numpy\n",
    "    # return (len(set(bought_list) & set(recommended_list[:k])) > 0) * 1"
   ]
  },
  {
   "cell_type": "code",
   "execution_count": 340,
   "metadata": {},
   "outputs": [
    {
     "name": "stdout",
     "output_type": "stream",
     "text": [
      "Hit rate@k value (k=5): 1\n"
     ]
    }
   ],
   "source": [
    "# check\n",
    "user = 0\n",
    "val = hit_rate_at_k(recommends[user], boughts[user], 5)\n",
    "print(f'Hit rate@k value (k=5): {val}')"
   ]
  },
  {
   "cell_type": "code",
   "execution_count": 224,
   "metadata": {},
   "outputs": [
    {
     "name": "stdout",
     "output_type": "stream",
     "text": [
      "Hit rate@k value (k=5): 1\n"
     ]
    }
   ],
   "source": [
    "# также можно в hit_rate() как recommended_list передавать нужный slice:\n",
    "user = 0\n",
    "val = hit_rate(recommends[user][:5], boughts[user])\n",
    "print(f'Hit rate@k value (k=5): {val}')"
   ]
  },
  {
   "cell_type": "markdown",
   "metadata": {},
   "source": [
    "### money precision at k"
   ]
  },
  {
   "cell_type": "code",
   "execution_count": 225,
   "metadata": {},
   "outputs": [],
   "source": [
    "def money_precision_at_k(recommended_list, bought_list, prices_recommended, k=5):\n",
    "    \"\"\" Доля дохода по рекомендованным объектам\n",
    "    :param recommended_list - список id рекомендаций\n",
    "    :param bought_list - список id покупок\n",
    "    :param prices_recommended - список цен для рекомендаций\n",
    "    \"\"\"\n",
    "    flags = np.isin(recommended_list[:k], bought_list)\n",
    "    prices = np.array(prices_recommended[:k])\n",
    "    return flags @ prices / prices.sum()"
   ]
  },
  {
   "cell_type": "code",
   "execution_count": 348,
   "metadata": {},
   "outputs": [
    {
     "data": {
      "text/plain": [
       "0.6854211885678256"
      ]
     },
     "execution_count": 348,
     "metadata": {},
     "output_type": "execute_result"
    }
   ],
   "source": [
    "# check\n",
    "user = 10\n",
    "money_precision_at_k(recommends[user], boughts[user], rec_prices[user], k=5)"
   ]
  },
  {
   "cell_type": "code",
   "execution_count": 349,
   "metadata": {},
   "outputs": [
    {
     "data": {
      "text/plain": [
       "(array([53, 58, 67, 68, 51, 62, 63, 61, 57, 59]),\n",
       " array([58, 66, 63, 50, 57, 51, 61, 55, 56, 67, 59, 62, 52, 64, 65, 54, 60]),\n",
       " array([ 264.73, 2371.62, 1372.87, 2070.14, 1342.85, 1717.57,  829.73,\n",
       "        1370.59,  496.31, 1623.74]))"
      ]
     },
     "execution_count": 349,
     "metadata": {},
     "output_type": "execute_result"
    }
   ],
   "source": [
    "recommends[user], boughts[user], rec_prices[user]"
   ]
  },
  {
   "cell_type": "markdown",
   "metadata": {},
   "source": [
    "### recall at k"
   ]
  },
  {
   "cell_type": "code",
   "execution_count": 227,
   "metadata": {},
   "outputs": [],
   "source": [
    "def recall_at_k(recommended_list, bought_list, k=5):\n",
    "    \"\"\" Recall on top k items \"\"\"\n",
    "    flags = np.isin(bought_list, recommended_list[:k])\n",
    "    return flags.sum() / len(bought_list)"
   ]
  },
  {
   "cell_type": "code",
   "execution_count": 347,
   "metadata": {},
   "outputs": [
    {
     "data": {
      "text/plain": [
       "0.17647058823529413"
      ]
     },
     "execution_count": 347,
     "metadata": {},
     "output_type": "execute_result"
    }
   ],
   "source": [
    "# check\n",
    "user = 10\n",
    "recall_at_k(recommends[user], boughts[user], k=5)"
   ]
  },
  {
   "cell_type": "markdown",
   "metadata": {},
   "source": [
    "### money recall at k"
   ]
  },
  {
   "cell_type": "code",
   "execution_count": 229,
   "metadata": {},
   "outputs": [],
   "source": [
    "def money_recall_at_k(recommended_list, bought_list, prices_recommended, prices_bought, k=5):\n",
    "    \"\"\" Доля дохода по релевантным рекомендованным объектам\n",
    "    :param recommended_list - список id рекомендаций\n",
    "    :param bought_list - список id покупок\n",
    "    :param prices_recommended - список цен для рекомендаций\n",
    "    :param prices_bought - список цен покупок\n",
    "    \"\"\"\n",
    "    flags = np.isin(recommended_list[:k], bought_list)      # get recommend to bought matches\n",
    "    prices = np.array(prices_recommended[:k])               # get prices of recommended items\n",
    "    return flags @ prices / np.sum(prices_bought)"
   ]
  },
  {
   "cell_type": "code",
   "execution_count": 350,
   "metadata": {},
   "outputs": [
    {
     "data": {
      "text/plain": [
       "0.23424252219100425"
      ]
     },
     "execution_count": 350,
     "metadata": {},
     "output_type": "execute_result"
    }
   ],
   "source": [
    "# check\n",
    "user = 10\n",
    "money_recall_at_k(recommends[user], boughts[user], rec_prices[user], b_prices[user], k=5)"
   ]
  },
  {
   "cell_type": "markdown",
   "metadata": {},
   "source": [
    "### map at k"
   ]
  },
  {
   "cell_type": "code",
   "execution_count": 231,
   "metadata": {},
   "outputs": [],
   "source": [
    "def precision_at_k(recommended_list, bought_list, k=5):\n",
    "    flags = np.isin(bought_list, recommended_list[:k])\n",
    "    return flags.sum() / k\n",
    "\n",
    "def ap_k(recommended_list, bought_list, k=5):\n",
    "    # переработано\n",
    "    flags = np.isin(recommended_list, bought_list)\n",
    "    if sum(flags) == 0:\n",
    "        return 0\n",
    "\n",
    "    sum_ = 0\n",
    "    for i in range(0, k-1):\n",
    "        if flags[i]:\n",
    "            sum_ += precision_at_k(recommended_list, bought_list, k=i+1)\n",
    "    result = sum_ / sum(flags)\n",
    "    return result\n",
    "\n",
    "    # func = partial(precision_at_k, recommended_list, bought_list)\n",
    "    # rel_items = np.arange(1, k + 1)[flags[:k]]                  # получаем номера релевантных объектов\n",
    "    # return np.sum(list(map(func, rel_items))) / flags.sum()     # считаем avg precision@k для этих объектов"
   ]
  },
  {
   "cell_type": "code",
   "execution_count": 233,
   "metadata": {},
   "outputs": [],
   "source": [
    "# v1\n",
    "def map_k_v1(recommended_list, bought_list, k=5, u=1):\n",
    "    \"\"\" Среднее AP@k по u пользователям \"\"\"\n",
    "    apk = []\n",
    "    for user in range(u):\n",
    "        apk.append(ap_k(recommended_list[user], bought_list[user]))\n",
    "    \n",
    "    return np.mean(apk)"
   ]
  },
  {
   "cell_type": "code",
   "execution_count": 234,
   "metadata": {},
   "outputs": [],
   "source": [
    "# v2\n",
    "def map_k_v2(recommended_list, bought_list, k=5, u=1):\n",
    "    \"\"\" Среднее AP@k по u пользователям \"\"\"\n",
    "    func = partial(ap_k, k=k)\n",
    "    apk = list(map(func, recommended_list[:u], bought_list[:u]))\n",
    "    return np.mean(apk)"
   ]
  },
  {
   "cell_type": "code",
   "execution_count": 352,
   "metadata": {},
   "outputs": [
    {
     "name": "stdout",
     "output_type": "stream",
     "text": [
      "CPU times: user 26.9 ms, sys: 0 ns, total: 26.9 ms\n",
      "Wall time: 42.1 ms\n"
     ]
    },
    {
     "data": {
      "text/plain": [
       "0.29224801587301585"
      ]
     },
     "execution_count": 352,
     "metadata": {},
     "output_type": "execute_result"
    }
   ],
   "source": [
    "%%time\n",
    "# check\n",
    "map_k_v1(recommends, boughts, u=50)"
   ]
  },
  {
   "cell_type": "code",
   "execution_count": 353,
   "metadata": {},
   "outputs": [
    {
     "name": "stdout",
     "output_type": "stream",
     "text": [
      "CPU times: user 23.7 ms, sys: 2.61 ms, total: 26.3 ms\n",
      "Wall time: 102 ms\n"
     ]
    },
    {
     "data": {
      "text/plain": [
       "0.29224801587301585"
      ]
     },
     "execution_count": 353,
     "metadata": {},
     "output_type": "execute_result"
    }
   ],
   "source": [
    "%%time\n",
    "# check\n",
    "map_k_v2(recommends, boughts, u=50)"
   ]
  },
  {
   "cell_type": "markdown",
   "metadata": {},
   "source": [
    "### mean reciprocal rank"
   ]
  },
  {
   "cell_type": "markdown",
   "metadata": {},
   "source": [
    "Mean Reciprocal Rank\n",
    "\n",
    "- Считаем для первых k рекоммендаций\n",
    "- Найти ранк первого релевантного предсказания $k_u$\n",
    "- Посчитать reciprocal rank = $\\frac{1}{k_u}$\n",
    "\n",
    "$$MRR = mean(\\frac{1}{k_u})$$"
   ]
  },
  {
   "cell_type": "code",
   "execution_count": 354,
   "metadata": {},
   "outputs": [],
   "source": [
    "def reciprocal_rank(recommended_list, bought_list, n=1, k=5):    \n",
    "    \"\"\" обратный ранг n релевантных рекомендаций среди первых k рекомендаций\n",
    "    (при n=1 оно как раз должно работать как сказано в задании)\n",
    "    :param recommended_list - список рекомендаций\n",
    "    :param bought_list - список покупок\n",
    "    :param n - учитывать первые n релевантных рекомендаций\n",
    "    :param k - искать релевантные среди первых k рекомендаций\n",
    "    \"\"\"\n",
    "    flags = np.isin(recommended_list[:k], bought_list)\n",
    "    ranks = np.arange(1, k + 1)[flags][:n]      # ранги первых n рекомендаций из первых k. равен 0 если рекомендация нерелевантна\n",
    "    ideal_ranks = np.arange(1, n + 1)\n",
    "    return (1 / ranks).sum() / (1 / ideal_ranks).sum() if flags.any() else 0"
   ]
  },
  {
   "cell_type": "code",
   "execution_count": 355,
   "metadata": {},
   "outputs": [
    {
     "data": {
      "text/plain": [
       "0.4525547445255474"
      ]
     },
     "execution_count": 355,
     "metadata": {},
     "output_type": "execute_result"
    }
   ],
   "source": [
    "# check\n",
    "user = 10\n",
    "reciprocal_rank(recommends[user], boughts[user], n=5)"
   ]
  },
  {
   "cell_type": "code",
   "execution_count": 356,
   "metadata": {},
   "outputs": [
    {
     "data": {
      "text/plain": [
       "(array([53, 58, 67, 68, 51, 62, 63, 61, 57, 59]),\n",
       " array([58, 66, 63, 50, 57, 51, 61, 55, 56, 67, 59, 62, 52, 64, 65, 54, 60]))"
      ]
     },
     "execution_count": 356,
     "metadata": {},
     "output_type": "execute_result"
    }
   ],
   "source": [
    "recommends[user], boughts[user]"
   ]
  },
  {
   "cell_type": "code",
   "execution_count": 357,
   "metadata": {},
   "outputs": [],
   "source": [
    "def mean_reciprocal_rank(recommended_list, bought_list, k=5):\n",
    "    \"\"\" Среднеобратный ранг \"\"\"\n",
    "    ranks = []\n",
    "    for data in zip(recommended_list, bought_list):\n",
    "        ranks.append(reciprocal_rank(*data, k))\n",
    "    return np.mean(ranks)"
   ]
  },
  {
   "cell_type": "code",
   "execution_count": 359,
   "metadata": {},
   "outputs": [
    {
     "data": {
      "text/plain": [
       "0.549051094890511"
      ]
     },
     "execution_count": 359,
     "metadata": {},
     "output_type": "execute_result"
    }
   ],
   "source": [
    "# check\n",
    "mean_reciprocal_rank(recommends, boughts, k=5)"
   ]
  },
  {
   "cell_type": "markdown",
   "metadata": {},
   "source": [
    "### NDCG@k"
   ]
  },
  {
   "cell_type": "markdown",
   "metadata": {},
   "source": [
    "Normalized discounted cumulative gain\n",
    "\n",
    "$$DCG = \\frac{1}{|r|} \\sum_u{\\frac{[bought fact]}{discount(i)}}$$  \n",
    "\n",
    "$discount(i) = 1$ if $i <= 2$,   \n",
    "$discount(i) = log_2(i)$ if $i > 2$\n",
    "\n",
    "\n",
    "(!) Считаем для первых k рекоммендаций   \n",
    "(!) - существуют вариации с другими $discount(i)$  \n",
    "i - ранк рекомендованного товара  \n",
    "|r| - кол-во рекомендованных товаров \n",
    "\n",
    "$$NDCG = \\frac{DCG}{ideal DCG}$$"
   ]
  },
  {
   "cell_type": "code",
   "execution_count": 365,
   "metadata": {},
   "outputs": [],
   "source": [
    "N = 5\n",
    "\n",
    "rnd = np.random.default_rng(77)\n",
    "# ys_true = torch.randint(0, 5, (N, ))\n",
    "# ys_pred = torch.rand(N)\n",
    "ys_true = rnd.integers(5, size=N)\n",
    "ys_pred = rnd.random(size=N)\n"
   ]
  },
  {
   "cell_type": "code",
   "execution_count": 366,
   "metadata": {},
   "outputs": [
    {
     "data": {
      "text/plain": [
       "(array([0, 3, 3, 2, 3]),\n",
       " array([0.33445321, 0.3186902 , 0.39015401, 0.80130068, 0.09080164]))"
      ]
     },
     "execution_count": 366,
     "metadata": {},
     "output_type": "execute_result"
    }
   ],
   "source": [
    "ys_true, ys_pred"
   ]
  },
  {
   "cell_type": "code",
   "execution_count": 367,
   "metadata": {},
   "outputs": [],
   "source": [
    "def compute_gain(y_value: float, gain_scheme: str) -> float:\n",
    "    if gain_scheme == \"exp2\":\n",
    "        gain = 2 ** y_value - 1\n",
    "    elif gain_scheme == \"const\":\n",
    "        gain = y_value\n",
    "    else:\n",
    "        raise ValueError(f\"{gain_scheme} method not supported, only exp2 and const.\")\n",
    "    return float(gain)"
   ]
  },
  {
   "cell_type": "code",
   "execution_count": 380,
   "metadata": {},
   "outputs": [],
   "source": [
    "def dcg(ys_true, ys_pred, gain_scheme: str = 'const') -> float:\n",
    "    argsort = np.argsort(ys_pred)[::-1]\n",
    "    ys_true_sorted = ys_true[argsort]\n",
    "    ret = 0\n",
    "    for idx, cur_y in enumerate(ys_true_sorted, 1):\n",
    "        gain = compute_gain(cur_y, gain_scheme)\n",
    "        # your code\n",
    "        \n",
    "    return ret"
   ]
  },
  {
   "cell_type": "code",
   "execution_count": 381,
   "metadata": {},
   "outputs": [
    {
     "data": {
      "text/plain": [
       "31.0"
      ]
     },
     "execution_count": 381,
     "metadata": {},
     "output_type": "execute_result"
    }
   ],
   "source": [
    "dcg(ys_true, ys_pred)"
   ]
  },
  {
   "cell_type": "code",
   "execution_count": 382,
   "metadata": {},
   "outputs": [],
   "source": [
    "# def dcg(ys_true: torch.Tensor, ys_pred: torch.Tensor, gain_scheme: str) -> float:\n",
    "#     _, argsort = torch.sort(ys_pred, descending=True, dim=0)\n",
    "#     ys_true_sorted = ys_true[argsort]\n",
    "#     ret = 0\n",
    "#     for idx, cur_y in enumerate(ys_true_sorted, 1):\n",
    "#         gain = compute_gain(cur_y, gain_scheme)\n",
    "#         # your code\n",
    "#     return ret"
   ]
  },
  {
   "cell_type": "code",
   "execution_count": null,
   "metadata": {},
   "outputs": [],
   "source": [
    "# _, argsort = torch.sort(ys_pred, descending=True, dim=0)"
   ]
  },
  {
   "cell_type": "code",
   "execution_count": null,
   "metadata": {},
   "outputs": [],
   "source": [
    "# ys_true_sorted = ys_true[argsort]"
   ]
  },
  {
   "cell_type": "code",
   "execution_count": null,
   "metadata": {},
   "outputs": [],
   "source": [
    "# for idx, cur_y in enumerate(ys_true_sorted, 1):\n",
    "#     print(idx, cur_y)"
   ]
  },
  {
   "cell_type": "code",
   "execution_count": null,
   "metadata": {},
   "outputs": [],
   "source": [
    "# def ndcg(ys_true: torch.Tensor, ys_pred: torch.Tensor, gain_scheme: str = 'const') -> float:\n",
    "#     pred_dcg = dcg(ys_true, ys_pred, gain_scheme)\n",
    "#     # your code ideal_dcg = \n",
    "    \n",
    "#     ndcg = pred_dcg / ideal_dcg\n",
    "#     return ndcg"
   ]
  },
  {
   "cell_type": "code",
   "execution_count": null,
   "metadata": {},
   "outputs": [],
   "source": []
  }
 ],
 "metadata": {
  "interpreter": {
   "hash": "40d999a3f5d20664f74b9ce50066441fa615ebe9eef995a653e46af4291d58b2"
  },
  "kernelspec": {
   "display_name": "Python 3.9.5 ('venv': venv)",
   "language": "python",
   "name": "python3"
  },
  "language_info": {
   "codemirror_mode": {
    "name": "ipython",
    "version": 3
   },
   "file_extension": ".py",
   "mimetype": "text/x-python",
   "name": "python",
   "nbconvert_exporter": "python",
   "pygments_lexer": "ipython3",
   "version": "3.9.5"
  },
  "orig_nbformat": 4
 },
 "nbformat": 4,
 "nbformat_minor": 2
}
