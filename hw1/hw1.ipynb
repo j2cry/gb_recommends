{
 "cells": [
  {
   "cell_type": "markdown",
   "metadata": {},
   "source": [
    "### init environment"
   ]
  },
  {
   "cell_type": "code",
   "execution_count": 6,
   "metadata": {},
   "outputs": [],
   "source": [
    "import torch\n",
    "import numpy as np\n",
    "from functools import partial"
   ]
  },
  {
   "cell_type": "code",
   "execution_count": 7,
   "metadata": {},
   "outputs": [],
   "source": [
    "good_count = 20        # общее кол-во товаров\n",
    "user_count = 100         # кол-во пользователей для которых генерим данные\n",
    "recommend_count = 10    # кол-во генерируемых рекомендаций для каждого пользователя\n",
    "price_range = (199, 2490)\n",
    "\n",
    "# генерируем проверочные данные для заданий\n",
    "rnd = np.random.default_rng(11)\n",
    "goods = np.arange(good_count) + 50      # список id существующих товаров\n",
    "prices = np.round(rnd.random(good_count) * (max(price_range) - min(price_range)) + min(price_range), 2)     # цены товаров\n",
    "\n",
    "recommends = []         # списки рекомендаций для пользователей\n",
    "rec_prices = []         # списки цен рекомендованных товаров\n",
    "boughts = []            # список покупок\n",
    "b_prices = []           # список цен покупок\n",
    "for _ in range(user_count):\n",
    "    indexes = rnd.choice(goods.size, size=recommend_count, replace=False)    # индексы рекомендаций\n",
    "    recommends.append(goods[indexes])\n",
    "    rec_prices.append(prices[indexes])\n",
    "\n",
    "    boughts_count = rnd.integers(good_count) + 1\n",
    "    indexes = rnd.choice(goods.size, size=boughts_count, replace=False)\n",
    "    boughts.append(goods[indexes])\n",
    "    b_prices.append(prices[indexes])"
   ]
  },
  {
   "cell_type": "markdown",
   "metadata": {
    "id": "IZ6mlwcSo1hn"
   },
   "source": [
    "### 1. hit rate at k"
   ]
  },
  {
   "cell_type": "code",
   "execution_count": 8,
   "metadata": {},
   "outputs": [],
   "source": [
    "def hit_rate(recommended_list, bought_list):\n",
    "    flags = np.isin(bought_list, recommended_list)\n",
    "    hit_rate = (flags.sum() > 0) * 1\n",
    "    return hit_rate\n",
    "\n",
    "\n",
    "def hit_rate_at_k(recommended_list, bought_list, k=5):\n",
    "    \"\"\" Hit rate@k = (был ли хотя бы 1 релевантный товар среди топ-k рекомендованных) \"\"\"\n",
    "    # с использованием numpy\n",
    "    flags = np.isin(recommended_list[:k], bought_list)\n",
    "    return (flags.sum() > 0) * 1\n",
    "\n",
    "    # без использования numpy\n",
    "    # return (len(set(bought_list) & set(recommended_list[:k])) > 0) * 1"
   ]
  },
  {
   "cell_type": "code",
   "execution_count": 9,
   "metadata": {},
   "outputs": [
    {
     "data": {
      "text/plain": [
       "array([False,  True,  True, False,  True])"
      ]
     },
     "execution_count": 9,
     "metadata": {},
     "output_type": "execute_result"
    }
   ],
   "source": [
    "np.isin(recommends[10][:5], boughts[10])"
   ]
  },
  {
   "cell_type": "code",
   "execution_count": 10,
   "metadata": {},
   "outputs": [
    {
     "name": "stdout",
     "output_type": "stream",
     "text": [
      "Hit rate@k value (k=5): 1\n"
     ]
    }
   ],
   "source": [
    "# check\n",
    "user = 0\n",
    "val = hit_rate_at_k(recommends[user], boughts[user], 5)\n",
    "print(f'Hit rate@k value (k=5): {val}')"
   ]
  },
  {
   "cell_type": "code",
   "execution_count": 11,
   "metadata": {},
   "outputs": [
    {
     "name": "stdout",
     "output_type": "stream",
     "text": [
      "Hit rate@k value (k=5): 1\n"
     ]
    }
   ],
   "source": [
    "# также можно в hit_rate() как recommended_list передавать нужный slice:\n",
    "user = 0\n",
    "val = hit_rate(recommends[user][:5], boughts[user])\n",
    "print(f'Hit rate@k value (k=5): {val}')"
   ]
  },
  {
   "cell_type": "markdown",
   "metadata": {},
   "source": [
    "### 2. money precision at k"
   ]
  },
  {
   "cell_type": "code",
   "execution_count": 12,
   "metadata": {},
   "outputs": [],
   "source": [
    "def money_precision_at_k(recommended_list, bought_list, prices_recommended, k=5):\n",
    "    \"\"\" Доля дохода по рекомендованным объектам\n",
    "    :param recommended_list - список id рекомендаций\n",
    "    :param bought_list - список id покупок\n",
    "    :param prices_recommended - список цен для рекомендаций\n",
    "    \"\"\"\n",
    "    flags = np.isin(recommended_list[:k], bought_list)\n",
    "    prices = np.array(prices_recommended[:k])\n",
    "    return flags @ prices / prices.sum()"
   ]
  },
  {
   "cell_type": "code",
   "execution_count": 13,
   "metadata": {},
   "outputs": [
    {
     "data": {
      "text/plain": [
       "0.6854211885678256"
      ]
     },
     "execution_count": 13,
     "metadata": {},
     "output_type": "execute_result"
    }
   ],
   "source": [
    "# check\n",
    "user = 10\n",
    "money_precision_at_k(recommends[user], boughts[user], rec_prices[user], k=5)"
   ]
  },
  {
   "cell_type": "code",
   "execution_count": 14,
   "metadata": {},
   "outputs": [
    {
     "data": {
      "text/plain": [
       "(array([53, 58, 67, 68, 51, 62, 63, 61, 57, 59]),\n",
       " array([58, 66, 63, 50, 57, 51, 61, 55, 56, 67, 59, 62, 52, 64, 65, 54, 60]),\n",
       " array([ 264.73, 2371.62, 1372.87, 2070.14, 1342.85, 1717.57,  829.73,\n",
       "        1370.59,  496.31, 1623.74]))"
      ]
     },
     "execution_count": 14,
     "metadata": {},
     "output_type": "execute_result"
    }
   ],
   "source": [
    "recommends[user], boughts[user], rec_prices[user]"
   ]
  },
  {
   "cell_type": "markdown",
   "metadata": {},
   "source": [
    "### 3. recall at k"
   ]
  },
  {
   "cell_type": "code",
   "execution_count": 15,
   "metadata": {},
   "outputs": [],
   "source": [
    "def recall_at_k(recommended_list, bought_list, k=5):\n",
    "    \"\"\" Recall on top k items \"\"\"\n",
    "    flags = np.isin(bought_list, recommended_list[:k])\n",
    "    return flags.sum() / len(bought_list)"
   ]
  },
  {
   "cell_type": "code",
   "execution_count": 16,
   "metadata": {},
   "outputs": [
    {
     "data": {
      "text/plain": [
       "0.17647058823529413"
      ]
     },
     "execution_count": 16,
     "metadata": {},
     "output_type": "execute_result"
    }
   ],
   "source": [
    "# check\n",
    "user = 10\n",
    "recall_at_k(recommends[user], boughts[user], k=5)"
   ]
  },
  {
   "cell_type": "markdown",
   "metadata": {},
   "source": [
    "### 4. money recall at k"
   ]
  },
  {
   "cell_type": "code",
   "execution_count": 17,
   "metadata": {},
   "outputs": [],
   "source": [
    "def money_recall_at_k(recommended_list, bought_list, prices_recommended, prices_bought, k=5):\n",
    "    \"\"\" Доля дохода по релевантным рекомендованным объектам\n",
    "    :param recommended_list - список id рекомендаций\n",
    "    :param bought_list - список id покупок\n",
    "    :param prices_recommended - список цен для рекомендаций\n",
    "    :param prices_bought - список цен покупок\n",
    "    \"\"\"\n",
    "    flags = np.isin(recommended_list[:k], bought_list)      # get recommend to bought matches\n",
    "    prices = np.array(prices_recommended[:k])               # get prices of recommended items\n",
    "    return flags @ prices / np.sum(prices_bought)"
   ]
  },
  {
   "cell_type": "code",
   "execution_count": 18,
   "metadata": {},
   "outputs": [
    {
     "data": {
      "text/plain": [
       "0.23424252219100425"
      ]
     },
     "execution_count": 18,
     "metadata": {},
     "output_type": "execute_result"
    }
   ],
   "source": [
    "# check\n",
    "user = 10\n",
    "money_recall_at_k(recommends[user], boughts[user], rec_prices[user], b_prices[user], k=5)"
   ]
  },
  {
   "cell_type": "markdown",
   "metadata": {},
   "source": [
    "### 5. map at k"
   ]
  },
  {
   "cell_type": "code",
   "execution_count": 19,
   "metadata": {},
   "outputs": [],
   "source": [
    "def precision_at_k(recommended_list, bought_list, k=5):\n",
    "    flags = np.isin(bought_list, recommended_list[:k])\n",
    "    return flags.sum() / k\n",
    "\n",
    "def ap_k(recommended_list, bought_list, k=5):\n",
    "    # переработано\n",
    "    flags = np.isin(recommended_list, bought_list)\n",
    "    if sum(flags) == 0:\n",
    "        return 0\n",
    "\n",
    "    sum_ = 0\n",
    "    for i in range(0, k-1):\n",
    "        if flags[i]:\n",
    "            sum_ += precision_at_k(recommended_list, bought_list, k=i+1)\n",
    "    result = sum_ / flags.sum()\n",
    "    return result\n",
    "\n",
    "    # func = partial(precision_at_k, recommended_list, bought_list)\n",
    "    # rel_items = np.arange(1, k + 1)[flags[:k]]                  # получаем номера релевантных объектов\n",
    "    # return np.sum(list(map(func, rel_items))) / flags.sum()     # считаем avg precision@k для этих объектов"
   ]
  },
  {
   "cell_type": "code",
   "execution_count": 20,
   "metadata": {},
   "outputs": [],
   "source": [
    "# v1\n",
    "def map_k_v1(recommended_list, bought_list, k=5, u=1, w=None):\n",
    "    \"\"\" Среднее AP@k по u пользователям \"\"\"\n",
    "    apk = []\n",
    "    w = w if w is not None else np.ones(shape=(u, ))\n",
    "    for user, user_weight in zip(range(u), w):\n",
    "        apk.append(ap_k(recommended_list[user], bought_list[user], k) * user_weight)\n",
    "    \n",
    "    return np.mean(apk)"
   ]
  },
  {
   "cell_type": "code",
   "execution_count": 21,
   "metadata": {},
   "outputs": [],
   "source": [
    "# v2\n",
    "def map_k_v2(recommended_list, bought_list, k=5, u=1, w=None):\n",
    "    \"\"\" Среднее AP@k по u пользователям \"\"\"\n",
    "    func = partial(ap_k, k=k)\n",
    "    weights = w if w is not None else np.ones(shape=(u, ))\n",
    "    apk = np.array(list(map(func, recommended_list[:u], bought_list[:u]))) * weights\n",
    "    return apk.mean()"
   ]
  },
  {
   "cell_type": "code",
   "execution_count": 22,
   "metadata": {},
   "outputs": [
    {
     "name": "stdout",
     "output_type": "stream",
     "text": [
      "CPU times: user 4.33 ms, sys: 4.15 ms, total: 8.49 ms\n",
      "Wall time: 7.08 ms\n"
     ]
    },
    {
     "data": {
      "text/plain": [
       "0.35443373015873014"
      ]
     },
     "execution_count": 22,
     "metadata": {},
     "output_type": "execute_result"
    }
   ],
   "source": [
    "%%time\n",
    "# check\n",
    "map_k_v1(recommends, boughts, u=50, k=6)"
   ]
  },
  {
   "cell_type": "code",
   "execution_count": 23,
   "metadata": {},
   "outputs": [
    {
     "name": "stdout",
     "output_type": "stream",
     "text": [
      "CPU times: user 7.79 ms, sys: 0 ns, total: 7.79 ms\n",
      "Wall time: 6.61 ms\n"
     ]
    },
    {
     "data": {
      "text/plain": [
       "0.35443373015873014"
      ]
     },
     "execution_count": 23,
     "metadata": {},
     "output_type": "execute_result"
    }
   ],
   "source": [
    "%%time\n",
    "# check\n",
    "map_k_v2(recommends, boughts, u=50, k=6)"
   ]
  },
  {
   "cell_type": "markdown",
   "metadata": {},
   "source": [
    "### 6. mean reciprocal rank"
   ]
  },
  {
   "cell_type": "markdown",
   "metadata": {},
   "source": [
    "Mean Reciprocal Rank\n",
    "\n",
    "- Считаем для первых k рекоммендаций\n",
    "- Найти ранк первого релевантного предсказания $k_u$\n",
    "- Посчитать reciprocal rank = $\\frac{1}{k_u}$\n",
    "\n",
    "$$MRR = mean(\\frac{1}{k_u})$$"
   ]
  },
  {
   "cell_type": "code",
   "execution_count": 24,
   "metadata": {},
   "outputs": [],
   "source": [
    "def reciprocal_rank(recommended_list, bought_list, n=1, k=5):    \n",
    "    \"\"\" обратный ранг n релевантных рекомендаций среди первых k рекомендаций\n",
    "    Это не совсем канонический reciprocal rank, но при n=1 должен работать как принято\n",
    "    \n",
    "    :param recommended_list - список рекомендаций\n",
    "    :param bought_list - список покупок\n",
    "    :param n - учитывать первые n релевантных рекомендаций\n",
    "    :param k - искать релевантные среди первых k рекомендаций\n",
    "    \"\"\"\n",
    "    flags = np.isin(recommended_list[:k], bought_list)\n",
    "    ranks = np.arange(1, k + 1)[flags][:n]      # ранги первых n рекомендаций из первых k. равен 0 если рекомендация нерелевантна\n",
    "    ideal_ranks = np.arange(1, n + 1)\n",
    "    return (1 / ranks).sum() / (1 / ideal_ranks).sum() if flags.any() else 0"
   ]
  },
  {
   "cell_type": "code",
   "execution_count": 25,
   "metadata": {},
   "outputs": [
    {
     "data": {
      "text/plain": [
       "(0.5, 0.4525547445255474)"
      ]
     },
     "execution_count": 25,
     "metadata": {},
     "output_type": "execute_result"
    }
   ],
   "source": [
    "# check\n",
    "user = 10\n",
    "a = reciprocal_rank(recommends[user], boughts[user], n=1, k=5)\n",
    "b = reciprocal_rank(recommends[user], boughts[user], n=5, k=5)\n",
    "a, b"
   ]
  },
  {
   "cell_type": "code",
   "execution_count": 26,
   "metadata": {},
   "outputs": [
    {
     "data": {
      "text/plain": [
       "(array([53, 58, 67, 68, 51, 62, 63, 61, 57, 59]),\n",
       " [50, 51, 52, 54, 55, 56, 57, 58, 59, 60, 61, 62, 63, 64, 65, 66, 67])"
      ]
     },
     "execution_count": 26,
     "metadata": {},
     "output_type": "execute_result"
    }
   ],
   "source": [
    "recommends[user], sorted(boughts[user])"
   ]
  },
  {
   "cell_type": "code",
   "execution_count": 27,
   "metadata": {},
   "outputs": [],
   "source": [
    "def mean_reciprocal_rank_v1(recommended_list, bought_list, n=1, k=5):\n",
    "    \"\"\" Среднеобратный ранг \"\"\"\n",
    "    ranks = []\n",
    "    for data in zip(recommended_list, bought_list):\n",
    "        ranks.append(reciprocal_rank(*data, k=k, n=n))\n",
    "    return np.mean(ranks)"
   ]
  },
  {
   "cell_type": "code",
   "execution_count": 28,
   "metadata": {},
   "outputs": [],
   "source": [
    "def mean_reciprocal_rank_v2(recommended_list, bought_list, n=1, k=5):\n",
    "    \"\"\" Среднеобратный ранг - без for-loop \"\"\"\n",
    "    func = partial(reciprocal_rank, n=n, k=k)\n",
    "    ranks = list(map(func, recommended_list, bought_list))\n",
    "    return np.mean(ranks)"
   ]
  },
  {
   "cell_type": "code",
   "execution_count": 29,
   "metadata": {},
   "outputs": [
    {
     "name": "stdout",
     "output_type": "stream",
     "text": [
      "CPU times: user 7.2 ms, sys: 0 ns, total: 7.2 ms\n",
      "Wall time: 6.23 ms\n"
     ]
    },
    {
     "data": {
      "text/plain": [
       "0.6926666666666667"
      ]
     },
     "execution_count": 29,
     "metadata": {},
     "output_type": "execute_result"
    }
   ],
   "source": [
    "%%time\n",
    "# check\n",
    "mean_reciprocal_rank_v1(recommends, boughts, n=1, k=5)"
   ]
  },
  {
   "cell_type": "code",
   "execution_count": 30,
   "metadata": {},
   "outputs": [
    {
     "name": "stdout",
     "output_type": "stream",
     "text": [
      "CPU times: user 10.2 ms, sys: 681 µs, total: 10.9 ms\n",
      "Wall time: 9.09 ms\n"
     ]
    },
    {
     "data": {
      "text/plain": [
       "0.6926666666666667"
      ]
     },
     "execution_count": 30,
     "metadata": {},
     "output_type": "execute_result"
    }
   ],
   "source": [
    "%%time\n",
    "# check\n",
    "mean_reciprocal_rank_v2(recommends, boughts, n=1, k=5)"
   ]
  },
  {
   "cell_type": "markdown",
   "metadata": {},
   "source": [
    "### 7. NDCG@k"
   ]
  },
  {
   "cell_type": "code",
   "execution_count": 31,
   "metadata": {},
   "outputs": [
    {
     "data": {
      "text/plain": [
       "(tensor([0, 3, 4, 2, 2]), tensor([0.3418, 0.3887, 0.5124, 0.8961, 0.3233]))"
      ]
     },
     "execution_count": 31,
     "metadata": {},
     "output_type": "execute_result"
    }
   ],
   "source": [
    "N = 5\n",
    "\n",
    "torch.random.manual_seed(29)\n",
    "ys_true = torch.randint(0, 5, size=(N, ))\n",
    "ys_pred = torch.rand(N)\n",
    "\n",
    "# rnd = np.random.default_rng(77)\n",
    "# ys_true = rnd.integers(5, size=N)\n",
    "# ys_pred = rnd.random(size=N)\n",
    "\n",
    "ys_true, ys_pred\n"
   ]
  },
  {
   "cell_type": "code",
   "execution_count": 32,
   "metadata": {},
   "outputs": [],
   "source": [
    "# def cumulative_gain(y_true, y_pred, k=3) -> float:\n",
    "#     \"\"\" Cumulative gain at k \"\"\"\n",
    "#     _, argsort = torch.sort(y_pred, descending=True, dim=0)\n",
    "#     return float(y_true[argsort[:k]].sum())\n",
    "\n",
    "# # check\n",
    "# cumulative_gain(ys_true, ys_pred, k=3)"
   ]
  },
  {
   "cell_type": "code",
   "execution_count": 33,
   "metadata": {},
   "outputs": [],
   "source": [
    "def compute_gain(y_value, gain_scheme: str):\n",
    "    # vectorized\n",
    "    if gain_scheme == \"exp2\":\n",
    "        gain = 2 ** y_value - 1\n",
    "    elif gain_scheme == \"const\":\n",
    "        gain = y_value\n",
    "    else:\n",
    "        raise ValueError(f\"{gain_scheme} method not supported, only exp2 and const.\")\n",
    "    return gain"
   ]
  },
  {
   "cell_type": "code",
   "execution_count": 34,
   "metadata": {},
   "outputs": [],
   "source": [
    "def dcg(ys_pred, ys_true, gain_scheme: str = 'const', k=3) -> float:\n",
    "    \"\"\" Discounted Cumulative Gain at K \"\"\"\n",
    "    # argsort = np.argsort(np.array(ys_pred))[::-1]   # sort @k with numpy\n",
    "    _, argsort = torch.sort(ys_pred, descending=True, dim=0)      # the same with torch\n",
    "    ys_true_sorted = ys_true[argsort[:k]]\n",
    "\n",
    "    gains = compute_gain(ys_true_sorted, gain_scheme)\n",
    "    log_weights = np.log2(np.arange(k) + 2)\n",
    "    return float((gains / log_weights).sum())\n",
    "\n",
    "    # ret = 0\n",
    "    # for idx, cur_y in enumerate(ys_true_sorted, 1):\n",
    "    #     gain = compute_gain(cur_y, gain_scheme)\n",
    "    #     ret += gain / (np.log2(idx + 1))\n",
    "    # return float(ret)\n"
   ]
  },
  {
   "cell_type": "code",
   "execution_count": 35,
   "metadata": {},
   "outputs": [
    {
     "name": "stdout",
     "output_type": "stream",
     "text": [
      "6.892789260714372 6.892789260714372\n",
      "20.916508275000204 20.916508275000204\n"
     ]
    }
   ],
   "source": [
    "def idcg(ys_true, gain_scheme: str = 'const', k=3) -> float:\n",
    "    \"\"\" Ideal DCG at K \"\"\"\n",
    "    y_true_sorted, _ = torch.sort(ys_true, descending=True, dim=0)\n",
    "    gains = compute_gain(y_true_sorted[:k], gain_scheme)        \n",
    "    log_weights = np.log2(np.arange(k) + 2)\n",
    "    return float((gains / log_weights).sum())\n",
    "\n",
    "# эта функция не обязательна - она 1 в 1 повторяет dcg(), а значит, можно использовать его:\n",
    "print(idcg(ys_true, 'const', k=3), dcg(ys_true, ys_true, 'const', k=3))\n",
    "print(idcg(ys_true, 'exp2', k=3), dcg(ys_true, ys_true, 'exp2', k=3))"
   ]
  },
  {
   "cell_type": "code",
   "execution_count": 36,
   "metadata": {},
   "outputs": [],
   "source": [
    "def ndcg(ys_pred, ys_true, gain_scheme: str = 'const', k=3) -> float:\n",
    "    \"\"\" Normalized Discounted Cumulative Gain at K \"\"\"\n",
    "    pred_dcg = dcg(ys_pred, ys_true, gain_scheme, k)\n",
    "    ideal_dcg = dcg(ys_true, ys_true, gain_scheme, k)\n",
    "    return pred_dcg / ideal_dcg"
   ]
  },
  {
   "cell_type": "code",
   "execution_count": 38,
   "metadata": {},
   "outputs": [
    {
     "data": {
      "text/plain": [
       "(0.8739160282497203, 0.7632223358547978)"
      ]
     },
     "execution_count": 38,
     "metadata": {},
     "output_type": "execute_result"
    }
   ],
   "source": [
    "ndcg(ys_pred, ys_true, 'const', k=3), ndcg(ys_pred, ys_true, 'exp2', k=3)"
   ]
  },
  {
   "cell_type": "markdown",
   "metadata": {},
   "source": [
    "### useful links"
   ]
  },
  {
   "cell_type": "markdown",
   "metadata": {},
   "source": [
    "1. https://habr.com/ru/company/econtenta/blog/303458/"
   ]
  }
 ],
 "metadata": {
  "interpreter": {
   "hash": "40d999a3f5d20664f74b9ce50066441fa615ebe9eef995a653e46af4291d58b2"
  },
  "kernelspec": {
   "display_name": "Python 3 (ipykernel)",
   "language": "python",
   "name": "python3"
  },
  "language_info": {
   "codemirror_mode": {
    "name": "ipython",
    "version": 3
   },
   "file_extension": ".py",
   "mimetype": "text/x-python",
   "name": "python",
   "nbconvert_exporter": "python",
   "pygments_lexer": "ipython3",
   "version": "3.9.5"
  }
 },
 "nbformat": 4,
 "nbformat_minor": 2
}